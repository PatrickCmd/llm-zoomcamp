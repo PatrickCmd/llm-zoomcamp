{
  "cells": [
    {
      "cell_type": "markdown",
      "id": "45b98f11",
      "metadata": {
        "id": "45b98f11"
      },
      "source": [
        "# Keyword Search"
      ]
    },
    {
      "cell_type": "markdown",
      "id": "06335224",
      "metadata": {
        "id": "06335224"
      },
      "source": [
        "## Setup\n",
        "\n",
        "Load needed API keys and relevant Python libaries."
      ]
    },
    {
      "cell_type": "code",
      "execution_count": 1,
      "id": "c54004a6",
      "metadata": {
        "height": 47,
        "id": "c54004a6"
      },
      "outputs": [],
      "source": [
        "%%capture\n",
        "!pip install cohere\n",
        "!pip install \"weaviate-client==3.*\"\n",
        "!pip install python-dotenv"
      ]
    },
    {
      "cell_type": "code",
      "execution_count": 3,
      "id": "45ff94ae-8603-431a-acee-0ec3a39a1056",
      "metadata": {
        "height": 64,
        "id": "45ff94ae-8603-431a-acee-0ec3a39a1056"
      },
      "outputs": [],
      "source": [
        "import os\n",
        "import getpass\n",
        "from dotenv import load_dotenv, find_dotenv\n",
        "_ = load_dotenv(find_dotenv()) # read local .env file"
      ]
    },
    {
      "cell_type": "code",
      "source": [
        "def _set_env(var: str):\n",
        "    if not os.environ.get(var):\n",
        "        os.environ[var] = getpass.getpass(f\"{var}: \")"
      ],
      "metadata": {
        "id": "fHamHVnZoZfN"
      },
      "id": "fHamHVnZoZfN",
      "execution_count": 4,
      "outputs": []
    },
    {
      "cell_type": "code",
      "source": [
        "_set_env(\"WEAVIATE_API_KEY\")\n",
        "_set_env(\"COHERE_API_KEY\")\n",
        "os.environ['WEAVIATE_API_URL'] = \"https://cohere-demo.weaviate.network/\""
      ],
      "metadata": {
        "colab": {
          "base_uri": "https://localhost:8080/"
        },
        "id": "cLkrhVqOo5lA",
        "outputId": "2a263ea3-341c-4ae1-a28e-d13466a771c3"
      },
      "id": "cLkrhVqOo5lA",
      "execution_count": 5,
      "outputs": [
        {
          "name": "stdout",
          "output_type": "stream",
          "text": [
            "WEAVIATE_API_KEY: ··········\n",
            "COHERE_API_KEY: ··········\n"
          ]
        }
      ]
    },
    {
      "cell_type": "markdown",
      "id": "c23677b6",
      "metadata": {
        "id": "c23677b6"
      },
      "source": [
        "Let's start by imporing Weaviate to access the Wikipedia database."
      ]
    },
    {
      "cell_type": "code",
      "execution_count": 6,
      "id": "f44886bf-f8cf-4f90-83ae-2299ec448e16",
      "metadata": {
        "height": 98,
        "id": "f44886bf-f8cf-4f90-83ae-2299ec448e16"
      },
      "outputs": [],
      "source": [
        "import weaviate\n",
        "auth_config = weaviate.auth.AuthApiKey(\n",
        "    api_key=os.environ['WEAVIATE_API_KEY'])\n",
        "\n"
      ]
    },
    {
      "cell_type": "code",
      "execution_count": 7,
      "id": "750583ec-7263-4927-b484-9818fba3318b",
      "metadata": {
        "height": 132,
        "id": "750583ec-7263-4927-b484-9818fba3318b"
      },
      "outputs": [],
      "source": [
        "client = weaviate.Client(\n",
        "    url=os.environ['WEAVIATE_API_URL'],\n",
        "    auth_client_secret=auth_config,\n",
        "    additional_headers={\n",
        "        \"X-Cohere-Api-Key\": os.environ['COHERE_API_KEY'],\n",
        "    }\n",
        ")"
      ]
    },
    {
      "cell_type": "code",
      "execution_count": 8,
      "id": "2efcdfdc-1566-4046-95d8-f9f2f3a36088",
      "metadata": {
        "height": 30,
        "colab": {
          "base_uri": "https://localhost:8080/"
        },
        "id": "2efcdfdc-1566-4046-95d8-f9f2f3a36088",
        "outputId": "e906a2db-c146-4420-93c0-23e3db73967e"
      },
      "outputs": [
        {
          "output_type": "execute_result",
          "data": {
            "text/plain": [
              "True"
            ]
          },
          "metadata": {},
          "execution_count": 8
        }
      ],
      "source": [
        "client.is_ready()"
      ]
    },
    {
      "cell_type": "markdown",
      "id": "78acc1ed",
      "metadata": {
        "id": "78acc1ed"
      },
      "source": [
        "# Keyword Search"
      ]
    },
    {
      "cell_type": "code",
      "execution_count": 9,
      "id": "017cd922-c729-4aa7-8696-d11d28eb7288",
      "metadata": {
        "height": 404,
        "id": "017cd922-c729-4aa7-8696-d11d28eb7288"
      },
      "outputs": [],
      "source": [
        "def keyword_search(query,\n",
        "                   results_lang='en',\n",
        "                   properties = [\"title\",\"url\",\"text\"],\n",
        "                   num_results=3):\n",
        "\n",
        "    where_filter = {\n",
        "    \"path\": [\"lang\"],\n",
        "    \"operator\": \"Equal\",\n",
        "    \"valueString\": results_lang\n",
        "    }\n",
        "\n",
        "    response = (\n",
        "        client.query.get(\"Articles\", properties)\n",
        "        .with_bm25(\n",
        "            query=query\n",
        "        )\n",
        "        .with_where(where_filter)\n",
        "        .with_limit(num_results)\n",
        "        .do()\n",
        "        )\n",
        "\n",
        "    result = response['data']['Get']['Articles']\n",
        "    return result"
      ]
    },
    {
      "cell_type": "code",
      "execution_count": 10,
      "id": "5a9e70d9-326f-443c-915a-5a97c0dfe54b",
      "metadata": {
        "collapsed": true,
        "height": 64,
        "jupyter": {
          "outputs_hidden": true
        },
        "colab": {
          "base_uri": "https://localhost:8080/"
        },
        "id": "5a9e70d9-326f-443c-915a-5a97c0dfe54b",
        "outputId": "3bfb0317-cd0d-49c5-d304-2e11d869fe09"
      },
      "outputs": [
        {
          "output_type": "stream",
          "name": "stdout",
          "text": [
            "[{'text': 'The most active Gamergate supporters or \"Gamergaters\" said that Gamergate was a movement for ethics in games journalism, for protecting the \"gamer\" identity, and for opposing \"political correctness\" in video games and that any harassment of women was done by others not affiliated with Gamergate. They argued that the close relationships between journalists and developers demonstrated a conspiracy among reviewers to focus on progressive social issues. Some supporters pointed to what they considered disproportionate praise for games such as \"Depression Quest\" and \"Gone Home\", which feature unconventional gameplay and stories with social implications, while they viewed traditional AAA games as downplayed. False claims of the \"ethics in game journalism\" had started as early as 2012, when Geoff Keighley was accused of such unethical behavior when he was presenting information about \"Halo 4\" among advertisements for Mountain Dew and Doritos, an event called \"Doritosgate\" in the gamer culture.', 'title': 'Gamergate (harassment campaign)', 'url': 'https://en.wikipedia.org/wiki?curid=43758363'}, {'text': '\"Rolling Stone\" stated Jackson\\'s Super Bowl performance \"is far and away the most famous moment in the history of the Super Bowl halftime show\". \"PopCrush\" called the performance \"one of the most shocking moments in pop culture\" as well as a \"totally unexpected and unforgettable moment\". \"Gawker\" ranked the performance among the most recent of the \"10 Shows that Advanced Sex on Television\", commenting the set \"had all the elements of a huge story\" and \"within seconds the world searched furtively for pictures\", concluding \"it remains so ubiquitous, it\\'s impossible to look at a starburst nipple shield without thinking \"Janet Jackson\"\". \"E! Online\" ranked it among the top ten most shocking celebrity moments of the prior two decades. A study of television\\'s most impactful moments of the last 50 years conducted by Sony Electronics and the Nielsen Television Research Company ranked Jackson\\'s Super Bowl performance at #26. The incident was the only Super Bowl event on the list and the highest music and entertainment event aside from the death of Whitney Houston. TV Guide Network ranked it at #2 in a 2010 special listing the \"25 Biggest TV Blunders\". \"Complex\" stated \"It\\'s the Citizen Kane of televised nip-slips—so unexpected, and on such a large stage, that nothing else will ever come close. If Beyoncé were to whip out both breasts and put on a puppet show with them when she performs this year in New Orleans, it would rate as just the second most shocking Super Boob display. Janet\\'s strangely ornamented right nipple is a living legend, and so is Justin Timberlake\\'s terrified reaction.\" Music channel Fuse listed it as the most controversial Super Bowl halftime show, saying the \"revealing performance remains (and will forever remain) the craziest thing to ever happen at a halftime show. Almost immediately after the incident, the FCC received a flood of complaints from parents who just wanted their children to enjoy a nice, wholesome three hours of grown men inflicting damaging and long-lasting pain on each other for sport. Halftime shows would never be the same.\" Patrick Gipson of \"Bleacher Report\" ranked it as #1 in its list of the most \"Jaw Dropping Moments of the Last Decade\", stating Janet \"changed the landscape of live television forever\". Gipson explained \"It prompted a million mothers to cover their eyes, fathers and sons to jump out of their seats in shock and numerous sanctions by the Federal Communications Commission, including a US$550,000 fine against CBS. Talk about a halftime show that will be hard to top.\" The incident was also declared \"the most memorable Super Bowl halftime show in history\", as well as \"the most controversial\", adding \"you can\\'t talk about this halftime show, or any subsequent halftime show from here to eternity, without mentioning the wardrobe malfunction\".', 'title': 'Super Bowl XXXVIII halftime show controversy', 'url': 'https://en.wikipedia.org/wiki?curid=498971'}, {'text': 'West Germany (established in May 1949) was not eligible for the 1950 World Cup (the first after the war), and so all preparations were made with a view toward the 1954 matches in Bern, Switzerland. By that time Adidas\\'s football boots were considerably lighter than the ones made before the war, based on English designs. At the World Cup Adi had a secret weapon, which he revealed when West Germany made the finals against the overwhelmingly favored Hungarian team, which was undefeated since May 1950 and had defeated West Germany 8–3 in group play. Despite this defeat, West Germany made the knock-out rounds by twice defeating Turkey handily. The team defeated Yugoslavia and Austria to reach the final (a remarkable achievement), where the hope of many German fans was simply that the team \"avoid another humiliating defeat\" at the hands of the Hungarians. The day of the final began with light rain, which brightened the prospects of the West German team who called it \"\"Fritz Walter-Wetter\"\" because the team\\'s best player excelled in muddy conditions. Dassler informed Herberger before the match of his latest innovation—\"screw in studs.\" Unlike the traditional boot which had fixed leather spike studs, Dassler\\'s shoe allowed spikes of various lengths to be affixed depending on the state of the pitch. As the playing field at Wankdorf Stadium drastically deteriorated, Herberger famously announced, \"Adi, screw them on.\" The longer spikes improved the footing of West German players compared to the Hungarians whose mud-caked boots were also much heavier. The West Germans staged a come from behind upset, winning 3-2, in what became known as the \"Miracle in Bern.\" Herberger publicly praised Dassler as a key contributor to the win, and Adidas\\'s fame rose both in West Germany, where the win was considered a key post-war event in restoring German self-esteem and abroad, where in the first televised World Cup final viewers were introduced to \"the ultimate breakthrough.\"', 'title': 'Adolf Dassler', 'url': 'https://en.wikipedia.org/wiki?curid=2373164'}]\n"
          ]
        }
      ],
      "source": [
        "query = \"What is the most viewed televised event?\"\n",
        "keyword_search_results = keyword_search(query)\n",
        "print(keyword_search_results)"
      ]
    },
    {
      "cell_type": "code",
      "source": [
        "keyword_search_results"
      ],
      "metadata": {
        "colab": {
          "base_uri": "https://localhost:8080/"
        },
        "id": "4GsDz0TNt8iZ",
        "outputId": "052fc712-6cf1-4f9f-9cf4-a23aee8f674d"
      },
      "id": "4GsDz0TNt8iZ",
      "execution_count": 11,
      "outputs": [
        {
          "output_type": "execute_result",
          "data": {
            "text/plain": [
              "[{'text': 'The most active Gamergate supporters or \"Gamergaters\" said that Gamergate was a movement for ethics in games journalism, for protecting the \"gamer\" identity, and for opposing \"political correctness\" in video games and that any harassment of women was done by others not affiliated with Gamergate. They argued that the close relationships between journalists and developers demonstrated a conspiracy among reviewers to focus on progressive social issues. Some supporters pointed to what they considered disproportionate praise for games such as \"Depression Quest\" and \"Gone Home\", which feature unconventional gameplay and stories with social implications, while they viewed traditional AAA games as downplayed. False claims of the \"ethics in game journalism\" had started as early as 2012, when Geoff Keighley was accused of such unethical behavior when he was presenting information about \"Halo 4\" among advertisements for Mountain Dew and Doritos, an event called \"Doritosgate\" in the gamer culture.',\n",
              "  'title': 'Gamergate (harassment campaign)',\n",
              "  'url': 'https://en.wikipedia.org/wiki?curid=43758363'},\n",
              " {'text': '\"Rolling Stone\" stated Jackson\\'s Super Bowl performance \"is far and away the most famous moment in the history of the Super Bowl halftime show\". \"PopCrush\" called the performance \"one of the most shocking moments in pop culture\" as well as a \"totally unexpected and unforgettable moment\". \"Gawker\" ranked the performance among the most recent of the \"10 Shows that Advanced Sex on Television\", commenting the set \"had all the elements of a huge story\" and \"within seconds the world searched furtively for pictures\", concluding \"it remains so ubiquitous, it\\'s impossible to look at a starburst nipple shield without thinking \"Janet Jackson\"\". \"E! Online\" ranked it among the top ten most shocking celebrity moments of the prior two decades. A study of television\\'s most impactful moments of the last 50 years conducted by Sony Electronics and the Nielsen Television Research Company ranked Jackson\\'s Super Bowl performance at #26. The incident was the only Super Bowl event on the list and the highest music and entertainment event aside from the death of Whitney Houston. TV Guide Network ranked it at #2 in a 2010 special listing the \"25 Biggest TV Blunders\". \"Complex\" stated \"It\\'s the Citizen Kane of televised nip-slips—so unexpected, and on such a large stage, that nothing else will ever come close. If Beyoncé were to whip out both breasts and put on a puppet show with them when she performs this year in New Orleans, it would rate as just the second most shocking Super Boob display. Janet\\'s strangely ornamented right nipple is a living legend, and so is Justin Timberlake\\'s terrified reaction.\" Music channel Fuse listed it as the most controversial Super Bowl halftime show, saying the \"revealing performance remains (and will forever remain) the craziest thing to ever happen at a halftime show. Almost immediately after the incident, the FCC received a flood of complaints from parents who just wanted their children to enjoy a nice, wholesome three hours of grown men inflicting damaging and long-lasting pain on each other for sport. Halftime shows would never be the same.\" Patrick Gipson of \"Bleacher Report\" ranked it as #1 in its list of the most \"Jaw Dropping Moments of the Last Decade\", stating Janet \"changed the landscape of live television forever\". Gipson explained \"It prompted a million mothers to cover their eyes, fathers and sons to jump out of their seats in shock and numerous sanctions by the Federal Communications Commission, including a US$550,000 fine against CBS. Talk about a halftime show that will be hard to top.\" The incident was also declared \"the most memorable Super Bowl halftime show in history\", as well as \"the most controversial\", adding \"you can\\'t talk about this halftime show, or any subsequent halftime show from here to eternity, without mentioning the wardrobe malfunction\".',\n",
              "  'title': 'Super Bowl XXXVIII halftime show controversy',\n",
              "  'url': 'https://en.wikipedia.org/wiki?curid=498971'},\n",
              " {'text': 'West Germany (established in May 1949) was not eligible for the 1950 World Cup (the first after the war), and so all preparations were made with a view toward the 1954 matches in Bern, Switzerland. By that time Adidas\\'s football boots were considerably lighter than the ones made before the war, based on English designs. At the World Cup Adi had a secret weapon, which he revealed when West Germany made the finals against the overwhelmingly favored Hungarian team, which was undefeated since May 1950 and had defeated West Germany 8–3 in group play. Despite this defeat, West Germany made the knock-out rounds by twice defeating Turkey handily. The team defeated Yugoslavia and Austria to reach the final (a remarkable achievement), where the hope of many German fans was simply that the team \"avoid another humiliating defeat\" at the hands of the Hungarians. The day of the final began with light rain, which brightened the prospects of the West German team who called it \"\"Fritz Walter-Wetter\"\" because the team\\'s best player excelled in muddy conditions. Dassler informed Herberger before the match of his latest innovation—\"screw in studs.\" Unlike the traditional boot which had fixed leather spike studs, Dassler\\'s shoe allowed spikes of various lengths to be affixed depending on the state of the pitch. As the playing field at Wankdorf Stadium drastically deteriorated, Herberger famously announced, \"Adi, screw them on.\" The longer spikes improved the footing of West German players compared to the Hungarians whose mud-caked boots were also much heavier. The West Germans staged a come from behind upset, winning 3-2, in what became known as the \"Miracle in Bern.\" Herberger publicly praised Dassler as a key contributor to the win, and Adidas\\'s fame rose both in West Germany, where the win was considered a key post-war event in restoring German self-esteem and abroad, where in the first televised World Cup final viewers were introduced to \"the ultimate breakthrough.\"',\n",
              "  'title': 'Adolf Dassler',\n",
              "  'url': 'https://en.wikipedia.org/wiki?curid=2373164'}]"
            ]
          },
          "metadata": {},
          "execution_count": 11
        }
      ]
    },
    {
      "cell_type": "markdown",
      "id": "b15686a7",
      "metadata": {
        "id": "b15686a7"
      },
      "source": [
        "### Try modifying the search options\n",
        "- Other languages to try: `en, de, fr, es, it, ja, ar, zh, ko, hi`"
      ]
    },
    {
      "cell_type": "code",
      "execution_count": 12,
      "id": "260397fc-2799-426d-8b82-afbe9c3a126e",
      "metadata": {
        "height": 47,
        "id": "260397fc-2799-426d-8b82-afbe9c3a126e"
      },
      "outputs": [],
      "source": [
        "properties = [\"text\", \"title\", \"url\",\n",
        "             \"views\", \"lang\"]"
      ]
    },
    {
      "cell_type": "code",
      "execution_count": 13,
      "id": "2a2daa0b-dd23-4ffd-8b3d-d08b73e052b9",
      "metadata": {
        "height": 149,
        "id": "2a2daa0b-dd23-4ffd-8b3d-d08b73e052b9"
      },
      "outputs": [],
      "source": [
        "def print_result(result):\n",
        "    \"\"\" Print results with colorful formatting \"\"\"\n",
        "    for i,item in enumerate(result):\n",
        "        print(f'item {i}')\n",
        "        for key in item.keys():\n",
        "            print(f\"{key}:{item.get(key)}\")\n",
        "            print()\n",
        "        print()"
      ]
    },
    {
      "cell_type": "code",
      "execution_count": 14,
      "id": "6bdb1635-adad-411b-8059-d6b8b251fb2c",
      "metadata": {
        "collapsed": true,
        "height": 30,
        "jupyter": {
          "outputs_hidden": true
        },
        "scrolled": true,
        "colab": {
          "base_uri": "https://localhost:8080/"
        },
        "id": "6bdb1635-adad-411b-8059-d6b8b251fb2c",
        "outputId": "491eb07f-f380-4d75-ceac-2459168c1a85"
      },
      "outputs": [
        {
          "output_type": "stream",
          "name": "stdout",
          "text": [
            "item 0\n",
            "text:The most active Gamergate supporters or \"Gamergaters\" said that Gamergate was a movement for ethics in games journalism, for protecting the \"gamer\" identity, and for opposing \"political correctness\" in video games and that any harassment of women was done by others not affiliated with Gamergate. They argued that the close relationships between journalists and developers demonstrated a conspiracy among reviewers to focus on progressive social issues. Some supporters pointed to what they considered disproportionate praise for games such as \"Depression Quest\" and \"Gone Home\", which feature unconventional gameplay and stories with social implications, while they viewed traditional AAA games as downplayed. False claims of the \"ethics in game journalism\" had started as early as 2012, when Geoff Keighley was accused of such unethical behavior when he was presenting information about \"Halo 4\" among advertisements for Mountain Dew and Doritos, an event called \"Doritosgate\" in the gamer culture.\n",
            "\n",
            "title:Gamergate (harassment campaign)\n",
            "\n",
            "url:https://en.wikipedia.org/wiki?curid=43758363\n",
            "\n",
            "\n",
            "item 1\n",
            "text:\"Rolling Stone\" stated Jackson's Super Bowl performance \"is far and away the most famous moment in the history of the Super Bowl halftime show\". \"PopCrush\" called the performance \"one of the most shocking moments in pop culture\" as well as a \"totally unexpected and unforgettable moment\". \"Gawker\" ranked the performance among the most recent of the \"10 Shows that Advanced Sex on Television\", commenting the set \"had all the elements of a huge story\" and \"within seconds the world searched furtively for pictures\", concluding \"it remains so ubiquitous, it's impossible to look at a starburst nipple shield without thinking \"Janet Jackson\"\". \"E! Online\" ranked it among the top ten most shocking celebrity moments of the prior two decades. A study of television's most impactful moments of the last 50 years conducted by Sony Electronics and the Nielsen Television Research Company ranked Jackson's Super Bowl performance at #26. The incident was the only Super Bowl event on the list and the highest music and entertainment event aside from the death of Whitney Houston. TV Guide Network ranked it at #2 in a 2010 special listing the \"25 Biggest TV Blunders\". \"Complex\" stated \"It's the Citizen Kane of televised nip-slips—so unexpected, and on such a large stage, that nothing else will ever come close. If Beyoncé were to whip out both breasts and put on a puppet show with them when she performs this year in New Orleans, it would rate as just the second most shocking Super Boob display. Janet's strangely ornamented right nipple is a living legend, and so is Justin Timberlake's terrified reaction.\" Music channel Fuse listed it as the most controversial Super Bowl halftime show, saying the \"revealing performance remains (and will forever remain) the craziest thing to ever happen at a halftime show. Almost immediately after the incident, the FCC received a flood of complaints from parents who just wanted their children to enjoy a nice, wholesome three hours of grown men inflicting damaging and long-lasting pain on each other for sport. Halftime shows would never be the same.\" Patrick Gipson of \"Bleacher Report\" ranked it as #1 in its list of the most \"Jaw Dropping Moments of the Last Decade\", stating Janet \"changed the landscape of live television forever\". Gipson explained \"It prompted a million mothers to cover their eyes, fathers and sons to jump out of their seats in shock and numerous sanctions by the Federal Communications Commission, including a US$550,000 fine against CBS. Talk about a halftime show that will be hard to top.\" The incident was also declared \"the most memorable Super Bowl halftime show in history\", as well as \"the most controversial\", adding \"you can't talk about this halftime show, or any subsequent halftime show from here to eternity, without mentioning the wardrobe malfunction\".\n",
            "\n",
            "title:Super Bowl XXXVIII halftime show controversy\n",
            "\n",
            "url:https://en.wikipedia.org/wiki?curid=498971\n",
            "\n",
            "\n",
            "item 2\n",
            "text:West Germany (established in May 1949) was not eligible for the 1950 World Cup (the first after the war), and so all preparations were made with a view toward the 1954 matches in Bern, Switzerland. By that time Adidas's football boots were considerably lighter than the ones made before the war, based on English designs. At the World Cup Adi had a secret weapon, which he revealed when West Germany made the finals against the overwhelmingly favored Hungarian team, which was undefeated since May 1950 and had defeated West Germany 8–3 in group play. Despite this defeat, West Germany made the knock-out rounds by twice defeating Turkey handily. The team defeated Yugoslavia and Austria to reach the final (a remarkable achievement), where the hope of many German fans was simply that the team \"avoid another humiliating defeat\" at the hands of the Hungarians. The day of the final began with light rain, which brightened the prospects of the West German team who called it \"\"Fritz Walter-Wetter\"\" because the team's best player excelled in muddy conditions. Dassler informed Herberger before the match of his latest innovation—\"screw in studs.\" Unlike the traditional boot which had fixed leather spike studs, Dassler's shoe allowed spikes of various lengths to be affixed depending on the state of the pitch. As the playing field at Wankdorf Stadium drastically deteriorated, Herberger famously announced, \"Adi, screw them on.\" The longer spikes improved the footing of West German players compared to the Hungarians whose mud-caked boots were also much heavier. The West Germans staged a come from behind upset, winning 3-2, in what became known as the \"Miracle in Bern.\" Herberger publicly praised Dassler as a key contributor to the win, and Adidas's fame rose both in West Germany, where the win was considered a key post-war event in restoring German self-esteem and abroad, where in the first televised World Cup final viewers were introduced to \"the ultimate breakthrough.\"\n",
            "\n",
            "title:Adolf Dassler\n",
            "\n",
            "url:https://en.wikipedia.org/wiki?curid=2373164\n",
            "\n",
            "\n"
          ]
        }
      ],
      "source": [
        "print_result(keyword_search_results)"
      ]
    },
    {
      "cell_type": "code",
      "execution_count": 15,
      "id": "2350fa0e-f896-42af-bcb1-a7577f9c9be1",
      "metadata": {
        "height": 79,
        "colab": {
          "base_uri": "https://localhost:8080/"
        },
        "id": "2350fa0e-f896-42af-bcb1-a7577f9c9be1",
        "outputId": "05da6d91-8d2c-4aef-956e-dd87e0a33085"
      },
      "outputs": [
        {
          "output_type": "stream",
          "name": "stdout",
          "text": [
            "item 0\n",
            "text:The failure of \"No Man's Sky\" promotional aspects has affected other space simulation and open world games that are based on the premise of providing a vast ranging sandbox for players, as players have become wary of the broad claims that these games might make. Novaquark, the developers of the upcoming open-world \"Dual Universe\", found themselves struggling to complete their Kickstarter funding in the months immediately after \"No Man's Sky\" release, but have recognised the need to be open and transparent to potential funders on what the game will and will not have. Fenix Fire, the developers of the space exploration game \"\", used the various question-and-answers that Sean Murray had to handle during the pre-release period to gauge what players were looking for in such games and guide development of their own game. According to a report from \"Kotaku\", BioWare had envisioned that \"\" would use procedural generation for creating a universe to explore prior to \"No Man's Sky\" announcement, and further pushed for this following the excitement for \"No Man's Sky\" once it was announced, but could not get the procedural generation to work well with the Frostbite 3 game engine, and had to scrap these plans by 2015.\n",
            "\n",
            "title:No Man's Sky\n",
            "\n",
            "url:https://en.wikipedia.org/wiki?curid=41301912\n",
            "\n",
            "\n",
            "item 1\n",
            "text:In September 2016, the Advertising Standards Authority (ASA) of the United Kingdom, following on \"several complaints\", began an investigation into the promotion of \"No Man's Sky\". The ASA has authority to require publishers to remove offending advertising materials if they are found in violation of ASA standards. In the \"No Man's Sky\" complaints directed at Hello Games and Valve, the ASA specifically evaluated materials used on the Steam store page to promote the game that demonstrate features that do not appear to be a part of the final game, but has also reviewed other official promotional outlets including the game's official YouTube channel. Several game industry lawyers, speaking to \"PC Gamer\", noted that while the ASA has successfully taken action in previous cases of false advertising, demonstrating such for a procedurally generated game of \"No Man's Sky\" scope may be difficult since it is impossible to play the entire game to prove something does not exist. The lawyers also noted that most of what Murray and other Hello Games members said outside of any official promotional channels, such as interviews or through social media, cannot be taken as part of the game's advertising, further limiting the claims that the ASA can act on. The ASA ruled in November 2016 that the Steam storepage advertising of \"No Man's Sky\" was not in breach of their standards, attributing the used footage and screenshots to be reasonable representative of the average player's experience with a procedurally generated game, and dismissed the submitted complaints; the ASA further ruled that as Valve has no control over what Hello Games included on the store page, they were not liable for the material either.\n",
            "\n",
            "title:No Man's Sky\n",
            "\n",
            "url:https://en.wikipedia.org/wiki?curid=41301912\n",
            "\n",
            "\n",
            "item 2\n",
            "text:Outside of patch notes, Hello Games had effectively gone silent on social media right after the game's release up until the announcement of the Foundation update in late November 2016. Murray, who used the Hello Games' Twitter account with some frequency before release, had not been visible online for the first two months following the game's release. In the announcement of this update, Hello Games admitted to being \"quiet\" but have been paying attention to the various criticisms levelled at the game. Schreier from \"Kotaku\" and Ben Kuchera of \"Polygon\" commented that some of the negative player reaction was due to a lack of clarification on these apparently missing features from either Hello Games or Sony in the weeks just after release, with Kuchera further stating that with the silence from either company, \"the loudest, most negative voices are shouting unopposed\" and leading to a strong negative perception of the game. Kuchera later wrote that many of the issues in the lead-up and follow-up to \"No Man's Sky\" release, whether by choice or happenstance, provide many lessons on the importance of proper public relations. Kuchera specifically pointed to the decision to withhold review copies and an apparent lack of public relations (PR) to manage statements relating to what features would be in the game. Kuchera also noted that many people had taken the hype generated by the press only to be disappointed by the final game, and that consumers did have ways to evaluate the game following its release before they purchased the title. Sony president Shuhei Yoshida admitted that Hello Games did not have \"a great PR strategy\" for \"No Man's Sky\", in part for lacking a dedicated PR staff to manage expectations, but still support the developers as they continue to patch and update the game. Jesse Signal, writing for the \"Boston Globe\" noted that some of the hype for \"No Man's Sky\" may be attributed to game journalists themselves for getting too excited about the game, positing \"Had journalists asked certain questions at certain times, perhaps it would have been more difficult for Hello Games to make promises it couldn't deliver on.\" Murray himself stated in a 2019 interview that prior to the game's release, much of their contact was with journalists who Hello Games believed understood the nature of video game development, and thus expected their statements about what \"No Man's Sky\" would be tempered to reflect the reality of Hello Games being a small team with limited time. Instead, Murray found that the press took their words for granted, and created expectations for players that they could not have met at launch. As a result, Hello Games has since shifted toward communication directly with the community rather than the press and keeping only to patch updates or near-release features to keep expectations in check.\n",
            "\n",
            "title:No Man's Sky\n",
            "\n",
            "url:https://en.wikipedia.org/wiki?curid=41301912\n",
            "\n",
            "\n"
          ]
        }
      ],
      "source": [
        "query = \"What color is the sky?\"\n",
        "keyword_search_results = keyword_search(query, results_lang='en')\n",
        "print_result(keyword_search_results)"
      ]
    },
    {
      "cell_type": "code",
      "execution_count": 16,
      "id": "99269036-ec4e-4852-85fc-19593df6e638",
      "metadata": {
        "height": 30,
        "colab": {
          "base_uri": "https://localhost:8080/"
        },
        "id": "99269036-ec4e-4852-85fc-19593df6e638",
        "outputId": "19782f48-d668-46f0-ebca-7ccd11b64983"
      },
      "outputs": [
        {
          "output_type": "execute_result",
          "data": {
            "text/plain": [
              "[{'text': 'The failure of \"No Man\\'s Sky\" promotional aspects has affected other space simulation and open world games that are based on the premise of providing a vast ranging sandbox for players, as players have become wary of the broad claims that these games might make. Novaquark, the developers of the upcoming open-world \"Dual Universe\", found themselves struggling to complete their Kickstarter funding in the months immediately after \"No Man\\'s Sky\" release, but have recognised the need to be open and transparent to potential funders on what the game will and will not have. Fenix Fire, the developers of the space exploration game \"\", used the various question-and-answers that Sean Murray had to handle during the pre-release period to gauge what players were looking for in such games and guide development of their own game. According to a report from \"Kotaku\", BioWare had envisioned that \"\" would use procedural generation for creating a universe to explore prior to \"No Man\\'s Sky\" announcement, and further pushed for this following the excitement for \"No Man\\'s Sky\" once it was announced, but could not get the procedural generation to work well with the Frostbite 3 game engine, and had to scrap these plans by 2015.',\n",
              "  'title': \"No Man's Sky\",\n",
              "  'url': 'https://en.wikipedia.org/wiki?curid=41301912'},\n",
              " {'text': 'In September 2016, the Advertising Standards Authority (ASA) of the United Kingdom, following on \"several complaints\", began an investigation into the promotion of \"No Man\\'s Sky\". The ASA has authority to require publishers to remove offending advertising materials if they are found in violation of ASA standards. In the \"No Man\\'s Sky\" complaints directed at Hello Games and Valve, the ASA specifically evaluated materials used on the Steam store page to promote the game that demonstrate features that do not appear to be a part of the final game, but has also reviewed other official promotional outlets including the game\\'s official YouTube channel. Several game industry lawyers, speaking to \"PC Gamer\", noted that while the ASA has successfully taken action in previous cases of false advertising, demonstrating such for a procedurally generated game of \"No Man\\'s Sky\" scope may be difficult since it is impossible to play the entire game to prove something does not exist. The lawyers also noted that most of what Murray and other Hello Games members said outside of any official promotional channels, such as interviews or through social media, cannot be taken as part of the game\\'s advertising, further limiting the claims that the ASA can act on. The ASA ruled in November 2016 that the Steam storepage advertising of \"No Man\\'s Sky\" was not in breach of their standards, attributing the used footage and screenshots to be reasonable representative of the average player\\'s experience with a procedurally generated game, and dismissed the submitted complaints; the ASA further ruled that as Valve has no control over what Hello Games included on the store page, they were not liable for the material either.',\n",
              "  'title': \"No Man's Sky\",\n",
              "  'url': 'https://en.wikipedia.org/wiki?curid=41301912'},\n",
              " {'text': 'Outside of patch notes, Hello Games had effectively gone silent on social media right after the game\\'s release up until the announcement of the Foundation update in late November 2016. Murray, who used the Hello Games\\' Twitter account with some frequency before release, had not been visible online for the first two months following the game\\'s release. In the announcement of this update, Hello Games admitted to being \"quiet\" but have been paying attention to the various criticisms levelled at the game. Schreier from \"Kotaku\" and Ben Kuchera of \"Polygon\" commented that some of the negative player reaction was due to a lack of clarification on these apparently missing features from either Hello Games or Sony in the weeks just after release, with Kuchera further stating that with the silence from either company, \"the loudest, most negative voices are shouting unopposed\" and leading to a strong negative perception of the game. Kuchera later wrote that many of the issues in the lead-up and follow-up to \"No Man\\'s Sky\" release, whether by choice or happenstance, provide many lessons on the importance of proper public relations. Kuchera specifically pointed to the decision to withhold review copies and an apparent lack of public relations (PR) to manage statements relating to what features would be in the game. Kuchera also noted that many people had taken the hype generated by the press only to be disappointed by the final game, and that consumers did have ways to evaluate the game following its release before they purchased the title. Sony president Shuhei Yoshida admitted that Hello Games did not have \"a great PR strategy\" for \"No Man\\'s Sky\", in part for lacking a dedicated PR staff to manage expectations, but still support the developers as they continue to patch and update the game. Jesse Signal, writing for the \"Boston Globe\" noted that some of the hype for \"No Man\\'s Sky\" may be attributed to game journalists themselves for getting too excited about the game, positing \"Had journalists asked certain questions at certain times, perhaps it would have been more difficult for Hello Games to make promises it couldn\\'t deliver on.\" Murray himself stated in a 2019 interview that prior to the game\\'s release, much of their contact was with journalists who Hello Games believed understood the nature of video game development, and thus expected their statements about what \"No Man\\'s Sky\" would be tempered to reflect the reality of Hello Games being a small team with limited time. Instead, Murray found that the press took their words for granted, and created expectations for players that they could not have met at launch. As a result, Hello Games has since shifted toward communication directly with the community rather than the press and keeping only to patch updates or near-release features to keep expectations in check.',\n",
              "  'title': \"No Man's Sky\",\n",
              "  'url': 'https://en.wikipedia.org/wiki?curid=41301912'}]"
            ]
          },
          "metadata": {},
          "execution_count": 16
        }
      ],
      "source": [
        "keyword_search_results"
      ]
    },
    {
      "cell_type": "code",
      "execution_count": null,
      "id": "64bb115e-bfe4-4d0c-99a6-a8ef980365f7",
      "metadata": {
        "height": 30,
        "id": "64bb115e-bfe4-4d0c-99a6-a8ef980365f7"
      },
      "outputs": [],
      "source": []
    },
    {
      "cell_type": "markdown",
      "id": "f40ca604-5ab7-4f35-86b1-0420842b6b6b",
      "metadata": {
        "id": "f40ca604-5ab7-4f35-86b1-0420842b6b6b"
      },
      "source": [
        "## How to get your own API key\n",
        "\n",
        "For this course, an API key is provided for you.  If you would like to develop projects with Cohere's API outside of this classroom, you can register for an API key [here](https://dashboard.cohere.ai/welcome/register?utm_source=partner&utm_medium=website&utm_campaign=DeeplearningAI)."
      ]
    }
  ],
  "metadata": {
    "kernelspec": {
      "display_name": "Python 3 (ipykernel)",
      "language": "python",
      "name": "python3"
    },
    "language_info": {
      "codemirror_mode": {
        "name": "ipython",
        "version": 3
      },
      "file_extension": ".py",
      "mimetype": "text/x-python",
      "name": "python",
      "nbconvert_exporter": "python",
      "pygments_lexer": "ipython3",
      "version": "3.9.19"
    },
    "colab": {
      "provenance": []
    }
  },
  "nbformat": 4,
  "nbformat_minor": 5
}