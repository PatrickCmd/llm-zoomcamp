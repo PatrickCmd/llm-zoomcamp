{
  "cells": [
    {
      "cell_type": "markdown",
      "id": "272e659b",
      "metadata": {
        "id": "272e659b"
      },
      "source": [
        "# Dense Retrieval"
      ]
    },
    {
      "cell_type": "markdown",
      "id": "a00e3a75",
      "metadata": {
        "id": "a00e3a75"
      },
      "source": [
        "## Setup\n",
        "\n",
        "Load needed API keys and relevant Python libaries."
      ]
    },
    {
      "cell_type": "code",
      "execution_count": 1,
      "id": "84214662",
      "metadata": {
        "height": 47,
        "id": "84214662"
      },
      "outputs": [],
      "source": [
        "%%capture\n",
        "!pip install cohere\n",
        "!pip install \"weaviate-client==3.*\" Annoy\n",
        "!pip install python-dotenv"
      ]
    },
    {
      "cell_type": "code",
      "execution_count": 2,
      "id": "e876e494-818f-439e-a1be-b50535cf09f5",
      "metadata": {
        "height": 64,
        "id": "e876e494-818f-439e-a1be-b50535cf09f5"
      },
      "outputs": [],
      "source": [
        "import os\n",
        "import getpass\n",
        "from dotenv import load_dotenv, find_dotenv\n",
        "_ = load_dotenv(find_dotenv()) # read local .env file"
      ]
    },
    {
      "cell_type": "code",
      "source": [
        "def _set_env(var: str):\n",
        "    if not os.environ.get(var):\n",
        "        os.environ[var] = getpass.getpass(f\"{var}: \")"
      ],
      "metadata": {
        "id": "MJZxbXECdwev"
      },
      "id": "MJZxbXECdwev",
      "execution_count": 3,
      "outputs": []
    },
    {
      "cell_type": "code",
      "source": [
        "_set_env(\"WEAVIATE_API_KEY\")\n",
        "_set_env(\"COHERE_API_KEY\")\n",
        "os.environ['WEAVIATE_API_URL'] = \"https://cohere-demo.weaviate.network/\""
      ],
      "metadata": {
        "colab": {
          "base_uri": "https://localhost:8080/"
        },
        "id": "zwe7BMUldxSW",
        "outputId": "8d989ec8-27ed-4100-f551-677f29867ec1"
      },
      "id": "zwe7BMUldxSW",
      "execution_count": 4,
      "outputs": [
        {
          "name": "stdout",
          "output_type": "stream",
          "text": [
            "WEAVIATE_API_KEY: ··········\n",
            "COHERE_API_KEY: ··········\n"
          ]
        }
      ]
    },
    {
      "cell_type": "code",
      "execution_count": 5,
      "id": "dc7f9f83-c295-4114-aca4-8b0ddbc64ddb",
      "metadata": {
        "height": 47,
        "id": "dc7f9f83-c295-4114-aca4-8b0ddbc64ddb"
      },
      "outputs": [],
      "source": [
        "import cohere\n",
        "co = cohere.Client(os.environ['COHERE_API_KEY'])"
      ]
    },
    {
      "cell_type": "code",
      "execution_count": 6,
      "id": "cfa7aa9f-e3e8-44d9-a4ac-461d71d8c7f4",
      "metadata": {
        "height": 64,
        "id": "cfa7aa9f-e3e8-44d9-a4ac-461d71d8c7f4"
      },
      "outputs": [],
      "source": [
        "import weaviate\n",
        "auth_config = weaviate.auth.AuthApiKey(\n",
        "    api_key=os.environ['WEAVIATE_API_KEY'])"
      ]
    },
    {
      "cell_type": "code",
      "execution_count": 7,
      "id": "d8474f81-011c-485a-9f24-827f81165fee",
      "metadata": {
        "height": 149,
        "colab": {
          "base_uri": "https://localhost:8080/"
        },
        "id": "d8474f81-011c-485a-9f24-827f81165fee",
        "outputId": "2acfbba4-2806-4a0d-efec-84d438a1b024"
      },
      "outputs": [
        {
          "output_type": "execute_result",
          "data": {
            "text/plain": [
              "True"
            ]
          },
          "metadata": {},
          "execution_count": 7
        }
      ],
      "source": [
        "client = weaviate.Client(\n",
        "    url=os.environ['WEAVIATE_API_URL'],\n",
        "    auth_client_secret=auth_config,\n",
        "    additional_headers={\n",
        "        \"X-Cohere-Api-Key\": os.environ['COHERE_API_KEY'],\n",
        "    }\n",
        ")\n",
        "client.is_ready() #check if True"
      ]
    },
    {
      "cell_type": "markdown",
      "id": "75df20b5",
      "metadata": {
        "id": "75df20b5"
      },
      "source": [
        "## Part 1: Vector Database for semantic Search"
      ]
    },
    {
      "cell_type": "code",
      "execution_count": 8,
      "id": "1a44f246-2fdb-4986-9a23-401f22825647",
      "metadata": {
        "height": 453,
        "id": "1a44f246-2fdb-4986-9a23-401f22825647"
      },
      "outputs": [],
      "source": [
        "def dense_retrieval(query,\n",
        "                    results_lang='en',\n",
        "                    properties = [\"text\", \"title\", \"url\", \"views\", \"lang\", \"_additional {distance}\"],\n",
        "                    num_results=5):\n",
        "\n",
        "    nearText = {\"concepts\": [query]}\n",
        "\n",
        "    # To filter by language\n",
        "    where_filter = {\n",
        "    \"path\": [\"lang\"],\n",
        "    \"operator\": \"Equal\",\n",
        "    \"valueString\": results_lang\n",
        "    }\n",
        "    response = (\n",
        "        client.query\n",
        "        .get(\"Articles\", properties)\n",
        "        .with_near_text(nearText)\n",
        "        .with_where(where_filter)\n",
        "        .with_limit(num_results)\n",
        "        .do()\n",
        "    )\n",
        "\n",
        "    result = response['data']['Get']['Articles']\n",
        "\n",
        "    return result"
      ]
    },
    {
      "cell_type": "code",
      "source": [
        "%%writefile utils.py\n",
        "\n",
        "def print_result(result):\n",
        "    \"\"\" Print results with colorful formatting \"\"\"\n",
        "    for i,item in enumerate(result):\n",
        "        print(f'item {i}')\n",
        "        for key in item.keys():\n",
        "            print(f\"{key}:{item.get(key)}\")\n",
        "            print()\n",
        "        print()\n",
        "\n",
        "\n",
        "### Revised version\n",
        "def keyword_search(query,\n",
        "                   client,\n",
        "                   results_lang='en',\n",
        "                   properties = [\"title\",\"url\",\"text\"],\n",
        "                   num_results=3):\n",
        "\n",
        "    where_filter = {\n",
        "    \"path\": [\"lang\"],\n",
        "    \"operator\": \"Equal\",\n",
        "    \"valueString\": results_lang\n",
        "    }\n",
        "\n",
        "    response = (\n",
        "        client.query.get(\"Articles\", properties)\n",
        "        .with_bm25(\n",
        "          query=query\n",
        "        )\n",
        "        .with_where(where_filter)\n",
        "        .with_limit(num_results)\n",
        "        .do()\n",
        "        )\n",
        "\n",
        "    result = response['data']['Get']['Articles']\n",
        "    return result"
      ],
      "metadata": {
        "colab": {
          "base_uri": "https://localhost:8080/"
        },
        "id": "oyXqfe4wecWf",
        "outputId": "b87042a2-746d-4aa0-fecf-6dd73667b6f3"
      },
      "id": "oyXqfe4wecWf",
      "execution_count": 9,
      "outputs": [
        {
          "output_type": "stream",
          "name": "stdout",
          "text": [
            "Writing utils.py\n"
          ]
        }
      ]
    },
    {
      "cell_type": "code",
      "execution_count": 10,
      "id": "3c7d2791",
      "metadata": {
        "height": 30,
        "id": "3c7d2791"
      },
      "outputs": [],
      "source": [
        "from utils import print_result"
      ]
    },
    {
      "cell_type": "markdown",
      "id": "344956dc",
      "metadata": {
        "id": "344956dc"
      },
      "source": [
        "### Bacic Query"
      ]
    },
    {
      "cell_type": "code",
      "execution_count": 19,
      "id": "ca9b7b93-dfcc-464a-ac9e-41bfa8117a99",
      "metadata": {
        "height": 64,
        "colab": {
          "base_uri": "https://localhost:8080/"
        },
        "id": "ca9b7b93-dfcc-464a-ac9e-41bfa8117a99",
        "outputId": "8d95df8d-779f-48a5-b53d-c7296232a8ae"
      },
      "outputs": [
        {
          "output_type": "execute_result",
          "data": {
            "text/plain": [
              "[{'_additional': {'distance': -154.7573},\n",
              "  'lang': 'en',\n",
              "  'text': 'There are many works that have been pointed to as possible sources for Shakespeare\\'s play—from ancient Greek tragedies to Elizabethan plays. The editors of the Arden Shakespeare question the idea of \"source hunting\", pointing out that it presupposes that authors always require ideas from other works for their own, and suggests that no author can have an original idea or be an originator. When Shakespeare wrote there were many stories about sons avenging the murder of their fathers, and many about clever avenging sons pretending to be foolish in order to outsmart their foes. This would include the story of the ancient Roman, Lucius Junius Brutus, which Shakespeare apparently knew, as well as the story of Amleth, which was preserved in Latin by 13th-century chronicler Saxo Grammaticus in his \"Gesta Danorum\", and printed in Paris in 1514. The Amleth story was subsequently adapted and then published in French in 1570 by the 16th-century scholar François de Belleforest. It has a number of plot elements and major characters in common with Shakespeare\\'s \"Hamlet\", and lacks others that are found in Shakespeare. Belleforest\\'s story was first published in English in 1608, after \"Hamlet\" had been written, though it\\'s possible that Shakespeare had encountered it in the French-language version.',\n",
              "  'title': 'Hamlet',\n",
              "  'url': 'https://en.wikipedia.org/wiki?curid=13554',\n",
              "  'views': 3000},\n",
              " {'_additional': {'distance': -154.56754},\n",
              "  'lang': 'en',\n",
              "  'text': 'English poet John Milton was an early admirer of Shakespeare and took evident inspiration from his work. As John Kerrigan discusses, Milton originally considered writing his epic poem \"Paradise Lost\" (1667) as a tragedy. While Milton did not ultimately go that route, the poem still shows distinct echoes of Shakespearean revenge tragedy, and of \"Hamlet\" in particular. As scholar Christopher N. Warren argues, \"Paradise Lost\"s Satan \"undergoes a transformation in the poem from a Hamlet-like avenger into a Claudius-like usurper,\" a plot device that supports Milton\\'s larger Republican internationalist project. The poem also reworks theatrical language from \"Hamlet\", especially around the idea of \"putting on\" certain dispositions, as when Hamlet puts on \"an antic disposition,\" similarly to the Son in \"Paradise Lost\" who \"can put on / [God\\'s] terrors.\"',\n",
              "  'title': 'Hamlet',\n",
              "  'url': 'https://en.wikipedia.org/wiki?curid=13554',\n",
              "  'views': 3000},\n",
              " {'_additional': {'distance': -154.28383},\n",
              "  'lang': 'en',\n",
              "  'text': \"The Tragedy of Hamlet, Prince of Denmark, often shortened to Hamlet (), is a tragedy written by William Shakespeare sometime between 1599 and 1601. It is Shakespeare's longest play, with 29,551 words. Set in Denmark, the play depicts Prince Hamlet and his attempts to exact revenge against his uncle, Claudius, who has murdered Hamlet's father in order to seize his throne and marry Hamlet's mother.\",\n",
              "  'title': 'Hamlet',\n",
              "  'url': 'https://en.wikipedia.org/wiki?curid=13554',\n",
              "  'views': 3000},\n",
              " {'_additional': {'distance': -153.55203},\n",
              "  'lang': 'en',\n",
              "  'text': 'In 1598, Francis Meres published his \"Palladis Tamia\", a survey of English literature from Chaucer to its present day, within which twelve of Shakespeare\\'s plays are named. \"Hamlet\" is not among them, suggesting that it had not yet been written. As \"Hamlet\" was very popular, Bernard Lott, the series editor of \"New Swan\", believes it \"unlikely that he [Meres] would have overlooked ... so significant a piece\".',\n",
              "  'title': 'Hamlet',\n",
              "  'url': 'https://en.wikipedia.org/wiki?curid=13554',\n",
              "  'views': 3000},\n",
              " {'_additional': {'distance': -153.43494},\n",
              "  'lang': 'en',\n",
              "  'text': 'Shakespeare almost certainly wrote the role of Hamlet for Richard Burbage. He was the chief tragedian of the Lord Chamberlain\\'s Men, with a capacious memory for lines and a wide emotional range. Judging by the number of reprints, \"Hamlet\" appears to have been Shakespeare\\'s fourth most popular play during his lifetime—only \"Henry IV Part 1\", \"Richard III\" and \"Pericles\" eclipsed it. Shakespeare provides no clear indication of when his play is set; however, as Elizabethan actors performed at the Globe in contemporary dress on minimal sets, this would not have affected the staging.',\n",
              "  'title': 'Hamlet',\n",
              "  'url': 'https://en.wikipedia.org/wiki?curid=13554',\n",
              "  'views': 3000}]"
            ]
          },
          "metadata": {},
          "execution_count": 19
        }
      ],
      "source": [
        "query = \"Who wrote Hamlet?\"\n",
        "dense_retrieval_results = dense_retrieval(query)\n",
        "# print_result(dense_retrieval_results)\n",
        "dense_retrieval_results"
      ]
    },
    {
      "cell_type": "markdown",
      "id": "319111ec",
      "metadata": {
        "id": "319111ec"
      },
      "source": [
        "### Medium Query"
      ]
    },
    {
      "cell_type": "code",
      "execution_count": 20,
      "id": "1c1145db-f3c0-4178-8f76-69bd78a8b779",
      "metadata": {
        "height": 64,
        "jupyter": {
          "outputs_hidden": true
        },
        "colab": {
          "base_uri": "https://localhost:8080/"
        },
        "id": "1c1145db-f3c0-4178-8f76-69bd78a8b779",
        "outputId": "73ee3357-3e49-43aa-cc0e-2b841c6138a7"
      },
      "outputs": [
        {
          "output_type": "execute_result",
          "data": {
            "text/plain": [
              "[{'_additional': {'distance': -150.80109},\n",
              "  'lang': 'en',\n",
              "  'text': \"The governor general of the province had designated Kingston as the capital in 1841. However, the major population centres of Toronto and Montreal, as well as the former capital of Lower Canada, Quebec City, all had legislators dissatisfied with Kingston. Anglophone merchants in Quebec were the main group supportive of the Kingston arrangement. In 1842, a vote rejected Kingston as the capital, and study of potential candidates included the then-named Bytown, but that option proved less popular than Toronto or Montreal. In 1843, a report of the Executive Council recommended Montreal as the capital as a more fortifiable location and commercial centre, however, the Governor General refused to execute a move without a parliamentary vote. In 1844, the Queen's acceptance of a parliamentary vote moved the capital to Montreal.\",\n",
              "  'title': 'Ottawa',\n",
              "  'url': 'https://en.wikipedia.org/wiki?curid=22219',\n",
              "  'views': 2000},\n",
              " {'_additional': {'distance': -150.28123},\n",
              "  'lang': 'en',\n",
              "  'text': 'For brief periods, Toronto was twice the capital of the united Province of Canada: first from 1849 to 1852, following unrest in Montreal, and later 1856–1858. After this date, Quebec was designated as the capital until 1866 (one year before Canadian Confederation). Since then, the capital of Canada has remained Ottawa, Ontario.',\n",
              "  'title': 'Toronto',\n",
              "  'url': 'https://en.wikipedia.org/wiki?curid=64646',\n",
              "  'views': 3000},\n",
              " {'_additional': {'distance': -150.02426},\n",
              "  'lang': 'en',\n",
              "  'text': 'Selection of Ottawa as the capital of Canada predates the Confederation of Canada. The selection was contentious and not straightforward, with the parliament of the United Province of Canada holding more than 200 votes over several decades to attempt to settle on a legislative solution to the location of the capital.',\n",
              "  'title': 'Ottawa',\n",
              "  'url': 'https://en.wikipedia.org/wiki?curid=22219',\n",
              "  'views': 2000},\n",
              " {'_additional': {'distance': -149.92064},\n",
              "  'lang': 'en',\n",
              "  'text': 'Until the late 18th century Québec was the most populous city in present-day Canada. As of the census of 1790, Montreal surpassed it with 18,000 inhabitants, but Quebec (pop. 14,000) remained the administrative capital of New France. It was then made the capital of Lower Canada by the Constitutional Act of 1791. From 1841 to 1867, the capital of the Province of Canada rotated between Kingston, Montreal, Toronto, Ottawa and Quebec City (from 1852 to 1856 and from 1859 to 1866).',\n",
              "  'title': 'Quebec City',\n",
              "  'url': 'https://en.wikipedia.org/wiki?curid=100727',\n",
              "  'views': 2000},\n",
              " {'_additional': {'distance': -149.70943},\n",
              "  'lang': 'en',\n",
              "  'text': 'The Quebec Conference on Canadian Confederation was held in the city in 1864. In 1867, Queen Victoria chose Ottawa as the definite capital of the Dominion of Canada, while Quebec City was confirmed as the capital of the newly created province of Quebec.',\n",
              "  'title': 'Quebec City',\n",
              "  'url': 'https://en.wikipedia.org/wiki?curid=100727',\n",
              "  'views': 2000}]"
            ]
          },
          "metadata": {},
          "execution_count": 20
        }
      ],
      "source": [
        "query = \"What is the capital of Canada?\"\n",
        "dense_retrieval_results = dense_retrieval(query)\n",
        "# print_result(dense_retrieval_results)\n",
        "dense_retrieval_results"
      ]
    },
    {
      "cell_type": "code",
      "execution_count": 21,
      "id": "dda4f775-d95a-4408-872b-a0d9cf0c7a68",
      "metadata": {
        "height": 98,
        "jupyter": {
          "outputs_hidden": true
        },
        "colab": {
          "base_uri": "https://localhost:8080/"
        },
        "id": "dda4f775-d95a-4408-872b-a0d9cf0c7a68",
        "outputId": "53589a57-2298-4b86-c209-fbd053dcc0ec"
      },
      "outputs": [
        {
          "output_type": "execute_result",
          "data": {
            "text/plain": [
              "[{'text': 'In his 1990 book, \"Continental Divide: the Values and Institutions of the United States and Canada,\" Seymour Martin Lipset argues that the presence of the monarchy in Canada helps distinguish Canadian identity from American identity. Since at least the 1930s, supporters of the Crown have held the opinion that the Canadian monarch is also one of the rare unified elements of Canadian society, focusing both \"the historic consciousness of the nation\" and various forms of patriotism and national love \"[on] the point around which coheres the nation\\'s sense of a continuing personality\". Former Governor General Vincent Massey articulated in 1967 that the monarchy \"is part of ourselves. It is linked in a very special way with our national life. It stands for qualities and institutions which mean Canada to every one of us and which for all our differences and all our variety have kept Canada Canadian.\" But, according to Arthur Bousfield and Gary Toffoli, Canadians were, through the late 1960s to the 2000s, encouraged by the federal government to \"neglect, ignore, forget, reject, debase, suppress, even hate, and certainly treat as foreign what their parents and grandparents, whether spiritual or blood, regarded as the basis of Canadian nationhood, autonomy, and history\", including the monarchy. Former Governor General Roland Michener said in 1970 that anti-monarchists claimed the Canadian Crown is foreign and incompatible with Canada\\'s multicultural society, which the government promoted as a Canadian identifier, and Lawrence Martin called in 2007 for Canada to become a republic in order to \"re-brand the nation\". However, Michener also stated, \"[the monarchy] is our own by inheritance and choice, and contributes much to our distinctive Canadian identity and our chances of independent survival amongst the republics of North and South America.\" Journalist Christina Blizzard emphasized in 2009 that the monarchy \"made [Canada] a haven of peace and justice for immigrants from around the world\", while Michael Valpy contended in 2009 that the Crown\\'s nature permitted non-conformity amongst its subjects, thereby opening the door to multiculturalism and pluralism.',\n",
              "  'title': 'Monarchy of Canada',\n",
              "  'url': 'https://en.wikipedia.org/wiki?curid=56504'},\n",
              " {'text': \"North America outside the zone of Spanish settlement was a contested area in the 17th century. Spain had founded small settlements in Florida and Georgia but nowhere near the size of those in New Spain or the Caribbean islands. France, The Netherlands, and Great Britain held several colonies in North America and the West Indies from the 17th century, 100 years after the Spanish and Portuguese established permanent colonies. The British colonies in North America were founded between 1607 (Virginia) and 1733 (Georgia). The Dutch explored the east coast of North America and began founding settlements in what they called New Netherland (now New York State.). France colonized what is now Eastern Canada, founding Quebec City in 1608. France's loss in the Seven Years' War resulted in the transfer of New France to Great Britain. The Thirteen Colonies, in lower British North America, rebelled against British rule in 1775, largely due to the taxation that Great Britain was imposing on the colonies. The British colonies in Canada remained loyal to the crown, and a provisional government formed by the Thirteen Colonies proclaimed their independence on July 4, 1776 and subsequently became the original 13 United States of America. With the 1783 Treaty of Paris ending the American Revolutionary War, Britain recognised the former Thirteen Colonies' independence.\",\n",
              "  'title': 'Early modern period',\n",
              "  'url': 'https://en.wikipedia.org/wiki?curid=1291656'},\n",
              " {'text': 'By the Second World War, the Red Ensign was viewed as Canada\\'s \"de facto\" national flag. A joint committee of the Senate and House of Commons was appointed on November 8, 1945, to recommend a national flag to officially adopt. It received 2,409 designs from the public and was addressed by the director of the Historical Section of the Canadian Army, Fortescue Duguid, who pointed out that red and white were Canada\\'s official colours and there was already an emblem representing the country: three joined maple leaves seen on the escutcheon of the Canadian coat of arms. By May 9 the following year, the committee reported back with a recommendation \"that the national flag of Canada should be the Canadian red ensign with a maple leaf in autumn golden colours in a bordered background of white\". The Legislative Assembly of Quebec had urged the committee to not include any of what it deemed as \"foreign symbols\", including the Union Flag, and Mackenzie King, then still prime minister, declined to act on the report; fearing it may lead to political instability. As a result, the Union Flag was kept as a national flag, and the order to fly the Canadian Red Ensign at government buildings was maintained.',\n",
              "  'title': 'Flag of Canada',\n",
              "  'url': 'https://en.wikipedia.org/wiki?curid=97066'}]"
            ]
          },
          "metadata": {},
          "execution_count": 21
        }
      ],
      "source": [
        "from utils import keyword_search\n",
        "\n",
        "query = \"What is the capital of Canada?\"\n",
        "keyword_search_results = keyword_search(query, client)\n",
        "# print_result(keyword_search_results)\n",
        "keyword_search_results"
      ]
    },
    {
      "cell_type": "markdown",
      "id": "529e8a97",
      "metadata": {
        "id": "529e8a97"
      },
      "source": [
        "### Complicated Query"
      ]
    },
    {
      "cell_type": "code",
      "execution_count": 22,
      "id": "9deb9d52-6da8-48f3-92e2-baf922afdbb9",
      "metadata": {
        "height": 98,
        "colab": {
          "base_uri": "https://localhost:8080/"
        },
        "id": "9deb9d52-6da8-48f3-92e2-baf922afdbb9",
        "outputId": "ebf70889-a3ce-434e-ffcd-4cbf95f84ced"
      },
      "outputs": [
        {
          "output_type": "execute_result",
          "data": {
            "text/plain": [
              "[{'text': \"The population of Japan peaked at 128,083,960 in 2008. It had decreased by 2,373,960 by December 2020. In 2011, the economy of China became the world's second largest. Japan's economy descended to third largest by nominal GDP. Despite Japan's economic difficulties, this period also saw Japanese popular culture, including video games, anime, and manga, expanding worldwide, especially among young people. In March 2011, the Tokyo Skytree became the tallest tower in the world at , displacing the Canton Tower. It is the second tallest structure in the world after the Burj Khalifa ().\",\n",
              "  'title': 'History of Japan',\n",
              "  'url': 'https://en.wikipedia.org/wiki?curid=25890428'},\n",
              " {'text': 'Alpinism author Jon Krakauer (1997) wrote in \"Into Thin Air\" that it would be a bigger challenge to climb the second-highest peak of each continent, known as the Seven Second Summits – a feat that was not accomplished until January 2013. This discussion had previously been published in an article titled \"The Second Seven Summits\" in Rock & Ice Magazine (#77) authored by the mountaineer and Seven Summits completer David Keaton. This is especially true for Asia, as K2 (8,611 m) demands greater technical climbing skills than Everest (8,848 m), while altitude-related factors such as the thinness of the atmosphere, high winds and low temperatures remain much the same. Some of those completing the seven ascents are aware of the magnitude of the challenge. In 2000, in a foreword to Steve Bell et al., \"Seven Summits\", Morrow opined \"[t]he only reason Reinhold [Messner] wasn’t the first person to complete the seven was that he was too busy gambolling up the 14 tallest mountains in the world.\"',\n",
              "  'title': 'Seven Summits',\n",
              "  'url': 'https://en.wikipedia.org/wiki?curid=220861'},\n",
              " {'text': 'Hamad was able to focus on turning Qatar from a small desert backwater into a major world power by continuing to exploit the country’s vast oil fields and discovering and tapping the world’s third largest gas reserves. By 2010 liquefied natural gas production had reached 77 million tons, making Qatar the richest country in the world. With fewer than two million inhabitants, the average income in the country shot to a staggering $86,440 per year per person. Qatar expert Olivier Da Lage said: \"When he came to power in 1995, Sheikh Hamad had a goal to place Qatar on the world map by exploiting the gas resources which his father did not develop for fear it would change the emirate\\'s society. Eighteen years on, he has finished the job – Qatar has acquired the financial clout to command respect from neighboring countries and Western governments alike\".In 2005, under the direction of Hamad and the former prime minister of Qatar Sheikh Hamad bin Jassim bin Jaber Al Thani, the Qatar Investment Authority was established, a sovereign wealth fund to manage the country\\'s oil and natural gas surpluses. The Qatar Investment Authority and its subsidiaries have acquired many businesses abroad, including London\\'s iconic department store Harrods from entrepreneur Mohammed Al-Fayed, Paris-based department store Printemps, French football club Paris Saint-Germain F.C., a former 10% stake in Porsche, a 75% stake in film studio Miramax Films which they acquired from Disney, a 2% stake in media conglomerate and Universal Music Group parent company Vivendi, a $100 million USD investment in Chernin Group – whose founder Peter Chernin was COO of News Corp and President of Fox, a 1% stake in luxury goods manufacturer Louis Vuitton Moët Hennessy, a 6% stake in Credit Suisse, a 12.6% stake in Barclays and several other major companies. They also backed Glencore\\'s $31 billion takeover bid for Xstrata. Qatar is the largest property owner in London with their holdings including the United Kingdom\\'s tallest building The Shard, the London Olympic Village and the InterContinental London Park Lane hotel. They also own several hotels in Cannes including the Majestic Hotel, Grand Hyatt Cannes Hôtel Martinez and the Carlton Hotel, Cannes. QIA was considered to have one of the leading bids in the sales of both Anschutz Entertainment Group and Hulu. As of May 2013, it was reported the Investment Authority was in talks to purchase Neiman Marcus and Bergdorf Goodman.',\n",
              "  'title': 'Hamad bin Khalifa Al Thani',\n",
              "  'url': 'https://en.wikipedia.org/wiki?curid=295929'}]"
            ]
          },
          "metadata": {},
          "execution_count": 22
        }
      ],
      "source": [
        "from utils import keyword_search\n",
        "\n",
        "query = \"Tallest person in history?\"\n",
        "keyword_search_results = keyword_search(query, client)\n",
        "# print_result(keyword_search_results)\n",
        "keyword_search_results"
      ]
    },
    {
      "cell_type": "code",
      "execution_count": 16,
      "id": "334fd577-5832-4ccc-9ac1-1ed32c6913ab",
      "metadata": {
        "height": 64,
        "jupyter": {
          "outputs_hidden": true
        },
        "colab": {
          "base_uri": "https://localhost:8080/"
        },
        "id": "334fd577-5832-4ccc-9ac1-1ed32c6913ab",
        "outputId": "1c5982b2-ea6e-4133-9794-6b8eee3576c9"
      },
      "outputs": [
        {
          "output_type": "execute_result",
          "data": {
            "text/plain": [
              "[{'_additional': {'distance': -148.98558},\n",
              "  'lang': 'en',\n",
              "  'text': 'Robert Pershing Wadlow (February 22, 1918 July 15, 1940), also known as the Alton Giant and the Giant of Illinois, was a man who was the tallest person in recorded history for whom there is irrefutable evidence. He was born and raised in Alton, Illinois, a small city near St. Louis, Missouri.',\n",
              "  'title': 'Robert Wadlow',\n",
              "  'url': 'https://en.wikipedia.org/wiki?curid=359117',\n",
              "  'views': 3000},\n",
              " {'_additional': {'distance': -148.09067},\n",
              "  'lang': 'en',\n",
              "  'text': 'Bol came from a family of extraordinarily tall men and women. He said: \"My mother was , my father , and my sister is . And my great-grandfather was even taller—.\" His ethnic group, the Dinka, and the Nilotic people of which they are a part, are among the tallest populations in the world. Bol\\'s hometown, Turalei, is the origin of other exceptionally tall people, including basketball player Ring Ayuel. \"I was born in a village, where you cannot measure yourself,\" Bol reflected. \"I learned I was 7 foot 7 in 1979, when I was grown. I was about 18 or 19.\"',\n",
              "  'title': 'Manute Bol',\n",
              "  'url': 'https://en.wikipedia.org/wiki?curid=283871',\n",
              "  'views': 2000},\n",
              " {'_additional': {'distance': -146.75853},\n",
              "  'lang': 'en',\n",
              "  'text': 'One year before his death, Wadlow passed John Rogan as the tallest person ever. On June 27, 1940 (18 days before his death), he was measured by doctors at .',\n",
              "  'title': 'Robert Wadlow',\n",
              "  'url': 'https://en.wikipedia.org/wiki?curid=359117',\n",
              "  'views': 3000},\n",
              " {'_additional': {'distance': -146.63768},\n",
              "  'lang': 'en',\n",
              "  'text': \"Kösen turned 40 years old on 10 December 2022. He celebrated his birthday a few days early by visiting the Ripley's Believe It or Not! museum in Orlando, Florida, USA and posing next to a life-sized statue of Robert Wadlow, the tallest man ever at 272 cm (8 ft 11.1 in).\",\n",
              "  'title': 'Sultan Kösen',\n",
              "  'url': 'https://en.wikipedia.org/wiki?curid=8445237',\n",
              "  'views': 2000},\n",
              " {'_additional': {'distance': -146.57587},\n",
              "  'lang': 'en',\n",
              "  'text': 'Sultan Kösen (born 10 December 1982) is a Turkish farmer who holds the Guinness World Record for tallest living male at . Of Kurdish ethnicity, he is the seventh tallest man in history.',\n",
              "  'title': 'Sultan Kösen',\n",
              "  'url': 'https://en.wikipedia.org/wiki?curid=8445237',\n",
              "  'views': 2000}]"
            ]
          },
          "metadata": {},
          "execution_count": 16
        }
      ],
      "source": [
        "query = \"Tallest person in history\"\n",
        "dense_retrieval_results = dense_retrieval(query)\n",
        "# print_result(dense_retrieval_results)\n",
        "dense_retrieval_results"
      ]
    },
    {
      "cell_type": "code",
      "execution_count": 17,
      "id": "a52ea636-1343-4587-85ce-0c291e5fecbc",
      "metadata": {
        "height": 64,
        "jupyter": {
          "outputs_hidden": true
        },
        "colab": {
          "base_uri": "https://localhost:8080/"
        },
        "id": "a52ea636-1343-4587-85ce-0c291e5fecbc",
        "outputId": "967cd1f2-6661-48af-d7ba-34d5580eb253"
      },
      "outputs": [
        {
          "output_type": "execute_result",
          "data": {
            "text/plain": [
              "[{'_additional': {'distance': -147.4674},\n",
              "  'lang': 'en',\n",
              "  'text': 'Robert Pershing Wadlow (February 22, 1918 July 15, 1940), also known as the Alton Giant and the Giant of Illinois, was a man who was the tallest person in recorded history for whom there is irrefutable evidence. He was born and raised in Alton, Illinois, a small city near St. Louis, Missouri.',\n",
              "  'title': 'Robert Wadlow',\n",
              "  'url': 'https://en.wikipedia.org/wiki?curid=359117',\n",
              "  'views': 3000},\n",
              " {'_additional': {'distance': -147.11975},\n",
              "  'lang': 'en',\n",
              "  'text': \"Kösen turned 40 years old on 10 December 2022. He celebrated his birthday a few days early by visiting the Ripley's Believe It or Not! museum in Orlando, Florida, USA and posing next to a life-sized statue of Robert Wadlow, the tallest man ever at 272 cm (8 ft 11.1 in).\",\n",
              "  'title': 'Sultan Kösen',\n",
              "  'url': 'https://en.wikipedia.org/wiki?curid=8445237',\n",
              "  'views': 2000},\n",
              " {'_additional': {'distance': -146.93701},\n",
              "  'lang': 'en',\n",
              "  'text': 'Bol and Gheorghe Mureșan are the two tallest players in the history of the National Basketball Association. Official NBA publications have listed Bol at either or tall. He was measured by the Guinness Book of World Records at 7\\xa0ft 6 \\xa0in tall. Complementing his great height, Bol had exceptionally long limbs (inseam ) and large hands and feet (size 16 ). His arm span, at , is (as of 2013) the longest in NBA history, and his upward reach was . He was extremely slender, limiting his offensive capability.',\n",
              "  'title': 'Manute Bol',\n",
              "  'url': 'https://en.wikipedia.org/wiki?curid=283871',\n",
              "  'views': 2000},\n",
              " {'_additional': {'distance': -146.64893},\n",
              "  'lang': 'en',\n",
              "  'text': 'Sultan Kösen (born 10 December 1982) is a Turkish farmer who holds the Guinness World Record for tallest living male at . Of Kurdish ethnicity, he is the seventh tallest man in history.',\n",
              "  'title': 'Sultan Kösen',\n",
              "  'url': 'https://en.wikipedia.org/wiki?curid=8445237',\n",
              "  'views': 2000},\n",
              " {'_additional': {'distance': -146.57472},\n",
              "  'lang': 'en',\n",
              "  'text': 'Jonah Adam (Cardeli) Falcon (born July 29, 1970) is an American actor and television presenter. He came to international attention in 1999 because of his claim that he has the largest penis in the world, which he claims is long when erect; Falcon has not authorized or permitted independent verification of this figure.',\n",
              "  'title': 'Jonah Falcon',\n",
              "  'url': 'https://en.wikipedia.org/wiki?curid=22044645',\n",
              "  'views': 2000}]"
            ]
          },
          "metadata": {},
          "execution_count": 17
        }
      ],
      "source": [
        "query = \"أطول رجل في التاريخ\"\n",
        "dense_retrieval_results = dense_retrieval(query)\n",
        "# print_result(dense_retrieval_results)\n",
        "dense_retrieval_results"
      ]
    },
    {
      "cell_type": "code",
      "execution_count": 18,
      "id": "134a5df0-3b43-4f03-8078-cfad28dcbaf5",
      "metadata": {
        "height": 64,
        "jupyter": {
          "outputs_hidden": true
        },
        "colab": {
          "base_uri": "https://localhost:8080/"
        },
        "id": "134a5df0-3b43-4f03-8078-cfad28dcbaf5",
        "outputId": "f480c4cb-e127-44f8-97c9-68dcc409218f"
      },
      "outputs": [
        {
          "output_type": "execute_result",
          "data": {
            "text/plain": [
              "[{'_additional': {'distance': -151.45682},\n",
              "  'lang': 'en',\n",
              "  'text': 'Although the production contracted out various effect houses to try to make the time travelling effects feel like more of a spectacle, they found the resulting work \"just completely wrong\" tonally and instead focused on a more low-key approach. Curtis has opined \"that in the end it turns out to be a kind of anti–time travel time travel movie. It uses all the time travel stuff but without it feeling like it\\'s a science fiction thing particularly or without it feeling that time travel can actually solve your life.\"',\n",
              "  'title': 'About Time (2013 film)',\n",
              "  'url': 'https://en.wikipedia.org/wiki?curid=38094431',\n",
              "  'views': 2000},\n",
              " {'_additional': {'distance': -150.92639},\n",
              "  'lang': 'en',\n",
              "  'text': \"The film was directed by Wells's great-grandson Simon Wells, with an even more revised plot that incorporated the ideas of paradoxes and changing the past. The place is changed from Richmond, Surrey, to downtown New York City, where the Time Traveller moves forward in time to find answers to his questions on 'Practical Application of Time Travel;' first in 2030 New York, to witness an orbital lunar catastrophe in 2037, before moving on to 802,701 for the main plot. He later briefly finds himself in 635,427,810 with toxic clouds and a world laid waste (presumably by the Morlocks) with devastation and Morlock artifacts stretching out to the horizon.\",\n",
              "  'title': 'The Time Machine',\n",
              "  'url': 'https://en.wikipedia.org/wiki?curid=29834',\n",
              "  'views': 2000},\n",
              " {'_additional': {'distance': -150.38972},\n",
              "  'lang': 'en',\n",
              "  'text': 'Leslie Felperin of \"Variety\" called the film \"reassuringly bland\" and says there is sense of déjà vu especially for anyone who has seen \"The Time Traveler\\'s Wife\", also co-starring McAdams. Unlike that film, she has no knowledge of his powers in \"About Time\", resulting in a \"fundamental lack of honesty in their relationship\". Felperin noted British reverse snobbery would put many off this and other Curtis films, but that this would be less of a problem among American Anglophiles and those willing to suspend disbelief, taking the characters as British \"versions of Woody Allen\\'s Manhattanites (but with less angst)\". Felperin praised the chemistry of the leading couple \"that keeps the film aloft\" and the supporting cast, while also criticising the stock characters as being too familiar.',\n",
              "  'title': 'About Time (2013 film)',\n",
              "  'url': 'https://en.wikipedia.org/wiki?curid=38094431',\n",
              "  'views': 2000},\n",
              " {'_additional': {'distance': -149.98212},\n",
              "  'lang': 'en',\n",
              "  'text': 'The philosopher Kelley L. Ross argues in \"Time Travel Paradoxes\" that in a scenario involving a physical object whose world-line or history forms a closed loop in time there can be a violation of the second law of thermodynamics. Ross uses the film \"Somewhere in Time\" as an example of such an ontological paradox, where a watch is given to a person, and 60 years later the same watch is brought back in time and given to the same character. Ross states that entropy of the watch will increase, and the watch carried back in time will be more worn with each repetition of its history. The second law of thermodynamics is understood by modern physicists to be a statistical law, so decreasing entropy and non-increasing entropy are not impossible, just improbable. Additionally, entropy statistically increases in systems which are isolated, so non-isolated systems, such as an object, that interact with the outside world, can become less worn and decrease in entropy, and it\\'s possible for an object whose world-line forms a closed loop to be always in the same condition in the same point of its history.',\n",
              "  'title': 'Time travel',\n",
              "  'url': 'https://en.wikipedia.org/wiki?curid=31591',\n",
              "  'views': 2000},\n",
              " {'_additional': {'distance': -149.9061},\n",
              "  'lang': 'en',\n",
              "  'text': 'The science-fiction aspect of the film revolves around the ability to reverse the entropy of things and people, resulting in time reversibility. While the film does refer to real concepts from physics, among them annihilation, the second law of thermodynamics, Maxwell\\'s demon, the grandfather paradox, and Feynman and Wheeler\\'s Absorber Theory, Nolan stated in the film\\'s press notes that \"we\\'re not going to make any case for this being scientifically accurate\". Commenting on the scientific aspects of writing the script, he stated: \"I think the scientific method is the best tool we have for analysing and understanding the world around us ... I\\'ve been very inspired by working with great scientists like Kip Thorne, who I worked with on \"Interstellar\", who also helped me out with some early analysis of the ideas I wanted to explore to do with time and quantum physics on \"Tenet\", although I promised him I wasn\\'t going to bandy his name around as if there was some kind of scientific reality to \"Tenet\". It\\'s a very different kettle of fish to \"Interstellar\".\"',\n",
              "  'title': 'Tenet (film)',\n",
              "  'url': 'https://en.wikipedia.org/wiki?curid=59770239',\n",
              "  'views': 3000}]"
            ]
          },
          "metadata": {},
          "execution_count": 18
        }
      ],
      "source": [
        "query = \"film about a time travel paradox\"\n",
        "dense_retrieval_results = dense_retrieval(query)\n",
        "# print_result(dense_retrieval_results)\n",
        "dense_retrieval_results"
      ]
    },
    {
      "cell_type": "markdown",
      "id": "d3ed0397",
      "metadata": {
        "id": "d3ed0397"
      },
      "source": [
        "## Part 2: Building Semantic Search from Scratch\n",
        "\n",
        "### Get the text archive:"
      ]
    },
    {
      "cell_type": "code",
      "execution_count": 23,
      "id": "b1782247-3b70-4698-8863-7b2e73b10bb5",
      "metadata": {
        "height": 81,
        "id": "b1782247-3b70-4698-8863-7b2e73b10bb5"
      },
      "outputs": [],
      "source": [
        "from annoy import AnnoyIndex\n",
        "import numpy as np\n",
        "import pandas as pd\n",
        "import re"
      ]
    },
    {
      "cell_type": "code",
      "execution_count": 24,
      "id": "664b5661-8e1c-4858-bbd9-5370737318e0",
      "metadata": {
        "height": 317,
        "id": "664b5661-8e1c-4858-bbd9-5370737318e0"
      },
      "outputs": [],
      "source": [
        "text = \"\"\"\n",
        "Interstellar is a 2014 epic science fiction film co-written, directed, and produced by Christopher Nolan.\n",
        "It stars Matthew McConaughey, Anne Hathaway, Jessica Chastain, Bill Irwin, Ellen Burstyn, Matt Damon, and Michael Caine.\n",
        "Set in a dystopian future where humanity is struggling to survive, the film follows a group of astronauts who travel through a wormhole near Saturn in search of a new home for mankind.\n",
        "\n",
        "Brothers Christopher and Jonathan Nolan wrote the screenplay, which had its origins in a script Jonathan developed in 2007.\n",
        "Caltech theoretical physicist and 2017 Nobel laureate in Physics[4] Kip Thorne was an executive producer, acted as a scientific consultant, and wrote a tie-in book, The Science of Interstellar.\n",
        "Cinematographer Hoyte van Hoytema shot it on 35 mm movie film in the Panavision anamorphic format and IMAX 70 mm.\n",
        "Principal photography began in late 2013 and took place in Alberta, Iceland, and Los Angeles.\n",
        "Interstellar uses extensive practical and miniature effects and the company Double Negative created additional digital effects.\n",
        "\n",
        "Interstellar premiered on October 26, 2014, in Los Angeles.\n",
        "In the United States, it was first released on film stock, expanding to venues using digital projectors.\n",
        "The film had a worldwide gross over $677 million (and $773 million with subsequent re-releases), making it the tenth-highest grossing film of 2014.\n",
        "It received acclaim for its performances, direction, screenplay, musical score, visual effects, ambition, themes, and emotional weight.\n",
        "It has also received praise from many astronomers for its scientific accuracy and portrayal of theoretical astrophysics. Since its premiere, Interstellar gained a cult following,[5] and now is regarded by many sci-fi experts as one of the best science-fiction films of all time.\n",
        "Interstellar was nominated for five awards at the 87th Academy Awards, winning Best Visual Effects, and received numerous other accolades\"\"\""
      ]
    },
    {
      "cell_type": "markdown",
      "id": "55f38f89",
      "metadata": {
        "id": "55f38f89"
      },
      "source": [
        "### Chunking:"
      ]
    },
    {
      "cell_type": "code",
      "execution_count": 25,
      "id": "44d495f8-8db7-4aee-bfe6-5f3cd46b2217",
      "metadata": {
        "height": 98,
        "id": "44d495f8-8db7-4aee-bfe6-5f3cd46b2217"
      },
      "outputs": [],
      "source": [
        "# Split into a list of sentences\n",
        "texts = text.split('.')\n",
        "\n",
        "# Clean up to remove empty spaces and new lines\n",
        "texts = np.array([t.strip(' \\n') for t in texts])"
      ]
    },
    {
      "cell_type": "code",
      "execution_count": 26,
      "id": "c378fcac-9b19-451c-ab68-8c6b69b7ac2d",
      "metadata": {
        "height": 30,
        "colab": {
          "base_uri": "https://localhost:8080/"
        },
        "id": "c378fcac-9b19-451c-ab68-8c6b69b7ac2d",
        "outputId": "e6f98053-8735-48e5-8ce9-c3325be21256"
      },
      "outputs": [
        {
          "output_type": "execute_result",
          "data": {
            "text/plain": [
              "array(['Interstellar is a 2014 epic science fiction film co-written, directed, and produced by Christopher Nolan',\n",
              "       'It stars Matthew McConaughey, Anne Hathaway, Jessica Chastain, Bill Irwin, Ellen Burstyn, Matt Damon, and Michael Caine',\n",
              "       'Set in a dystopian future where humanity is struggling to survive, the film follows a group of astronauts who travel through a wormhole near Saturn in search of a new home for mankind',\n",
              "       'Brothers Christopher and Jonathan Nolan wrote the screenplay, which had its origins in a script Jonathan developed in 2007',\n",
              "       'Caltech theoretical physicist and 2017 Nobel laureate in Physics[4] Kip Thorne was an executive producer, acted as a scientific consultant, and wrote a tie-in book, The Science of Interstellar',\n",
              "       'Cinematographer Hoyte van Hoytema shot it on 35 mm movie film in the Panavision anamorphic format and IMAX 70 mm',\n",
              "       'Principal photography began in late 2013 and took place in Alberta, Iceland, and Los Angeles',\n",
              "       'Interstellar uses extensive practical and miniature effects and the company Double Negative created additional digital effects',\n",
              "       'Interstellar premiered on October 26, 2014, in Los Angeles',\n",
              "       'In the United States, it was first released on film stock, expanding to venues using digital projectors',\n",
              "       'The film had a worldwide gross over $677 million (and $773 million with subsequent re-releases), making it the tenth-highest grossing film of 2014',\n",
              "       'It received acclaim for its performances, direction, screenplay, musical score, visual effects, ambition, themes, and emotional weight',\n",
              "       'It has also received praise from many astronomers for its scientific accuracy and portrayal of theoretical astrophysics',\n",
              "       'Since its premiere, Interstellar gained a cult following,[5] and now is regarded by many sci-fi experts as one of the best science-fiction films of all time',\n",
              "       'Interstellar was nominated for five awards at the 87th Academy Awards, winning Best Visual Effects, and received numerous other accolades'],\n",
              "      dtype='<U192')"
            ]
          },
          "metadata": {},
          "execution_count": 26
        }
      ],
      "source": [
        "texts"
      ]
    },
    {
      "cell_type": "code",
      "execution_count": 28,
      "id": "3f850709",
      "metadata": {
        "height": 98,
        "id": "3f850709"
      },
      "outputs": [],
      "source": [
        "# Split into a list of paragraphs\n",
        "texts = text.split('\\n\\n')\n",
        "\n",
        "# Clean up to remove empty spaces and new lines\n",
        "texts = np.array([t.strip(' \\n') for t in texts])"
      ]
    },
    {
      "cell_type": "code",
      "execution_count": 29,
      "id": "7b41bc71",
      "metadata": {
        "height": 30,
        "colab": {
          "base_uri": "https://localhost:8080/"
        },
        "id": "7b41bc71",
        "outputId": "6207f61a-1b20-499d-d148-7036e9601915"
      },
      "outputs": [
        {
          "output_type": "execute_result",
          "data": {
            "text/plain": [
              "array(['Interstellar is a 2014 epic science fiction film co-written, directed, and produced by Christopher Nolan.\\nIt stars Matthew McConaughey, Anne Hathaway, Jessica Chastain, Bill Irwin, Ellen Burstyn, Matt Damon, and Michael Caine.\\nSet in a dystopian future where humanity is struggling to survive, the film follows a group of astronauts who travel through a wormhole near Saturn in search of a new home for mankind.',\n",
              "       'Brothers Christopher and Jonathan Nolan wrote the screenplay, which had its origins in a script Jonathan developed in 2007.\\nCaltech theoretical physicist and 2017 Nobel laureate in Physics[4] Kip Thorne was an executive producer, acted as a scientific consultant, and wrote a tie-in book, The Science of Interstellar.\\nCinematographer Hoyte van Hoytema shot it on 35 mm movie film in the Panavision anamorphic format and IMAX 70 mm.\\nPrincipal photography began in late 2013 and took place in Alberta, Iceland, and Los Angeles.\\nInterstellar uses extensive practical and miniature effects and the company Double Negative created additional digital effects.',\n",
              "       'Interstellar premiered on October 26, 2014, in Los Angeles.\\nIn the United States, it was first released on film stock, expanding to venues using digital projectors.\\nThe film had a worldwide gross over $677 million (and $773 million with subsequent re-releases), making it the tenth-highest grossing film of 2014.\\nIt received acclaim for its performances, direction, screenplay, musical score, visual effects, ambition, themes, and emotional weight.\\nIt has also received praise from many astronomers for its scientific accuracy and portrayal of theoretical astrophysics. Since its premiere, Interstellar gained a cult following,[5] and now is regarded by many sci-fi experts as one of the best science-fiction films of all time.\\nInterstellar was nominated for five awards at the 87th Academy Awards, winning Best Visual Effects, and received numerous other accolades'],\n",
              "      dtype='<U865')"
            ]
          },
          "metadata": {},
          "execution_count": 29
        }
      ],
      "source": [
        "texts"
      ]
    },
    {
      "cell_type": "code",
      "execution_count": 30,
      "id": "4f4e167d",
      "metadata": {
        "height": 98,
        "id": "4f4e167d"
      },
      "outputs": [],
      "source": [
        "# Split into a list of sentences\n",
        "texts = text.split('.')\n",
        "\n",
        "# Clean up to remove empty spaces and new lines\n",
        "texts = np.array([t.strip(' \\n') for t in texts])"
      ]
    },
    {
      "cell_type": "code",
      "source": [
        "texts"
      ],
      "metadata": {
        "colab": {
          "base_uri": "https://localhost:8080/"
        },
        "id": "jqWH2B8rH0qr",
        "outputId": "652afdc3-a64b-4e39-bc18-36ae5de01c97"
      },
      "id": "jqWH2B8rH0qr",
      "execution_count": 31,
      "outputs": [
        {
          "output_type": "execute_result",
          "data": {
            "text/plain": [
              "array(['Interstellar is a 2014 epic science fiction film co-written, directed, and produced by Christopher Nolan',\n",
              "       'It stars Matthew McConaughey, Anne Hathaway, Jessica Chastain, Bill Irwin, Ellen Burstyn, Matt Damon, and Michael Caine',\n",
              "       'Set in a dystopian future where humanity is struggling to survive, the film follows a group of astronauts who travel through a wormhole near Saturn in search of a new home for mankind',\n",
              "       'Brothers Christopher and Jonathan Nolan wrote the screenplay, which had its origins in a script Jonathan developed in 2007',\n",
              "       'Caltech theoretical physicist and 2017 Nobel laureate in Physics[4] Kip Thorne was an executive producer, acted as a scientific consultant, and wrote a tie-in book, The Science of Interstellar',\n",
              "       'Cinematographer Hoyte van Hoytema shot it on 35 mm movie film in the Panavision anamorphic format and IMAX 70 mm',\n",
              "       'Principal photography began in late 2013 and took place in Alberta, Iceland, and Los Angeles',\n",
              "       'Interstellar uses extensive practical and miniature effects and the company Double Negative created additional digital effects',\n",
              "       'Interstellar premiered on October 26, 2014, in Los Angeles',\n",
              "       'In the United States, it was first released on film stock, expanding to venues using digital projectors',\n",
              "       'The film had a worldwide gross over $677 million (and $773 million with subsequent re-releases), making it the tenth-highest grossing film of 2014',\n",
              "       'It received acclaim for its performances, direction, screenplay, musical score, visual effects, ambition, themes, and emotional weight',\n",
              "       'It has also received praise from many astronomers for its scientific accuracy and portrayal of theoretical astrophysics',\n",
              "       'Since its premiere, Interstellar gained a cult following,[5] and now is regarded by many sci-fi experts as one of the best science-fiction films of all time',\n",
              "       'Interstellar was nominated for five awards at the 87th Academy Awards, winning Best Visual Effects, and received numerous other accolades'],\n",
              "      dtype='<U192')"
            ]
          },
          "metadata": {},
          "execution_count": 31
        }
      ]
    },
    {
      "cell_type": "code",
      "execution_count": 32,
      "id": "907ad923-a086-4746-b3c8-bdd7e5ff30ad",
      "metadata": {
        "height": 64,
        "id": "907ad923-a086-4746-b3c8-bdd7e5ff30ad"
      },
      "outputs": [],
      "source": [
        "title = 'Interstellar (film)'\n",
        "\n",
        "texts = np.array([f\"{title} {t}\" for t in texts])"
      ]
    },
    {
      "cell_type": "code",
      "execution_count": 33,
      "id": "630eb9b9-eced-4716-8684-ad028a437057",
      "metadata": {
        "height": 30,
        "colab": {
          "base_uri": "https://localhost:8080/"
        },
        "id": "630eb9b9-eced-4716-8684-ad028a437057",
        "outputId": "9c2ef92e-d36d-4b96-f32d-61083059e763"
      },
      "outputs": [
        {
          "output_type": "execute_result",
          "data": {
            "text/plain": [
              "array(['Interstellar (film) Interstellar is a 2014 epic science fiction film co-written, directed, and produced by Christopher Nolan',\n",
              "       'Interstellar (film) It stars Matthew McConaughey, Anne Hathaway, Jessica Chastain, Bill Irwin, Ellen Burstyn, Matt Damon, and Michael Caine',\n",
              "       'Interstellar (film) Set in a dystopian future where humanity is struggling to survive, the film follows a group of astronauts who travel through a wormhole near Saturn in search of a new home for mankind',\n",
              "       'Interstellar (film) Brothers Christopher and Jonathan Nolan wrote the screenplay, which had its origins in a script Jonathan developed in 2007',\n",
              "       'Interstellar (film) Caltech theoretical physicist and 2017 Nobel laureate in Physics[4] Kip Thorne was an executive producer, acted as a scientific consultant, and wrote a tie-in book, The Science of Interstellar',\n",
              "       'Interstellar (film) Cinematographer Hoyte van Hoytema shot it on 35 mm movie film in the Panavision anamorphic format and IMAX 70 mm',\n",
              "       'Interstellar (film) Principal photography began in late 2013 and took place in Alberta, Iceland, and Los Angeles',\n",
              "       'Interstellar (film) Interstellar uses extensive practical and miniature effects and the company Double Negative created additional digital effects',\n",
              "       'Interstellar (film) Interstellar premiered on October 26, 2014, in Los Angeles',\n",
              "       'Interstellar (film) In the United States, it was first released on film stock, expanding to venues using digital projectors',\n",
              "       'Interstellar (film) The film had a worldwide gross over $677 million (and $773 million with subsequent re-releases), making it the tenth-highest grossing film of 2014',\n",
              "       'Interstellar (film) It received acclaim for its performances, direction, screenplay, musical score, visual effects, ambition, themes, and emotional weight',\n",
              "       'Interstellar (film) It has also received praise from many astronomers for its scientific accuracy and portrayal of theoretical astrophysics',\n",
              "       'Interstellar (film) Since its premiere, Interstellar gained a cult following,[5] and now is regarded by many sci-fi experts as one of the best science-fiction films of all time',\n",
              "       'Interstellar (film) Interstellar was nominated for five awards at the 87th Academy Awards, winning Best Visual Effects, and received numerous other accolades'],\n",
              "      dtype='<U212')"
            ]
          },
          "metadata": {},
          "execution_count": 33
        }
      ],
      "source": [
        "texts"
      ]
    },
    {
      "cell_type": "markdown",
      "id": "3a26b43a",
      "metadata": {
        "id": "3a26b43a"
      },
      "source": [
        "### Get the embeddings:"
      ]
    },
    {
      "cell_type": "code",
      "execution_count": 34,
      "id": "fbbc0303-e929-4eb4-aa95-0c41042e19c9",
      "metadata": {
        "height": 64,
        "id": "fbbc0303-e929-4eb4-aa95-0c41042e19c9"
      },
      "outputs": [],
      "source": [
        "response = co.embed(\n",
        "    texts=texts.tolist()\n",
        ").embeddings"
      ]
    },
    {
      "cell_type": "code",
      "execution_count": 35,
      "id": "84d7961f-5075-4549-84ac-a013d875b709",
      "metadata": {
        "height": 47,
        "colab": {
          "base_uri": "https://localhost:8080/"
        },
        "id": "84d7961f-5075-4549-84ac-a013d875b709",
        "outputId": "f9e0f88c-fde1-41f7-cfe6-a061037e9575"
      },
      "outputs": [
        {
          "output_type": "execute_result",
          "data": {
            "text/plain": [
              "(15, 4096)"
            ]
          },
          "metadata": {},
          "execution_count": 35
        }
      ],
      "source": [
        "embeds = np.array(response)\n",
        "embeds.shape"
      ]
    },
    {
      "cell_type": "markdown",
      "id": "39e19dee",
      "metadata": {
        "id": "39e19dee"
      },
      "source": [
        "### Create the search index:"
      ]
    },
    {
      "cell_type": "code",
      "execution_count": 36,
      "id": "7cadadeb-f74f-4145-8a62-de184ffd9ead",
      "metadata": {
        "height": 132,
        "colab": {
          "base_uri": "https://localhost:8080/"
        },
        "id": "7cadadeb-f74f-4145-8a62-de184ffd9ead",
        "outputId": "6d4e1e8e-b6dc-48bb-844e-2aa79c69c967"
      },
      "outputs": [
        {
          "output_type": "execute_result",
          "data": {
            "text/plain": [
              "True"
            ]
          },
          "metadata": {},
          "execution_count": 36
        }
      ],
      "source": [
        "search_index = AnnoyIndex(embeds.shape[1], 'angular')\n",
        "# Add all the vectors to the search index\n",
        "for i in range(len(embeds)):\n",
        "    search_index.add_item(i, embeds[i])\n",
        "\n",
        "search_index.build(10) # 10 trees\n",
        "search_index.save('test.ann')"
      ]
    },
    {
      "cell_type": "code",
      "execution_count": 37,
      "id": "86e7267a-d130-4ee2-8498-4ba2ad2eebd0",
      "metadata": {
        "height": 334,
        "id": "86e7267a-d130-4ee2-8498-4ba2ad2eebd0"
      },
      "outputs": [],
      "source": [
        "pd.set_option('display.max_colwidth', None)\n",
        "\n",
        "def search(query):\n",
        "\n",
        "  # Get the query's embedding\n",
        "  query_embed = co.embed(texts=[query]).embeddings\n",
        "\n",
        "  # Retrieve the nearest neighbors\n",
        "  similar_item_ids = search_index.get_nns_by_vector(query_embed[0],\n",
        "                                                    3,\n",
        "                                                  include_distances=True)\n",
        "  # Format the results\n",
        "  results = pd.DataFrame(data={'texts': texts[similar_item_ids[0]],\n",
        "                              'distance': similar_item_ids[1]})\n",
        "\n",
        "  print(texts[similar_item_ids[0]])\n",
        "\n",
        "  return results"
      ]
    },
    {
      "cell_type": "code",
      "execution_count": 38,
      "id": "6b932b43-5fa4-4f23-a627-29deb80f0bd0",
      "metadata": {
        "height": 47,
        "colab": {
          "base_uri": "https://localhost:8080/",
          "height": 215
        },
        "id": "6b932b43-5fa4-4f23-a627-29deb80f0bd0",
        "outputId": "34dd0f89-2425-4450-8ace-e9c7a4d1a0bc"
      },
      "outputs": [
        {
          "output_type": "stream",
          "name": "stdout",
          "text": [
            "['Interstellar (film) The film had a worldwide gross over $677 million (and $773 million with subsequent re-releases), making it the tenth-highest grossing film of 2014'\n",
            " 'Interstellar (film) Interstellar premiered on October 26, 2014, in Los Angeles'\n",
            " 'Interstellar (film) In the United States, it was first released on film stock, expanding to venues using digital projectors']\n"
          ]
        },
        {
          "output_type": "execute_result",
          "data": {
            "text/plain": [
              "                                                                                                                                                                    texts  \\\n",
              "0  Interstellar (film) The film had a worldwide gross over $677 million (and $773 million with subsequent re-releases), making it the tenth-highest grossing film of 2014   \n",
              "1                                                                                          Interstellar (film) Interstellar premiered on October 26, 2014, in Los Angeles   \n",
              "2                                             Interstellar (film) In the United States, it was first released on film stock, expanding to venues using digital projectors   \n",
              "\n",
              "   distance  \n",
              "0  1.019055  \n",
              "1  1.144951  \n",
              "2  1.167268  "
            ],
            "text/html": [
              "\n",
              "  <div id=\"df-48bd469f-6a52-4258-874d-ec65fbf46a08\" class=\"colab-df-container\">\n",
              "    <div>\n",
              "<style scoped>\n",
              "    .dataframe tbody tr th:only-of-type {\n",
              "        vertical-align: middle;\n",
              "    }\n",
              "\n",
              "    .dataframe tbody tr th {\n",
              "        vertical-align: top;\n",
              "    }\n",
              "\n",
              "    .dataframe thead th {\n",
              "        text-align: right;\n",
              "    }\n",
              "</style>\n",
              "<table border=\"1\" class=\"dataframe\">\n",
              "  <thead>\n",
              "    <tr style=\"text-align: right;\">\n",
              "      <th></th>\n",
              "      <th>texts</th>\n",
              "      <th>distance</th>\n",
              "    </tr>\n",
              "  </thead>\n",
              "  <tbody>\n",
              "    <tr>\n",
              "      <th>0</th>\n",
              "      <td>Interstellar (film) The film had a worldwide gross over $677 million (and $773 million with subsequent re-releases), making it the tenth-highest grossing film of 2014</td>\n",
              "      <td>1.019055</td>\n",
              "    </tr>\n",
              "    <tr>\n",
              "      <th>1</th>\n",
              "      <td>Interstellar (film) Interstellar premiered on October 26, 2014, in Los Angeles</td>\n",
              "      <td>1.144951</td>\n",
              "    </tr>\n",
              "    <tr>\n",
              "      <th>2</th>\n",
              "      <td>Interstellar (film) In the United States, it was first released on film stock, expanding to venues using digital projectors</td>\n",
              "      <td>1.167268</td>\n",
              "    </tr>\n",
              "  </tbody>\n",
              "</table>\n",
              "</div>\n",
              "    <div class=\"colab-df-buttons\">\n",
              "\n",
              "  <div class=\"colab-df-container\">\n",
              "    <button class=\"colab-df-convert\" onclick=\"convertToInteractive('df-48bd469f-6a52-4258-874d-ec65fbf46a08')\"\n",
              "            title=\"Convert this dataframe to an interactive table.\"\n",
              "            style=\"display:none;\">\n",
              "\n",
              "  <svg xmlns=\"http://www.w3.org/2000/svg\" height=\"24px\" viewBox=\"0 -960 960 960\">\n",
              "    <path d=\"M120-120v-720h720v720H120Zm60-500h600v-160H180v160Zm220 220h160v-160H400v160Zm0 220h160v-160H400v160ZM180-400h160v-160H180v160Zm440 0h160v-160H620v160ZM180-180h160v-160H180v160Zm440 0h160v-160H620v160Z\"/>\n",
              "  </svg>\n",
              "    </button>\n",
              "\n",
              "  <style>\n",
              "    .colab-df-container {\n",
              "      display:flex;\n",
              "      gap: 12px;\n",
              "    }\n",
              "\n",
              "    .colab-df-convert {\n",
              "      background-color: #E8F0FE;\n",
              "      border: none;\n",
              "      border-radius: 50%;\n",
              "      cursor: pointer;\n",
              "      display: none;\n",
              "      fill: #1967D2;\n",
              "      height: 32px;\n",
              "      padding: 0 0 0 0;\n",
              "      width: 32px;\n",
              "    }\n",
              "\n",
              "    .colab-df-convert:hover {\n",
              "      background-color: #E2EBFA;\n",
              "      box-shadow: 0px 1px 2px rgba(60, 64, 67, 0.3), 0px 1px 3px 1px rgba(60, 64, 67, 0.15);\n",
              "      fill: #174EA6;\n",
              "    }\n",
              "\n",
              "    .colab-df-buttons div {\n",
              "      margin-bottom: 4px;\n",
              "    }\n",
              "\n",
              "    [theme=dark] .colab-df-convert {\n",
              "      background-color: #3B4455;\n",
              "      fill: #D2E3FC;\n",
              "    }\n",
              "\n",
              "    [theme=dark] .colab-df-convert:hover {\n",
              "      background-color: #434B5C;\n",
              "      box-shadow: 0px 1px 3px 1px rgba(0, 0, 0, 0.15);\n",
              "      filter: drop-shadow(0px 1px 2px rgba(0, 0, 0, 0.3));\n",
              "      fill: #FFFFFF;\n",
              "    }\n",
              "  </style>\n",
              "\n",
              "    <script>\n",
              "      const buttonEl =\n",
              "        document.querySelector('#df-48bd469f-6a52-4258-874d-ec65fbf46a08 button.colab-df-convert');\n",
              "      buttonEl.style.display =\n",
              "        google.colab.kernel.accessAllowed ? 'block' : 'none';\n",
              "\n",
              "      async function convertToInteractive(key) {\n",
              "        const element = document.querySelector('#df-48bd469f-6a52-4258-874d-ec65fbf46a08');\n",
              "        const dataTable =\n",
              "          await google.colab.kernel.invokeFunction('convertToInteractive',\n",
              "                                                    [key], {});\n",
              "        if (!dataTable) return;\n",
              "\n",
              "        const docLinkHtml = 'Like what you see? Visit the ' +\n",
              "          '<a target=\"_blank\" href=https://colab.research.google.com/notebooks/data_table.ipynb>data table notebook</a>'\n",
              "          + ' to learn more about interactive tables.';\n",
              "        element.innerHTML = '';\n",
              "        dataTable['output_type'] = 'display_data';\n",
              "        await google.colab.output.renderOutput(dataTable, element);\n",
              "        const docLink = document.createElement('div');\n",
              "        docLink.innerHTML = docLinkHtml;\n",
              "        element.appendChild(docLink);\n",
              "      }\n",
              "    </script>\n",
              "  </div>\n",
              "\n",
              "\n",
              "<div id=\"df-209b5eda-1aa1-4ffe-9106-c80ec37d6a95\">\n",
              "  <button class=\"colab-df-quickchart\" onclick=\"quickchart('df-209b5eda-1aa1-4ffe-9106-c80ec37d6a95')\"\n",
              "            title=\"Suggest charts\"\n",
              "            style=\"display:none;\">\n",
              "\n",
              "<svg xmlns=\"http://www.w3.org/2000/svg\" height=\"24px\"viewBox=\"0 0 24 24\"\n",
              "     width=\"24px\">\n",
              "    <g>\n",
              "        <path d=\"M19 3H5c-1.1 0-2 .9-2 2v14c0 1.1.9 2 2 2h14c1.1 0 2-.9 2-2V5c0-1.1-.9-2-2-2zM9 17H7v-7h2v7zm4 0h-2V7h2v10zm4 0h-2v-4h2v4z\"/>\n",
              "    </g>\n",
              "</svg>\n",
              "  </button>\n",
              "\n",
              "<style>\n",
              "  .colab-df-quickchart {\n",
              "      --bg-color: #E8F0FE;\n",
              "      --fill-color: #1967D2;\n",
              "      --hover-bg-color: #E2EBFA;\n",
              "      --hover-fill-color: #174EA6;\n",
              "      --disabled-fill-color: #AAA;\n",
              "      --disabled-bg-color: #DDD;\n",
              "  }\n",
              "\n",
              "  [theme=dark] .colab-df-quickchart {\n",
              "      --bg-color: #3B4455;\n",
              "      --fill-color: #D2E3FC;\n",
              "      --hover-bg-color: #434B5C;\n",
              "      --hover-fill-color: #FFFFFF;\n",
              "      --disabled-bg-color: #3B4455;\n",
              "      --disabled-fill-color: #666;\n",
              "  }\n",
              "\n",
              "  .colab-df-quickchart {\n",
              "    background-color: var(--bg-color);\n",
              "    border: none;\n",
              "    border-radius: 50%;\n",
              "    cursor: pointer;\n",
              "    display: none;\n",
              "    fill: var(--fill-color);\n",
              "    height: 32px;\n",
              "    padding: 0;\n",
              "    width: 32px;\n",
              "  }\n",
              "\n",
              "  .colab-df-quickchart:hover {\n",
              "    background-color: var(--hover-bg-color);\n",
              "    box-shadow: 0 1px 2px rgba(60, 64, 67, 0.3), 0 1px 3px 1px rgba(60, 64, 67, 0.15);\n",
              "    fill: var(--button-hover-fill-color);\n",
              "  }\n",
              "\n",
              "  .colab-df-quickchart-complete:disabled,\n",
              "  .colab-df-quickchart-complete:disabled:hover {\n",
              "    background-color: var(--disabled-bg-color);\n",
              "    fill: var(--disabled-fill-color);\n",
              "    box-shadow: none;\n",
              "  }\n",
              "\n",
              "  .colab-df-spinner {\n",
              "    border: 2px solid var(--fill-color);\n",
              "    border-color: transparent;\n",
              "    border-bottom-color: var(--fill-color);\n",
              "    animation:\n",
              "      spin 1s steps(1) infinite;\n",
              "  }\n",
              "\n",
              "  @keyframes spin {\n",
              "    0% {\n",
              "      border-color: transparent;\n",
              "      border-bottom-color: var(--fill-color);\n",
              "      border-left-color: var(--fill-color);\n",
              "    }\n",
              "    20% {\n",
              "      border-color: transparent;\n",
              "      border-left-color: var(--fill-color);\n",
              "      border-top-color: var(--fill-color);\n",
              "    }\n",
              "    30% {\n",
              "      border-color: transparent;\n",
              "      border-left-color: var(--fill-color);\n",
              "      border-top-color: var(--fill-color);\n",
              "      border-right-color: var(--fill-color);\n",
              "    }\n",
              "    40% {\n",
              "      border-color: transparent;\n",
              "      border-right-color: var(--fill-color);\n",
              "      border-top-color: var(--fill-color);\n",
              "    }\n",
              "    60% {\n",
              "      border-color: transparent;\n",
              "      border-right-color: var(--fill-color);\n",
              "    }\n",
              "    80% {\n",
              "      border-color: transparent;\n",
              "      border-right-color: var(--fill-color);\n",
              "      border-bottom-color: var(--fill-color);\n",
              "    }\n",
              "    90% {\n",
              "      border-color: transparent;\n",
              "      border-bottom-color: var(--fill-color);\n",
              "    }\n",
              "  }\n",
              "</style>\n",
              "\n",
              "  <script>\n",
              "    async function quickchart(key) {\n",
              "      const quickchartButtonEl =\n",
              "        document.querySelector('#' + key + ' button');\n",
              "      quickchartButtonEl.disabled = true;  // To prevent multiple clicks.\n",
              "      quickchartButtonEl.classList.add('colab-df-spinner');\n",
              "      try {\n",
              "        const charts = await google.colab.kernel.invokeFunction(\n",
              "            'suggestCharts', [key], {});\n",
              "      } catch (error) {\n",
              "        console.error('Error during call to suggestCharts:', error);\n",
              "      }\n",
              "      quickchartButtonEl.classList.remove('colab-df-spinner');\n",
              "      quickchartButtonEl.classList.add('colab-df-quickchart-complete');\n",
              "    }\n",
              "    (() => {\n",
              "      let quickchartButtonEl =\n",
              "        document.querySelector('#df-209b5eda-1aa1-4ffe-9106-c80ec37d6a95 button');\n",
              "      quickchartButtonEl.style.display =\n",
              "        google.colab.kernel.accessAllowed ? 'block' : 'none';\n",
              "    })();\n",
              "  </script>\n",
              "</div>\n",
              "\n",
              "    </div>\n",
              "  </div>\n"
            ],
            "application/vnd.google.colaboratory.intrinsic+json": {
              "type": "dataframe",
              "summary": "{\n  \"name\": \"search(query)\",\n  \"rows\": 3,\n  \"fields\": [\n    {\n      \"column\": \"texts\",\n      \"properties\": {\n        \"dtype\": \"string\",\n        \"num_unique_values\": 3,\n        \"samples\": [\n          \"Interstellar (film) The film had a worldwide gross over $677 million (and $773 million with subsequent re-releases), making it the tenth-highest grossing film of 2014\",\n          \"Interstellar (film) Interstellar premiered on October 26, 2014, in Los Angeles\",\n          \"Interstellar (film) In the United States, it was first released on film stock, expanding to venues using digital projectors\"\n        ],\n        \"semantic_type\": \"\",\n        \"description\": \"\"\n      }\n    },\n    {\n      \"column\": \"distance\",\n      \"properties\": {\n        \"dtype\": \"number\",\n        \"std\": 0.07991089649100139,\n        \"min\": 1.0190554857254028,\n        \"max\": 1.1672677993774414,\n        \"num_unique_values\": 3,\n        \"samples\": [\n          1.0190554857254028,\n          1.14495050907135,\n          1.1672677993774414\n        ],\n        \"semantic_type\": \"\",\n        \"description\": \"\"\n      }\n    }\n  ]\n}"
            }
          },
          "metadata": {},
          "execution_count": 38
        }
      ],
      "source": [
        "query = \"How much did the film make?\"\n",
        "search(query)"
      ]
    },
    {
      "cell_type": "code",
      "source": [
        "query = \"Who wrote the screenplay of the film?\"\n",
        "search(query)"
      ],
      "metadata": {
        "colab": {
          "base_uri": "https://localhost:8080/",
          "height": 233
        },
        "id": "b8lbe2R4K6br",
        "outputId": "d25ea5e0-26d8-4ce3-b18a-daf842a05120"
      },
      "id": "b8lbe2R4K6br",
      "execution_count": 39,
      "outputs": [
        {
          "output_type": "stream",
          "name": "stdout",
          "text": [
            "['Interstellar (film) Brothers Christopher and Jonathan Nolan wrote the screenplay, which had its origins in a script Jonathan developed in 2007'\n",
            " 'Interstellar (film) Caltech theoretical physicist and 2017 Nobel laureate in Physics[4] Kip Thorne was an executive producer, acted as a scientific consultant, and wrote a tie-in book, The Science of Interstellar'\n",
            " 'Interstellar (film) Interstellar is a 2014 epic science fiction film co-written, directed, and produced by Christopher Nolan']\n"
          ]
        },
        {
          "output_type": "execute_result",
          "data": {
            "text/plain": [
              "                                                                                                                                                                                                                  texts  \\\n",
              "0                                                                        Interstellar (film) Brothers Christopher and Jonathan Nolan wrote the screenplay, which had its origins in a script Jonathan developed in 2007   \n",
              "1  Interstellar (film) Caltech theoretical physicist and 2017 Nobel laureate in Physics[4] Kip Thorne was an executive producer, acted as a scientific consultant, and wrote a tie-in book, The Science of Interstellar   \n",
              "2                                                                                          Interstellar (film) Interstellar is a 2014 epic science fiction film co-written, directed, and produced by Christopher Nolan   \n",
              "\n",
              "   distance  \n",
              "0  0.964018  \n",
              "1  1.076388  \n",
              "2  1.079843  "
            ],
            "text/html": [
              "\n",
              "  <div id=\"df-2d05ee55-d81b-4b93-bd7f-d14dd743fa8f\" class=\"colab-df-container\">\n",
              "    <div>\n",
              "<style scoped>\n",
              "    .dataframe tbody tr th:only-of-type {\n",
              "        vertical-align: middle;\n",
              "    }\n",
              "\n",
              "    .dataframe tbody tr th {\n",
              "        vertical-align: top;\n",
              "    }\n",
              "\n",
              "    .dataframe thead th {\n",
              "        text-align: right;\n",
              "    }\n",
              "</style>\n",
              "<table border=\"1\" class=\"dataframe\">\n",
              "  <thead>\n",
              "    <tr style=\"text-align: right;\">\n",
              "      <th></th>\n",
              "      <th>texts</th>\n",
              "      <th>distance</th>\n",
              "    </tr>\n",
              "  </thead>\n",
              "  <tbody>\n",
              "    <tr>\n",
              "      <th>0</th>\n",
              "      <td>Interstellar (film) Brothers Christopher and Jonathan Nolan wrote the screenplay, which had its origins in a script Jonathan developed in 2007</td>\n",
              "      <td>0.964018</td>\n",
              "    </tr>\n",
              "    <tr>\n",
              "      <th>1</th>\n",
              "      <td>Interstellar (film) Caltech theoretical physicist and 2017 Nobel laureate in Physics[4] Kip Thorne was an executive producer, acted as a scientific consultant, and wrote a tie-in book, The Science of Interstellar</td>\n",
              "      <td>1.076388</td>\n",
              "    </tr>\n",
              "    <tr>\n",
              "      <th>2</th>\n",
              "      <td>Interstellar (film) Interstellar is a 2014 epic science fiction film co-written, directed, and produced by Christopher Nolan</td>\n",
              "      <td>1.079843</td>\n",
              "    </tr>\n",
              "  </tbody>\n",
              "</table>\n",
              "</div>\n",
              "    <div class=\"colab-df-buttons\">\n",
              "\n",
              "  <div class=\"colab-df-container\">\n",
              "    <button class=\"colab-df-convert\" onclick=\"convertToInteractive('df-2d05ee55-d81b-4b93-bd7f-d14dd743fa8f')\"\n",
              "            title=\"Convert this dataframe to an interactive table.\"\n",
              "            style=\"display:none;\">\n",
              "\n",
              "  <svg xmlns=\"http://www.w3.org/2000/svg\" height=\"24px\" viewBox=\"0 -960 960 960\">\n",
              "    <path d=\"M120-120v-720h720v720H120Zm60-500h600v-160H180v160Zm220 220h160v-160H400v160Zm0 220h160v-160H400v160ZM180-400h160v-160H180v160Zm440 0h160v-160H620v160ZM180-180h160v-160H180v160Zm440 0h160v-160H620v160Z\"/>\n",
              "  </svg>\n",
              "    </button>\n",
              "\n",
              "  <style>\n",
              "    .colab-df-container {\n",
              "      display:flex;\n",
              "      gap: 12px;\n",
              "    }\n",
              "\n",
              "    .colab-df-convert {\n",
              "      background-color: #E8F0FE;\n",
              "      border: none;\n",
              "      border-radius: 50%;\n",
              "      cursor: pointer;\n",
              "      display: none;\n",
              "      fill: #1967D2;\n",
              "      height: 32px;\n",
              "      padding: 0 0 0 0;\n",
              "      width: 32px;\n",
              "    }\n",
              "\n",
              "    .colab-df-convert:hover {\n",
              "      background-color: #E2EBFA;\n",
              "      box-shadow: 0px 1px 2px rgba(60, 64, 67, 0.3), 0px 1px 3px 1px rgba(60, 64, 67, 0.15);\n",
              "      fill: #174EA6;\n",
              "    }\n",
              "\n",
              "    .colab-df-buttons div {\n",
              "      margin-bottom: 4px;\n",
              "    }\n",
              "\n",
              "    [theme=dark] .colab-df-convert {\n",
              "      background-color: #3B4455;\n",
              "      fill: #D2E3FC;\n",
              "    }\n",
              "\n",
              "    [theme=dark] .colab-df-convert:hover {\n",
              "      background-color: #434B5C;\n",
              "      box-shadow: 0px 1px 3px 1px rgba(0, 0, 0, 0.15);\n",
              "      filter: drop-shadow(0px 1px 2px rgba(0, 0, 0, 0.3));\n",
              "      fill: #FFFFFF;\n",
              "    }\n",
              "  </style>\n",
              "\n",
              "    <script>\n",
              "      const buttonEl =\n",
              "        document.querySelector('#df-2d05ee55-d81b-4b93-bd7f-d14dd743fa8f button.colab-df-convert');\n",
              "      buttonEl.style.display =\n",
              "        google.colab.kernel.accessAllowed ? 'block' : 'none';\n",
              "\n",
              "      async function convertToInteractive(key) {\n",
              "        const element = document.querySelector('#df-2d05ee55-d81b-4b93-bd7f-d14dd743fa8f');\n",
              "        const dataTable =\n",
              "          await google.colab.kernel.invokeFunction('convertToInteractive',\n",
              "                                                    [key], {});\n",
              "        if (!dataTable) return;\n",
              "\n",
              "        const docLinkHtml = 'Like what you see? Visit the ' +\n",
              "          '<a target=\"_blank\" href=https://colab.research.google.com/notebooks/data_table.ipynb>data table notebook</a>'\n",
              "          + ' to learn more about interactive tables.';\n",
              "        element.innerHTML = '';\n",
              "        dataTable['output_type'] = 'display_data';\n",
              "        await google.colab.output.renderOutput(dataTable, element);\n",
              "        const docLink = document.createElement('div');\n",
              "        docLink.innerHTML = docLinkHtml;\n",
              "        element.appendChild(docLink);\n",
              "      }\n",
              "    </script>\n",
              "  </div>\n",
              "\n",
              "\n",
              "<div id=\"df-3821219b-795b-4322-969c-808459724185\">\n",
              "  <button class=\"colab-df-quickchart\" onclick=\"quickchart('df-3821219b-795b-4322-969c-808459724185')\"\n",
              "            title=\"Suggest charts\"\n",
              "            style=\"display:none;\">\n",
              "\n",
              "<svg xmlns=\"http://www.w3.org/2000/svg\" height=\"24px\"viewBox=\"0 0 24 24\"\n",
              "     width=\"24px\">\n",
              "    <g>\n",
              "        <path d=\"M19 3H5c-1.1 0-2 .9-2 2v14c0 1.1.9 2 2 2h14c1.1 0 2-.9 2-2V5c0-1.1-.9-2-2-2zM9 17H7v-7h2v7zm4 0h-2V7h2v10zm4 0h-2v-4h2v4z\"/>\n",
              "    </g>\n",
              "</svg>\n",
              "  </button>\n",
              "\n",
              "<style>\n",
              "  .colab-df-quickchart {\n",
              "      --bg-color: #E8F0FE;\n",
              "      --fill-color: #1967D2;\n",
              "      --hover-bg-color: #E2EBFA;\n",
              "      --hover-fill-color: #174EA6;\n",
              "      --disabled-fill-color: #AAA;\n",
              "      --disabled-bg-color: #DDD;\n",
              "  }\n",
              "\n",
              "  [theme=dark] .colab-df-quickchart {\n",
              "      --bg-color: #3B4455;\n",
              "      --fill-color: #D2E3FC;\n",
              "      --hover-bg-color: #434B5C;\n",
              "      --hover-fill-color: #FFFFFF;\n",
              "      --disabled-bg-color: #3B4455;\n",
              "      --disabled-fill-color: #666;\n",
              "  }\n",
              "\n",
              "  .colab-df-quickchart {\n",
              "    background-color: var(--bg-color);\n",
              "    border: none;\n",
              "    border-radius: 50%;\n",
              "    cursor: pointer;\n",
              "    display: none;\n",
              "    fill: var(--fill-color);\n",
              "    height: 32px;\n",
              "    padding: 0;\n",
              "    width: 32px;\n",
              "  }\n",
              "\n",
              "  .colab-df-quickchart:hover {\n",
              "    background-color: var(--hover-bg-color);\n",
              "    box-shadow: 0 1px 2px rgba(60, 64, 67, 0.3), 0 1px 3px 1px rgba(60, 64, 67, 0.15);\n",
              "    fill: var(--button-hover-fill-color);\n",
              "  }\n",
              "\n",
              "  .colab-df-quickchart-complete:disabled,\n",
              "  .colab-df-quickchart-complete:disabled:hover {\n",
              "    background-color: var(--disabled-bg-color);\n",
              "    fill: var(--disabled-fill-color);\n",
              "    box-shadow: none;\n",
              "  }\n",
              "\n",
              "  .colab-df-spinner {\n",
              "    border: 2px solid var(--fill-color);\n",
              "    border-color: transparent;\n",
              "    border-bottom-color: var(--fill-color);\n",
              "    animation:\n",
              "      spin 1s steps(1) infinite;\n",
              "  }\n",
              "\n",
              "  @keyframes spin {\n",
              "    0% {\n",
              "      border-color: transparent;\n",
              "      border-bottom-color: var(--fill-color);\n",
              "      border-left-color: var(--fill-color);\n",
              "    }\n",
              "    20% {\n",
              "      border-color: transparent;\n",
              "      border-left-color: var(--fill-color);\n",
              "      border-top-color: var(--fill-color);\n",
              "    }\n",
              "    30% {\n",
              "      border-color: transparent;\n",
              "      border-left-color: var(--fill-color);\n",
              "      border-top-color: var(--fill-color);\n",
              "      border-right-color: var(--fill-color);\n",
              "    }\n",
              "    40% {\n",
              "      border-color: transparent;\n",
              "      border-right-color: var(--fill-color);\n",
              "      border-top-color: var(--fill-color);\n",
              "    }\n",
              "    60% {\n",
              "      border-color: transparent;\n",
              "      border-right-color: var(--fill-color);\n",
              "    }\n",
              "    80% {\n",
              "      border-color: transparent;\n",
              "      border-right-color: var(--fill-color);\n",
              "      border-bottom-color: var(--fill-color);\n",
              "    }\n",
              "    90% {\n",
              "      border-color: transparent;\n",
              "      border-bottom-color: var(--fill-color);\n",
              "    }\n",
              "  }\n",
              "</style>\n",
              "\n",
              "  <script>\n",
              "    async function quickchart(key) {\n",
              "      const quickchartButtonEl =\n",
              "        document.querySelector('#' + key + ' button');\n",
              "      quickchartButtonEl.disabled = true;  // To prevent multiple clicks.\n",
              "      quickchartButtonEl.classList.add('colab-df-spinner');\n",
              "      try {\n",
              "        const charts = await google.colab.kernel.invokeFunction(\n",
              "            'suggestCharts', [key], {});\n",
              "      } catch (error) {\n",
              "        console.error('Error during call to suggestCharts:', error);\n",
              "      }\n",
              "      quickchartButtonEl.classList.remove('colab-df-spinner');\n",
              "      quickchartButtonEl.classList.add('colab-df-quickchart-complete');\n",
              "    }\n",
              "    (() => {\n",
              "      let quickchartButtonEl =\n",
              "        document.querySelector('#df-3821219b-795b-4322-969c-808459724185 button');\n",
              "      quickchartButtonEl.style.display =\n",
              "        google.colab.kernel.accessAllowed ? 'block' : 'none';\n",
              "    })();\n",
              "  </script>\n",
              "</div>\n",
              "\n",
              "    </div>\n",
              "  </div>\n"
            ],
            "application/vnd.google.colaboratory.intrinsic+json": {
              "type": "dataframe",
              "summary": "{\n  \"name\": \"search(query)\",\n  \"rows\": 3,\n  \"fields\": [\n    {\n      \"column\": \"texts\",\n      \"properties\": {\n        \"dtype\": \"string\",\n        \"num_unique_values\": 3,\n        \"samples\": [\n          \"Interstellar (film) Brothers Christopher and Jonathan Nolan wrote the screenplay, which had its origins in a script Jonathan developed in 2007\",\n          \"Interstellar (film) Caltech theoretical physicist and 2017 Nobel laureate in Physics[4] Kip Thorne was an executive producer, acted as a scientific consultant, and wrote a tie-in book, The Science of Interstellar\",\n          \"Interstellar (film) Interstellar is a 2014 epic science fiction film co-written, directed, and produced by Christopher Nolan\"\n        ],\n        \"semantic_type\": \"\",\n        \"description\": \"\"\n      }\n    },\n    {\n      \"column\": \"distance\",\n      \"properties\": {\n        \"dtype\": \"number\",\n        \"std\": 0.06589688916604546,\n        \"min\": 0.9640184044837952,\n        \"max\": 1.0798434019088745,\n        \"num_unique_values\": 3,\n        \"samples\": [\n          0.9640184044837952,\n          1.0763884782791138,\n          1.0798434019088745\n        ],\n        \"semantic_type\": \"\",\n        \"description\": \"\"\n      }\n    }\n  ]\n}"
            }
          },
          "metadata": {},
          "execution_count": 39
        }
      ]
    },
    {
      "cell_type": "code",
      "source": [
        "query = \"When was the film premiered?\"\n",
        "search(query)"
      ],
      "metadata": {
        "colab": {
          "base_uri": "https://localhost:8080/",
          "height": 195
        },
        "id": "3HsgRl5dLXNk",
        "outputId": "3e553248-9356-48ed-f8ef-3d9ea6f2a6b8"
      },
      "id": "3HsgRl5dLXNk",
      "execution_count": 40,
      "outputs": [
        {
          "output_type": "stream",
          "name": "stdout",
          "text": [
            "['Interstellar (film) Interstellar premiered on October 26, 2014, in Los Angeles'\n",
            " 'Interstellar (film) In the United States, it was first released on film stock, expanding to venues using digital projectors'\n",
            " 'Interstellar (film) It has also received praise from many astronomers for its scientific accuracy and portrayal of theoretical astrophysics']\n"
          ]
        },
        {
          "output_type": "execute_result",
          "data": {
            "text/plain": [
              "                                                                                                                                         texts  \\\n",
              "0                                                               Interstellar (film) Interstellar premiered on October 26, 2014, in Los Angeles   \n",
              "1                  Interstellar (film) In the United States, it was first released on film stock, expanding to venues using digital projectors   \n",
              "2  Interstellar (film) It has also received praise from many astronomers for its scientific accuracy and portrayal of theoretical astrophysics   \n",
              "\n",
              "   distance  \n",
              "0  0.935779  \n",
              "1  1.016409  \n",
              "2  1.142924  "
            ],
            "text/html": [
              "\n",
              "  <div id=\"df-deecb2c2-923c-4917-8e00-7f8a35c75266\" class=\"colab-df-container\">\n",
              "    <div>\n",
              "<style scoped>\n",
              "    .dataframe tbody tr th:only-of-type {\n",
              "        vertical-align: middle;\n",
              "    }\n",
              "\n",
              "    .dataframe tbody tr th {\n",
              "        vertical-align: top;\n",
              "    }\n",
              "\n",
              "    .dataframe thead th {\n",
              "        text-align: right;\n",
              "    }\n",
              "</style>\n",
              "<table border=\"1\" class=\"dataframe\">\n",
              "  <thead>\n",
              "    <tr style=\"text-align: right;\">\n",
              "      <th></th>\n",
              "      <th>texts</th>\n",
              "      <th>distance</th>\n",
              "    </tr>\n",
              "  </thead>\n",
              "  <tbody>\n",
              "    <tr>\n",
              "      <th>0</th>\n",
              "      <td>Interstellar (film) Interstellar premiered on October 26, 2014, in Los Angeles</td>\n",
              "      <td>0.935779</td>\n",
              "    </tr>\n",
              "    <tr>\n",
              "      <th>1</th>\n",
              "      <td>Interstellar (film) In the United States, it was first released on film stock, expanding to venues using digital projectors</td>\n",
              "      <td>1.016409</td>\n",
              "    </tr>\n",
              "    <tr>\n",
              "      <th>2</th>\n",
              "      <td>Interstellar (film) It has also received praise from many astronomers for its scientific accuracy and portrayal of theoretical astrophysics</td>\n",
              "      <td>1.142924</td>\n",
              "    </tr>\n",
              "  </tbody>\n",
              "</table>\n",
              "</div>\n",
              "    <div class=\"colab-df-buttons\">\n",
              "\n",
              "  <div class=\"colab-df-container\">\n",
              "    <button class=\"colab-df-convert\" onclick=\"convertToInteractive('df-deecb2c2-923c-4917-8e00-7f8a35c75266')\"\n",
              "            title=\"Convert this dataframe to an interactive table.\"\n",
              "            style=\"display:none;\">\n",
              "\n",
              "  <svg xmlns=\"http://www.w3.org/2000/svg\" height=\"24px\" viewBox=\"0 -960 960 960\">\n",
              "    <path d=\"M120-120v-720h720v720H120Zm60-500h600v-160H180v160Zm220 220h160v-160H400v160Zm0 220h160v-160H400v160ZM180-400h160v-160H180v160Zm440 0h160v-160H620v160ZM180-180h160v-160H180v160Zm440 0h160v-160H620v160Z\"/>\n",
              "  </svg>\n",
              "    </button>\n",
              "\n",
              "  <style>\n",
              "    .colab-df-container {\n",
              "      display:flex;\n",
              "      gap: 12px;\n",
              "    }\n",
              "\n",
              "    .colab-df-convert {\n",
              "      background-color: #E8F0FE;\n",
              "      border: none;\n",
              "      border-radius: 50%;\n",
              "      cursor: pointer;\n",
              "      display: none;\n",
              "      fill: #1967D2;\n",
              "      height: 32px;\n",
              "      padding: 0 0 0 0;\n",
              "      width: 32px;\n",
              "    }\n",
              "\n",
              "    .colab-df-convert:hover {\n",
              "      background-color: #E2EBFA;\n",
              "      box-shadow: 0px 1px 2px rgba(60, 64, 67, 0.3), 0px 1px 3px 1px rgba(60, 64, 67, 0.15);\n",
              "      fill: #174EA6;\n",
              "    }\n",
              "\n",
              "    .colab-df-buttons div {\n",
              "      margin-bottom: 4px;\n",
              "    }\n",
              "\n",
              "    [theme=dark] .colab-df-convert {\n",
              "      background-color: #3B4455;\n",
              "      fill: #D2E3FC;\n",
              "    }\n",
              "\n",
              "    [theme=dark] .colab-df-convert:hover {\n",
              "      background-color: #434B5C;\n",
              "      box-shadow: 0px 1px 3px 1px rgba(0, 0, 0, 0.15);\n",
              "      filter: drop-shadow(0px 1px 2px rgba(0, 0, 0, 0.3));\n",
              "      fill: #FFFFFF;\n",
              "    }\n",
              "  </style>\n",
              "\n",
              "    <script>\n",
              "      const buttonEl =\n",
              "        document.querySelector('#df-deecb2c2-923c-4917-8e00-7f8a35c75266 button.colab-df-convert');\n",
              "      buttonEl.style.display =\n",
              "        google.colab.kernel.accessAllowed ? 'block' : 'none';\n",
              "\n",
              "      async function convertToInteractive(key) {\n",
              "        const element = document.querySelector('#df-deecb2c2-923c-4917-8e00-7f8a35c75266');\n",
              "        const dataTable =\n",
              "          await google.colab.kernel.invokeFunction('convertToInteractive',\n",
              "                                                    [key], {});\n",
              "        if (!dataTable) return;\n",
              "\n",
              "        const docLinkHtml = 'Like what you see? Visit the ' +\n",
              "          '<a target=\"_blank\" href=https://colab.research.google.com/notebooks/data_table.ipynb>data table notebook</a>'\n",
              "          + ' to learn more about interactive tables.';\n",
              "        element.innerHTML = '';\n",
              "        dataTable['output_type'] = 'display_data';\n",
              "        await google.colab.output.renderOutput(dataTable, element);\n",
              "        const docLink = document.createElement('div');\n",
              "        docLink.innerHTML = docLinkHtml;\n",
              "        element.appendChild(docLink);\n",
              "      }\n",
              "    </script>\n",
              "  </div>\n",
              "\n",
              "\n",
              "<div id=\"df-6c9a9bd4-b35f-4736-9cfc-5393f7457838\">\n",
              "  <button class=\"colab-df-quickchart\" onclick=\"quickchart('df-6c9a9bd4-b35f-4736-9cfc-5393f7457838')\"\n",
              "            title=\"Suggest charts\"\n",
              "            style=\"display:none;\">\n",
              "\n",
              "<svg xmlns=\"http://www.w3.org/2000/svg\" height=\"24px\"viewBox=\"0 0 24 24\"\n",
              "     width=\"24px\">\n",
              "    <g>\n",
              "        <path d=\"M19 3H5c-1.1 0-2 .9-2 2v14c0 1.1.9 2 2 2h14c1.1 0 2-.9 2-2V5c0-1.1-.9-2-2-2zM9 17H7v-7h2v7zm4 0h-2V7h2v10zm4 0h-2v-4h2v4z\"/>\n",
              "    </g>\n",
              "</svg>\n",
              "  </button>\n",
              "\n",
              "<style>\n",
              "  .colab-df-quickchart {\n",
              "      --bg-color: #E8F0FE;\n",
              "      --fill-color: #1967D2;\n",
              "      --hover-bg-color: #E2EBFA;\n",
              "      --hover-fill-color: #174EA6;\n",
              "      --disabled-fill-color: #AAA;\n",
              "      --disabled-bg-color: #DDD;\n",
              "  }\n",
              "\n",
              "  [theme=dark] .colab-df-quickchart {\n",
              "      --bg-color: #3B4455;\n",
              "      --fill-color: #D2E3FC;\n",
              "      --hover-bg-color: #434B5C;\n",
              "      --hover-fill-color: #FFFFFF;\n",
              "      --disabled-bg-color: #3B4455;\n",
              "      --disabled-fill-color: #666;\n",
              "  }\n",
              "\n",
              "  .colab-df-quickchart {\n",
              "    background-color: var(--bg-color);\n",
              "    border: none;\n",
              "    border-radius: 50%;\n",
              "    cursor: pointer;\n",
              "    display: none;\n",
              "    fill: var(--fill-color);\n",
              "    height: 32px;\n",
              "    padding: 0;\n",
              "    width: 32px;\n",
              "  }\n",
              "\n",
              "  .colab-df-quickchart:hover {\n",
              "    background-color: var(--hover-bg-color);\n",
              "    box-shadow: 0 1px 2px rgba(60, 64, 67, 0.3), 0 1px 3px 1px rgba(60, 64, 67, 0.15);\n",
              "    fill: var(--button-hover-fill-color);\n",
              "  }\n",
              "\n",
              "  .colab-df-quickchart-complete:disabled,\n",
              "  .colab-df-quickchart-complete:disabled:hover {\n",
              "    background-color: var(--disabled-bg-color);\n",
              "    fill: var(--disabled-fill-color);\n",
              "    box-shadow: none;\n",
              "  }\n",
              "\n",
              "  .colab-df-spinner {\n",
              "    border: 2px solid var(--fill-color);\n",
              "    border-color: transparent;\n",
              "    border-bottom-color: var(--fill-color);\n",
              "    animation:\n",
              "      spin 1s steps(1) infinite;\n",
              "  }\n",
              "\n",
              "  @keyframes spin {\n",
              "    0% {\n",
              "      border-color: transparent;\n",
              "      border-bottom-color: var(--fill-color);\n",
              "      border-left-color: var(--fill-color);\n",
              "    }\n",
              "    20% {\n",
              "      border-color: transparent;\n",
              "      border-left-color: var(--fill-color);\n",
              "      border-top-color: var(--fill-color);\n",
              "    }\n",
              "    30% {\n",
              "      border-color: transparent;\n",
              "      border-left-color: var(--fill-color);\n",
              "      border-top-color: var(--fill-color);\n",
              "      border-right-color: var(--fill-color);\n",
              "    }\n",
              "    40% {\n",
              "      border-color: transparent;\n",
              "      border-right-color: var(--fill-color);\n",
              "      border-top-color: var(--fill-color);\n",
              "    }\n",
              "    60% {\n",
              "      border-color: transparent;\n",
              "      border-right-color: var(--fill-color);\n",
              "    }\n",
              "    80% {\n",
              "      border-color: transparent;\n",
              "      border-right-color: var(--fill-color);\n",
              "      border-bottom-color: var(--fill-color);\n",
              "    }\n",
              "    90% {\n",
              "      border-color: transparent;\n",
              "      border-bottom-color: var(--fill-color);\n",
              "    }\n",
              "  }\n",
              "</style>\n",
              "\n",
              "  <script>\n",
              "    async function quickchart(key) {\n",
              "      const quickchartButtonEl =\n",
              "        document.querySelector('#' + key + ' button');\n",
              "      quickchartButtonEl.disabled = true;  // To prevent multiple clicks.\n",
              "      quickchartButtonEl.classList.add('colab-df-spinner');\n",
              "      try {\n",
              "        const charts = await google.colab.kernel.invokeFunction(\n",
              "            'suggestCharts', [key], {});\n",
              "      } catch (error) {\n",
              "        console.error('Error during call to suggestCharts:', error);\n",
              "      }\n",
              "      quickchartButtonEl.classList.remove('colab-df-spinner');\n",
              "      quickchartButtonEl.classList.add('colab-df-quickchart-complete');\n",
              "    }\n",
              "    (() => {\n",
              "      let quickchartButtonEl =\n",
              "        document.querySelector('#df-6c9a9bd4-b35f-4736-9cfc-5393f7457838 button');\n",
              "      quickchartButtonEl.style.display =\n",
              "        google.colab.kernel.accessAllowed ? 'block' : 'none';\n",
              "    })();\n",
              "  </script>\n",
              "</div>\n",
              "\n",
              "    </div>\n",
              "  </div>\n"
            ],
            "application/vnd.google.colaboratory.intrinsic+json": {
              "type": "dataframe",
              "summary": "{\n  \"name\": \"search(query)\",\n  \"rows\": 3,\n  \"fields\": [\n    {\n      \"column\": \"texts\",\n      \"properties\": {\n        \"dtype\": \"string\",\n        \"num_unique_values\": 3,\n        \"samples\": [\n          \"Interstellar (film) Interstellar premiered on October 26, 2014, in Los Angeles\",\n          \"Interstellar (film) In the United States, it was first released on film stock, expanding to venues using digital projectors\",\n          \"Interstellar (film) It has also received praise from many astronomers for its scientific accuracy and portrayal of theoretical astrophysics\"\n        ],\n        \"semantic_type\": \"\",\n        \"description\": \"\"\n      }\n    },\n    {\n      \"column\": \"distance\",\n      \"properties\": {\n        \"dtype\": \"number\",\n        \"std\": 0.10441580522613378,\n        \"min\": 0.9357793927192688,\n        \"max\": 1.1429238319396973,\n        \"num_unique_values\": 3,\n        \"samples\": [\n          0.9357793927192688,\n          1.016408920288086,\n          1.1429238319396973\n        ],\n        \"semantic_type\": \"\",\n        \"description\": \"\"\n      }\n    }\n  ]\n}"
            }
          },
          "metadata": {},
          "execution_count": 40
        }
      ]
    },
    {
      "cell_type": "markdown",
      "source": [
        "#### Annoy with langchain\n",
        "\n",
        "- https://python.langchain.com/docs/integrations/vectorstores/annoy/"
      ],
      "metadata": {
        "id": "GULhzQCJJdy5"
      },
      "id": "GULhzQCJJdy5"
    },
    {
      "cell_type": "markdown",
      "source": [
        "#### Learn more about Dense Retrieval\n",
        "\n",
        "- **Book** - Pretrained Transformers for Text Ranking: BERT and Beyond"
      ],
      "metadata": {
        "id": "hYuYGqV8J93K"
      },
      "id": "hYuYGqV8J93K"
    },
    {
      "cell_type": "code",
      "execution_count": null,
      "id": "a1e4c088-aecd-4e7d-9475-79fdf4f1e3ff",
      "metadata": {
        "height": 30,
        "id": "a1e4c088-aecd-4e7d-9475-79fdf4f1e3ff"
      },
      "outputs": [],
      "source": []
    },
    {
      "cell_type": "code",
      "execution_count": null,
      "id": "e3502566-f976-4f29-9ac3-ceb8251506f3",
      "metadata": {
        "height": 30,
        "id": "e3502566-f976-4f29-9ac3-ceb8251506f3"
      },
      "outputs": [],
      "source": []
    },
    {
      "cell_type": "code",
      "execution_count": null,
      "id": "b8301f90-f6e8-4f2e-a3f0-c528824e797a",
      "metadata": {
        "height": 30,
        "id": "b8301f90-f6e8-4f2e-a3f0-c528824e797a"
      },
      "outputs": [],
      "source": []
    },
    {
      "cell_type": "code",
      "execution_count": null,
      "id": "72b88367-b571-4e50-aa4f-c754fc31ab7f",
      "metadata": {
        "height": 30,
        "id": "72b88367-b571-4e50-aa4f-c754fc31ab7f"
      },
      "outputs": [],
      "source": []
    },
    {
      "cell_type": "code",
      "execution_count": null,
      "id": "d0e71d39-8f59-4d0e-a2fd-aa0eb0cd1b84",
      "metadata": {
        "height": 30,
        "id": "d0e71d39-8f59-4d0e-a2fd-aa0eb0cd1b84"
      },
      "outputs": [],
      "source": []
    },
    {
      "cell_type": "code",
      "execution_count": null,
      "id": "ded6ecfa-91f4-48c2-9237-6904f7f630d4",
      "metadata": {
        "height": 30,
        "id": "ded6ecfa-91f4-48c2-9237-6904f7f630d4"
      },
      "outputs": [],
      "source": []
    },
    {
      "cell_type": "code",
      "execution_count": null,
      "id": "87ef1f57-be42-47aa-a132-0731aeaef4fc",
      "metadata": {
        "height": 30,
        "id": "87ef1f57-be42-47aa-a132-0731aeaef4fc"
      },
      "outputs": [],
      "source": []
    },
    {
      "cell_type": "code",
      "execution_count": null,
      "id": "aed0699a-ce3c-4529-b596-b17ff9da51e1",
      "metadata": {
        "height": 30,
        "id": "aed0699a-ce3c-4529-b596-b17ff9da51e1"
      },
      "outputs": [],
      "source": []
    },
    {
      "cell_type": "code",
      "execution_count": null,
      "id": "b0e5ddb7-41fa-4eae-b077-2264be76c258",
      "metadata": {
        "height": 30,
        "id": "b0e5ddb7-41fa-4eae-b077-2264be76c258"
      },
      "outputs": [],
      "source": []
    },
    {
      "cell_type": "code",
      "execution_count": null,
      "id": "5821387b-fd64-4e12-8541-d7bca94ba9d9",
      "metadata": {
        "height": 30,
        "id": "5821387b-fd64-4e12-8541-d7bca94ba9d9"
      },
      "outputs": [],
      "source": []
    },
    {
      "cell_type": "code",
      "execution_count": null,
      "id": "f96720ad-4b11-4038-b7a4-0d2ea5a34379",
      "metadata": {
        "height": 30,
        "id": "f96720ad-4b11-4038-b7a4-0d2ea5a34379"
      },
      "outputs": [],
      "source": []
    }
  ],
  "metadata": {
    "kernelspec": {
      "display_name": "Python 3 (ipykernel)",
      "language": "python",
      "name": "python3"
    },
    "language_info": {
      "codemirror_mode": {
        "name": "ipython",
        "version": 3
      },
      "file_extension": ".py",
      "mimetype": "text/x-python",
      "name": "python",
      "nbconvert_exporter": "python",
      "pygments_lexer": "ipython3",
      "version": "3.9.19"
    },
    "colab": {
      "provenance": []
    }
  },
  "nbformat": 4,
  "nbformat_minor": 5
}