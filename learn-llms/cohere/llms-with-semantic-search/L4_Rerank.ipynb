{
  "cells": [
    {
      "cell_type": "markdown",
      "id": "0ead654a",
      "metadata": {
        "id": "0ead654a"
      },
      "source": [
        "# ReRank"
      ]
    },
    {
      "cell_type": "markdown",
      "id": "99f6a6f7",
      "metadata": {
        "id": "99f6a6f7"
      },
      "source": [
        "## Setup\n",
        "\n",
        "Load needed API keys and relevant Python libaries."
      ]
    },
    {
      "cell_type": "code",
      "execution_count": 1,
      "id": "f350cd1b",
      "metadata": {
        "height": 47,
        "id": "f350cd1b"
      },
      "outputs": [],
      "source": [
        "%%capture\n",
        "!pip install cohere\n",
        "!pip install \"weaviate-client==3.*\"\n",
        "!pip install python-dotenv"
      ]
    },
    {
      "cell_type": "code",
      "execution_count": 2,
      "id": "b2febbb9-27dd-4209-838a-99b4f9cdf51b",
      "metadata": {
        "height": 64,
        "id": "b2febbb9-27dd-4209-838a-99b4f9cdf51b"
      },
      "outputs": [],
      "source": [
        "import os\n",
        "import getpass\n",
        "from dotenv import load_dotenv, find_dotenv\n",
        "_ = load_dotenv(find_dotenv()) # read local .env file"
      ]
    },
    {
      "cell_type": "code",
      "source": [
        "def _set_env(var: str):\n",
        "    if not os.environ.get(var):\n",
        "        os.environ[var] = getpass.getpass(f\"{var}: \")"
      ],
      "metadata": {
        "id": "c9VdYygGL4T9"
      },
      "id": "c9VdYygGL4T9",
      "execution_count": 3,
      "outputs": []
    },
    {
      "cell_type": "code",
      "source": [
        "_set_env(\"WEAVIATE_API_KEY\")\n",
        "_set_env(\"COHERE_API_KEY\")\n",
        "os.environ['WEAVIATE_API_URL'] = \"https://cohere-demo.weaviate.network/\""
      ],
      "metadata": {
        "colab": {
          "base_uri": "https://localhost:8080/"
        },
        "id": "YlJpWgKwLzBp",
        "outputId": "1dbed361-57cf-43be-b359-18e77a1f2dde"
      },
      "id": "YlJpWgKwLzBp",
      "execution_count": 4,
      "outputs": [
        {
          "name": "stdout",
          "output_type": "stream",
          "text": [
            "WEAVIATE_API_KEY: ··········\n",
            "COHERE_API_KEY: ··········\n"
          ]
        }
      ]
    },
    {
      "cell_type": "code",
      "execution_count": 39,
      "id": "dab2ecba-3403-4317-86ef-bd6d92a6cb46",
      "metadata": {
        "height": 47,
        "id": "dab2ecba-3403-4317-86ef-bd6d92a6cb46"
      },
      "outputs": [],
      "source": [
        "import cohere\n",
        "co = cohere.Client(os.environ['COHERE_API_KEY'])\n",
        "co_v2 = cohere.ClientV2(os.environ['COHERE_API_KEY'])"
      ]
    },
    {
      "cell_type": "code",
      "execution_count": 6,
      "id": "30737b1b-e4c8-4bd0-a04b-c2ce70d28821",
      "metadata": {
        "height": 64,
        "id": "30737b1b-e4c8-4bd0-a04b-c2ce70d28821"
      },
      "outputs": [],
      "source": [
        "import weaviate\n",
        "auth_config = weaviate.auth.AuthApiKey(\n",
        "    api_key=os.environ['WEAVIATE_API_KEY'])"
      ]
    },
    {
      "cell_type": "code",
      "execution_count": 7,
      "id": "8781f638-17c7-4ab7-86b5-3763d4d5abad",
      "metadata": {
        "height": 132,
        "id": "8781f638-17c7-4ab7-86b5-3763d4d5abad"
      },
      "outputs": [],
      "source": [
        "client = weaviate.Client(\n",
        "    url=os.environ['WEAVIATE_API_URL'],\n",
        "    auth_client_secret=auth_config,\n",
        "    additional_headers={\n",
        "        \"X-Cohere-Api-Key\": os.environ['COHERE_API_KEY'],\n",
        "    }\n",
        ")"
      ]
    },
    {
      "cell_type": "markdown",
      "id": "ffcc8e5e",
      "metadata": {
        "id": "ffcc8e5e"
      },
      "source": [
        "## Dense Retrieval"
      ]
    },
    {
      "cell_type": "code",
      "source": [
        "%%writefile utils.py\n",
        "\n",
        "def keyword_search(query,\n",
        "                   client,\n",
        "                   results_lang='en',\n",
        "                   properties = [\"text\", \"title\", \"url\", \"views\", \"lang\", \"_additional {distance}\"],\n",
        "                   num_results=3):\n",
        "\n",
        "    where_filter = {\n",
        "    \"path\": [\"lang\"],\n",
        "    \"operator\": \"Equal\",\n",
        "    \"valueString\": results_lang\n",
        "    }\n",
        "\n",
        "    response = (\n",
        "        client.query.get(\"Articles\", properties)\n",
        "        .with_bm25(\n",
        "          query=query\n",
        "        )\n",
        "        .with_where(where_filter)\n",
        "        .with_limit(num_results)\n",
        "        .do()\n",
        "        )\n",
        "    result = response['data']['Get']['Articles']\n",
        "    return result\n",
        "\n",
        "\n",
        "def dense_retrieval(query,\n",
        "                    client,\n",
        "                    results_lang='en',\n",
        "                    properties = [\"text\", \"title\", \"url\", \"views\", \"lang\", \"_additional {distance}\"],\n",
        "                    num_results=5):\n",
        "\n",
        "    nearText = {\"concepts\": [query]}\n",
        "\n",
        "    # To filter by language\n",
        "    where_filter = {\n",
        "    \"path\": [\"lang\"],\n",
        "    \"operator\": \"Equal\",\n",
        "    \"valueString\": results_lang\n",
        "    }\n",
        "    response = (\n",
        "        client.query\n",
        "        .get(\"Articles\", properties)\n",
        "        .with_near_text(nearText)\n",
        "        .with_where(where_filter)\n",
        "        .with_limit(num_results)\n",
        "        .do()\n",
        "    )\n",
        "\n",
        "    result = response['data']['Get']['Articles']\n",
        "\n",
        "    return result\n",
        "\n",
        "\n",
        "def print_result(result):\n",
        "    \"\"\" Print results with colorful formatting \"\"\"\n",
        "    for i,item in enumerate(result):\n",
        "        print(f'item {i}')\n",
        "        for key in item.keys():\n",
        "            print(f\"{key}:{item.get(key)}\")\n",
        "            print()\n",
        "        print()"
      ],
      "metadata": {
        "colab": {
          "base_uri": "https://localhost:8080/"
        },
        "id": "gIRbCmYqMPm-",
        "outputId": "99bebc36-d456-493f-e913-819e63018cef"
      },
      "id": "gIRbCmYqMPm-",
      "execution_count": 8,
      "outputs": [
        {
          "output_type": "stream",
          "name": "stdout",
          "text": [
            "Writing utils.py\n"
          ]
        }
      ]
    },
    {
      "cell_type": "code",
      "execution_count": 9,
      "id": "b8561fbf-035e-4856-a97f-8eda21d32a81",
      "metadata": {
        "height": 30,
        "id": "b8561fbf-035e-4856-a97f-8eda21d32a81"
      },
      "outputs": [],
      "source": [
        "from utils import dense_retrieval"
      ]
    },
    {
      "cell_type": "code",
      "execution_count": 10,
      "id": "15694a5c-3525-49cc-b5e9-d1c34ae0fbe9",
      "metadata": {
        "height": 30,
        "id": "15694a5c-3525-49cc-b5e9-d1c34ae0fbe9"
      },
      "outputs": [],
      "source": [
        "query = \"What is the capital of Canada?\""
      ]
    },
    {
      "cell_type": "code",
      "execution_count": 11,
      "id": "6dfede25-8a43-41c9-9328-d331695c4fcb",
      "metadata": {
        "height": 30,
        "id": "6dfede25-8a43-41c9-9328-d331695c4fcb"
      },
      "outputs": [],
      "source": [
        "dense_retrieval_results = dense_retrieval(query, client)"
      ]
    },
    {
      "cell_type": "code",
      "execution_count": 12,
      "id": "1822cc6c-ddc2-4938-b746-7cda2506d51e",
      "metadata": {
        "height": 30,
        "id": "1822cc6c-ddc2-4938-b746-7cda2506d51e"
      },
      "outputs": [],
      "source": [
        "from utils import print_result"
      ]
    },
    {
      "cell_type": "code",
      "execution_count": 13,
      "id": "2990c5c4-1b63-453e-8dd8-8568cb7872f5",
      "metadata": {
        "height": 30,
        "colab": {
          "base_uri": "https://localhost:8080/"
        },
        "id": "2990c5c4-1b63-453e-8dd8-8568cb7872f5",
        "outputId": "134a19f4-fb84-49c8-86e2-47209f400810"
      },
      "outputs": [
        {
          "output_type": "stream",
          "name": "stdout",
          "text": [
            "item 0\n",
            "_additional:{'distance': -150.80109}\n",
            "\n",
            "lang:en\n",
            "\n",
            "text:The governor general of the province had designated Kingston as the capital in 1841. However, the major population centres of Toronto and Montreal, as well as the former capital of Lower Canada, Quebec City, all had legislators dissatisfied with Kingston. Anglophone merchants in Quebec were the main group supportive of the Kingston arrangement. In 1842, a vote rejected Kingston as the capital, and study of potential candidates included the then-named Bytown, but that option proved less popular than Toronto or Montreal. In 1843, a report of the Executive Council recommended Montreal as the capital as a more fortifiable location and commercial centre, however, the Governor General refused to execute a move without a parliamentary vote. In 1844, the Queen's acceptance of a parliamentary vote moved the capital to Montreal.\n",
            "\n",
            "title:Ottawa\n",
            "\n",
            "url:https://en.wikipedia.org/wiki?curid=22219\n",
            "\n",
            "views:2000\n",
            "\n",
            "\n",
            "item 1\n",
            "_additional:{'distance': -150.28123}\n",
            "\n",
            "lang:en\n",
            "\n",
            "text:For brief periods, Toronto was twice the capital of the united Province of Canada: first from 1849 to 1852, following unrest in Montreal, and later 1856–1858. After this date, Quebec was designated as the capital until 1866 (one year before Canadian Confederation). Since then, the capital of Canada has remained Ottawa, Ontario.\n",
            "\n",
            "title:Toronto\n",
            "\n",
            "url:https://en.wikipedia.org/wiki?curid=64646\n",
            "\n",
            "views:3000\n",
            "\n",
            "\n",
            "item 2\n",
            "_additional:{'distance': -150.02426}\n",
            "\n",
            "lang:en\n",
            "\n",
            "text:Selection of Ottawa as the capital of Canada predates the Confederation of Canada. The selection was contentious and not straightforward, with the parliament of the United Province of Canada holding more than 200 votes over several decades to attempt to settle on a legislative solution to the location of the capital.\n",
            "\n",
            "title:Ottawa\n",
            "\n",
            "url:https://en.wikipedia.org/wiki?curid=22219\n",
            "\n",
            "views:2000\n",
            "\n",
            "\n",
            "item 3\n",
            "_additional:{'distance': -149.92064}\n",
            "\n",
            "lang:en\n",
            "\n",
            "text:Until the late 18th century Québec was the most populous city in present-day Canada. As of the census of 1790, Montreal surpassed it with 18,000 inhabitants, but Quebec (pop. 14,000) remained the administrative capital of New France. It was then made the capital of Lower Canada by the Constitutional Act of 1791. From 1841 to 1867, the capital of the Province of Canada rotated between Kingston, Montreal, Toronto, Ottawa and Quebec City (from 1852 to 1856 and from 1859 to 1866).\n",
            "\n",
            "title:Quebec City\n",
            "\n",
            "url:https://en.wikipedia.org/wiki?curid=100727\n",
            "\n",
            "views:2000\n",
            "\n",
            "\n",
            "item 4\n",
            "_additional:{'distance': -149.70943}\n",
            "\n",
            "lang:en\n",
            "\n",
            "text:The Quebec Conference on Canadian Confederation was held in the city in 1864. In 1867, Queen Victoria chose Ottawa as the definite capital of the Dominion of Canada, while Quebec City was confirmed as the capital of the newly created province of Quebec.\n",
            "\n",
            "title:Quebec City\n",
            "\n",
            "url:https://en.wikipedia.org/wiki?curid=100727\n",
            "\n",
            "views:2000\n",
            "\n",
            "\n"
          ]
        }
      ],
      "source": [
        "print_result(dense_retrieval_results)"
      ]
    },
    {
      "cell_type": "code",
      "source": [
        "dense_retrieval_results"
      ],
      "metadata": {
        "colab": {
          "base_uri": "https://localhost:8080/"
        },
        "id": "N79LYXBzMyYK",
        "outputId": "1457b0c0-fe55-45b2-c0b9-31a132f12281"
      },
      "id": "N79LYXBzMyYK",
      "execution_count": 14,
      "outputs": [
        {
          "output_type": "execute_result",
          "data": {
            "text/plain": [
              "[{'_additional': {'distance': -150.80109},\n",
              "  'lang': 'en',\n",
              "  'text': \"The governor general of the province had designated Kingston as the capital in 1841. However, the major population centres of Toronto and Montreal, as well as the former capital of Lower Canada, Quebec City, all had legislators dissatisfied with Kingston. Anglophone merchants in Quebec were the main group supportive of the Kingston arrangement. In 1842, a vote rejected Kingston as the capital, and study of potential candidates included the then-named Bytown, but that option proved less popular than Toronto or Montreal. In 1843, a report of the Executive Council recommended Montreal as the capital as a more fortifiable location and commercial centre, however, the Governor General refused to execute a move without a parliamentary vote. In 1844, the Queen's acceptance of a parliamentary vote moved the capital to Montreal.\",\n",
              "  'title': 'Ottawa',\n",
              "  'url': 'https://en.wikipedia.org/wiki?curid=22219',\n",
              "  'views': 2000},\n",
              " {'_additional': {'distance': -150.28123},\n",
              "  'lang': 'en',\n",
              "  'text': 'For brief periods, Toronto was twice the capital of the united Province of Canada: first from 1849 to 1852, following unrest in Montreal, and later 1856–1858. After this date, Quebec was designated as the capital until 1866 (one year before Canadian Confederation). Since then, the capital of Canada has remained Ottawa, Ontario.',\n",
              "  'title': 'Toronto',\n",
              "  'url': 'https://en.wikipedia.org/wiki?curid=64646',\n",
              "  'views': 3000},\n",
              " {'_additional': {'distance': -150.02426},\n",
              "  'lang': 'en',\n",
              "  'text': 'Selection of Ottawa as the capital of Canada predates the Confederation of Canada. The selection was contentious and not straightforward, with the parliament of the United Province of Canada holding more than 200 votes over several decades to attempt to settle on a legislative solution to the location of the capital.',\n",
              "  'title': 'Ottawa',\n",
              "  'url': 'https://en.wikipedia.org/wiki?curid=22219',\n",
              "  'views': 2000},\n",
              " {'_additional': {'distance': -149.92064},\n",
              "  'lang': 'en',\n",
              "  'text': 'Until the late 18th century Québec was the most populous city in present-day Canada. As of the census of 1790, Montreal surpassed it with 18,000 inhabitants, but Quebec (pop. 14,000) remained the administrative capital of New France. It was then made the capital of Lower Canada by the Constitutional Act of 1791. From 1841 to 1867, the capital of the Province of Canada rotated between Kingston, Montreal, Toronto, Ottawa and Quebec City (from 1852 to 1856 and from 1859 to 1866).',\n",
              "  'title': 'Quebec City',\n",
              "  'url': 'https://en.wikipedia.org/wiki?curid=100727',\n",
              "  'views': 2000},\n",
              " {'_additional': {'distance': -149.70943},\n",
              "  'lang': 'en',\n",
              "  'text': 'The Quebec Conference on Canadian Confederation was held in the city in 1864. In 1867, Queen Victoria chose Ottawa as the definite capital of the Dominion of Canada, while Quebec City was confirmed as the capital of the newly created province of Quebec.',\n",
              "  'title': 'Quebec City',\n",
              "  'url': 'https://en.wikipedia.org/wiki?curid=100727',\n",
              "  'views': 2000}]"
            ]
          },
          "metadata": {},
          "execution_count": 14
        }
      ]
    },
    {
      "cell_type": "markdown",
      "id": "db449134",
      "metadata": {
        "id": "db449134"
      },
      "source": [
        "## Improving Keyword Search with ReRank"
      ]
    },
    {
      "cell_type": "code",
      "execution_count": 15,
      "id": "8071c68a-6dec-47f9-b5e1-473f9acdc83f",
      "metadata": {
        "height": 30,
        "id": "8071c68a-6dec-47f9-b5e1-473f9acdc83f"
      },
      "outputs": [],
      "source": [
        "from utils import keyword_search"
      ]
    },
    {
      "cell_type": "code",
      "execution_count": 16,
      "id": "aa47e41a-5988-4405-af7b-c7cb7382eed9",
      "metadata": {
        "height": 30,
        "id": "aa47e41a-5988-4405-af7b-c7cb7382eed9"
      },
      "outputs": [],
      "source": [
        "query_1 = \"What is the capital of Canada?\""
      ]
    },
    {
      "cell_type": "code",
      "execution_count": 17,
      "id": "e851efa5-10c7-4f98-85f1-2a1c565d9723",
      "metadata": {
        "height": 200,
        "colab": {
          "base_uri": "https://localhost:8080/"
        },
        "id": "e851efa5-10c7-4f98-85f1-2a1c565d9723",
        "outputId": "3a47b281-106d-4143-fe98-a9667bf92ba4"
      },
      "outputs": [
        {
          "output_type": "stream",
          "name": "stdout",
          "text": [
            "i:0\n",
            "Monarchy of Canada\n",
            "In his 1990 book, \"Continental Divide: the Values and Institutions of the United States and Canada,\" Seymour Martin Lipset argues that the presence of the monarchy in Canada helps distinguish Canadian identity from American identity. Since at least the 1930s, supporters of the Crown have held the opinion that the Canadian monarch is also one of the rare unified elements of Canadian society, focusing both \"the historic consciousness of the nation\" and various forms of patriotism and national love \"[on] the point around which coheres the nation's sense of a continuing personality\". Former Governor General Vincent Massey articulated in 1967 that the monarchy \"is part of ourselves. It is linked in a very special way with our national life. It stands for qualities and institutions which mean Canada to every one of us and which for all our differences and all our variety have kept Canada Canadian.\" But, according to Arthur Bousfield and Gary Toffoli, Canadians were, through the late 1960s to the 2000s, encouraged by the federal government to \"neglect, ignore, forget, reject, debase, suppress, even hate, and certainly treat as foreign what their parents and grandparents, whether spiritual or blood, regarded as the basis of Canadian nationhood, autonomy, and history\", including the monarchy. Former Governor General Roland Michener said in 1970 that anti-monarchists claimed the Canadian Crown is foreign and incompatible with Canada's multicultural society, which the government promoted as a Canadian identifier, and Lawrence Martin called in 2007 for Canada to become a republic in order to \"re-brand the nation\". However, Michener also stated, \"[the monarchy] is our own by inheritance and choice, and contributes much to our distinctive Canadian identity and our chances of independent survival amongst the republics of North and South America.\" Journalist Christina Blizzard emphasized in 2009 that the monarchy \"made [Canada] a haven of peace and justice for immigrants from around the world\", while Michael Valpy contended in 2009 that the Crown's nature permitted non-conformity amongst its subjects, thereby opening the door to multiculturalism and pluralism.\n",
            "i:1\n",
            "Early modern period\n",
            "North America outside the zone of Spanish settlement was a contested area in the 17th century. Spain had founded small settlements in Florida and Georgia but nowhere near the size of those in New Spain or the Caribbean islands. France, The Netherlands, and Great Britain held several colonies in North America and the West Indies from the 17th century, 100 years after the Spanish and Portuguese established permanent colonies. The British colonies in North America were founded between 1607 (Virginia) and 1733 (Georgia). The Dutch explored the east coast of North America and began founding settlements in what they called New Netherland (now New York State.). France colonized what is now Eastern Canada, founding Quebec City in 1608. France's loss in the Seven Years' War resulted in the transfer of New France to Great Britain. The Thirteen Colonies, in lower British North America, rebelled against British rule in 1775, largely due to the taxation that Great Britain was imposing on the colonies. The British colonies in Canada remained loyal to the crown, and a provisional government formed by the Thirteen Colonies proclaimed their independence on July 4, 1776 and subsequently became the original 13 United States of America. With the 1783 Treaty of Paris ending the American Revolutionary War, Britain recognised the former Thirteen Colonies' independence.\n",
            "i:2\n",
            "Flag of Canada\n",
            "By the Second World War, the Red Ensign was viewed as Canada's \"de facto\" national flag. A joint committee of the Senate and House of Commons was appointed on November 8, 1945, to recommend a national flag to officially adopt. It received 2,409 designs from the public and was addressed by the director of the Historical Section of the Canadian Army, Fortescue Duguid, who pointed out that red and white were Canada's official colours and there was already an emblem representing the country: three joined maple leaves seen on the escutcheon of the Canadian coat of arms. By May 9 the following year, the committee reported back with a recommendation \"that the national flag of Canada should be the Canadian red ensign with a maple leaf in autumn golden colours in a bordered background of white\". The Legislative Assembly of Quebec had urged the committee to not include any of what it deemed as \"foreign symbols\", including the Union Flag, and Mackenzie King, then still prime minister, declined to act on the report; fearing it may lead to political instability. As a result, the Union Flag was kept as a national flag, and the order to fly the Canadian Red Ensign at government buildings was maintained.\n"
          ]
        }
      ],
      "source": [
        "query_1 = \"What is the capital of Canada?\"\n",
        "results = keyword_search(query_1,\n",
        "                         client,\n",
        "                         properties=[\"text\", \"title\", \"url\", \"views\", \"lang\", \"_additional {distance}\"],\n",
        "                         num_results=3\n",
        "                        )\n",
        "\n",
        "for i, result in enumerate(results):\n",
        "    print(f\"i:{i}\")\n",
        "    print(result.get('title'))\n",
        "    print(result.get('text'))"
      ]
    },
    {
      "cell_type": "code",
      "execution_count": 18,
      "id": "6e1b2d2c",
      "metadata": {
        "height": 200,
        "colab": {
          "base_uri": "https://localhost:8080/"
        },
        "collapsed": true,
        "id": "6e1b2d2c",
        "outputId": "a3718355-2aac-47bb-a2a5-3462eecabf56"
      },
      "outputs": [
        {
          "output_type": "stream",
          "name": "stdout",
          "text": [
            "i:0\n",
            "Monarchy of Canada\n",
            "i:1\n",
            "Early modern period\n",
            "i:2\n",
            "Flag of Canada\n",
            "i:3\n",
            "Flag of Canada\n",
            "i:4\n",
            "Prime Minister of Canada\n",
            "i:5\n",
            "Hamilton, Ontario\n",
            "i:6\n",
            "Liberal Party of Canada\n",
            "i:7\n",
            "Stephen Harper\n",
            "i:8\n",
            "Monarchy of Canada\n",
            "i:9\n",
            "Flag of Canada\n",
            "i:10\n",
            "Order of Canada\n",
            "i:11\n",
            "University of Toronto\n",
            "i:12\n",
            "Newfoundland (island)\n",
            "i:13\n",
            "Liberal Party of Canada\n",
            "i:14\n",
            "Newfoundland (island)\n",
            "i:15\n",
            "Flag of Canada\n",
            "i:16\n",
            "North American Free Trade Agreement\n",
            "i:17\n",
            "Pea\n",
            "i:18\n",
            "Monarchy of Canada\n",
            "i:19\n",
            "Prime Minister of Canada\n",
            "i:20\n",
            "Hamilton, Ontario\n",
            "i:21\n",
            "Aesop's Fables\n",
            "i:22\n",
            "Revolutions of 1989\n",
            "i:23\n",
            "R.S.C. Anderlecht\n",
            "i:24\n",
            "Hudson's Bay Company\n",
            "i:25\n",
            "Liberal Party of Canada\n",
            "i:26\n",
            "2020–21 NBA season\n",
            "i:27\n",
            "Filibuster\n",
            "i:28\n",
            "Hardcore punk\n",
            "i:29\n",
            "Early modern period\n",
            "i:30\n",
            "Skopje\n",
            "i:31\n",
            "Venture capital\n",
            "i:32\n",
            "Wakanda\n",
            "i:33\n",
            "Arjuna\n",
            "i:34\n",
            "Luhansk\n",
            "i:35\n",
            "Arlington National Cemetery\n",
            "i:36\n",
            "North American Free Trade Agreement\n",
            "i:37\n",
            "Global North and Global South\n",
            "i:38\n",
            "Shia–Sunni relations\n",
            "i:39\n",
            "Jacob Zuma\n",
            "i:40\n",
            "Early modern period\n",
            "i:41\n",
            "Maui\n",
            "i:42\n",
            "Gerhard Schröder\n",
            "i:43\n",
            "Revolutions of 1989\n",
            "i:44\n",
            "Earl Warren\n",
            "i:45\n",
            "Mary Celeste\n",
            "i:46\n",
            "Exodus: Gods and Kings\n",
            "i:47\n",
            "Phnom Penh\n",
            "i:48\n",
            "Quebec\n",
            "i:49\n",
            "Air Canada\n",
            "i:50\n",
            "Americas\n",
            "i:51\n",
            "Canada\n",
            "i:52\n",
            "Indigenous peoples\n",
            "i:53\n",
            "Toronto Blue Jays\n",
            "i:54\n",
            "Canada men's national soccer team\n",
            "i:55\n",
            "Métis\n",
            "i:56\n",
            "Monarchy of Canada\n",
            "i:57\n",
            "Capitol Records\n",
            "i:58\n",
            "Air Canada\n",
            "i:59\n",
            "Canadian Broadcasting Corporation\n",
            "i:60\n",
            "Canada\n",
            "i:61\n",
            "Air Canada\n",
            "i:62\n",
            "Air Canada\n",
            "i:63\n",
            "Order of Canada\n",
            "i:64\n",
            "Canada\n",
            "i:65\n",
            "Order of Canada\n",
            "i:66\n",
            "Toronto\n",
            "i:67\n",
            "Air Canada\n",
            "i:68\n",
            "Ontario\n",
            "i:69\n",
            "Canada\n",
            "i:70\n",
            "United States men's national soccer team\n",
            "i:71\n",
            "Canada\n",
            "i:72\n",
            "George VI\n",
            "i:73\n",
            "Canada men's national soccer team\n",
            "i:74\n",
            "Canada\n",
            "i:75\n",
            "Steve Nash\n",
            "i:76\n",
            "Monarchy of Canada\n",
            "i:77\n",
            "Canada men's national soccer team\n",
            "i:78\n",
            "Pierre Trudeau\n",
            "i:79\n",
            "Pierre Trudeau\n",
            "i:80\n",
            "Air Canada\n",
            "i:81\n",
            "Air Canada\n",
            "i:82\n",
            "Monarchy of Canada\n",
            "i:83\n",
            "Air Canada\n",
            "i:84\n",
            "Air Canada\n",
            "i:85\n",
            "Air Canada\n",
            "i:86\n",
            "Canada\n",
            "i:87\n",
            "Walmart\n",
            "i:88\n",
            "Canadian Broadcasting Corporation\n",
            "i:89\n",
            "Canada\n",
            "i:90\n",
            "Air Canada\n",
            "i:91\n",
            "Wayne Gretzky\n",
            "i:92\n",
            "Canada\n",
            "i:93\n",
            "Underground Railroad\n",
            "i:94\n",
            "Ottawa\n",
            "i:95\n",
            "Montreal\n",
            "i:96\n",
            "Joni Mitchell\n",
            "i:97\n",
            "Air Canada\n",
            "i:98\n",
            "Conservative Party of Canada\n",
            "i:99\n",
            "Canada\n",
            "i:100\n",
            "Montreal\n",
            "i:101\n",
            "Millennials\n",
            "i:102\n",
            "Charles de Gaulle\n",
            "i:103\n",
            "Canada\n",
            "i:104\n",
            "Monarchy of Canada\n",
            "i:105\n",
            "Beaver\n",
            "i:106\n",
            "Canada men's national soccer team\n",
            "i:107\n",
            "Canada men's national soccer team\n",
            "i:108\n",
            "Winnipeg\n",
            "i:109\n",
            "Reindeer\n",
            "i:110\n",
            "Monarchy of Canada\n",
            "i:111\n",
            "Order of Canada\n",
            "i:112\n",
            "Country music\n",
            "i:113\n",
            "Platinum Jubilee of Elizabeth II\n",
            "i:114\n",
            "Quebec\n",
            "i:115\n",
            "Monarchy of Canada\n",
            "i:116\n",
            "Nestlé\n",
            "i:117\n",
            "Air Canada\n",
            "i:118\n",
            "Canada\n",
            "i:119\n",
            "Air Canada\n",
            "i:120\n",
            "Air Canada\n",
            "i:121\n",
            "Canada\n",
            "i:122\n",
            "McGill University\n",
            "i:123\n",
            "Ice hockey\n",
            "i:124\n",
            "Air Canada\n",
            "i:125\n",
            "Canada\n",
            "i:126\n",
            "Canada\n",
            "i:127\n",
            "Monarchy of Canada\n",
            "i:128\n",
            "Supertramp\n",
            "i:129\n",
            "Canada\n",
            "i:130\n",
            "Sildenafil\n",
            "i:131\n",
            "Justin Trudeau\n",
            "i:132\n",
            "Presbyterianism\n",
            "i:133\n",
            "Order of Canada\n",
            "i:134\n",
            "Provinces and territories of Canada\n",
            "i:135\n",
            "Canada\n",
            "i:136\n",
            "Canada men's national soccer team\n",
            "i:137\n",
            "Air Canada\n",
            "i:138\n",
            "North America\n",
            "i:139\n",
            "Canada\n",
            "i:140\n",
            "Flag of Canada\n",
            "i:141\n",
            "Constitution\n",
            "i:142\n",
            "Quebec\n",
            "i:143\n",
            "Degrassi: The Next Generation\n",
            "i:144\n",
            "Celine Dion\n",
            "i:145\n",
            "Quebec\n",
            "i:146\n",
            "Air Canada\n",
            "i:147\n",
            "Canadian Broadcasting Corporation\n",
            "i:148\n",
            "Mohammed bin Salman\n",
            "i:149\n",
            "Monarch butterfly\n",
            "i:150\n",
            "Canada\n",
            "i:151\n",
            "University of Toronto\n",
            "i:152\n",
            "Beaufort scale\n",
            "i:153\n",
            "Canada\n",
            "i:154\n",
            "Conservative Party of Canada\n",
            "i:155\n",
            "Assisted suicide\n",
            "i:156\n",
            "Liberal Party of Canada\n",
            "i:157\n",
            "Fleur-de-lis\n",
            "i:158\n",
            "Bobcat\n",
            "i:159\n",
            "Air Canada\n",
            "i:160\n",
            "Embraer E-Jet family\n",
            "i:161\n",
            "Canada\n",
            "i:162\n",
            "Canada men's national soccer team\n",
            "i:163\n",
            "Santa Claus\n",
            "i:164\n",
            "Canada\n",
            "i:165\n",
            "Monarchy of Canada\n",
            "i:166\n",
            "Canada\n",
            "i:167\n",
            "Canada\n",
            "i:168\n",
            "Great Reset\n",
            "i:169\n",
            "Stephen Harper\n",
            "i:170\n",
            "Methodism\n",
            "i:171\n",
            "De Havilland Canada Dash 8\n",
            "i:172\n",
            "Montreal\n",
            "i:173\n",
            "Martin Van Buren\n",
            "i:174\n",
            "Monarchy of Canada\n",
            "i:175\n",
            "Air Canada\n",
            "i:176\n",
            "Sidney Crosby\n",
            "i:177\n",
            "Rudyard Kipling\n",
            "i:178\n",
            "Canada\n",
            "i:179\n",
            "Kyoto Protocol\n",
            "i:180\n",
            "Quebec\n",
            "i:181\n",
            "Liberal Party of Canada\n",
            "i:182\n",
            "North America\n",
            "i:183\n",
            "Alphonso Davies\n",
            "i:184\n",
            "Liberal Party of Canada\n",
            "i:185\n",
            "Boeing F/A-18E/F Super Hornet\n",
            "i:186\n",
            "Underground Railroad\n",
            "i:187\n",
            "Canada men's national soccer team\n",
            "i:188\n",
            "Canada\n",
            "i:189\n",
            "The Marshall Mathers LP\n",
            "i:190\n",
            "2022 FIFA World Cup\n",
            "i:191\n",
            "History of slavery\n",
            "i:192\n",
            "War of 1812\n",
            "i:193\n",
            "Stephen Harper\n",
            "i:194\n",
            "Monarchy of Canada\n",
            "i:195\n",
            "Air Canada\n",
            "i:196\n",
            "History of Ukraine\n",
            "i:197\n",
            "Conservative Party of Canada\n",
            "i:198\n",
            "Commonwealth realm\n",
            "i:199\n",
            "Monarchy of Canada\n",
            "i:200\n",
            "Bryan Adams\n",
            "i:201\n",
            "Air Canada\n",
            "i:202\n",
            "Ottawa\n",
            "i:203\n",
            "Lynx\n",
            "i:204\n",
            "Air Canada\n",
            "i:205\n",
            "Air Canada\n",
            "i:206\n",
            "Air Canada\n",
            "i:207\n",
            "Methodism\n",
            "i:208\n",
            "Canada men's national soccer team\n",
            "i:209\n",
            "Calgary\n",
            "i:210\n",
            "Monarchy of Canada\n",
            "i:211\n",
            "Canada\n",
            "i:212\n",
            "Canada men's national soccer team\n",
            "i:213\n",
            "Canada\n",
            "i:214\n",
            "The Home Depot\n",
            "i:215\n",
            "Conservatism\n",
            "i:216\n",
            "Air Canada\n",
            "i:217\n",
            "Air Canada\n",
            "i:218\n",
            "Monarchy of Canada\n",
            "i:219\n",
            "Montreal\n",
            "i:220\n",
            "ICICI Bank\n",
            "i:221\n",
            "Doctor of Medicine\n",
            "i:222\n",
            "Great Plains\n",
            "i:223\n",
            "Mennonites\n",
            "i:224\n",
            "Union Jack\n",
            "i:225\n",
            "Canada\n",
            "i:226\n",
            "Air Canada\n",
            "i:227\n",
            "Capitol Records\n",
            "i:228\n",
            "Ontario\n",
            "i:229\n",
            "Regiment\n",
            "i:230\n",
            "Air Canada\n",
            "i:231\n",
            "Eugene Levy\n",
            "i:232\n",
            "Air Canada\n",
            "i:233\n",
            "North America\n",
            "i:234\n",
            "Reindeer\n",
            "i:235\n",
            "Liberal Party of Canada\n",
            "i:236\n",
            "Scotland\n",
            "i:237\n",
            "Tim Hortons\n",
            "i:238\n",
            "Chrystia Freeland\n",
            "i:239\n",
            "Air Canada\n",
            "i:240\n",
            "Canada men's national soccer team\n",
            "i:241\n",
            "Alphonso Davies\n",
            "i:242\n",
            "Air Canada\n",
            "i:243\n",
            "Common European Framework of Reference for Languages\n",
            "i:244\n",
            "Canada men's national soccer team\n",
            "i:245\n",
            "Provinces and territories of Canada\n",
            "i:246\n",
            "Canada\n",
            "i:247\n",
            "Ice hockey\n",
            "i:248\n",
            "Flag of Canada\n",
            "i:249\n",
            "Order of Canada\n",
            "i:250\n",
            "Quebec\n",
            "i:251\n",
            "Thanksgiving\n",
            "i:252\n",
            "Provinces and territories of Canada\n",
            "i:253\n",
            "Canada men's national soccer team\n",
            "i:254\n",
            "North American Free Trade Agreement\n",
            "i:255\n",
            "Provinces and territories of Canada\n",
            "i:256\n",
            "Alberta\n",
            "i:257\n",
            "Canada\n",
            "i:258\n",
            "Conservative Party of Canada\n",
            "i:259\n",
            "Calgary\n",
            "i:260\n",
            "Steve Nash\n",
            "i:261\n",
            "Canada\n",
            "i:262\n",
            "Al Capone\n",
            "i:263\n",
            "Monarchy of Canada\n",
            "i:264\n",
            "Conservative Party of Canada\n",
            "i:265\n",
            "Prime Minister of Canada\n",
            "i:266\n",
            "Underground Railroad\n",
            "i:267\n",
            "Air Canada\n",
            "i:268\n",
            "Heavy water\n",
            "i:269\n",
            "Boeing P-8 Poseidon\n",
            "i:270\n",
            "Alphonso Davies\n",
            "i:271\n",
            "Winnipeg\n",
            "i:272\n",
            "Flag of Canada\n",
            "i:273\n",
            "12 Rules for Life\n",
            "i:274\n",
            "Provinces and territories of Canada\n",
            "i:275\n",
            "Air Canada\n",
            "i:276\n",
            "Sidney Crosby\n",
            "i:277\n",
            "Canada\n",
            "i:278\n",
            "Calgary\n",
            "i:279\n",
            "Prime Minister of Canada\n",
            "i:280\n",
            "Christopher Plummer\n",
            "i:281\n",
            "Lynx\n",
            "i:282\n",
            "Wolf\n",
            "i:283\n",
            "Warner Music Group\n",
            "i:284\n",
            "Canada\n",
            "i:285\n",
            "Americas\n",
            "i:286\n",
            "Prince Edward, Duke of Kent and Strathearn\n",
            "i:287\n",
            "Canada\n",
            "i:288\n",
            "Provinces and territories of Canada\n",
            "i:289\n",
            "Provinces and territories of Canada\n",
            "i:290\n",
            "Canada\n",
            "i:291\n",
            "Liberal Party of Canada\n",
            "i:292\n",
            "Ontario\n",
            "i:293\n",
            "Pierre Trudeau\n",
            "i:294\n",
            "Three Days Grace\n",
            "i:295\n",
            "Canada\n",
            "i:296\n",
            "Reindeer\n",
            "i:297\n",
            "Newfoundland and Labrador\n",
            "i:298\n",
            "Millennials\n",
            "i:299\n",
            "London, Ontario\n",
            "i:300\n",
            "De Havilland Canada Dash 8\n",
            "i:301\n",
            "North America\n",
            "i:302\n",
            "Canada\n",
            "i:303\n",
            "COVID-19 pandemic\n",
            "i:304\n",
            "Canada men's national soccer team\n",
            "i:305\n",
            "Hyundai Motor Company\n",
            "i:306\n",
            "Monarchy of Canada\n",
            "i:307\n",
            "Volkswagen\n",
            "i:308\n",
            "Canada\n",
            "i:309\n",
            "War of 1812\n",
            "i:310\n",
            "Roaring Twenties\n",
            "i:311\n",
            "Countries of the United Kingdom\n",
            "i:312\n",
            "Gujarati people\n",
            "i:313\n",
            "McGill University\n",
            "i:314\n",
            "Canada\n",
            "i:315\n",
            "McGill University\n",
            "i:316\n",
            "Greater Toronto Area\n",
            "i:317\n",
            "Great Replacement\n",
            "i:318\n",
            "Monarchy of Canada\n",
            "i:319\n",
            "Canada\n",
            "i:320\n",
            "British Empire\n",
            "i:321\n",
            "Juris Doctor\n",
            "i:322\n",
            "Liberal Party of Canada\n",
            "i:323\n",
            "2022 Atlantic hurricane season\n",
            "i:324\n",
            "Canada\n",
            "i:325\n",
            "North American Free Trade Agreement\n",
            "i:326\n",
            "Monarchy of Canada\n",
            "i:327\n",
            "Sidney Crosby\n",
            "i:328\n",
            "Canada men's national soccer team\n",
            "i:329\n",
            "Beluga whale\n",
            "i:330\n",
            "Baby boomers\n",
            "i:331\n",
            "Canada men's national soccer team\n",
            "i:332\n",
            "'Ndrangheta\n",
            "i:333\n",
            "Commonwealth realm\n",
            "i:334\n",
            "Rugby union\n",
            "i:335\n",
            "Newfoundland and Labrador\n",
            "i:336\n",
            "Canada\n",
            "i:337\n",
            "Alberta\n",
            "i:338\n",
            "Iroquois\n",
            "i:339\n",
            "British Empire\n",
            "i:340\n",
            "Monarchy of Canada\n",
            "i:341\n",
            "Air Canada\n",
            "i:342\n",
            "Canada men's national soccer team\n",
            "i:343\n",
            "Avril Lavigne\n",
            "i:344\n",
            "Methodism\n",
            "i:345\n",
            "William Howard Taft\n",
            "i:346\n",
            "Monarchy of Canada\n",
            "i:347\n",
            "Acronym\n",
            "i:348\n",
            "Pat Benatar\n",
            "i:349\n",
            "Ontario\n",
            "i:350\n",
            "Monarchy of Canada\n",
            "i:351\n",
            "Flag of Canada\n",
            "i:352\n",
            "Connor McDavid\n",
            "i:353\n",
            "Foreigner (band)\n",
            "i:354\n",
            "Canada men's national soccer team\n",
            "i:355\n",
            "Schitt's Creek\n",
            "i:356\n",
            "2001: A Space Odyssey (film)\n",
            "i:357\n",
            "Petroleum\n",
            "i:358\n",
            "Calgary\n",
            "i:359\n",
            "Mikhail Baryshnikov\n",
            "i:360\n",
            "Nova Scotia\n",
            "i:361\n",
            "Chelsea Manning\n",
            "i:362\n",
            "Monarchy of Canada\n",
            "i:363\n",
            "Monarchy of Canada\n",
            "i:364\n",
            "Chiropractic\n",
            "i:365\n",
            "Liberal Party of Canada\n",
            "i:366\n",
            "Pierre Trudeau\n",
            "i:367\n",
            "The Batman (film)\n",
            "i:368\n",
            "Folk music\n",
            "i:369\n",
            "Canada men's national soccer team\n",
            "i:370\n",
            "Def Leppard\n",
            "i:371\n",
            "War of 1812\n",
            "i:372\n",
            "Def Leppard\n",
            "i:373\n",
            "Prime Minister of Canada\n",
            "i:374\n",
            "Canada\n",
            "i:375\n",
            "Dunkin' Donuts\n",
            "i:376\n",
            "ABBA\n",
            "i:377\n",
            "Order of Canada\n",
            "i:378\n",
            "Pierre Trudeau\n",
            "i:379\n",
            "Commonwealth realm\n",
            "i:380\n",
            "Nope (film)\n",
            "i:381\n",
            "Habeas corpus\n",
            "i:382\n",
            "Flag of Canada\n",
            "i:383\n",
            "Coronation Street\n",
            "i:384\n",
            "Jim Carrey\n",
            "i:385\n",
            "Celine Dion\n",
            "i:386\n",
            "Electronic cigarette\n",
            "i:387\n",
            "Venture capital\n",
            "i:388\n",
            "Air Canada\n",
            "i:389\n",
            "Ethnic group\n",
            "i:390\n",
            "Border Collie\n",
            "i:391\n",
            "Order of Canada\n",
            "i:392\n",
            "Air Canada\n",
            "i:393\n",
            "Nickelback\n",
            "i:394\n",
            "Ottawa\n",
            "i:395\n",
            "Air Canada\n",
            "i:396\n",
            "Trade union\n",
            "i:397\n",
            "Prince Edward Island\n",
            "i:398\n",
            "Air Canada\n",
            "i:399\n",
            "Nova Scotia\n",
            "i:400\n",
            "Donald Sutherland\n",
            "i:401\n",
            "School shooting\n",
            "i:402\n",
            "Ice hockey\n",
            "i:403\n",
            "Kyoto Protocol\n",
            "i:404\n",
            "Canada\n",
            "i:405\n",
            "Ontario\n",
            "i:406\n",
            "Lady-in-waiting\n",
            "i:407\n",
            "Ottawa\n",
            "i:408\n",
            "Conservative Party of Canada\n",
            "i:409\n",
            "Heartland (Canadian TV series)\n",
            "i:410\n",
            "Air Canada\n",
            "i:411\n",
            "IKEA\n",
            "i:412\n",
            "Tristan Thompson\n",
            "i:413\n",
            "Fringe (TV series)\n",
            "i:414\n",
            "Suzuki\n",
            "i:415\n",
            "Air Canada\n",
            "i:416\n",
            "Provinces and territories of Canada\n",
            "i:417\n",
            "National Hockey League\n",
            "i:418\n",
            "Russell Williams (criminal)\n",
            "i:419\n",
            "Coat of arms\n",
            "i:420\n",
            "ICICI Bank\n",
            "i:421\n",
            "Canadian Broadcasting Corporation\n",
            "i:422\n",
            "Kevin O'Leary\n",
            "i:423\n",
            "University of Toronto\n",
            "i:424\n",
            "Dodge\n",
            "i:425\n",
            "Proud Boys\n",
            "i:426\n",
            "Air Canada\n",
            "i:427\n",
            "Family Guy\n",
            "i:428\n",
            "Canada\n",
            "i:429\n",
            "Union Jack\n",
            "i:430\n",
            "Canada men's national soccer team\n",
            "i:431\n",
            "Flag of Canada\n",
            "i:432\n",
            "Air Canada\n",
            "i:433\n",
            "Credit card\n",
            "i:434\n",
            "Canada\n",
            "i:435\n",
            "Justin Trudeau\n",
            "i:436\n",
            "Acre\n",
            "i:437\n",
            "McGill University\n",
            "i:438\n",
            "Conservation status\n",
            "i:439\n",
            "YMCA\n",
            "i:440\n",
            "Canadian dollar\n",
            "i:441\n",
            "ITER\n",
            "i:442\n",
            "The Mist (film)\n",
            "i:443\n",
            "The Big Bang Theory\n",
            "i:444\n",
            "Air Canada\n",
            "i:445\n",
            "Fair use\n",
            "i:446\n",
            "Provinces and territories of Canada\n",
            "i:447\n",
            "Osteopathy\n",
            "i:448\n",
            "Midsomer Murders\n",
            "i:449\n",
            "North American Free Trade Agreement\n",
            "i:450\n",
            "Rolling Stone's 100 Greatest Artists of All Time\n",
            "i:451\n",
            "Union Jack\n",
            "i:452\n",
            "Commonwealth Games\n",
            "i:453\n",
            "Canada\n",
            "i:454\n",
            "Canada\n",
            "i:455\n",
            "London, Ontario\n",
            "i:456\n",
            "Super Bowl LV\n",
            "i:457\n",
            "Mackenzie Phillips\n",
            "i:458\n",
            "Toyota\n",
            "i:459\n",
            "Alberta\n",
            "i:460\n",
            "Toronto Pearson International Airport\n",
            "i:461\n",
            "Mennonites\n",
            "i:462\n",
            "Adobe Inc.\n",
            "i:463\n",
            "Vancouver\n",
            "i:464\n",
            "Canada men's national soccer team\n",
            "i:465\n",
            "Canada\n",
            "i:466\n",
            "Columbia Records\n",
            "i:467\n",
            "Newfoundland (island)\n",
            "i:468\n",
            "Winnipeg\n",
            "i:469\n",
            "Justin Trudeau\n",
            "i:470\n",
            "Victoria, British Columbia\n",
            "i:471\n",
            "The Lord of the Rings: The Fellowship of the Ring\n",
            "i:472\n",
            "Air Canada\n",
            "i:473\n",
            "Toronto Blue Jays\n",
            "i:474\n",
            "Toronto Pearson International Airport\n",
            "i:475\n",
            "Calgary\n",
            "i:476\n",
            "Bell UH-1 Iroquois\n",
            "i:477\n",
            "Nicolas Sarkozy\n",
            "i:478\n",
            "Fake news\n",
            "i:479\n",
            "Ottawa\n",
            "i:480\n",
            "Marshall Plan\n",
            "i:481\n",
            "Canada\n",
            "i:482\n",
            "Winnipeg\n",
            "i:483\n",
            "Marshmello\n",
            "i:484\n",
            "Conservative Party of Canada\n",
            "i:485\n",
            "Canadian Broadcasting Corporation\n",
            "i:486\n",
            "Yellowstone (American TV series)\n",
            "i:487\n",
            "Edmonton\n",
            "i:488\n",
            "Sitting Bull\n",
            "i:489\n",
            "North American Free Trade Agreement\n",
            "i:490\n",
            "Canada men's national soccer team\n",
            "i:491\n",
            "Order of Canada\n",
            "i:492\n",
            "Iroquois\n",
            "i:493\n",
            "Prince Edward Island\n",
            "i:494\n",
            "Homosexuality\n",
            "i:495\n",
            "Canada\n",
            "i:496\n",
            "Quebec City\n",
            "i:497\n",
            "Prime Minister of Canada\n",
            "i:498\n",
            "Martin Short\n",
            "i:499\n",
            "Church of England\n"
          ]
        }
      ],
      "source": [
        "query_1 = \"What is the capital of Canada?\"\n",
        "results = keyword_search(query_1,\n",
        "                         client,\n",
        "                         properties=[\"text\", \"title\", \"url\", \"views\", \"lang\", \"_additional {distance}\"],\n",
        "                         num_results=500\n",
        "                        )\n",
        "\n",
        "for i, result in enumerate(results):\n",
        "    print(f\"i:{i}\")\n",
        "    print(result.get('title'))\n",
        "    #print(result.get('text'))"
      ]
    },
    {
      "cell_type": "code",
      "execution_count": 40,
      "id": "b38761f8-32b1-4b44-be97-0884894cf6b3",
      "metadata": {
        "height": 149,
        "id": "b38761f8-32b1-4b44-be97-0884894cf6b3"
      },
      "outputs": [],
      "source": [
        "def rerank_responses(query, responses, num_responses=10):\n",
        "    reranked_responses = co_v2.rerank(\n",
        "        model = 'rerank-english-v3.0',\n",
        "        query = query,\n",
        "        documents = responses,\n",
        "        top_n = num_responses,\n",
        "        )\n",
        "    return reranked_responses"
      ]
    },
    {
      "cell_type": "code",
      "execution_count": 41,
      "id": "02d3e55c-0a5b-4b3a-9a59-3f7164927dc0",
      "metadata": {
        "height": 47,
        "colab": {
          "base_uri": "https://localhost:8080/"
        },
        "id": "02d3e55c-0a5b-4b3a-9a59-3f7164927dc0",
        "outputId": "39b7adcc-5d4b-493a-9804-2bae77115b76"
      },
      "outputs": [
        {
          "output_type": "stream",
          "name": "stdout",
          "text": [
            "500\n"
          ]
        },
        {
          "output_type": "execute_result",
          "data": {
            "text/plain": [
              "['In his 1990 book, \"Continental Divide: the Values and Institutions of the United States and Canada,\" Seymour Martin Lipset argues that the presence of the monarchy in Canada helps distinguish Canadian identity from American identity. Since at least the 1930s, supporters of the Crown have held the opinion that the Canadian monarch is also one of the rare unified elements of Canadian society, focusing both \"the historic consciousness of the nation\" and various forms of patriotism and national love \"[on] the point around which coheres the nation\\'s sense of a continuing personality\". Former Governor General Vincent Massey articulated in 1967 that the monarchy \"is part of ourselves. It is linked in a very special way with our national life. It stands for qualities and institutions which mean Canada to every one of us and which for all our differences and all our variety have kept Canada Canadian.\" But, according to Arthur Bousfield and Gary Toffoli, Canadians were, through the late 1960s to the 2000s, encouraged by the federal government to \"neglect, ignore, forget, reject, debase, suppress, even hate, and certainly treat as foreign what their parents and grandparents, whether spiritual or blood, regarded as the basis of Canadian nationhood, autonomy, and history\", including the monarchy. Former Governor General Roland Michener said in 1970 that anti-monarchists claimed the Canadian Crown is foreign and incompatible with Canada\\'s multicultural society, which the government promoted as a Canadian identifier, and Lawrence Martin called in 2007 for Canada to become a republic in order to \"re-brand the nation\". However, Michener also stated, \"[the monarchy] is our own by inheritance and choice, and contributes much to our distinctive Canadian identity and our chances of independent survival amongst the republics of North and South America.\" Journalist Christina Blizzard emphasized in 2009 that the monarchy \"made [Canada] a haven of peace and justice for immigrants from around the world\", while Michael Valpy contended in 2009 that the Crown\\'s nature permitted non-conformity amongst its subjects, thereby opening the door to multiculturalism and pluralism.',\n",
              " \"North America outside the zone of Spanish settlement was a contested area in the 17th century. Spain had founded small settlements in Florida and Georgia but nowhere near the size of those in New Spain or the Caribbean islands. France, The Netherlands, and Great Britain held several colonies in North America and the West Indies from the 17th century, 100 years after the Spanish and Portuguese established permanent colonies. The British colonies in North America were founded between 1607 (Virginia) and 1733 (Georgia). The Dutch explored the east coast of North America and began founding settlements in what they called New Netherland (now New York State.). France colonized what is now Eastern Canada, founding Quebec City in 1608. France's loss in the Seven Years' War resulted in the transfer of New France to Great Britain. The Thirteen Colonies, in lower British North America, rebelled against British rule in 1775, largely due to the taxation that Great Britain was imposing on the colonies. The British colonies in Canada remained loyal to the crown, and a provisional government formed by the Thirteen Colonies proclaimed their independence on July 4, 1776 and subsequently became the original 13 United States of America. With the 1783 Treaty of Paris ending the American Revolutionary War, Britain recognised the former Thirteen Colonies' independence.\"]"
            ]
          },
          "metadata": {},
          "execution_count": 41
        }
      ],
      "source": [
        "texts = [result.get('text') for result in results]\n",
        "print(len(texts))\n",
        "texts[:2]"
      ]
    },
    {
      "cell_type": "code",
      "source": [
        "reranked_text = rerank_responses(query_1, texts)\n",
        "reranked_text"
      ],
      "metadata": {
        "colab": {
          "base_uri": "https://localhost:8080/"
        },
        "id": "N29hS882QEoe",
        "outputId": "28c9f205-2252-47e7-a117-42d82e9826e2"
      },
      "id": "N29hS882QEoe",
      "execution_count": 42,
      "outputs": [
        {
          "output_type": "execute_result",
          "data": {
            "text/plain": [
              "V2RerankResponse(id='f063653b-ba39-4f18-a751-b57b4b02b947', results=[V2RerankResponseResultsItem(document=None, index=407, relevance_score=0.9977743), V2RerankResponseResultsItem(document=None, index=100, relevance_score=0.997399), V2RerankResponseResultsItem(document=None, index=496, relevance_score=0.990732), V2RerankResponseResultsItem(document=None, index=479, relevance_score=0.9899476), V2RerankResponseResultsItem(document=None, index=481, relevance_score=0.9801293), V2RerankResponseResultsItem(document=None, index=202, relevance_score=0.95751673), V2RerankResponseResultsItem(document=None, index=68, relevance_score=0.9022657), V2RerankResponseResultsItem(document=None, index=394, relevance_score=0.82976806), V2RerankResponseResultsItem(document=None, index=271, relevance_score=0.8251675), V2RerankResponseResultsItem(document=None, index=11, relevance_score=0.8076124)], meta=ApiMeta(api_version=ApiMetaApiVersion(version='2', is_deprecated=None, is_experimental=None), billed_units=ApiMetaBilledUnits(images=None, input_tokens=None, output_tokens=None, search_units=5.0, classifications=None), tokens=None, warnings=None))"
            ]
          },
          "metadata": {},
          "execution_count": 42
        }
      ]
    },
    {
      "cell_type": "code",
      "execution_count": 43,
      "id": "6b3a380b-cebf-47da-956d-dc62dc53e5a0",
      "metadata": {
        "height": 81,
        "colab": {
          "base_uri": "https://localhost:8080/"
        },
        "id": "6b3a380b-cebf-47da-956d-dc62dc53e5a0",
        "outputId": "33aa13fd-845c-44d9-f23b-d1601e1c398c"
      },
      "outputs": [
        {
          "output_type": "stream",
          "name": "stdout",
          "text": [
            "i:0\n",
            "('id', 'f063653b-ba39-4f18-a751-b57b4b02b947')\n",
            "\n",
            "i:1\n",
            "('results', [V2RerankResponseResultsItem(document=None, index=407, relevance_score=0.9977743), V2RerankResponseResultsItem(document=None, index=100, relevance_score=0.997399), V2RerankResponseResultsItem(document=None, index=496, relevance_score=0.990732), V2RerankResponseResultsItem(document=None, index=479, relevance_score=0.9899476), V2RerankResponseResultsItem(document=None, index=481, relevance_score=0.9801293), V2RerankResponseResultsItem(document=None, index=202, relevance_score=0.95751673), V2RerankResponseResultsItem(document=None, index=68, relevance_score=0.9022657), V2RerankResponseResultsItem(document=None, index=394, relevance_score=0.82976806), V2RerankResponseResultsItem(document=None, index=271, relevance_score=0.8251675), V2RerankResponseResultsItem(document=None, index=11, relevance_score=0.8076124)])\n",
            "\n",
            "i:2\n",
            "('meta', ApiMeta(api_version=ApiMetaApiVersion(version='2', is_deprecated=None, is_experimental=None), billed_units=ApiMetaBilledUnits(images=None, input_tokens=None, output_tokens=None, search_units=5.0, classifications=None), tokens=None, warnings=None))\n",
            "\n"
          ]
        }
      ],
      "source": [
        "for i, rerank_result in enumerate(reranked_text):\n",
        "    print(f\"i:{i}\")\n",
        "    print(f\"{rerank_result}\")\n",
        "    print()"
      ]
    },
    {
      "cell_type": "code",
      "source": [
        "reranked_text.results"
      ],
      "metadata": {
        "colab": {
          "base_uri": "https://localhost:8080/"
        },
        "id": "cyQeEjJaR67D",
        "outputId": "3eff276c-71ac-4b42-972c-2c968e52d097"
      },
      "id": "cyQeEjJaR67D",
      "execution_count": 44,
      "outputs": [
        {
          "output_type": "execute_result",
          "data": {
            "text/plain": [
              "[V2RerankResponseResultsItem(document=None, index=407, relevance_score=0.9977743),\n",
              " V2RerankResponseResultsItem(document=None, index=100, relevance_score=0.997399),\n",
              " V2RerankResponseResultsItem(document=None, index=496, relevance_score=0.990732),\n",
              " V2RerankResponseResultsItem(document=None, index=479, relevance_score=0.9899476),\n",
              " V2RerankResponseResultsItem(document=None, index=481, relevance_score=0.9801293),\n",
              " V2RerankResponseResultsItem(document=None, index=202, relevance_score=0.95751673),\n",
              " V2RerankResponseResultsItem(document=None, index=68, relevance_score=0.9022657),\n",
              " V2RerankResponseResultsItem(document=None, index=394, relevance_score=0.82976806),\n",
              " V2RerankResponseResultsItem(document=None, index=271, relevance_score=0.8251675),\n",
              " V2RerankResponseResultsItem(document=None, index=11, relevance_score=0.8076124)]"
            ]
          },
          "metadata": {},
          "execution_count": 44
        }
      ]
    },
    {
      "cell_type": "code",
      "source": [
        "reranked_text.results[0].index"
      ],
      "metadata": {
        "colab": {
          "base_uri": "https://localhost:8080/"
        },
        "id": "19Sw3-x-Snjy",
        "outputId": "d9dae16d-8c15-4b1c-cd4a-90b8995f98a9"
      },
      "id": "19Sw3-x-Snjy",
      "execution_count": 46,
      "outputs": [
        {
          "output_type": "execute_result",
          "data": {
            "text/plain": [
              "407"
            ]
          },
          "metadata": {},
          "execution_count": 46
        }
      ]
    },
    {
      "cell_type": "code",
      "source": [
        "texts[reranked_text.results[0].index]"
      ],
      "metadata": {
        "colab": {
          "base_uri": "https://localhost:8080/",
          "height": 70
        },
        "id": "nX4MguhYUQNq",
        "outputId": "5d5ed340-790d-4bc4-a0f5-5d6d4df18481"
      },
      "id": "nX4MguhYUQNq",
      "execution_count": 47,
      "outputs": [
        {
          "output_type": "execute_result",
          "data": {
            "text/plain": [
              "'Selection of Ottawa as the capital of Canada predates the Confederation of Canada. The selection was contentious and not straightforward, with the parliament of the United Province of Canada holding more than 200 votes over several decades to attempt to settle on a legislative solution to the location of the capital.'"
            ],
            "application/vnd.google.colaboratory.intrinsic+json": {
              "type": "string"
            }
          },
          "metadata": {},
          "execution_count": 47
        }
      ]
    },
    {
      "cell_type": "code",
      "source": [
        "texts[reranked_text.results[1].index]"
      ],
      "metadata": {
        "colab": {
          "base_uri": "https://localhost:8080/",
          "height": 122
        },
        "id": "foiP1mGBUjwZ",
        "outputId": "f3755608-6227-4e25-bd53-61bec04df916"
      },
      "id": "foiP1mGBUjwZ",
      "execution_count": 48,
      "outputs": [
        {
          "output_type": "execute_result",
          "data": {
            "text/plain": [
              "\"Montreal was the capital of the Province of Canada from 1844 to 1849, but lost its status when a Tory mob burnt down the Parliament building to protest the passage of the Rebellion Losses Bill. Thereafter, the capital rotated between Quebec City and Toronto until in 1857, Queen Victoria herself established Ottawa as the capital due to strategic reasons. The reasons were twofold. First, because it was located more in the interior of the Province of Canada, it was less susceptible to attack from the United States. Second, and perhaps more importantly, because it lay on the border between French and English Canada, Ottawa was seen as a compromise between Montreal, Toronto, Kingston and Quebec City, which were all vying to become the young nation's official capital. Ottawa retained the status as capital of Canada when the Province of Canada joined with Nova Scotia and New Brunswick to form the Dominion of Canada in 1867.\""
            ],
            "application/vnd.google.colaboratory.intrinsic+json": {
              "type": "string"
            }
          },
          "metadata": {},
          "execution_count": 48
        }
      ]
    },
    {
      "cell_type": "markdown",
      "id": "f6cbb081",
      "metadata": {
        "id": "f6cbb081"
      },
      "source": [
        "## Improving Dense Retrieval with ReRank"
      ]
    },
    {
      "cell_type": "code",
      "execution_count": 49,
      "id": "be2e5378-ea37-4726-b3c3-5875d46759e7",
      "metadata": {
        "height": 30,
        "id": "be2e5378-ea37-4726-b3c3-5875d46759e7"
      },
      "outputs": [],
      "source": [
        "from utils import dense_retrieval"
      ]
    },
    {
      "cell_type": "code",
      "execution_count": 50,
      "id": "d5af11ea-6c30-4303-8c9e-8a5510e046bb",
      "metadata": {
        "height": 30,
        "id": "d5af11ea-6c30-4303-8c9e-8a5510e046bb"
      },
      "outputs": [],
      "source": [
        "query_2 = \"Who is the tallest person in history?\""
      ]
    },
    {
      "cell_type": "code",
      "execution_count": 51,
      "id": "4da5c744-01b8-4780-a615-0a5edf9bfbd6",
      "metadata": {
        "height": 30,
        "id": "4da5c744-01b8-4780-a615-0a5edf9bfbd6"
      },
      "outputs": [],
      "source": [
        "results = dense_retrieval(query_2,client)"
      ]
    },
    {
      "cell_type": "code",
      "execution_count": 52,
      "id": "9e4540d8-ed5e-4f97-8802-6d39a52b8964",
      "metadata": {
        "height": 98,
        "colab": {
          "base_uri": "https://localhost:8080/"
        },
        "id": "9e4540d8-ed5e-4f97-8802-6d39a52b8964",
        "outputId": "853b2da5-5608-4168-c1a5-59331bd925ac"
      },
      "outputs": [
        {
          "output_type": "stream",
          "name": "stdout",
          "text": [
            "i:0\n",
            "Robert Wadlow\n",
            "Robert Pershing Wadlow (February 22, 1918 July 15, 1940), also known as the Alton Giant and the Giant of Illinois, was a man who was the tallest person in recorded history for whom there is irrefutable evidence. He was born and raised in Alton, Illinois, a small city near St. Louis, Missouri.\n",
            "\n",
            "i:1\n",
            "Manute Bol\n",
            "Bol came from a family of extraordinarily tall men and women. He said: \"My mother was , my father , and my sister is . And my great-grandfather was even taller—.\" His ethnic group, the Dinka, and the Nilotic people of which they are a part, are among the tallest populations in the world. Bol's hometown, Turalei, is the origin of other exceptionally tall people, including basketball player Ring Ayuel. \"I was born in a village, where you cannot measure yourself,\" Bol reflected. \"I learned I was 7 foot 7 in 1979, when I was grown. I was about 18 or 19.\"\n",
            "\n",
            "i:2\n",
            "Sultan Kösen\n",
            "Sultan Kösen (born 10 December 1982) is a Turkish farmer who holds the Guinness World Record for tallest living male at . Of Kurdish ethnicity, he is the seventh tallest man in history.\n",
            "\n",
            "i:3\n",
            "Sultan Kösen\n",
            "Kösen turned 40 years old on 10 December 2022. He celebrated his birthday a few days early by visiting the Ripley's Believe It or Not! museum in Orlando, Florida, USA and posing next to a life-sized statue of Robert Wadlow, the tallest man ever at 272 cm (8 ft 11.1 in).\n",
            "\n",
            "i:4\n",
            "Netherlands\n",
            "The Dutch are the tallest people in the world, by nationality, with an average height of for adult males and for adult females in 2009. The average height of young males in the Netherlands increased from 5 feet, 4 inches to approximately 6 feet between the 1850s until the early 2000s. People in the south are on average about shorter than those in the north.\n",
            "\n"
          ]
        }
      ],
      "source": [
        "for i, result in enumerate(results):\n",
        "    print(f\"i:{i}\")\n",
        "    print(result.get('title'))\n",
        "    print(result.get('text'))\n",
        "    print()"
      ]
    },
    {
      "cell_type": "code",
      "execution_count": 53,
      "id": "d269db28-15aa-426a-a993-14275a36ca09",
      "metadata": {
        "height": 47,
        "id": "d269db28-15aa-426a-a993-14275a36ca09"
      },
      "outputs": [],
      "source": [
        "texts = [result.get('text') for result in results]\n",
        "reranked_text = rerank_responses(query_2, texts)"
      ]
    },
    {
      "cell_type": "code",
      "execution_count": 54,
      "id": "aa7aca9b-bdc0-4c08-9615-1a7408854cb4",
      "metadata": {
        "height": 81,
        "colab": {
          "base_uri": "https://localhost:8080/"
        },
        "id": "aa7aca9b-bdc0-4c08-9615-1a7408854cb4",
        "outputId": "b2e712d4-0a75-4e39-ebed-9d328c39467c"
      },
      "outputs": [
        {
          "output_type": "stream",
          "name": "stdout",
          "text": [
            "i:0 index: 0\n",
            "Robert Pershing Wadlow (February 22, 1918 July 15, 1940), also known as the Alton Giant and the Giant of Illinois, was a man who was the tallest person in recorded history for whom there is irrefutable evidence. He was born and raised in Alton, Illinois, a small city near St. Louis, Missouri.\n",
            "\n",
            "i:1 index: 3\n",
            "Kösen turned 40 years old on 10 December 2022. He celebrated his birthday a few days early by visiting the Ripley's Believe It or Not! museum in Orlando, Florida, USA and posing next to a life-sized statue of Robert Wadlow, the tallest man ever at 272 cm (8 ft 11.1 in).\n",
            "\n",
            "i:2 index: 4\n",
            "The Dutch are the tallest people in the world, by nationality, with an average height of for adult males and for adult females in 2009. The average height of young males in the Netherlands increased from 5 feet, 4 inches to approximately 6 feet between the 1850s until the early 2000s. People in the south are on average about shorter than those in the north.\n",
            "\n",
            "i:3 index: 2\n",
            "Sultan Kösen (born 10 December 1982) is a Turkish farmer who holds the Guinness World Record for tallest living male at . Of Kurdish ethnicity, he is the seventh tallest man in history.\n",
            "\n",
            "i:4 index: 1\n",
            "Bol came from a family of extraordinarily tall men and women. He said: \"My mother was , my father , and my sister is . And my great-grandfather was even taller—.\" His ethnic group, the Dinka, and the Nilotic people of which they are a part, are among the tallest populations in the world. Bol's hometown, Turalei, is the origin of other exceptionally tall people, including basketball player Ring Ayuel. \"I was born in a village, where you cannot measure yourself,\" Bol reflected. \"I learned I was 7 foot 7 in 1979, when I was grown. I was about 18 or 19.\"\n",
            "\n"
          ]
        }
      ],
      "source": [
        "for i, rerank_result in enumerate(reranked_text.results):\n",
        "    print(f\"i:{i} index: {rerank_result.index}\")\n",
        "    print(f\"{texts[rerank_result.index]}\")\n",
        "    print()"
      ]
    },
    {
      "cell_type": "code",
      "execution_count": 55,
      "id": "ef1a763a-1b1d-4d4a-99b4-26ab341663e9",
      "metadata": {
        "height": 30,
        "id": "ef1a763a-1b1d-4d4a-99b4-26ab341663e9"
      },
      "outputs": [],
      "source": [
        "query_3 = \"Who is the most populated capital city in history?\""
      ]
    },
    {
      "cell_type": "code",
      "execution_count": 56,
      "id": "b9000db7-3202-436f-a542-ae20b8879ea7",
      "metadata": {
        "height": 30,
        "id": "b9000db7-3202-436f-a542-ae20b8879ea7"
      },
      "outputs": [],
      "source": [
        "results = dense_retrieval(query_3, client)"
      ]
    },
    {
      "cell_type": "code",
      "execution_count": 57,
      "id": "08880d64-a78e-4871-bae3-e75ab88ac3ad",
      "metadata": {
        "height": 30,
        "colab": {
          "base_uri": "https://localhost:8080/"
        },
        "id": "08880d64-a78e-4871-bae3-e75ab88ac3ad",
        "outputId": "05131579-d8be-425c-a8ff-240b34850071"
      },
      "outputs": [
        {
          "output_type": "stream",
          "name": "stdout",
          "text": [
            "i:0\n",
            "City\n",
            "In the remnants of the Roman Empire, cities of late antiquity gained independence but soon lost population and importance. The locus of power in the West shifted to Constantinople and to the ascendant Islamic civilization with its major cities Baghdad, Cairo, and Córdoba. From the 9th through the end of the 12th century, Constantinople, capital of the Eastern Roman Empire, was the largest and wealthiest city in Europe, with a population approaching 1 million. The Ottoman Empire gradually gained control over many cities in the Mediterranean area, including Constantinople in 1453.\n",
            "\n",
            "i:1\n",
            "Istanbul\n",
            "Throughout most of its history, Istanbul has ranked among the largest cities in the world. By 500 CE, Constantinople had somewhere between 400,000 and 500,000 people, edging out its predecessor, Rome, for the world's largest city. Constantinople jostled with other major historical cities, such as Baghdad, Chang'an, Kaifeng and Merv for the position of the world's largest city until the 12th century. It never returned to being the world's largest, but remained the largest city in Europe from 1500 to 1750, when it was surpassed by London.\n",
            "\n",
            "i:2\n",
            "Paris\n",
            "With 200,000 inhabitants in 1328, Paris, then already the capital of France, was the most populous city of Europe. By comparison, London in 1300 had 80,000 inhabitants.\n",
            "\n",
            "i:3\n",
            "Babylon\n",
            "It has been estimated that Babylon was the largest city in the world , and again . It was perhaps the first city to reach a population above 200,000. Estimates for the maximum extent of its area range from 890 to .\n",
            "\n",
            "i:4\n",
            "Carthage\n",
            "Carthage was one of the largest cities of the Hellenistic period and was among the largest cities in preindustrial history. Whereas by AD 14, Rome had at least 750,000 inhabitants and in the following century may have reached 1 million, the cities of Alexandria and Antioch numbered only a few hundred thousand or less. According to the history of Herodian, Carthage rivaled Alexandria for second place in the Roman empire.\n",
            "\n"
          ]
        }
      ],
      "source": [
        "for i, result in enumerate(results):\n",
        "    print(f\"i:{i}\")\n",
        "    print(result.get('title'))\n",
        "    print(result.get('text'))\n",
        "    print()"
      ]
    },
    {
      "cell_type": "code",
      "execution_count": 58,
      "id": "bd4bb517-e5a7-4a4f-bc2b-cb4ea2fad2bc",
      "metadata": {
        "height": 30,
        "id": "bd4bb517-e5a7-4a4f-bc2b-cb4ea2fad2bc"
      },
      "outputs": [],
      "source": [
        "texts = [result.get('text') for result in results]\n",
        "reranked_text = rerank_responses(query_2, texts)"
      ]
    },
    {
      "cell_type": "code",
      "execution_count": 59,
      "id": "c297e7ba-5a95-412e-9a4b-b5f214570cfe",
      "metadata": {
        "height": 30,
        "colab": {
          "base_uri": "https://localhost:8080/"
        },
        "id": "c297e7ba-5a95-412e-9a4b-b5f214570cfe",
        "outputId": "846dcd73-7937-47a0-cc67-899f8b5222a4"
      },
      "outputs": [
        {
          "output_type": "stream",
          "name": "stdout",
          "text": [
            "i:0 index: 1\n",
            "Throughout most of its history, Istanbul has ranked among the largest cities in the world. By 500 CE, Constantinople had somewhere between 400,000 and 500,000 people, edging out its predecessor, Rome, for the world's largest city. Constantinople jostled with other major historical cities, such as Baghdad, Chang'an, Kaifeng and Merv for the position of the world's largest city until the 12th century. It never returned to being the world's largest, but remained the largest city in Europe from 1500 to 1750, when it was surpassed by London.\n",
            "\n",
            "i:1 index: 0\n",
            "In the remnants of the Roman Empire, cities of late antiquity gained independence but soon lost population and importance. The locus of power in the West shifted to Constantinople and to the ascendant Islamic civilization with its major cities Baghdad, Cairo, and Córdoba. From the 9th through the end of the 12th century, Constantinople, capital of the Eastern Roman Empire, was the largest and wealthiest city in Europe, with a population approaching 1 million. The Ottoman Empire gradually gained control over many cities in the Mediterranean area, including Constantinople in 1453.\n",
            "\n",
            "i:2 index: 2\n",
            "With 200,000 inhabitants in 1328, Paris, then already the capital of France, was the most populous city of Europe. By comparison, London in 1300 had 80,000 inhabitants.\n",
            "\n",
            "i:3 index: 4\n",
            "Carthage was one of the largest cities of the Hellenistic period and was among the largest cities in preindustrial history. Whereas by AD 14, Rome had at least 750,000 inhabitants and in the following century may have reached 1 million, the cities of Alexandria and Antioch numbered only a few hundred thousand or less. According to the history of Herodian, Carthage rivaled Alexandria for second place in the Roman empire.\n",
            "\n",
            "i:4 index: 3\n",
            "It has been estimated that Babylon was the largest city in the world , and again . It was perhaps the first city to reach a population above 200,000. Estimates for the maximum extent of its area range from 890 to .\n",
            "\n"
          ]
        }
      ],
      "source": [
        "for i, rerank_result in enumerate(reranked_text.results):\n",
        "    print(f\"i:{i} index: {rerank_result.index}\")\n",
        "    print(f\"{texts[rerank_result.index]}\")\n",
        "    print()"
      ]
    },
    {
      "cell_type": "code",
      "execution_count": null,
      "id": "93763474-ea16-4a2e-a0ff-08c088f8c708",
      "metadata": {
        "height": 30,
        "id": "93763474-ea16-4a2e-a0ff-08c088f8c708"
      },
      "outputs": [],
      "source": []
    },
    {
      "cell_type": "code",
      "execution_count": null,
      "id": "f8cbf0cd-1150-47d4-a33b-966267960dfc",
      "metadata": {
        "height": 30,
        "id": "f8cbf0cd-1150-47d4-a33b-966267960dfc"
      },
      "outputs": [],
      "source": []
    },
    {
      "cell_type": "code",
      "execution_count": null,
      "id": "37f62842-d1e0-4388-8a1d-43e5cb1e6d05",
      "metadata": {
        "height": 30,
        "id": "37f62842-d1e0-4388-8a1d-43e5cb1e6d05"
      },
      "outputs": [],
      "source": []
    },
    {
      "cell_type": "code",
      "execution_count": null,
      "id": "ac7843fb-2d5a-49ed-9520-fd671333ee0c",
      "metadata": {
        "height": 30,
        "id": "ac7843fb-2d5a-49ed-9520-fd671333ee0c"
      },
      "outputs": [],
      "source": []
    },
    {
      "cell_type": "code",
      "execution_count": null,
      "id": "e353066b-7c07-42ad-bc75-ac56fc1a25b2",
      "metadata": {
        "height": 30,
        "id": "e353066b-7c07-42ad-bc75-ac56fc1a25b2"
      },
      "outputs": [],
      "source": []
    },
    {
      "cell_type": "code",
      "execution_count": null,
      "id": "1bde2f0f-5d0a-4b3f-8739-d1d0ae8fadab",
      "metadata": {
        "height": 30,
        "id": "1bde2f0f-5d0a-4b3f-8739-d1d0ae8fadab"
      },
      "outputs": [],
      "source": []
    },
    {
      "cell_type": "code",
      "execution_count": null,
      "id": "fa9a7eef-980b-4591-8c7c-1505a33a6f95",
      "metadata": {
        "height": 30,
        "id": "fa9a7eef-980b-4591-8c7c-1505a33a6f95"
      },
      "outputs": [],
      "source": []
    },
    {
      "cell_type": "code",
      "execution_count": null,
      "id": "c4da8462-b32c-4aeb-8fe4-2370e499e7a1",
      "metadata": {
        "height": 30,
        "id": "c4da8462-b32c-4aeb-8fe4-2370e499e7a1"
      },
      "outputs": [],
      "source": []
    },
    {
      "cell_type": "code",
      "execution_count": null,
      "id": "75a0466e-ffae-4c16-988c-862290a7b604",
      "metadata": {
        "height": 30,
        "id": "75a0466e-ffae-4c16-988c-862290a7b604"
      },
      "outputs": [],
      "source": []
    },
    {
      "cell_type": "code",
      "execution_count": null,
      "id": "8233d2cf-0cfd-4f59-98dc-838708dd8452",
      "metadata": {
        "height": 30,
        "id": "8233d2cf-0cfd-4f59-98dc-838708dd8452"
      },
      "outputs": [],
      "source": []
    },
    {
      "cell_type": "code",
      "execution_count": null,
      "id": "aec3aead-d23b-47e1-8ec4-7c585f91a960",
      "metadata": {
        "height": 30,
        "id": "aec3aead-d23b-47e1-8ec4-7c585f91a960"
      },
      "outputs": [],
      "source": []
    },
    {
      "cell_type": "code",
      "execution_count": null,
      "id": "317bafdc-18e9-4c80-8098-79a35c83eb1f",
      "metadata": {
        "height": 30,
        "id": "317bafdc-18e9-4c80-8098-79a35c83eb1f"
      },
      "outputs": [],
      "source": []
    },
    {
      "cell_type": "code",
      "execution_count": null,
      "id": "d5707147-2c0c-4055-a179-e653ad9533c9",
      "metadata": {
        "height": 30,
        "id": "d5707147-2c0c-4055-a179-e653ad9533c9"
      },
      "outputs": [],
      "source": []
    },
    {
      "cell_type": "code",
      "execution_count": null,
      "id": "a1c633a4-daea-4d8a-983d-807fc612874b",
      "metadata": {
        "height": 30,
        "id": "a1c633a4-daea-4d8a-983d-807fc612874b"
      },
      "outputs": [],
      "source": []
    }
  ],
  "metadata": {
    "kernelspec": {
      "display_name": "Python 3 (ipykernel)",
      "language": "python",
      "name": "python3"
    },
    "language_info": {
      "codemirror_mode": {
        "name": "ipython",
        "version": 3
      },
      "file_extension": ".py",
      "mimetype": "text/x-python",
      "name": "python",
      "nbconvert_exporter": "python",
      "pygments_lexer": "ipython3",
      "version": "3.9.19"
    },
    "colab": {
      "provenance": []
    }
  },
  "nbformat": 4,
  "nbformat_minor": 5
}