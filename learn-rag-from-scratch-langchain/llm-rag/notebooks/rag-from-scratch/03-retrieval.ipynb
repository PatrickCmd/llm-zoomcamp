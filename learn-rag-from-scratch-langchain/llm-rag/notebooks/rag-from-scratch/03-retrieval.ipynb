{
 "cells": [
  {
   "cell_type": "code",
   "execution_count": 1,
   "id": "2d5f9986-962b-41ec-8289-8b6aed8a897b",
   "metadata": {},
   "outputs": [],
   "source": [
    "import os\n",
    "from pathlib import Path\n",
    "import re\n",
    "\n",
    "from dotenv import find_dotenv, load_dotenv\n",
    "from rich import print as rprint\n",
    "from rich.pretty import Pretty, pprint\n",
    "from rich.text import Text"
   ]
  },
  {
   "cell_type": "code",
   "execution_count": 2,
   "id": "ea827caf-1c75-493d-b08d-0d2b7b61ec3b",
   "metadata": {},
   "outputs": [
    {
     "data": {
      "text/plain": [
       "True"
      ]
     },
     "execution_count": 2,
     "metadata": {},
     "output_type": "execute_result"
    }
   ],
   "source": [
    "load_dotenv(find_dotenv('.env'))"
   ]
  },
  {
   "cell_type": "code",
   "execution_count": 3,
   "id": "ebc87dc9-7708-4fa5-8d6d-2f96f5d5c1b8",
   "metadata": {},
   "outputs": [],
   "source": [
    "os.environ[\"LANGCHAIN_PROJECT\"] = \"RAG From Scratch: Part 3 (Retrieval)\""
   ]
  },
  {
   "cell_type": "code",
   "execution_count": 4,
   "id": "5d9b70e1-e2b6-4713-a979-e41144a6df20",
   "metadata": {},
   "outputs": [],
   "source": [
    "DATA_PATH = Path('./data')\n",
    "VECTORSTORE_PATH = DATA_PATH / 'vectorstore'"
   ]
  },
  {
   "cell_type": "markdown",
   "id": "24fea940-1542-4d88-b06c-ba6075888192",
   "metadata": {},
   "source": [
    "# Part 3: Retrieval"
   ]
  },
  {
   "cell_type": "markdown",
   "id": "e2942db9-00a9-4a2e-8d23-f7409d94add7",
   "metadata": {},
   "source": [
    "![](images/03-01-retrieval.png)"
   ]
  },
  {
   "cell_type": "markdown",
   "id": "3f283699-fc40-47c5-ac5b-94e9a6c34571",
   "metadata": {},
   "source": [
    "![](images/03-02-retrieval.png)"
   ]
  },
  {
   "cell_type": "markdown",
   "id": "73506cd6-cf1d-4c07-993a-18e8573aec97",
   "metadata": {},
   "source": [
    "## Configure components"
   ]
  },
  {
   "cell_type": "code",
   "execution_count": 5,
   "id": "9d823aa4-3a9e-47a9-a3bd-53ad4304294c",
   "metadata": {},
   "outputs": [],
   "source": [
    "from langchain_openai import OpenAIEmbeddings"
   ]
  },
  {
   "cell_type": "code",
   "execution_count": 6,
   "id": "cc3cffb2-9ece-4cc7-a9e6-4acde43429cf",
   "metadata": {},
   "outputs": [
    {
     "data": {
      "text/plain": [
       "1536"
      ]
     },
     "execution_count": 6,
     "metadata": {},
     "output_type": "execute_result"
    }
   ],
   "source": [
    "embeddings_model_name = \"text-embedding-3-small\"\n",
    "embeddings = OpenAIEmbeddings(model=embeddings_model_name)\n",
    "len(embeddings.embed_query(\"Hello\"))"
   ]
  },
  {
   "cell_type": "markdown",
   "id": "1fa5fdc1-f024-430f-8fa0-5b71a12cd183",
   "metadata": {},
   "source": [
    "## Load documents"
   ]
  },
  {
   "cell_type": "code",
   "execution_count": 7,
   "id": "a56e465d-9e82-4de0-ab1b-809b5898a4cf",
   "metadata": {},
   "outputs": [
    {
     "name": "stderr",
     "output_type": "stream",
     "text": [
      "USER_AGENT environment variable not set, consider setting it to identify your requests.\n"
     ]
    }
   ],
   "source": [
    "import bs4\n",
    "from langchain_community.document_loaders import WebBaseLoader"
   ]
  },
  {
   "cell_type": "code",
   "execution_count": 8,
   "id": "2ba4b9c3-80ee-42be-a957-2654db861a0b",
   "metadata": {},
   "outputs": [
    {
     "data": {
      "text/plain": [
       "1"
      ]
     },
     "execution_count": 8,
     "metadata": {},
     "output_type": "execute_result"
    }
   ],
   "source": [
    "loader = WebBaseLoader(\n",
    "    web_paths=(\"https://lilianweng.github.io/posts/2023-06-23-agent/\",),\n",
    "    bs_kwargs=dict(\n",
    "        parse_only=bs4.SoupStrainer(\n",
    "            class_=(\"post-content\", \"post-title\", \"post-header\")\n",
    "        )\n",
    "    ),\n",
    ")\n",
    "docs = loader.load()\n",
    "len(docs)"
   ]
  },
  {
   "cell_type": "code",
   "execution_count": 9,
   "id": "c440404a-7358-4c58-b22c-c5bd02b2cd63",
   "metadata": {},
   "outputs": [
    {
     "name": "stdout",
     "output_type": "stream",
     "text": [
      "\n",
      "\n",
      "      LLM Powered Autonomous Agents\n",
      "    \n",
      "Date: June 23, 2023  |  Estimated Reading Time: 31 min  |  Author: Lilian Weng\n",
      "\n",
      "\n",
      "Building agents with LLM (large language model) as its core controller is a cool concept. Several proof-of-concepts demos, such as AutoGPT, GPT-Engineer and BabyAGI, serve as inspiring examples. The potentiality of LLM extends beyond generating well-written copies, stories, essays and programs; it can be framed as a powerful general problem solver.\n",
      "Agent System Overview#\n",
      "In a LLM-powered autonomous agent system, LLM functions as the agent’s brain, complemented by several key components:\n",
      "\n",
      "Planning\n",
      "\n",
      "Subgoal and decomposition: The agent breaks down large tasks into smaller, manageable subgoals, enabling efficient handling of complex tasks.\n",
      "Reflection and refinement: The agent can do self-criticism and self-reflection over past actions, learn from mistakes and refine them for future steps, thereby improving the quality of final results.\n",
      "\n",
      "\n",
      "Memory\n",
      "\n",
      "Short-term memory: I \n"
     ]
    }
   ],
   "source": [
    "print(docs[0].page_content[:1000])"
   ]
  },
  {
   "cell_type": "markdown",
   "id": "7c42a717-9232-4d2f-aa59-f0d9faccac72",
   "metadata": {},
   "source": [
    "## Split documents"
   ]
  },
  {
   "cell_type": "code",
   "execution_count": 10,
   "id": "96e5b7e4-1717-43ad-aecd-0e0336309c84",
   "metadata": {},
   "outputs": [],
   "source": [
    "from langchain.text_splitter import RecursiveCharacterTextSplitter"
   ]
  },
  {
   "cell_type": "code",
   "execution_count": 11,
   "id": "72e16872-b2d6-47c4-beae-ed7c4fae1ed7",
   "metadata": {},
   "outputs": [
    {
     "data": {
      "text/plain": [
       "66"
      ]
     },
     "execution_count": 11,
     "metadata": {},
     "output_type": "execute_result"
    }
   ],
   "source": [
    "text_splitter = RecursiveCharacterTextSplitter(chunk_size=1000, chunk_overlap=200)\n",
    "splits = text_splitter.split_documents(docs)\n",
    "len(splits)"
   ]
  },
  {
   "cell_type": "markdown",
   "id": "fe9e6357-c7b8-479a-a7a6-b96edb80d1c8",
   "metadata": {},
   "source": [
    "## Store documents"
   ]
  },
  {
   "cell_type": "markdown",
   "id": "4b3510aa-ba51-4db5-abfb-e4d2ca23ea45",
   "metadata": {},
   "source": [
    "**Similarity search**"
   ]
  },
  {
   "cell_type": "code",
   "execution_count": 12,
   "id": "681fb461-99e5-4aa3-acf6-63d0f0eae580",
   "metadata": {},
   "outputs": [],
   "source": [
    "from langchain_core.vectorstores import InMemoryVectorStore"
   ]
  },
  {
   "cell_type": "code",
   "execution_count": 13,
   "id": "660ff072-7281-4e09-92ac-663c6cef223e",
   "metadata": {},
   "outputs": [
    {
     "data": {
      "text/plain": [
       "(66, 66)"
      ]
     },
     "execution_count": 13,
     "metadata": {},
     "output_type": "execute_result"
    }
   ],
   "source": [
    "vectorstore = InMemoryVectorStore(embeddings)\n",
    "doc_ids = vectorstore.add_documents(documents=splits)\n",
    "len(doc_ids), len(vectorstore.store)"
   ]
  },
  {
   "cell_type": "code",
   "execution_count": 14,
   "id": "4de3646e-69a2-4bb3-853b-ecbdd3e17286",
   "metadata": {},
   "outputs": [
    {
     "data": {
      "text/html": [
       "<pre style=\"white-space:pre;overflow-x:auto;line-height:normal;font-family:Menlo,'DejaVu Sans Mono',consolas,'Courier New',monospace\"><span style=\"font-weight: bold\">(</span>\n",
       "    <span style=\"color: #008000; text-decoration-color: #008000\">'06db5411-f902-41db-befe-567ebed11703'</span>,\n",
       "    <span style=\"font-weight: bold\">{</span>\n",
       "        <span style=\"color: #008000; text-decoration-color: #008000\">'id'</span>: <span style=\"color: #008000; text-decoration-color: #008000\">'06db5411-f902-41db-befe-567ebed11703'</span>,\n",
       "        <span style=\"color: #008000; text-decoration-color: #008000\">'vector'</span>: <span style=\"font-weight: bold\">[</span>\n",
       "            <span style=\"color: #008080; text-decoration-color: #008080; font-weight: bold\">0.009637040086090565</span>,\n",
       "            <span style=\"color: #008080; text-decoration-color: #008080; font-weight: bold\">0.020359551534056664</span>,\n",
       "            <span style=\"color: #008080; text-decoration-color: #008080; font-weight: bold\">0.0416097454726696</span>,\n",
       "            <span style=\"color: #008080; text-decoration-color: #008080; font-weight: bold\">-0.004188807215541601</span>,\n",
       "            <span style=\"color: #008080; text-decoration-color: #008080; font-weight: bold\">0.003524303901940584</span>,\n",
       "            <span style=\"color: #008080; text-decoration-color: #008080; font-weight: bold\">0.0019100125646218657</span>,\n",
       "            <span style=\"color: #008080; text-decoration-color: #008080; font-weight: bold\">-0.014472954906523228</span>,\n",
       "            <span style=\"color: #008080; text-decoration-color: #008080; font-weight: bold\">0.03676687180995941</span>,\n",
       "            <span style=\"color: #008080; text-decoration-color: #008080; font-weight: bold\">-0.01905141957104206</span>,\n",
       "            <span style=\"color: #008080; text-decoration-color: #008080; font-weight: bold\">0.0588381290435791</span>,\n",
       "            <span style=\"color: #008080; text-decoration-color: #008080; font-weight: bold\">0.037240028381347656</span>,\n",
       "            <span style=\"color: #008080; text-decoration-color: #008080; font-weight: bold\">-0.052575793117284775</span>,\n",
       "            <span style=\"color: #008080; text-decoration-color: #008080; font-weight: bold\">-0.02922423742711544</span>,\n",
       "            <span style=\"color: #008080; text-decoration-color: #008080; font-weight: bold\">-0.029363399371504784</span>,\n",
       "            <span style=\"color: #008080; text-decoration-color: #008080; font-weight: bold\">-0.04369719326496124</span>,\n",
       "            <span style=\"color: #008080; text-decoration-color: #008080; font-weight: bold\">-0.049096718430519104</span>,\n",
       "            <span style=\"color: #008080; text-decoration-color: #008080; font-weight: bold\">-0.01288649719208479</span>,\n",
       "            <span style=\"color: #008080; text-decoration-color: #008080; font-weight: bold\">-0.024103038012981415</span>,\n",
       "            <span style=\"color: #008080; text-decoration-color: #008080; font-weight: bold\">0.042333394289016724</span>,\n",
       "            <span style=\"color: #008080; text-decoration-color: #008080; font-weight: bold\">0.016226409003138542</span>,\n",
       "            <span style=\"color: #808000; text-decoration-color: #808000\">...</span> +<span style=\"color: #008080; text-decoration-color: #008080; font-weight: bold\">1516</span>\n",
       "        <span style=\"font-weight: bold\">]</span>,\n",
       "        <span style=\"color: #008000; text-decoration-color: #008000\">'text'</span>: <span style=\"color: #008000; text-decoration-color: #008000\">'LLM Powered Autonomous Agents\\n    \\nDate: June 23, 2023  |  Estimated Reading Time: 31 min  |  </span>\n",
       "<span style=\"color: #008000; text-decoration-color: #008000\">Author: Lilian Weng\\n\\n\\nBuilding agents with LLM (large language model) as its core controller is a cool concept. </span>\n",
       "<span style=\"color: #008000; text-decoration-color: #008000\">Several proof-of-concepts demos, such as AutoGPT, GPT-Engineer and BabyAGI, serve as inspiring examples. The </span>\n",
       "<span style=\"color: #008000; text-decoration-color: #008000\">potentiality of LLM extends beyond generating well-written copies, stories, essays and programs; it can be framed </span>\n",
       "<span style=\"color: #008000; text-decoration-color: #008000\">as a powerful general problem solver.\\nAgent System Overview#\\nIn a LLM-powered autonomous agent system, LLM </span>\n",
       "<span style=\"color: #008000; text-decoration-color: #008000\">functions as the agent’s brain, complemented by several key components:\\n\\nPlanning\\n\\nSubgoal and decomposition: </span>\n",
       "<span style=\"color: #008000; text-decoration-color: #008000\">The agent breaks down large tasks into smaller, manageable subgoals, enabling efficient handling of complex </span>\n",
       "<span style=\"color: #008000; text-decoration-color: #008000\">tasks.\\nReflection and refinement: The agent can do self-criticism and self-reflection over past actions, learn </span>\n",
       "<span style=\"color: #008000; text-decoration-color: #008000\">from mistakes and refine them for future steps, thereby improving the quality of final results.\\n\\n\\nMemory'</span>,\n",
       "        <span style=\"color: #008000; text-decoration-color: #008000\">'metadata'</span>: <span style=\"font-weight: bold\">{</span><span style=\"color: #008000; text-decoration-color: #008000\">'source'</span>: <span style=\"color: #008000; text-decoration-color: #008000\">'https://lilianweng.github.io/posts/2023-06-23-agent/'</span><span style=\"font-weight: bold\">}</span>\n",
       "    <span style=\"font-weight: bold\">}</span>\n",
       "<span style=\"font-weight: bold\">)</span>\n",
       "</pre>\n"
      ],
      "text/plain": [
       "\u001b[1m(\u001b[0m\n",
       "    \u001b[32m'06db5411-f902-41db-befe-567ebed11703'\u001b[0m,\n",
       "    \u001b[1m{\u001b[0m\n",
       "        \u001b[32m'id'\u001b[0m: \u001b[32m'06db5411-f902-41db-befe-567ebed11703'\u001b[0m,\n",
       "        \u001b[32m'vector'\u001b[0m: \u001b[1m[\u001b[0m\n",
       "            \u001b[1;36m0.009637040086090565\u001b[0m,\n",
       "            \u001b[1;36m0.020359551534056664\u001b[0m,\n",
       "            \u001b[1;36m0.0416097454726696\u001b[0m,\n",
       "            \u001b[1;36m-0.004188807215541601\u001b[0m,\n",
       "            \u001b[1;36m0.003524303901940584\u001b[0m,\n",
       "            \u001b[1;36m0.0019100125646218657\u001b[0m,\n",
       "            \u001b[1;36m-0.014472954906523228\u001b[0m,\n",
       "            \u001b[1;36m0.03676687180995941\u001b[0m,\n",
       "            \u001b[1;36m-0.01905141957104206\u001b[0m,\n",
       "            \u001b[1;36m0.0588381290435791\u001b[0m,\n",
       "            \u001b[1;36m0.037240028381347656\u001b[0m,\n",
       "            \u001b[1;36m-0.052575793117284775\u001b[0m,\n",
       "            \u001b[1;36m-0.02922423742711544\u001b[0m,\n",
       "            \u001b[1;36m-0.029363399371504784\u001b[0m,\n",
       "            \u001b[1;36m-0.04369719326496124\u001b[0m,\n",
       "            \u001b[1;36m-0.049096718430519104\u001b[0m,\n",
       "            \u001b[1;36m-0.01288649719208479\u001b[0m,\n",
       "            \u001b[1;36m-0.024103038012981415\u001b[0m,\n",
       "            \u001b[1;36m0.042333394289016724\u001b[0m,\n",
       "            \u001b[1;36m0.016226409003138542\u001b[0m,\n",
       "            \u001b[33m...\u001b[0m +\u001b[1;36m1516\u001b[0m\n",
       "        \u001b[1m]\u001b[0m,\n",
       "        \u001b[32m'text'\u001b[0m: \u001b[32m'LLM Powered Autonomous Agents\\n    \\nDate: June 23, 2023  |  Estimated Reading Time: 31 min  |  \u001b[0m\n",
       "\u001b[32mAuthor: Lilian Weng\\n\\n\\nBuilding agents with LLM \u001b[0m\u001b[32m(\u001b[0m\u001b[32mlarge language model\u001b[0m\u001b[32m)\u001b[0m\u001b[32m as its core controller is a cool concept. \u001b[0m\n",
       "\u001b[32mSeveral proof-of-concepts demos, such as AutoGPT, GPT-Engineer and BabyAGI, serve as inspiring examples. The \u001b[0m\n",
       "\u001b[32mpotentiality of LLM extends beyond generating well-written copies, stories, essays and programs; it can be framed \u001b[0m\n",
       "\u001b[32mas a powerful general problem solver.\\nAgent System Overview#\\nIn a LLM-powered autonomous agent system, LLM \u001b[0m\n",
       "\u001b[32mfunctions as the agent’s brain, complemented by several key components:\\n\\nPlanning\\n\\nSubgoal and decomposition: \u001b[0m\n",
       "\u001b[32mThe agent breaks down large tasks into smaller, manageable subgoals, enabling efficient handling of complex \u001b[0m\n",
       "\u001b[32mtasks.\\nReflection and refinement: The agent can do self-criticism and self-reflection over past actions, learn \u001b[0m\n",
       "\u001b[32mfrom mistakes and refine them for future steps, thereby improving the quality of final results.\\n\\n\\nMemory'\u001b[0m,\n",
       "        \u001b[32m'metadata'\u001b[0m: \u001b[1m{\u001b[0m\u001b[32m'source'\u001b[0m: \u001b[32m'https://lilianweng.github.io/posts/2023-06-23-agent/'\u001b[0m\u001b[1m}\u001b[0m\n",
       "    \u001b[1m}\u001b[0m\n",
       "\u001b[1m)\u001b[0m\n"
      ]
     },
     "execution_count": 14,
     "metadata": {},
     "output_type": "execute_result"
    }
   ],
   "source": [
    "records = list(vectorstore.store.items())\n",
    "Pretty(records[0], max_length=20, no_wrap=False)"
   ]
  },
  {
   "cell_type": "markdown",
   "id": "37aeaee2-4a78-4add-8a14-1587be2d3e35",
   "metadata": {},
   "source": [
    "## Semantic search (vector store)"
   ]
  },
  {
   "cell_type": "code",
   "execution_count": 15,
   "id": "f882a109-8ad0-4294-9b74-d02123f77d31",
   "metadata": {},
   "outputs": [
    {
     "data": {
      "text/plain": [
       "4"
      ]
     },
     "execution_count": 15,
     "metadata": {},
     "output_type": "execute_result"
    }
   ],
   "source": [
    "query = \"What is Task Decomposition?\"\n",
    "relevant_documents = vectorstore.similarity_search(query)\n",
    "len(relevant_documents)"
   ]
  },
  {
   "cell_type": "code",
   "execution_count": 16,
   "id": "d2791186-655e-41f8-b53c-2e6fc25bd467",
   "metadata": {},
   "outputs": [
    {
     "data": {
      "text/html": [
       "<pre style=\"white-space:pre;overflow-x:auto;line-height:normal;font-family:Menlo,'DejaVu Sans Mono',consolas,'Courier New',monospace\"><span style=\"color: #800080; text-decoration-color: #800080; font-weight: bold\">Document</span><span style=\"font-weight: bold\">(</span>\n",
       "    <span style=\"color: #808000; text-decoration-color: #808000\">id</span>=<span style=\"color: #008000; text-decoration-color: #008000\">'7cd63e32-c110-4e3b-a055-2acfcfc8a659'</span>,\n",
       "    <span style=\"color: #808000; text-decoration-color: #808000\">metadata</span>=<span style=\"font-weight: bold\">{</span><span style=\"color: #008000; text-decoration-color: #008000\">'source'</span>: <span style=\"color: #008000; text-decoration-color: #008000\">'https://lilianweng.github.io/posts/2023-06-23-agent/'</span><span style=\"font-weight: bold\">}</span>,\n",
       "    <span style=\"color: #808000; text-decoration-color: #808000\">page_content</span>=<span style=\"color: #008000; text-decoration-color: #008000\">'Tree of Thoughts (Yao et al. 2023) extends CoT by exploring multiple reasoning possibilities at </span>\n",
       "<span style=\"color: #008000; text-decoration-color: #008000\">each step. It first decomposes the problem into multiple thought steps and generates multiple thoughts per step, </span>\n",
       "<span style=\"color: #008000; text-decoration-color: #008000\">creating a tree structure. The search process can be BFS (breadth-first search) or DFS (depth-first search) with </span>\n",
       "<span style=\"color: #008000; text-decoration-color: #008000\">each state evaluated by a classifier (via a prompt) or majority vote.\\nTask decomposition can be done (1) by LLM </span>\n",
       "<span style=\"color: #008000; text-decoration-color: #008000\">with simple prompting like \"Steps for XYZ.\\\\n1.\", \"What are the subgoals for achieving XYZ?\", (2) by using </span>\n",
       "<span style=\"color: #008000; text-decoration-color: #008000\">task-specific instructions; e.g. \"Write a story outline.\" for writing a novel, or (3) with human inputs.'</span>\n",
       "<span style=\"font-weight: bold\">)</span>\n",
       "</pre>\n"
      ],
      "text/plain": [
       "\u001b[1;35mDocument\u001b[0m\u001b[1m(\u001b[0m\n",
       "    \u001b[33mid\u001b[0m=\u001b[32m'7cd63e32-c110-4e3b-a055-2acfcfc8a659'\u001b[0m,\n",
       "    \u001b[33mmetadata\u001b[0m=\u001b[1m{\u001b[0m\u001b[32m'source'\u001b[0m: \u001b[32m'https://lilianweng.github.io/posts/2023-06-23-agent/'\u001b[0m\u001b[1m}\u001b[0m,\n",
       "    \u001b[33mpage_content\u001b[0m=\u001b[32m'Tree of Thoughts \u001b[0m\u001b[32m(\u001b[0m\u001b[32mYao et al. 2023\u001b[0m\u001b[32m)\u001b[0m\u001b[32m extends CoT by exploring multiple reasoning possibilities at \u001b[0m\n",
       "\u001b[32meach step. It first decomposes the problem into multiple thought steps and generates multiple thoughts per step, \u001b[0m\n",
       "\u001b[32mcreating a tree structure. The search process can be BFS \u001b[0m\u001b[32m(\u001b[0m\u001b[32mbreadth-first search\u001b[0m\u001b[32m)\u001b[0m\u001b[32m or DFS \u001b[0m\u001b[32m(\u001b[0m\u001b[32mdepth-first search\u001b[0m\u001b[32m)\u001b[0m\u001b[32m with \u001b[0m\n",
       "\u001b[32meach state evaluated by a classifier \u001b[0m\u001b[32m(\u001b[0m\u001b[32mvia a prompt\u001b[0m\u001b[32m)\u001b[0m\u001b[32m or majority vote.\\nTask decomposition can be done \u001b[0m\u001b[32m(\u001b[0m\u001b[32m1\u001b[0m\u001b[32m)\u001b[0m\u001b[32m by LLM \u001b[0m\n",
       "\u001b[32mwith simple prompting like \"Steps for XYZ.\\\\n1.\", \"What are the subgoals for achieving XYZ?\", \u001b[0m\u001b[32m(\u001b[0m\u001b[32m2\u001b[0m\u001b[32m)\u001b[0m\u001b[32m by using \u001b[0m\n",
       "\u001b[32mtask-specific instructions; e.g. \"Write a story outline.\" for writing a novel, or \u001b[0m\u001b[32m(\u001b[0m\u001b[32m3\u001b[0m\u001b[32m)\u001b[0m\u001b[32m with human inputs.'\u001b[0m\n",
       "\u001b[1m)\u001b[0m\n"
      ]
     },
     "metadata": {},
     "output_type": "display_data"
    },
    {
     "data": {
      "text/html": [
       "<pre style=\"white-space:pre;overflow-x:auto;line-height:normal;font-family:Menlo,'DejaVu Sans Mono',consolas,'Courier New',monospace\"><span style=\"color: #800080; text-decoration-color: #800080; font-weight: bold\">Document</span><span style=\"font-weight: bold\">(</span>\n",
       "    <span style=\"color: #808000; text-decoration-color: #808000\">id</span>=<span style=\"color: #008000; text-decoration-color: #008000\">'6fbc5dca-2f04-4605-93e7-adfb52fc0edc'</span>,\n",
       "    <span style=\"color: #808000; text-decoration-color: #808000\">metadata</span>=<span style=\"font-weight: bold\">{</span><span style=\"color: #008000; text-decoration-color: #008000\">'source'</span>: <span style=\"color: #008000; text-decoration-color: #008000\">'https://lilianweng.github.io/posts/2023-06-23-agent/'</span><span style=\"font-weight: bold\">}</span>,\n",
       "    <span style=\"color: #808000; text-decoration-color: #808000\">page_content</span>=<span style=\"color: #008000; text-decoration-color: #008000\">'Fig. 1. Overview of a LLM-powered autonomous agent system.\\nComponent One: Planning#\\nA </span>\n",
       "<span style=\"color: #008000; text-decoration-color: #008000\">complicated task usually involves many steps. An agent needs to know what they are and plan ahead.\\nTask </span>\n",
       "<span style=\"color: #008000; text-decoration-color: #008000\">Decomposition#\\nChain of thought (CoT; Wei et al. 2022) has become a standard prompting technique for enhancing </span>\n",
       "<span style=\"color: #008000; text-decoration-color: #008000\">model performance on complex tasks. The model is instructed to “think step by step” to utilize more test-time </span>\n",
       "<span style=\"color: #008000; text-decoration-color: #008000\">computation to decompose hard tasks into smaller and simpler steps. CoT transforms big tasks into multiple </span>\n",
       "<span style=\"color: #008000; text-decoration-color: #008000\">manageable tasks and shed lights into an interpretation of the model’s thinking process.'</span>\n",
       "<span style=\"font-weight: bold\">)</span>\n",
       "</pre>\n"
      ],
      "text/plain": [
       "\u001b[1;35mDocument\u001b[0m\u001b[1m(\u001b[0m\n",
       "    \u001b[33mid\u001b[0m=\u001b[32m'6fbc5dca-2f04-4605-93e7-adfb52fc0edc'\u001b[0m,\n",
       "    \u001b[33mmetadata\u001b[0m=\u001b[1m{\u001b[0m\u001b[32m'source'\u001b[0m: \u001b[32m'https://lilianweng.github.io/posts/2023-06-23-agent/'\u001b[0m\u001b[1m}\u001b[0m,\n",
       "    \u001b[33mpage_content\u001b[0m=\u001b[32m'Fig. 1. Overview of a LLM-powered autonomous agent system.\\nComponent One: Planning#\\nA \u001b[0m\n",
       "\u001b[32mcomplicated task usually involves many steps. An agent needs to know what they are and plan ahead.\\nTask \u001b[0m\n",
       "\u001b[32mDecomposition#\\nChain of thought \u001b[0m\u001b[32m(\u001b[0m\u001b[32mCoT; Wei et al. 2022\u001b[0m\u001b[32m)\u001b[0m\u001b[32m has become a standard prompting technique for enhancing \u001b[0m\n",
       "\u001b[32mmodel performance on complex tasks. The model is instructed to “think step by step” to utilize more test-time \u001b[0m\n",
       "\u001b[32mcomputation to decompose hard tasks into smaller and simpler steps. CoT transforms big tasks into multiple \u001b[0m\n",
       "\u001b[32mmanageable tasks and shed lights into an interpretation of the model’s thinking process.'\u001b[0m\n",
       "\u001b[1m)\u001b[0m\n"
      ]
     },
     "metadata": {},
     "output_type": "display_data"
    },
    {
     "data": {
      "text/html": [
       "<pre style=\"white-space:pre;overflow-x:auto;line-height:normal;font-family:Menlo,'DejaVu Sans Mono',consolas,'Courier New',monospace\"><span style=\"color: #800080; text-decoration-color: #800080; font-weight: bold\">Document</span><span style=\"font-weight: bold\">(</span>\n",
       "    <span style=\"color: #808000; text-decoration-color: #808000\">id</span>=<span style=\"color: #008000; text-decoration-color: #008000\">'27935b69-f72e-4cef-a560-59743b298ada'</span>,\n",
       "    <span style=\"color: #808000; text-decoration-color: #808000\">metadata</span>=<span style=\"font-weight: bold\">{</span><span style=\"color: #008000; text-decoration-color: #008000\">'source'</span>: <span style=\"color: #008000; text-decoration-color: #008000\">'https://lilianweng.github.io/posts/2023-06-23-agent/'</span><span style=\"font-weight: bold\">}</span>,\n",
       "    <span style=\"color: #808000; text-decoration-color: #808000\">page_content</span>=<span style=\"color: #008000; text-decoration-color: #008000\">'The AI assistant can parse user input to several tasks: [{\"task\": task, \"id\", task_id, \"dep\": </span>\n",
       "<span style=\"color: #008000; text-decoration-color: #008000\">dependency_task_ids, \"args\": {\"text\": text, \"image\": URL, \"audio\": URL, \"video\": URL}}]. The \"dep\" field denotes </span>\n",
       "<span style=\"color: #008000; text-decoration-color: #008000\">the id of the previous task which generates a new resource that the current task relies on. A special tag </span>\n",
       "<span style=\"color: #008000; text-decoration-color: #008000\">\"-task_id\" refers to the generated text image, audio and video in the dependency task with id as task_id. The task </span>\n",
       "<span style=\"color: #008000; text-decoration-color: #008000\">MUST be selected from the following options: {{ Available Task List }}. There is a logical relationship between </span>\n",
       "<span style=\"color: #008000; text-decoration-color: #008000\">tasks, please note their order. If the user input can\\'t be parsed, you need to reply empty JSON. Here are several </span>\n",
       "<span style=\"color: #008000; text-decoration-color: #008000\">cases for your reference: {{ Demonstrations }}. The chat history is recorded as {{ Chat History }}. From this chat </span>\n",
       "<span style=\"color: #008000; text-decoration-color: #008000\">history, you can find the path of the user-mentioned resources for your task planning.'</span>\n",
       "<span style=\"font-weight: bold\">)</span>\n",
       "</pre>\n"
      ],
      "text/plain": [
       "\u001b[1;35mDocument\u001b[0m\u001b[1m(\u001b[0m\n",
       "    \u001b[33mid\u001b[0m=\u001b[32m'27935b69-f72e-4cef-a560-59743b298ada'\u001b[0m,\n",
       "    \u001b[33mmetadata\u001b[0m=\u001b[1m{\u001b[0m\u001b[32m'source'\u001b[0m: \u001b[32m'https://lilianweng.github.io/posts/2023-06-23-agent/'\u001b[0m\u001b[1m}\u001b[0m,\n",
       "    \u001b[33mpage_content\u001b[0m=\u001b[32m'The AI assistant can parse user input to several tasks: \u001b[0m\u001b[32m[\u001b[0m\u001b[32m{\u001b[0m\u001b[32m\"task\": task, \"id\", task_id, \"dep\": \u001b[0m\n",
       "\u001b[32mdependency_task_ids, \"args\": \u001b[0m\u001b[32m{\u001b[0m\u001b[32m\"text\": text, \"image\": URL, \"audio\": URL, \"video\": URL\u001b[0m\u001b[32m}\u001b[0m\u001b[32m}\u001b[0m\u001b[32m]\u001b[0m\u001b[32m. The \"dep\" field denotes \u001b[0m\n",
       "\u001b[32mthe id of the previous task which generates a new resource that the current task relies on. A special tag \u001b[0m\n",
       "\u001b[32m\"-task_id\" refers to the generated text image, audio and video in the dependency task with id as task_id. The task \u001b[0m\n",
       "\u001b[32mMUST be selected from the following options: \u001b[0m\u001b[32m{\u001b[0m\u001b[32m{\u001b[0m\u001b[32m Available Task List \u001b[0m\u001b[32m}\u001b[0m\u001b[32m}\u001b[0m\u001b[32m. There is a logical relationship between \u001b[0m\n",
       "\u001b[32mtasks, please note their order. If the user input can\\'t be parsed, you need to reply empty JSON. Here are several \u001b[0m\n",
       "\u001b[32mcases for your reference: \u001b[0m\u001b[32m{\u001b[0m\u001b[32m{\u001b[0m\u001b[32m Demonstrations \u001b[0m\u001b[32m}\u001b[0m\u001b[32m}\u001b[0m\u001b[32m. The chat history is recorded as \u001b[0m\u001b[32m{\u001b[0m\u001b[32m{\u001b[0m\u001b[32m Chat History \u001b[0m\u001b[32m}\u001b[0m\u001b[32m}\u001b[0m\u001b[32m. From this chat \u001b[0m\n",
       "\u001b[32mhistory, you can find the path of the user-mentioned resources for your task planning.'\u001b[0m\n",
       "\u001b[1m)\u001b[0m\n"
      ]
     },
     "metadata": {},
     "output_type": "display_data"
    },
    {
     "data": {
      "text/html": [
       "<pre style=\"white-space:pre;overflow-x:auto;line-height:normal;font-family:Menlo,'DejaVu Sans Mono',consolas,'Courier New',monospace\"><span style=\"color: #800080; text-decoration-color: #800080; font-weight: bold\">Document</span><span style=\"font-weight: bold\">(</span>\n",
       "    <span style=\"color: #808000; text-decoration-color: #808000\">id</span>=<span style=\"color: #008000; text-decoration-color: #008000\">'7660a1be-2600-4440-935c-723bd117bb13'</span>,\n",
       "    <span style=\"color: #808000; text-decoration-color: #808000\">metadata</span>=<span style=\"font-weight: bold\">{</span><span style=\"color: #008000; text-decoration-color: #008000\">'source'</span>: <span style=\"color: #008000; text-decoration-color: #008000\">'https://lilianweng.github.io/posts/2023-06-23-agent/'</span><span style=\"font-weight: bold\">}</span>,\n",
       "    <span style=\"color: #808000; text-decoration-color: #808000\">page_content</span>=<span style=\"color: #008000; text-decoration-color: #008000\">'Fig. 11. Illustration of how HuggingGPT works. (Image source: Shen et al. 2023)\\nThe system </span>\n",
       "<span style=\"color: #008000; text-decoration-color: #008000\">comprises of 4 stages:\\n(1) Task planning: LLM works as the brain and parses the user requests into multiple tasks.</span>\n",
       "<span style=\"color: #008000; text-decoration-color: #008000\">There are four attributes associated with each task: task type, ID, dependencies, and arguments. They use few-shot </span>\n",
       "<span style=\"color: #008000; text-decoration-color: #008000\">examples to guide LLM to do task parsing and planning.\\nInstruction:'</span>\n",
       "<span style=\"font-weight: bold\">)</span>\n",
       "</pre>\n"
      ],
      "text/plain": [
       "\u001b[1;35mDocument\u001b[0m\u001b[1m(\u001b[0m\n",
       "    \u001b[33mid\u001b[0m=\u001b[32m'7660a1be-2600-4440-935c-723bd117bb13'\u001b[0m,\n",
       "    \u001b[33mmetadata\u001b[0m=\u001b[1m{\u001b[0m\u001b[32m'source'\u001b[0m: \u001b[32m'https://lilianweng.github.io/posts/2023-06-23-agent/'\u001b[0m\u001b[1m}\u001b[0m,\n",
       "    \u001b[33mpage_content\u001b[0m=\u001b[32m'Fig. 11. Illustration of how HuggingGPT works. \u001b[0m\u001b[32m(\u001b[0m\u001b[32mImage source: Shen et al. 2023\u001b[0m\u001b[32m)\u001b[0m\u001b[32m\\nThe system \u001b[0m\n",
       "\u001b[32mcomprises of 4 stages:\\n\u001b[0m\u001b[32m(\u001b[0m\u001b[32m1\u001b[0m\u001b[32m)\u001b[0m\u001b[32m Task planning: LLM works as the brain and parses the user requests into multiple tasks.\u001b[0m\n",
       "\u001b[32mThere are four attributes associated with each task: task type, ID, dependencies, and arguments. They use few-shot \u001b[0m\n",
       "\u001b[32mexamples to guide LLM to do task parsing and planning.\\nInstruction:'\u001b[0m\n",
       "\u001b[1m)\u001b[0m\n"
      ]
     },
     "metadata": {},
     "output_type": "display_data"
    }
   ],
   "source": [
    "for document in relevant_documents:\n",
    "    rprint(document)"
   ]
  },
  {
   "cell_type": "code",
   "execution_count": 17,
   "id": "2cbe4f2e-f333-49b9-ad4f-4aa8020d4a80",
   "metadata": {},
   "outputs": [
    {
     "data": {
      "text/html": [
       "<pre style=\"white-space:pre;overflow-x:auto;line-height:normal;font-family:Menlo,'DejaVu Sans Mono',consolas,'Courier New',monospace\">What is Task Decomposition?\n",
       "</pre>\n"
      ],
      "text/plain": [
       "What is Task Decomposition?\n"
      ]
     },
     "metadata": {},
     "output_type": "display_data"
    },
    {
     "data": {
      "text/html": [
       "<pre style=\"white-space:pre;overflow-x:auto;line-height:normal;font-family:Menlo,'DejaVu Sans Mono',consolas,'Courier New',monospace\"><span style=\"color: #008000; text-decoration-color: #008000; font-weight: bold\">Chunk 1:</span>\n",
       "Tree of Thoughts (Yao et al. 2023) extends CoT by exploring multiple reasoning possibilities at each step. It first\n",
       "decomposes the problem into multiple thought steps and generates multiple thoughts per step, creating a tree \n",
       "structure. The search process can be BFS (breadth-first search) or DFS (depth-first search) with each state \n",
       "evaluated by a classifier (via a prompt) or majority vote.\n",
       "<span style=\"color: #800000; text-decoration-color: #800000; text-decoration: underline\">Task</span> <span style=\"color: #800000; text-decoration-color: #800000; text-decoration: underline\">decomposition</span> can be done (1) by LLM with simple prompting like \"Steps for XYZ.\\n1.\", \"<span style=\"color: #800000; text-decoration-color: #800000; text-decoration: underline\">What</span> are the subgoals \n",
       "for achieving XYZ?\", (2) by using <span style=\"color: #800000; text-decoration-color: #800000; text-decoration: underline\">task</span>-specific instructions; e.g. \"Write a story outline.\" for writing a novel, or\n",
       "(3) with human inputs.\n",
       "</pre>\n"
      ],
      "text/plain": [
       "\u001b[1;32mChunk 1:\u001b[0m\n",
       "Tree of Thoughts (Yao et al. 2023) extends CoT by exploring multiple reasoning possibilities at each step. It first\n",
       "decomposes the problem into multiple thought steps and generates multiple thoughts per step, creating a tree \n",
       "structure. The search process can be BFS (breadth-first search) or DFS (depth-first search) with each state \n",
       "evaluated by a classifier (via a prompt) or majority vote.\n",
       "\u001b[4;31mTask\u001b[0m \u001b[4;31mdecomposition\u001b[0m can be done (1) by LLM with simple prompting like \"Steps for XYZ.\\n1.\", \"\u001b[4;31mWhat\u001b[0m are the subgoals \n",
       "for achieving XYZ?\", (2) by using \u001b[4;31mtask\u001b[0m-specific instructions; e.g. \"Write a story outline.\" for writing a novel, or\n",
       "(3) with human inputs.\n"
      ]
     },
     "metadata": {},
     "output_type": "display_data"
    },
    {
     "data": {
      "text/html": [
       "<pre style=\"white-space:pre;overflow-x:auto;line-height:normal;font-family:Menlo,'DejaVu Sans Mono',consolas,'Courier New',monospace\"><span style=\"color: #008000; text-decoration-color: #008000; font-weight: bold\">Chunk 2:</span>\n",
       "Fig. 1. Overview of a LLM-powered autonomous agent system.\n",
       "Component One: Planning#\n",
       "A complicated <span style=\"color: #800000; text-decoration-color: #800000; text-decoration: underline\">task</span> usually involves many steps. An agent needs to know <span style=\"color: #800000; text-decoration-color: #800000; text-decoration: underline\">what</span> they are and plan ahead.\n",
       "<span style=\"color: #800000; text-decoration-color: #800000; text-decoration: underline\">Task</span> <span style=\"color: #800000; text-decoration-color: #800000; text-decoration: underline\">Decomposition</span>#\n",
       "Chain of thought (CoT; Wei et al. 2022) has become a standard prompting technique for enhancing model performance \n",
       "on complex tasks. The model <span style=\"color: #800000; text-decoration-color: #800000; text-decoration: underline\">is</span> instructed to “think step by step” to utilize more test-time computation to \n",
       "decompose hard tasks into smaller and simpler steps. CoT transforms big tasks into multiple manageable tasks and \n",
       "shed lights into an interpretation of the model’s thinking process.\n",
       "</pre>\n"
      ],
      "text/plain": [
       "\u001b[1;32mChunk 2:\u001b[0m\n",
       "Fig. 1. Overview of a LLM-powered autonomous agent system.\n",
       "Component One: Planning#\n",
       "A complicated \u001b[4;31mtask\u001b[0m usually involves many steps. An agent needs to know \u001b[4;31mwhat\u001b[0m they are and plan ahead.\n",
       "\u001b[4;31mTask\u001b[0m \u001b[4;31mDecomposition\u001b[0m#\n",
       "Chain of thought (CoT; Wei et al. 2022) has become a standard prompting technique for enhancing model performance \n",
       "on complex tasks. The model \u001b[4;31mis\u001b[0m instructed to “think step by step” to utilize more test-time computation to \n",
       "decompose hard tasks into smaller and simpler steps. CoT transforms big tasks into multiple manageable tasks and \n",
       "shed lights into an interpretation of the model’s thinking process.\n"
      ]
     },
     "metadata": {},
     "output_type": "display_data"
    },
    {
     "data": {
      "text/html": [
       "<pre style=\"white-space:pre;overflow-x:auto;line-height:normal;font-family:Menlo,'DejaVu Sans Mono',consolas,'Courier New',monospace\"><span style=\"color: #008000; text-decoration-color: #008000; font-weight: bold\">Chunk 3:</span>\n",
       "The AI assistant can parse user input to several tasks: [{\"<span style=\"color: #800000; text-decoration-color: #800000; text-decoration: underline\">task</span>\": <span style=\"color: #800000; text-decoration-color: #800000; text-decoration: underline\">task</span>, \"id\", task_id, \"dep\": dependency_task_ids, \n",
       "\"args\": {\"text\": text, \"image\": URL, \"audio\": URL, \"video\": URL}}]. The \"dep\" field denotes the id of the previous \n",
       "<span style=\"color: #800000; text-decoration-color: #800000; text-decoration: underline\">task</span> which generates a new resource that the current <span style=\"color: #800000; text-decoration-color: #800000; text-decoration: underline\">task</span> relies on. A special tag \"-task_id\" refers to the \n",
       "generated text image, audio and video in the dependency <span style=\"color: #800000; text-decoration-color: #800000; text-decoration: underline\">task</span> with id as task_id. The <span style=\"color: #800000; text-decoration-color: #800000; text-decoration: underline\">task</span> MUST be selected from the\n",
       "following options: {{ Available <span style=\"color: #800000; text-decoration-color: #800000; text-decoration: underline\">Task</span> List }}. There <span style=\"color: #800000; text-decoration-color: #800000; text-decoration: underline\">is</span> a logical relationship between tasks, please note their \n",
       "order. If the user input can't be parsed, you need to reply empty JSON. Here are several cases for your reference: \n",
       "{{ Demonstrations }}. The chat history <span style=\"color: #800000; text-decoration-color: #800000; text-decoration: underline\">is</span> recorded as {{ Chat History }}. From this chat history, you can find the \n",
       "path of the user-mentioned resources for your <span style=\"color: #800000; text-decoration-color: #800000; text-decoration: underline\">task</span> planning.\n",
       "</pre>\n"
      ],
      "text/plain": [
       "\u001b[1;32mChunk 3:\u001b[0m\n",
       "The AI assistant can parse user input to several tasks: [{\"\u001b[4;31mtask\u001b[0m\": \u001b[4;31mtask\u001b[0m, \"id\", task_id, \"dep\": dependency_task_ids, \n",
       "\"args\": {\"text\": text, \"image\": URL, \"audio\": URL, \"video\": URL}}]. The \"dep\" field denotes the id of the previous \n",
       "\u001b[4;31mtask\u001b[0m which generates a new resource that the current \u001b[4;31mtask\u001b[0m relies on. A special tag \"-task_id\" refers to the \n",
       "generated text image, audio and video in the dependency \u001b[4;31mtask\u001b[0m with id as task_id. The \u001b[4;31mtask\u001b[0m MUST be selected from the\n",
       "following options: {{ Available \u001b[4;31mTask\u001b[0m List }}. There \u001b[4;31mis\u001b[0m a logical relationship between tasks, please note their \n",
       "order. If the user input can't be parsed, you need to reply empty JSON. Here are several cases for your reference: \n",
       "{{ Demonstrations }}. The chat history \u001b[4;31mis\u001b[0m recorded as {{ Chat History }}. From this chat history, you can find the \n",
       "path of the user-mentioned resources for your \u001b[4;31mtask\u001b[0m planning.\n"
      ]
     },
     "metadata": {},
     "output_type": "display_data"
    },
    {
     "data": {
      "text/html": [
       "<pre style=\"white-space:pre;overflow-x:auto;line-height:normal;font-family:Menlo,'DejaVu Sans Mono',consolas,'Courier New',monospace\"><span style=\"color: #008000; text-decoration-color: #008000; font-weight: bold\">Chunk 4:</span>\n",
       "Fig. 11. Illustration of how HuggingGPT works. (Image source: Shen et al. 2023)\n",
       "The system comprises of 4 stages:\n",
       "(1) <span style=\"color: #800000; text-decoration-color: #800000; text-decoration: underline\">Task</span> planning: LLM works as the brain and parses the user requests into multiple tasks. There are four \n",
       "attributes associated with each <span style=\"color: #800000; text-decoration-color: #800000; text-decoration: underline\">task</span>: <span style=\"color: #800000; text-decoration-color: #800000; text-decoration: underline\">task</span> type, ID, dependencies, and arguments. They use few-shot examples to \n",
       "guide LLM to do <span style=\"color: #800000; text-decoration-color: #800000; text-decoration: underline\">task</span> parsing and planning.\n",
       "Instruction:\n",
       "</pre>\n"
      ],
      "text/plain": [
       "\u001b[1;32mChunk 4:\u001b[0m\n",
       "Fig. 11. Illustration of how HuggingGPT works. (Image source: Shen et al. 2023)\n",
       "The system comprises of 4 stages:\n",
       "(1) \u001b[4;31mTask\u001b[0m planning: LLM works as the brain and parses the user requests into multiple tasks. There are four \n",
       "attributes associated with each \u001b[4;31mtask\u001b[0m: \u001b[4;31mtask\u001b[0m type, ID, dependencies, and arguments. They use few-shot examples to \n",
       "guide LLM to do \u001b[4;31mtask\u001b[0m parsing and planning.\n",
       "Instruction:\n"
      ]
     },
     "metadata": {},
     "output_type": "display_data"
    }
   ],
   "source": [
    "rprint(query)\n",
    "\n",
    "chunk_pattern = re.compile(r'^Chunk \\d+.*:$', flags=re.MULTILINE)\n",
    "terms_pattern = re.compile(rf'\\b({\"|\".join(query.split())})\\b', flags=re.IGNORECASE)\n",
    "\n",
    "for chunk_id, document in enumerate(relevant_documents, start=1):\n",
    "    text = Text(f\"Chunk {chunk_id}:\\n{document.page_content}\")\n",
    "    text.highlight_regex(chunk_pattern, \"bold green\")\n",
    "    text.highlight_regex(terms_pattern, \"underline red\")\n",
    "    rprint(text)"
   ]
  },
  {
   "cell_type": "markdown",
   "id": "865d956f-0d17-44aa-8157-e26526b9c681",
   "metadata": {},
   "source": [
    "## Semantic search (retriever)"
   ]
  },
  {
   "cell_type": "code",
   "execution_count": 18,
   "id": "acc1d075-1b20-47ee-be96-0f53b81d9504",
   "metadata": {},
   "outputs": [
    {
     "data": {
      "text/plain": [
       "VectorStoreRetriever(tags=['InMemoryVectorStore', 'OpenAIEmbeddings'], vectorstore=<langchain_core.vectorstores.in_memory.InMemoryVectorStore object at 0x7fca9ceeb090>, search_kwargs={'k': 4})"
      ]
     },
     "execution_count": 18,
     "metadata": {},
     "output_type": "execute_result"
    }
   ],
   "source": [
    "retriever = vectorstore.as_retriever(\n",
    "    search_type=\"similarity\",\n",
    "    search_kwargs={\"k\": 4}\n",
    ")\n",
    "retriever"
   ]
  },
  {
   "cell_type": "code",
   "execution_count": 19,
   "id": "66b9dda0-2dc7-41c9-9059-739e2164a00d",
   "metadata": {},
   "outputs": [
    {
     "data": {
      "text/plain": [
       "4"
      ]
     },
     "execution_count": 19,
     "metadata": {},
     "output_type": "execute_result"
    }
   ],
   "source": [
    "query = \"What is Task Decomposition?\"\n",
    "relevant_documents = retriever.invoke(query)\n",
    "len(relevant_documents)"
   ]
  },
  {
   "cell_type": "code",
   "execution_count": 20,
   "id": "ccc13d86-4efa-43b7-9e18-2c854adc9d7b",
   "metadata": {},
   "outputs": [
    {
     "data": {
      "text/html": [
       "<pre style=\"white-space:pre;overflow-x:auto;line-height:normal;font-family:Menlo,'DejaVu Sans Mono',consolas,'Courier New',monospace\"><span style=\"color: #800080; text-decoration-color: #800080; font-weight: bold\">Document</span><span style=\"font-weight: bold\">(</span>\n",
       "    <span style=\"color: #808000; text-decoration-color: #808000\">id</span>=<span style=\"color: #008000; text-decoration-color: #008000\">'7cd63e32-c110-4e3b-a055-2acfcfc8a659'</span>,\n",
       "    <span style=\"color: #808000; text-decoration-color: #808000\">metadata</span>=<span style=\"font-weight: bold\">{</span><span style=\"color: #008000; text-decoration-color: #008000\">'source'</span>: <span style=\"color: #008000; text-decoration-color: #008000\">'https://lilianweng.github.io/posts/2023-06-23-agent/'</span><span style=\"font-weight: bold\">}</span>,\n",
       "    <span style=\"color: #808000; text-decoration-color: #808000\">page_content</span>=<span style=\"color: #008000; text-decoration-color: #008000\">'Tree of Thoughts (Yao et al. 2023) extends CoT by exploring multiple reasoning possibilities at </span>\n",
       "<span style=\"color: #008000; text-decoration-color: #008000\">each step. It first decomposes the problem into multiple thought steps and generates multiple thoughts per step, </span>\n",
       "<span style=\"color: #008000; text-decoration-color: #008000\">creating a tree structure. The search process can be BFS (breadth-first search) or DFS (depth-first search) with </span>\n",
       "<span style=\"color: #008000; text-decoration-color: #008000\">each state evaluated by a classifier (via a prompt) or majority vote.\\nTask decomposition can be done (1) by LLM </span>\n",
       "<span style=\"color: #008000; text-decoration-color: #008000\">with simple prompting like \"Steps for XYZ.\\\\n1.\", \"What are the subgoals for achieving XYZ?\", (2) by using </span>\n",
       "<span style=\"color: #008000; text-decoration-color: #008000\">task-specific instructions; e.g. \"Write a story outline.\" for writing a novel, or (3) with human inputs.'</span>\n",
       "<span style=\"font-weight: bold\">)</span>\n",
       "</pre>\n"
      ],
      "text/plain": [
       "\u001b[1;35mDocument\u001b[0m\u001b[1m(\u001b[0m\n",
       "    \u001b[33mid\u001b[0m=\u001b[32m'7cd63e32-c110-4e3b-a055-2acfcfc8a659'\u001b[0m,\n",
       "    \u001b[33mmetadata\u001b[0m=\u001b[1m{\u001b[0m\u001b[32m'source'\u001b[0m: \u001b[32m'https://lilianweng.github.io/posts/2023-06-23-agent/'\u001b[0m\u001b[1m}\u001b[0m,\n",
       "    \u001b[33mpage_content\u001b[0m=\u001b[32m'Tree of Thoughts \u001b[0m\u001b[32m(\u001b[0m\u001b[32mYao et al. 2023\u001b[0m\u001b[32m)\u001b[0m\u001b[32m extends CoT by exploring multiple reasoning possibilities at \u001b[0m\n",
       "\u001b[32meach step. It first decomposes the problem into multiple thought steps and generates multiple thoughts per step, \u001b[0m\n",
       "\u001b[32mcreating a tree structure. The search process can be BFS \u001b[0m\u001b[32m(\u001b[0m\u001b[32mbreadth-first search\u001b[0m\u001b[32m)\u001b[0m\u001b[32m or DFS \u001b[0m\u001b[32m(\u001b[0m\u001b[32mdepth-first search\u001b[0m\u001b[32m)\u001b[0m\u001b[32m with \u001b[0m\n",
       "\u001b[32meach state evaluated by a classifier \u001b[0m\u001b[32m(\u001b[0m\u001b[32mvia a prompt\u001b[0m\u001b[32m)\u001b[0m\u001b[32m or majority vote.\\nTask decomposition can be done \u001b[0m\u001b[32m(\u001b[0m\u001b[32m1\u001b[0m\u001b[32m)\u001b[0m\u001b[32m by LLM \u001b[0m\n",
       "\u001b[32mwith simple prompting like \"Steps for XYZ.\\\\n1.\", \"What are the subgoals for achieving XYZ?\", \u001b[0m\u001b[32m(\u001b[0m\u001b[32m2\u001b[0m\u001b[32m)\u001b[0m\u001b[32m by using \u001b[0m\n",
       "\u001b[32mtask-specific instructions; e.g. \"Write a story outline.\" for writing a novel, or \u001b[0m\u001b[32m(\u001b[0m\u001b[32m3\u001b[0m\u001b[32m)\u001b[0m\u001b[32m with human inputs.'\u001b[0m\n",
       "\u001b[1m)\u001b[0m\n"
      ]
     },
     "metadata": {},
     "output_type": "display_data"
    },
    {
     "data": {
      "text/html": [
       "<pre style=\"white-space:pre;overflow-x:auto;line-height:normal;font-family:Menlo,'DejaVu Sans Mono',consolas,'Courier New',monospace\"><span style=\"color: #800080; text-decoration-color: #800080; font-weight: bold\">Document</span><span style=\"font-weight: bold\">(</span>\n",
       "    <span style=\"color: #808000; text-decoration-color: #808000\">id</span>=<span style=\"color: #008000; text-decoration-color: #008000\">'6fbc5dca-2f04-4605-93e7-adfb52fc0edc'</span>,\n",
       "    <span style=\"color: #808000; text-decoration-color: #808000\">metadata</span>=<span style=\"font-weight: bold\">{</span><span style=\"color: #008000; text-decoration-color: #008000\">'source'</span>: <span style=\"color: #008000; text-decoration-color: #008000\">'https://lilianweng.github.io/posts/2023-06-23-agent/'</span><span style=\"font-weight: bold\">}</span>,\n",
       "    <span style=\"color: #808000; text-decoration-color: #808000\">page_content</span>=<span style=\"color: #008000; text-decoration-color: #008000\">'Fig. 1. Overview of a LLM-powered autonomous agent system.\\nComponent One: Planning#\\nA </span>\n",
       "<span style=\"color: #008000; text-decoration-color: #008000\">complicated task usually involves many steps. An agent needs to know what they are and plan ahead.\\nTask </span>\n",
       "<span style=\"color: #008000; text-decoration-color: #008000\">Decomposition#\\nChain of thought (CoT; Wei et al. 2022) has become a standard prompting technique for enhancing </span>\n",
       "<span style=\"color: #008000; text-decoration-color: #008000\">model performance on complex tasks. The model is instructed to “think step by step” to utilize more test-time </span>\n",
       "<span style=\"color: #008000; text-decoration-color: #008000\">computation to decompose hard tasks into smaller and simpler steps. CoT transforms big tasks into multiple </span>\n",
       "<span style=\"color: #008000; text-decoration-color: #008000\">manageable tasks and shed lights into an interpretation of the model’s thinking process.'</span>\n",
       "<span style=\"font-weight: bold\">)</span>\n",
       "</pre>\n"
      ],
      "text/plain": [
       "\u001b[1;35mDocument\u001b[0m\u001b[1m(\u001b[0m\n",
       "    \u001b[33mid\u001b[0m=\u001b[32m'6fbc5dca-2f04-4605-93e7-adfb52fc0edc'\u001b[0m,\n",
       "    \u001b[33mmetadata\u001b[0m=\u001b[1m{\u001b[0m\u001b[32m'source'\u001b[0m: \u001b[32m'https://lilianweng.github.io/posts/2023-06-23-agent/'\u001b[0m\u001b[1m}\u001b[0m,\n",
       "    \u001b[33mpage_content\u001b[0m=\u001b[32m'Fig. 1. Overview of a LLM-powered autonomous agent system.\\nComponent One: Planning#\\nA \u001b[0m\n",
       "\u001b[32mcomplicated task usually involves many steps. An agent needs to know what they are and plan ahead.\\nTask \u001b[0m\n",
       "\u001b[32mDecomposition#\\nChain of thought \u001b[0m\u001b[32m(\u001b[0m\u001b[32mCoT; Wei et al. 2022\u001b[0m\u001b[32m)\u001b[0m\u001b[32m has become a standard prompting technique for enhancing \u001b[0m\n",
       "\u001b[32mmodel performance on complex tasks. The model is instructed to “think step by step” to utilize more test-time \u001b[0m\n",
       "\u001b[32mcomputation to decompose hard tasks into smaller and simpler steps. CoT transforms big tasks into multiple \u001b[0m\n",
       "\u001b[32mmanageable tasks and shed lights into an interpretation of the model’s thinking process.'\u001b[0m\n",
       "\u001b[1m)\u001b[0m\n"
      ]
     },
     "metadata": {},
     "output_type": "display_data"
    },
    {
     "data": {
      "text/html": [
       "<pre style=\"white-space:pre;overflow-x:auto;line-height:normal;font-family:Menlo,'DejaVu Sans Mono',consolas,'Courier New',monospace\"><span style=\"color: #800080; text-decoration-color: #800080; font-weight: bold\">Document</span><span style=\"font-weight: bold\">(</span>\n",
       "    <span style=\"color: #808000; text-decoration-color: #808000\">id</span>=<span style=\"color: #008000; text-decoration-color: #008000\">'27935b69-f72e-4cef-a560-59743b298ada'</span>,\n",
       "    <span style=\"color: #808000; text-decoration-color: #808000\">metadata</span>=<span style=\"font-weight: bold\">{</span><span style=\"color: #008000; text-decoration-color: #008000\">'source'</span>: <span style=\"color: #008000; text-decoration-color: #008000\">'https://lilianweng.github.io/posts/2023-06-23-agent/'</span><span style=\"font-weight: bold\">}</span>,\n",
       "    <span style=\"color: #808000; text-decoration-color: #808000\">page_content</span>=<span style=\"color: #008000; text-decoration-color: #008000\">'The AI assistant can parse user input to several tasks: [{\"task\": task, \"id\", task_id, \"dep\": </span>\n",
       "<span style=\"color: #008000; text-decoration-color: #008000\">dependency_task_ids, \"args\": {\"text\": text, \"image\": URL, \"audio\": URL, \"video\": URL}}]. The \"dep\" field denotes </span>\n",
       "<span style=\"color: #008000; text-decoration-color: #008000\">the id of the previous task which generates a new resource that the current task relies on. A special tag </span>\n",
       "<span style=\"color: #008000; text-decoration-color: #008000\">\"-task_id\" refers to the generated text image, audio and video in the dependency task with id as task_id. The task </span>\n",
       "<span style=\"color: #008000; text-decoration-color: #008000\">MUST be selected from the following options: {{ Available Task List }}. There is a logical relationship between </span>\n",
       "<span style=\"color: #008000; text-decoration-color: #008000\">tasks, please note their order. If the user input can\\'t be parsed, you need to reply empty JSON. Here are several </span>\n",
       "<span style=\"color: #008000; text-decoration-color: #008000\">cases for your reference: {{ Demonstrations }}. The chat history is recorded as {{ Chat History }}. From this chat </span>\n",
       "<span style=\"color: #008000; text-decoration-color: #008000\">history, you can find the path of the user-mentioned resources for your task planning.'</span>\n",
       "<span style=\"font-weight: bold\">)</span>\n",
       "</pre>\n"
      ],
      "text/plain": [
       "\u001b[1;35mDocument\u001b[0m\u001b[1m(\u001b[0m\n",
       "    \u001b[33mid\u001b[0m=\u001b[32m'27935b69-f72e-4cef-a560-59743b298ada'\u001b[0m,\n",
       "    \u001b[33mmetadata\u001b[0m=\u001b[1m{\u001b[0m\u001b[32m'source'\u001b[0m: \u001b[32m'https://lilianweng.github.io/posts/2023-06-23-agent/'\u001b[0m\u001b[1m}\u001b[0m,\n",
       "    \u001b[33mpage_content\u001b[0m=\u001b[32m'The AI assistant can parse user input to several tasks: \u001b[0m\u001b[32m[\u001b[0m\u001b[32m{\u001b[0m\u001b[32m\"task\": task, \"id\", task_id, \"dep\": \u001b[0m\n",
       "\u001b[32mdependency_task_ids, \"args\": \u001b[0m\u001b[32m{\u001b[0m\u001b[32m\"text\": text, \"image\": URL, \"audio\": URL, \"video\": URL\u001b[0m\u001b[32m}\u001b[0m\u001b[32m}\u001b[0m\u001b[32m]\u001b[0m\u001b[32m. The \"dep\" field denotes \u001b[0m\n",
       "\u001b[32mthe id of the previous task which generates a new resource that the current task relies on. A special tag \u001b[0m\n",
       "\u001b[32m\"-task_id\" refers to the generated text image, audio and video in the dependency task with id as task_id. The task \u001b[0m\n",
       "\u001b[32mMUST be selected from the following options: \u001b[0m\u001b[32m{\u001b[0m\u001b[32m{\u001b[0m\u001b[32m Available Task List \u001b[0m\u001b[32m}\u001b[0m\u001b[32m}\u001b[0m\u001b[32m. There is a logical relationship between \u001b[0m\n",
       "\u001b[32mtasks, please note their order. If the user input can\\'t be parsed, you need to reply empty JSON. Here are several \u001b[0m\n",
       "\u001b[32mcases for your reference: \u001b[0m\u001b[32m{\u001b[0m\u001b[32m{\u001b[0m\u001b[32m Demonstrations \u001b[0m\u001b[32m}\u001b[0m\u001b[32m}\u001b[0m\u001b[32m. The chat history is recorded as \u001b[0m\u001b[32m{\u001b[0m\u001b[32m{\u001b[0m\u001b[32m Chat History \u001b[0m\u001b[32m}\u001b[0m\u001b[32m}\u001b[0m\u001b[32m. From this chat \u001b[0m\n",
       "\u001b[32mhistory, you can find the path of the user-mentioned resources for your task planning.'\u001b[0m\n",
       "\u001b[1m)\u001b[0m\n"
      ]
     },
     "metadata": {},
     "output_type": "display_data"
    },
    {
     "data": {
      "text/html": [
       "<pre style=\"white-space:pre;overflow-x:auto;line-height:normal;font-family:Menlo,'DejaVu Sans Mono',consolas,'Courier New',monospace\"><span style=\"color: #800080; text-decoration-color: #800080; font-weight: bold\">Document</span><span style=\"font-weight: bold\">(</span>\n",
       "    <span style=\"color: #808000; text-decoration-color: #808000\">id</span>=<span style=\"color: #008000; text-decoration-color: #008000\">'7660a1be-2600-4440-935c-723bd117bb13'</span>,\n",
       "    <span style=\"color: #808000; text-decoration-color: #808000\">metadata</span>=<span style=\"font-weight: bold\">{</span><span style=\"color: #008000; text-decoration-color: #008000\">'source'</span>: <span style=\"color: #008000; text-decoration-color: #008000\">'https://lilianweng.github.io/posts/2023-06-23-agent/'</span><span style=\"font-weight: bold\">}</span>,\n",
       "    <span style=\"color: #808000; text-decoration-color: #808000\">page_content</span>=<span style=\"color: #008000; text-decoration-color: #008000\">'Fig. 11. Illustration of how HuggingGPT works. (Image source: Shen et al. 2023)\\nThe system </span>\n",
       "<span style=\"color: #008000; text-decoration-color: #008000\">comprises of 4 stages:\\n(1) Task planning: LLM works as the brain and parses the user requests into multiple tasks.</span>\n",
       "<span style=\"color: #008000; text-decoration-color: #008000\">There are four attributes associated with each task: task type, ID, dependencies, and arguments. They use few-shot </span>\n",
       "<span style=\"color: #008000; text-decoration-color: #008000\">examples to guide LLM to do task parsing and planning.\\nInstruction:'</span>\n",
       "<span style=\"font-weight: bold\">)</span>\n",
       "</pre>\n"
      ],
      "text/plain": [
       "\u001b[1;35mDocument\u001b[0m\u001b[1m(\u001b[0m\n",
       "    \u001b[33mid\u001b[0m=\u001b[32m'7660a1be-2600-4440-935c-723bd117bb13'\u001b[0m,\n",
       "    \u001b[33mmetadata\u001b[0m=\u001b[1m{\u001b[0m\u001b[32m'source'\u001b[0m: \u001b[32m'https://lilianweng.github.io/posts/2023-06-23-agent/'\u001b[0m\u001b[1m}\u001b[0m,\n",
       "    \u001b[33mpage_content\u001b[0m=\u001b[32m'Fig. 11. Illustration of how HuggingGPT works. \u001b[0m\u001b[32m(\u001b[0m\u001b[32mImage source: Shen et al. 2023\u001b[0m\u001b[32m)\u001b[0m\u001b[32m\\nThe system \u001b[0m\n",
       "\u001b[32mcomprises of 4 stages:\\n\u001b[0m\u001b[32m(\u001b[0m\u001b[32m1\u001b[0m\u001b[32m)\u001b[0m\u001b[32m Task planning: LLM works as the brain and parses the user requests into multiple tasks.\u001b[0m\n",
       "\u001b[32mThere are four attributes associated with each task: task type, ID, dependencies, and arguments. They use few-shot \u001b[0m\n",
       "\u001b[32mexamples to guide LLM to do task parsing and planning.\\nInstruction:'\u001b[0m\n",
       "\u001b[1m)\u001b[0m\n"
      ]
     },
     "metadata": {},
     "output_type": "display_data"
    }
   ],
   "source": [
    "for document in relevant_documents:\n",
    "    rprint(document)"
   ]
  },
  {
   "cell_type": "code",
   "execution_count": 21,
   "id": "9934549d-988e-47cb-ba13-1d65c087765a",
   "metadata": {},
   "outputs": [
    {
     "data": {
      "text/html": [
       "<pre style=\"white-space:pre;overflow-x:auto;line-height:normal;font-family:Menlo,'DejaVu Sans Mono',consolas,'Courier New',monospace\">What is Task Decomposition?\n",
       "</pre>\n"
      ],
      "text/plain": [
       "What is Task Decomposition?\n"
      ]
     },
     "metadata": {},
     "output_type": "display_data"
    },
    {
     "data": {
      "text/html": [
       "<pre style=\"white-space:pre;overflow-x:auto;line-height:normal;font-family:Menlo,'DejaVu Sans Mono',consolas,'Courier New',monospace\"><span style=\"color: #008000; text-decoration-color: #008000; font-weight: bold\">Chunk 1:</span>\n",
       "Tree of Thoughts (Yao et al. 2023) extends CoT by exploring multiple reasoning possibilities at each step. It first\n",
       "decomposes the problem into multiple thought steps and generates multiple thoughts per step, creating a tree \n",
       "structure. The search process can be BFS (breadth-first search) or DFS (depth-first search) with each state \n",
       "evaluated by a classifier (via a prompt) or majority vote.\n",
       "<span style=\"color: #800000; text-decoration-color: #800000; text-decoration: underline\">Task</span> <span style=\"color: #800000; text-decoration-color: #800000; text-decoration: underline\">decomposition</span> can be done (1) by LLM with simple prompting like \"Steps for XYZ.\\n1.\", \"<span style=\"color: #800000; text-decoration-color: #800000; text-decoration: underline\">What</span> are the subgoals \n",
       "for achieving XYZ?\", (2) by using <span style=\"color: #800000; text-decoration-color: #800000; text-decoration: underline\">task</span>-specific instructions; e.g. \"Write a story outline.\" for writing a novel, or\n",
       "(3) with human inputs.\n",
       "</pre>\n"
      ],
      "text/plain": [
       "\u001b[1;32mChunk 1:\u001b[0m\n",
       "Tree of Thoughts (Yao et al. 2023) extends CoT by exploring multiple reasoning possibilities at each step. It first\n",
       "decomposes the problem into multiple thought steps and generates multiple thoughts per step, creating a tree \n",
       "structure. The search process can be BFS (breadth-first search) or DFS (depth-first search) with each state \n",
       "evaluated by a classifier (via a prompt) or majority vote.\n",
       "\u001b[4;31mTask\u001b[0m \u001b[4;31mdecomposition\u001b[0m can be done (1) by LLM with simple prompting like \"Steps for XYZ.\\n1.\", \"\u001b[4;31mWhat\u001b[0m are the subgoals \n",
       "for achieving XYZ?\", (2) by using \u001b[4;31mtask\u001b[0m-specific instructions; e.g. \"Write a story outline.\" for writing a novel, or\n",
       "(3) with human inputs.\n"
      ]
     },
     "metadata": {},
     "output_type": "display_data"
    },
    {
     "data": {
      "text/html": [
       "<pre style=\"white-space:pre;overflow-x:auto;line-height:normal;font-family:Menlo,'DejaVu Sans Mono',consolas,'Courier New',monospace\"><span style=\"color: #008000; text-decoration-color: #008000; font-weight: bold\">Chunk 2:</span>\n",
       "Fig. 1. Overview of a LLM-powered autonomous agent system.\n",
       "Component One: Planning#\n",
       "A complicated <span style=\"color: #800000; text-decoration-color: #800000; text-decoration: underline\">task</span> usually involves many steps. An agent needs to know <span style=\"color: #800000; text-decoration-color: #800000; text-decoration: underline\">what</span> they are and plan ahead.\n",
       "<span style=\"color: #800000; text-decoration-color: #800000; text-decoration: underline\">Task</span> <span style=\"color: #800000; text-decoration-color: #800000; text-decoration: underline\">Decomposition</span>#\n",
       "Chain of thought (CoT; Wei et al. 2022) has become a standard prompting technique for enhancing model performance \n",
       "on complex tasks. The model <span style=\"color: #800000; text-decoration-color: #800000; text-decoration: underline\">is</span> instructed to “think step by step” to utilize more test-time computation to \n",
       "decompose hard tasks into smaller and simpler steps. CoT transforms big tasks into multiple manageable tasks and \n",
       "shed lights into an interpretation of the model’s thinking process.\n",
       "</pre>\n"
      ],
      "text/plain": [
       "\u001b[1;32mChunk 2:\u001b[0m\n",
       "Fig. 1. Overview of a LLM-powered autonomous agent system.\n",
       "Component One: Planning#\n",
       "A complicated \u001b[4;31mtask\u001b[0m usually involves many steps. An agent needs to know \u001b[4;31mwhat\u001b[0m they are and plan ahead.\n",
       "\u001b[4;31mTask\u001b[0m \u001b[4;31mDecomposition\u001b[0m#\n",
       "Chain of thought (CoT; Wei et al. 2022) has become a standard prompting technique for enhancing model performance \n",
       "on complex tasks. The model \u001b[4;31mis\u001b[0m instructed to “think step by step” to utilize more test-time computation to \n",
       "decompose hard tasks into smaller and simpler steps. CoT transforms big tasks into multiple manageable tasks and \n",
       "shed lights into an interpretation of the model’s thinking process.\n"
      ]
     },
     "metadata": {},
     "output_type": "display_data"
    },
    {
     "data": {
      "text/html": [
       "<pre style=\"white-space:pre;overflow-x:auto;line-height:normal;font-family:Menlo,'DejaVu Sans Mono',consolas,'Courier New',monospace\"><span style=\"color: #008000; text-decoration-color: #008000; font-weight: bold\">Chunk 3:</span>\n",
       "The AI assistant can parse user input to several tasks: [{\"<span style=\"color: #800000; text-decoration-color: #800000; text-decoration: underline\">task</span>\": <span style=\"color: #800000; text-decoration-color: #800000; text-decoration: underline\">task</span>, \"id\", task_id, \"dep\": dependency_task_ids, \n",
       "\"args\": {\"text\": text, \"image\": URL, \"audio\": URL, \"video\": URL}}]. The \"dep\" field denotes the id of the previous \n",
       "<span style=\"color: #800000; text-decoration-color: #800000; text-decoration: underline\">task</span> which generates a new resource that the current <span style=\"color: #800000; text-decoration-color: #800000; text-decoration: underline\">task</span> relies on. A special tag \"-task_id\" refers to the \n",
       "generated text image, audio and video in the dependency <span style=\"color: #800000; text-decoration-color: #800000; text-decoration: underline\">task</span> with id as task_id. The <span style=\"color: #800000; text-decoration-color: #800000; text-decoration: underline\">task</span> MUST be selected from the\n",
       "following options: {{ Available <span style=\"color: #800000; text-decoration-color: #800000; text-decoration: underline\">Task</span> List }}. There <span style=\"color: #800000; text-decoration-color: #800000; text-decoration: underline\">is</span> a logical relationship between tasks, please note their \n",
       "order. If the user input can't be parsed, you need to reply empty JSON. Here are several cases for your reference: \n",
       "{{ Demonstrations }}. The chat history <span style=\"color: #800000; text-decoration-color: #800000; text-decoration: underline\">is</span> recorded as {{ Chat History }}. From this chat history, you can find the \n",
       "path of the user-mentioned resources for your <span style=\"color: #800000; text-decoration-color: #800000; text-decoration: underline\">task</span> planning.\n",
       "</pre>\n"
      ],
      "text/plain": [
       "\u001b[1;32mChunk 3:\u001b[0m\n",
       "The AI assistant can parse user input to several tasks: [{\"\u001b[4;31mtask\u001b[0m\": \u001b[4;31mtask\u001b[0m, \"id\", task_id, \"dep\": dependency_task_ids, \n",
       "\"args\": {\"text\": text, \"image\": URL, \"audio\": URL, \"video\": URL}}]. The \"dep\" field denotes the id of the previous \n",
       "\u001b[4;31mtask\u001b[0m which generates a new resource that the current \u001b[4;31mtask\u001b[0m relies on. A special tag \"-task_id\" refers to the \n",
       "generated text image, audio and video in the dependency \u001b[4;31mtask\u001b[0m with id as task_id. The \u001b[4;31mtask\u001b[0m MUST be selected from the\n",
       "following options: {{ Available \u001b[4;31mTask\u001b[0m List }}. There \u001b[4;31mis\u001b[0m a logical relationship between tasks, please note their \n",
       "order. If the user input can't be parsed, you need to reply empty JSON. Here are several cases for your reference: \n",
       "{{ Demonstrations }}. The chat history \u001b[4;31mis\u001b[0m recorded as {{ Chat History }}. From this chat history, you can find the \n",
       "path of the user-mentioned resources for your \u001b[4;31mtask\u001b[0m planning.\n"
      ]
     },
     "metadata": {},
     "output_type": "display_data"
    },
    {
     "data": {
      "text/html": [
       "<pre style=\"white-space:pre;overflow-x:auto;line-height:normal;font-family:Menlo,'DejaVu Sans Mono',consolas,'Courier New',monospace\"><span style=\"color: #008000; text-decoration-color: #008000; font-weight: bold\">Chunk 4:</span>\n",
       "Fig. 11. Illustration of how HuggingGPT works. (Image source: Shen et al. 2023)\n",
       "The system comprises of 4 stages:\n",
       "(1) <span style=\"color: #800000; text-decoration-color: #800000; text-decoration: underline\">Task</span> planning: LLM works as the brain and parses the user requests into multiple tasks. There are four \n",
       "attributes associated with each <span style=\"color: #800000; text-decoration-color: #800000; text-decoration: underline\">task</span>: <span style=\"color: #800000; text-decoration-color: #800000; text-decoration: underline\">task</span> type, ID, dependencies, and arguments. They use few-shot examples to \n",
       "guide LLM to do <span style=\"color: #800000; text-decoration-color: #800000; text-decoration: underline\">task</span> parsing and planning.\n",
       "Instruction:\n",
       "</pre>\n"
      ],
      "text/plain": [
       "\u001b[1;32mChunk 4:\u001b[0m\n",
       "Fig. 11. Illustration of how HuggingGPT works. (Image source: Shen et al. 2023)\n",
       "The system comprises of 4 stages:\n",
       "(1) \u001b[4;31mTask\u001b[0m planning: LLM works as the brain and parses the user requests into multiple tasks. There are four \n",
       "attributes associated with each \u001b[4;31mtask\u001b[0m: \u001b[4;31mtask\u001b[0m type, ID, dependencies, and arguments. They use few-shot examples to \n",
       "guide LLM to do \u001b[4;31mtask\u001b[0m parsing and planning.\n",
       "Instruction:\n"
      ]
     },
     "metadata": {},
     "output_type": "display_data"
    }
   ],
   "source": [
    "rprint(query)\n",
    "\n",
    "chunk_pattern = re.compile(r'^Chunk \\d+.*:$', flags=re.MULTILINE)\n",
    "terms_pattern = re.compile(rf'\\b({\"|\".join(query.split())})\\b', flags=re.IGNORECASE)\n",
    "\n",
    "for chunk_id, document in enumerate(relevant_documents, start=1):\n",
    "    text = Text(f\"Chunk {chunk_id}:\\n{document.page_content}\")\n",
    "    text.highlight_regex(chunk_pattern, \"bold green\")\n",
    "    text.highlight_regex(terms_pattern, \"underline red\")\n",
    "    rprint(text)"
   ]
  }
 ],
 "metadata": {
  "kernelspec": {
   "display_name": "Python 3 (ipykernel)",
   "language": "python",
   "name": "python3"
  },
  "language_info": {
   "codemirror_mode": {
    "name": "ipython",
    "version": 3
   },
   "file_extension": ".py",
   "mimetype": "text/x-python",
   "name": "python",
   "nbconvert_exporter": "python",
   "pygments_lexer": "ipython3",
   "version": "3.11.11"
  }
 },
 "nbformat": 4,
 "nbformat_minor": 5
}
