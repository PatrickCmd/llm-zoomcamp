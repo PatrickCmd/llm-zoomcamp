{
 "cells": [
  {
   "cell_type": "code",
   "execution_count": 1,
   "id": "22a417e1-53d5-499a-aa6a-1705af508ba9",
   "metadata": {},
   "outputs": [],
   "source": [
    "import os\n",
    "import re\n",
    "\n",
    "from dotenv import find_dotenv, load_dotenv\n",
    "from IPython.display import display\n",
    "from rich import print as rprint\n",
    "from rich.markdown import Markdown\n",
    "from rich.pretty import Pretty\n",
    "from rich.text import Text"
   ]
  },
  {
   "cell_type": "code",
   "execution_count": 2,
   "id": "af26db2a-d46d-4824-9ebc-399362768694",
   "metadata": {},
   "outputs": [
    {
     "data": {
      "text/plain": [
       "True"
      ]
     },
     "execution_count": 2,
     "metadata": {},
     "output_type": "execute_result"
    }
   ],
   "source": [
    "load_dotenv(find_dotenv('.env'))"
   ]
  },
  {
   "cell_type": "code",
   "execution_count": 3,
   "id": "aa0bde02-2d6b-43cd-b6ae-32b2dd5a61c0",
   "metadata": {},
   "outputs": [],
   "source": [
    "os.environ[\"LANGCHAIN_PROJECT\"] = \"RAG From Scratch: Part 6 (Query Translation - RAG-Fusion)\""
   ]
  },
  {
   "cell_type": "markdown",
   "id": "a9645807-7209-4c18-9d33-293ccf5c3c65",
   "metadata": {},
   "source": [
    "# Query translation"
   ]
  },
  {
   "cell_type": "markdown",
   "id": "e7b67d1a-266c-4c82-aa7c-3c596c4d4541",
   "metadata": {},
   "source": [
    "![](images/query-translation-01.png)"
   ]
  },
  {
   "cell_type": "markdown",
   "id": "6d7fd680-9d6d-4149-b301-057011be009e",
   "metadata": {},
   "source": [
    "![](images/query-translation-02.png)"
   ]
  },
  {
   "cell_type": "markdown",
   "id": "db0b1c74-633d-4c6a-9e21-848404e15938",
   "metadata": {},
   "source": [
    "# Part 6: RAG-Fusion"
   ]
  },
  {
   "cell_type": "markdown",
   "id": "fbdfa48e-4c6f-4c56-bc38-beed22b3dcbf",
   "metadata": {},
   "source": [
    "![](images/06-rag-fusion.png)"
   ]
  },
  {
   "cell_type": "markdown",
   "id": "5e0577a2-02e7-40c4-9bbb-e0c4b867fec9",
   "metadata": {},
   "source": [
    "## Configure components"
   ]
  },
  {
   "cell_type": "code",
   "execution_count": 4,
   "id": "aeacceb9-ca2f-4a6d-9ef4-7d336eb24c21",
   "metadata": {},
   "outputs": [],
   "source": [
    "from langchain_openai import ChatOpenAI, OpenAIEmbeddings"
   ]
  },
  {
   "cell_type": "code",
   "execution_count": 5,
   "id": "3aabe3b1-a293-4a11-9223-9b244c3318f2",
   "metadata": {},
   "outputs": [
    {
     "data": {
      "text/plain": [
       "AIMessage(content='Hello! How can I assist you today?', additional_kwargs={'refusal': None}, response_metadata={'token_usage': {'completion_tokens': 10, 'prompt_tokens': 8, 'total_tokens': 18, 'completion_tokens_details': {'accepted_prediction_tokens': 0, 'audio_tokens': 0, 'reasoning_tokens': 0, 'rejected_prediction_tokens': 0}, 'prompt_tokens_details': {'audio_tokens': 0, 'cached_tokens': 0}}, 'model_name': 'gpt-4o-mini-2024-07-18', 'system_fingerprint': 'fp_b376dfbbd5', 'id': 'chatcmpl-BKNDWQ6BEgCgTcxCiZtPj3mRq8gLt', 'finish_reason': 'stop', 'logprobs': None}, id='run-df5c0736-2b02-40df-a334-87f4a43f9e7d-0', usage_metadata={'input_tokens': 8, 'output_tokens': 10, 'total_tokens': 18, 'input_token_details': {'audio': 0, 'cache_read': 0}, 'output_token_details': {'audio': 0, 'reasoning': 0}})"
      ]
     },
     "execution_count": 5,
     "metadata": {},
     "output_type": "execute_result"
    }
   ],
   "source": [
    "llm = ChatOpenAI(\n",
    "    model=\"gpt-4o-mini\",\n",
    "    temperature=1\n",
    ")\n",
    "llm.invoke(\"Hello\")"
   ]
  },
  {
   "cell_type": "code",
   "execution_count": 6,
   "id": "ad9005cc-1373-490d-ae93-6c2a63ae1e41",
   "metadata": {},
   "outputs": [
    {
     "data": {
      "text/plain": [
       "1536"
      ]
     },
     "execution_count": 6,
     "metadata": {},
     "output_type": "execute_result"
    }
   ],
   "source": [
    "embeddings = OpenAIEmbeddings(model=\"text-embedding-3-small\")\n",
    "len(embeddings.embed_query(\"Hello\"))"
   ]
  },
  {
   "cell_type": "markdown",
   "id": "cb9d0057-f947-4fce-8c1d-15ca3ee2f314",
   "metadata": {},
   "source": [
    "## Load documents"
   ]
  },
  {
   "cell_type": "code",
   "execution_count": 7,
   "id": "dec75c34-7b75-445f-b8aa-e6a5530364cf",
   "metadata": {},
   "outputs": [
    {
     "name": "stderr",
     "output_type": "stream",
     "text": [
      "USER_AGENT environment variable not set, consider setting it to identify your requests.\n"
     ]
    }
   ],
   "source": [
    "import bs4\n",
    "from langchain_community.document_loaders import WebBaseLoader"
   ]
  },
  {
   "cell_type": "code",
   "execution_count": 8,
   "id": "bbe983d1-0ecd-4dbe-86b1-21b87c7b2d2b",
   "metadata": {},
   "outputs": [
    {
     "data": {
      "text/plain": [
       "1"
      ]
     },
     "execution_count": 8,
     "metadata": {},
     "output_type": "execute_result"
    }
   ],
   "source": [
    "loader = WebBaseLoader(\n",
    "    web_paths=(\"https://lilianweng.github.io/posts/2023-06-23-agent/\",),\n",
    "    bs_kwargs=dict(\n",
    "        parse_only=bs4.SoupStrainer(\n",
    "            class_=(\"post-content\", \"post-title\", \"post-header\")\n",
    "        )\n",
    "    ),\n",
    ")\n",
    "docs = loader.load()\n",
    "len(docs)"
   ]
  },
  {
   "cell_type": "code",
   "execution_count": 9,
   "id": "79ae07ef-ef25-4cc4-ae60-2e23c0978e4f",
   "metadata": {},
   "outputs": [
    {
     "name": "stdout",
     "output_type": "stream",
     "text": [
      "\n",
      "\n",
      "      LLM Powered Autonomous Agents\n",
      "    \n",
      "Date: June 23, 2023  |  Estimated Reading Time: 31 min  |  Author: Lilian Weng\n",
      "\n",
      "\n",
      "Building agents with LLM (large language model) as its core controller is a cool concept. Several proof-of-concepts demos, such as AutoGPT, GPT-Engineer and BabyAGI, serve as inspiring examples. The potentiality of LLM extends beyond generating well-written copies, stories, essays and programs; it can be framed as a powerful general problem solver.\n",
      "Agent System Overview#\n",
      "In a LLM-powered autonomous agent system, LLM functions as the agent’s brain, complemented by several key components:\n",
      "\n",
      "Planning\n",
      "\n",
      "Subgoal and decomposition: The agent breaks down large tasks into smaller, manageable subgoals, enabling efficient handling of complex tasks.\n",
      "Reflection and refinement: The agent can do self-criticism and self-reflection over past actions, learn from mistakes and refine them for future steps, thereby improving the quality of final results.\n",
      "\n",
      "\n",
      "Memory\n",
      "\n",
      "Short-term memory: I \n"
     ]
    }
   ],
   "source": [
    "print(docs[0].page_content[:1000])"
   ]
  },
  {
   "cell_type": "markdown",
   "id": "87460646-96d5-45af-9e8e-ff694eebab8e",
   "metadata": {},
   "source": [
    "## Split documents"
   ]
  },
  {
   "cell_type": "code",
   "execution_count": 10,
   "id": "d4e2b315-8e3a-47f1-8a8c-cd3156d7e118",
   "metadata": {},
   "outputs": [],
   "source": [
    "from langchain.text_splitter import RecursiveCharacterTextSplitter"
   ]
  },
  {
   "cell_type": "code",
   "execution_count": 11,
   "id": "6225e318-c420-41b7-b7f6-4fb2ea9b948a",
   "metadata": {},
   "outputs": [
    {
     "data": {
      "text/plain": [
       "66"
      ]
     },
     "execution_count": 11,
     "metadata": {},
     "output_type": "execute_result"
    }
   ],
   "source": [
    "text_splitter = RecursiveCharacterTextSplitter(chunk_size=1000, chunk_overlap=200)\n",
    "splits = text_splitter.split_documents(docs)\n",
    "len(splits)"
   ]
  },
  {
   "cell_type": "markdown",
   "id": "50011489-d342-45ba-80ac-684276daee5f",
   "metadata": {},
   "source": [
    "## Store documents"
   ]
  },
  {
   "cell_type": "code",
   "execution_count": 12,
   "id": "41b2a91d-1e40-4831-bb44-e9818f817519",
   "metadata": {},
   "outputs": [],
   "source": [
    "from langchain_core.vectorstores import InMemoryVectorStore"
   ]
  },
  {
   "cell_type": "code",
   "execution_count": 13,
   "id": "a900ad25-1a29-4764-9225-c5cfc3a431ca",
   "metadata": {},
   "outputs": [
    {
     "data": {
      "text/plain": [
       "(66, 66)"
      ]
     },
     "execution_count": 13,
     "metadata": {},
     "output_type": "execute_result"
    }
   ],
   "source": [
    "vectorstore = InMemoryVectorStore(embeddings)\n",
    "doc_ids = vectorstore.add_documents(documents=splits)\n",
    "len(doc_ids), len(vectorstore.store)"
   ]
  },
  {
   "cell_type": "markdown",
   "id": "7a04329c-1551-481e-a34d-26357457ce41",
   "metadata": {},
   "source": [
    "## RAG"
   ]
  },
  {
   "cell_type": "code",
   "execution_count": 14,
   "id": "c18cdb06-cac4-46af-949f-57f5acc224c9",
   "metadata": {},
   "outputs": [],
   "source": [
    "from collections import defaultdict\n",
    "import operator\n",
    "from typing import Annotated, TypedDict\n",
    "\n",
    "from langchain_core.documents import Document\n",
    "from langchain_core.load import dumps, loads\n",
    "from langchain_core.messages import HumanMessage\n",
    "from langchain_core.runnables import RunnableConfig\n",
    "from langgraph.constants import Send\n",
    "from langgraph.graph import END, START, StateGraph\n",
    "from pydantic import BaseModel, Field"
   ]
  },
  {
   "cell_type": "code",
   "execution_count": 15,
   "id": "7a5370ea-b1c3-4ce7-8edf-3eecf7ee8481",
   "metadata": {},
   "outputs": [
    {
     "name": "stdout",
     "output_type": "stream",
     "text": [
      "Answer the following question based on this context:\n",
      "\n",
      "{context}\n",
      "\n",
      "Question: {question}\n",
      "\n"
     ]
    }
   ],
   "source": [
    "rag_prompt_template = \"\"\"Answer the following question based on this context:\n",
    "\n",
    "{context}\n",
    "\n",
    "Question: {question}\n",
    "\"\"\"\n",
    "print(rag_prompt_template)"
   ]
  },
  {
   "cell_type": "code",
   "execution_count": 16,
   "id": "17361868-dbe4-469a-afbf-e1af486254f1",
   "metadata": {},
   "outputs": [],
   "source": [
    "def reciprocal_rank_fusion(results: list[list[Document]], k: int = 60) -> list[tuple[Document, float]]:\n",
    "    fused_scores = defaultdict(int)\n",
    "\n",
    "    for docs in results:\n",
    "        for rank, doc in enumerate(docs, start=1):\n",
    "            fused_scores[dumps(doc)] += 1 / (k + rank)\n",
    "\n",
    "    reranked_results = [\n",
    "        (loads(doc), score)\n",
    "        for doc, score in sorted(fused_scores.items(), key=lambda x: x[1], reverse=True)\n",
    "    ]\n",
    "\n",
    "    return reranked_results"
   ]
  },
  {
   "cell_type": "code",
   "execution_count": 17,
   "id": "b5c4d4c2-aa71-4a0d-8f9b-bd49ba4ca065",
   "metadata": {},
   "outputs": [],
   "source": [
    "def format_docs(docs: list[Document]) -> list[str]:\n",
    "    return \"\\n\\n\".join(doc.page_content for doc in docs)"
   ]
  },
  {
   "cell_type": "code",
   "execution_count": 18,
   "id": "01db724f-376b-44c5-88b1-7e658bf40164",
   "metadata": {},
   "outputs": [],
   "source": [
    "query = \"What is task decomposition for LLM agents?\""
   ]
  },
  {
   "cell_type": "code",
   "execution_count": 19,
   "id": "b35c588c-1ace-4571-9d08-70b8869798b8",
   "metadata": {},
   "outputs": [],
   "source": [
    "class State(TypedDict):\n",
    "    question: str\n",
    "    generated_questions: list[str]\n",
    "    retrieved_docs: Annotated[\n",
    "        list[list[Document]], operator.add\n",
    "    ]\n",
    "    context: list[Document]\n",
    "    context_scores: list[float]\n",
    "    answer: str\n",
    "\n",
    "class RetrieverState(TypedDict):\n",
    "    generated_question: str"
   ]
  },
  {
   "cell_type": "code",
   "execution_count": 20,
   "id": "5b79c08c-970e-4e0c-813e-a0bb593e58f5",
   "metadata": {},
   "outputs": [],
   "source": [
    "def generate_queries(state: State, config: RunnableConfig):\n",
    "    generated_questions_count = config['configurable'].get(\"generated_questions_count\", 5)\n",
    "    include_original_question = config['configurable'].get(\"include_original_question\", True)\n",
    "\n",
    "    questions = []\n",
    "    query = state[\"question\"]\n",
    "\n",
    "    if include_original_question:\n",
    "        questions.append(query)\n",
    "        \n",
    "    class MultiQueryGenerator(BaseModel):\n",
    "        questions: list[str] = Field(\n",
    "            ..., \n",
    "            description=\"List of questions generated multiple perspectives based on user query\", \n",
    "            min_items=generated_questions_count, \n",
    "            max_items=generated_questions_count\n",
    "        )\n",
    "\n",
    "    structured_llm = llm.with_structured_output(MultiQueryGenerator, method=\"function_calling\")\n",
    "    response = structured_llm.invoke([\n",
    "        HumanMessage(content=query)\n",
    "    ])\n",
    "    questions.extend(response.questions)\n",
    "    \n",
    "    return {\"generated_questions\": questions}\n",
    "\n",
    "\n",
    "def assign_queries(state: State):\n",
    "    return [Send(\"retrieve_docs\", {\"generated_question\": question}) for question in state[\"generated_questions\"]]\n",
    "\n",
    "\n",
    "def retrieve_docs(state: RetrieverState):\n",
    "    retrieved_docs = vectorstore.similarity_search(state[\"generated_question\"])\n",
    "    return {\"retrieved_docs\": [retrieved_docs]}\n",
    "\n",
    "\n",
    "def aggregate_docs(state: State):\n",
    "    retrieved_docs = state[\"retrieved_docs\"]\n",
    "    reranked_results = reciprocal_rank_fusion(retrieved_docs)\n",
    "    docs, scores = list(zip(*((doc, score) for doc, score in reranked_results)))\n",
    "    return {\"context\": docs, \"context_scores\": scores}\n",
    "\n",
    "\n",
    "def generate_answer(state: State):\n",
    "    docs_content = format_docs(state[\"context\"])\n",
    "    rag_prompt = rag_prompt_template.format(\n",
    "        question=state[\"question\"], context=docs_content\n",
    "    )\n",
    "    response = llm.invoke([\n",
    "        HumanMessage(content=rag_prompt)\n",
    "    ])\n",
    "    return {\"answer\": response.content}"
   ]
  },
  {
   "cell_type": "code",
   "execution_count": 21,
   "id": "0fe93cf4-d6ee-4ec7-8312-cb09b833ca80",
   "metadata": {},
   "outputs": [
    {
     "data": {
      "image/png": "[encoded data removed]",
      "text/plain": [
       "<langgraph.graph.state.CompiledStateGraph object at 0x7f14bca6ed90>"
      ]
     },
     "execution_count": 21,
     "metadata": {},
     "output_type": "execute_result"
    }
   ],
   "source": [
    "graph_builder = StateGraph(State)\n",
    "\n",
    "graph_builder.add_node(\"generate_queries\", generate_queries)\n",
    "graph_builder.add_node(\"retrieve_docs\", retrieve_docs)\n",
    "graph_builder.add_node(\"aggregate_docs\", aggregate_docs)\n",
    "graph_builder.add_node(\"generate_answer\", generate_answer)\n",
    "\n",
    "graph_builder.add_edge(START, \"generate_queries\")\n",
    "graph_builder.add_conditional_edges(\n",
    "    \"generate_queries\", assign_queries, [\"retrieve_docs\"]\n",
    ")\n",
    "graph_builder.add_edge(\"retrieve_docs\", \"aggregate_docs\")\n",
    "graph_builder.add_edge(\"aggregate_docs\", \"generate_answer\")\n",
    "graph_builder.add_edge(\"generate_answer\", END)\n",
    "graph = graph_builder.compile()\n",
    "graph"
   ]
  },
  {
   "cell_type": "code",
   "execution_count": 22,
   "id": "ffaa7dda-19c0-41ed-b377-1c5c8ba3d112",
   "metadata": {},
   "outputs": [
    {
     "name": "stdout",
     "output_type": "stream",
     "text": [
      "What is task decomposition for LLM agents?\n"
     ]
    },
    {
     "name": "stderr",
     "output_type": "stream",
     "text": [
      "/tmp/ipykernel_185389/4149646339.py:9: LangChainBetaWarning: The function `loads` is in beta. It is actively being worked on, so the API may change.\n",
      "  (loads(doc), score)\n"
     ]
    },
    {
     "data": {
      "text/html": [
       "<pre style=\"white-space:pre;overflow-x:auto;line-height:normal;font-family:Menlo,'DejaVu Sans Mono',consolas,'Courier New',monospace\"><span style=\"font-weight: bold\">{</span>\n",
       "    <span style=\"color: #008000; text-decoration-color: #008000\">'question'</span>: <span style=\"color: #008000; text-decoration-color: #008000\">'What is task decomposition for LLM agents?'</span>,\n",
       "    <span style=\"color: #008000; text-decoration-color: #008000\">'generated_questions'</span>: <span style=\"font-weight: bold\">[</span>\n",
       "        <span style=\"color: #008000; text-decoration-color: #008000\">'What is task decomposition for LLM agents?'</span>,\n",
       "        <span style=\"color: #008000; text-decoration-color: #008000\">'What are the key components of task decomposition for LLM agents?'</span>,\n",
       "        <span style=\"color: #008000; text-decoration-color: #008000\">'How does task decomposition enhance the efficiency of LLM agents?'</span>,\n",
       "        <span style=\"color: #008000; text-decoration-color: #008000\">'What are common techniques used in task decomposition for LLM agents?'</span>,\n",
       "        <span style=\"color: #008000; text-decoration-color: #008000\">'Can you provide examples of task decomposition in LLM applications?'</span>,\n",
       "        <span style=\"color: #008000; text-decoration-color: #008000\">'What challenges are associated with task decomposition in LLM agents?'</span>\n",
       "    <span style=\"font-weight: bold\">]</span>,\n",
       "    <span style=\"color: #008000; text-decoration-color: #008000\">'retrieved_docs'</span>: <span style=\"font-weight: bold\">[[</span><span style=\"color: #808000; text-decoration-color: #808000\">...</span><span style=\"font-weight: bold\">]</span>, <span style=\"font-weight: bold\">[</span><span style=\"color: #808000; text-decoration-color: #808000\">...</span><span style=\"font-weight: bold\">]</span>, <span style=\"font-weight: bold\">[</span><span style=\"color: #808000; text-decoration-color: #808000\">...</span><span style=\"font-weight: bold\">]</span>, <span style=\"font-weight: bold\">[</span><span style=\"color: #808000; text-decoration-color: #808000\">...</span><span style=\"font-weight: bold\">]</span>, <span style=\"font-weight: bold\">[</span><span style=\"color: #808000; text-decoration-color: #808000\">...</span><span style=\"font-weight: bold\">]</span>, <span style=\"font-weight: bold\">[</span><span style=\"color: #808000; text-decoration-color: #808000\">...</span><span style=\"font-weight: bold\">]]</span>,\n",
       "    <span style=\"color: #008000; text-decoration-color: #008000\">'context'</span>: <span style=\"font-weight: bold\">(</span>\n",
       "        <span style=\"color: #800080; text-decoration-color: #800080; font-weight: bold\">Document</span><span style=\"font-weight: bold\">(</span><span style=\"color: #808000; text-decoration-color: #808000\">...</span><span style=\"font-weight: bold\">)</span>,\n",
       "        <span style=\"color: #800080; text-decoration-color: #800080; font-weight: bold\">Document</span><span style=\"font-weight: bold\">(</span><span style=\"color: #808000; text-decoration-color: #808000\">...</span><span style=\"font-weight: bold\">)</span>,\n",
       "        <span style=\"color: #800080; text-decoration-color: #800080; font-weight: bold\">Document</span><span style=\"font-weight: bold\">(</span><span style=\"color: #808000; text-decoration-color: #808000\">...</span><span style=\"font-weight: bold\">)</span>,\n",
       "        <span style=\"color: #800080; text-decoration-color: #800080; font-weight: bold\">Document</span><span style=\"font-weight: bold\">(</span><span style=\"color: #808000; text-decoration-color: #808000\">...</span><span style=\"font-weight: bold\">)</span>,\n",
       "        <span style=\"color: #800080; text-decoration-color: #800080; font-weight: bold\">Document</span><span style=\"font-weight: bold\">(</span><span style=\"color: #808000; text-decoration-color: #808000\">...</span><span style=\"font-weight: bold\">)</span>,\n",
       "        <span style=\"color: #800080; text-decoration-color: #800080; font-weight: bold\">Document</span><span style=\"font-weight: bold\">(</span><span style=\"color: #808000; text-decoration-color: #808000\">...</span><span style=\"font-weight: bold\">)</span>,\n",
       "        <span style=\"color: #800080; text-decoration-color: #800080; font-weight: bold\">Document</span><span style=\"font-weight: bold\">(</span><span style=\"color: #808000; text-decoration-color: #808000\">...</span><span style=\"font-weight: bold\">)</span>,\n",
       "        <span style=\"color: #800080; text-decoration-color: #800080; font-weight: bold\">Document</span><span style=\"font-weight: bold\">(</span><span style=\"color: #808000; text-decoration-color: #808000\">...</span><span style=\"font-weight: bold\">)</span>\n",
       "    <span style=\"font-weight: bold\">)</span>,\n",
       "    <span style=\"color: #008000; text-decoration-color: #008000\">'context_scores'</span>: <span style=\"font-weight: bold\">(</span>\n",
       "        <span style=\"color: #008080; text-decoration-color: #008080; font-weight: bold\">0.09836065573770493</span>,\n",
       "        <span style=\"color: #008080; text-decoration-color: #008080; font-weight: bold\">0.08038914490527393</span>,\n",
       "        <span style=\"color: #008080; text-decoration-color: #008080; font-weight: bold\">0.04787506400409626</span>,\n",
       "        <span style=\"color: #008080; text-decoration-color: #008080; font-weight: bold\">0.04762704813108039</span>,\n",
       "        <span style=\"color: #008080; text-decoration-color: #008080; font-weight: bold\">0.04712301587301587</span>,\n",
       "        <span style=\"color: #008080; text-decoration-color: #008080; font-weight: bold\">0.03149801587301587</span>,\n",
       "        <span style=\"color: #008080; text-decoration-color: #008080; font-weight: bold\">0.015625</span>,\n",
       "        <span style=\"color: #008080; text-decoration-color: #008080; font-weight: bold\">0.015625</span>\n",
       "    <span style=\"font-weight: bold\">)</span>,\n",
       "    <span style=\"color: #008000; text-decoration-color: #008000\">'answer'</span>: <span style=\"color: #008000; text-decoration-color: #008000\">'Task decomposition for LLM (large language model) agents refers to the process of breaking down </span>\n",
       "<span style=\"color: #008000; text-decoration-color: #008000\">larger, complex tasks into smaller, more manageable subgoals. This approach enables the agent to handle complicated</span>\n",
       "<span style=\"color: #008000; text-decoration-color: #008000\">tasks more efficiently by transforming them into a series of simpler steps, which can be addressed individually. </span>\n",
       "<span style=\"color: #008000; text-decoration-color: #008000\">Task decomposition can be facilitated by various methods, such as using standard prompting techniques like \"think </span>\n",
       "<span style=\"color: #008000; text-decoration-color: #008000\">step by step,\" providing task-specific instructions, or even incorporating human input. The goal is to create a </span>\n",
       "<span style=\"color: #008000; text-decoration-color: #008000\">structured approach that allows the LLM agent to navigate through tasks systematically, enhancing both execution </span>\n",
       "<span style=\"color: #008000; text-decoration-color: #008000\">efficiency and the overall quality of the results.'</span>\n",
       "<span style=\"font-weight: bold\">}</span>\n",
       "</pre>\n"
      ],
      "text/plain": [
       "\u001b[1m{\u001b[0m\n",
       "    \u001b[32m'question'\u001b[0m: \u001b[32m'What is task decomposition for LLM agents?'\u001b[0m,\n",
       "    \u001b[32m'generated_questions'\u001b[0m: \u001b[1m[\u001b[0m\n",
       "        \u001b[32m'What is task decomposition for LLM agents?'\u001b[0m,\n",
       "        \u001b[32m'What are the key components of task decomposition for LLM agents?'\u001b[0m,\n",
       "        \u001b[32m'How does task decomposition enhance the efficiency of LLM agents?'\u001b[0m,\n",
       "        \u001b[32m'What are common techniques used in task decomposition for LLM agents?'\u001b[0m,\n",
       "        \u001b[32m'Can you provide examples of task decomposition in LLM applications?'\u001b[0m,\n",
       "        \u001b[32m'What challenges are associated with task decomposition in LLM agents?'\u001b[0m\n",
       "    \u001b[1m]\u001b[0m,\n",
       "    \u001b[32m'retrieved_docs'\u001b[0m: \u001b[1m[\u001b[0m\u001b[1m[\u001b[0m\u001b[33m...\u001b[0m\u001b[1m]\u001b[0m, \u001b[1m[\u001b[0m\u001b[33m...\u001b[0m\u001b[1m]\u001b[0m, \u001b[1m[\u001b[0m\u001b[33m...\u001b[0m\u001b[1m]\u001b[0m, \u001b[1m[\u001b[0m\u001b[33m...\u001b[0m\u001b[1m]\u001b[0m, \u001b[1m[\u001b[0m\u001b[33m...\u001b[0m\u001b[1m]\u001b[0m, \u001b[1m[\u001b[0m\u001b[33m...\u001b[0m\u001b[1m]\u001b[0m\u001b[1m]\u001b[0m,\n",
       "    \u001b[32m'context'\u001b[0m: \u001b[1m(\u001b[0m\n",
       "        \u001b[1;35mDocument\u001b[0m\u001b[1m(\u001b[0m\u001b[33m...\u001b[0m\u001b[1m)\u001b[0m,\n",
       "        \u001b[1;35mDocument\u001b[0m\u001b[1m(\u001b[0m\u001b[33m...\u001b[0m\u001b[1m)\u001b[0m,\n",
       "        \u001b[1;35mDocument\u001b[0m\u001b[1m(\u001b[0m\u001b[33m...\u001b[0m\u001b[1m)\u001b[0m,\n",
       "        \u001b[1;35mDocument\u001b[0m\u001b[1m(\u001b[0m\u001b[33m...\u001b[0m\u001b[1m)\u001b[0m,\n",
       "        \u001b[1;35mDocument\u001b[0m\u001b[1m(\u001b[0m\u001b[33m...\u001b[0m\u001b[1m)\u001b[0m,\n",
       "        \u001b[1;35mDocument\u001b[0m\u001b[1m(\u001b[0m\u001b[33m...\u001b[0m\u001b[1m)\u001b[0m,\n",
       "        \u001b[1;35mDocument\u001b[0m\u001b[1m(\u001b[0m\u001b[33m...\u001b[0m\u001b[1m)\u001b[0m,\n",
       "        \u001b[1;35mDocument\u001b[0m\u001b[1m(\u001b[0m\u001b[33m...\u001b[0m\u001b[1m)\u001b[0m\n",
       "    \u001b[1m)\u001b[0m,\n",
       "    \u001b[32m'context_scores'\u001b[0m: \u001b[1m(\u001b[0m\n",
       "        \u001b[1;36m0.09836065573770493\u001b[0m,\n",
       "        \u001b[1;36m0.08038914490527393\u001b[0m,\n",
       "        \u001b[1;36m0.04787506400409626\u001b[0m,\n",
       "        \u001b[1;36m0.04762704813108039\u001b[0m,\n",
       "        \u001b[1;36m0.04712301587301587\u001b[0m,\n",
       "        \u001b[1;36m0.03149801587301587\u001b[0m,\n",
       "        \u001b[1;36m0.015625\u001b[0m,\n",
       "        \u001b[1;36m0.015625\u001b[0m\n",
       "    \u001b[1m)\u001b[0m,\n",
       "    \u001b[32m'answer'\u001b[0m: \u001b[32m'Task decomposition for LLM \u001b[0m\u001b[32m(\u001b[0m\u001b[32mlarge language model\u001b[0m\u001b[32m)\u001b[0m\u001b[32m agents refers to the process of breaking down \u001b[0m\n",
       "\u001b[32mlarger, complex tasks into smaller, more manageable subgoals. This approach enables the agent to handle complicated\u001b[0m\n",
       "\u001b[32mtasks more efficiently by transforming them into a series of simpler steps, which can be addressed individually. \u001b[0m\n",
       "\u001b[32mTask decomposition can be facilitated by various methods, such as using standard prompting techniques like \"think \u001b[0m\n",
       "\u001b[32mstep by step,\" providing task-specific instructions, or even incorporating human input. The goal is to create a \u001b[0m\n",
       "\u001b[32mstructured approach that allows the LLM agent to navigate through tasks systematically, enhancing both execution \u001b[0m\n",
       "\u001b[32mefficiency and the overall quality of the results.'\u001b[0m\n",
       "\u001b[1m}\u001b[0m\n"
      ]
     },
     "metadata": {},
     "output_type": "display_data"
    },
    {
     "data": {
      "text/html": [
       "<pre style=\"white-space:pre;overflow-x:auto;line-height:normal;font-family:Menlo,'DejaVu Sans Mono',consolas,'Courier New',monospace\">Task decomposition for LLM (large language model) agents refers to the process of breaking down larger, complex    \n",
       "tasks into smaller, more manageable subgoals. This approach enables the agent to handle complicated tasks more     \n",
       "efficiently by transforming them into a series of simpler steps, which can be addressed individually. Task         \n",
       "decomposition can be facilitated by various methods, such as using standard prompting techniques like \"think step  \n",
       "by step,\" providing task-specific instructions, or even incorporating human input. The goal is to create a         \n",
       "structured approach that allows the LLM agent to navigate through tasks systematically, enhancing both execution   \n",
       "efficiency and the overall quality of the results.                                                                 \n",
       "</pre>\n"
      ],
      "text/plain": [
       "Task decomposition for LLM (large language model) agents refers to the process of breaking down larger, complex    \n",
       "tasks into smaller, more manageable subgoals. This approach enables the agent to handle complicated tasks more     \n",
       "efficiently by transforming them into a series of simpler steps, which can be addressed individually. Task         \n",
       "decomposition can be facilitated by various methods, such as using standard prompting techniques like \"think step  \n",
       "by step,\" providing task-specific instructions, or even incorporating human input. The goal is to create a         \n",
       "structured approach that allows the LLM agent to navigate through tasks systematically, enhancing both execution   \n",
       "efficiency and the overall quality of the results.                                                                 \n"
      ]
     },
     "metadata": {},
     "output_type": "display_data"
    }
   ],
   "source": [
    "print(query)\n",
    "\n",
    "response = graph.invoke(\n",
    "    {\n",
    "        \"question\": query\n",
    "    }\n",
    ")\n",
    "\n",
    "display(Pretty(response, max_depth=2))\n",
    "display(Markdown(response[\"answer\"]))"
   ]
  },
  {
   "cell_type": "code",
   "execution_count": 23,
   "id": "7747dc13-8622-49be-a22e-9b11195fa005",
   "metadata": {},
   "outputs": [
    {
     "name": "stdout",
     "output_type": "stream",
     "text": [
      "What is task decomposition for LLM agents?\n"
     ]
    },
    {
     "data": {
      "text/html": [
       "<pre style=\"white-space:pre;overflow-x:auto;line-height:normal;font-family:Menlo,'DejaVu Sans Mono',consolas,'Courier New',monospace\"><span style=\"font-weight: bold\">{</span>\n",
       "    <span style=\"color: #008000; text-decoration-color: #008000\">'question'</span>: <span style=\"color: #008000; text-decoration-color: #008000\">'What is task decomposition for LLM agents?'</span>,\n",
       "    <span style=\"color: #008000; text-decoration-color: #008000\">'generated_questions'</span>: <span style=\"font-weight: bold\">[</span>\n",
       "        <span style=\"color: #008000; text-decoration-color: #008000\">'What are the key principles of task decomposition for LLM agents?'</span>,\n",
       "        <span style=\"color: #008000; text-decoration-color: #008000\">'How does task decomposition improve the efficiency of LLM agents?'</span>,\n",
       "        <span style=\"color: #008000; text-decoration-color: #008000\">'What are some examples of task decomposition in the context of LLM applications?'</span>\n",
       "    <span style=\"font-weight: bold\">]</span>,\n",
       "    <span style=\"color: #008000; text-decoration-color: #008000\">'retrieved_docs'</span>: <span style=\"font-weight: bold\">[[</span><span style=\"color: #808000; text-decoration-color: #808000\">...</span><span style=\"font-weight: bold\">]</span>, <span style=\"font-weight: bold\">[</span><span style=\"color: #808000; text-decoration-color: #808000\">...</span><span style=\"font-weight: bold\">]</span>, <span style=\"font-weight: bold\">[</span><span style=\"color: #808000; text-decoration-color: #808000\">...</span><span style=\"font-weight: bold\">]]</span>,\n",
       "    <span style=\"color: #008000; text-decoration-color: #008000\">'context'</span>: <span style=\"font-weight: bold\">(</span>\n",
       "        <span style=\"color: #800080; text-decoration-color: #800080; font-weight: bold\">Document</span><span style=\"font-weight: bold\">(</span><span style=\"color: #808000; text-decoration-color: #808000\">...</span><span style=\"font-weight: bold\">)</span>,\n",
       "        <span style=\"color: #800080; text-decoration-color: #800080; font-weight: bold\">Document</span><span style=\"font-weight: bold\">(</span><span style=\"color: #808000; text-decoration-color: #808000\">...</span><span style=\"font-weight: bold\">)</span>,\n",
       "        <span style=\"color: #800080; text-decoration-color: #800080; font-weight: bold\">Document</span><span style=\"font-weight: bold\">(</span><span style=\"color: #808000; text-decoration-color: #808000\">...</span><span style=\"font-weight: bold\">)</span>,\n",
       "        <span style=\"color: #800080; text-decoration-color: #800080; font-weight: bold\">Document</span><span style=\"font-weight: bold\">(</span><span style=\"color: #808000; text-decoration-color: #808000\">...</span><span style=\"font-weight: bold\">)</span>,\n",
       "        <span style=\"color: #800080; text-decoration-color: #800080; font-weight: bold\">Document</span><span style=\"font-weight: bold\">(</span><span style=\"color: #808000; text-decoration-color: #808000\">...</span><span style=\"font-weight: bold\">)</span>,\n",
       "        <span style=\"color: #800080; text-decoration-color: #800080; font-weight: bold\">Document</span><span style=\"font-weight: bold\">(</span><span style=\"color: #808000; text-decoration-color: #808000\">...</span><span style=\"font-weight: bold\">)</span>,\n",
       "        <span style=\"color: #800080; text-decoration-color: #800080; font-weight: bold\">Document</span><span style=\"font-weight: bold\">(</span><span style=\"color: #808000; text-decoration-color: #808000\">...</span><span style=\"font-weight: bold\">)</span>\n",
       "    <span style=\"font-weight: bold\">)</span>,\n",
       "    <span style=\"color: #008000; text-decoration-color: #008000\">'context_scores'</span>: <span style=\"font-weight: bold\">(</span>\n",
       "        <span style=\"color: #008080; text-decoration-color: #008080; font-weight: bold\">0.04918032786885246</span>,\n",
       "        <span style=\"color: #008080; text-decoration-color: #008080; font-weight: bold\">0.03225806451612903</span>,\n",
       "        <span style=\"color: #008080; text-decoration-color: #008080; font-weight: bold\">0.03149801587301587</span>,\n",
       "        <span style=\"color: #008080; text-decoration-color: #008080; font-weight: bold\">0.03149801587301587</span>,\n",
       "        <span style=\"color: #008080; text-decoration-color: #008080; font-weight: bold\">0.016129032258064516</span>,\n",
       "        <span style=\"color: #008080; text-decoration-color: #008080; font-weight: bold\">0.015873015873015872</span>,\n",
       "        <span style=\"color: #008080; text-decoration-color: #008080; font-weight: bold\">0.015625</span>\n",
       "    <span style=\"font-weight: bold\">)</span>,\n",
       "    <span style=\"color: #008000; text-decoration-color: #008000\">'answer'</span>: <span style=\"color: #008000; text-decoration-color: #008000\">'Task decomposition for LLM agents refers to the process of breaking down complex tasks into smaller,</span>\n",
       "<span style=\"color: #008000; text-decoration-color: #008000\">manageable subgoals. This approach allows the agent to handle difficult tasks more efficiently by transforming them</span>\n",
       "<span style=\"color: #008000; text-decoration-color: #008000\">into a series of simpler steps. The chain of thought (CoT) technique is commonly used for task decomposition, where</span>\n",
       "<span style=\"color: #008000; text-decoration-color: #008000\">the model is prompted to think step by step, facilitating clearer reasoning and better decision-making. By </span>\n",
       "<span style=\"color: #008000; text-decoration-color: #008000\">decomposing tasks, LLMs can utilize more computational resources at test time, improving their performance and </span>\n",
       "<span style=\"color: #008000; text-decoration-color: #008000\">providing insight into their thought processes.'</span>\n",
       "<span style=\"font-weight: bold\">}</span>\n",
       "</pre>\n"
      ],
      "text/plain": [
       "\u001b[1m{\u001b[0m\n",
       "    \u001b[32m'question'\u001b[0m: \u001b[32m'What is task decomposition for LLM agents?'\u001b[0m,\n",
       "    \u001b[32m'generated_questions'\u001b[0m: \u001b[1m[\u001b[0m\n",
       "        \u001b[32m'What are the key principles of task decomposition for LLM agents?'\u001b[0m,\n",
       "        \u001b[32m'How does task decomposition improve the efficiency of LLM agents?'\u001b[0m,\n",
       "        \u001b[32m'What are some examples of task decomposition in the context of LLM applications?'\u001b[0m\n",
       "    \u001b[1m]\u001b[0m,\n",
       "    \u001b[32m'retrieved_docs'\u001b[0m: \u001b[1m[\u001b[0m\u001b[1m[\u001b[0m\u001b[33m...\u001b[0m\u001b[1m]\u001b[0m, \u001b[1m[\u001b[0m\u001b[33m...\u001b[0m\u001b[1m]\u001b[0m, \u001b[1m[\u001b[0m\u001b[33m...\u001b[0m\u001b[1m]\u001b[0m\u001b[1m]\u001b[0m,\n",
       "    \u001b[32m'context'\u001b[0m: \u001b[1m(\u001b[0m\n",
       "        \u001b[1;35mDocument\u001b[0m\u001b[1m(\u001b[0m\u001b[33m...\u001b[0m\u001b[1m)\u001b[0m,\n",
       "        \u001b[1;35mDocument\u001b[0m\u001b[1m(\u001b[0m\u001b[33m...\u001b[0m\u001b[1m)\u001b[0m,\n",
       "        \u001b[1;35mDocument\u001b[0m\u001b[1m(\u001b[0m\u001b[33m...\u001b[0m\u001b[1m)\u001b[0m,\n",
       "        \u001b[1;35mDocument\u001b[0m\u001b[1m(\u001b[0m\u001b[33m...\u001b[0m\u001b[1m)\u001b[0m,\n",
       "        \u001b[1;35mDocument\u001b[0m\u001b[1m(\u001b[0m\u001b[33m...\u001b[0m\u001b[1m)\u001b[0m,\n",
       "        \u001b[1;35mDocument\u001b[0m\u001b[1m(\u001b[0m\u001b[33m...\u001b[0m\u001b[1m)\u001b[0m,\n",
       "        \u001b[1;35mDocument\u001b[0m\u001b[1m(\u001b[0m\u001b[33m...\u001b[0m\u001b[1m)\u001b[0m\n",
       "    \u001b[1m)\u001b[0m,\n",
       "    \u001b[32m'context_scores'\u001b[0m: \u001b[1m(\u001b[0m\n",
       "        \u001b[1;36m0.04918032786885246\u001b[0m,\n",
       "        \u001b[1;36m0.03225806451612903\u001b[0m,\n",
       "        \u001b[1;36m0.03149801587301587\u001b[0m,\n",
       "        \u001b[1;36m0.03149801587301587\u001b[0m,\n",
       "        \u001b[1;36m0.016129032258064516\u001b[0m,\n",
       "        \u001b[1;36m0.015873015873015872\u001b[0m,\n",
       "        \u001b[1;36m0.015625\u001b[0m\n",
       "    \u001b[1m)\u001b[0m,\n",
       "    \u001b[32m'answer'\u001b[0m: \u001b[32m'Task decomposition for LLM agents refers to the process of breaking down complex tasks into smaller,\u001b[0m\n",
       "\u001b[32mmanageable subgoals. This approach allows the agent to handle difficult tasks more efficiently by transforming them\u001b[0m\n",
       "\u001b[32minto a series of simpler steps. The chain of thought \u001b[0m\u001b[32m(\u001b[0m\u001b[32mCoT\u001b[0m\u001b[32m)\u001b[0m\u001b[32m technique is commonly used for task decomposition, where\u001b[0m\n",
       "\u001b[32mthe model is prompted to think step by step, facilitating clearer reasoning and better decision-making. By \u001b[0m\n",
       "\u001b[32mdecomposing tasks, LLMs can utilize more computational resources at test time, improving their performance and \u001b[0m\n",
       "\u001b[32mproviding insight into their thought processes.'\u001b[0m\n",
       "\u001b[1m}\u001b[0m\n"
      ]
     },
     "metadata": {},
     "output_type": "display_data"
    },
    {
     "data": {
      "text/html": [
       "<pre style=\"white-space:pre;overflow-x:auto;line-height:normal;font-family:Menlo,'DejaVu Sans Mono',consolas,'Courier New',monospace\">Task decomposition for LLM agents refers to the process of breaking down complex tasks into smaller, manageable    \n",
       "subgoals. This approach allows the agent to handle difficult tasks more efficiently by transforming them into a    \n",
       "series of simpler steps. The chain of thought (CoT) technique is commonly used for task decomposition, where the   \n",
       "model is prompted to think step by step, facilitating clearer reasoning and better decision-making. By decomposing \n",
       "tasks, LLMs can utilize more computational resources at test time, improving their performance and providing       \n",
       "insight into their thought processes.                                                                              \n",
       "</pre>\n"
      ],
      "text/plain": [
       "Task decomposition for LLM agents refers to the process of breaking down complex tasks into smaller, manageable    \n",
       "subgoals. This approach allows the agent to handle difficult tasks more efficiently by transforming them into a    \n",
       "series of simpler steps. The chain of thought (CoT) technique is commonly used for task decomposition, where the   \n",
       "model is prompted to think step by step, facilitating clearer reasoning and better decision-making. By decomposing \n",
       "tasks, LLMs can utilize more computational resources at test time, improving their performance and providing       \n",
       "insight into their thought processes.                                                                              \n"
      ]
     },
     "metadata": {},
     "output_type": "display_data"
    }
   ],
   "source": [
    "print(query)\n",
    "\n",
    "config = {\n",
    "    \"configurable\": {\n",
    "        \"generated_questions_count\": 3,\n",
    "        \"include_original_question\": False,\n",
    "    }\n",
    "}\n",
    "response = graph.invoke({\"question\": query}, config=config)\n",
    "\n",
    "display(Pretty(response, max_depth=2))\n",
    "display(Markdown(response[\"answer\"]))"
   ]
  }
 ],
 "metadata": {
  "kernelspec": {
   "display_name": "Python 3 (ipykernel)",
   "language": "python",
   "name": "python3"
  },
  "language_info": {
   "codemirror_mode": {
    "name": "ipython",
    "version": 3
   },
   "file_extension": ".py",
   "mimetype": "text/x-python",
   "name": "python",
   "nbconvert_exporter": "python",
   "pygments_lexer": "ipython3",
   "version": "3.11.11"
  }
 },
 "nbformat": 4,
 "nbformat_minor": 5
}
