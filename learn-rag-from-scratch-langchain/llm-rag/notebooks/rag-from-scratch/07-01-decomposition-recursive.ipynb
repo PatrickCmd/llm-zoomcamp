{
 "cells": [
  {
   "cell_type": "code",
   "execution_count": 1,
   "id": "9185900c-873b-40c8-a671-bdf5e6c6e445",
   "metadata": {},
   "outputs": [],
   "source": [
    "import os\n",
    "import re\n",
    "\n",
    "from dotenv import find_dotenv, load_dotenv\n",
    "from IPython.display import display\n",
    "from rich import print as rprint\n",
    "from rich.markdown import Markdown\n",
    "from rich.pretty import Pretty\n",
    "from rich.text import Text"
   ]
  },
  {
   "cell_type": "code",
   "execution_count": 2,
   "id": "0309a6a1-b78c-477b-9d29-a7f17b05618a",
   "metadata": {},
   "outputs": [
    {
     "data": {
      "text/plain": [
       "True"
      ]
     },
     "execution_count": 2,
     "metadata": {},
     "output_type": "execute_result"
    }
   ],
   "source": [
    "load_dotenv(find_dotenv('.env'))"
   ]
  },
  {
   "cell_type": "code",
   "execution_count": 3,
   "id": "e2576e0c-f570-4a57-a0f5-df782bf9daa0",
   "metadata": {},
   "outputs": [],
   "source": [
    "os.environ[\"LANGCHAIN_PROJECT\"] = \"RAG From Scratch: Part 7-1 (Query Translation - Decomposition (Recursive))\""
   ]
  },
  {
   "cell_type": "markdown",
   "id": "3063500a-216e-4dbe-9b45-3e6aae8442b1",
   "metadata": {},
   "source": [
    "# Query translation"
   ]
  },
  {
   "cell_type": "markdown",
   "id": "6674c047-61f4-419d-a017-1470e251914f",
   "metadata": {},
   "source": [
    "![](images/query-translation-01.png)"
   ]
  },
  {
   "cell_type": "markdown",
   "id": "2860bf1a-57f6-427b-9977-7604a3685902",
   "metadata": {},
   "source": [
    "![](images/query-translation-02.png)"
   ]
  },
  {
   "cell_type": "markdown",
   "id": "989a6c3d-e97c-496d-b583-88e72baeb4c3",
   "metadata": {},
   "source": [
    "# Part 7-1: Decomposition (Recursive)"
   ]
  },
  {
   "cell_type": "markdown",
   "id": "31247214-b065-4d17-a986-c8240376a110",
   "metadata": {},
   "source": [
    "![](images/07-01-decomposition-recursive.png)"
   ]
  },
  {
   "cell_type": "markdown",
   "id": "800589d2-7c6e-4aac-a83a-f0ec36049cb6",
   "metadata": {},
   "source": [
    "## Configure components"
   ]
  },
  {
   "cell_type": "code",
   "execution_count": 4,
   "id": "f553f7a7-3ff3-4197-80a5-cfdf604a9e1a",
   "metadata": {},
   "outputs": [],
   "source": [
    "from langchain_openai import ChatOpenAI, OpenAIEmbeddings"
   ]
  },
  {
   "cell_type": "code",
   "execution_count": 5,
   "id": "2f86ab48-b98f-4543-a6c6-4c972b84b152",
   "metadata": {},
   "outputs": [
    {
     "data": {
      "text/plain": [
       "AIMessage(content='Hello! How can I assist you today?', additional_kwargs={'refusal': None}, response_metadata={'token_usage': {'completion_tokens': 10, 'prompt_tokens': 8, 'total_tokens': 18, 'completion_tokens_details': {'accepted_prediction_tokens': 0, 'audio_tokens': 0, 'reasoning_tokens': 0, 'rejected_prediction_tokens': 0}, 'prompt_tokens_details': {'audio_tokens': 0, 'cached_tokens': 0}}, 'model_name': 'gpt-4o-mini-2024-07-18', 'system_fingerprint': 'fp_44added55e', 'id': 'chatcmpl-BKNGfeKgTo7Gx5r6pOBqSywyW2ddS', 'finish_reason': 'stop', 'logprobs': None}, id='run-3738a343-c9ce-4035-8f94-6ba314ad2f3d-0', usage_metadata={'input_tokens': 8, 'output_tokens': 10, 'total_tokens': 18, 'input_token_details': {'audio': 0, 'cache_read': 0}, 'output_token_details': {'audio': 0, 'reasoning': 0}})"
      ]
     },
     "execution_count": 5,
     "metadata": {},
     "output_type": "execute_result"
    }
   ],
   "source": [
    "llm = ChatOpenAI(\n",
    "    model=\"gpt-4o-mini\",\n",
    "    temperature=1\n",
    ")\n",
    "llm.invoke(\"Hello\")"
   ]
  },
  {
   "cell_type": "code",
   "execution_count": 6,
   "id": "b7dc8587-e9c0-4b5e-944c-72e7d267b4c2",
   "metadata": {},
   "outputs": [
    {
     "data": {
      "text/plain": [
       "1536"
      ]
     },
     "execution_count": 6,
     "metadata": {},
     "output_type": "execute_result"
    }
   ],
   "source": [
    "embeddings = OpenAIEmbeddings(model=\"text-embedding-3-small\")\n",
    "len(embeddings.embed_query(\"Hello\"))"
   ]
  },
  {
   "cell_type": "markdown",
   "id": "a16bc159-dede-4260-b2ff-100990d63dbb",
   "metadata": {},
   "source": [
    "## Load documents"
   ]
  },
  {
   "cell_type": "code",
   "execution_count": 7,
   "id": "bc65ba7f-09c3-4c99-9a49-2a2f6cb7ef3e",
   "metadata": {},
   "outputs": [
    {
     "name": "stderr",
     "output_type": "stream",
     "text": [
      "USER_AGENT environment variable not set, consider setting it to identify your requests.\n"
     ]
    }
   ],
   "source": [
    "import bs4\n",
    "from langchain_community.document_loaders import WebBaseLoader"
   ]
  },
  {
   "cell_type": "code",
   "execution_count": 8,
   "id": "bd74a494-1b65-489c-a370-7e41049b8be5",
   "metadata": {},
   "outputs": [
    {
     "data": {
      "text/plain": [
       "1"
      ]
     },
     "execution_count": 8,
     "metadata": {},
     "output_type": "execute_result"
    }
   ],
   "source": [
    "loader = WebBaseLoader(\n",
    "    web_paths=(\"https://lilianweng.github.io/posts/2023-06-23-agent/\",),\n",
    "    bs_kwargs=dict(\n",
    "        parse_only=bs4.SoupStrainer(\n",
    "            class_=(\"post-content\", \"post-title\", \"post-header\")\n",
    "        )\n",
    "    ),\n",
    ")\n",
    "docs = loader.load()\n",
    "len(docs)"
   ]
  },
  {
   "cell_type": "code",
   "execution_count": 9,
   "id": "b3111212-eab1-4691-ad6f-c7f6ea632155",
   "metadata": {},
   "outputs": [
    {
     "name": "stdout",
     "output_type": "stream",
     "text": [
      "\n",
      "\n",
      "      LLM Powered Autonomous Agents\n",
      "    \n",
      "Date: June 23, 2023  |  Estimated Reading Time: 31 min  |  Author: Lilian Weng\n",
      "\n",
      "\n",
      "Building agents with LLM (large language model) as its core controller is a cool concept. Several proof-of-concepts demos, such as AutoGPT, GPT-Engineer and BabyAGI, serve as inspiring examples. The potentiality of LLM extends beyond generating well-written copies, stories, essays and programs; it can be framed as a powerful general problem solver.\n",
      "Agent System Overview#\n",
      "In a LLM-powered autonomous agent system, LLM functions as the agent’s brain, complemented by several key components:\n",
      "\n",
      "Planning\n",
      "\n",
      "Subgoal and decomposition: The agent breaks down large tasks into smaller, manageable subgoals, enabling efficient handling of complex tasks.\n",
      "Reflection and refinement: The agent can do self-criticism and self-reflection over past actions, learn from mistakes and refine them for future steps, thereby improving the quality of final results.\n",
      "\n",
      "\n",
      "Memory\n",
      "\n",
      "Short-term memory: I \n"
     ]
    }
   ],
   "source": [
    "print(docs[0].page_content[:1000])"
   ]
  },
  {
   "cell_type": "markdown",
   "id": "4b8b9af7-a2f9-45b8-854c-410b8c4e67bc",
   "metadata": {},
   "source": [
    "## Split documents"
   ]
  },
  {
   "cell_type": "code",
   "execution_count": 10,
   "id": "1955089c-5fa3-43a2-a16e-3e0682fae53d",
   "metadata": {},
   "outputs": [],
   "source": [
    "from langchain.text_splitter import RecursiveCharacterTextSplitter"
   ]
  },
  {
   "cell_type": "code",
   "execution_count": 11,
   "id": "7aa35b9e-5bd5-423b-b17d-38bd60aa9060",
   "metadata": {},
   "outputs": [
    {
     "data": {
      "text/plain": [
       "66"
      ]
     },
     "execution_count": 11,
     "metadata": {},
     "output_type": "execute_result"
    }
   ],
   "source": [
    "text_splitter = RecursiveCharacterTextSplitter(chunk_size=1000, chunk_overlap=200)\n",
    "splits = text_splitter.split_documents(docs)\n",
    "len(splits)"
   ]
  },
  {
   "cell_type": "markdown",
   "id": "b49e5f6a-3722-47c4-be2e-69601f16f637",
   "metadata": {},
   "source": [
    "## Store documents"
   ]
  },
  {
   "cell_type": "code",
   "execution_count": 12,
   "id": "1f1600ad-ae95-4e1d-8cee-d7ce8a977d6d",
   "metadata": {},
   "outputs": [],
   "source": [
    "from langchain_core.vectorstores import InMemoryVectorStore"
   ]
  },
  {
   "cell_type": "code",
   "execution_count": 13,
   "id": "f672034b-b010-4b4b-aae9-583a87c45803",
   "metadata": {},
   "outputs": [
    {
     "data": {
      "text/plain": [
       "(66, 66)"
      ]
     },
     "execution_count": 13,
     "metadata": {},
     "output_type": "execute_result"
    }
   ],
   "source": [
    "vectorstore = InMemoryVectorStore(embeddings)\n",
    "doc_ids = vectorstore.add_documents(documents=splits)\n",
    "len(doc_ids), len(vectorstore.store)"
   ]
  },
  {
   "cell_type": "code",
   "execution_count": 14,
   "id": "cf4fa9a1-71a5-42d1-8070-8e2a4953af95",
   "metadata": {},
   "outputs": [],
   "source": [
    "retriever = vectorstore.as_retriever()"
   ]
  },
  {
   "cell_type": "markdown",
   "id": "839bda8b-7070-443c-afbc-1eab80ad5300",
   "metadata": {},
   "source": [
    "## RAG"
   ]
  },
  {
   "cell_type": "code",
   "execution_count": 15,
   "id": "277799eb-70ca-4d70-b93b-ac62ee4c62db",
   "metadata": {},
   "outputs": [],
   "source": [
    "import operator\n",
    "from typing import Annotated, Literal, TypedDict\n",
    "\n",
    "from langchain_core.documents import Document\n",
    "from langchain_core.messages import HumanMessage\n",
    "from langchain_core.runnables import RunnableConfig\n",
    "from langgraph.graph import END, START, StateGraph\n",
    "from pydantic import BaseModel, Field"
   ]
  },
  {
   "cell_type": "code",
   "execution_count": 16,
   "id": "f9a77538-ddbe-4202-8e50-6184996df3b0",
   "metadata": {},
   "outputs": [
    {
     "name": "stdout",
     "output_type": "stream",
     "text": [
      "You are a helpful assistant that generates multiple sub-questions related to an input question.\n",
      "The goal is to break down the input into a set of sub-problems / sub-questions that can be answered sequentially.\n",
      "Generate multiple search queries related to: {question}\n"
     ]
    }
   ],
   "source": [
    "decomposition_prompt_template = \"\"\"You are a helpful assistant that generates multiple sub-questions related to an input question.\n",
    "The goal is to break down the input into a set of sub-problems / sub-questions that can be answered sequentially.\n",
    "Generate multiple search queries related to: {question}\"\"\"\n",
    "print(decomposition_prompt_template)"
   ]
  },
  {
   "cell_type": "code",
   "execution_count": 17,
   "id": "b6e05179-def7-4723-9215-ba6ef4dd65a9",
   "metadata": {},
   "outputs": [
    {
     "name": "stdout",
     "output_type": "stream",
     "text": [
      "Here is the question you need to answer:\n",
      "<question>\n",
      "{question}\n",
      "</question>\n",
      "\n",
      "Here are any available background question + answer pairs:\n",
      "<question_answer_pairs>\n",
      "{qa_pairs}\n",
      "</question_answer_pairs>\n",
      "\n",
      "Here is additional context relevant to the question: \n",
      "<context>\n",
      "{context}\n",
      "</context>\n",
      "\n",
      "Use the above context and any background question + answer pairs to answer the question:\n",
      "<question>\n",
      "{question}\n",
      "</question>\n",
      "\n"
     ]
    }
   ],
   "source": [
    "recursive_prompt_template = \"\"\"Here is the question you need to answer:\n",
    "<question>\n",
    "{question}\n",
    "</question>\n",
    "\n",
    "Here are any available background question + answer pairs:\n",
    "<question_answer_pairs>\n",
    "{qa_pairs}\n",
    "</question_answer_pairs>\n",
    "\n",
    "Here is additional context relevant to the question: \n",
    "<context>\n",
    "{context}\n",
    "</context>\n",
    "\n",
    "Use the above context and any background question + answer pairs to answer the question:\n",
    "<question>\n",
    "{question}\n",
    "</question>\n",
    "\"\"\"\n",
    "print(recursive_prompt_template)"
   ]
  },
  {
   "cell_type": "code",
   "execution_count": 18,
   "id": "2ef22081-7982-419b-80ed-16c3ca2b3df1",
   "metadata": {},
   "outputs": [],
   "source": [
    "def format_qa_pair(question, answer):\n",
    "    return f\"Question: {question}  \\nAnswer:\\n{answer}\\n\\n\""
   ]
  },
  {
   "cell_type": "code",
   "execution_count": 19,
   "id": "bf754a56-99a7-4d87-bf7b-99f425305284",
   "metadata": {},
   "outputs": [],
   "source": [
    "query = \"What are the main components of an LLM-powered autonomous agent system?\""
   ]
  },
  {
   "cell_type": "code",
   "execution_count": 20,
   "id": "78609718-3a1a-4f11-b063-52ed7f695a8b",
   "metadata": {},
   "outputs": [],
   "source": [
    "class State(TypedDict):\n",
    "    question: str\n",
    "    all_questions: list[str]\n",
    "    current_question_idx: int\n",
    "    qa_pairs: list[str]\n",
    "    context: list[Document]\n",
    "    answer: str"
   ]
  },
  {
   "cell_type": "code",
   "execution_count": 21,
   "id": "f8545d97-c61b-48bd-9659-09870773bda1",
   "metadata": {},
   "outputs": [],
   "source": [
    "def generate_sub_questions(state: State, config: RunnableConfig) -> list[str]:\n",
    "    max_generated_sub_questions_count = config['configurable'].get(\"max_generated_sub_questions_count\", 3)\n",
    "    query = state['question']\n",
    "    \n",
    "    class SubQuestionsGenerator(BaseModel):\n",
    "        sub_questions: list[str] = Field(\n",
    "            ..., \n",
    "            description=\"List of generated sub-problems / sub-questions\",\n",
    "            max_items=max_generated_sub_questions_count\n",
    "        )\n",
    "    \n",
    "    structured_llm = llm.with_structured_output(SubQuestionsGenerator, method=\"function_calling\")\n",
    "    decomposition_prompt = decomposition_prompt_template.format(\n",
    "        question=query\n",
    "    )\n",
    "    response = structured_llm.invoke([\n",
    "        HumanMessage(content=decomposition_prompt)\n",
    "    ])\n",
    "    questions = response.sub_questions + [query]\n",
    "    \n",
    "    return {\"all_questions\": questions, \"current_question_idx\": 0}\n",
    "\n",
    "\n",
    "def retrieve_docs(state: State):\n",
    "    question = state[\"all_questions\"][state[\"current_question_idx\"]]\n",
    "    retrieved_docs = vectorstore.similarity_search(question)\n",
    "    return {\"context\": retrieved_docs}\n",
    "\n",
    "\n",
    "def generate_answer(state: State):\n",
    "    question = state[\"all_questions\"][state[\"current_question_idx\"]]\n",
    "    recursive_prompt = recursive_prompt_template.format(\n",
    "        question=question,\n",
    "        qa_pairs=state.get(\"qa_pairs\", \"\"),\n",
    "        context=state[\"context\"]\n",
    "    )\n",
    "    answer = llm.invoke([\n",
    "        HumanMessage(content=recursive_prompt)\n",
    "    ])\n",
    "    qa_pair = format_qa_pair(question, answer.content)\n",
    "    qa_pairs = state.get(\"qa_pairs\", \"\") + qa_pair\n",
    "\n",
    "    if state[\"current_question_idx\"] == len(state['all_questions']) - 1:\n",
    "        return {\"answer\": answer.content}\n",
    "    else:\n",
    "        return {\"qa_pairs\": qa_pairs, \"current_question_idx\": state[\"current_question_idx\"] + 1}\n",
    "\n",
    "\n",
    "def check_answer_status(state: State) -> Literal[\"Next sub-question\", \"Final answer\"]:\n",
    "    if state.get(\"answer\"):\n",
    "        return \"Final answer\"\n",
    "    else:\n",
    "        return \"Next sub-question\""
   ]
  },
  {
   "cell_type": "code",
   "execution_count": 22,
   "id": "f60d3431-881f-4c8e-b1e5-f1dbc827ff78",
   "metadata": {},
   "outputs": [
    {
     "data": {
      "image/png": "[encoded data removed]",
      "text/plain": [
       "<langgraph.graph.state.CompiledStateGraph object at 0x7f919c705210>"
      ]
     },
     "execution_count": 22,
     "metadata": {},
     "output_type": "execute_result"
    }
   ],
   "source": [
    "graph_builder = StateGraph(State)\n",
    "\n",
    "graph_builder.add_node(\"generate_sub_questions\", generate_sub_questions)\n",
    "graph_builder.add_node(\"retrieve_docs\", retrieve_docs)\n",
    "graph_builder.add_node(\"generate_answer\", generate_answer)\n",
    "\n",
    "graph_builder.add_edge(START, \"generate_sub_questions\")\n",
    "graph_builder.add_edge(\"generate_sub_questions\", \"retrieve_docs\")\n",
    "graph_builder.add_edge(\"retrieve_docs\", \"generate_answer\")\n",
    "graph_builder.add_conditional_edges(\n",
    "    \"generate_answer\", \n",
    "    check_answer_status, \n",
    "    {\n",
    "        \"Next sub-question\": \"retrieve_docs\",\n",
    "        \"Final answer\": END\n",
    "    }\n",
    ")\n",
    "\n",
    "graph = graph_builder.compile()\n",
    "graph"
   ]
  },
  {
   "cell_type": "code",
   "execution_count": 23,
   "id": "822a2d07-f777-45f6-ab99-15ea783f9319",
   "metadata": {},
   "outputs": [
    {
     "data": {
      "text/html": [
       "<pre style=\"white-space:pre;overflow-x:auto;line-height:normal;font-family:Menlo,'DejaVu Sans Mono',consolas,'Courier New',monospace\"><span style=\"font-weight: bold\">{</span>\n",
       "    <span style=\"color: #008000; text-decoration-color: #008000\">'generate_sub_questions'</span>: <span style=\"font-weight: bold\">{</span>\n",
       "        <span style=\"color: #008000; text-decoration-color: #008000\">'all_questions'</span>: <span style=\"font-weight: bold\">[</span>\n",
       "            <span style=\"color: #008000; text-decoration-color: #008000\">'What are the core functionalities of an LLM-powered autonomous agent?'</span>,\n",
       "            <span style=\"color: #008000; text-decoration-color: #008000\">'What types of data inputs do LLM-powered autonomous agents utilize?'</span>,\n",
       "            <span style=\"color: #008000; text-decoration-color: #008000\">'What roles do machine learning and natural language processing play in LLM-powered autonomous </span>\n",
       "<span style=\"color: #008000; text-decoration-color: #008000\">agents?'</span>,\n",
       "            <span style=\"color: #008000; text-decoration-color: #008000\">'What are the main components of an LLM-powered autonomous agent system?'</span>\n",
       "        <span style=\"font-weight: bold\">]</span>,\n",
       "        <span style=\"color: #008000; text-decoration-color: #008000\">'current_question_idx'</span>: <span style=\"color: #008080; text-decoration-color: #008080; font-weight: bold\">0</span>\n",
       "    <span style=\"font-weight: bold\">}</span>\n",
       "<span style=\"font-weight: bold\">}</span>\n",
       "</pre>\n"
      ],
      "text/plain": [
       "\u001b[1m{\u001b[0m\n",
       "    \u001b[32m'generate_sub_questions'\u001b[0m: \u001b[1m{\u001b[0m\n",
       "        \u001b[32m'all_questions'\u001b[0m: \u001b[1m[\u001b[0m\n",
       "            \u001b[32m'What are the core functionalities of an LLM-powered autonomous agent?'\u001b[0m,\n",
       "            \u001b[32m'What types of data inputs do LLM-powered autonomous agents utilize?'\u001b[0m,\n",
       "            \u001b[32m'What roles do machine learning and natural language processing play in LLM-powered autonomous \u001b[0m\n",
       "\u001b[32magents?'\u001b[0m,\n",
       "            \u001b[32m'What are the main components of an LLM-powered autonomous agent system?'\u001b[0m\n",
       "        \u001b[1m]\u001b[0m,\n",
       "        \u001b[32m'current_question_idx'\u001b[0m: \u001b[1;36m0\u001b[0m\n",
       "    \u001b[1m}\u001b[0m\n",
       "\u001b[1m}\u001b[0m\n"
      ]
     },
     "metadata": {},
     "output_type": "display_data"
    },
    {
     "data": {
      "text/html": [
       "<pre style=\"white-space:pre;overflow-x:auto;line-height:normal;font-family:Menlo,'DejaVu Sans Mono',consolas,'Courier New',monospace\"><span style=\"font-weight: bold\">{</span>\n",
       "    <span style=\"color: #008000; text-decoration-color: #008000\">'retrieve_docs'</span>: <span style=\"font-weight: bold\">{</span>\n",
       "        <span style=\"color: #008000; text-decoration-color: #008000\">'context'</span>: <span style=\"font-weight: bold\">[</span>\n",
       "            <span style=\"color: #800080; text-decoration-color: #800080; font-weight: bold\">Document</span><span style=\"font-weight: bold\">(</span>\n",
       "                <span style=\"color: #808000; text-decoration-color: #808000\">id</span>=<span style=\"color: #008000; text-decoration-color: #008000\">'e1348f72-0909-4172-810d-c8426af405b3'</span>,\n",
       "                <span style=\"color: #808000; text-decoration-color: #808000\">metadata</span>=<span style=\"font-weight: bold\">{</span><span style=\"color: #008000; text-decoration-color: #008000\">'source'</span>: <span style=\"color: #008000; text-decoration-color: #008000\">'https://lilianweng.github.io/posts/2023-06-23-agent/'</span><span style=\"font-weight: bold\">}</span>,\n",
       "                <span style=\"color: #808000; text-decoration-color: #808000\">page_content</span>=<span style=\"color: #008000; text-decoration-color: #008000\">'LLM Powered Autonomous Agents\\n    \\nDate: June 23, 2023  |  Estimated Reading Time: </span>\n",
       "<span style=\"color: #008000; text-decoration-color: #008000\">31 min  |  Author: Lilian Weng\\n\\n\\nBuilding agents with LLM (large language model) as its core controller is a </span>\n",
       "<span style=\"color: #008000; text-decoration-color: #008000\">cool concept. Several proof-of-concepts demos, such as AutoGPT, GPT-Engineer and BabyAGI, serve as inspiring </span>\n",
       "<span style=\"color: #008000; text-decoration-color: #008000\">examples. The potentiality of LLM extends beyond generating well-written copies, stories, essays and programs; it </span>\n",
       "<span style=\"color: #008000; text-decoration-color: #008000\">can be framed as a powerful general problem solver.\\nAgent System Overview#\\nIn a LLM-powered autonomous agent </span>\n",
       "<span style=\"color: #008000; text-decoration-color: #008000\">system, LLM functions as the agent’s brain, complemented by several key components:\\n\\nPlanning\\n\\nSubgoal and </span>\n",
       "<span style=\"color: #008000; text-decoration-color: #008000\">decomposition: The agent breaks down large tasks into smaller, manageable subgoals, enabling efficient handling of </span>\n",
       "<span style=\"color: #008000; text-decoration-color: #008000\">complex tasks.\\nReflection and refinement: The agent can do self-criticism and self-reflection over past actions, </span>\n",
       "<span style=\"color: #008000; text-decoration-color: #008000\">learn from mistakes and refine them for future steps, thereby improving the quality of final results.\\n\\n\\nMemory'</span>\n",
       "            <span style=\"font-weight: bold\">)</span>,\n",
       "            <span style=\"color: #800080; text-decoration-color: #800080; font-weight: bold\">Document</span><span style=\"font-weight: bold\">(</span>\n",
       "                <span style=\"color: #808000; text-decoration-color: #808000\">id</span>=<span style=\"color: #008000; text-decoration-color: #008000\">'8dc59e3e-032a-4b3d-bd9c-72f5b3da7115'</span>,\n",
       "                <span style=\"color: #808000; text-decoration-color: #808000\">metadata</span>=<span style=\"font-weight: bold\">{</span><span style=\"color: #008000; text-decoration-color: #008000\">'source'</span>: <span style=\"color: #008000; text-decoration-color: #008000\">'https://lilianweng.github.io/posts/2023-06-23-agent/'</span><span style=\"font-weight: bold\">}</span>,\n",
       "                <span style=\"color: #808000; text-decoration-color: #808000\">page_content</span>=<span style=\"color: #008000; text-decoration-color: #008000\">'Fig. 1. Overview of a LLM-powered autonomous agent system.\\nComponent One: </span>\n",
       "<span style=\"color: #008000; text-decoration-color: #008000\">Planning#\\nA complicated task usually involves many steps. An agent needs to know what they are and plan </span>\n",
       "<span style=\"color: #008000; text-decoration-color: #008000\">ahead.\\nTask Decomposition#\\nChain of thought (CoT; Wei et al. 2022) has become a standard prompting technique for </span>\n",
       "<span style=\"color: #008000; text-decoration-color: #008000\">enhancing model performance on complex tasks. The model is instructed to “think step by step” to utilize more </span>\n",
       "<span style=\"color: #008000; text-decoration-color: #008000\">test-time computation to decompose hard tasks into smaller and simpler steps. CoT transforms big tasks into </span>\n",
       "<span style=\"color: #008000; text-decoration-color: #008000\">multiple manageable tasks and shed lights into an interpretation of the model’s thinking process.'</span>\n",
       "            <span style=\"font-weight: bold\">)</span>,\n",
       "            <span style=\"color: #800080; text-decoration-color: #800080; font-weight: bold\">Document</span><span style=\"font-weight: bold\">(</span>\n",
       "                <span style=\"color: #808000; text-decoration-color: #808000\">id</span>=<span style=\"color: #008000; text-decoration-color: #008000\">'f6b06016-6811-438c-8247-30969b60fafe'</span>,\n",
       "                <span style=\"color: #808000; text-decoration-color: #808000\">metadata</span>=<span style=\"font-weight: bold\">{</span><span style=\"color: #008000; text-decoration-color: #008000\">'source'</span>: <span style=\"color: #008000; text-decoration-color: #008000\">'https://lilianweng.github.io/posts/2023-06-23-agent/'</span><span style=\"font-weight: bold\">}</span>,\n",
       "                <span style=\"color: #808000; text-decoration-color: #808000\">page_content</span>=<span style=\"color: #008000; text-decoration-color: #008000\">'Reliability of natural language interface: Current agent system relies on natural </span>\n",
       "<span style=\"color: #008000; text-decoration-color: #008000\">language as an interface between LLMs and external components such as memory and tools. However, the reliability of</span>\n",
       "<span style=\"color: #008000; text-decoration-color: #008000\">model outputs is questionable, as LLMs may make formatting errors and occasionally exhibit rebellious behavior </span>\n",
       "<span style=\"color: #008000; text-decoration-color: #008000\">(e.g. refuse to follow an instruction). Consequently, much of the agent demo code focuses on parsing model </span>\n",
       "<span style=\"color: #008000; text-decoration-color: #008000\">output.\\n\\n\\nCitation#\\nCited as:\\n\\nWeng, Lilian. (Jun 2023). “LLM-powered Autonomous Agents”. Lil’Log. </span>\n",
       "<span style=\"color: #008000; text-decoration-color: #008000\">https://lilianweng.github.io/posts/2023-06-23-agent/.'</span>\n",
       "            <span style=\"font-weight: bold\">)</span>,\n",
       "            <span style=\"color: #800080; text-decoration-color: #800080; font-weight: bold\">Document</span><span style=\"font-weight: bold\">(</span>\n",
       "                <span style=\"color: #808000; text-decoration-color: #808000\">id</span>=<span style=\"color: #008000; text-decoration-color: #008000\">'1a067f40-2114-4e46-9a49-a893bccf6d9f'</span>,\n",
       "                <span style=\"color: #808000; text-decoration-color: #808000\">metadata</span>=<span style=\"font-weight: bold\">{</span><span style=\"color: #008000; text-decoration-color: #008000\">'source'</span>: <span style=\"color: #008000; text-decoration-color: #008000\">'https://lilianweng.github.io/posts/2023-06-23-agent/'</span><span style=\"font-weight: bold\">}</span>,\n",
       "                <span style=\"color: #808000; text-decoration-color: #808000\">page_content</span>=<span style=\"color: #008000; text-decoration-color: #008000\">'}\\n]\\nChallenges#\\nAfter going through key ideas and demos of building LLM-centered </span>\n",
       "<span style=\"color: #008000; text-decoration-color: #008000\">agents, I start to see a couple common limitations:'</span>\n",
       "            <span style=\"font-weight: bold\">)</span>\n",
       "        <span style=\"font-weight: bold\">]</span>\n",
       "    <span style=\"font-weight: bold\">}</span>\n",
       "<span style=\"font-weight: bold\">}</span>\n",
       "</pre>\n"
      ],
      "text/plain": [
       "\u001b[1m{\u001b[0m\n",
       "    \u001b[32m'retrieve_docs'\u001b[0m: \u001b[1m{\u001b[0m\n",
       "        \u001b[32m'context'\u001b[0m: \u001b[1m[\u001b[0m\n",
       "            \u001b[1;35mDocument\u001b[0m\u001b[1m(\u001b[0m\n",
       "                \u001b[33mid\u001b[0m=\u001b[32m'e1348f72-0909-4172-810d-c8426af405b3'\u001b[0m,\n",
       "                \u001b[33mmetadata\u001b[0m=\u001b[1m{\u001b[0m\u001b[32m'source'\u001b[0m: \u001b[32m'https://lilianweng.github.io/posts/2023-06-23-agent/'\u001b[0m\u001b[1m}\u001b[0m,\n",
       "                \u001b[33mpage_content\u001b[0m=\u001b[32m'LLM Powered Autonomous Agents\\n    \\nDate: June 23, 2023  |  Estimated Reading Time: \u001b[0m\n",
       "\u001b[32m31 min  |  Author: Lilian Weng\\n\\n\\nBuilding agents with LLM \u001b[0m\u001b[32m(\u001b[0m\u001b[32mlarge language model\u001b[0m\u001b[32m)\u001b[0m\u001b[32m as its core controller is a \u001b[0m\n",
       "\u001b[32mcool concept. Several proof-of-concepts demos, such as AutoGPT, GPT-Engineer and BabyAGI, serve as inspiring \u001b[0m\n",
       "\u001b[32mexamples. The potentiality of LLM extends beyond generating well-written copies, stories, essays and programs; it \u001b[0m\n",
       "\u001b[32mcan be framed as a powerful general problem solver.\\nAgent System Overview#\\nIn a LLM-powered autonomous agent \u001b[0m\n",
       "\u001b[32msystem, LLM functions as the agent’s brain, complemented by several key components:\\n\\nPlanning\\n\\nSubgoal and \u001b[0m\n",
       "\u001b[32mdecomposition: The agent breaks down large tasks into smaller, manageable subgoals, enabling efficient handling of \u001b[0m\n",
       "\u001b[32mcomplex tasks.\\nReflection and refinement: The agent can do self-criticism and self-reflection over past actions, \u001b[0m\n",
       "\u001b[32mlearn from mistakes and refine them for future steps, thereby improving the quality of final results.\\n\\n\\nMemory'\u001b[0m\n",
       "            \u001b[1m)\u001b[0m,\n",
       "            \u001b[1;35mDocument\u001b[0m\u001b[1m(\u001b[0m\n",
       "                \u001b[33mid\u001b[0m=\u001b[32m'8dc59e3e-032a-4b3d-bd9c-72f5b3da7115'\u001b[0m,\n",
       "                \u001b[33mmetadata\u001b[0m=\u001b[1m{\u001b[0m\u001b[32m'source'\u001b[0m: \u001b[32m'https://lilianweng.github.io/posts/2023-06-23-agent/'\u001b[0m\u001b[1m}\u001b[0m,\n",
       "                \u001b[33mpage_content\u001b[0m=\u001b[32m'Fig. 1. Overview of a LLM-powered autonomous agent system.\\nComponent One: \u001b[0m\n",
       "\u001b[32mPlanning#\\nA complicated task usually involves many steps. An agent needs to know what they are and plan \u001b[0m\n",
       "\u001b[32mahead.\\nTask Decomposition#\\nChain of thought \u001b[0m\u001b[32m(\u001b[0m\u001b[32mCoT; Wei et al. 2022\u001b[0m\u001b[32m)\u001b[0m\u001b[32m has become a standard prompting technique for \u001b[0m\n",
       "\u001b[32menhancing model performance on complex tasks. The model is instructed to “think step by step” to utilize more \u001b[0m\n",
       "\u001b[32mtest-time computation to decompose hard tasks into smaller and simpler steps. CoT transforms big tasks into \u001b[0m\n",
       "\u001b[32mmultiple manageable tasks and shed lights into an interpretation of the model’s thinking process.'\u001b[0m\n",
       "            \u001b[1m)\u001b[0m,\n",
       "            \u001b[1;35mDocument\u001b[0m\u001b[1m(\u001b[0m\n",
       "                \u001b[33mid\u001b[0m=\u001b[32m'f6b06016-6811-438c-8247-30969b60fafe'\u001b[0m,\n",
       "                \u001b[33mmetadata\u001b[0m=\u001b[1m{\u001b[0m\u001b[32m'source'\u001b[0m: \u001b[32m'https://lilianweng.github.io/posts/2023-06-23-agent/'\u001b[0m\u001b[1m}\u001b[0m,\n",
       "                \u001b[33mpage_content\u001b[0m=\u001b[32m'Reliability of natural language interface: Current agent system relies on natural \u001b[0m\n",
       "\u001b[32mlanguage as an interface between LLMs and external components such as memory and tools. However, the reliability of\u001b[0m\n",
       "\u001b[32mmodel outputs is questionable, as LLMs may make formatting errors and occasionally exhibit rebellious behavior \u001b[0m\n",
       "\u001b[32m(\u001b[0m\u001b[32me.g. refuse to follow an instruction\u001b[0m\u001b[32m)\u001b[0m\u001b[32m. Consequently, much of the agent demo code focuses on parsing model \u001b[0m\n",
       "\u001b[32moutput.\\n\\n\\nCitation#\\nCited as:\\n\\nWeng, Lilian. \u001b[0m\u001b[32m(\u001b[0m\u001b[32mJun 2023\u001b[0m\u001b[32m)\u001b[0m\u001b[32m. “LLM-powered Autonomous Agents”. Lil’Log. \u001b[0m\n",
       "\u001b[32mhttps://lilianweng.github.io/posts/2023-06-23-agent/.'\u001b[0m\n",
       "            \u001b[1m)\u001b[0m,\n",
       "            \u001b[1;35mDocument\u001b[0m\u001b[1m(\u001b[0m\n",
       "                \u001b[33mid\u001b[0m=\u001b[32m'1a067f40-2114-4e46-9a49-a893bccf6d9f'\u001b[0m,\n",
       "                \u001b[33mmetadata\u001b[0m=\u001b[1m{\u001b[0m\u001b[32m'source'\u001b[0m: \u001b[32m'https://lilianweng.github.io/posts/2023-06-23-agent/'\u001b[0m\u001b[1m}\u001b[0m,\n",
       "                \u001b[33mpage_content\u001b[0m=\u001b[32m'\u001b[0m\u001b[32m}\u001b[0m\u001b[32m\\n\u001b[0m\u001b[32m]\u001b[0m\u001b[32m\\nChallenges#\\nAfter going through key ideas and demos of building LLM-centered \u001b[0m\n",
       "\u001b[32magents, I start to see a couple common limitations:'\u001b[0m\n",
       "            \u001b[1m)\u001b[0m\n",
       "        \u001b[1m]\u001b[0m\n",
       "    \u001b[1m}\u001b[0m\n",
       "\u001b[1m}\u001b[0m\n"
      ]
     },
     "metadata": {},
     "output_type": "display_data"
    },
    {
     "name": "stdout",
     "output_type": "stream",
     "text": [
      "The core functionalities of an LLM-powered autonomous agent include:\n",
      "\n",
      "1. **Planning**: The agent can break down complex tasks into smaller, manageable subgoals. This involves task decomposition, where the agent utilizes techniques like chain of thought (CoT) to think step-by-step and transform large tasks into simpler ones.\n",
      "\n",
      "2. **Reflection and Refinement**: The agent has the ability to engage in self-criticism and self-reflection regarding its past actions. This functionality allows the agent to learn from mistakes and refine its approaches for better outcomes in future tasks.\n",
      "\n",
      "3. **Use of Memory**: While not detailed in the provided context, memory plays a crucial role in allowing the agent to retain and utilize information from previous interactions or tasks, which aids in improving performance and decision-making.\n",
      "\n",
      "4. **Natural Language Interface**: The agent relies on natural language as the primary interface for interacting with external components, including tools and memory systems. This makes the interaction more accessible, though it also introduces challenges regarding reliability and output parsing.\n",
      "\n",
      "These functionalities enable LLM-powered autonomous agents to effectively solve complex problems and manage tasks efficiently."
     ]
    },
    {
     "data": {
      "text/html": [
       "<pre style=\"white-space:pre;overflow-x:auto;line-height:normal;font-family:Menlo,'DejaVu Sans Mono',consolas,'Courier New',monospace\"><span style=\"font-weight: bold\">{</span>\n",
       "    <span style=\"color: #008000; text-decoration-color: #008000\">'generate_answer'</span>: <span style=\"font-weight: bold\">{</span>\n",
       "        <span style=\"color: #008000; text-decoration-color: #008000\">'qa_pairs'</span>: <span style=\"color: #008000; text-decoration-color: #008000\">'Question: What are the core functionalities of an LLM-powered autonomous agent?  </span>\n",
       "<span style=\"color: #008000; text-decoration-color: #008000\">\\nAnswer:\\nThe core functionalities of an LLM-powered autonomous agent include:\\n\\n1. **Planning**: The agent can </span>\n",
       "<span style=\"color: #008000; text-decoration-color: #008000\">break down complex tasks into smaller, manageable subgoals. This involves task decomposition, where the agent </span>\n",
       "<span style=\"color: #008000; text-decoration-color: #008000\">utilizes techniques like chain of thought (CoT) to think step-by-step and transform large tasks into simpler </span>\n",
       "<span style=\"color: #008000; text-decoration-color: #008000\">ones.\\n\\n2. **Reflection and Refinement**: The agent has the ability to engage in self-criticism and </span>\n",
       "<span style=\"color: #008000; text-decoration-color: #008000\">self-reflection regarding its past actions. This functionality allows the agent to learn from mistakes and refine </span>\n",
       "<span style=\"color: #008000; text-decoration-color: #008000\">its approaches for better outcomes in future tasks.\\n\\n3. **Use of Memory**: While not detailed in the provided </span>\n",
       "<span style=\"color: #008000; text-decoration-color: #008000\">context, memory plays a crucial role in allowing the agent to retain and utilize information from previous </span>\n",
       "<span style=\"color: #008000; text-decoration-color: #008000\">interactions or tasks, which aids in improving performance and decision-making.\\n\\n4. **Natural Language </span>\n",
       "<span style=\"color: #008000; text-decoration-color: #008000\">Interface**: The agent relies on natural language as the primary interface for interacting with external </span>\n",
       "<span style=\"color: #008000; text-decoration-color: #008000\">components, including tools and memory systems. This makes the interaction more accessible, though it also </span>\n",
       "<span style=\"color: #008000; text-decoration-color: #008000\">introduces challenges regarding reliability and output parsing.\\n\\nThese functionalities enable LLM-powered </span>\n",
       "<span style=\"color: #008000; text-decoration-color: #008000\">autonomous agents to effectively solve complex problems and manage tasks efficiently.\\n\\n'</span>,\n",
       "        <span style=\"color: #008000; text-decoration-color: #008000\">'current_question_idx'</span>: <span style=\"color: #008080; text-decoration-color: #008080; font-weight: bold\">1</span>\n",
       "    <span style=\"font-weight: bold\">}</span>\n",
       "<span style=\"font-weight: bold\">}</span>\n",
       "</pre>\n"
      ],
      "text/plain": [
       "\u001b[1m{\u001b[0m\n",
       "    \u001b[32m'generate_answer'\u001b[0m: \u001b[1m{\u001b[0m\n",
       "        \u001b[32m'qa_pairs'\u001b[0m: \u001b[32m'Question: What are the core functionalities of an LLM-powered autonomous agent?  \u001b[0m\n",
       "\u001b[32m\\nAnswer:\\nThe core functionalities of an LLM-powered autonomous agent include:\\n\\n1. **Planning**: The agent can \u001b[0m\n",
       "\u001b[32mbreak down complex tasks into smaller, manageable subgoals. This involves task decomposition, where the agent \u001b[0m\n",
       "\u001b[32mutilizes techniques like chain of thought \u001b[0m\u001b[32m(\u001b[0m\u001b[32mCoT\u001b[0m\u001b[32m)\u001b[0m\u001b[32m to think step-by-step and transform large tasks into simpler \u001b[0m\n",
       "\u001b[32mones.\\n\\n2. **Reflection and Refinement**: The agent has the ability to engage in self-criticism and \u001b[0m\n",
       "\u001b[32mself-reflection regarding its past actions. This functionality allows the agent to learn from mistakes and refine \u001b[0m\n",
       "\u001b[32mits approaches for better outcomes in future tasks.\\n\\n3. **Use of Memory**: While not detailed in the provided \u001b[0m\n",
       "\u001b[32mcontext, memory plays a crucial role in allowing the agent to retain and utilize information from previous \u001b[0m\n",
       "\u001b[32minteractions or tasks, which aids in improving performance and decision-making.\\n\\n4. **Natural Language \u001b[0m\n",
       "\u001b[32mInterface**: The agent relies on natural language as the primary interface for interacting with external \u001b[0m\n",
       "\u001b[32mcomponents, including tools and memory systems. This makes the interaction more accessible, though it also \u001b[0m\n",
       "\u001b[32mintroduces challenges regarding reliability and output parsing.\\n\\nThese functionalities enable LLM-powered \u001b[0m\n",
       "\u001b[32mautonomous agents to effectively solve complex problems and manage tasks efficiently.\\n\\n'\u001b[0m,\n",
       "        \u001b[32m'current_question_idx'\u001b[0m: \u001b[1;36m1\u001b[0m\n",
       "    \u001b[1m}\u001b[0m\n",
       "\u001b[1m}\u001b[0m\n"
      ]
     },
     "metadata": {},
     "output_type": "display_data"
    },
    {
     "data": {
      "text/html": [
       "<pre style=\"white-space:pre;overflow-x:auto;line-height:normal;font-family:Menlo,'DejaVu Sans Mono',consolas,'Courier New',monospace\"><span style=\"font-weight: bold\">{</span>\n",
       "    <span style=\"color: #008000; text-decoration-color: #008000\">'retrieve_docs'</span>: <span style=\"font-weight: bold\">{</span>\n",
       "        <span style=\"color: #008000; text-decoration-color: #008000\">'context'</span>: <span style=\"font-weight: bold\">[</span>\n",
       "            <span style=\"color: #800080; text-decoration-color: #800080; font-weight: bold\">Document</span><span style=\"font-weight: bold\">(</span>\n",
       "                <span style=\"color: #808000; text-decoration-color: #808000\">id</span>=<span style=\"color: #008000; text-decoration-color: #008000\">'e1348f72-0909-4172-810d-c8426af405b3'</span>,\n",
       "                <span style=\"color: #808000; text-decoration-color: #808000\">metadata</span>=<span style=\"font-weight: bold\">{</span><span style=\"color: #008000; text-decoration-color: #008000\">'source'</span>: <span style=\"color: #008000; text-decoration-color: #008000\">'https://lilianweng.github.io/posts/2023-06-23-agent/'</span><span style=\"font-weight: bold\">}</span>,\n",
       "                <span style=\"color: #808000; text-decoration-color: #808000\">page_content</span>=<span style=\"color: #008000; text-decoration-color: #008000\">'LLM Powered Autonomous Agents\\n    \\nDate: June 23, 2023  |  Estimated Reading Time: </span>\n",
       "<span style=\"color: #008000; text-decoration-color: #008000\">31 min  |  Author: Lilian Weng\\n\\n\\nBuilding agents with LLM (large language model) as its core controller is a </span>\n",
       "<span style=\"color: #008000; text-decoration-color: #008000\">cool concept. Several proof-of-concepts demos, such as AutoGPT, GPT-Engineer and BabyAGI, serve as inspiring </span>\n",
       "<span style=\"color: #008000; text-decoration-color: #008000\">examples. The potentiality of LLM extends beyond generating well-written copies, stories, essays and programs; it </span>\n",
       "<span style=\"color: #008000; text-decoration-color: #008000\">can be framed as a powerful general problem solver.\\nAgent System Overview#\\nIn a LLM-powered autonomous agent </span>\n",
       "<span style=\"color: #008000; text-decoration-color: #008000\">system, LLM functions as the agent’s brain, complemented by several key components:\\n\\nPlanning\\n\\nSubgoal and </span>\n",
       "<span style=\"color: #008000; text-decoration-color: #008000\">decomposition: The agent breaks down large tasks into smaller, manageable subgoals, enabling efficient handling of </span>\n",
       "<span style=\"color: #008000; text-decoration-color: #008000\">complex tasks.\\nReflection and refinement: The agent can do self-criticism and self-reflection over past actions, </span>\n",
       "<span style=\"color: #008000; text-decoration-color: #008000\">learn from mistakes and refine them for future steps, thereby improving the quality of final results.\\n\\n\\nMemory'</span>\n",
       "            <span style=\"font-weight: bold\">)</span>,\n",
       "            <span style=\"color: #800080; text-decoration-color: #800080; font-weight: bold\">Document</span><span style=\"font-weight: bold\">(</span>\n",
       "                <span style=\"color: #808000; text-decoration-color: #808000\">id</span>=<span style=\"color: #008000; text-decoration-color: #008000\">'f6b06016-6811-438c-8247-30969b60fafe'</span>,\n",
       "                <span style=\"color: #808000; text-decoration-color: #808000\">metadata</span>=<span style=\"font-weight: bold\">{</span><span style=\"color: #008000; text-decoration-color: #008000\">'source'</span>: <span style=\"color: #008000; text-decoration-color: #008000\">'https://lilianweng.github.io/posts/2023-06-23-agent/'</span><span style=\"font-weight: bold\">}</span>,\n",
       "                <span style=\"color: #808000; text-decoration-color: #808000\">page_content</span>=<span style=\"color: #008000; text-decoration-color: #008000\">'Reliability of natural language interface: Current agent system relies on natural </span>\n",
       "<span style=\"color: #008000; text-decoration-color: #008000\">language as an interface between LLMs and external components such as memory and tools. However, the reliability of</span>\n",
       "<span style=\"color: #008000; text-decoration-color: #008000\">model outputs is questionable, as LLMs may make formatting errors and occasionally exhibit rebellious behavior </span>\n",
       "<span style=\"color: #008000; text-decoration-color: #008000\">(e.g. refuse to follow an instruction). Consequently, much of the agent demo code focuses on parsing model </span>\n",
       "<span style=\"color: #008000; text-decoration-color: #008000\">output.\\n\\n\\nCitation#\\nCited as:\\n\\nWeng, Lilian. (Jun 2023). “LLM-powered Autonomous Agents”. Lil’Log. </span>\n",
       "<span style=\"color: #008000; text-decoration-color: #008000\">https://lilianweng.github.io/posts/2023-06-23-agent/.'</span>\n",
       "            <span style=\"font-weight: bold\">)</span>,\n",
       "            <span style=\"color: #800080; text-decoration-color: #800080; font-weight: bold\">Document</span><span style=\"font-weight: bold\">(</span>\n",
       "                <span style=\"color: #808000; text-decoration-color: #808000\">id</span>=<span style=\"color: #008000; text-decoration-color: #008000\">'8dc59e3e-032a-4b3d-bd9c-72f5b3da7115'</span>,\n",
       "                <span style=\"color: #808000; text-decoration-color: #808000\">metadata</span>=<span style=\"font-weight: bold\">{</span><span style=\"color: #008000; text-decoration-color: #008000\">'source'</span>: <span style=\"color: #008000; text-decoration-color: #008000\">'https://lilianweng.github.io/posts/2023-06-23-agent/'</span><span style=\"font-weight: bold\">}</span>,\n",
       "                <span style=\"color: #808000; text-decoration-color: #808000\">page_content</span>=<span style=\"color: #008000; text-decoration-color: #008000\">'Fig. 1. Overview of a LLM-powered autonomous agent system.\\nComponent One: </span>\n",
       "<span style=\"color: #008000; text-decoration-color: #008000\">Planning#\\nA complicated task usually involves many steps. An agent needs to know what they are and plan </span>\n",
       "<span style=\"color: #008000; text-decoration-color: #008000\">ahead.\\nTask Decomposition#\\nChain of thought (CoT; Wei et al. 2022) has become a standard prompting technique for </span>\n",
       "<span style=\"color: #008000; text-decoration-color: #008000\">enhancing model performance on complex tasks. The model is instructed to “think step by step” to utilize more </span>\n",
       "<span style=\"color: #008000; text-decoration-color: #008000\">test-time computation to decompose hard tasks into smaller and simpler steps. CoT transforms big tasks into </span>\n",
       "<span style=\"color: #008000; text-decoration-color: #008000\">multiple manageable tasks and shed lights into an interpretation of the model’s thinking process.'</span>\n",
       "            <span style=\"font-weight: bold\">)</span>,\n",
       "            <span style=\"color: #800080; text-decoration-color: #800080; font-weight: bold\">Document</span><span style=\"font-weight: bold\">(</span>\n",
       "                <span style=\"color: #808000; text-decoration-color: #808000\">id</span>=<span style=\"color: #008000; text-decoration-color: #008000\">'f1753d3a-f19b-4be6-a487-d07baa23f0ce'</span>,\n",
       "                <span style=\"color: #808000; text-decoration-color: #808000\">metadata</span>=<span style=\"font-weight: bold\">{</span><span style=\"color: #008000; text-decoration-color: #008000\">'source'</span>: <span style=\"color: #008000; text-decoration-color: #008000\">'https://lilianweng.github.io/posts/2023-06-23-agent/'</span><span style=\"font-weight: bold\">}</span>,\n",
       "                <span style=\"color: #808000; text-decoration-color: #808000\">page_content</span>=<span style=\"color: #008000; text-decoration-color: #008000\">'Fig. 13. The generative agent architecture. (Image source: Park et al. 2023)\\nThis </span>\n",
       "<span style=\"color: #008000; text-decoration-color: #008000\">fun simulation results in emergent social behavior, such as information diffusion, relationship memory (e.g. two </span>\n",
       "<span style=\"color: #008000; text-decoration-color: #008000\">agents continuing the conversation topic) and coordination of social events (e.g. host a party and invite many </span>\n",
       "<span style=\"color: #008000; text-decoration-color: #008000\">others).\\nProof-of-Concept Examples#\\nAutoGPT has drawn a lot of attention into the possibility of setting up </span>\n",
       "<span style=\"color: #008000; text-decoration-color: #008000\">autonomous agents with LLM as the main controller. It has quite a lot of reliability issues given the natural </span>\n",
       "<span style=\"color: #008000; text-decoration-color: #008000\">language interface, but nevertheless a cool proof-of-concept demo. A lot of code in AutoGPT is about format </span>\n",
       "<span style=\"color: #008000; text-decoration-color: #008000\">parsing.\\nHere is the system message used by AutoGPT, where {{...}} are user inputs:\\nYou are {{ai-name}}, </span>\n",
       "<span style=\"color: #008000; text-decoration-color: #008000\">{{user-provided AI bot description}}.\\nYour decisions must always be made independently without seeking user </span>\n",
       "<span style=\"color: #008000; text-decoration-color: #008000\">assistance. Play to your strengths as an LLM and pursue simple strategies with no legal complications.\\n\\nGOALS:'</span>\n",
       "            <span style=\"font-weight: bold\">)</span>\n",
       "        <span style=\"font-weight: bold\">]</span>\n",
       "    <span style=\"font-weight: bold\">}</span>\n",
       "<span style=\"font-weight: bold\">}</span>\n",
       "</pre>\n"
      ],
      "text/plain": [
       "\u001b[1m{\u001b[0m\n",
       "    \u001b[32m'retrieve_docs'\u001b[0m: \u001b[1m{\u001b[0m\n",
       "        \u001b[32m'context'\u001b[0m: \u001b[1m[\u001b[0m\n",
       "            \u001b[1;35mDocument\u001b[0m\u001b[1m(\u001b[0m\n",
       "                \u001b[33mid\u001b[0m=\u001b[32m'e1348f72-0909-4172-810d-c8426af405b3'\u001b[0m,\n",
       "                \u001b[33mmetadata\u001b[0m=\u001b[1m{\u001b[0m\u001b[32m'source'\u001b[0m: \u001b[32m'https://lilianweng.github.io/posts/2023-06-23-agent/'\u001b[0m\u001b[1m}\u001b[0m,\n",
       "                \u001b[33mpage_content\u001b[0m=\u001b[32m'LLM Powered Autonomous Agents\\n    \\nDate: June 23, 2023  |  Estimated Reading Time: \u001b[0m\n",
       "\u001b[32m31 min  |  Author: Lilian Weng\\n\\n\\nBuilding agents with LLM \u001b[0m\u001b[32m(\u001b[0m\u001b[32mlarge language model\u001b[0m\u001b[32m)\u001b[0m\u001b[32m as its core controller is a \u001b[0m\n",
       "\u001b[32mcool concept. Several proof-of-concepts demos, such as AutoGPT, GPT-Engineer and BabyAGI, serve as inspiring \u001b[0m\n",
       "\u001b[32mexamples. The potentiality of LLM extends beyond generating well-written copies, stories, essays and programs; it \u001b[0m\n",
       "\u001b[32mcan be framed as a powerful general problem solver.\\nAgent System Overview#\\nIn a LLM-powered autonomous agent \u001b[0m\n",
       "\u001b[32msystem, LLM functions as the agent’s brain, complemented by several key components:\\n\\nPlanning\\n\\nSubgoal and \u001b[0m\n",
       "\u001b[32mdecomposition: The agent breaks down large tasks into smaller, manageable subgoals, enabling efficient handling of \u001b[0m\n",
       "\u001b[32mcomplex tasks.\\nReflection and refinement: The agent can do self-criticism and self-reflection over past actions, \u001b[0m\n",
       "\u001b[32mlearn from mistakes and refine them for future steps, thereby improving the quality of final results.\\n\\n\\nMemory'\u001b[0m\n",
       "            \u001b[1m)\u001b[0m,\n",
       "            \u001b[1;35mDocument\u001b[0m\u001b[1m(\u001b[0m\n",
       "                \u001b[33mid\u001b[0m=\u001b[32m'f6b06016-6811-438c-8247-30969b60fafe'\u001b[0m,\n",
       "                \u001b[33mmetadata\u001b[0m=\u001b[1m{\u001b[0m\u001b[32m'source'\u001b[0m: \u001b[32m'https://lilianweng.github.io/posts/2023-06-23-agent/'\u001b[0m\u001b[1m}\u001b[0m,\n",
       "                \u001b[33mpage_content\u001b[0m=\u001b[32m'Reliability of natural language interface: Current agent system relies on natural \u001b[0m\n",
       "\u001b[32mlanguage as an interface between LLMs and external components such as memory and tools. However, the reliability of\u001b[0m\n",
       "\u001b[32mmodel outputs is questionable, as LLMs may make formatting errors and occasionally exhibit rebellious behavior \u001b[0m\n",
       "\u001b[32m(\u001b[0m\u001b[32me.g. refuse to follow an instruction\u001b[0m\u001b[32m)\u001b[0m\u001b[32m. Consequently, much of the agent demo code focuses on parsing model \u001b[0m\n",
       "\u001b[32moutput.\\n\\n\\nCitation#\\nCited as:\\n\\nWeng, Lilian. \u001b[0m\u001b[32m(\u001b[0m\u001b[32mJun 2023\u001b[0m\u001b[32m)\u001b[0m\u001b[32m. “LLM-powered Autonomous Agents”. Lil’Log. \u001b[0m\n",
       "\u001b[32mhttps://lilianweng.github.io/posts/2023-06-23-agent/.'\u001b[0m\n",
       "            \u001b[1m)\u001b[0m,\n",
       "            \u001b[1;35mDocument\u001b[0m\u001b[1m(\u001b[0m\n",
       "                \u001b[33mid\u001b[0m=\u001b[32m'8dc59e3e-032a-4b3d-bd9c-72f5b3da7115'\u001b[0m,\n",
       "                \u001b[33mmetadata\u001b[0m=\u001b[1m{\u001b[0m\u001b[32m'source'\u001b[0m: \u001b[32m'https://lilianweng.github.io/posts/2023-06-23-agent/'\u001b[0m\u001b[1m}\u001b[0m,\n",
       "                \u001b[33mpage_content\u001b[0m=\u001b[32m'Fig. 1. Overview of a LLM-powered autonomous agent system.\\nComponent One: \u001b[0m\n",
       "\u001b[32mPlanning#\\nA complicated task usually involves many steps. An agent needs to know what they are and plan \u001b[0m\n",
       "\u001b[32mahead.\\nTask Decomposition#\\nChain of thought \u001b[0m\u001b[32m(\u001b[0m\u001b[32mCoT; Wei et al. 2022\u001b[0m\u001b[32m)\u001b[0m\u001b[32m has become a standard prompting technique for \u001b[0m\n",
       "\u001b[32menhancing model performance on complex tasks. The model is instructed to “think step by step” to utilize more \u001b[0m\n",
       "\u001b[32mtest-time computation to decompose hard tasks into smaller and simpler steps. CoT transforms big tasks into \u001b[0m\n",
       "\u001b[32mmultiple manageable tasks and shed lights into an interpretation of the model’s thinking process.'\u001b[0m\n",
       "            \u001b[1m)\u001b[0m,\n",
       "            \u001b[1;35mDocument\u001b[0m\u001b[1m(\u001b[0m\n",
       "                \u001b[33mid\u001b[0m=\u001b[32m'f1753d3a-f19b-4be6-a487-d07baa23f0ce'\u001b[0m,\n",
       "                \u001b[33mmetadata\u001b[0m=\u001b[1m{\u001b[0m\u001b[32m'source'\u001b[0m: \u001b[32m'https://lilianweng.github.io/posts/2023-06-23-agent/'\u001b[0m\u001b[1m}\u001b[0m,\n",
       "                \u001b[33mpage_content\u001b[0m=\u001b[32m'Fig. 13. The generative agent architecture. \u001b[0m\u001b[32m(\u001b[0m\u001b[32mImage source: Park et al. 2023\u001b[0m\u001b[32m)\u001b[0m\u001b[32m\\nThis \u001b[0m\n",
       "\u001b[32mfun simulation results in emergent social behavior, such as information diffusion, relationship memory \u001b[0m\u001b[32m(\u001b[0m\u001b[32me.g. two \u001b[0m\n",
       "\u001b[32magents continuing the conversation topic\u001b[0m\u001b[32m)\u001b[0m\u001b[32m and coordination of social events \u001b[0m\u001b[32m(\u001b[0m\u001b[32me.g. host a party and invite many \u001b[0m\n",
       "\u001b[32mothers\u001b[0m\u001b[32m)\u001b[0m\u001b[32m.\\nProof-of-Concept Examples#\\nAutoGPT has drawn a lot of attention into the possibility of setting up \u001b[0m\n",
       "\u001b[32mautonomous agents with LLM as the main controller. It has quite a lot of reliability issues given the natural \u001b[0m\n",
       "\u001b[32mlanguage interface, but nevertheless a cool proof-of-concept demo. A lot of code in AutoGPT is about format \u001b[0m\n",
       "\u001b[32mparsing.\\nHere is the system message used by AutoGPT, where \u001b[0m\u001b[32m{\u001b[0m\u001b[32m{\u001b[0m\u001b[32m...\u001b[0m\u001b[32m}\u001b[0m\u001b[32m}\u001b[0m\u001b[32m are user inputs:\\nYou are \u001b[0m\u001b[32m{\u001b[0m\u001b[32m{\u001b[0m\u001b[32mai-name\u001b[0m\u001b[32m}\u001b[0m\u001b[32m}\u001b[0m\u001b[32m, \u001b[0m\n",
       "\u001b[32m{\u001b[0m\u001b[32m{\u001b[0m\u001b[32muser-provided AI bot description\u001b[0m\u001b[32m}\u001b[0m\u001b[32m}\u001b[0m\u001b[32m.\\nYour decisions must always be made independently without seeking user \u001b[0m\n",
       "\u001b[32massistance. Play to your strengths as an LLM and pursue simple strategies with no legal complications.\\n\\nGOALS:'\u001b[0m\n",
       "            \u001b[1m)\u001b[0m\n",
       "        \u001b[1m]\u001b[0m\n",
       "    \u001b[1m}\u001b[0m\n",
       "\u001b[1m}\u001b[0m\n"
      ]
     },
     "metadata": {},
     "output_type": "display_data"
    },
    {
     "name": "stdout",
     "output_type": "stream",
     "text": [
      "LLM-powered autonomous agents utilize several types of data inputs, primarily centered around natural language. The key types of data inputs include:\n",
      "\n",
      "1. **User Queries and Instructions**: Agents take direct input from users in the form of natural language queries or commands. This allows users to specify tasks or provide context for the agent's actions.\n",
      "\n",
      "2. **Memory and Contextual Information**: Agents may leverage memory to retain data from previous interactions or tasks. This information helps improve decision-making and maintain context in ongoing conversations or tasks.\n",
      "\n",
      "3. **External Data and Tools**: Depending on the design, agents can integrate data from external systems or tools to enhance their functionality. This might include accessing APIs, databases, or sensors.\n",
      "\n",
      "4. **Formatted Outputs for Parsing**: The agents may also rely on structured outputs from external components, which are parsed to facilitate clear communication and action based on the model's understanding.\n",
      "\n",
      "Overall, the agents primarily rely on natural language inputs, but they can also incorporate a variety of structured and contextual data to enhance their capabilities."
     ]
    },
    {
     "data": {
      "text/html": [
       "<pre style=\"white-space:pre;overflow-x:auto;line-height:normal;font-family:Menlo,'DejaVu Sans Mono',consolas,'Courier New',monospace\"><span style=\"font-weight: bold\">{</span>\n",
       "    <span style=\"color: #008000; text-decoration-color: #008000\">'generate_answer'</span>: <span style=\"font-weight: bold\">{</span>\n",
       "        <span style=\"color: #008000; text-decoration-color: #008000\">'qa_pairs'</span>: <span style=\"color: #008000; text-decoration-color: #008000\">\"Question: What are the core functionalities of an LLM-powered autonomous agent?  </span>\n",
       "<span style=\"color: #008000; text-decoration-color: #008000\">\\nAnswer:\\nThe core functionalities of an LLM-powered autonomous agent include:\\n\\n1. **Planning**: The agent can </span>\n",
       "<span style=\"color: #008000; text-decoration-color: #008000\">break down complex tasks into smaller, manageable subgoals. This involves task decomposition, where the agent </span>\n",
       "<span style=\"color: #008000; text-decoration-color: #008000\">utilizes techniques like chain of thought (CoT) to think step-by-step and transform large tasks into simpler </span>\n",
       "<span style=\"color: #008000; text-decoration-color: #008000\">ones.\\n\\n2. **Reflection and Refinement**: The agent has the ability to engage in self-criticism and </span>\n",
       "<span style=\"color: #008000; text-decoration-color: #008000\">self-reflection regarding its past actions. This functionality allows the agent to learn from mistakes and refine </span>\n",
       "<span style=\"color: #008000; text-decoration-color: #008000\">its approaches for better outcomes in future tasks.\\n\\n3. **Use of Memory**: While not detailed in the provided </span>\n",
       "<span style=\"color: #008000; text-decoration-color: #008000\">context, memory plays a crucial role in allowing the agent to retain and utilize information from previous </span>\n",
       "<span style=\"color: #008000; text-decoration-color: #008000\">interactions or tasks, which aids in improving performance and decision-making.\\n\\n4. **Natural Language </span>\n",
       "<span style=\"color: #008000; text-decoration-color: #008000\">Interface**: The agent relies on natural language as the primary interface for interacting with external </span>\n",
       "<span style=\"color: #008000; text-decoration-color: #008000\">components, including tools and memory systems. This makes the interaction more accessible, though it also </span>\n",
       "<span style=\"color: #008000; text-decoration-color: #008000\">introduces challenges regarding reliability and output parsing.\\n\\nThese functionalities enable LLM-powered </span>\n",
       "<span style=\"color: #008000; text-decoration-color: #008000\">autonomous agents to effectively solve complex problems and manage tasks efficiently.\\n\\nQuestion: What types of </span>\n",
       "<span style=\"color: #008000; text-decoration-color: #008000\">data inputs do LLM-powered autonomous agents utilize?  \\nAnswer:\\nLLM-powered autonomous agents utilize several </span>\n",
       "<span style=\"color: #008000; text-decoration-color: #008000\">types of data inputs, primarily centered around natural language. The key types of data inputs include:\\n\\n1. </span>\n",
       "<span style=\"color: #008000; text-decoration-color: #008000\">**User Queries and Instructions**: Agents take direct input from users in the form of natural language queries or </span>\n",
       "<span style=\"color: #008000; text-decoration-color: #008000\">commands. This allows users to specify tasks or provide context for the agent's actions.\\n\\n2. **Memory and </span>\n",
       "<span style=\"color: #008000; text-decoration-color: #008000\">Contextual Information**: Agents may leverage memory to retain data from previous interactions or tasks. This </span>\n",
       "<span style=\"color: #008000; text-decoration-color: #008000\">information helps improve decision-making and maintain context in ongoing conversations or tasks.\\n\\n3. **External </span>\n",
       "<span style=\"color: #008000; text-decoration-color: #008000\">Data and Tools**: Depending on the design, agents can integrate data from external systems or tools to enhance </span>\n",
       "<span style=\"color: #008000; text-decoration-color: #008000\">their functionality. This might include accessing APIs, databases, or sensors.\\n\\n4. **Formatted Outputs for </span>\n",
       "<span style=\"color: #008000; text-decoration-color: #008000\">Parsing**: The agents may also rely on structured outputs from external components, which are parsed to facilitate </span>\n",
       "<span style=\"color: #008000; text-decoration-color: #008000\">clear communication and action based on the model's understanding.\\n\\nOverall, the agents primarily rely on natural</span>\n",
       "<span style=\"color: #008000; text-decoration-color: #008000\">language inputs, but they can also incorporate a variety of structured and contextual data to enhance their </span>\n",
       "<span style=\"color: #008000; text-decoration-color: #008000\">capabilities.\\n\\n\"</span>,\n",
       "        <span style=\"color: #008000; text-decoration-color: #008000\">'current_question_idx'</span>: <span style=\"color: #008080; text-decoration-color: #008080; font-weight: bold\">2</span>\n",
       "    <span style=\"font-weight: bold\">}</span>\n",
       "<span style=\"font-weight: bold\">}</span>\n",
       "</pre>\n"
      ],
      "text/plain": [
       "\u001b[1m{\u001b[0m\n",
       "    \u001b[32m'generate_answer'\u001b[0m: \u001b[1m{\u001b[0m\n",
       "        \u001b[32m'qa_pairs'\u001b[0m: \u001b[32m\"Question: What are the core functionalities of an LLM-powered autonomous agent?  \u001b[0m\n",
       "\u001b[32m\\nAnswer:\\nThe core functionalities of an LLM-powered autonomous agent include:\\n\\n1. **Planning**: The agent can \u001b[0m\n",
       "\u001b[32mbreak down complex tasks into smaller, manageable subgoals. This involves task decomposition, where the agent \u001b[0m\n",
       "\u001b[32mutilizes techniques like chain of thought \u001b[0m\u001b[32m(\u001b[0m\u001b[32mCoT\u001b[0m\u001b[32m)\u001b[0m\u001b[32m to think step-by-step and transform large tasks into simpler \u001b[0m\n",
       "\u001b[32mones.\\n\\n2. **Reflection and Refinement**: The agent has the ability to engage in self-criticism and \u001b[0m\n",
       "\u001b[32mself-reflection regarding its past actions. This functionality allows the agent to learn from mistakes and refine \u001b[0m\n",
       "\u001b[32mits approaches for better outcomes in future tasks.\\n\\n3. **Use of Memory**: While not detailed in the provided \u001b[0m\n",
       "\u001b[32mcontext, memory plays a crucial role in allowing the agent to retain and utilize information from previous \u001b[0m\n",
       "\u001b[32minteractions or tasks, which aids in improving performance and decision-making.\\n\\n4. **Natural Language \u001b[0m\n",
       "\u001b[32mInterface**: The agent relies on natural language as the primary interface for interacting with external \u001b[0m\n",
       "\u001b[32mcomponents, including tools and memory systems. This makes the interaction more accessible, though it also \u001b[0m\n",
       "\u001b[32mintroduces challenges regarding reliability and output parsing.\\n\\nThese functionalities enable LLM-powered \u001b[0m\n",
       "\u001b[32mautonomous agents to effectively solve complex problems and manage tasks efficiently.\\n\\nQuestion: What types of \u001b[0m\n",
       "\u001b[32mdata inputs do LLM-powered autonomous agents utilize?  \\nAnswer:\\nLLM-powered autonomous agents utilize several \u001b[0m\n",
       "\u001b[32mtypes of data inputs, primarily centered around natural language. The key types of data inputs include:\\n\\n1. \u001b[0m\n",
       "\u001b[32m**User Queries and Instructions**: Agents take direct input from users in the form of natural language queries or \u001b[0m\n",
       "\u001b[32mcommands. This allows users to specify tasks or provide context for the agent's actions.\\n\\n2. **Memory and \u001b[0m\n",
       "\u001b[32mContextual Information**: Agents may leverage memory to retain data from previous interactions or tasks. This \u001b[0m\n",
       "\u001b[32minformation helps improve decision-making and maintain context in ongoing conversations or tasks.\\n\\n3. **External \u001b[0m\n",
       "\u001b[32mData and Tools**: Depending on the design, agents can integrate data from external systems or tools to enhance \u001b[0m\n",
       "\u001b[32mtheir functionality. This might include accessing APIs, databases, or sensors.\\n\\n4. **Formatted Outputs for \u001b[0m\n",
       "\u001b[32mParsing**: The agents may also rely on structured outputs from external components, which are parsed to facilitate \u001b[0m\n",
       "\u001b[32mclear communication and action based on the model's understanding.\\n\\nOverall, the agents primarily rely on natural\u001b[0m\n",
       "\u001b[32mlanguage inputs, but they can also incorporate a variety of structured and contextual data to enhance their \u001b[0m\n",
       "\u001b[32mcapabilities.\\n\\n\"\u001b[0m,\n",
       "        \u001b[32m'current_question_idx'\u001b[0m: \u001b[1;36m2\u001b[0m\n",
       "    \u001b[1m}\u001b[0m\n",
       "\u001b[1m}\u001b[0m\n"
      ]
     },
     "metadata": {},
     "output_type": "display_data"
    },
    {
     "data": {
      "text/html": [
       "<pre style=\"white-space:pre;overflow-x:auto;line-height:normal;font-family:Menlo,'DejaVu Sans Mono',consolas,'Courier New',monospace\"><span style=\"font-weight: bold\">{</span>\n",
       "    <span style=\"color: #008000; text-decoration-color: #008000\">'retrieve_docs'</span>: <span style=\"font-weight: bold\">{</span>\n",
       "        <span style=\"color: #008000; text-decoration-color: #008000\">'context'</span>: <span style=\"font-weight: bold\">[</span>\n",
       "            <span style=\"color: #800080; text-decoration-color: #800080; font-weight: bold\">Document</span><span style=\"font-weight: bold\">(</span>\n",
       "                <span style=\"color: #808000; text-decoration-color: #808000\">id</span>=<span style=\"color: #008000; text-decoration-color: #008000\">'e1348f72-0909-4172-810d-c8426af405b3'</span>,\n",
       "                <span style=\"color: #808000; text-decoration-color: #808000\">metadata</span>=<span style=\"font-weight: bold\">{</span><span style=\"color: #008000; text-decoration-color: #008000\">'source'</span>: <span style=\"color: #008000; text-decoration-color: #008000\">'https://lilianweng.github.io/posts/2023-06-23-agent/'</span><span style=\"font-weight: bold\">}</span>,\n",
       "                <span style=\"color: #808000; text-decoration-color: #808000\">page_content</span>=<span style=\"color: #008000; text-decoration-color: #008000\">'LLM Powered Autonomous Agents\\n    \\nDate: June 23, 2023  |  Estimated Reading Time: </span>\n",
       "<span style=\"color: #008000; text-decoration-color: #008000\">31 min  |  Author: Lilian Weng\\n\\n\\nBuilding agents with LLM (large language model) as its core controller is a </span>\n",
       "<span style=\"color: #008000; text-decoration-color: #008000\">cool concept. Several proof-of-concepts demos, such as AutoGPT, GPT-Engineer and BabyAGI, serve as inspiring </span>\n",
       "<span style=\"color: #008000; text-decoration-color: #008000\">examples. The potentiality of LLM extends beyond generating well-written copies, stories, essays and programs; it </span>\n",
       "<span style=\"color: #008000; text-decoration-color: #008000\">can be framed as a powerful general problem solver.\\nAgent System Overview#\\nIn a LLM-powered autonomous agent </span>\n",
       "<span style=\"color: #008000; text-decoration-color: #008000\">system, LLM functions as the agent’s brain, complemented by several key components:\\n\\nPlanning\\n\\nSubgoal and </span>\n",
       "<span style=\"color: #008000; text-decoration-color: #008000\">decomposition: The agent breaks down large tasks into smaller, manageable subgoals, enabling efficient handling of </span>\n",
       "<span style=\"color: #008000; text-decoration-color: #008000\">complex tasks.\\nReflection and refinement: The agent can do self-criticism and self-reflection over past actions, </span>\n",
       "<span style=\"color: #008000; text-decoration-color: #008000\">learn from mistakes and refine them for future steps, thereby improving the quality of final results.\\n\\n\\nMemory'</span>\n",
       "            <span style=\"font-weight: bold\">)</span>,\n",
       "            <span style=\"color: #800080; text-decoration-color: #800080; font-weight: bold\">Document</span><span style=\"font-weight: bold\">(</span>\n",
       "                <span style=\"color: #808000; text-decoration-color: #808000\">id</span>=<span style=\"color: #008000; text-decoration-color: #008000\">'f6b06016-6811-438c-8247-30969b60fafe'</span>,\n",
       "                <span style=\"color: #808000; text-decoration-color: #808000\">metadata</span>=<span style=\"font-weight: bold\">{</span><span style=\"color: #008000; text-decoration-color: #008000\">'source'</span>: <span style=\"color: #008000; text-decoration-color: #008000\">'https://lilianweng.github.io/posts/2023-06-23-agent/'</span><span style=\"font-weight: bold\">}</span>,\n",
       "                <span style=\"color: #808000; text-decoration-color: #808000\">page_content</span>=<span style=\"color: #008000; text-decoration-color: #008000\">'Reliability of natural language interface: Current agent system relies on natural </span>\n",
       "<span style=\"color: #008000; text-decoration-color: #008000\">language as an interface between LLMs and external components such as memory and tools. However, the reliability of</span>\n",
       "<span style=\"color: #008000; text-decoration-color: #008000\">model outputs is questionable, as LLMs may make formatting errors and occasionally exhibit rebellious behavior </span>\n",
       "<span style=\"color: #008000; text-decoration-color: #008000\">(e.g. refuse to follow an instruction). Consequently, much of the agent demo code focuses on parsing model </span>\n",
       "<span style=\"color: #008000; text-decoration-color: #008000\">output.\\n\\n\\nCitation#\\nCited as:\\n\\nWeng, Lilian. (Jun 2023). “LLM-powered Autonomous Agents”. Lil’Log. </span>\n",
       "<span style=\"color: #008000; text-decoration-color: #008000\">https://lilianweng.github.io/posts/2023-06-23-agent/.'</span>\n",
       "            <span style=\"font-weight: bold\">)</span>,\n",
       "            <span style=\"color: #800080; text-decoration-color: #800080; font-weight: bold\">Document</span><span style=\"font-weight: bold\">(</span>\n",
       "                <span style=\"color: #808000; text-decoration-color: #808000\">id</span>=<span style=\"color: #008000; text-decoration-color: #008000\">'4970d8b4-3ff7-41b8-a3b0-a2e2a2c61615'</span>,\n",
       "                <span style=\"color: #808000; text-decoration-color: #808000\">metadata</span>=<span style=\"font-weight: bold\">{</span><span style=\"color: #008000; text-decoration-color: #008000\">'source'</span>: <span style=\"color: #008000; text-decoration-color: #008000\">'https://lilianweng.github.io/posts/2023-06-23-agent/'</span><span style=\"font-weight: bold\">}</span>,\n",
       "                <span style=\"color: #808000; text-decoration-color: #808000\">page_content</span>=<span style=\"color: #008000; text-decoration-color: #008000\">'Or\\n@article{weng2023agent,\\n  title   = \"LLM-powered Autonomous Agents\",\\n  author  </span>\n",
       "<span style=\"color: #008000; text-decoration-color: #008000\">= \"Weng, Lilian\",\\n  journal = \"lilianweng.github.io\",\\n  year    = \"2023\",\\n  month   = \"Jun\",\\n  url     = </span>\n",
       "<span style=\"color: #008000; text-decoration-color: #008000\">\"https://lilianweng.github.io/posts/2023-06-23-agent/\"\\n}\\nReferences#\\n[1] Wei et al. “Chain of thought prompting </span>\n",
       "<span style=\"color: #008000; text-decoration-color: #008000\">elicits reasoning in large language models.” NeurIPS 2022\\n[2] Yao et al. “Tree of Thoughts: Dliberate Problem </span>\n",
       "<span style=\"color: #008000; text-decoration-color: #008000\">Solving with Large Language Models.” arXiv preprint arXiv:2305.10601 (2023).\\n[3] Liu et al. “Chain of Hindsight </span>\n",
       "<span style=\"color: #008000; text-decoration-color: #008000\">Aligns Language Models with Feedback\\n“ arXiv preprint arXiv:2302.02676 (2023).\\n[4] Liu et al. “LLM+P: Empowering </span>\n",
       "<span style=\"color: #008000; text-decoration-color: #008000\">Large Language Models with Optimal Planning Proficiency” arXiv preprint arXiv:2304.11477 (2023).\\n[5] Yao et al. </span>\n",
       "<span style=\"color: #008000; text-decoration-color: #008000\">“ReAct: Synergizing reasoning and acting in language models.” ICLR 2023.\\n[6] Google Blog. “Announcing ScaNN: </span>\n",
       "<span style=\"color: #008000; text-decoration-color: #008000\">Efficient Vector Similarity Search” July 28, 2020.\\n[7] </span>\n",
       "<span style=\"color: #008000; text-decoration-color: #008000\">https://chat.openai.com/share/46ff149e-a4c7-4dd7-a800-fc4a642ea389'</span>\n",
       "            <span style=\"font-weight: bold\">)</span>,\n",
       "            <span style=\"color: #800080; text-decoration-color: #800080; font-weight: bold\">Document</span><span style=\"font-weight: bold\">(</span>\n",
       "                <span style=\"color: #808000; text-decoration-color: #808000\">id</span>=<span style=\"color: #008000; text-decoration-color: #008000\">'8dc59e3e-032a-4b3d-bd9c-72f5b3da7115'</span>,\n",
       "                <span style=\"color: #808000; text-decoration-color: #808000\">metadata</span>=<span style=\"font-weight: bold\">{</span><span style=\"color: #008000; text-decoration-color: #008000\">'source'</span>: <span style=\"color: #008000; text-decoration-color: #008000\">'https://lilianweng.github.io/posts/2023-06-23-agent/'</span><span style=\"font-weight: bold\">}</span>,\n",
       "                <span style=\"color: #808000; text-decoration-color: #808000\">page_content</span>=<span style=\"color: #008000; text-decoration-color: #008000\">'Fig. 1. Overview of a LLM-powered autonomous agent system.\\nComponent One: </span>\n",
       "<span style=\"color: #008000; text-decoration-color: #008000\">Planning#\\nA complicated task usually involves many steps. An agent needs to know what they are and plan </span>\n",
       "<span style=\"color: #008000; text-decoration-color: #008000\">ahead.\\nTask Decomposition#\\nChain of thought (CoT; Wei et al. 2022) has become a standard prompting technique for </span>\n",
       "<span style=\"color: #008000; text-decoration-color: #008000\">enhancing model performance on complex tasks. The model is instructed to “think step by step” to utilize more </span>\n",
       "<span style=\"color: #008000; text-decoration-color: #008000\">test-time computation to decompose hard tasks into smaller and simpler steps. CoT transforms big tasks into </span>\n",
       "<span style=\"color: #008000; text-decoration-color: #008000\">multiple manageable tasks and shed lights into an interpretation of the model’s thinking process.'</span>\n",
       "            <span style=\"font-weight: bold\">)</span>\n",
       "        <span style=\"font-weight: bold\">]</span>\n",
       "    <span style=\"font-weight: bold\">}</span>\n",
       "<span style=\"font-weight: bold\">}</span>\n",
       "</pre>\n"
      ],
      "text/plain": [
       "\u001b[1m{\u001b[0m\n",
       "    \u001b[32m'retrieve_docs'\u001b[0m: \u001b[1m{\u001b[0m\n",
       "        \u001b[32m'context'\u001b[0m: \u001b[1m[\u001b[0m\n",
       "            \u001b[1;35mDocument\u001b[0m\u001b[1m(\u001b[0m\n",
       "                \u001b[33mid\u001b[0m=\u001b[32m'e1348f72-0909-4172-810d-c8426af405b3'\u001b[0m,\n",
       "                \u001b[33mmetadata\u001b[0m=\u001b[1m{\u001b[0m\u001b[32m'source'\u001b[0m: \u001b[32m'https://lilianweng.github.io/posts/2023-06-23-agent/'\u001b[0m\u001b[1m}\u001b[0m,\n",
       "                \u001b[33mpage_content\u001b[0m=\u001b[32m'LLM Powered Autonomous Agents\\n    \\nDate: June 23, 2023  |  Estimated Reading Time: \u001b[0m\n",
       "\u001b[32m31 min  |  Author: Lilian Weng\\n\\n\\nBuilding agents with LLM \u001b[0m\u001b[32m(\u001b[0m\u001b[32mlarge language model\u001b[0m\u001b[32m)\u001b[0m\u001b[32m as its core controller is a \u001b[0m\n",
       "\u001b[32mcool concept. Several proof-of-concepts demos, such as AutoGPT, GPT-Engineer and BabyAGI, serve as inspiring \u001b[0m\n",
       "\u001b[32mexamples. The potentiality of LLM extends beyond generating well-written copies, stories, essays and programs; it \u001b[0m\n",
       "\u001b[32mcan be framed as a powerful general problem solver.\\nAgent System Overview#\\nIn a LLM-powered autonomous agent \u001b[0m\n",
       "\u001b[32msystem, LLM functions as the agent’s brain, complemented by several key components:\\n\\nPlanning\\n\\nSubgoal and \u001b[0m\n",
       "\u001b[32mdecomposition: The agent breaks down large tasks into smaller, manageable subgoals, enabling efficient handling of \u001b[0m\n",
       "\u001b[32mcomplex tasks.\\nReflection and refinement: The agent can do self-criticism and self-reflection over past actions, \u001b[0m\n",
       "\u001b[32mlearn from mistakes and refine them for future steps, thereby improving the quality of final results.\\n\\n\\nMemory'\u001b[0m\n",
       "            \u001b[1m)\u001b[0m,\n",
       "            \u001b[1;35mDocument\u001b[0m\u001b[1m(\u001b[0m\n",
       "                \u001b[33mid\u001b[0m=\u001b[32m'f6b06016-6811-438c-8247-30969b60fafe'\u001b[0m,\n",
       "                \u001b[33mmetadata\u001b[0m=\u001b[1m{\u001b[0m\u001b[32m'source'\u001b[0m: \u001b[32m'https://lilianweng.github.io/posts/2023-06-23-agent/'\u001b[0m\u001b[1m}\u001b[0m,\n",
       "                \u001b[33mpage_content\u001b[0m=\u001b[32m'Reliability of natural language interface: Current agent system relies on natural \u001b[0m\n",
       "\u001b[32mlanguage as an interface between LLMs and external components such as memory and tools. However, the reliability of\u001b[0m\n",
       "\u001b[32mmodel outputs is questionable, as LLMs may make formatting errors and occasionally exhibit rebellious behavior \u001b[0m\n",
       "\u001b[32m(\u001b[0m\u001b[32me.g. refuse to follow an instruction\u001b[0m\u001b[32m)\u001b[0m\u001b[32m. Consequently, much of the agent demo code focuses on parsing model \u001b[0m\n",
       "\u001b[32moutput.\\n\\n\\nCitation#\\nCited as:\\n\\nWeng, Lilian. \u001b[0m\u001b[32m(\u001b[0m\u001b[32mJun 2023\u001b[0m\u001b[32m)\u001b[0m\u001b[32m. “LLM-powered Autonomous Agents”. Lil’Log. \u001b[0m\n",
       "\u001b[32mhttps://lilianweng.github.io/posts/2023-06-23-agent/.'\u001b[0m\n",
       "            \u001b[1m)\u001b[0m,\n",
       "            \u001b[1;35mDocument\u001b[0m\u001b[1m(\u001b[0m\n",
       "                \u001b[33mid\u001b[0m=\u001b[32m'4970d8b4-3ff7-41b8-a3b0-a2e2a2c61615'\u001b[0m,\n",
       "                \u001b[33mmetadata\u001b[0m=\u001b[1m{\u001b[0m\u001b[32m'source'\u001b[0m: \u001b[32m'https://lilianweng.github.io/posts/2023-06-23-agent/'\u001b[0m\u001b[1m}\u001b[0m,\n",
       "                \u001b[33mpage_content\u001b[0m=\u001b[32m'Or\\n@article\u001b[0m\u001b[32m{\u001b[0m\u001b[32mweng2023agent,\\n  title   = \"LLM-powered Autonomous Agents\",\\n  author  \u001b[0m\n",
       "\u001b[32m= \"Weng, Lilian\",\\n  journal = \"lilianweng.github.io\",\\n  year    = \"2023\",\\n  month   = \"Jun\",\\n  url     = \u001b[0m\n",
       "\u001b[32m\"https://lilianweng.github.io/posts/2023-06-23-agent/\"\\n\u001b[0m\u001b[32m}\u001b[0m\u001b[32m\\nReferences#\\n\u001b[0m\u001b[32m[\u001b[0m\u001b[32m1\u001b[0m\u001b[32m]\u001b[0m\u001b[32m Wei et al. “Chain of thought prompting \u001b[0m\n",
       "\u001b[32melicits reasoning in large language models.” NeurIPS 2022\\n\u001b[0m\u001b[32m[\u001b[0m\u001b[32m2\u001b[0m\u001b[32m]\u001b[0m\u001b[32m Yao et al. “Tree of Thoughts: Dliberate Problem \u001b[0m\n",
       "\u001b[32mSolving with Large Language Models.” arXiv preprint arXiv:2305.10601 \u001b[0m\u001b[32m(\u001b[0m\u001b[32m2023\u001b[0m\u001b[32m)\u001b[0m\u001b[32m.\\n\u001b[0m\u001b[32m[\u001b[0m\u001b[32m3\u001b[0m\u001b[32m]\u001b[0m\u001b[32m Liu et al. “Chain of Hindsight \u001b[0m\n",
       "\u001b[32mAligns Language Models with Feedback\\n“ arXiv preprint arXiv:2302.02676 \u001b[0m\u001b[32m(\u001b[0m\u001b[32m2023\u001b[0m\u001b[32m)\u001b[0m\u001b[32m.\\n\u001b[0m\u001b[32m[\u001b[0m\u001b[32m4\u001b[0m\u001b[32m]\u001b[0m\u001b[32m Liu et al. “LLM+P: Empowering \u001b[0m\n",
       "\u001b[32mLarge Language Models with Optimal Planning Proficiency” arXiv preprint arXiv:2304.11477 \u001b[0m\u001b[32m(\u001b[0m\u001b[32m2023\u001b[0m\u001b[32m)\u001b[0m\u001b[32m.\\n\u001b[0m\u001b[32m[\u001b[0m\u001b[32m5\u001b[0m\u001b[32m]\u001b[0m\u001b[32m Yao et al. \u001b[0m\n",
       "\u001b[32m“ReAct: Synergizing reasoning and acting in language models.” ICLR 2023.\\n\u001b[0m\u001b[32m[\u001b[0m\u001b[32m6\u001b[0m\u001b[32m]\u001b[0m\u001b[32m Google Blog. “Announcing ScaNN: \u001b[0m\n",
       "\u001b[32mEfficient Vector Similarity Search” July 28, 2020.\\n\u001b[0m\u001b[32m[\u001b[0m\u001b[32m7\u001b[0m\u001b[32m]\u001b[0m\u001b[32m \u001b[0m\n",
       "\u001b[32mhttps://chat.openai.com/share/46ff149e-a4c7-4dd7-a800-fc4a642ea389'\u001b[0m\n",
       "            \u001b[1m)\u001b[0m,\n",
       "            \u001b[1;35mDocument\u001b[0m\u001b[1m(\u001b[0m\n",
       "                \u001b[33mid\u001b[0m=\u001b[32m'8dc59e3e-032a-4b3d-bd9c-72f5b3da7115'\u001b[0m,\n",
       "                \u001b[33mmetadata\u001b[0m=\u001b[1m{\u001b[0m\u001b[32m'source'\u001b[0m: \u001b[32m'https://lilianweng.github.io/posts/2023-06-23-agent/'\u001b[0m\u001b[1m}\u001b[0m,\n",
       "                \u001b[33mpage_content\u001b[0m=\u001b[32m'Fig. 1. Overview of a LLM-powered autonomous agent system.\\nComponent One: \u001b[0m\n",
       "\u001b[32mPlanning#\\nA complicated task usually involves many steps. An agent needs to know what they are and plan \u001b[0m\n",
       "\u001b[32mahead.\\nTask Decomposition#\\nChain of thought \u001b[0m\u001b[32m(\u001b[0m\u001b[32mCoT; Wei et al. 2022\u001b[0m\u001b[32m)\u001b[0m\u001b[32m has become a standard prompting technique for \u001b[0m\n",
       "\u001b[32menhancing model performance on complex tasks. The model is instructed to “think step by step” to utilize more \u001b[0m\n",
       "\u001b[32mtest-time computation to decompose hard tasks into smaller and simpler steps. CoT transforms big tasks into \u001b[0m\n",
       "\u001b[32mmultiple manageable tasks and shed lights into an interpretation of the model’s thinking process.'\u001b[0m\n",
       "            \u001b[1m)\u001b[0m\n",
       "        \u001b[1m]\u001b[0m\n",
       "    \u001b[1m}\u001b[0m\n",
       "\u001b[1m}\u001b[0m\n"
      ]
     },
     "metadata": {},
     "output_type": "display_data"
    },
    {
     "name": "stdout",
     "output_type": "stream",
     "text": [
      "Machine learning (ML) and natural language processing (NLP) are fundamental components that underpin the functionality of LLM-powered autonomous agents. Here's how each contributes to their operation:\n",
      "\n",
      "1. **Machine Learning**:\n",
      "   - **General Problem Solving**: LLMs are trained using machine learning techniques on vast datasets, which allows them to learn patterns and generate coherent responses to a wide range of queries. They function as powerful problem solvers, capable of executing complex tasks by applying learned knowledge to new situations.\n",
      "   - **Planning and Task Decomposition**: Machine learning algorithms enhance the agent's ability to decompose large, complex tasks into smaller, more manageable subgoals. Techniques such as Chain of Thought (CoT) prompting help agents systematically tackle challenges by breaking them down methodically.\n",
      "   - **Self-Reflection and Improvement**: Through the internalization of feedback during the learning process, LLMs can engage in self-criticism and reflection, allowing them to learn from past actions and refine their approach for future tasks.\n",
      "\n",
      "2. **Natural Language Processing**:\n",
      "   - **Interaction Interface**: NLP enables LLM-powered agents to understand and generate human language, which serves as the primary interface for users to interact with the system. This capability allows users to input queries and receive responses in a natural language format, enhancing accessibility and user experience.\n",
      "   - **Data Interpretation and Management**: NLP techniques are utilized by the agent to parse and understand structured and unstructured inputs, such as user queries, context from memory, and external tool outputs. This ability helps maintain context across conversations and tasks, making interactions seamless and coherent.\n",
      "   - **Output Reliability**: Given that the interactions are largely based on natural language, ensuring output reliability is crucial. NLP addresses challenges such as potential formatting errors and misinterpretations, allowing the agents to produce more accurate and relevant responses.\n",
      "\n",
      "Overall, the integration of machine learning and natural language processing equips LLM-powered autonomous agents with the ability to plan, reflect, and effectively communicate, enabling them to perform complex tasks efficiently in a manner that is understandable to users."
     ]
    },
    {
     "data": {
      "text/html": [
       "<pre style=\"white-space:pre;overflow-x:auto;line-height:normal;font-family:Menlo,'DejaVu Sans Mono',consolas,'Courier New',monospace\"><span style=\"font-weight: bold\">{</span>\n",
       "    <span style=\"color: #008000; text-decoration-color: #008000\">'generate_answer'</span>: <span style=\"font-weight: bold\">{</span>\n",
       "        <span style=\"color: #008000; text-decoration-color: #008000\">'qa_pairs'</span>: <span style=\"color: #008000; text-decoration-color: #008000\">\"Question: What are the core functionalities of an LLM-powered autonomous agent?  </span>\n",
       "<span style=\"color: #008000; text-decoration-color: #008000\">\\nAnswer:\\nThe core functionalities of an LLM-powered autonomous agent include:\\n\\n1. **Planning**: The agent can </span>\n",
       "<span style=\"color: #008000; text-decoration-color: #008000\">break down complex tasks into smaller, manageable subgoals. This involves task decomposition, where the agent </span>\n",
       "<span style=\"color: #008000; text-decoration-color: #008000\">utilizes techniques like chain of thought (CoT) to think step-by-step and transform large tasks into simpler </span>\n",
       "<span style=\"color: #008000; text-decoration-color: #008000\">ones.\\n\\n2. **Reflection and Refinement**: The agent has the ability to engage in self-criticism and </span>\n",
       "<span style=\"color: #008000; text-decoration-color: #008000\">self-reflection regarding its past actions. This functionality allows the agent to learn from mistakes and refine </span>\n",
       "<span style=\"color: #008000; text-decoration-color: #008000\">its approaches for better outcomes in future tasks.\\n\\n3. **Use of Memory**: While not detailed in the provided </span>\n",
       "<span style=\"color: #008000; text-decoration-color: #008000\">context, memory plays a crucial role in allowing the agent to retain and utilize information from previous </span>\n",
       "<span style=\"color: #008000; text-decoration-color: #008000\">interactions or tasks, which aids in improving performance and decision-making.\\n\\n4. **Natural Language </span>\n",
       "<span style=\"color: #008000; text-decoration-color: #008000\">Interface**: The agent relies on natural language as the primary interface for interacting with external </span>\n",
       "<span style=\"color: #008000; text-decoration-color: #008000\">components, including tools and memory systems. This makes the interaction more accessible, though it also </span>\n",
       "<span style=\"color: #008000; text-decoration-color: #008000\">introduces challenges regarding reliability and output parsing.\\n\\nThese functionalities enable LLM-powered </span>\n",
       "<span style=\"color: #008000; text-decoration-color: #008000\">autonomous agents to effectively solve complex problems and manage tasks efficiently.\\n\\nQuestion: What types of </span>\n",
       "<span style=\"color: #008000; text-decoration-color: #008000\">data inputs do LLM-powered autonomous agents utilize?  \\nAnswer:\\nLLM-powered autonomous agents utilize several </span>\n",
       "<span style=\"color: #008000; text-decoration-color: #008000\">types of data inputs, primarily centered around natural language. The key types of data inputs include:\\n\\n1. </span>\n",
       "<span style=\"color: #008000; text-decoration-color: #008000\">**User Queries and Instructions**: Agents take direct input from users in the form of natural language queries or </span>\n",
       "<span style=\"color: #008000; text-decoration-color: #008000\">commands. This allows users to specify tasks or provide context for the agent's actions.\\n\\n2. **Memory and </span>\n",
       "<span style=\"color: #008000; text-decoration-color: #008000\">Contextual Information**: Agents may leverage memory to retain data from previous interactions or tasks. This </span>\n",
       "<span style=\"color: #008000; text-decoration-color: #008000\">information helps improve decision-making and maintain context in ongoing conversations or tasks.\\n\\n3. **External </span>\n",
       "<span style=\"color: #008000; text-decoration-color: #008000\">Data and Tools**: Depending on the design, agents can integrate data from external systems or tools to enhance </span>\n",
       "<span style=\"color: #008000; text-decoration-color: #008000\">their functionality. This might include accessing APIs, databases, or sensors.\\n\\n4. **Formatted Outputs for </span>\n",
       "<span style=\"color: #008000; text-decoration-color: #008000\">Parsing**: The agents may also rely on structured outputs from external components, which are parsed to facilitate </span>\n",
       "<span style=\"color: #008000; text-decoration-color: #008000\">clear communication and action based on the model's understanding.\\n\\nOverall, the agents primarily rely on natural</span>\n",
       "<span style=\"color: #008000; text-decoration-color: #008000\">language inputs, but they can also incorporate a variety of structured and contextual data to enhance their </span>\n",
       "<span style=\"color: #008000; text-decoration-color: #008000\">capabilities.\\n\\nQuestion: What roles do machine learning and natural language processing play in LLM-powered </span>\n",
       "<span style=\"color: #008000; text-decoration-color: #008000\">autonomous agents?  \\nAnswer:\\nMachine learning (ML) and natural language processing (NLP) are fundamental </span>\n",
       "<span style=\"color: #008000; text-decoration-color: #008000\">components that underpin the functionality of LLM-powered autonomous agents. Here's how each contributes to their </span>\n",
       "<span style=\"color: #008000; text-decoration-color: #008000\">operation:\\n\\n1. **Machine Learning**:\\n   - **General Problem Solving**: LLMs are trained using machine learning </span>\n",
       "<span style=\"color: #008000; text-decoration-color: #008000\">techniques on vast datasets, which allows them to learn patterns and generate coherent responses to a wide range of</span>\n",
       "<span style=\"color: #008000; text-decoration-color: #008000\">queries. They function as powerful problem solvers, capable of executing complex tasks by applying learned </span>\n",
       "<span style=\"color: #008000; text-decoration-color: #008000\">knowledge to new situations.\\n   - **Planning and Task Decomposition**: Machine learning algorithms enhance the </span>\n",
       "<span style=\"color: #008000; text-decoration-color: #008000\">agent's ability to decompose large, complex tasks into smaller, more manageable subgoals. Techniques such as Chain </span>\n",
       "<span style=\"color: #008000; text-decoration-color: #008000\">of Thought (CoT) prompting help agents systematically tackle challenges by breaking them down methodically.\\n   - </span>\n",
       "<span style=\"color: #008000; text-decoration-color: #008000\">**Self-Reflection and Improvement**: Through the internalization of feedback during the learning process, LLMs can </span>\n",
       "<span style=\"color: #008000; text-decoration-color: #008000\">engage in self-criticism and reflection, allowing them to learn from past actions and refine their approach for </span>\n",
       "<span style=\"color: #008000; text-decoration-color: #008000\">future tasks.\\n\\n2. **Natural Language Processing**:\\n   - **Interaction Interface**: NLP enables LLM-powered </span>\n",
       "<span style=\"color: #008000; text-decoration-color: #008000\">agents to understand and generate human language, which serves as the primary interface for users to interact with </span>\n",
       "<span style=\"color: #008000; text-decoration-color: #008000\">the system. This capability allows users to input queries and receive responses in a natural language format, </span>\n",
       "<span style=\"color: #008000; text-decoration-color: #008000\">enhancing accessibility and user experience.\\n   - **Data Interpretation and Management**: NLP techniques are </span>\n",
       "<span style=\"color: #008000; text-decoration-color: #008000\">utilized by the agent to parse and understand structured and unstructured inputs, such as user queries, context </span>\n",
       "<span style=\"color: #008000; text-decoration-color: #008000\">from memory, and external tool outputs. This ability helps maintain context across conversations and tasks, making </span>\n",
       "<span style=\"color: #008000; text-decoration-color: #008000\">interactions seamless and coherent.\\n   - **Output Reliability**: Given that the interactions are largely based on </span>\n",
       "<span style=\"color: #008000; text-decoration-color: #008000\">natural language, ensuring output reliability is crucial. NLP addresses challenges such as potential formatting </span>\n",
       "<span style=\"color: #008000; text-decoration-color: #008000\">errors and misinterpretations, allowing the agents to produce more accurate and relevant responses.\\n\\nOverall, the</span>\n",
       "<span style=\"color: #008000; text-decoration-color: #008000\">integration of machine learning and natural language processing equips LLM-powered autonomous agents with the </span>\n",
       "<span style=\"color: #008000; text-decoration-color: #008000\">ability to plan, reflect, and effectively communicate, enabling them to perform complex tasks efficiently in a </span>\n",
       "<span style=\"color: #008000; text-decoration-color: #008000\">manner that is understandable to users.\\n\\n\"</span>,\n",
       "        <span style=\"color: #008000; text-decoration-color: #008000\">'current_question_idx'</span>: <span style=\"color: #008080; text-decoration-color: #008080; font-weight: bold\">3</span>\n",
       "    <span style=\"font-weight: bold\">}</span>\n",
       "<span style=\"font-weight: bold\">}</span>\n",
       "</pre>\n"
      ],
      "text/plain": [
       "\u001b[1m{\u001b[0m\n",
       "    \u001b[32m'generate_answer'\u001b[0m: \u001b[1m{\u001b[0m\n",
       "        \u001b[32m'qa_pairs'\u001b[0m: \u001b[32m\"Question: What are the core functionalities of an LLM-powered autonomous agent?  \u001b[0m\n",
       "\u001b[32m\\nAnswer:\\nThe core functionalities of an LLM-powered autonomous agent include:\\n\\n1. **Planning**: The agent can \u001b[0m\n",
       "\u001b[32mbreak down complex tasks into smaller, manageable subgoals. This involves task decomposition, where the agent \u001b[0m\n",
       "\u001b[32mutilizes techniques like chain of thought \u001b[0m\u001b[32m(\u001b[0m\u001b[32mCoT\u001b[0m\u001b[32m)\u001b[0m\u001b[32m to think step-by-step and transform large tasks into simpler \u001b[0m\n",
       "\u001b[32mones.\\n\\n2. **Reflection and Refinement**: The agent has the ability to engage in self-criticism and \u001b[0m\n",
       "\u001b[32mself-reflection regarding its past actions. This functionality allows the agent to learn from mistakes and refine \u001b[0m\n",
       "\u001b[32mits approaches for better outcomes in future tasks.\\n\\n3. **Use of Memory**: While not detailed in the provided \u001b[0m\n",
       "\u001b[32mcontext, memory plays a crucial role in allowing the agent to retain and utilize information from previous \u001b[0m\n",
       "\u001b[32minteractions or tasks, which aids in improving performance and decision-making.\\n\\n4. **Natural Language \u001b[0m\n",
       "\u001b[32mInterface**: The agent relies on natural language as the primary interface for interacting with external \u001b[0m\n",
       "\u001b[32mcomponents, including tools and memory systems. This makes the interaction more accessible, though it also \u001b[0m\n",
       "\u001b[32mintroduces challenges regarding reliability and output parsing.\\n\\nThese functionalities enable LLM-powered \u001b[0m\n",
       "\u001b[32mautonomous agents to effectively solve complex problems and manage tasks efficiently.\\n\\nQuestion: What types of \u001b[0m\n",
       "\u001b[32mdata inputs do LLM-powered autonomous agents utilize?  \\nAnswer:\\nLLM-powered autonomous agents utilize several \u001b[0m\n",
       "\u001b[32mtypes of data inputs, primarily centered around natural language. The key types of data inputs include:\\n\\n1. \u001b[0m\n",
       "\u001b[32m**User Queries and Instructions**: Agents take direct input from users in the form of natural language queries or \u001b[0m\n",
       "\u001b[32mcommands. This allows users to specify tasks or provide context for the agent's actions.\\n\\n2. **Memory and \u001b[0m\n",
       "\u001b[32mContextual Information**: Agents may leverage memory to retain data from previous interactions or tasks. This \u001b[0m\n",
       "\u001b[32minformation helps improve decision-making and maintain context in ongoing conversations or tasks.\\n\\n3. **External \u001b[0m\n",
       "\u001b[32mData and Tools**: Depending on the design, agents can integrate data from external systems or tools to enhance \u001b[0m\n",
       "\u001b[32mtheir functionality. This might include accessing APIs, databases, or sensors.\\n\\n4. **Formatted Outputs for \u001b[0m\n",
       "\u001b[32mParsing**: The agents may also rely on structured outputs from external components, which are parsed to facilitate \u001b[0m\n",
       "\u001b[32mclear communication and action based on the model's understanding.\\n\\nOverall, the agents primarily rely on natural\u001b[0m\n",
       "\u001b[32mlanguage inputs, but they can also incorporate a variety of structured and contextual data to enhance their \u001b[0m\n",
       "\u001b[32mcapabilities.\\n\\nQuestion: What roles do machine learning and natural language processing play in LLM-powered \u001b[0m\n",
       "\u001b[32mautonomous agents?  \\nAnswer:\\nMachine learning \u001b[0m\u001b[32m(\u001b[0m\u001b[32mML\u001b[0m\u001b[32m)\u001b[0m\u001b[32m and natural language processing \u001b[0m\u001b[32m(\u001b[0m\u001b[32mNLP\u001b[0m\u001b[32m)\u001b[0m\u001b[32m are fundamental \u001b[0m\n",
       "\u001b[32mcomponents that underpin the functionality of LLM-powered autonomous agents. Here's how each contributes to their \u001b[0m\n",
       "\u001b[32moperation:\\n\\n1. **Machine Learning**:\\n   - **General Problem Solving**: LLMs are trained using machine learning \u001b[0m\n",
       "\u001b[32mtechniques on vast datasets, which allows them to learn patterns and generate coherent responses to a wide range of\u001b[0m\n",
       "\u001b[32mqueries. They function as powerful problem solvers, capable of executing complex tasks by applying learned \u001b[0m\n",
       "\u001b[32mknowledge to new situations.\\n   - **Planning and Task Decomposition**: Machine learning algorithms enhance the \u001b[0m\n",
       "\u001b[32magent's ability to decompose large, complex tasks into smaller, more manageable subgoals. Techniques such as Chain \u001b[0m\n",
       "\u001b[32mof Thought \u001b[0m\u001b[32m(\u001b[0m\u001b[32mCoT\u001b[0m\u001b[32m)\u001b[0m\u001b[32m prompting help agents systematically tackle challenges by breaking them down methodically.\\n   - \u001b[0m\n",
       "\u001b[32m**Self-Reflection and Improvement**: Through the internalization of feedback during the learning process, LLMs can \u001b[0m\n",
       "\u001b[32mengage in self-criticism and reflection, allowing them to learn from past actions and refine their approach for \u001b[0m\n",
       "\u001b[32mfuture tasks.\\n\\n2. **Natural Language Processing**:\\n   - **Interaction Interface**: NLP enables LLM-powered \u001b[0m\n",
       "\u001b[32magents to understand and generate human language, which serves as the primary interface for users to interact with \u001b[0m\n",
       "\u001b[32mthe system. This capability allows users to input queries and receive responses in a natural language format, \u001b[0m\n",
       "\u001b[32menhancing accessibility and user experience.\\n   - **Data Interpretation and Management**: NLP techniques are \u001b[0m\n",
       "\u001b[32mutilized by the agent to parse and understand structured and unstructured inputs, such as user queries, context \u001b[0m\n",
       "\u001b[32mfrom memory, and external tool outputs. This ability helps maintain context across conversations and tasks, making \u001b[0m\n",
       "\u001b[32minteractions seamless and coherent.\\n   - **Output Reliability**: Given that the interactions are largely based on \u001b[0m\n",
       "\u001b[32mnatural language, ensuring output reliability is crucial. NLP addresses challenges such as potential formatting \u001b[0m\n",
       "\u001b[32merrors and misinterpretations, allowing the agents to produce more accurate and relevant responses.\\n\\nOverall, the\u001b[0m\n",
       "\u001b[32mintegration of machine learning and natural language processing equips LLM-powered autonomous agents with the \u001b[0m\n",
       "\u001b[32mability to plan, reflect, and effectively communicate, enabling them to perform complex tasks efficiently in a \u001b[0m\n",
       "\u001b[32mmanner that is understandable to users.\\n\\n\"\u001b[0m,\n",
       "        \u001b[32m'current_question_idx'\u001b[0m: \u001b[1;36m3\u001b[0m\n",
       "    \u001b[1m}\u001b[0m\n",
       "\u001b[1m}\u001b[0m\n"
      ]
     },
     "metadata": {},
     "output_type": "display_data"
    },
    {
     "data": {
      "text/html": [
       "<pre style=\"white-space:pre;overflow-x:auto;line-height:normal;font-family:Menlo,'DejaVu Sans Mono',consolas,'Courier New',monospace\"><span style=\"font-weight: bold\">{</span>\n",
       "    <span style=\"color: #008000; text-decoration-color: #008000\">'retrieve_docs'</span>: <span style=\"font-weight: bold\">{</span>\n",
       "        <span style=\"color: #008000; text-decoration-color: #008000\">'context'</span>: <span style=\"font-weight: bold\">[</span>\n",
       "            <span style=\"color: #800080; text-decoration-color: #800080; font-weight: bold\">Document</span><span style=\"font-weight: bold\">(</span>\n",
       "                <span style=\"color: #808000; text-decoration-color: #808000\">id</span>=<span style=\"color: #008000; text-decoration-color: #008000\">'e1348f72-0909-4172-810d-c8426af405b3'</span>,\n",
       "                <span style=\"color: #808000; text-decoration-color: #808000\">metadata</span>=<span style=\"font-weight: bold\">{</span><span style=\"color: #008000; text-decoration-color: #008000\">'source'</span>: <span style=\"color: #008000; text-decoration-color: #008000\">'https://lilianweng.github.io/posts/2023-06-23-agent/'</span><span style=\"font-weight: bold\">}</span>,\n",
       "                <span style=\"color: #808000; text-decoration-color: #808000\">page_content</span>=<span style=\"color: #008000; text-decoration-color: #008000\">'LLM Powered Autonomous Agents\\n    \\nDate: June 23, 2023  |  Estimated Reading Time: </span>\n",
       "<span style=\"color: #008000; text-decoration-color: #008000\">31 min  |  Author: Lilian Weng\\n\\n\\nBuilding agents with LLM (large language model) as its core controller is a </span>\n",
       "<span style=\"color: #008000; text-decoration-color: #008000\">cool concept. Several proof-of-concepts demos, such as AutoGPT, GPT-Engineer and BabyAGI, serve as inspiring </span>\n",
       "<span style=\"color: #008000; text-decoration-color: #008000\">examples. The potentiality of LLM extends beyond generating well-written copies, stories, essays and programs; it </span>\n",
       "<span style=\"color: #008000; text-decoration-color: #008000\">can be framed as a powerful general problem solver.\\nAgent System Overview#\\nIn a LLM-powered autonomous agent </span>\n",
       "<span style=\"color: #008000; text-decoration-color: #008000\">system, LLM functions as the agent’s brain, complemented by several key components:\\n\\nPlanning\\n\\nSubgoal and </span>\n",
       "<span style=\"color: #008000; text-decoration-color: #008000\">decomposition: The agent breaks down large tasks into smaller, manageable subgoals, enabling efficient handling of </span>\n",
       "<span style=\"color: #008000; text-decoration-color: #008000\">complex tasks.\\nReflection and refinement: The agent can do self-criticism and self-reflection over past actions, </span>\n",
       "<span style=\"color: #008000; text-decoration-color: #008000\">learn from mistakes and refine them for future steps, thereby improving the quality of final results.\\n\\n\\nMemory'</span>\n",
       "            <span style=\"font-weight: bold\">)</span>,\n",
       "            <span style=\"color: #800080; text-decoration-color: #800080; font-weight: bold\">Document</span><span style=\"font-weight: bold\">(</span>\n",
       "                <span style=\"color: #808000; text-decoration-color: #808000\">id</span>=<span style=\"color: #008000; text-decoration-color: #008000\">'8dc59e3e-032a-4b3d-bd9c-72f5b3da7115'</span>,\n",
       "                <span style=\"color: #808000; text-decoration-color: #808000\">metadata</span>=<span style=\"font-weight: bold\">{</span><span style=\"color: #008000; text-decoration-color: #008000\">'source'</span>: <span style=\"color: #008000; text-decoration-color: #008000\">'https://lilianweng.github.io/posts/2023-06-23-agent/'</span><span style=\"font-weight: bold\">}</span>,\n",
       "                <span style=\"color: #808000; text-decoration-color: #808000\">page_content</span>=<span style=\"color: #008000; text-decoration-color: #008000\">'Fig. 1. Overview of a LLM-powered autonomous agent system.\\nComponent One: </span>\n",
       "<span style=\"color: #008000; text-decoration-color: #008000\">Planning#\\nA complicated task usually involves many steps. An agent needs to know what they are and plan </span>\n",
       "<span style=\"color: #008000; text-decoration-color: #008000\">ahead.\\nTask Decomposition#\\nChain of thought (CoT; Wei et al. 2022) has become a standard prompting technique for </span>\n",
       "<span style=\"color: #008000; text-decoration-color: #008000\">enhancing model performance on complex tasks. The model is instructed to “think step by step” to utilize more </span>\n",
       "<span style=\"color: #008000; text-decoration-color: #008000\">test-time computation to decompose hard tasks into smaller and simpler steps. CoT transforms big tasks into </span>\n",
       "<span style=\"color: #008000; text-decoration-color: #008000\">multiple manageable tasks and shed lights into an interpretation of the model’s thinking process.'</span>\n",
       "            <span style=\"font-weight: bold\">)</span>,\n",
       "            <span style=\"color: #800080; text-decoration-color: #800080; font-weight: bold\">Document</span><span style=\"font-weight: bold\">(</span>\n",
       "                <span style=\"color: #808000; text-decoration-color: #808000\">id</span>=<span style=\"color: #008000; text-decoration-color: #008000\">'f6b06016-6811-438c-8247-30969b60fafe'</span>,\n",
       "                <span style=\"color: #808000; text-decoration-color: #808000\">metadata</span>=<span style=\"font-weight: bold\">{</span><span style=\"color: #008000; text-decoration-color: #008000\">'source'</span>: <span style=\"color: #008000; text-decoration-color: #008000\">'https://lilianweng.github.io/posts/2023-06-23-agent/'</span><span style=\"font-weight: bold\">}</span>,\n",
       "                <span style=\"color: #808000; text-decoration-color: #808000\">page_content</span>=<span style=\"color: #008000; text-decoration-color: #008000\">'Reliability of natural language interface: Current agent system relies on natural </span>\n",
       "<span style=\"color: #008000; text-decoration-color: #008000\">language as an interface between LLMs and external components such as memory and tools. However, the reliability of</span>\n",
       "<span style=\"color: #008000; text-decoration-color: #008000\">model outputs is questionable, as LLMs may make formatting errors and occasionally exhibit rebellious behavior </span>\n",
       "<span style=\"color: #008000; text-decoration-color: #008000\">(e.g. refuse to follow an instruction). Consequently, much of the agent demo code focuses on parsing model </span>\n",
       "<span style=\"color: #008000; text-decoration-color: #008000\">output.\\n\\n\\nCitation#\\nCited as:\\n\\nWeng, Lilian. (Jun 2023). “LLM-powered Autonomous Agents”. Lil’Log. </span>\n",
       "<span style=\"color: #008000; text-decoration-color: #008000\">https://lilianweng.github.io/posts/2023-06-23-agent/.'</span>\n",
       "            <span style=\"font-weight: bold\">)</span>,\n",
       "            <span style=\"color: #800080; text-decoration-color: #800080; font-weight: bold\">Document</span><span style=\"font-weight: bold\">(</span>\n",
       "                <span style=\"color: #808000; text-decoration-color: #808000\">id</span>=<span style=\"color: #008000; text-decoration-color: #008000\">'f1753d3a-f19b-4be6-a487-d07baa23f0ce'</span>,\n",
       "                <span style=\"color: #808000; text-decoration-color: #808000\">metadata</span>=<span style=\"font-weight: bold\">{</span><span style=\"color: #008000; text-decoration-color: #008000\">'source'</span>: <span style=\"color: #008000; text-decoration-color: #008000\">'https://lilianweng.github.io/posts/2023-06-23-agent/'</span><span style=\"font-weight: bold\">}</span>,\n",
       "                <span style=\"color: #808000; text-decoration-color: #808000\">page_content</span>=<span style=\"color: #008000; text-decoration-color: #008000\">'Fig. 13. The generative agent architecture. (Image source: Park et al. 2023)\\nThis </span>\n",
       "<span style=\"color: #008000; text-decoration-color: #008000\">fun simulation results in emergent social behavior, such as information diffusion, relationship memory (e.g. two </span>\n",
       "<span style=\"color: #008000; text-decoration-color: #008000\">agents continuing the conversation topic) and coordination of social events (e.g. host a party and invite many </span>\n",
       "<span style=\"color: #008000; text-decoration-color: #008000\">others).\\nProof-of-Concept Examples#\\nAutoGPT has drawn a lot of attention into the possibility of setting up </span>\n",
       "<span style=\"color: #008000; text-decoration-color: #008000\">autonomous agents with LLM as the main controller. It has quite a lot of reliability issues given the natural </span>\n",
       "<span style=\"color: #008000; text-decoration-color: #008000\">language interface, but nevertheless a cool proof-of-concept demo. A lot of code in AutoGPT is about format </span>\n",
       "<span style=\"color: #008000; text-decoration-color: #008000\">parsing.\\nHere is the system message used by AutoGPT, where {{...}} are user inputs:\\nYou are {{ai-name}}, </span>\n",
       "<span style=\"color: #008000; text-decoration-color: #008000\">{{user-provided AI bot description}}.\\nYour decisions must always be made independently without seeking user </span>\n",
       "<span style=\"color: #008000; text-decoration-color: #008000\">assistance. Play to your strengths as an LLM and pursue simple strategies with no legal complications.\\n\\nGOALS:'</span>\n",
       "            <span style=\"font-weight: bold\">)</span>\n",
       "        <span style=\"font-weight: bold\">]</span>\n",
       "    <span style=\"font-weight: bold\">}</span>\n",
       "<span style=\"font-weight: bold\">}</span>\n",
       "</pre>\n"
      ],
      "text/plain": [
       "\u001b[1m{\u001b[0m\n",
       "    \u001b[32m'retrieve_docs'\u001b[0m: \u001b[1m{\u001b[0m\n",
       "        \u001b[32m'context'\u001b[0m: \u001b[1m[\u001b[0m\n",
       "            \u001b[1;35mDocument\u001b[0m\u001b[1m(\u001b[0m\n",
       "                \u001b[33mid\u001b[0m=\u001b[32m'e1348f72-0909-4172-810d-c8426af405b3'\u001b[0m,\n",
       "                \u001b[33mmetadata\u001b[0m=\u001b[1m{\u001b[0m\u001b[32m'source'\u001b[0m: \u001b[32m'https://lilianweng.github.io/posts/2023-06-23-agent/'\u001b[0m\u001b[1m}\u001b[0m,\n",
       "                \u001b[33mpage_content\u001b[0m=\u001b[32m'LLM Powered Autonomous Agents\\n    \\nDate: June 23, 2023  |  Estimated Reading Time: \u001b[0m\n",
       "\u001b[32m31 min  |  Author: Lilian Weng\\n\\n\\nBuilding agents with LLM \u001b[0m\u001b[32m(\u001b[0m\u001b[32mlarge language model\u001b[0m\u001b[32m)\u001b[0m\u001b[32m as its core controller is a \u001b[0m\n",
       "\u001b[32mcool concept. Several proof-of-concepts demos, such as AutoGPT, GPT-Engineer and BabyAGI, serve as inspiring \u001b[0m\n",
       "\u001b[32mexamples. The potentiality of LLM extends beyond generating well-written copies, stories, essays and programs; it \u001b[0m\n",
       "\u001b[32mcan be framed as a powerful general problem solver.\\nAgent System Overview#\\nIn a LLM-powered autonomous agent \u001b[0m\n",
       "\u001b[32msystem, LLM functions as the agent’s brain, complemented by several key components:\\n\\nPlanning\\n\\nSubgoal and \u001b[0m\n",
       "\u001b[32mdecomposition: The agent breaks down large tasks into smaller, manageable subgoals, enabling efficient handling of \u001b[0m\n",
       "\u001b[32mcomplex tasks.\\nReflection and refinement: The agent can do self-criticism and self-reflection over past actions, \u001b[0m\n",
       "\u001b[32mlearn from mistakes and refine them for future steps, thereby improving the quality of final results.\\n\\n\\nMemory'\u001b[0m\n",
       "            \u001b[1m)\u001b[0m,\n",
       "            \u001b[1;35mDocument\u001b[0m\u001b[1m(\u001b[0m\n",
       "                \u001b[33mid\u001b[0m=\u001b[32m'8dc59e3e-032a-4b3d-bd9c-72f5b3da7115'\u001b[0m,\n",
       "                \u001b[33mmetadata\u001b[0m=\u001b[1m{\u001b[0m\u001b[32m'source'\u001b[0m: \u001b[32m'https://lilianweng.github.io/posts/2023-06-23-agent/'\u001b[0m\u001b[1m}\u001b[0m,\n",
       "                \u001b[33mpage_content\u001b[0m=\u001b[32m'Fig. 1. Overview of a LLM-powered autonomous agent system.\\nComponent One: \u001b[0m\n",
       "\u001b[32mPlanning#\\nA complicated task usually involves many steps. An agent needs to know what they are and plan \u001b[0m\n",
       "\u001b[32mahead.\\nTask Decomposition#\\nChain of thought \u001b[0m\u001b[32m(\u001b[0m\u001b[32mCoT; Wei et al. 2022\u001b[0m\u001b[32m)\u001b[0m\u001b[32m has become a standard prompting technique for \u001b[0m\n",
       "\u001b[32menhancing model performance on complex tasks. The model is instructed to “think step by step” to utilize more \u001b[0m\n",
       "\u001b[32mtest-time computation to decompose hard tasks into smaller and simpler steps. CoT transforms big tasks into \u001b[0m\n",
       "\u001b[32mmultiple manageable tasks and shed lights into an interpretation of the model’s thinking process.'\u001b[0m\n",
       "            \u001b[1m)\u001b[0m,\n",
       "            \u001b[1;35mDocument\u001b[0m\u001b[1m(\u001b[0m\n",
       "                \u001b[33mid\u001b[0m=\u001b[32m'f6b06016-6811-438c-8247-30969b60fafe'\u001b[0m,\n",
       "                \u001b[33mmetadata\u001b[0m=\u001b[1m{\u001b[0m\u001b[32m'source'\u001b[0m: \u001b[32m'https://lilianweng.github.io/posts/2023-06-23-agent/'\u001b[0m\u001b[1m}\u001b[0m,\n",
       "                \u001b[33mpage_content\u001b[0m=\u001b[32m'Reliability of natural language interface: Current agent system relies on natural \u001b[0m\n",
       "\u001b[32mlanguage as an interface between LLMs and external components such as memory and tools. However, the reliability of\u001b[0m\n",
       "\u001b[32mmodel outputs is questionable, as LLMs may make formatting errors and occasionally exhibit rebellious behavior \u001b[0m\n",
       "\u001b[32m(\u001b[0m\u001b[32me.g. refuse to follow an instruction\u001b[0m\u001b[32m)\u001b[0m\u001b[32m. Consequently, much of the agent demo code focuses on parsing model \u001b[0m\n",
       "\u001b[32moutput.\\n\\n\\nCitation#\\nCited as:\\n\\nWeng, Lilian. \u001b[0m\u001b[32m(\u001b[0m\u001b[32mJun 2023\u001b[0m\u001b[32m)\u001b[0m\u001b[32m. “LLM-powered Autonomous Agents”. Lil’Log. \u001b[0m\n",
       "\u001b[32mhttps://lilianweng.github.io/posts/2023-06-23-agent/.'\u001b[0m\n",
       "            \u001b[1m)\u001b[0m,\n",
       "            \u001b[1;35mDocument\u001b[0m\u001b[1m(\u001b[0m\n",
       "                \u001b[33mid\u001b[0m=\u001b[32m'f1753d3a-f19b-4be6-a487-d07baa23f0ce'\u001b[0m,\n",
       "                \u001b[33mmetadata\u001b[0m=\u001b[1m{\u001b[0m\u001b[32m'source'\u001b[0m: \u001b[32m'https://lilianweng.github.io/posts/2023-06-23-agent/'\u001b[0m\u001b[1m}\u001b[0m,\n",
       "                \u001b[33mpage_content\u001b[0m=\u001b[32m'Fig. 13. The generative agent architecture. \u001b[0m\u001b[32m(\u001b[0m\u001b[32mImage source: Park et al. 2023\u001b[0m\u001b[32m)\u001b[0m\u001b[32m\\nThis \u001b[0m\n",
       "\u001b[32mfun simulation results in emergent social behavior, such as information diffusion, relationship memory \u001b[0m\u001b[32m(\u001b[0m\u001b[32me.g. two \u001b[0m\n",
       "\u001b[32magents continuing the conversation topic\u001b[0m\u001b[32m)\u001b[0m\u001b[32m and coordination of social events \u001b[0m\u001b[32m(\u001b[0m\u001b[32me.g. host a party and invite many \u001b[0m\n",
       "\u001b[32mothers\u001b[0m\u001b[32m)\u001b[0m\u001b[32m.\\nProof-of-Concept Examples#\\nAutoGPT has drawn a lot of attention into the possibility of setting up \u001b[0m\n",
       "\u001b[32mautonomous agents with LLM as the main controller. It has quite a lot of reliability issues given the natural \u001b[0m\n",
       "\u001b[32mlanguage interface, but nevertheless a cool proof-of-concept demo. A lot of code in AutoGPT is about format \u001b[0m\n",
       "\u001b[32mparsing.\\nHere is the system message used by AutoGPT, where \u001b[0m\u001b[32m{\u001b[0m\u001b[32m{\u001b[0m\u001b[32m...\u001b[0m\u001b[32m}\u001b[0m\u001b[32m}\u001b[0m\u001b[32m are user inputs:\\nYou are \u001b[0m\u001b[32m{\u001b[0m\u001b[32m{\u001b[0m\u001b[32mai-name\u001b[0m\u001b[32m}\u001b[0m\u001b[32m}\u001b[0m\u001b[32m, \u001b[0m\n",
       "\u001b[32m{\u001b[0m\u001b[32m{\u001b[0m\u001b[32muser-provided AI bot description\u001b[0m\u001b[32m}\u001b[0m\u001b[32m}\u001b[0m\u001b[32m.\\nYour decisions must always be made independently without seeking user \u001b[0m\n",
       "\u001b[32massistance. Play to your strengths as an LLM and pursue simple strategies with no legal complications.\\n\\nGOALS:'\u001b[0m\n",
       "            \u001b[1m)\u001b[0m\n",
       "        \u001b[1m]\u001b[0m\n",
       "    \u001b[1m}\u001b[0m\n",
       "\u001b[1m}\u001b[0m\n"
      ]
     },
     "metadata": {},
     "output_type": "display_data"
    },
    {
     "name": "stdout",
     "output_type": "stream",
     "text": [
      "The main components of an LLM-powered autonomous agent system include:\n",
      "\n",
      "1. **Planning**: This component enables the agent to break down complex tasks into smaller, manageable subgoals. It involves task decomposition techniques, such as Chain of Thought (CoT), which guide the agent to think step-by-step and systematically tackle challenges.\n",
      "\n",
      "2. **Reflection and Refinement**: The agent possesses the capability to conduct self-criticism and self-reflection regarding its past actions. This allows the agent to learn from mistakes, refine its strategies, and improve the quality of its future outcomes.\n",
      "\n",
      "3. **Memory**: Memory plays a crucial role by allowing the agent to retain and utilize information from prior interactions or tasks. This enhances decision-making and helps maintain context in ongoing dialogues or activities.\n",
      "\n",
      "4. **Natural Language Interface**: The agent primarily uses natural language as the interface for interaction with users and external systems. This functionality facilitates accessibility, as users can communicate with the agent in a human-like manner. However, it may also lead to challenges regarding reliability and the parsing of outputs.\n",
      "\n",
      "These components work in conjunction to empower LLM-powered autonomous agents to effectively solve complex problems and manage tasks efficiently."
     ]
    },
    {
     "data": {
      "text/html": [
       "<pre style=\"white-space:pre;overflow-x:auto;line-height:normal;font-family:Menlo,'DejaVu Sans Mono',consolas,'Courier New',monospace\"><span style=\"font-weight: bold\">{</span>\n",
       "    <span style=\"color: #008000; text-decoration-color: #008000\">'generate_answer'</span>: <span style=\"font-weight: bold\">{</span>\n",
       "        <span style=\"color: #008000; text-decoration-color: #008000\">'answer'</span>: <span style=\"color: #008000; text-decoration-color: #008000\">'The main components of an LLM-powered autonomous agent system include:\\n\\n1. **Planning**: This </span>\n",
       "<span style=\"color: #008000; text-decoration-color: #008000\">component enables the agent to break down complex tasks into smaller, manageable subgoals. It involves task </span>\n",
       "<span style=\"color: #008000; text-decoration-color: #008000\">decomposition techniques, such as Chain of Thought (CoT), which guide the agent to think step-by-step and </span>\n",
       "<span style=\"color: #008000; text-decoration-color: #008000\">systematically tackle challenges.\\n\\n2. **Reflection and Refinement**: The agent possesses the capability to </span>\n",
       "<span style=\"color: #008000; text-decoration-color: #008000\">conduct self-criticism and self-reflection regarding its past actions. This allows the agent to learn from </span>\n",
       "<span style=\"color: #008000; text-decoration-color: #008000\">mistakes, refine its strategies, and improve the quality of its future outcomes.\\n\\n3. **Memory**: Memory plays a </span>\n",
       "<span style=\"color: #008000; text-decoration-color: #008000\">crucial role by allowing the agent to retain and utilize information from prior interactions or tasks. This </span>\n",
       "<span style=\"color: #008000; text-decoration-color: #008000\">enhances decision-making and helps maintain context in ongoing dialogues or activities.\\n\\n4. **Natural Language </span>\n",
       "<span style=\"color: #008000; text-decoration-color: #008000\">Interface**: The agent primarily uses natural language as the interface for interaction with users and external </span>\n",
       "<span style=\"color: #008000; text-decoration-color: #008000\">systems. This functionality facilitates accessibility, as users can communicate with the agent in a human-like </span>\n",
       "<span style=\"color: #008000; text-decoration-color: #008000\">manner. However, it may also lead to challenges regarding reliability and the parsing of outputs.\\n\\nThese </span>\n",
       "<span style=\"color: #008000; text-decoration-color: #008000\">components work in conjunction to empower LLM-powered autonomous agents to effectively solve complex problems and </span>\n",
       "<span style=\"color: #008000; text-decoration-color: #008000\">manage tasks efficiently.'</span>\n",
       "    <span style=\"font-weight: bold\">}</span>\n",
       "<span style=\"font-weight: bold\">}</span>\n",
       "</pre>\n"
      ],
      "text/plain": [
       "\u001b[1m{\u001b[0m\n",
       "    \u001b[32m'generate_answer'\u001b[0m: \u001b[1m{\u001b[0m\n",
       "        \u001b[32m'answer'\u001b[0m: \u001b[32m'The main components of an LLM-powered autonomous agent system include:\\n\\n1. **Planning**: This \u001b[0m\n",
       "\u001b[32mcomponent enables the agent to break down complex tasks into smaller, manageable subgoals. It involves task \u001b[0m\n",
       "\u001b[32mdecomposition techniques, such as Chain of Thought \u001b[0m\u001b[32m(\u001b[0m\u001b[32mCoT\u001b[0m\u001b[32m)\u001b[0m\u001b[32m, which guide the agent to think step-by-step and \u001b[0m\n",
       "\u001b[32msystematically tackle challenges.\\n\\n2. **Reflection and Refinement**: The agent possesses the capability to \u001b[0m\n",
       "\u001b[32mconduct self-criticism and self-reflection regarding its past actions. This allows the agent to learn from \u001b[0m\n",
       "\u001b[32mmistakes, refine its strategies, and improve the quality of its future outcomes.\\n\\n3. **Memory**: Memory plays a \u001b[0m\n",
       "\u001b[32mcrucial role by allowing the agent to retain and utilize information from prior interactions or tasks. This \u001b[0m\n",
       "\u001b[32menhances decision-making and helps maintain context in ongoing dialogues or activities.\\n\\n4. **Natural Language \u001b[0m\n",
       "\u001b[32mInterface**: The agent primarily uses natural language as the interface for interaction with users and external \u001b[0m\n",
       "\u001b[32msystems. This functionality facilitates accessibility, as users can communicate with the agent in a human-like \u001b[0m\n",
       "\u001b[32mmanner. However, it may also lead to challenges regarding reliability and the parsing of outputs.\\n\\nThese \u001b[0m\n",
       "\u001b[32mcomponents work in conjunction to empower LLM-powered autonomous agents to effectively solve complex problems and \u001b[0m\n",
       "\u001b[32mmanage tasks efficiently.'\u001b[0m\n",
       "    \u001b[1m}\u001b[0m\n",
       "\u001b[1m}\u001b[0m\n"
      ]
     },
     "metadata": {},
     "output_type": "display_data"
    },
    {
     "data": {
      "text/html": [
       "<pre style=\"white-space:pre;overflow-x:auto;line-height:normal;font-family:Menlo,'DejaVu Sans Mono',consolas,'Courier New',monospace\">The main components of an LLM-powered autonomous agent system include:                                             \n",
       "\n",
       "<span style=\"color: #808000; text-decoration-color: #808000; font-weight: bold\"> 1 </span><span style=\"font-weight: bold\">Planning</span>: This component enables the agent to break down complex tasks into smaller, manageable subgoals. It    \n",
       "<span style=\"color: #808000; text-decoration-color: #808000; font-weight: bold\">   </span>involves task decomposition techniques, such as Chain of Thought (CoT), which guide the agent to think          \n",
       "<span style=\"color: #808000; text-decoration-color: #808000; font-weight: bold\">   </span>step-by-step and systematically tackle challenges.                                                              \n",
       "<span style=\"color: #808000; text-decoration-color: #808000; font-weight: bold\"> 2 </span><span style=\"font-weight: bold\">Reflection and Refinement</span>: The agent possesses the capability to conduct self-criticism and self-reflection     \n",
       "<span style=\"color: #808000; text-decoration-color: #808000; font-weight: bold\">   </span>regarding its past actions. This allows the agent to learn from mistakes, refine its strategies, and improve the\n",
       "<span style=\"color: #808000; text-decoration-color: #808000; font-weight: bold\">   </span>quality of its future outcomes.                                                                                 \n",
       "<span style=\"color: #808000; text-decoration-color: #808000; font-weight: bold\"> 3 </span><span style=\"font-weight: bold\">Memory</span>: Memory plays a crucial role by allowing the agent to retain and utilize information from prior          \n",
       "<span style=\"color: #808000; text-decoration-color: #808000; font-weight: bold\">   </span>interactions or tasks. This enhances decision-making and helps maintain context in ongoing dialogues or         \n",
       "<span style=\"color: #808000; text-decoration-color: #808000; font-weight: bold\">   </span>activities.                                                                                                     \n",
       "<span style=\"color: #808000; text-decoration-color: #808000; font-weight: bold\"> 4 </span><span style=\"font-weight: bold\">Natural Language Interface</span>: The agent primarily uses natural language as the interface for interaction with     \n",
       "<span style=\"color: #808000; text-decoration-color: #808000; font-weight: bold\">   </span>users and external systems. This functionality facilitates accessibility, as users can communicate with the     \n",
       "<span style=\"color: #808000; text-decoration-color: #808000; font-weight: bold\">   </span>agent in a human-like manner. However, it may also lead to challenges regarding reliability and the parsing of  \n",
       "<span style=\"color: #808000; text-decoration-color: #808000; font-weight: bold\">   </span>outputs.                                                                                                        \n",
       "\n",
       "These components work in conjunction to empower LLM-powered autonomous agents to effectively solve complex problems\n",
       "and manage tasks efficiently.                                                                                      \n",
       "</pre>\n"
      ],
      "text/plain": [
       "The main components of an LLM-powered autonomous agent system include:                                             \n",
       "\n",
       "\u001b[1;33m 1 \u001b[0m\u001b[1mPlanning\u001b[0m: This component enables the agent to break down complex tasks into smaller, manageable subgoals. It    \n",
       "\u001b[1;33m   \u001b[0minvolves task decomposition techniques, such as Chain of Thought (CoT), which guide the agent to think          \n",
       "\u001b[1;33m   \u001b[0mstep-by-step and systematically tackle challenges.                                                              \n",
       "\u001b[1;33m 2 \u001b[0m\u001b[1mReflection and Refinement\u001b[0m: The agent possesses the capability to conduct self-criticism and self-reflection     \n",
       "\u001b[1;33m   \u001b[0mregarding its past actions. This allows the agent to learn from mistakes, refine its strategies, and improve the\n",
       "\u001b[1;33m   \u001b[0mquality of its future outcomes.                                                                                 \n",
       "\u001b[1;33m 3 \u001b[0m\u001b[1mMemory\u001b[0m: Memory plays a crucial role by allowing the agent to retain and utilize information from prior          \n",
       "\u001b[1;33m   \u001b[0minteractions or tasks. This enhances decision-making and helps maintain context in ongoing dialogues or         \n",
       "\u001b[1;33m   \u001b[0mactivities.                                                                                                     \n",
       "\u001b[1;33m 4 \u001b[0m\u001b[1mNatural Language Interface\u001b[0m: The agent primarily uses natural language as the interface for interaction with     \n",
       "\u001b[1;33m   \u001b[0musers and external systems. This functionality facilitates accessibility, as users can communicate with the     \n",
       "\u001b[1;33m   \u001b[0magent in a human-like manner. However, it may also lead to challenges regarding reliability and the parsing of  \n",
       "\u001b[1;33m   \u001b[0moutputs.                                                                                                        \n",
       "\n",
       "These components work in conjunction to empower LLM-powered autonomous agents to effectively solve complex problems\n",
       "and manage tasks efficiently.                                                                                      \n"
      ]
     },
     "metadata": {},
     "output_type": "display_data"
    }
   ],
   "source": [
    "config = {\n",
    "    \"configurable\": {\n",
    "        \"max_generated_sub_questions_count\": 3\n",
    "    }\n",
    "}\n",
    "\n",
    "for stream_mode, event in graph.stream(\n",
    "    {\"question\": query}, \n",
    "    stream_mode=[\"messages\", \"updates\"],\n",
    "    config=config\n",
    "):\n",
    "    match stream_mode:\n",
    "        case \"messages\":\n",
    "            message, metadata = event\n",
    "            print(message.content, end=\"\", flush=True)\n",
    "        case \"updates\":\n",
    "            rprint(event)\n",
    "\n",
    "display(Markdown(event['generate_answer']['answer']))"
   ]
  }
 ],
 "metadata": {
  "kernelspec": {
   "display_name": "Python 3 (ipykernel)",
   "language": "python",
   "name": "python3"
  },
  "language_info": {
   "codemirror_mode": {
    "name": "ipython",
    "version": 3
   },
   "file_extension": ".py",
   "mimetype": "text/x-python",
   "name": "python",
   "nbconvert_exporter": "python",
   "pygments_lexer": "ipython3",
   "version": "3.11.11"
  }
 },
 "nbformat": 4,
 "nbformat_minor": 5
}
