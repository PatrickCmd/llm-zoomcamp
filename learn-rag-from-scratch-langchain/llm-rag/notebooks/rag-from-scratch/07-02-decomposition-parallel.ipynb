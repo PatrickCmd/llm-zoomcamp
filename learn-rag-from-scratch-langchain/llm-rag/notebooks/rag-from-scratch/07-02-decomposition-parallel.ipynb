{
 "cells": [
  {
   "cell_type": "code",
   "execution_count": 1,
   "id": "ccb12ff5-92ec-4049-9925-801e35a7d6c2",
   "metadata": {},
   "outputs": [],
   "source": [
    "import os\n",
    "import re\n",
    "\n",
    "from dotenv import find_dotenv, load_dotenv\n",
    "from IPython.display import display\n",
    "from rich import print as rprint\n",
    "from rich.markdown import Markdown\n",
    "from rich.pretty import Pretty\n",
    "from rich.text import Text"
   ]
  },
  {
   "cell_type": "code",
   "execution_count": 2,
   "id": "01d2d7f1-b901-4bc1-863f-11b96f4dec5c",
   "metadata": {},
   "outputs": [
    {
     "data": {
      "text/plain": [
       "True"
      ]
     },
     "execution_count": 2,
     "metadata": {},
     "output_type": "execute_result"
    }
   ],
   "source": [
    "load_dotenv(find_dotenv('.env'))"
   ]
  },
  {
   "cell_type": "code",
   "execution_count": 3,
   "id": "f78eddaa-f8a2-4bad-83b3-c6278d51fc3d",
   "metadata": {},
   "outputs": [],
   "source": [
    "os.environ[\"LANGCHAIN_PROJECT\"] = \"RAG From Scratch: Part 7-2 (Query Translation - Decomposition (Parallel))\""
   ]
  },
  {
   "cell_type": "markdown",
   "id": "feda6344-864b-4a7d-8dd0-18611d8a9805",
   "metadata": {},
   "source": [
    "# Query translation"
   ]
  },
  {
   "cell_type": "markdown",
   "id": "8e6a3851-ae7c-4f93-a820-b562219cad2a",
   "metadata": {},
   "source": [
    "![](images/query-translation-01.png)"
   ]
  },
  {
   "cell_type": "markdown",
   "id": "c3fb3f16-2586-4ea2-b357-19f8618b4643",
   "metadata": {},
   "source": [
    "![](images/query-translation-02.png)"
   ]
  },
  {
   "cell_type": "markdown",
   "id": "d33f40a4-5ce0-4f41-bc80-e9a5708de1df",
   "metadata": {},
   "source": [
    "# Part 7-2: Decomposition (Parallel)"
   ]
  },
  {
   "cell_type": "markdown",
   "id": "88b40096-b03c-4ef1-be62-66906e881eec",
   "metadata": {},
   "source": [
    "![](images/07-02-decomposition-parallel.png)"
   ]
  },
  {
   "cell_type": "markdown",
   "id": "56dec86c-c7ae-4802-a9aa-cec55b8aaf81",
   "metadata": {},
   "source": [
    "## Configure components"
   ]
  },
  {
   "cell_type": "code",
   "execution_count": 4,
   "id": "1d6ed407-8fa9-4710-87cb-f96c833415c5",
   "metadata": {},
   "outputs": [],
   "source": [
    "from langchain_openai import ChatOpenAI, OpenAIEmbeddings"
   ]
  },
  {
   "cell_type": "code",
   "execution_count": 5,
   "id": "2fd7bb20-0bbd-4bfd-bf88-1fe6d4433aba",
   "metadata": {},
   "outputs": [
    {
     "data": {
      "text/plain": [
       "AIMessage(content='Hello! How can I assist you today?', additional_kwargs={'refusal': None}, response_metadata={'token_usage': {'completion_tokens': 10, 'prompt_tokens': 8, 'total_tokens': 18, 'completion_tokens_details': {'accepted_prediction_tokens': 0, 'audio_tokens': 0, 'reasoning_tokens': 0, 'rejected_prediction_tokens': 0}, 'prompt_tokens_details': {'audio_tokens': 0, 'cached_tokens': 0}}, 'model_name': 'gpt-4o-mini-2024-07-18', 'system_fingerprint': 'fp_44added55e', 'id': 'chatcmpl-BKNNkmwnKPIhyQizDwbLdbORrY5M5', 'finish_reason': 'stop', 'logprobs': None}, id='run-76f51b10-5761-4578-9db2-91be0e18a334-0', usage_metadata={'input_tokens': 8, 'output_tokens': 10, 'total_tokens': 18, 'input_token_details': {'audio': 0, 'cache_read': 0}, 'output_token_details': {'audio': 0, 'reasoning': 0}})"
      ]
     },
     "execution_count": 5,
     "metadata": {},
     "output_type": "execute_result"
    }
   ],
   "source": [
    "llm = ChatOpenAI(\n",
    "    model=\"gpt-4o-mini\",\n",
    "    temperature=1\n",
    ")\n",
    "llm.invoke(\"Hello\")"
   ]
  },
  {
   "cell_type": "code",
   "execution_count": 6,
   "id": "ea0ba9f3-ebe3-4782-ba78-0c48c5694dae",
   "metadata": {},
   "outputs": [
    {
     "data": {
      "text/plain": [
       "1536"
      ]
     },
     "execution_count": 6,
     "metadata": {},
     "output_type": "execute_result"
    }
   ],
   "source": [
    "embeddings = OpenAIEmbeddings(model=\"text-embedding-3-small\")\n",
    "len(embeddings.embed_query(\"Hello\"))"
   ]
  },
  {
   "cell_type": "markdown",
   "id": "cfe5bed7-4ced-4532-b7cf-8d9a529c50e1",
   "metadata": {},
   "source": [
    "## Load documents"
   ]
  },
  {
   "cell_type": "code",
   "execution_count": 7,
   "id": "84703367-b563-4e07-9a6f-2080114cead5",
   "metadata": {},
   "outputs": [
    {
     "name": "stderr",
     "output_type": "stream",
     "text": [
      "USER_AGENT environment variable not set, consider setting it to identify your requests.\n"
     ]
    }
   ],
   "source": [
    "import bs4\n",
    "from langchain_community.document_loaders import WebBaseLoader"
   ]
  },
  {
   "cell_type": "code",
   "execution_count": 8,
   "id": "5da20501-4bce-463e-89eb-bbafc81b8485",
   "metadata": {},
   "outputs": [
    {
     "data": {
      "text/plain": [
       "1"
      ]
     },
     "execution_count": 8,
     "metadata": {},
     "output_type": "execute_result"
    }
   ],
   "source": [
    "loader = WebBaseLoader(\n",
    "    web_paths=(\"https://lilianweng.github.io/posts/2023-06-23-agent/\",),\n",
    "    bs_kwargs=dict(\n",
    "        parse_only=bs4.SoupStrainer(\n",
    "            class_=(\"post-content\", \"post-title\", \"post-header\")\n",
    "        )\n",
    "    ),\n",
    ")\n",
    "docs = loader.load()\n",
    "len(docs)"
   ]
  },
  {
   "cell_type": "code",
   "execution_count": 9,
   "id": "33187e6a-70f1-4abd-b5be-6b5a761a287f",
   "metadata": {},
   "outputs": [
    {
     "name": "stdout",
     "output_type": "stream",
     "text": [
      "\n",
      "\n",
      "      LLM Powered Autonomous Agents\n",
      "    \n",
      "Date: June 23, 2023  |  Estimated Reading Time: 31 min  |  Author: Lilian Weng\n",
      "\n",
      "\n",
      "Building agents with LLM (large language model) as its core controller is a cool concept. Several proof-of-concepts demos, such as AutoGPT, GPT-Engineer and BabyAGI, serve as inspiring examples. The potentiality of LLM extends beyond generating well-written copies, stories, essays and programs; it can be framed as a powerful general problem solver.\n",
      "Agent System Overview#\n",
      "In a LLM-powered autonomous agent system, LLM functions as the agent’s brain, complemented by several key components:\n",
      "\n",
      "Planning\n",
      "\n",
      "Subgoal and decomposition: The agent breaks down large tasks into smaller, manageable subgoals, enabling efficient handling of complex tasks.\n",
      "Reflection and refinement: The agent can do self-criticism and self-reflection over past actions, learn from mistakes and refine them for future steps, thereby improving the quality of final results.\n",
      "\n",
      "\n",
      "Memory\n",
      "\n",
      "Short-term memory: I \n"
     ]
    }
   ],
   "source": [
    "print(docs[0].page_content[:1000])"
   ]
  },
  {
   "cell_type": "markdown",
   "id": "ca346578-8665-40c6-b40d-c3a1ff565ff1",
   "metadata": {},
   "source": [
    "## Split documents"
   ]
  },
  {
   "cell_type": "code",
   "execution_count": 10,
   "id": "85139cee-bf8c-41c1-b401-c3e8bc5a9633",
   "metadata": {},
   "outputs": [],
   "source": [
    "from langchain.text_splitter import RecursiveCharacterTextSplitter"
   ]
  },
  {
   "cell_type": "code",
   "execution_count": 11,
   "id": "777cf95c-40a0-4b22-8865-6a0c53e84c25",
   "metadata": {},
   "outputs": [
    {
     "data": {
      "text/plain": [
       "66"
      ]
     },
     "execution_count": 11,
     "metadata": {},
     "output_type": "execute_result"
    }
   ],
   "source": [
    "text_splitter = RecursiveCharacterTextSplitter(chunk_size=1000, chunk_overlap=200)\n",
    "splits = text_splitter.split_documents(docs)\n",
    "len(splits)"
   ]
  },
  {
   "cell_type": "markdown",
   "id": "8df8fd27-d8ba-4384-9699-3095e150dcb6",
   "metadata": {},
   "source": [
    "## Store documents"
   ]
  },
  {
   "cell_type": "code",
   "execution_count": 12,
   "id": "15316d2d-cf34-420a-8e09-e2ad5a4f5371",
   "metadata": {},
   "outputs": [],
   "source": [
    "from langchain_core.vectorstores import InMemoryVectorStore"
   ]
  },
  {
   "cell_type": "code",
   "execution_count": 13,
   "id": "f7d87831-1fbc-4e5f-bf30-e014d63967d1",
   "metadata": {},
   "outputs": [
    {
     "data": {
      "text/plain": [
       "(66, 66)"
      ]
     },
     "execution_count": 13,
     "metadata": {},
     "output_type": "execute_result"
    }
   ],
   "source": [
    "vectorstore = InMemoryVectorStore(embeddings)\n",
    "doc_ids = vectorstore.add_documents(documents=splits)\n",
    "len(doc_ids), len(vectorstore.store)"
   ]
  },
  {
   "cell_type": "code",
   "execution_count": 14,
   "id": "20e94185-f8a4-46b2-bad6-142e4296e7eb",
   "metadata": {},
   "outputs": [],
   "source": [
    "retriever = vectorstore.as_retriever()"
   ]
  },
  {
   "cell_type": "markdown",
   "id": "a7f6806b-7c7e-47de-a03a-98ad4ea20af2",
   "metadata": {},
   "source": [
    "## RAG"
   ]
  },
  {
   "cell_type": "code",
   "execution_count": 15,
   "id": "18803562-c1fb-4ca8-b692-c84494057829",
   "metadata": {},
   "outputs": [],
   "source": [
    "import operator\n",
    "from typing import Annotated, TypedDict\n",
    "\n",
    "from langchain_core.documents import Document\n",
    "from langchain_core.messages import HumanMessage\n",
    "from langchain_core.runnables import RunnableConfig\n",
    "from langgraph.constants import Send\n",
    "from langgraph.graph import END, START, StateGraph\n",
    "from pydantic import BaseModel, Field"
   ]
  },
  {
   "cell_type": "code",
   "execution_count": 16,
   "id": "55773963-abbe-48a1-9599-f4ca2a366a97",
   "metadata": {},
   "outputs": [
    {
     "name": "stdout",
     "output_type": "stream",
     "text": [
      "You are a helpful assistant that generates multiple sub-questions related to an input question.\n",
      "The goal is to break down the input into a set of sub-problems / sub-questions that can be answered sequentially.\n",
      "Generate multiple search queries related to: {question}\n"
     ]
    }
   ],
   "source": [
    "decomposition_prompt_template = \"\"\"You are a helpful assistant that generates multiple sub-questions related to an input question.\n",
    "The goal is to break down the input into a set of sub-problems / sub-questions that can be answered sequentially.\n",
    "Generate multiple search queries related to: {question}\"\"\"\n",
    "print(decomposition_prompt_template)"
   ]
  },
  {
   "cell_type": "code",
   "execution_count": 17,
   "id": "7dae911f-2182-4731-a9bd-289fd040ab6b",
   "metadata": {},
   "outputs": [
    {
     "name": "stdout",
     "output_type": "stream",
     "text": [
      "Answer the following question based on this context:\n",
      "\n",
      "{context}\n",
      "\n",
      "Question: {question}\n",
      "\n"
     ]
    }
   ],
   "source": [
    "sub_question_prompt_template = \"\"\"Answer the following question based on this context:\n",
    "\n",
    "{context}\n",
    "\n",
    "Question: {question}\n",
    "\"\"\"\n",
    "print(sub_question_prompt_template)"
   ]
  },
  {
   "cell_type": "code",
   "execution_count": 18,
   "id": "a6f6fb23-5316-49c9-8886-49145c4f8ec3",
   "metadata": {},
   "outputs": [
    {
     "name": "stdout",
     "output_type": "stream",
     "text": [
      "Here is a set of Q+A pairs:\n",
      "\n",
      "{context}\n",
      "\n",
      "Use these to synthesize an answer to the question: {question}\n",
      "\n"
     ]
    }
   ],
   "source": [
    "rag_prompt_template = \"\"\"Here is a set of Q+A pairs:\n",
    "\n",
    "{context}\n",
    "\n",
    "Use these to synthesize an answer to the question: {question}\n",
    "\"\"\"\n",
    "print(rag_prompt_template)"
   ]
  },
  {
   "cell_type": "code",
   "execution_count": 19,
   "id": "bb79fe88-76b6-44b1-91f3-5a9a90ab0f04",
   "metadata": {},
   "outputs": [],
   "source": [
    "def format_qa_pair(question: str, answer: str) -> str:\n",
    "    return f\"Question: {question}  \\nAnswer: {answer}\\n\\n\\n\""
   ]
  },
  {
   "cell_type": "code",
   "execution_count": 20,
   "id": "45ef51b6-bd4c-457d-b012-d2827f20a000",
   "metadata": {},
   "outputs": [],
   "source": [
    "query = \"What are the main components of an LLM-powered autonomous agent system?\""
   ]
  },
  {
   "cell_type": "code",
   "execution_count": 21,
   "id": "fd3893c5-b519-4dbd-a223-be0581a9a833",
   "metadata": {},
   "outputs": [],
   "source": [
    "class State(TypedDict):\n",
    "    question: str\n",
    "    generated_sub_questions: list[str]\n",
    "    qa_pairs: Annotated[\n",
    "        list[dict[str, str]], operator.add\n",
    "    ]\n",
    "    context: list[Document]\n",
    "    answer: str\n",
    "\n",
    "class RetrieverState(TypedDict):\n",
    "    generated_sub_question: str"
   ]
  },
  {
   "cell_type": "code",
   "execution_count": 22,
   "id": "90d72752-5816-4fa6-bb84-d0713a7c2182",
   "metadata": {},
   "outputs": [],
   "source": [
    "def generate_sub_questions(query: str, config: RunnableConfig) -> list[str]:\n",
    "    max_generated_sub_questions_count = config['configurable'].get(\"max_generated_sub_questions_count\", 3)\n",
    "    \n",
    "    class SubQuestionsGenerator(BaseModel):\n",
    "        sub_questions: list[str] = Field(\n",
    "            ..., \n",
    "            description=\"List of generated sub-problems / sub-questions\",\n",
    "            max_items=max_generated_sub_questions_count\n",
    "        )\n",
    "    \n",
    "    structured_llm = llm.with_structured_output(SubQuestionsGenerator, method=\"function_calling\")\n",
    "    decomposition_prompt = decomposition_prompt_template.format(\n",
    "        question=query\n",
    "    )\n",
    "    response = structured_llm.invoke([\n",
    "        HumanMessage(content=decomposition_prompt)\n",
    "    ])\n",
    "    questions = response.sub_questions\n",
    "    \n",
    "    return {\"generated_sub_questions\": questions}\n",
    "\n",
    "\n",
    "def assign_sub_questions(state: State):\n",
    "    return [Send(\"answer_sub_question\", {\"generated_sub_question\": sub_question}) for sub_question in state[\"generated_sub_questions\"]]\n",
    "\n",
    "\n",
    "def answer_sub_question(state: RetrieverState):\n",
    "    question = state[\"generated_sub_question\"]\n",
    "    context = retriever.invoke(question)\n",
    "    sub_question_prompt = sub_question_prompt_template.format(\n",
    "        context=context,\n",
    "        question=question\n",
    "    )\n",
    "    answer = llm.invoke([\n",
    "        HumanMessage(content=sub_question_prompt)\n",
    "    ])\n",
    "    return {\"qa_pairs\": [{question: answer.content}]}\n",
    "\n",
    "\n",
    "def aggregate_qa_pairs(state: State):\n",
    "    context = \"\"\n",
    "\n",
    "    for qa_pair in state['qa_pairs']:\n",
    "        [(question, answer)] = qa_pair.items()\n",
    "        context += format_qa_pair(question, answer)\n",
    "    \n",
    "    return {\"context\": context}\n",
    "\n",
    "\n",
    "def generate_answer(state: State):\n",
    "    rag_prompt = rag_prompt_template.format(\n",
    "        context=state[\"context\"],\n",
    "        question=state[\"question\"]\n",
    "    )\n",
    "    response = llm.invoke([\n",
    "        HumanMessage(content=rag_prompt)\n",
    "    ])\n",
    "    return {\"answer\": response.content}"
   ]
  },
  {
   "cell_type": "code",
   "execution_count": 23,
   "id": "f6983d47-071e-4236-9b96-3c7e2fc9bdc9",
   "metadata": {},
   "outputs": [
    {
     "data": {
      "image/png": "[encoded data removed]",
      "text/plain": [
       "<langgraph.graph.state.CompiledStateGraph object at 0x7f7a3175e450>"
      ]
     },
     "execution_count": 23,
     "metadata": {},
     "output_type": "execute_result"
    }
   ],
   "source": [
    "graph_builder = StateGraph(State)\n",
    "\n",
    "graph_builder.add_node(\"generate_sub_questions\", generate_sub_questions)\n",
    "graph_builder.add_node(\"answer_sub_question\", answer_sub_question)\n",
    "graph_builder.add_node(\"aggregate_qa_pairs\", aggregate_qa_pairs)\n",
    "graph_builder.add_node(\"generate_answer\", generate_answer)\n",
    "\n",
    "graph_builder.add_edge(START, \"generate_sub_questions\")\n",
    "graph_builder.add_conditional_edges(\n",
    "    \"generate_sub_questions\", assign_sub_questions, [\"answer_sub_question\"]\n",
    ")\n",
    "graph_builder.add_edge(\"answer_sub_question\", \"aggregate_qa_pairs\")\n",
    "graph_builder.add_edge(\"aggregate_qa_pairs\", \"generate_answer\")\n",
    "graph_builder.add_edge(\"generate_answer\", END)\n",
    "graph = graph_builder.compile()\n",
    "graph"
   ]
  },
  {
   "cell_type": "code",
   "execution_count": 24,
   "id": "ed89daec-20c5-466f-a2ce-b014dd807a0d",
   "metadata": {},
   "outputs": [
    {
     "name": "stdout",
     "output_type": "stream",
     "text": [
      "What are the main components of an LLM-powered autonomous agent system?\n"
     ]
    },
    {
     "data": {
      "text/html": [
       "<pre style=\"white-space:pre;overflow-x:auto;line-height:normal;font-family:Menlo,'DejaVu Sans Mono',consolas,'Courier New',monospace\"><span style=\"font-weight: bold\">{</span>\n",
       "    <span style=\"color: #008000; text-decoration-color: #008000\">'question'</span>: <span style=\"color: #008000; text-decoration-color: #008000\">'What are the main components of an LLM-powered autonomous agent system?'</span>,\n",
       "    <span style=\"color: #008000; text-decoration-color: #008000\">'generated_sub_questions'</span>: <span style=\"font-weight: bold\">[</span>\n",
       "        <span style=\"color: #008000; text-decoration-color: #008000\">'What is a large language model (LLM) and how does it function?'</span>,\n",
       "        <span style=\"color: #008000; text-decoration-color: #008000\">'What role does natural language processing (NLP) play in an LLM-powered system?'</span>,\n",
       "        <span style=\"color: #008000; text-decoration-color: #008000\">'What are the key hardware and software components required to build an autonomous agent system using LLM?'</span>\n",
       "    <span style=\"font-weight: bold\">]</span>,\n",
       "    <span style=\"color: #008000; text-decoration-color: #008000\">'qa_pairs'</span>: <span style=\"font-weight: bold\">[{</span><span style=\"color: #808000; text-decoration-color: #808000\">...</span><span style=\"font-weight: bold\">}</span>, <span style=\"font-weight: bold\">{</span><span style=\"color: #808000; text-decoration-color: #808000\">...</span><span style=\"font-weight: bold\">}</span>, <span style=\"font-weight: bold\">{</span><span style=\"color: #808000; text-decoration-color: #808000\">...</span><span style=\"font-weight: bold\">}]</span>,\n",
       "    <span style=\"color: #008000; text-decoration-color: #008000\">'context'</span>: <span style=\"color: #008000; text-decoration-color: #008000\">'Question: What is a large language model (LLM) and how does it function?  \\nAnswer: A large </span>\n",
       "<span style=\"color: #008000; text-decoration-color: #008000\">language model (LLM) is an advanced AI system designed to understand and generate human-like text. It serves as a </span>\n",
       "<span style=\"color: #008000; text-decoration-color: #008000\">powerful general problem solver, capable of performing a wide range of tasks beyond writing, such as coding and </span>\n",
       "<span style=\"color: #008000; text-decoration-color: #008000\">various forms of communication. \\n\\nIn the context of LLM-powered autonomous agents, the LLM functions as the </span>\n",
       "<span style=\"color: #008000; text-decoration-color: #008000\">\"brain\" of the system, interacting with several key components:\\n\\n1. **Planning**: The LLM helps break down large </span>\n",
       "<span style=\"color: #008000; text-decoration-color: #008000\">tasks into smaller, manageable subgoals, facilitating the efficient handling of complex tasks.\\n\\n2. **Reflection </span>\n",
       "<span style=\"color: #008000; text-decoration-color: #008000\">and Refinement**: The LLM can engage in self-criticism and reflection over past actions, allowing it to learn from </span>\n",
       "<span style=\"color: #008000; text-decoration-color: #008000\">mistakes and refine its approaches to improve future outputs.\\n\\n3. **Response Generation**: After executing tasks,</span>\n",
       "<span style=\"color: #008000; text-decoration-color: #008000\">the LLM summarizes results and communicates them to users, acting as a bridge between the operational processes and</span>\n",
       "<span style=\"color: #008000; text-decoration-color: #008000\">the user interface.\\n\\nHowever, LLMs also face challenges, such as the need for efficiency improvements, managing </span>\n",
       "<span style=\"color: #008000; text-decoration-color: #008000\">lengthy context windows for complex tasks, and ensuring the stability of outputs. Their reliability as a natural </span>\n",
       "<span style=\"color: #008000; text-decoration-color: #008000\">language interface can be questioned due to potential formatting errors and unpredictable behavior.\\n\\n\\nQuestion: </span>\n",
       "<span style=\"color: #008000; text-decoration-color: #008000\">What role does natural language processing (NLP) play in an LLM-powered system?  \\nAnswer: Natural language </span>\n",
       "<span style=\"color: #008000; text-decoration-color: #008000\">processing (NLP) plays a crucial role in an LLM-powered system by serving as the interface between large language </span>\n",
       "<span style=\"color: #008000; text-decoration-color: #008000\">models (LLMs) and external components, such as memory and tools. It enables the system to understand and process </span>\n",
       "<span style=\"color: #008000; text-decoration-color: #008000\">human language, allowing for effective communication and interaction. However, the reliability of NLP outputs can </span>\n",
       "<span style=\"color: #008000; text-decoration-color: #008000\">be questionable, as LLMs may produce formatting errors and occasionally refuse to follow instructions. </span>\n",
       "<span style=\"color: #008000; text-decoration-color: #008000\">Consequently, much of the agent demo code focuses on parsing the outputs generated by the model to ensure coherent </span>\n",
       "<span style=\"color: #008000; text-decoration-color: #008000\">and relevant responses. Overall, NLP facilitates the functioning of LLMs in problem-solving and task execution </span>\n",
       "<span style=\"color: #008000; text-decoration-color: #008000\">within autonomous agents.\\n\\n\\nQuestion: What are the key hardware and software components required to build an </span>\n",
       "<span style=\"color: #008000; text-decoration-color: #008000\">autonomous agent system using LLM?  \\nAnswer: The context provided does not specifically enumerate the key hardware</span>\n",
       "<span style=\"color: #008000; text-decoration-color: #008000\">components required to build an autonomous agent system using LLM. However, it highlights several software </span>\n",
       "<span style=\"color: #008000; text-decoration-color: #008000\">components crucial for the system\\'s functionality:\\n\\n1. **LLM (Large Language Model)**: Serves as the core </span>\n",
       "<span style=\"color: #008000; text-decoration-color: #008000\">controller or \"brain\" of the autonomous agent.\\n\\n2. **Planning Component**: Enables the agent to break down </span>\n",
       "<span style=\"color: #008000; text-decoration-color: #008000\">complicated tasks into smaller, manageable subgoals.\\n\\n3. **Task Decomposition**: Utilizes techniques like Chain </span>\n",
       "<span style=\"color: #008000; text-decoration-color: #008000\">of Thought (CoT) to enhance performance on complex tasks by guiding the model to think step by step.\\n\\n4. </span>\n",
       "<span style=\"color: #008000; text-decoration-color: #008000\">**Reflection and Refinement**: Allows the agent to critique its past actions, learn from mistakes, and improve </span>\n",
       "<span style=\"color: #008000; text-decoration-color: #008000\">future performance.\\n\\n5. **Natural Language Interface**: This connects the LLM with external components, such as </span>\n",
       "<span style=\"color: #008000; text-decoration-color: #008000\">memory and tools, although its reliability is noted to be questionable.\\n\\nIn summary, while the specific hardware </span>\n",
       "<span style=\"color: #008000; text-decoration-color: #008000\">requirements aren\\'t outlined, the essential software components for building an LLM-powered autonomous agent </span>\n",
       "<span style=\"color: #008000; text-decoration-color: #008000\">system include the LLM itself, planning and task decomposition capabilities, reflection mechanisms, and a natural </span>\n",
       "<span style=\"color: #008000; text-decoration-color: #008000\">language interface.\\n\\n\\n'</span>,\n",
       "    <span style=\"color: #008000; text-decoration-color: #008000\">'answer'</span>: <span style=\"color: #008000; text-decoration-color: #008000\">'An LLM-powered autonomous agent system consists of several key components that enable it to function</span>\n",
       "<span style=\"color: #008000; text-decoration-color: #008000\">effectively. These components include:\\n\\n1. **Large Language Model (LLM)**: The core \"brain\" of the system, </span>\n",
       "<span style=\"color: #008000; text-decoration-color: #008000\">responsible for understanding and generating human-like text. It serves as the primary controller for the </span>\n",
       "<span style=\"color: #008000; text-decoration-color: #008000\">agent.\\n\\n2. **Planning Component**: This facilitates the breakdown of complex tasks into smaller, manageable </span>\n",
       "<span style=\"color: #008000; text-decoration-color: #008000\">subgoals, enabling efficient task handling.\\n\\n3. **Task Decomposition**: Techniques such as Chain of Thought (CoT)</span>\n",
       "<span style=\"color: #008000; text-decoration-color: #008000\">are employed to improve performance on intricate tasks by guiding the model to think step by step.\\n\\n4. </span>\n",
       "<span style=\"color: #008000; text-decoration-color: #008000\">**Reflection and Refinement Mechanism**: This allows the agent to critique its past actions, learn from mistakes, </span>\n",
       "<span style=\"color: #008000; text-decoration-color: #008000\">and enhance its future performance through iterative self-improvement.\\n\\n5. **Natural Language Interface**: </span>\n",
       "<span style=\"color: #008000; text-decoration-color: #008000\">Serving as the connection between the LLM and external components (such as memory and tools), this interface </span>\n",
       "<span style=\"color: #008000; text-decoration-color: #008000\">enables effective communication. Although vital, its reliability can be problematic, leading to occasional </span>\n",
       "<span style=\"color: #008000; text-decoration-color: #008000\">formatting errors and instruction refusals.\\n\\nThese components work in tandem to allow the LLM-powered autonomous </span>\n",
       "<span style=\"color: #008000; text-decoration-color: #008000\">agent to perform a variety of tasks, making it a sophisticated problem-solving tool.'</span>\n",
       "<span style=\"font-weight: bold\">}</span>\n",
       "</pre>\n"
      ],
      "text/plain": [
       "\u001b[1m{\u001b[0m\n",
       "    \u001b[32m'question'\u001b[0m: \u001b[32m'What are the main components of an LLM-powered autonomous agent system?'\u001b[0m,\n",
       "    \u001b[32m'generated_sub_questions'\u001b[0m: \u001b[1m[\u001b[0m\n",
       "        \u001b[32m'What is a large language model \u001b[0m\u001b[32m(\u001b[0m\u001b[32mLLM\u001b[0m\u001b[32m)\u001b[0m\u001b[32m and how does it function?'\u001b[0m,\n",
       "        \u001b[32m'What role does natural language processing \u001b[0m\u001b[32m(\u001b[0m\u001b[32mNLP\u001b[0m\u001b[32m)\u001b[0m\u001b[32m play in an LLM-powered system?'\u001b[0m,\n",
       "        \u001b[32m'What are the key hardware and software components required to build an autonomous agent system using LLM?'\u001b[0m\n",
       "    \u001b[1m]\u001b[0m,\n",
       "    \u001b[32m'qa_pairs'\u001b[0m: \u001b[1m[\u001b[0m\u001b[1m{\u001b[0m\u001b[33m...\u001b[0m\u001b[1m}\u001b[0m, \u001b[1m{\u001b[0m\u001b[33m...\u001b[0m\u001b[1m}\u001b[0m, \u001b[1m{\u001b[0m\u001b[33m...\u001b[0m\u001b[1m}\u001b[0m\u001b[1m]\u001b[0m,\n",
       "    \u001b[32m'context'\u001b[0m: \u001b[32m'Question: What is a large language model \u001b[0m\u001b[32m(\u001b[0m\u001b[32mLLM\u001b[0m\u001b[32m)\u001b[0m\u001b[32m and how does it function?  \\nAnswer: A large \u001b[0m\n",
       "\u001b[32mlanguage model \u001b[0m\u001b[32m(\u001b[0m\u001b[32mLLM\u001b[0m\u001b[32m)\u001b[0m\u001b[32m is an advanced AI system designed to understand and generate human-like text. It serves as a \u001b[0m\n",
       "\u001b[32mpowerful general problem solver, capable of performing a wide range of tasks beyond writing, such as coding and \u001b[0m\n",
       "\u001b[32mvarious forms of communication. \\n\\nIn the context of LLM-powered autonomous agents, the LLM functions as the \u001b[0m\n",
       "\u001b[32m\"brain\" of the system, interacting with several key components:\\n\\n1. **Planning**: The LLM helps break down large \u001b[0m\n",
       "\u001b[32mtasks into smaller, manageable subgoals, facilitating the efficient handling of complex tasks.\\n\\n2. **Reflection \u001b[0m\n",
       "\u001b[32mand Refinement**: The LLM can engage in self-criticism and reflection over past actions, allowing it to learn from \u001b[0m\n",
       "\u001b[32mmistakes and refine its approaches to improve future outputs.\\n\\n3. **Response Generation**: After executing tasks,\u001b[0m\n",
       "\u001b[32mthe LLM summarizes results and communicates them to users, acting as a bridge between the operational processes and\u001b[0m\n",
       "\u001b[32mthe user interface.\\n\\nHowever, LLMs also face challenges, such as the need for efficiency improvements, managing \u001b[0m\n",
       "\u001b[32mlengthy context windows for complex tasks, and ensuring the stability of outputs. Their reliability as a natural \u001b[0m\n",
       "\u001b[32mlanguage interface can be questioned due to potential formatting errors and unpredictable behavior.\\n\\n\\nQuestion: \u001b[0m\n",
       "\u001b[32mWhat role does natural language processing \u001b[0m\u001b[32m(\u001b[0m\u001b[32mNLP\u001b[0m\u001b[32m)\u001b[0m\u001b[32m play in an LLM-powered system?  \\nAnswer: Natural language \u001b[0m\n",
       "\u001b[32mprocessing \u001b[0m\u001b[32m(\u001b[0m\u001b[32mNLP\u001b[0m\u001b[32m)\u001b[0m\u001b[32m plays a crucial role in an LLM-powered system by serving as the interface between large language \u001b[0m\n",
       "\u001b[32mmodels \u001b[0m\u001b[32m(\u001b[0m\u001b[32mLLMs\u001b[0m\u001b[32m)\u001b[0m\u001b[32m and external components, such as memory and tools. It enables the system to understand and process \u001b[0m\n",
       "\u001b[32mhuman language, allowing for effective communication and interaction. However, the reliability of NLP outputs can \u001b[0m\n",
       "\u001b[32mbe questionable, as LLMs may produce formatting errors and occasionally refuse to follow instructions. \u001b[0m\n",
       "\u001b[32mConsequently, much of the agent demo code focuses on parsing the outputs generated by the model to ensure coherent \u001b[0m\n",
       "\u001b[32mand relevant responses. Overall, NLP facilitates the functioning of LLMs in problem-solving and task execution \u001b[0m\n",
       "\u001b[32mwithin autonomous agents.\\n\\n\\nQuestion: What are the key hardware and software components required to build an \u001b[0m\n",
       "\u001b[32mautonomous agent system using LLM?  \\nAnswer: The context provided does not specifically enumerate the key hardware\u001b[0m\n",
       "\u001b[32mcomponents required to build an autonomous agent system using LLM. However, it highlights several software \u001b[0m\n",
       "\u001b[32mcomponents crucial for the system\\'s functionality:\\n\\n1. **LLM \u001b[0m\u001b[32m(\u001b[0m\u001b[32mLarge Language Model\u001b[0m\u001b[32m)\u001b[0m\u001b[32m**: Serves as the core \u001b[0m\n",
       "\u001b[32mcontroller or \"brain\" of the autonomous agent.\\n\\n2. **Planning Component**: Enables the agent to break down \u001b[0m\n",
       "\u001b[32mcomplicated tasks into smaller, manageable subgoals.\\n\\n3. **Task Decomposition**: Utilizes techniques like Chain \u001b[0m\n",
       "\u001b[32mof Thought \u001b[0m\u001b[32m(\u001b[0m\u001b[32mCoT\u001b[0m\u001b[32m)\u001b[0m\u001b[32m to enhance performance on complex tasks by guiding the model to think step by step.\\n\\n4. \u001b[0m\n",
       "\u001b[32m**Reflection and Refinement**: Allows the agent to critique its past actions, learn from mistakes, and improve \u001b[0m\n",
       "\u001b[32mfuture performance.\\n\\n5. **Natural Language Interface**: This connects the LLM with external components, such as \u001b[0m\n",
       "\u001b[32mmemory and tools, although its reliability is noted to be questionable.\\n\\nIn summary, while the specific hardware \u001b[0m\n",
       "\u001b[32mrequirements aren\\'t outlined, the essential software components for building an LLM-powered autonomous agent \u001b[0m\n",
       "\u001b[32msystem include the LLM itself, planning and task decomposition capabilities, reflection mechanisms, and a natural \u001b[0m\n",
       "\u001b[32mlanguage interface.\\n\\n\\n'\u001b[0m,\n",
       "    \u001b[32m'answer'\u001b[0m: \u001b[32m'An LLM-powered autonomous agent system consists of several key components that enable it to function\u001b[0m\n",
       "\u001b[32meffectively. These components include:\\n\\n1. **Large Language Model \u001b[0m\u001b[32m(\u001b[0m\u001b[32mLLM\u001b[0m\u001b[32m)\u001b[0m\u001b[32m**: The core \"brain\" of the system, \u001b[0m\n",
       "\u001b[32mresponsible for understanding and generating human-like text. It serves as the primary controller for the \u001b[0m\n",
       "\u001b[32magent.\\n\\n2. **Planning Component**: This facilitates the breakdown of complex tasks into smaller, manageable \u001b[0m\n",
       "\u001b[32msubgoals, enabling efficient task handling.\\n\\n3. **Task Decomposition**: Techniques such as Chain of Thought \u001b[0m\u001b[32m(\u001b[0m\u001b[32mCoT\u001b[0m\u001b[32m)\u001b[0m\n",
       "\u001b[32mare employed to improve performance on intricate tasks by guiding the model to think step by step.\\n\\n4. \u001b[0m\n",
       "\u001b[32m**Reflection and Refinement Mechanism**: This allows the agent to critique its past actions, learn from mistakes, \u001b[0m\n",
       "\u001b[32mand enhance its future performance through iterative self-improvement.\\n\\n5. **Natural Language Interface**: \u001b[0m\n",
       "\u001b[32mServing as the connection between the LLM and external components \u001b[0m\u001b[32m(\u001b[0m\u001b[32msuch as memory and tools\u001b[0m\u001b[32m)\u001b[0m\u001b[32m, this interface \u001b[0m\n",
       "\u001b[32menables effective communication. Although vital, its reliability can be problematic, leading to occasional \u001b[0m\n",
       "\u001b[32mformatting errors and instruction refusals.\\n\\nThese components work in tandem to allow the LLM-powered autonomous \u001b[0m\n",
       "\u001b[32magent to perform a variety of tasks, making it a sophisticated problem-solving tool.'\u001b[0m\n",
       "\u001b[1m}\u001b[0m\n"
      ]
     },
     "metadata": {},
     "output_type": "display_data"
    },
    {
     "data": {
      "text/html": [
       "<pre style=\"white-space:pre;overflow-x:auto;line-height:normal;font-family:Menlo,'DejaVu Sans Mono',consolas,'Courier New',monospace\">An LLM-powered autonomous agent system consists of several key components that enable it to function effectively.  \n",
       "These components include:                                                                                          \n",
       "\n",
       "<span style=\"color: #808000; text-decoration-color: #808000; font-weight: bold\"> 1 </span><span style=\"font-weight: bold\">Large Language Model (LLM)</span>: The core \"brain\" of the system, responsible for understanding and generating        \n",
       "<span style=\"color: #808000; text-decoration-color: #808000; font-weight: bold\">   </span>human-like text. It serves as the primary controller for the agent.                                             \n",
       "<span style=\"color: #808000; text-decoration-color: #808000; font-weight: bold\"> 2 </span><span style=\"font-weight: bold\">Planning Component</span>: This facilitates the breakdown of complex tasks into smaller, manageable subgoals, enabling \n",
       "<span style=\"color: #808000; text-decoration-color: #808000; font-weight: bold\">   </span>efficient task handling.                                                                                        \n",
       "<span style=\"color: #808000; text-decoration-color: #808000; font-weight: bold\"> 3 </span><span style=\"font-weight: bold\">Task Decomposition</span>: Techniques such as Chain of Thought (CoT) are employed to improve performance on intricate  \n",
       "<span style=\"color: #808000; text-decoration-color: #808000; font-weight: bold\">   </span>tasks by guiding the model to think step by step.                                                               \n",
       "<span style=\"color: #808000; text-decoration-color: #808000; font-weight: bold\"> 4 </span><span style=\"font-weight: bold\">Reflection and Refinement Mechanism</span>: This allows the agent to critique its past actions, learn from mistakes,   \n",
       "<span style=\"color: #808000; text-decoration-color: #808000; font-weight: bold\">   </span>and enhance its future performance through iterative self-improvement.                                          \n",
       "<span style=\"color: #808000; text-decoration-color: #808000; font-weight: bold\"> 5 </span><span style=\"font-weight: bold\">Natural Language Interface</span>: Serving as the connection between the LLM and external components (such as memory   \n",
       "<span style=\"color: #808000; text-decoration-color: #808000; font-weight: bold\">   </span>and tools), this interface enables effective communication. Although vital, its reliability can be problematic, \n",
       "<span style=\"color: #808000; text-decoration-color: #808000; font-weight: bold\">   </span>leading to occasional formatting errors and instruction refusals.                                               \n",
       "\n",
       "These components work in tandem to allow the LLM-powered autonomous agent to perform a variety of tasks, making it \n",
       "a sophisticated problem-solving tool.                                                                              \n",
       "</pre>\n"
      ],
      "text/plain": [
       "An LLM-powered autonomous agent system consists of several key components that enable it to function effectively.  \n",
       "These components include:                                                                                          \n",
       "\n",
       "\u001b[1;33m 1 \u001b[0m\u001b[1mLarge Language Model (LLM)\u001b[0m: The core \"brain\" of the system, responsible for understanding and generating        \n",
       "\u001b[1;33m   \u001b[0mhuman-like text. It serves as the primary controller for the agent.                                             \n",
       "\u001b[1;33m 2 \u001b[0m\u001b[1mPlanning Component\u001b[0m: This facilitates the breakdown of complex tasks into smaller, manageable subgoals, enabling \n",
       "\u001b[1;33m   \u001b[0mefficient task handling.                                                                                        \n",
       "\u001b[1;33m 3 \u001b[0m\u001b[1mTask Decomposition\u001b[0m: Techniques such as Chain of Thought (CoT) are employed to improve performance on intricate  \n",
       "\u001b[1;33m   \u001b[0mtasks by guiding the model to think step by step.                                                               \n",
       "\u001b[1;33m 4 \u001b[0m\u001b[1mReflection and Refinement Mechanism\u001b[0m: This allows the agent to critique its past actions, learn from mistakes,   \n",
       "\u001b[1;33m   \u001b[0mand enhance its future performance through iterative self-improvement.                                          \n",
       "\u001b[1;33m 5 \u001b[0m\u001b[1mNatural Language Interface\u001b[0m: Serving as the connection between the LLM and external components (such as memory   \n",
       "\u001b[1;33m   \u001b[0mand tools), this interface enables effective communication. Although vital, its reliability can be problematic, \n",
       "\u001b[1;33m   \u001b[0mleading to occasional formatting errors and instruction refusals.                                               \n",
       "\n",
       "These components work in tandem to allow the LLM-powered autonomous agent to perform a variety of tasks, making it \n",
       "a sophisticated problem-solving tool.                                                                              \n"
      ]
     },
     "metadata": {},
     "output_type": "display_data"
    }
   ],
   "source": [
    "print(query)\n",
    "\n",
    "response = graph.invoke({\"question\": query})\n",
    "\n",
    "display(Pretty(response, max_depth=2))\n",
    "display(Markdown(response[\"answer\"]))"
   ]
  },
  {
   "cell_type": "code",
   "execution_count": 25,
   "id": "596b94ce-08db-4b88-aee1-75dc9da975f1",
   "metadata": {},
   "outputs": [
    {
     "name": "stdout",
     "output_type": "stream",
     "text": [
      "What are the main components of an LLM-powered autonomous agent system?\n"
     ]
    },
    {
     "data": {
      "text/html": [
       "<pre style=\"white-space:pre;overflow-x:auto;line-height:normal;font-family:Menlo,'DejaVu Sans Mono',consolas,'Courier New',monospace\"><span style=\"font-weight: bold\">{</span>\n",
       "    <span style=\"color: #008000; text-decoration-color: #008000\">'question'</span>: <span style=\"color: #008000; text-decoration-color: #008000\">'What are the main components of an LLM-powered autonomous agent system?'</span>,\n",
       "    <span style=\"color: #008000; text-decoration-color: #008000\">'generated_sub_questions'</span>: <span style=\"font-weight: bold\">[</span>\n",
       "        <span style=\"color: #008000; text-decoration-color: #008000\">'What is an LLM (Large Language Model) and how does it function?'</span>,\n",
       "        <span style=\"color: #008000; text-decoration-color: #008000\">'What are the roles of input processing in an LLM-powered autonomous agent system?'</span>,\n",
       "        <span style=\"color: #008000; text-decoration-color: #008000\">'How does an LLM integrate with other components in an autonomous agent system?'</span>,\n",
       "        <span style=\"color: #008000; text-decoration-color: #008000\">'What are the necessary data sources for training an LLM in an autonomous agent?'</span>,\n",
       "        <span style=\"color: #008000; text-decoration-color: #008000\">'What are the challenges faced when implementing LLMs in autonomous systems?'</span>\n",
       "    <span style=\"font-weight: bold\">]</span>,\n",
       "    <span style=\"color: #008000; text-decoration-color: #008000\">'qa_pairs'</span>: <span style=\"font-weight: bold\">[{</span><span style=\"color: #808000; text-decoration-color: #808000\">...</span><span style=\"font-weight: bold\">}</span>, <span style=\"font-weight: bold\">{</span><span style=\"color: #808000; text-decoration-color: #808000\">...</span><span style=\"font-weight: bold\">}</span>, <span style=\"font-weight: bold\">{</span><span style=\"color: #808000; text-decoration-color: #808000\">...</span><span style=\"font-weight: bold\">}</span>, <span style=\"font-weight: bold\">{</span><span style=\"color: #808000; text-decoration-color: #808000\">...</span><span style=\"font-weight: bold\">}</span>, <span style=\"font-weight: bold\">{</span><span style=\"color: #808000; text-decoration-color: #808000\">...</span><span style=\"font-weight: bold\">}]</span>,\n",
       "    <span style=\"color: #008000; text-decoration-color: #008000\">'context'</span>: <span style=\"color: #008000; text-decoration-color: #008000\">'Question: What is an LLM (Large Language Model) and how does it function?  \\nAnswer: A Large </span>\n",
       "<span style=\"color: #008000; text-decoration-color: #008000\">Language Model (LLM) is a type of artificial intelligence model designed to understand and generate human language.</span>\n",
       "<span style=\"color: #008000; text-decoration-color: #008000\">It functions by using vast amounts of text data to learn the patterns, structures, and semantics of language, </span>\n",
       "<span style=\"color: #008000; text-decoration-color: #008000\">enabling it to perform various language-related tasks such as translation, summarization, question-answering, and </span>\n",
       "<span style=\"color: #008000; text-decoration-color: #008000\">more. \\n\\nIn the context of LLM-powered autonomous agents, the LLM serves as the core controller or \"brain\" of the </span>\n",
       "<span style=\"color: #008000; text-decoration-color: #008000\">agent. It operates by leveraging several key components, including:\\n\\n1. **Planning**: The LLM can break down </span>\n",
       "<span style=\"color: #008000; text-decoration-color: #008000\">complex tasks into smaller, manageable subgoals, which helps in handling and executing these tasks more </span>\n",
       "<span style=\"color: #008000; text-decoration-color: #008000\">efficiently.\\n\\n2. **Reflection and Refinement**: The LLM is capable of self-assessment, allowing it to critically </span>\n",
       "<span style=\"color: #008000; text-decoration-color: #008000\">analyze its past actions, learn from mistakes, and make improvements to enhance the quality of its outputs.\\n\\n3. </span>\n",
       "<span style=\"color: #008000; text-decoration-color: #008000\">**Response Generation**: After executing tasks, the LLM can summarize the results and communicate them back to the </span>\n",
       "<span style=\"color: #008000; text-decoration-color: #008000\">user, providing a coherent output that captures the essential information.\\n\\nOverall, LLMs are powerful tools for </span>\n",
       "<span style=\"color: #008000; text-decoration-color: #008000\">general problem-solving, moving beyond simple text generation to acting as intelligent agents capable of performing</span>\n",
       "<span style=\"color: #008000; text-decoration-color: #008000\">tasks autonomously.\\n\\n\\nQuestion: What are the roles of input processing in an LLM-powered autonomous agent </span>\n",
       "<span style=\"color: #008000; text-decoration-color: #008000\">system?  \\nAnswer: The context provided does not explicitly detail the roles of input processing in an LLM-powered </span>\n",
       "<span style=\"color: #008000; text-decoration-color: #008000\">autonomous agent system. However, we can infer its importance based on the information mentioned:\\n\\n1. **Natural </span>\n",
       "<span style=\"color: #008000; text-decoration-color: #008000\">Language Interface**: The LLM-powered agents rely on natural language as the interface between the LLMs and </span>\n",
       "<span style=\"color: #008000; text-decoration-color: #008000\">external components. This suggests that input processing must involve understanding and interpreting user inputs in</span>\n",
       "<span style=\"color: #008000; text-decoration-color: #008000\">natural language to ensure correct interactions with the agent.\\n\\n2. **Formatting Parsing**: Given that there are </span>\n",
       "<span style=\"color: #008000; text-decoration-color: #008000\">reliability issues associated with the natural language interface, much of the agent demo code focuses on parsing </span>\n",
       "<span style=\"color: #008000; text-decoration-color: #008000\">model output. This indicates that input processing may also involve effectively formatting and structuring inputs </span>\n",
       "<span style=\"color: #008000; text-decoration-color: #008000\">to avoid errors and misinterpretations by the LLM.\\n\\n3. **Task Decomposition**: Input processing may be vital for </span>\n",
       "<span style=\"color: #008000; text-decoration-color: #008000\">task decomposition, where the agent breaks down complex tasks into simpler subgoals. This requires the agent to </span>\n",
       "<span style=\"color: #008000; text-decoration-color: #008000\">process inputs carefully to identify the essential components that can be tackled step-by-step.\\n\\nOverall, input </span>\n",
       "<span style=\"color: #008000; text-decoration-color: #008000\">processing in an LLM-powered autonomous agent system likely facilitates comprehension of user requests, ensures </span>\n",
       "<span style=\"color: #008000; text-decoration-color: #008000\">accurate communication, and aids in the breakdown of tasks for effective problem-solving.\\n\\n\\nQuestion: How does </span>\n",
       "<span style=\"color: #008000; text-decoration-color: #008000\">an LLM integrate with other components in an autonomous agent system?  \\nAnswer: In an LLM-powered autonomous agent</span>\n",
       "<span style=\"color: #008000; text-decoration-color: #008000\">system, the LLM functions as the agent’s brain and integrates with several key components to enhance its </span>\n",
       "<span style=\"color: #008000; text-decoration-color: #008000\">functionality. These components include:\\n\\n1. **Planning**: The LLM aids in planning by breaking down complex </span>\n",
       "<span style=\"color: #008000; text-decoration-color: #008000\">tasks into smaller, manageable subgoals, which allows for efficient handling of intricate tasks.\\n\\n2. **Subgoal </span>\n",
       "<span style=\"color: #008000; text-decoration-color: #008000\">and Decomposition**: The agent utilizes techniques like \"Chain of Thought\" (CoT), which involves thinking </span>\n",
       "<span style=\"color: #008000; text-decoration-color: #008000\">step-by-step to decompose hard tasks into simpler steps. This approach facilitates better organization and </span>\n",
       "<span style=\"color: #008000; text-decoration-color: #008000\">understanding of the task at hand.\\n\\n3. **Reflection and Refinement**: The LLM is capable of self-criticism and </span>\n",
       "<span style=\"color: #008000; text-decoration-color: #008000\">reflection on its past actions. It learns from its mistakes, allowing it to refine its approach for future steps, </span>\n",
       "<span style=\"color: #008000; text-decoration-color: #008000\">ultimately improving the quality of the results achieved.\\n\\n4. **Natural Language Interface**: The current agent </span>\n",
       "<span style=\"color: #008000; text-decoration-color: #008000\">systems often rely on natural language as the interface between the LLM and external components like memory and </span>\n",
       "<span style=\"color: #008000; text-decoration-color: #008000\">tools. However, there are concerns regarding the reliability of the LLM’s outputs, as it may produce formatting </span>\n",
       "<span style=\"color: #008000; text-decoration-color: #008000\">errors or display unpredictable behavior.\\n\\nOverall, the integration of the LLM with these components enables a </span>\n",
       "<span style=\"color: #008000; text-decoration-color: #008000\">more coherent and effective autonomous agent system capable of tackling various tasks.\\n\\n\\nQuestion: What are the </span>\n",
       "<span style=\"color: #008000; text-decoration-color: #008000\">necessary data sources for training an LLM in an autonomous agent?  \\nAnswer: The provided context does not </span>\n",
       "<span style=\"color: #008000; text-decoration-color: #008000\">explicitly list the necessary data sources for training a large language model (LLM) in an autonomous agent. </span>\n",
       "<span style=\"color: #008000; text-decoration-color: #008000\">However, it implies that relevant data sources for training LLMs might include diverse and extensive datasets that </span>\n",
       "<span style=\"color: #008000; text-decoration-color: #008000\">encompass natural language texts, programming code, task descriptions, and examples of problem-solving scenarios. </span>\n",
       "<span style=\"color: #008000; text-decoration-color: #008000\">These sources would enable the LLM to effectively understand and generate language, handle complex tasks, and learn</span>\n",
       "<span style=\"color: #008000; text-decoration-color: #008000\">from both successes and mistakes. It\\'s also important for the training data to reflect a wide range of human </span>\n",
       "<span style=\"color: #008000; text-decoration-color: #008000\">knowledge and language use cases to enhance the agent\\'s problem-solving abilities and reliability.\\n\\n\\nQuestion: </span>\n",
       "<span style=\"color: #008000; text-decoration-color: #008000\">What are the challenges faced when implementing LLMs in autonomous systems?  \\nAnswer: The challenges faced when </span>\n",
       "<span style=\"color: #008000; text-decoration-color: #008000\">implementing LLMs in autonomous systems include:\\n\\n1. **Efficiency Improvement**: There is a need to enhance the </span>\n",
       "<span style=\"color: #008000; text-decoration-color: #008000\">efficiency of the process, as both LLM inference rounds and interactions with other models can slow down </span>\n",
       "<span style=\"color: #008000; text-decoration-color: #008000\">operations.\\n\\n2. **Long Context Window Requirement**: LLMs rely on a long context window to effectively </span>\n",
       "<span style=\"color: #008000; text-decoration-color: #008000\">communicate and manage complicated task content.\\n\\n3. **Stability Improvement**: There is a need for improvements </span>\n",
       "<span style=\"color: #008000; text-decoration-color: #008000\">in the stability of LLM outputs and the services provided by external models.\\n\\n\\n'</span>,\n",
       "    <span style=\"color: #008000; text-decoration-color: #008000\">'answer'</span>: <span style=\"color: #008000; text-decoration-color: #008000\">'An LLM-powered autonomous agent system comprises several key components that work together to enable</span>\n",
       "<span style=\"color: #008000; text-decoration-color: #008000\">effective operation and task management. The main components include:\\n\\n1. **Large Language Model (LLM)**: The </span>\n",
       "<span style=\"color: #008000; text-decoration-color: #008000\">core of the system, the LLM serves as the \"brain,\" responsible for understanding human language, generating </span>\n",
       "<span style=\"color: #008000; text-decoration-color: #008000\">responses, and executing various language-related tasks. It provides the capacity to process and generate natural </span>\n",
       "<span style=\"color: #008000; text-decoration-color: #008000\">language, enabling seamless interaction with users.\\n\\n2. **Planning and Task Decomposition**: The LLM facilitates </span>\n",
       "<span style=\"color: #008000; text-decoration-color: #008000\">planning by breaking down complex tasks into smaller, manageable subgoals. Techniques like \"Chain of Thought\" (CoT)</span>\n",
       "<span style=\"color: #008000; text-decoration-color: #008000\">are employed to simplify tasks by organizing and addressing them step-by-step, improving task execution.\\n\\n3. </span>\n",
       "<span style=\"color: #008000; text-decoration-color: #008000\">**Input Processing**: This component is crucial for interpreting user queries and interfacing with the LLM </span>\n",
       "<span style=\"color: #008000; text-decoration-color: #008000\">effectively. It involves understanding natural language inputs, formatting data appropriately, and decomposing </span>\n",
       "<span style=\"color: #008000; text-decoration-color: #008000\">tasks into simpler steps. Reliable input processing ensures accurate communication and enhances overall system </span>\n",
       "<span style=\"color: #008000; text-decoration-color: #008000\">performance.\\n\\n4. **Reflection and Refinement**: The LLM has the ability to engage in self-reflection, allowing it</span>\n",
       "<span style=\"color: #008000; text-decoration-color: #008000\">to analyze previous actions, learn from mistakes, and refine its approaches for future tasks. This capability helps</span>\n",
       "<span style=\"color: #008000; text-decoration-color: #008000\">to improve the quality and reliability of the agent\\'s outputs over time.\\n\\n5. **Natural Language Interface**: The</span>\n",
       "<span style=\"color: #008000; text-decoration-color: #008000\">autonomy of the system relies on a natural language interface that connects the LLM with external components, </span>\n",
       "<span style=\"color: #008000; text-decoration-color: #008000\">tools, and memory systems. This interface allows users to interact with the agent naturally, although it may </span>\n",
       "<span style=\"color: #008000; text-decoration-color: #008000\">present challenges related to accuracy and the reliability of outputs.\\n\\n6. **Integration with External </span>\n",
       "<span style=\"color: #008000; text-decoration-color: #008000\">Components**: The LLM interacts with various external tools and systems, which may include databases, APIs, or </span>\n",
       "<span style=\"color: #008000; text-decoration-color: #008000\">other machine learning models. This integration enhances the agent’s ability to perform diverse tasks and access </span>\n",
       "<span style=\"color: #008000; text-decoration-color: #008000\">additional resources.\\n\\nOverall, these components collaboratively enable an LLM-powered autonomous agent to </span>\n",
       "<span style=\"color: #008000; text-decoration-color: #008000\">function as a sophisticated problem-solving entity capable of handling diverse tasks and engaging with users </span>\n",
       "<span style=\"color: #008000; text-decoration-color: #008000\">effectively.'</span>\n",
       "<span style=\"font-weight: bold\">}</span>\n",
       "</pre>\n"
      ],
      "text/plain": [
       "\u001b[1m{\u001b[0m\n",
       "    \u001b[32m'question'\u001b[0m: \u001b[32m'What are the main components of an LLM-powered autonomous agent system?'\u001b[0m,\n",
       "    \u001b[32m'generated_sub_questions'\u001b[0m: \u001b[1m[\u001b[0m\n",
       "        \u001b[32m'What is an LLM \u001b[0m\u001b[32m(\u001b[0m\u001b[32mLarge Language Model\u001b[0m\u001b[32m)\u001b[0m\u001b[32m and how does it function?'\u001b[0m,\n",
       "        \u001b[32m'What are the roles of input processing in an LLM-powered autonomous agent system?'\u001b[0m,\n",
       "        \u001b[32m'How does an LLM integrate with other components in an autonomous agent system?'\u001b[0m,\n",
       "        \u001b[32m'What are the necessary data sources for training an LLM in an autonomous agent?'\u001b[0m,\n",
       "        \u001b[32m'What are the challenges faced when implementing LLMs in autonomous systems?'\u001b[0m\n",
       "    \u001b[1m]\u001b[0m,\n",
       "    \u001b[32m'qa_pairs'\u001b[0m: \u001b[1m[\u001b[0m\u001b[1m{\u001b[0m\u001b[33m...\u001b[0m\u001b[1m}\u001b[0m, \u001b[1m{\u001b[0m\u001b[33m...\u001b[0m\u001b[1m}\u001b[0m, \u001b[1m{\u001b[0m\u001b[33m...\u001b[0m\u001b[1m}\u001b[0m, \u001b[1m{\u001b[0m\u001b[33m...\u001b[0m\u001b[1m}\u001b[0m, \u001b[1m{\u001b[0m\u001b[33m...\u001b[0m\u001b[1m}\u001b[0m\u001b[1m]\u001b[0m,\n",
       "    \u001b[32m'context'\u001b[0m: \u001b[32m'Question: What is an LLM \u001b[0m\u001b[32m(\u001b[0m\u001b[32mLarge Language Model\u001b[0m\u001b[32m)\u001b[0m\u001b[32m and how does it function?  \\nAnswer: A Large \u001b[0m\n",
       "\u001b[32mLanguage Model \u001b[0m\u001b[32m(\u001b[0m\u001b[32mLLM\u001b[0m\u001b[32m)\u001b[0m\u001b[32m is a type of artificial intelligence model designed to understand and generate human language.\u001b[0m\n",
       "\u001b[32mIt functions by using vast amounts of text data to learn the patterns, structures, and semantics of language, \u001b[0m\n",
       "\u001b[32menabling it to perform various language-related tasks such as translation, summarization, question-answering, and \u001b[0m\n",
       "\u001b[32mmore. \\n\\nIn the context of LLM-powered autonomous agents, the LLM serves as the core controller or \"brain\" of the \u001b[0m\n",
       "\u001b[32magent. It operates by leveraging several key components, including:\\n\\n1. **Planning**: The LLM can break down \u001b[0m\n",
       "\u001b[32mcomplex tasks into smaller, manageable subgoals, which helps in handling and executing these tasks more \u001b[0m\n",
       "\u001b[32mefficiently.\\n\\n2. **Reflection and Refinement**: The LLM is capable of self-assessment, allowing it to critically \u001b[0m\n",
       "\u001b[32manalyze its past actions, learn from mistakes, and make improvements to enhance the quality of its outputs.\\n\\n3. \u001b[0m\n",
       "\u001b[32m**Response Generation**: After executing tasks, the LLM can summarize the results and communicate them back to the \u001b[0m\n",
       "\u001b[32muser, providing a coherent output that captures the essential information.\\n\\nOverall, LLMs are powerful tools for \u001b[0m\n",
       "\u001b[32mgeneral problem-solving, moving beyond simple text generation to acting as intelligent agents capable of performing\u001b[0m\n",
       "\u001b[32mtasks autonomously.\\n\\n\\nQuestion: What are the roles of input processing in an LLM-powered autonomous agent \u001b[0m\n",
       "\u001b[32msystem?  \\nAnswer: The context provided does not explicitly detail the roles of input processing in an LLM-powered \u001b[0m\n",
       "\u001b[32mautonomous agent system. However, we can infer its importance based on the information mentioned:\\n\\n1. **Natural \u001b[0m\n",
       "\u001b[32mLanguage Interface**: The LLM-powered agents rely on natural language as the interface between the LLMs and \u001b[0m\n",
       "\u001b[32mexternal components. This suggests that input processing must involve understanding and interpreting user inputs in\u001b[0m\n",
       "\u001b[32mnatural language to ensure correct interactions with the agent.\\n\\n2. **Formatting Parsing**: Given that there are \u001b[0m\n",
       "\u001b[32mreliability issues associated with the natural language interface, much of the agent demo code focuses on parsing \u001b[0m\n",
       "\u001b[32mmodel output. This indicates that input processing may also involve effectively formatting and structuring inputs \u001b[0m\n",
       "\u001b[32mto avoid errors and misinterpretations by the LLM.\\n\\n3. **Task Decomposition**: Input processing may be vital for \u001b[0m\n",
       "\u001b[32mtask decomposition, where the agent breaks down complex tasks into simpler subgoals. This requires the agent to \u001b[0m\n",
       "\u001b[32mprocess inputs carefully to identify the essential components that can be tackled step-by-step.\\n\\nOverall, input \u001b[0m\n",
       "\u001b[32mprocessing in an LLM-powered autonomous agent system likely facilitates comprehension of user requests, ensures \u001b[0m\n",
       "\u001b[32maccurate communication, and aids in the breakdown of tasks for effective problem-solving.\\n\\n\\nQuestion: How does \u001b[0m\n",
       "\u001b[32man LLM integrate with other components in an autonomous agent system?  \\nAnswer: In an LLM-powered autonomous agent\u001b[0m\n",
       "\u001b[32msystem, the LLM functions as the agent’s brain and integrates with several key components to enhance its \u001b[0m\n",
       "\u001b[32mfunctionality. These components include:\\n\\n1. **Planning**: The LLM aids in planning by breaking down complex \u001b[0m\n",
       "\u001b[32mtasks into smaller, manageable subgoals, which allows for efficient handling of intricate tasks.\\n\\n2. **Subgoal \u001b[0m\n",
       "\u001b[32mand Decomposition**: The agent utilizes techniques like \"Chain of Thought\" \u001b[0m\u001b[32m(\u001b[0m\u001b[32mCoT\u001b[0m\u001b[32m)\u001b[0m\u001b[32m, which involves thinking \u001b[0m\n",
       "\u001b[32mstep-by-step to decompose hard tasks into simpler steps. This approach facilitates better organization and \u001b[0m\n",
       "\u001b[32munderstanding of the task at hand.\\n\\n3. **Reflection and Refinement**: The LLM is capable of self-criticism and \u001b[0m\n",
       "\u001b[32mreflection on its past actions. It learns from its mistakes, allowing it to refine its approach for future steps, \u001b[0m\n",
       "\u001b[32multimately improving the quality of the results achieved.\\n\\n4. **Natural Language Interface**: The current agent \u001b[0m\n",
       "\u001b[32msystems often rely on natural language as the interface between the LLM and external components like memory and \u001b[0m\n",
       "\u001b[32mtools. However, there are concerns regarding the reliability of the LLM’s outputs, as it may produce formatting \u001b[0m\n",
       "\u001b[32merrors or display unpredictable behavior.\\n\\nOverall, the integration of the LLM with these components enables a \u001b[0m\n",
       "\u001b[32mmore coherent and effective autonomous agent system capable of tackling various tasks.\\n\\n\\nQuestion: What are the \u001b[0m\n",
       "\u001b[32mnecessary data sources for training an LLM in an autonomous agent?  \\nAnswer: The provided context does not \u001b[0m\n",
       "\u001b[32mexplicitly list the necessary data sources for training a large language model \u001b[0m\u001b[32m(\u001b[0m\u001b[32mLLM\u001b[0m\u001b[32m)\u001b[0m\u001b[32m in an autonomous agent. \u001b[0m\n",
       "\u001b[32mHowever, it implies that relevant data sources for training LLMs might include diverse and extensive datasets that \u001b[0m\n",
       "\u001b[32mencompass natural language texts, programming code, task descriptions, and examples of problem-solving scenarios. \u001b[0m\n",
       "\u001b[32mThese sources would enable the LLM to effectively understand and generate language, handle complex tasks, and learn\u001b[0m\n",
       "\u001b[32mfrom both successes and mistakes. It\\'s also important for the training data to reflect a wide range of human \u001b[0m\n",
       "\u001b[32mknowledge and language use cases to enhance the agent\\'s problem-solving abilities and reliability.\\n\\n\\nQuestion: \u001b[0m\n",
       "\u001b[32mWhat are the challenges faced when implementing LLMs in autonomous systems?  \\nAnswer: The challenges faced when \u001b[0m\n",
       "\u001b[32mimplementing LLMs in autonomous systems include:\\n\\n1. **Efficiency Improvement**: There is a need to enhance the \u001b[0m\n",
       "\u001b[32mefficiency of the process, as both LLM inference rounds and interactions with other models can slow down \u001b[0m\n",
       "\u001b[32moperations.\\n\\n2. **Long Context Window Requirement**: LLMs rely on a long context window to effectively \u001b[0m\n",
       "\u001b[32mcommunicate and manage complicated task content.\\n\\n3. **Stability Improvement**: There is a need for improvements \u001b[0m\n",
       "\u001b[32min the stability of LLM outputs and the services provided by external models.\\n\\n\\n'\u001b[0m,\n",
       "    \u001b[32m'answer'\u001b[0m: \u001b[32m'An LLM-powered autonomous agent system comprises several key components that work together to enable\u001b[0m\n",
       "\u001b[32meffective operation and task management. The main components include:\\n\\n1. **Large Language Model \u001b[0m\u001b[32m(\u001b[0m\u001b[32mLLM\u001b[0m\u001b[32m)\u001b[0m\u001b[32m**: The \u001b[0m\n",
       "\u001b[32mcore of the system, the LLM serves as the \"brain,\" responsible for understanding human language, generating \u001b[0m\n",
       "\u001b[32mresponses, and executing various language-related tasks. It provides the capacity to process and generate natural \u001b[0m\n",
       "\u001b[32mlanguage, enabling seamless interaction with users.\\n\\n2. **Planning and Task Decomposition**: The LLM facilitates \u001b[0m\n",
       "\u001b[32mplanning by breaking down complex tasks into smaller, manageable subgoals. Techniques like \"Chain of Thought\" \u001b[0m\u001b[32m(\u001b[0m\u001b[32mCoT\u001b[0m\u001b[32m)\u001b[0m\n",
       "\u001b[32mare employed to simplify tasks by organizing and addressing them step-by-step, improving task execution.\\n\\n3. \u001b[0m\n",
       "\u001b[32m**Input Processing**: This component is crucial for interpreting user queries and interfacing with the LLM \u001b[0m\n",
       "\u001b[32meffectively. It involves understanding natural language inputs, formatting data appropriately, and decomposing \u001b[0m\n",
       "\u001b[32mtasks into simpler steps. Reliable input processing ensures accurate communication and enhances overall system \u001b[0m\n",
       "\u001b[32mperformance.\\n\\n4. **Reflection and Refinement**: The LLM has the ability to engage in self-reflection, allowing it\u001b[0m\n",
       "\u001b[32mto analyze previous actions, learn from mistakes, and refine its approaches for future tasks. This capability helps\u001b[0m\n",
       "\u001b[32mto improve the quality and reliability of the agent\\'s outputs over time.\\n\\n5. **Natural Language Interface**: The\u001b[0m\n",
       "\u001b[32mautonomy of the system relies on a natural language interface that connects the LLM with external components, \u001b[0m\n",
       "\u001b[32mtools, and memory systems. This interface allows users to interact with the agent naturally, although it may \u001b[0m\n",
       "\u001b[32mpresent challenges related to accuracy and the reliability of outputs.\\n\\n6. **Integration with External \u001b[0m\n",
       "\u001b[32mComponents**: The LLM interacts with various external tools and systems, which may include databases, APIs, or \u001b[0m\n",
       "\u001b[32mother machine learning models. This integration enhances the agent’s ability to perform diverse tasks and access \u001b[0m\n",
       "\u001b[32madditional resources.\\n\\nOverall, these components collaboratively enable an LLM-powered autonomous agent to \u001b[0m\n",
       "\u001b[32mfunction as a sophisticated problem-solving entity capable of handling diverse tasks and engaging with users \u001b[0m\n",
       "\u001b[32meffectively.'\u001b[0m\n",
       "\u001b[1m}\u001b[0m\n"
      ]
     },
     "metadata": {},
     "output_type": "display_data"
    },
    {
     "data": {
      "text/html": [
       "<pre style=\"white-space:pre;overflow-x:auto;line-height:normal;font-family:Menlo,'DejaVu Sans Mono',consolas,'Courier New',monospace\">An LLM-powered autonomous agent system comprises several key components that work together to enable effective     \n",
       "operation and task management. The main components include:                                                        \n",
       "\n",
       "<span style=\"color: #808000; text-decoration-color: #808000; font-weight: bold\"> 1 </span><span style=\"font-weight: bold\">Large Language Model (LLM)</span>: The core of the system, the LLM serves as the \"brain,\" responsible for understanding\n",
       "<span style=\"color: #808000; text-decoration-color: #808000; font-weight: bold\">   </span>human language, generating responses, and executing various language-related tasks. It provides the capacity to \n",
       "<span style=\"color: #808000; text-decoration-color: #808000; font-weight: bold\">   </span>process and generate natural language, enabling seamless interaction with users.                                \n",
       "<span style=\"color: #808000; text-decoration-color: #808000; font-weight: bold\"> 2 </span><span style=\"font-weight: bold\">Planning and Task Decomposition</span>: The LLM facilitates planning by breaking down complex tasks into smaller,      \n",
       "<span style=\"color: #808000; text-decoration-color: #808000; font-weight: bold\">   </span>manageable subgoals. Techniques like \"Chain of Thought\" (CoT) are employed to simplify tasks by organizing and  \n",
       "<span style=\"color: #808000; text-decoration-color: #808000; font-weight: bold\">   </span>addressing them step-by-step, improving task execution.                                                         \n",
       "<span style=\"color: #808000; text-decoration-color: #808000; font-weight: bold\"> 3 </span><span style=\"font-weight: bold\">Input Processing</span>: This component is crucial for interpreting user queries and interfacing with the LLM          \n",
       "<span style=\"color: #808000; text-decoration-color: #808000; font-weight: bold\">   </span>effectively. It involves understanding natural language inputs, formatting data appropriately, and decomposing  \n",
       "<span style=\"color: #808000; text-decoration-color: #808000; font-weight: bold\">   </span>tasks into simpler steps. Reliable input processing ensures accurate communication and enhances overall system  \n",
       "<span style=\"color: #808000; text-decoration-color: #808000; font-weight: bold\">   </span>performance.                                                                                                    \n",
       "<span style=\"color: #808000; text-decoration-color: #808000; font-weight: bold\"> 4 </span><span style=\"font-weight: bold\">Reflection and Refinement</span>: The LLM has the ability to engage in self-reflection, allowing it to analyze previous\n",
       "<span style=\"color: #808000; text-decoration-color: #808000; font-weight: bold\">   </span>actions, learn from mistakes, and refine its approaches for future tasks. This capability helps to improve the  \n",
       "<span style=\"color: #808000; text-decoration-color: #808000; font-weight: bold\">   </span>quality and reliability of the agent's outputs over time.                                                       \n",
       "<span style=\"color: #808000; text-decoration-color: #808000; font-weight: bold\"> 5 </span><span style=\"font-weight: bold\">Natural Language Interface</span>: The autonomy of the system relies on a natural language interface that connects the \n",
       "<span style=\"color: #808000; text-decoration-color: #808000; font-weight: bold\">   </span>LLM with external components, tools, and memory systems. This interface allows users to interact with the agent \n",
       "<span style=\"color: #808000; text-decoration-color: #808000; font-weight: bold\">   </span>naturally, although it may present challenges related to accuracy and the reliability of outputs.               \n",
       "<span style=\"color: #808000; text-decoration-color: #808000; font-weight: bold\"> 6 </span><span style=\"font-weight: bold\">Integration with External Components</span>: The LLM interacts with various external tools and systems, which may      \n",
       "<span style=\"color: #808000; text-decoration-color: #808000; font-weight: bold\">   </span>include databases, APIs, or other machine learning models. This integration enhances the agent’s ability to     \n",
       "<span style=\"color: #808000; text-decoration-color: #808000; font-weight: bold\">   </span>perform diverse tasks and access additional resources.                                                          \n",
       "\n",
       "Overall, these components collaboratively enable an LLM-powered autonomous agent to function as a sophisticated    \n",
       "problem-solving entity capable of handling diverse tasks and engaging with users effectively.                      \n",
       "</pre>\n"
      ],
      "text/plain": [
       "An LLM-powered autonomous agent system comprises several key components that work together to enable effective     \n",
       "operation and task management. The main components include:                                                        \n",
       "\n",
       "\u001b[1;33m 1 \u001b[0m\u001b[1mLarge Language Model (LLM)\u001b[0m: The core of the system, the LLM serves as the \"brain,\" responsible for understanding\n",
       "\u001b[1;33m   \u001b[0mhuman language, generating responses, and executing various language-related tasks. It provides the capacity to \n",
       "\u001b[1;33m   \u001b[0mprocess and generate natural language, enabling seamless interaction with users.                                \n",
       "\u001b[1;33m 2 \u001b[0m\u001b[1mPlanning and Task Decomposition\u001b[0m: The LLM facilitates planning by breaking down complex tasks into smaller,      \n",
       "\u001b[1;33m   \u001b[0mmanageable subgoals. Techniques like \"Chain of Thought\" (CoT) are employed to simplify tasks by organizing and  \n",
       "\u001b[1;33m   \u001b[0maddressing them step-by-step, improving task execution.                                                         \n",
       "\u001b[1;33m 3 \u001b[0m\u001b[1mInput Processing\u001b[0m: This component is crucial for interpreting user queries and interfacing with the LLM          \n",
       "\u001b[1;33m   \u001b[0meffectively. It involves understanding natural language inputs, formatting data appropriately, and decomposing  \n",
       "\u001b[1;33m   \u001b[0mtasks into simpler steps. Reliable input processing ensures accurate communication and enhances overall system  \n",
       "\u001b[1;33m   \u001b[0mperformance.                                                                                                    \n",
       "\u001b[1;33m 4 \u001b[0m\u001b[1mReflection and Refinement\u001b[0m: The LLM has the ability to engage in self-reflection, allowing it to analyze previous\n",
       "\u001b[1;33m   \u001b[0mactions, learn from mistakes, and refine its approaches for future tasks. This capability helps to improve the  \n",
       "\u001b[1;33m   \u001b[0mquality and reliability of the agent's outputs over time.                                                       \n",
       "\u001b[1;33m 5 \u001b[0m\u001b[1mNatural Language Interface\u001b[0m: The autonomy of the system relies on a natural language interface that connects the \n",
       "\u001b[1;33m   \u001b[0mLLM with external components, tools, and memory systems. This interface allows users to interact with the agent \n",
       "\u001b[1;33m   \u001b[0mnaturally, although it may present challenges related to accuracy and the reliability of outputs.               \n",
       "\u001b[1;33m 6 \u001b[0m\u001b[1mIntegration with External Components\u001b[0m: The LLM interacts with various external tools and systems, which may      \n",
       "\u001b[1;33m   \u001b[0minclude databases, APIs, or other machine learning models. This integration enhances the agent’s ability to     \n",
       "\u001b[1;33m   \u001b[0mperform diverse tasks and access additional resources.                                                          \n",
       "\n",
       "Overall, these components collaboratively enable an LLM-powered autonomous agent to function as a sophisticated    \n",
       "problem-solving entity capable of handling diverse tasks and engaging with users effectively.                      \n"
      ]
     },
     "metadata": {},
     "output_type": "display_data"
    }
   ],
   "source": [
    "print(query)\n",
    "\n",
    "config = {\n",
    "    \"configurable\": {\n",
    "        \"max_generated_sub_questions_count\": 5\n",
    "    }\n",
    "}\n",
    "response = graph.invoke({\"question\": query}, config=config)\n",
    "\n",
    "display(Pretty(response, max_depth=2))\n",
    "display(Markdown(response[\"answer\"]))"
   ]
  }
 ],
 "metadata": {
  "kernelspec": {
   "display_name": "Python 3 (ipykernel)",
   "language": "python",
   "name": "python3"
  },
  "language_info": {
   "codemirror_mode": {
    "name": "ipython",
    "version": 3
   },
   "file_extension": ".py",
   "mimetype": "text/x-python",
   "name": "python",
   "nbconvert_exporter": "python",
   "pygments_lexer": "ipython3",
   "version": "3.11.11"
  }
 },
 "nbformat": 4,
 "nbformat_minor": 5
}
