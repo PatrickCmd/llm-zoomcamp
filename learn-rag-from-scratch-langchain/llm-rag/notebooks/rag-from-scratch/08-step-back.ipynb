{
 "cells": [
  {
   "cell_type": "code",
   "execution_count": 1,
   "id": "f8de9ce5-a0a1-415f-83e1-9a9ca3aa0ce4",
   "metadata": {},
   "outputs": [],
   "source": [
    "import os\n",
    "import re\n",
    "\n",
    "from dotenv import find_dotenv, load_dotenv\n",
    "from IPython.display import display\n",
    "from rich import print as rprint\n",
    "from rich.markdown import Markdown\n",
    "from rich.pretty import Pretty\n",
    "from rich.text import Text"
   ]
  },
  {
   "cell_type": "code",
   "execution_count": 2,
   "id": "27332723-b3e5-42cc-aab0-6e11f7023650",
   "metadata": {},
   "outputs": [
    {
     "data": {
      "text/plain": [
       "True"
      ]
     },
     "execution_count": 2,
     "metadata": {},
     "output_type": "execute_result"
    }
   ],
   "source": [
    "load_dotenv(find_dotenv('.env'))"
   ]
  },
  {
   "cell_type": "code",
   "execution_count": 3,
   "id": "949208f7-e85b-4d9e-b353-7d7e1cbd51cf",
   "metadata": {},
   "outputs": [],
   "source": [
    "os.environ[\"LANGCHAIN_PROJECT\"] = \"RAG From Scratch: Part 8 (Query Translation - Step-Back Prompting)\""
   ]
  },
  {
   "cell_type": "markdown",
   "id": "f11bc6c5-d8df-490f-b142-a1a2eeab55a3",
   "metadata": {},
   "source": [
    "# Query translation"
   ]
  },
  {
   "cell_type": "markdown",
   "id": "2a6ae48e-8d92-481f-b533-20dff20dd706",
   "metadata": {},
   "source": [
    "![](images/query-translation-01.png)"
   ]
  },
  {
   "cell_type": "markdown",
   "id": "de1cda55-3783-4667-a222-bdf88e3d5af3",
   "metadata": {},
   "source": [
    "![](images/query-translation-02.png)"
   ]
  },
  {
   "cell_type": "markdown",
   "id": "49aba87d-8299-40b9-950b-4ec976ab6653",
   "metadata": {},
   "source": [
    "# Part 8: Query Translation - Step Back"
   ]
  },
  {
   "cell_type": "markdown",
   "id": "c6fae17b-5ec2-44e2-93dd-fb39f1fd1846",
   "metadata": {},
   "source": [
    "**Questions**\n",
    "- What happens to the pressure, P, of an ideal gas if the temperature is increased by a factor of 2 and the volume is increased by a factor of 8?\n",
    "- Estella Leopold went to which school between Aug 1954 and Nov 1954?"
   ]
  },
  {
   "cell_type": "markdown",
   "id": "b3df8813-c051-497c-8139-ac65f7de63f8",
   "metadata": {},
   "source": [
    "![](images/08-step-back.png)"
   ]
  },
  {
   "cell_type": "markdown",
   "id": "76e02f1c-fdec-456c-9bca-2e48a08f3a63",
   "metadata": {},
   "source": [
    "## Configure components"
   ]
  },
  {
   "cell_type": "code",
   "execution_count": 4,
   "id": "d567ff65-3cbb-48ae-a787-8c57a083ba3d",
   "metadata": {},
   "outputs": [],
   "source": [
    "from langchain_openai import ChatOpenAI, OpenAIEmbeddings"
   ]
  },
  {
   "cell_type": "code",
   "execution_count": 5,
   "id": "4734bb60-2ac1-4866-ab2c-c50671c37829",
   "metadata": {},
   "outputs": [
    {
     "data": {
      "text/plain": [
       "AIMessage(content='Hello! How can I assist you today?', additional_kwargs={'refusal': None}, response_metadata={'token_usage': {'completion_tokens': 10, 'prompt_tokens': 8, 'total_tokens': 18, 'completion_tokens_details': {'accepted_prediction_tokens': 0, 'audio_tokens': 0, 'reasoning_tokens': 0, 'rejected_prediction_tokens': 0}, 'prompt_tokens_details': {'audio_tokens': 0, 'cached_tokens': 0}}, 'model_name': 'gpt-4o-mini-2024-07-18', 'system_fingerprint': 'fp_9654a743ed', 'id': 'chatcmpl-BKNPKjUKcAiENQFSlvU3ziBULJiwT', 'finish_reason': 'stop', 'logprobs': None}, id='run-0668b473-3240-4cb3-8726-b72968f2efd9-0', usage_metadata={'input_tokens': 8, 'output_tokens': 10, 'total_tokens': 18, 'input_token_details': {'audio': 0, 'cache_read': 0}, 'output_token_details': {'audio': 0, 'reasoning': 0}})"
      ]
     },
     "execution_count": 5,
     "metadata": {},
     "output_type": "execute_result"
    }
   ],
   "source": [
    "llm = ChatOpenAI(\n",
    "    model=\"gpt-4o-mini\",\n",
    "    temperature=1\n",
    ")\n",
    "llm.invoke(\"Hello\")"
   ]
  },
  {
   "cell_type": "code",
   "execution_count": 6,
   "id": "4d0801a9-345f-4c17-a71f-3334d5fb28c0",
   "metadata": {},
   "outputs": [
    {
     "data": {
      "text/plain": [
       "1536"
      ]
     },
     "execution_count": 6,
     "metadata": {},
     "output_type": "execute_result"
    }
   ],
   "source": [
    "embeddings = OpenAIEmbeddings(model=\"text-embedding-3-small\")\n",
    "len(embeddings.embed_query(\"Hello\"))"
   ]
  },
  {
   "cell_type": "markdown",
   "id": "521947ad-7423-4b6e-958b-868f20f51ce1",
   "metadata": {},
   "source": [
    "## Load documents"
   ]
  },
  {
   "cell_type": "code",
   "execution_count": 7,
   "id": "ba090076-6d23-4e4e-86ae-b6563cf74c18",
   "metadata": {},
   "outputs": [
    {
     "name": "stderr",
     "output_type": "stream",
     "text": [
      "USER_AGENT environment variable not set, consider setting it to identify your requests.\n"
     ]
    }
   ],
   "source": [
    "import bs4\n",
    "from langchain_community.document_loaders import WebBaseLoader"
   ]
  },
  {
   "cell_type": "code",
   "execution_count": 8,
   "id": "5243673c-b3a8-4316-9ea1-c73b1acec8ab",
   "metadata": {},
   "outputs": [
    {
     "data": {
      "text/plain": [
       "1"
      ]
     },
     "execution_count": 8,
     "metadata": {},
     "output_type": "execute_result"
    }
   ],
   "source": [
    "loader = WebBaseLoader(\n",
    "    web_paths=(\"https://lilianweng.github.io/posts/2023-06-23-agent/\",),\n",
    "    bs_kwargs=dict(\n",
    "        parse_only=bs4.SoupStrainer(\n",
    "            class_=(\"post-content\", \"post-title\", \"post-header\")\n",
    "        )\n",
    "    ),\n",
    ")\n",
    "docs = loader.load()\n",
    "len(docs)"
   ]
  },
  {
   "cell_type": "code",
   "execution_count": 9,
   "id": "1d765439-6438-486c-9f4f-b40fe63ab78a",
   "metadata": {},
   "outputs": [
    {
     "name": "stdout",
     "output_type": "stream",
     "text": [
      "\n",
      "\n",
      "      LLM Powered Autonomous Agents\n",
      "    \n",
      "Date: June 23, 2023  |  Estimated Reading Time: 31 min  |  Author: Lilian Weng\n",
      "\n",
      "\n",
      "Building agents with LLM (large language model) as its core controller is a cool concept. Several proof-of-concepts demos, such as AutoGPT, GPT-Engineer and BabyAGI, serve as inspiring examples. The potentiality of LLM extends beyond generating well-written copies, stories, essays and programs; it can be framed as a powerful general problem solver.\n",
      "Agent System Overview#\n",
      "In a LLM-powered autonomous agent system, LLM functions as the agent’s brain, complemented by several key components:\n",
      "\n",
      "Planning\n",
      "\n",
      "Subgoal and decomposition: The agent breaks down large tasks into smaller, manageable subgoals, enabling efficient handling of complex tasks.\n",
      "Reflection and refinement: The agent can do self-criticism and self-reflection over past actions, learn from mistakes and refine them for future steps, thereby improving the quality of final results.\n",
      "\n",
      "\n",
      "Memory\n",
      "\n",
      "Short-term memory: I \n"
     ]
    }
   ],
   "source": [
    "print(docs[0].page_content[:1000])"
   ]
  },
  {
   "cell_type": "markdown",
   "id": "c34acaf2-572d-4c22-ba26-ad2127a01365",
   "metadata": {},
   "source": [
    "## Split documents"
   ]
  },
  {
   "cell_type": "code",
   "execution_count": 10,
   "id": "fd88b63e-96ef-44f2-acf3-4349255571e1",
   "metadata": {},
   "outputs": [],
   "source": [
    "from langchain.text_splitter import RecursiveCharacterTextSplitter"
   ]
  },
  {
   "cell_type": "code",
   "execution_count": 11,
   "id": "695aeaa8-f649-4d82-b6bf-7a95e6035d4b",
   "metadata": {},
   "outputs": [
    {
     "data": {
      "text/plain": [
       "66"
      ]
     },
     "execution_count": 11,
     "metadata": {},
     "output_type": "execute_result"
    }
   ],
   "source": [
    "text_splitter = RecursiveCharacterTextSplitter(chunk_size=1000, chunk_overlap=200)\n",
    "splits = text_splitter.split_documents(docs)\n",
    "len(splits)"
   ]
  },
  {
   "cell_type": "markdown",
   "id": "02a97440-5c45-455d-a553-2c13f7815599",
   "metadata": {},
   "source": [
    "## Store documents"
   ]
  },
  {
   "cell_type": "code",
   "execution_count": 12,
   "id": "9ce28ef2-83fd-4d89-b6f6-55d141ee4e3c",
   "metadata": {},
   "outputs": [],
   "source": [
    "from langchain_core.vectorstores import InMemoryVectorStore"
   ]
  },
  {
   "cell_type": "code",
   "execution_count": 13,
   "id": "ad7ef680-83c3-4744-a4d6-8464942f881d",
   "metadata": {},
   "outputs": [
    {
     "data": {
      "text/plain": [
       "(66, 66)"
      ]
     },
     "execution_count": 13,
     "metadata": {},
     "output_type": "execute_result"
    }
   ],
   "source": [
    "vectorstore = InMemoryVectorStore(embeddings)\n",
    "doc_ids = vectorstore.add_documents(documents=splits)\n",
    "len(doc_ids), len(vectorstore.store)"
   ]
  },
  {
   "cell_type": "markdown",
   "id": "787c84a3-a3f4-40d3-9891-51c360b71073",
   "metadata": {},
   "source": [
    "## RAG"
   ]
  },
  {
   "cell_type": "code",
   "execution_count": 14,
   "id": "bd9d4dcd-8b9f-40aa-a7d5-4d347909b627",
   "metadata": {},
   "outputs": [],
   "source": [
    "from typing import Annotated, TypedDict\n",
    "\n",
    "from langchain_core.documents import Document\n",
    "from langchain_core.messages import HumanMessage\n",
    "from langchain_core.output_parsers import StrOutputParser\n",
    "from langchain_core.prompts import ChatPromptTemplate, FewShotChatMessagePromptTemplate\n",
    "from langgraph.constants import Send\n",
    "from langgraph.graph import END, START, StateGraph"
   ]
  },
  {
   "cell_type": "code",
   "execution_count": 15,
   "id": "30d071c6-2155-46ff-ba18-d420ca98dd87",
   "metadata": {},
   "outputs": [],
   "source": [
    "step_back_prompt_template = \"You are an expert at world knowledge. Your task is to step back and paraphrase a question to a more generic step-back question, which is easier to answer. Here are a few examples:\"\n",
    "\n",
    "examples = [\n",
    "    {\n",
    "        \"input\": \"Could the members of The Police perform lawful arrests?\",\n",
    "        \"output\": \"what can the members of The Police do?\",\n",
    "    },\n",
    "    {\n",
    "        \"input\": \"Jan Sindel’s was born in what country?\",\n",
    "        \"output\": \"what is Jan Sindel’s personal history?\",\n",
    "    },\n",
    "]\n",
    "\n",
    "example_prompt = ChatPromptTemplate.from_messages(\n",
    "    [\n",
    "        (\"human\", \"{input}\"),\n",
    "        (\"ai\", \"{output}\"),\n",
    "    ]\n",
    ")\n",
    "\n",
    "few_shot_prompt = FewShotChatMessagePromptTemplate(\n",
    "    example_prompt=example_prompt,\n",
    "    examples=examples,\n",
    ")\n",
    "\n",
    "step_back_prompt = ChatPromptTemplate.from_messages(\n",
    "    [\n",
    "        (\"system\", step_back_prompt_template),\n",
    "        few_shot_prompt,\n",
    "        (\"human\", \"{question}\")\n",
    "    ]\n",
    ")"
   ]
  },
  {
   "cell_type": "code",
   "execution_count": 16,
   "id": "b5eb8e0d-2eee-41dc-8987-a488af4c1c5d",
   "metadata": {},
   "outputs": [
    {
     "name": "stdout",
     "output_type": "stream",
     "text": [
      "You are an expert of world knowledge. I am going to ask you a question. Your response should be comprehensive and not contradicted with the following context if they are relevant. Otherwise, ignore them if they are not relevant.\n",
      "\n",
      "{context}\n",
      "{step_back_context}\n",
      "\n",
      "Original Question: {question}\n",
      "Answer:\n"
     ]
    }
   ],
   "source": [
    "final_answer_prompt_template = \"\"\"You are an expert of world knowledge. I am going to ask you a question. Your response should be comprehensive and not contradicted with the following context if they are relevant. Otherwise, ignore them if they are not relevant.\n",
    "\n",
    "{context}\n",
    "{step_back_context}\n",
    "\n",
    "Original Question: {question}\n",
    "Answer:\"\"\"\n",
    "print(final_answer_prompt_template)"
   ]
  },
  {
   "cell_type": "code",
   "execution_count": 17,
   "id": "5920ce6a-590b-461c-987e-79a43905cc75",
   "metadata": {},
   "outputs": [],
   "source": [
    "query = \"What is task decomposition for LLM agents?\""
   ]
  },
  {
   "cell_type": "code",
   "execution_count": 18,
   "id": "db5ab482-343a-4fce-ac29-e19550692082",
   "metadata": {},
   "outputs": [],
   "source": [
    "class State(TypedDict):\n",
    "    question: str\n",
    "    context: list[Document]\n",
    "    step_back_question: str\n",
    "    step_back_context: list[Document]\n",
    "    answer: str"
   ]
  },
  {
   "cell_type": "code",
   "execution_count": 19,
   "id": "d4ac8e09-b83d-4937-85b6-4de2dee633ae",
   "metadata": {},
   "outputs": [],
   "source": [
    "def retrieve_docs(state: State):\n",
    "    question = state[\"question\"]\n",
    "    retrieved_docs = vectorstore.similarity_search(question)\n",
    "    return {\"context\": retrieved_docs}\n",
    "\n",
    "def generate_step_back_question(state: State):\n",
    "    step_back_prompt_messages = step_back_prompt.format(\n",
    "        question=state[\"question\"]\n",
    "    )\n",
    "    step_back_question = llm.invoke(step_back_prompt_messages)\n",
    "    return {\"step_back_question\": step_back_question.content}\n",
    "    \n",
    "def retrieve_step_back_docs(state: State):\n",
    "    step_back_question = state[\"step_back_question\"]\n",
    "    retrieved_step_back_docs = vectorstore.similarity_search(step_back_question)\n",
    "    return {\"step_back_context\": retrieved_step_back_docs}\n",
    "\n",
    "def generate_answer(state: State):\n",
    "    final_answer_prompt = final_answer_prompt_template.format(\n",
    "        context=state[\"context\"],\n",
    "        step_back_context=state[\"step_back_context\"],\n",
    "        question=state[\"question\"]\n",
    "    )\n",
    "    response = llm.invoke([\n",
    "        HumanMessage(content=final_answer_prompt)\n",
    "    ])\n",
    "    return {\"answer\": response.content}"
   ]
  },
  {
   "cell_type": "code",
   "execution_count": 20,
   "id": "80459a4a-fe93-4364-98bc-5872643b657f",
   "metadata": {},
   "outputs": [
    {
     "data": {
      "image/png": "[encoded data removed]",
      "text/plain": [
       "<langgraph.graph.state.CompiledStateGraph object at 0x7f5f9c65d9d0>"
      ]
     },
     "execution_count": 20,
     "metadata": {},
     "output_type": "execute_result"
    }
   ],
   "source": [
    "graph_builder = StateGraph(State)\n",
    "\n",
    "graph_builder.add_node(\"retrieve_docs\", retrieve_docs)\n",
    "graph_builder.add_node(\"generate_step_back_question\", generate_step_back_question)\n",
    "graph_builder.add_node(\"retrieve_step_back_docs\", retrieve_step_back_docs)\n",
    "graph_builder.add_node(\"generate_answer\", generate_answer)\n",
    "\n",
    "graph_builder.add_edge(START, \"retrieve_docs\")\n",
    "graph_builder.add_edge(\"retrieve_docs\", \"generate_step_back_question\")\n",
    "graph_builder.add_edge(\"generate_step_back_question\", \"retrieve_step_back_docs\")\n",
    "graph_builder.add_edge(\"retrieve_step_back_docs\", \"generate_answer\")\n",
    "graph_builder.add_edge(\"generate_answer\", END)\n",
    "\n",
    "graph = graph_builder.compile()\n",
    "graph"
   ]
  },
  {
   "cell_type": "code",
   "execution_count": 21,
   "id": "94e19f2a-94f5-4be7-83ac-7f24f7354331",
   "metadata": {},
   "outputs": [
    {
     "name": "stdout",
     "output_type": "stream",
     "text": [
      "What is task decomposition for LLM agents?\n"
     ]
    },
    {
     "data": {
      "text/html": [
       "<pre style=\"white-space:pre;overflow-x:auto;line-height:normal;font-family:Menlo,'DejaVu Sans Mono',consolas,'Courier New',monospace\"><span style=\"font-weight: bold\">{</span>\n",
       "    <span style=\"color: #008000; text-decoration-color: #008000\">'question'</span>: <span style=\"color: #008000; text-decoration-color: #008000\">'What is task decomposition for LLM agents?'</span>,\n",
       "    <span style=\"color: #008000; text-decoration-color: #008000\">'context'</span>: <span style=\"font-weight: bold\">[</span><span style=\"color: #800080; text-decoration-color: #800080; font-weight: bold\">Document</span><span style=\"font-weight: bold\">(</span><span style=\"color: #808000; text-decoration-color: #808000\">...</span><span style=\"font-weight: bold\">)</span>, <span style=\"color: #800080; text-decoration-color: #800080; font-weight: bold\">Document</span><span style=\"font-weight: bold\">(</span><span style=\"color: #808000; text-decoration-color: #808000\">...</span><span style=\"font-weight: bold\">)</span>, <span style=\"color: #800080; text-decoration-color: #800080; font-weight: bold\">Document</span><span style=\"font-weight: bold\">(</span><span style=\"color: #808000; text-decoration-color: #808000\">...</span><span style=\"font-weight: bold\">)</span>, <span style=\"color: #800080; text-decoration-color: #800080; font-weight: bold\">Document</span><span style=\"font-weight: bold\">(</span><span style=\"color: #808000; text-decoration-color: #808000\">...</span><span style=\"font-weight: bold\">)]</span>,\n",
       "    <span style=\"color: #008000; text-decoration-color: #008000\">'step_back_question'</span>: <span style=\"color: #008000; text-decoration-color: #008000\">'AI: what is the concept of task decomposition?'</span>,\n",
       "    <span style=\"color: #008000; text-decoration-color: #008000\">'step_back_context'</span>: <span style=\"font-weight: bold\">[</span><span style=\"color: #800080; text-decoration-color: #800080; font-weight: bold\">Document</span><span style=\"font-weight: bold\">(</span><span style=\"color: #808000; text-decoration-color: #808000\">...</span><span style=\"font-weight: bold\">)</span>, <span style=\"color: #800080; text-decoration-color: #800080; font-weight: bold\">Document</span><span style=\"font-weight: bold\">(</span><span style=\"color: #808000; text-decoration-color: #808000\">...</span><span style=\"font-weight: bold\">)</span>, <span style=\"color: #800080; text-decoration-color: #800080; font-weight: bold\">Document</span><span style=\"font-weight: bold\">(</span><span style=\"color: #808000; text-decoration-color: #808000\">...</span><span style=\"font-weight: bold\">)</span>, <span style=\"color: #800080; text-decoration-color: #800080; font-weight: bold\">Document</span><span style=\"font-weight: bold\">(</span><span style=\"color: #808000; text-decoration-color: #808000\">...</span><span style=\"font-weight: bold\">)]</span>,\n",
       "    <span style=\"color: #008000; text-decoration-color: #008000\">'answer'</span>: <span style=\"color: #008000; text-decoration-color: #008000\">'Task decomposition for LLM (large language model) agents refers to the process by which an agent </span>\n",
       "<span style=\"color: #008000; text-decoration-color: #008000\">breaks down a complex task into smaller, more manageable subgoals or steps. This technique is essential for </span>\n",
       "<span style=\"color: #008000; text-decoration-color: #008000\">efficiently handling complicated tasks that require multiple steps and careful planning.\\n\\nA prominent method </span>\n",
       "<span style=\"color: #008000; text-decoration-color: #008000\">utilized for task decomposition is the Chain of Thought (CoT) prompting technique, which encourages the model to </span>\n",
       "<span style=\"color: #008000; text-decoration-color: #008000\">\"think step by step.\" By allowing the LLM to utilize more computational resources during test time, CoT helps the </span>\n",
       "<span style=\"color: #008000; text-decoration-color: #008000\">model to effectively decompose challenging tasks into simpler components. This transformation enhances the model\\'s</span>\n",
       "<span style=\"color: #008000; text-decoration-color: #008000\">performance by clarifying its reasoning process and making it easier to tackle difficult problems.\\n\\nAnother </span>\n",
       "<span style=\"color: #008000; text-decoration-color: #008000\">approach, known as Tree of Thoughts, extends the CoT methodology by exploring multiple reasoning paths at each </span>\n",
       "<span style=\"color: #008000; text-decoration-color: #008000\">step. It decomposes the overall problem into several thought steps and generates multiple thoughts for each of </span>\n",
       "<span style=\"color: #008000; text-decoration-color: #008000\">these steps, leading to a tree-like structure of reasoning options. This structure can be searched using techniques</span>\n",
       "<span style=\"color: #008000; text-decoration-color: #008000\">like breadth-first search (BFS) or depth-first search (DFS), with each state evaluated to help determine the best </span>\n",
       "<span style=\"color: #008000; text-decoration-color: #008000\">solution.\\n\\nTask decomposition can also be facilitated through various prompts or task-specific instructions. LLMs</span>\n",
       "<span style=\"color: #008000; text-decoration-color: #008000\">may be prompted with simple questions such as “What are the subgoals for achieving XYZ?” or given specific </span>\n",
       "<span style=\"color: #008000; text-decoration-color: #008000\">instructions like “Write a story outline.” Additionally, human inputs can also guide the decomposition process, </span>\n",
       "<span style=\"color: #008000; text-decoration-color: #008000\">allowing for an interactive and adaptive approach.\\n\\nOverall, task decomposition is a crucial capability for LLM </span>\n",
       "<span style=\"color: #008000; text-decoration-color: #008000\">agents, enabling them to approach complex tasks systematically and improve their overall problem-solving </span>\n",
       "<span style=\"color: #008000; text-decoration-color: #008000\">abilities.'</span>\n",
       "<span style=\"font-weight: bold\">}</span>\n",
       "</pre>\n"
      ],
      "text/plain": [
       "\u001b[1m{\u001b[0m\n",
       "    \u001b[32m'question'\u001b[0m: \u001b[32m'What is task decomposition for LLM agents?'\u001b[0m,\n",
       "    \u001b[32m'context'\u001b[0m: \u001b[1m[\u001b[0m\u001b[1;35mDocument\u001b[0m\u001b[1m(\u001b[0m\u001b[33m...\u001b[0m\u001b[1m)\u001b[0m, \u001b[1;35mDocument\u001b[0m\u001b[1m(\u001b[0m\u001b[33m...\u001b[0m\u001b[1m)\u001b[0m, \u001b[1;35mDocument\u001b[0m\u001b[1m(\u001b[0m\u001b[33m...\u001b[0m\u001b[1m)\u001b[0m, \u001b[1;35mDocument\u001b[0m\u001b[1m(\u001b[0m\u001b[33m...\u001b[0m\u001b[1m)\u001b[0m\u001b[1m]\u001b[0m,\n",
       "    \u001b[32m'step_back_question'\u001b[0m: \u001b[32m'AI: what is the concept of task decomposition?'\u001b[0m,\n",
       "    \u001b[32m'step_back_context'\u001b[0m: \u001b[1m[\u001b[0m\u001b[1;35mDocument\u001b[0m\u001b[1m(\u001b[0m\u001b[33m...\u001b[0m\u001b[1m)\u001b[0m, \u001b[1;35mDocument\u001b[0m\u001b[1m(\u001b[0m\u001b[33m...\u001b[0m\u001b[1m)\u001b[0m, \u001b[1;35mDocument\u001b[0m\u001b[1m(\u001b[0m\u001b[33m...\u001b[0m\u001b[1m)\u001b[0m, \u001b[1;35mDocument\u001b[0m\u001b[1m(\u001b[0m\u001b[33m...\u001b[0m\u001b[1m)\u001b[0m\u001b[1m]\u001b[0m,\n",
       "    \u001b[32m'answer'\u001b[0m: \u001b[32m'Task decomposition for LLM \u001b[0m\u001b[32m(\u001b[0m\u001b[32mlarge language model\u001b[0m\u001b[32m)\u001b[0m\u001b[32m agents refers to the process by which an agent \u001b[0m\n",
       "\u001b[32mbreaks down a complex task into smaller, more manageable subgoals or steps. This technique is essential for \u001b[0m\n",
       "\u001b[32mefficiently handling complicated tasks that require multiple steps and careful planning.\\n\\nA prominent method \u001b[0m\n",
       "\u001b[32mutilized for task decomposition is the Chain of Thought \u001b[0m\u001b[32m(\u001b[0m\u001b[32mCoT\u001b[0m\u001b[32m)\u001b[0m\u001b[32m prompting technique, which encourages the model to \u001b[0m\n",
       "\u001b[32m\"think step by step.\" By allowing the LLM to utilize more computational resources during test time, CoT helps the \u001b[0m\n",
       "\u001b[32mmodel to effectively decompose challenging tasks into simpler components. This transformation enhances the model\\'s\u001b[0m\n",
       "\u001b[32mperformance by clarifying its reasoning process and making it easier to tackle difficult problems.\\n\\nAnother \u001b[0m\n",
       "\u001b[32mapproach, known as Tree of Thoughts, extends the CoT methodology by exploring multiple reasoning paths at each \u001b[0m\n",
       "\u001b[32mstep. It decomposes the overall problem into several thought steps and generates multiple thoughts for each of \u001b[0m\n",
       "\u001b[32mthese steps, leading to a tree-like structure of reasoning options. This structure can be searched using techniques\u001b[0m\n",
       "\u001b[32mlike breadth-first search \u001b[0m\u001b[32m(\u001b[0m\u001b[32mBFS\u001b[0m\u001b[32m)\u001b[0m\u001b[32m or depth-first search \u001b[0m\u001b[32m(\u001b[0m\u001b[32mDFS\u001b[0m\u001b[32m)\u001b[0m\u001b[32m, with each state evaluated to help determine the best \u001b[0m\n",
       "\u001b[32msolution.\\n\\nTask decomposition can also be facilitated through various prompts or task-specific instructions. LLMs\u001b[0m\n",
       "\u001b[32mmay be prompted with simple questions such as “What are the subgoals for achieving XYZ?” or given specific \u001b[0m\n",
       "\u001b[32minstructions like “Write a story outline.” Additionally, human inputs can also guide the decomposition process, \u001b[0m\n",
       "\u001b[32mallowing for an interactive and adaptive approach.\\n\\nOverall, task decomposition is a crucial capability for LLM \u001b[0m\n",
       "\u001b[32magents, enabling them to approach complex tasks systematically and improve their overall problem-solving \u001b[0m\n",
       "\u001b[32mabilities.'\u001b[0m\n",
       "\u001b[1m}\u001b[0m\n"
      ]
     },
     "metadata": {},
     "output_type": "display_data"
    },
    {
     "data": {
      "text/html": [
       "<pre style=\"white-space:pre;overflow-x:auto;line-height:normal;font-family:Menlo,'DejaVu Sans Mono',consolas,'Courier New',monospace\">Task decomposition for LLM (large language model) agents refers to the process by which an agent breaks down a     \n",
       "complex task into smaller, more manageable subgoals or steps. This technique is essential for efficiently handling \n",
       "complicated tasks that require multiple steps and careful planning.                                                \n",
       "\n",
       "A prominent method utilized for task decomposition is the Chain of Thought (CoT) prompting technique, which        \n",
       "encourages the model to \"think step by step.\" By allowing the LLM to utilize more computational resources during   \n",
       "test time, CoT helps the model to effectively decompose challenging tasks into simpler components. This            \n",
       "transformation enhances the model's performance by clarifying its reasoning process and making it easier to tackle \n",
       "difficult problems.                                                                                                \n",
       "\n",
       "Another approach, known as Tree of Thoughts, extends the CoT methodology by exploring multiple reasoning paths at  \n",
       "each step. It decomposes the overall problem into several thought steps and generates multiple thoughts for each of\n",
       "these steps, leading to a tree-like structure of reasoning options. This structure can be searched using techniques\n",
       "like breadth-first search (BFS) or depth-first search (DFS), with each state evaluated to help determine the best  \n",
       "solution.                                                                                                          \n",
       "\n",
       "Task decomposition can also be facilitated through various prompts or task-specific instructions. LLMs may be      \n",
       "prompted with simple questions such as “What are the subgoals for achieving XYZ?” or given specific instructions   \n",
       "like “Write a story outline.” Additionally, human inputs can also guide the decomposition process, allowing for an \n",
       "interactive and adaptive approach.                                                                                 \n",
       "\n",
       "Overall, task decomposition is a crucial capability for LLM agents, enabling them to approach complex tasks        \n",
       "systematically and improve their overall problem-solving abilities.                                                \n",
       "</pre>\n"
      ],
      "text/plain": [
       "Task decomposition for LLM (large language model) agents refers to the process by which an agent breaks down a     \n",
       "complex task into smaller, more manageable subgoals or steps. This technique is essential for efficiently handling \n",
       "complicated tasks that require multiple steps and careful planning.                                                \n",
       "\n",
       "A prominent method utilized for task decomposition is the Chain of Thought (CoT) prompting technique, which        \n",
       "encourages the model to \"think step by step.\" By allowing the LLM to utilize more computational resources during   \n",
       "test time, CoT helps the model to effectively decompose challenging tasks into simpler components. This            \n",
       "transformation enhances the model's performance by clarifying its reasoning process and making it easier to tackle \n",
       "difficult problems.                                                                                                \n",
       "\n",
       "Another approach, known as Tree of Thoughts, extends the CoT methodology by exploring multiple reasoning paths at  \n",
       "each step. It decomposes the overall problem into several thought steps and generates multiple thoughts for each of\n",
       "these steps, leading to a tree-like structure of reasoning options. This structure can be searched using techniques\n",
       "like breadth-first search (BFS) or depth-first search (DFS), with each state evaluated to help determine the best  \n",
       "solution.                                                                                                          \n",
       "\n",
       "Task decomposition can also be facilitated through various prompts or task-specific instructions. LLMs may be      \n",
       "prompted with simple questions such as “What are the subgoals for achieving XYZ?” or given specific instructions   \n",
       "like “Write a story outline.” Additionally, human inputs can also guide the decomposition process, allowing for an \n",
       "interactive and adaptive approach.                                                                                 \n",
       "\n",
       "Overall, task decomposition is a crucial capability for LLM agents, enabling them to approach complex tasks        \n",
       "systematically and improve their overall problem-solving abilities.                                                \n"
      ]
     },
     "metadata": {},
     "output_type": "display_data"
    }
   ],
   "source": [
    "print(query)\n",
    "\n",
    "response = graph.invoke({\"question\": query})\n",
    "\n",
    "display(Pretty(response, max_depth=2))\n",
    "display(Markdown(response[\"answer\"]))"
   ]
  }
 ],
 "metadata": {
  "kernelspec": {
   "display_name": "Python 3 (ipykernel)",
   "language": "python",
   "name": "python3"
  },
  "language_info": {
   "codemirror_mode": {
    "name": "ipython",
    "version": 3
   },
   "file_extension": ".py",
   "mimetype": "text/x-python",
   "name": "python",
   "nbconvert_exporter": "python",
   "pygments_lexer": "ipython3",
   "version": "3.11.11"
  }
 },
 "nbformat": 4,
 "nbformat_minor": 5
}
