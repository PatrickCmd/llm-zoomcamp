{
 "cells": [
  {
   "cell_type": "code",
   "execution_count": 1,
   "id": "345c364e-1395-499c-bd91-e4eb117fe943",
   "metadata": {},
   "outputs": [],
   "source": [
    "import os\n",
    "import re\n",
    "\n",
    "from dotenv import find_dotenv, load_dotenv\n",
    "from IPython.display import display\n",
    "from rich import print as rprint\n",
    "from rich.markdown import Markdown\n",
    "from rich.pretty import Pretty\n",
    "from rich.text import Text"
   ]
  },
  {
   "cell_type": "code",
   "execution_count": 2,
   "id": "7a82ea84-71c2-464f-b6f4-1fc402f4c765",
   "metadata": {},
   "outputs": [
    {
     "data": {
      "text/plain": [
       "True"
      ]
     },
     "execution_count": 2,
     "metadata": {},
     "output_type": "execute_result"
    }
   ],
   "source": [
    "load_dotenv(find_dotenv('.env'))"
   ]
  },
  {
   "cell_type": "code",
   "execution_count": 3,
   "id": "d25bf618-9b16-4b27-bc98-4993289dd131",
   "metadata": {},
   "outputs": [],
   "source": [
    "os.environ[\"LANGCHAIN_PROJECT\"] = \"RAG From Scratch: Part 9 (Query Translation - HyDE)\""
   ]
  },
  {
   "cell_type": "markdown",
   "id": "410814f2-2b92-4c20-9357-7972793284f4",
   "metadata": {},
   "source": [
    "# Query translation"
   ]
  },
  {
   "cell_type": "markdown",
   "id": "903de153-9de3-4f45-884f-3b99378cc11c",
   "metadata": {},
   "source": [
    "![](images/query-translation-01.png)"
   ]
  },
  {
   "cell_type": "markdown",
   "id": "6d22872f-9628-4fac-8089-3fa2edd30e51",
   "metadata": {},
   "source": [
    "# Part 9: Query Translation - HyDE"
   ]
  },
  {
   "cell_type": "markdown",
   "id": "db09ffb6-8754-47f1-8b97-a821fd8e94f1",
   "metadata": {},
   "source": [
    "![](images/09-hyde.png)"
   ]
  },
  {
   "cell_type": "markdown",
   "id": "5fac6d36-a13c-42ed-a8f4-6795e46475c7",
   "metadata": {},
   "source": [
    "## Configure components"
   ]
  },
  {
   "cell_type": "code",
   "execution_count": 4,
   "id": "ab45993b-bbd9-4bfc-a625-05bf2fe49f10",
   "metadata": {},
   "outputs": [],
   "source": [
    "from langchain_openai import ChatOpenAI, OpenAIEmbeddings"
   ]
  },
  {
   "cell_type": "code",
   "execution_count": 5,
   "id": "a7947660-1a81-4fba-8985-91cc918ca541",
   "metadata": {},
   "outputs": [
    {
     "data": {
      "text/plain": [
       "AIMessage(content='Hello! How can I assist you today?', additional_kwargs={'refusal': None}, response_metadata={'token_usage': {'completion_tokens': 10, 'prompt_tokens': 8, 'total_tokens': 18, 'completion_tokens_details': {'accepted_prediction_tokens': 0, 'audio_tokens': 0, 'reasoning_tokens': 0, 'rejected_prediction_tokens': 0}, 'prompt_tokens_details': {'audio_tokens': 0, 'cached_tokens': 0}}, 'model_name': 'gpt-4o-mini-2024-07-18', 'system_fingerprint': 'fp_b376dfbbd5', 'id': 'chatcmpl-BKNeTP2oDtNaIUx3bmnWgmT3W7cEJ', 'finish_reason': 'stop', 'logprobs': None}, id='run-aa7ff30f-35ce-4a3a-98eb-863a918476d3-0', usage_metadata={'input_tokens': 8, 'output_tokens': 10, 'total_tokens': 18, 'input_token_details': {'audio': 0, 'cache_read': 0}, 'output_token_details': {'audio': 0, 'reasoning': 0}})"
      ]
     },
     "execution_count": 5,
     "metadata": {},
     "output_type": "execute_result"
    }
   ],
   "source": [
    "llm = ChatOpenAI(\n",
    "    model=\"gpt-4o-mini\",\n",
    "    temperature=1\n",
    ")\n",
    "llm.invoke(\"Hello\")"
   ]
  },
  {
   "cell_type": "code",
   "execution_count": 6,
   "id": "edca4c60-f492-4f5e-860b-aec63d65b28d",
   "metadata": {},
   "outputs": [
    {
     "data": {
      "text/plain": [
       "1536"
      ]
     },
     "execution_count": 6,
     "metadata": {},
     "output_type": "execute_result"
    }
   ],
   "source": [
    "embeddings = OpenAIEmbeddings(model=\"text-embedding-3-small\")\n",
    "len(embeddings.embed_query(\"Hello\"))"
   ]
  },
  {
   "cell_type": "markdown",
   "id": "0c05aeb5-c158-47f3-a2fc-4e9d4eb1511d",
   "metadata": {},
   "source": [
    "## Load documents"
   ]
  },
  {
   "cell_type": "code",
   "execution_count": 7,
   "id": "4e23cf80-2c23-4872-9304-323ea7697e1a",
   "metadata": {},
   "outputs": [
    {
     "name": "stderr",
     "output_type": "stream",
     "text": [
      "USER_AGENT environment variable not set, consider setting it to identify your requests.\n"
     ]
    }
   ],
   "source": [
    "import bs4\n",
    "from langchain_community.document_loaders import WebBaseLoader"
   ]
  },
  {
   "cell_type": "code",
   "execution_count": 8,
   "id": "1e97bc41-ce13-4b21-9631-d9196ddc2a2e",
   "metadata": {},
   "outputs": [
    {
     "data": {
      "text/plain": [
       "1"
      ]
     },
     "execution_count": 8,
     "metadata": {},
     "output_type": "execute_result"
    }
   ],
   "source": [
    "loader = WebBaseLoader(\n",
    "    web_paths=(\"https://lilianweng.github.io/posts/2023-06-23-agent/\",),\n",
    "    bs_kwargs=dict(\n",
    "        parse_only=bs4.SoupStrainer(\n",
    "            class_=(\"post-content\", \"post-title\", \"post-header\")\n",
    "        )\n",
    "    ),\n",
    ")\n",
    "docs = loader.load()\n",
    "len(docs)"
   ]
  },
  {
   "cell_type": "code",
   "execution_count": 9,
   "id": "c0c0b94a-e7ca-4214-8343-e9f69a64a7ec",
   "metadata": {},
   "outputs": [
    {
     "name": "stdout",
     "output_type": "stream",
     "text": [
      "\n",
      "\n",
      "      LLM Powered Autonomous Agents\n",
      "    \n",
      "Date: June 23, 2023  |  Estimated Reading Time: 31 min  |  Author: Lilian Weng\n",
      "\n",
      "\n",
      "Building agents with LLM (large language model) as its core controller is a cool concept. Several proof-of-concepts demos, such as AutoGPT, GPT-Engineer and BabyAGI, serve as inspiring examples. The potentiality of LLM extends beyond generating well-written copies, stories, essays and programs; it can be framed as a powerful general problem solver.\n",
      "Agent System Overview#\n",
      "In a LLM-powered autonomous agent system, LLM functions as the agent’s brain, complemented by several key components:\n",
      "\n",
      "Planning\n",
      "\n",
      "Subgoal and decomposition: The agent breaks down large tasks into smaller, manageable subgoals, enabling efficient handling of complex tasks.\n",
      "Reflection and refinement: The agent can do self-criticism and self-reflection over past actions, learn from mistakes and refine them for future steps, thereby improving the quality of final results.\n",
      "\n",
      "\n",
      "Memory\n",
      "\n",
      "Short-term memory: I \n"
     ]
    }
   ],
   "source": [
    "print(docs[0].page_content[:1000])"
   ]
  },
  {
   "cell_type": "markdown",
   "id": "82272c1e-903c-4afd-853c-84312c25956c",
   "metadata": {},
   "source": [
    "## Split documents"
   ]
  },
  {
   "cell_type": "code",
   "execution_count": 10,
   "id": "a5505d36-c430-43b4-a12d-3bda4671b330",
   "metadata": {},
   "outputs": [],
   "source": [
    "from langchain.text_splitter import RecursiveCharacterTextSplitter"
   ]
  },
  {
   "cell_type": "code",
   "execution_count": 11,
   "id": "9d0ff5a8-9469-4c1e-bf76-f2a36a186131",
   "metadata": {},
   "outputs": [
    {
     "data": {
      "text/plain": [
       "66"
      ]
     },
     "execution_count": 11,
     "metadata": {},
     "output_type": "execute_result"
    }
   ],
   "source": [
    "text_splitter = RecursiveCharacterTextSplitter(chunk_size=1000, chunk_overlap=200)\n",
    "splits = text_splitter.split_documents(docs)\n",
    "len(splits)"
   ]
  },
  {
   "cell_type": "markdown",
   "id": "2cb81332-a8bf-4589-b885-6c1f8bf36733",
   "metadata": {},
   "source": [
    "## Store documents"
   ]
  },
  {
   "cell_type": "code",
   "execution_count": 12,
   "id": "dba68874-7c1e-435e-b2fb-4f6b831b1583",
   "metadata": {},
   "outputs": [],
   "source": [
    "from langchain_core.vectorstores import InMemoryVectorStore"
   ]
  },
  {
   "cell_type": "code",
   "execution_count": 13,
   "id": "5c8b5d56-91a2-4c01-a318-a7ced2c62e7b",
   "metadata": {},
   "outputs": [
    {
     "data": {
      "text/plain": [
       "(66, 66)"
      ]
     },
     "execution_count": 13,
     "metadata": {},
     "output_type": "execute_result"
    }
   ],
   "source": [
    "vectorstore = InMemoryVectorStore(embeddings)\n",
    "doc_ids = vectorstore.add_documents(documents=splits)\n",
    "len(doc_ids), len(vectorstore.store)"
   ]
  },
  {
   "cell_type": "markdown",
   "id": "7efe7ffa-9221-444c-ba6c-5a5f1ca3320e",
   "metadata": {},
   "source": [
    "## RAG"
   ]
  },
  {
   "cell_type": "code",
   "execution_count": 14,
   "id": "a020ed11-a677-47e8-aa19-9f3cd9775647",
   "metadata": {},
   "outputs": [],
   "source": [
    "from typing import Annotated, TypedDict\n",
    "\n",
    "from langchain_core.documents import Document\n",
    "from langchain_core.messages import HumanMessage\n",
    "from langchain_core.runnables import RunnableConfig\n",
    "from langgraph.constants import Send\n",
    "from langgraph.graph import END, START, StateGraph\n",
    "import numpy as np"
   ]
  },
  {
   "cell_type": "code",
   "execution_count": 15,
   "id": "39ed185d-4a4c-4e1e-b2c2-0e95f4225237",
   "metadata": {},
   "outputs": [
    {
     "name": "stdout",
     "output_type": "stream",
     "text": [
      "Please write a passage to answer the question\n",
      "Question: {question}\n",
      "Passage:\n"
     ]
    }
   ],
   "source": [
    "hyde_prompt_template = \"\"\"Please write a passage to answer the question\n",
    "Question: {question}\n",
    "Passage:\"\"\"\n",
    "print(hyde_prompt_template)"
   ]
  },
  {
   "cell_type": "code",
   "execution_count": 16,
   "id": "6c680829-4ce4-48b9-8e2f-d069c2715e48",
   "metadata": {},
   "outputs": [
    {
     "name": "stdout",
     "output_type": "stream",
     "text": [
      "Answer the following question based on this context:\n",
      "\n",
      "{context}\n",
      "\n",
      "Question: {question}\n",
      "\n"
     ]
    }
   ],
   "source": [
    "rag_prompt_template = \"\"\"Answer the following question based on this context:\n",
    "\n",
    "{context}\n",
    "\n",
    "Question: {question}\n",
    "\"\"\"\n",
    "print(rag_prompt_template)"
   ]
  },
  {
   "cell_type": "code",
   "execution_count": 17,
   "id": "5d3467a2-666a-4b26-a944-f5d4d4681fa7",
   "metadata": {},
   "outputs": [],
   "source": [
    "def format_docs(docs):\n",
    "    return \"\\n\\n\".join(doc.page_content for doc in docs)"
   ]
  },
  {
   "cell_type": "code",
   "execution_count": 18,
   "id": "53e5b53d-1143-4739-bd43-7abc74fcdc8d",
   "metadata": {},
   "outputs": [],
   "source": [
    "query = \"What is task decomposition for LLM agents?\""
   ]
  },
  {
   "cell_type": "code",
   "execution_count": 19,
   "id": "efd4dd07-610a-459b-bb43-c4e9344d572e",
   "metadata": {},
   "outputs": [],
   "source": [
    "class State(TypedDict):\n",
    "    question: str\n",
    "    generated_documents: list[str]\n",
    "    hyde_embeddings: np.ndarray\n",
    "    context: list[Document]\n",
    "    answer: str"
   ]
  },
  {
   "cell_type": "code",
   "execution_count": 20,
   "id": "abce7134-6b43-4e35-afd0-3203d8a7bb57",
   "metadata": {},
   "outputs": [],
   "source": [
    "def generate_documents(state: State, config: RunnableConfig) -> list[Document]:\n",
    "    generated_documents_count = config['configurable'].get(\"generated_documents_count\", 3)\n",
    "    \n",
    "    hyde_prompt = hyde_prompt_template.format(\n",
    "        question=state[\"question\"]\n",
    "    )\n",
    "    generated_documents = llm.batch([hyde_prompt] * generated_documents_count)\n",
    "    \n",
    "    return {\"generated_documents\": [document.content for document in generated_documents]}\n",
    "\n",
    "\n",
    "def calculate_hyde_embeddings(state: State):\n",
    "    question_embeddings = np.array(embeddings.embed_query(state['question']))\n",
    "    generated_documents_embeddings = np.array(embeddings.embed_documents(state['generated_documents']))\n",
    "    hyde_embeddings = np.vstack([question_embeddings, generated_documents_embeddings]).mean(axis=0)\n",
    "    return {\"hyde_embeddings\": list(hyde_embeddings)}\n",
    "\n",
    "\n",
    "def get_relevant_documents(state: State):\n",
    "    documents = vectorstore.similarity_search_by_vector(state[\"hyde_embeddings\"])\n",
    "    return {\"context\": documents}\n",
    "\n",
    "\n",
    "def generate_answer(state: State):\n",
    "    docs_content = format_docs(state[\"context\"])\n",
    "    rag_prompt = rag_prompt_template.format(\n",
    "        context=docs_content,\n",
    "        question=state[\"question\"]\n",
    "    )\n",
    "    response = llm.invoke([\n",
    "        HumanMessage(content=rag_prompt)\n",
    "    ])\n",
    "    return {\"answer\": response.content}"
   ]
  },
  {
   "cell_type": "code",
   "execution_count": 21,
   "id": "1115f445-fbe8-43ab-91a7-c17ff26aec99",
   "metadata": {},
   "outputs": [
    {
     "data": {
      "image/png": "[encoded data removed]",
      "text/plain": [
       "<langgraph.graph.state.CompiledStateGraph object at 0x7fbd44471010>"
      ]
     },
     "execution_count": 21,
     "metadata": {},
     "output_type": "execute_result"
    }
   ],
   "source": [
    "graph_builder = StateGraph(State)\n",
    "\n",
    "graph_builder.add_node(\"generate_documents\", generate_documents)\n",
    "graph_builder.add_node(\"calculate_hyde_embeddings\", calculate_hyde_embeddings)\n",
    "graph_builder.add_node(\"get_relevant_documents\", get_relevant_documents)\n",
    "graph_builder.add_node(\"generate_answer\", generate_answer)\n",
    "\n",
    "graph_builder.add_edge(START, \"generate_documents\")\n",
    "graph_builder.add_edge(\"generate_documents\", \"calculate_hyde_embeddings\")\n",
    "graph_builder.add_edge(\"calculate_hyde_embeddings\", \"get_relevant_documents\")\n",
    "graph_builder.add_edge(\"get_relevant_documents\", \"generate_answer\")\n",
    "graph_builder.add_edge(\"generate_answer\", END)\n",
    "graph = graph_builder.compile()\n",
    "graph"
   ]
  },
  {
   "cell_type": "code",
   "execution_count": 22,
   "id": "f9aa8516-8eae-4d29-a6aa-640bc661c4bc",
   "metadata": {},
   "outputs": [
    {
     "name": "stdout",
     "output_type": "stream",
     "text": [
      "What is task decomposition for LLM agents?\n"
     ]
    },
    {
     "data": {
      "text/html": [
       "<pre style=\"white-space:pre;overflow-x:auto;line-height:normal;font-family:Menlo,'DejaVu Sans Mono',consolas,'Courier New',monospace\"><span style=\"font-weight: bold\">{</span>\n",
       "    <span style=\"color: #008000; text-decoration-color: #008000\">'question'</span>: <span style=\"color: #008000; text-decoration-color: #008000\">'What is task decomposition for LLM agents?'</span>,\n",
       "    <span style=\"color: #008000; text-decoration-color: #008000\">'generated_documents'</span>: <span style=\"font-weight: bold\">[</span>\n",
       "        <span style=\"color: #008000; text-decoration-color: #008000\">'Task decomposition for LLM (Large Language Model) agents refers to the process of breaking down complex </span>\n",
       "<span style=\"color: #008000; text-decoration-color: #008000\">tasks into smaller, more manageable sub-tasks that a language model can handle effectively. This approach allows </span>\n",
       "<span style=\"color: #008000; text-decoration-color: #008000\">LLMs to tackle intricate problems by addressing each component step-by-step, thus enhancing their ability to </span>\n",
       "<span style=\"color: #008000; text-decoration-color: #008000\">generate coherent and contextually relevant responses. \\n\\nIn practice, task decomposition involves analyzing a </span>\n",
       "<span style=\"color: #008000; text-decoration-color: #008000\">given query or task to identify its core elements and dependencies. For instance, a user might ask an LLM to </span>\n",
       "<span style=\"color: #008000; text-decoration-color: #008000\">generate a business plan. Instead of processing the entire request at once, the model can decompose the task into </span>\n",
       "<span style=\"color: #008000; text-decoration-color: #008000\">several sub-tasks, such as market analysis, financial projections, and marketing strategies. By sequentially </span>\n",
       "<span style=\"color: #008000; text-decoration-color: #008000\">addressing each sub-task, the LLM can produce more detailed and structured outputs.\\n\\nMoreover, task decomposition</span>\n",
       "<span style=\"color: #008000; text-decoration-color: #008000\">assists in improving the overall accuracy and relevance of the responses by allowing the model to focus on one </span>\n",
       "<span style=\"color: #008000; text-decoration-color: #008000\">aspect at a time. It also enables the integration of various reasoning capabilities, as the LLM can apply different</span>\n",
       "<span style=\"color: #008000; text-decoration-color: #008000\">logic patterns and knowledge areas while working through each component of the overall task. This method ultimately</span>\n",
       "<span style=\"color: #008000; text-decoration-color: #008000\">enhances the effectiveness and usability of LLM agents in various applications, including writing, problem-solving,</span>\n",
       "<span style=\"color: #008000; text-decoration-color: #008000\">and decision-making.'</span>,\n",
       "        <span style=\"color: #008000; text-decoration-color: #008000\">\"Task decomposition for LLM (Large Language Model) agents refers to the process of breaking down complex </span>\n",
       "<span style=\"color: #008000; text-decoration-color: #008000\">tasks into smaller, manageable components that can be more easily understood and executed by the agent. This </span>\n",
       "<span style=\"color: #008000; text-decoration-color: #008000\">approach is particularly useful when dealing with intricate problems that require multiple steps or diverse </span>\n",
       "<span style=\"color: #008000; text-decoration-color: #008000\">knowledge areas. By deconstructing a task into its fundamental parts, LLM agents can systematically address each </span>\n",
       "<span style=\"color: #008000; text-decoration-color: #008000\">component, leveraging their language understanding to generate more accurate and coherent responses.\\n\\nFor </span>\n",
       "<span style=\"color: #008000; text-decoration-color: #008000\">example, if tasked with writing a research paper, an LLM agent might first decompose the assignment into several </span>\n",
       "<span style=\"color: #008000; text-decoration-color: #008000\">key stages: topic selection, research, outlining, drafting, and revision. The agent can then focus on each stage </span>\n",
       "<span style=\"color: #008000; text-decoration-color: #008000\">sequentially or in parallel, ensuring that it adequately addresses each aspect of the task. This method enhances </span>\n",
       "<span style=\"color: #008000; text-decoration-color: #008000\">the efficiency and effectiveness of the agent's performance, as it allows for targeted responses and minimizes the </span>\n",
       "<span style=\"color: #008000; text-decoration-color: #008000\">risk of oversight or errors.\\n\\nAdditionally, task decomposition can facilitate collaboration among multiple LLM </span>\n",
       "<span style=\"color: #008000; text-decoration-color: #008000\">agents, with each agent specializing in different parts of the overall task. This division of labor can lead to </span>\n",
       "<span style=\"color: #008000; text-decoration-color: #008000\">improved outcomes, as it allows for the pooling of knowledge and capabilities. Overall, task decomposition is a </span>\n",
       "<span style=\"color: #008000; text-decoration-color: #008000\">critical strategy for optimizing the problem-solving abilities of LLM agents, enabling them to take on complex </span>\n",
       "<span style=\"color: #008000; text-decoration-color: #008000\">challenges with greater precision and clarity.\"</span>,\n",
       "        <span style=\"color: #008000; text-decoration-color: #008000\">'Task decomposition for LLM (Large Language Model) agents refers to the process of breaking down complex </span>\n",
       "<span style=\"color: #008000; text-decoration-color: #008000\">tasks into smaller, more manageable sub-tasks or components. This approach leverages the capabilities of LLMs to </span>\n",
       "<span style=\"color: #008000; text-decoration-color: #008000\">handle specific, well-defined instructions, which enhances their overall efficiency and effectiveness in generating</span>\n",
       "<span style=\"color: #008000; text-decoration-color: #008000\">responses or performing designated actions. By segmenting a larger task into simpler parts, LLM agents can </span>\n",
       "<span style=\"color: #008000; text-decoration-color: #008000\">systematically address each element, ensuring that all aspects are thoroughly executed and reducing the risk of </span>\n",
       "<span style=\"color: #008000; text-decoration-color: #008000\">errors.\\n\\nFor instance, if a user requires an LLM to draft a comprehensive report, the agent might first decompose</span>\n",
       "<span style=\"color: #008000; text-decoration-color: #008000\">this task into several key stages: conducting research, outlining the report structure, writing individual </span>\n",
       "<span style=\"color: #008000; text-decoration-color: #008000\">sections, and finally, editing and revising the content. This step-by-step breakdown allows the agent to focus on </span>\n",
       "<span style=\"color: #008000; text-decoration-color: #008000\">one aspect at a time, making it easier to ensure the quality and coherence of the final output. \\n\\nFurthermore, </span>\n",
       "<span style=\"color: #008000; text-decoration-color: #008000\">task decomposition enables LLMs to draw upon specialized knowledge or strategies relevant to each sub-task, </span>\n",
       "<span style=\"color: #008000; text-decoration-color: #008000\">optimizing performance and providing users with more accurate and contextually appropriate outputs. In summary, </span>\n",
       "<span style=\"color: #008000; text-decoration-color: #008000\">task decomposition enhances the workflow of LLM agents, allowing for a more structured approach to problem-solving </span>\n",
       "<span style=\"color: #008000; text-decoration-color: #008000\">and content creation.'</span>\n",
       "    <span style=\"font-weight: bold\">]</span>,\n",
       "    <span style=\"color: #008000; text-decoration-color: #008000\">'hyde_embeddings'</span>: <span style=\"font-weight: bold\">[</span>\n",
       "        <span style=\"color: #008080; text-decoration-color: #008080; font-weight: bold\">0.0042193391473119846</span>,\n",
       "        <span style=\"color: #008080; text-decoration-color: #008080; font-weight: bold\">0.020462385844439268</span>,\n",
       "        <span style=\"color: #008080; text-decoration-color: #008080; font-weight: bold\">0.05575017910450697</span>,\n",
       "        <span style=\"color: #008080; text-decoration-color: #008080; font-weight: bold\">0.005448649055324495</span>,\n",
       "        <span style=\"color: #008080; text-decoration-color: #008080; font-weight: bold\">-0.0020930225146003067</span>,\n",
       "        <span style=\"color: #008080; text-decoration-color: #008080; font-weight: bold\">0.004267382086254656</span>,\n",
       "        <span style=\"color: #008080; text-decoration-color: #008080; font-weight: bold\">0.025309243937954307</span>,\n",
       "        <span style=\"color: #008080; text-decoration-color: #008080; font-weight: bold\">0.026205006521195173</span>,\n",
       "        <span style=\"color: #008080; text-decoration-color: #008080; font-weight: bold\">-0.00022766762413084507</span>,\n",
       "        <span style=\"color: #008080; text-decoration-color: #008080; font-weight: bold\">0.05446064379066229</span>,\n",
       "        <span style=\"color: #008080; text-decoration-color: #008080; font-weight: bold\">0.020280844066292048</span>,\n",
       "        <span style=\"color: #008080; text-decoration-color: #008080; font-weight: bold\">-0.0345099912956357</span>,\n",
       "        <span style=\"color: #008080; text-decoration-color: #008080; font-weight: bold\">-0.021263941656798124</span>,\n",
       "        <span style=\"color: #008080; text-decoration-color: #008080; font-weight: bold\">-0.03455075062811375</span>,\n",
       "        <span style=\"color: #008080; text-decoration-color: #008080; font-weight: bold\">-0.00790901509753894</span>,\n",
       "        <span style=\"color: #008080; text-decoration-color: #008080; font-weight: bold\">-0.03191866306588054</span>,\n",
       "        <span style=\"color: #008080; text-decoration-color: #008080; font-weight: bold\">0.022809301037341356</span>,\n",
       "        <span style=\"color: #008080; text-decoration-color: #008080; font-weight: bold\">-0.019486550707370043</span>,\n",
       "        <span style=\"color: #008080; text-decoration-color: #008080; font-weight: bold\">-0.009033773501869291</span>,\n",
       "        <span style=\"color: #008080; text-decoration-color: #008080; font-weight: bold\">0.050675930455327034</span>,\n",
       "        <span style=\"color: #808000; text-decoration-color: #808000\">...</span> +<span style=\"color: #008080; text-decoration-color: #008080; font-weight: bold\">1516</span>\n",
       "    <span style=\"font-weight: bold\">]</span>,\n",
       "    <span style=\"color: #008000; text-decoration-color: #008000\">'context'</span>: <span style=\"font-weight: bold\">[</span><span style=\"color: #800080; text-decoration-color: #800080; font-weight: bold\">Document</span><span style=\"font-weight: bold\">(</span><span style=\"color: #808000; text-decoration-color: #808000\">...</span><span style=\"font-weight: bold\">)</span>, <span style=\"color: #800080; text-decoration-color: #800080; font-weight: bold\">Document</span><span style=\"font-weight: bold\">(</span><span style=\"color: #808000; text-decoration-color: #808000\">...</span><span style=\"font-weight: bold\">)</span>, <span style=\"color: #800080; text-decoration-color: #800080; font-weight: bold\">Document</span><span style=\"font-weight: bold\">(</span><span style=\"color: #808000; text-decoration-color: #808000\">...</span><span style=\"font-weight: bold\">)</span>, <span style=\"color: #800080; text-decoration-color: #800080; font-weight: bold\">Document</span><span style=\"font-weight: bold\">(</span><span style=\"color: #808000; text-decoration-color: #808000\">...</span><span style=\"font-weight: bold\">)]</span>,\n",
       "    <span style=\"color: #008000; text-decoration-color: #008000\">'answer'</span>: <span style=\"color: #008000; text-decoration-color: #008000\">'Task decomposition for LLM (large language model) agents refers to the process of breaking down </span>\n",
       "<span style=\"color: #008000; text-decoration-color: #008000\">complex tasks into smaller, manageable subgoals. This method allows the agent to systematically address each </span>\n",
       "<span style=\"color: #008000; text-decoration-color: #008000\">subgoal step by step, enhancing its ability to perform complicated tasks more efficiently. The technique, known as </span>\n",
       "<span style=\"color: #008000; text-decoration-color: #008000\">Chain of Thought (CoT), instructs the model to \"think step by step,\" leading to improved performance and a clearer </span>\n",
       "<span style=\"color: #008000; text-decoration-color: #008000\">interpretation of the model\\'s reasoning process. By transforming larger tasks into simpler components, task </span>\n",
       "<span style=\"color: #008000; text-decoration-color: #008000\">decomposition facilitates the agent\\'s planning and execution capabilities.'</span>\n",
       "<span style=\"font-weight: bold\">}</span>\n",
       "</pre>\n"
      ],
      "text/plain": [
       "\u001b[1m{\u001b[0m\n",
       "    \u001b[32m'question'\u001b[0m: \u001b[32m'What is task decomposition for LLM agents?'\u001b[0m,\n",
       "    \u001b[32m'generated_documents'\u001b[0m: \u001b[1m[\u001b[0m\n",
       "        \u001b[32m'Task decomposition for LLM \u001b[0m\u001b[32m(\u001b[0m\u001b[32mLarge Language Model\u001b[0m\u001b[32m)\u001b[0m\u001b[32m agents refers to the process of breaking down complex \u001b[0m\n",
       "\u001b[32mtasks into smaller, more manageable sub-tasks that a language model can handle effectively. This approach allows \u001b[0m\n",
       "\u001b[32mLLMs to tackle intricate problems by addressing each component step-by-step, thus enhancing their ability to \u001b[0m\n",
       "\u001b[32mgenerate coherent and contextually relevant responses. \\n\\nIn practice, task decomposition involves analyzing a \u001b[0m\n",
       "\u001b[32mgiven query or task to identify its core elements and dependencies. For instance, a user might ask an LLM to \u001b[0m\n",
       "\u001b[32mgenerate a business plan. Instead of processing the entire request at once, the model can decompose the task into \u001b[0m\n",
       "\u001b[32mseveral sub-tasks, such as market analysis, financial projections, and marketing strategies. By sequentially \u001b[0m\n",
       "\u001b[32maddressing each sub-task, the LLM can produce more detailed and structured outputs.\\n\\nMoreover, task decomposition\u001b[0m\n",
       "\u001b[32massists in improving the overall accuracy and relevance of the responses by allowing the model to focus on one \u001b[0m\n",
       "\u001b[32maspect at a time. It also enables the integration of various reasoning capabilities, as the LLM can apply different\u001b[0m\n",
       "\u001b[32mlogic patterns and knowledge areas while working through each component of the overall task. This method ultimately\u001b[0m\n",
       "\u001b[32menhances the effectiveness and usability of LLM agents in various applications, including writing, problem-solving,\u001b[0m\n",
       "\u001b[32mand decision-making.'\u001b[0m,\n",
       "        \u001b[32m\"Task decomposition for LLM \u001b[0m\u001b[32m(\u001b[0m\u001b[32mLarge Language Model\u001b[0m\u001b[32m)\u001b[0m\u001b[32m agents refers to the process of breaking down complex \u001b[0m\n",
       "\u001b[32mtasks into smaller, manageable components that can be more easily understood and executed by the agent. This \u001b[0m\n",
       "\u001b[32mapproach is particularly useful when dealing with intricate problems that require multiple steps or diverse \u001b[0m\n",
       "\u001b[32mknowledge areas. By deconstructing a task into its fundamental parts, LLM agents can systematically address each \u001b[0m\n",
       "\u001b[32mcomponent, leveraging their language understanding to generate more accurate and coherent responses.\\n\\nFor \u001b[0m\n",
       "\u001b[32mexample, if tasked with writing a research paper, an LLM agent might first decompose the assignment into several \u001b[0m\n",
       "\u001b[32mkey stages: topic selection, research, outlining, drafting, and revision. The agent can then focus on each stage \u001b[0m\n",
       "\u001b[32msequentially or in parallel, ensuring that it adequately addresses each aspect of the task. This method enhances \u001b[0m\n",
       "\u001b[32mthe efficiency and effectiveness of the agent's performance, as it allows for targeted responses and minimizes the \u001b[0m\n",
       "\u001b[32mrisk of oversight or errors.\\n\\nAdditionally, task decomposition can facilitate collaboration among multiple LLM \u001b[0m\n",
       "\u001b[32magents, with each agent specializing in different parts of the overall task. This division of labor can lead to \u001b[0m\n",
       "\u001b[32mimproved outcomes, as it allows for the pooling of knowledge and capabilities. Overall, task decomposition is a \u001b[0m\n",
       "\u001b[32mcritical strategy for optimizing the problem-solving abilities of LLM agents, enabling them to take on complex \u001b[0m\n",
       "\u001b[32mchallenges with greater precision and clarity.\"\u001b[0m,\n",
       "        \u001b[32m'Task decomposition for LLM \u001b[0m\u001b[32m(\u001b[0m\u001b[32mLarge Language Model\u001b[0m\u001b[32m)\u001b[0m\u001b[32m agents refers to the process of breaking down complex \u001b[0m\n",
       "\u001b[32mtasks into smaller, more manageable sub-tasks or components. This approach leverages the capabilities of LLMs to \u001b[0m\n",
       "\u001b[32mhandle specific, well-defined instructions, which enhances their overall efficiency and effectiveness in generating\u001b[0m\n",
       "\u001b[32mresponses or performing designated actions. By segmenting a larger task into simpler parts, LLM agents can \u001b[0m\n",
       "\u001b[32msystematically address each element, ensuring that all aspects are thoroughly executed and reducing the risk of \u001b[0m\n",
       "\u001b[32merrors.\\n\\nFor instance, if a user requires an LLM to draft a comprehensive report, the agent might first decompose\u001b[0m\n",
       "\u001b[32mthis task into several key stages: conducting research, outlining the report structure, writing individual \u001b[0m\n",
       "\u001b[32msections, and finally, editing and revising the content. This step-by-step breakdown allows the agent to focus on \u001b[0m\n",
       "\u001b[32mone aspect at a time, making it easier to ensure the quality and coherence of the final output. \\n\\nFurthermore, \u001b[0m\n",
       "\u001b[32mtask decomposition enables LLMs to draw upon specialized knowledge or strategies relevant to each sub-task, \u001b[0m\n",
       "\u001b[32moptimizing performance and providing users with more accurate and contextually appropriate outputs. In summary, \u001b[0m\n",
       "\u001b[32mtask decomposition enhances the workflow of LLM agents, allowing for a more structured approach to problem-solving \u001b[0m\n",
       "\u001b[32mand content creation.'\u001b[0m\n",
       "    \u001b[1m]\u001b[0m,\n",
       "    \u001b[32m'hyde_embeddings'\u001b[0m: \u001b[1m[\u001b[0m\n",
       "        \u001b[1;36m0.0042193391473119846\u001b[0m,\n",
       "        \u001b[1;36m0.020462385844439268\u001b[0m,\n",
       "        \u001b[1;36m0.05575017910450697\u001b[0m,\n",
       "        \u001b[1;36m0.005448649055324495\u001b[0m,\n",
       "        \u001b[1;36m-0.0020930225146003067\u001b[0m,\n",
       "        \u001b[1;36m0.004267382086254656\u001b[0m,\n",
       "        \u001b[1;36m0.025309243937954307\u001b[0m,\n",
       "        \u001b[1;36m0.026205006521195173\u001b[0m,\n",
       "        \u001b[1;36m-0.00022766762413084507\u001b[0m,\n",
       "        \u001b[1;36m0.05446064379066229\u001b[0m,\n",
       "        \u001b[1;36m0.020280844066292048\u001b[0m,\n",
       "        \u001b[1;36m-0.0345099912956357\u001b[0m,\n",
       "        \u001b[1;36m-0.021263941656798124\u001b[0m,\n",
       "        \u001b[1;36m-0.03455075062811375\u001b[0m,\n",
       "        \u001b[1;36m-0.00790901509753894\u001b[0m,\n",
       "        \u001b[1;36m-0.03191866306588054\u001b[0m,\n",
       "        \u001b[1;36m0.022809301037341356\u001b[0m,\n",
       "        \u001b[1;36m-0.019486550707370043\u001b[0m,\n",
       "        \u001b[1;36m-0.009033773501869291\u001b[0m,\n",
       "        \u001b[1;36m0.050675930455327034\u001b[0m,\n",
       "        \u001b[33m...\u001b[0m +\u001b[1;36m1516\u001b[0m\n",
       "    \u001b[1m]\u001b[0m,\n",
       "    \u001b[32m'context'\u001b[0m: \u001b[1m[\u001b[0m\u001b[1;35mDocument\u001b[0m\u001b[1m(\u001b[0m\u001b[33m...\u001b[0m\u001b[1m)\u001b[0m, \u001b[1;35mDocument\u001b[0m\u001b[1m(\u001b[0m\u001b[33m...\u001b[0m\u001b[1m)\u001b[0m, \u001b[1;35mDocument\u001b[0m\u001b[1m(\u001b[0m\u001b[33m...\u001b[0m\u001b[1m)\u001b[0m, \u001b[1;35mDocument\u001b[0m\u001b[1m(\u001b[0m\u001b[33m...\u001b[0m\u001b[1m)\u001b[0m\u001b[1m]\u001b[0m,\n",
       "    \u001b[32m'answer'\u001b[0m: \u001b[32m'Task decomposition for LLM \u001b[0m\u001b[32m(\u001b[0m\u001b[32mlarge language model\u001b[0m\u001b[32m)\u001b[0m\u001b[32m agents refers to the process of breaking down \u001b[0m\n",
       "\u001b[32mcomplex tasks into smaller, manageable subgoals. This method allows the agent to systematically address each \u001b[0m\n",
       "\u001b[32msubgoal step by step, enhancing its ability to perform complicated tasks more efficiently. The technique, known as \u001b[0m\n",
       "\u001b[32mChain of Thought \u001b[0m\u001b[32m(\u001b[0m\u001b[32mCoT\u001b[0m\u001b[32m)\u001b[0m\u001b[32m, instructs the model to \"think step by step,\" leading to improved performance and a clearer \u001b[0m\n",
       "\u001b[32minterpretation of the model\\'s reasoning process. By transforming larger tasks into simpler components, task \u001b[0m\n",
       "\u001b[32mdecomposition facilitates the agent\\'s planning and execution capabilities.'\u001b[0m\n",
       "\u001b[1m}\u001b[0m\n"
      ]
     },
     "metadata": {},
     "output_type": "display_data"
    },
    {
     "data": {
      "text/html": [
       "<pre style=\"white-space:pre;overflow-x:auto;line-height:normal;font-family:Menlo,'DejaVu Sans Mono',consolas,'Courier New',monospace\">Task decomposition for LLM (large language model) agents refers to the process of breaking down complex tasks into \n",
       "smaller, manageable subgoals. This method allows the agent to systematically address each subgoal step by step,    \n",
       "enhancing its ability to perform complicated tasks more efficiently. The technique, known as Chain of Thought      \n",
       "(CoT), instructs the model to \"think step by step,\" leading to improved performance and a clearer interpretation of\n",
       "the model's reasoning process. By transforming larger tasks into simpler components, task decomposition facilitates\n",
       "the agent's planning and execution capabilities.                                                                   \n",
       "</pre>\n"
      ],
      "text/plain": [
       "Task decomposition for LLM (large language model) agents refers to the process of breaking down complex tasks into \n",
       "smaller, manageable subgoals. This method allows the agent to systematically address each subgoal step by step,    \n",
       "enhancing its ability to perform complicated tasks more efficiently. The technique, known as Chain of Thought      \n",
       "(CoT), instructs the model to \"think step by step,\" leading to improved performance and a clearer interpretation of\n",
       "the model's reasoning process. By transforming larger tasks into simpler components, task decomposition facilitates\n",
       "the agent's planning and execution capabilities.                                                                   \n"
      ]
     },
     "metadata": {},
     "output_type": "display_data"
    }
   ],
   "source": [
    "print(query)\n",
    "\n",
    "response = graph.invoke({\"question\": query})\n",
    "\n",
    "display(Pretty(response, max_depth=2, max_length=20))\n",
    "display(Markdown(response[\"answer\"]))"
   ]
  },
  {
   "cell_type": "code",
   "execution_count": 23,
   "id": "6dfd34b0-bb3d-43a1-9764-5708bd93ff23",
   "metadata": {},
   "outputs": [
    {
     "name": "stdout",
     "output_type": "stream",
     "text": [
      "What is task decomposition for LLM agents?\n"
     ]
    },
    {
     "data": {
      "text/html": [
       "<pre style=\"white-space:pre;overflow-x:auto;line-height:normal;font-family:Menlo,'DejaVu Sans Mono',consolas,'Courier New',monospace\"><span style=\"font-weight: bold\">{</span>\n",
       "    <span style=\"color: #008000; text-decoration-color: #008000\">'question'</span>: <span style=\"color: #008000; text-decoration-color: #008000\">'What is task decomposition for LLM agents?'</span>,\n",
       "    <span style=\"color: #008000; text-decoration-color: #008000\">'generated_documents'</span>: <span style=\"font-weight: bold\">[</span>\n",
       "        <span style=\"color: #008000; text-decoration-color: #008000\">'Task decomposition for large language model (LLM) agents is the process of breaking down complex tasks </span>\n",
       "<span style=\"color: #008000; text-decoration-color: #008000\">into smaller, more manageable subtasks that can be processed more efficiently. This approach enables LLMs to tackle</span>\n",
       "<span style=\"color: #008000; text-decoration-color: #008000\">intricate problems by simplifying them into a series of steps that can be addressed sequentially or in parallel. </span>\n",
       "<span style=\"color: #008000; text-decoration-color: #008000\">Each subtask focuses on a specific aspect of the overall task, making it easier for the LLM to generate accurate </span>\n",
       "<span style=\"color: #008000; text-decoration-color: #008000\">and relevant responses.\\n\\nIn practice, task decomposition involves identifying the different components of a given</span>\n",
       "<span style=\"color: #008000; text-decoration-color: #008000\">task, such as information gathering, analysis, and synthesis. By segmenting these components, LLM agents can </span>\n",
       "<span style=\"color: #008000; text-decoration-color: #008000\">operate with greater precision, allowing them to leverage their strengths in natural language understanding and </span>\n",
       "<span style=\"color: #008000; text-decoration-color: #008000\">generation. Furthermore, task decomposition can facilitate better resource management, as LLMs can prioritize and </span>\n",
       "<span style=\"color: #008000; text-decoration-color: #008000\">optimize their processing efforts based on the requirements of each subtask.\\n\\nThis methodology not only enhances </span>\n",
       "<span style=\"color: #008000; text-decoration-color: #008000\">the efficiency and effectiveness of LLM agents but also allows them to be applied to a wider range of applications.</span>\n",
       "<span style=\"color: #008000; text-decoration-color: #008000\">By breaking down tasks, LLMs become more adept at handling diverse challenges in fields such as customer support, </span>\n",
       "<span style=\"color: #008000; text-decoration-color: #008000\">content creation, and data analysis, ultimately leading to improved user experiences and outcomes.'</span>,\n",
       "        <span style=\"color: #008000; text-decoration-color: #008000\">'Task decomposition for LLM (Large Language Model) agents refers to the process of breaking down a complex </span>\n",
       "<span style=\"color: #008000; text-decoration-color: #008000\">task into smaller, manageable sub-tasks that can be addressed sequentially or independently. This approach </span>\n",
       "<span style=\"color: #008000; text-decoration-color: #008000\">leverages the strengths of LLMs in natural language understanding and generation by allowing them to handle </span>\n",
       "<span style=\"color: #008000; text-decoration-color: #008000\">specific components of a larger problem more effectively. Each sub-task can be formulated as a distinct query or </span>\n",
       "<span style=\"color: #008000; text-decoration-color: #008000\">instruction, enabling the LLM to focus on providing targeted responses or solutions rather than attempting to </span>\n",
       "<span style=\"color: #008000; text-decoration-color: #008000\">tackle the entire task in one go. \\n\\nFor instance, in a scenario where an LLM is tasked with organizing a travel </span>\n",
       "<span style=\"color: #008000; text-decoration-color: #008000\">itinerary, task decomposition might involve separating the process into distinct segments such as researching </span>\n",
       "<span style=\"color: #008000; text-decoration-color: #008000\">destinations, booking accommodations, and planning activities. By addressing each of these components individually,</span>\n",
       "<span style=\"color: #008000; text-decoration-color: #008000\">the LLM can optimize its performance, ensure thoroughness, and enhance the overall quality of the output. Moreover,</span>\n",
       "<span style=\"color: #008000; text-decoration-color: #008000\">task decomposition facilitates better collaboration between multiple LLM agents or other AI systems, as they can </span>\n",
       "<span style=\"color: #008000; text-decoration-color: #008000\">work on different parts of the task concurrently, leading to more efficient problem-solving and project completion.</span>\n",
       "<span style=\"color: #008000; text-decoration-color: #008000\">Overall, task decomposition is a valuable strategy for maximizing the potential of LLMs, allowing them to exhibit </span>\n",
       "<span style=\"color: #008000; text-decoration-color: #008000\">greater proficiency in addressing complex, multifaceted challenges.'</span>,\n",
       "        <span style=\"color: #008000; text-decoration-color: #008000\">'Task decomposition for LLM (Large Language Model) agents refers to the process of breaking down complex </span>\n",
       "<span style=\"color: #008000; text-decoration-color: #008000\">tasks or problems into smaller, more manageable sub-tasks that can be individually addressed. This approach </span>\n",
       "<span style=\"color: #008000; text-decoration-color: #008000\">facilitates more effective problem-solving and enhances the model\\'s ability to provide coherent and contextually </span>\n",
       "<span style=\"color: #008000; text-decoration-color: #008000\">relevant responses.\\n\\nIn practical terms, task decomposition involves analyzing a given task to identify its key </span>\n",
       "<span style=\"color: #008000; text-decoration-color: #008000\">components and relationships. For instance, if the task is to \"plan a vacation,\" it can be decomposed into </span>\n",
       "<span style=\"color: #008000; text-decoration-color: #008000\">sub-tasks such as \"choose a destination,\" \"budget for the trip,\" \"create an itinerary,\" and \"book accommodations.\" </span>\n",
       "<span style=\"color: #008000; text-decoration-color: #008000\">By tackling these sub-tasks sequentially or in parallel, the LLM can generate more accurate and detailed outputs, </span>\n",
       "<span style=\"color: #008000; text-decoration-color: #008000\">improving the overall quality of the response.\\n\\nFurthermore, task decomposition enables LLM agents to work </span>\n",
       "<span style=\"color: #008000; text-decoration-color: #008000\">through intricate scenarios more systematically. It can leverage its linguistic and contextual understanding to </span>\n",
       "<span style=\"color: #008000; text-decoration-color: #008000\">address each sub-task based on the information available. This approach not only enhances the LLM\\'s efficiency in </span>\n",
       "<span style=\"color: #008000; text-decoration-color: #008000\">generating responses but also allows it to manage users’ expectations by providing clear and structured </span>\n",
       "<span style=\"color: #008000; text-decoration-color: #008000\">information.\\n\\nOverall, task decomposition is a vital technique in the development of LLM agents, allowing them to</span>\n",
       "<span style=\"color: #008000; text-decoration-color: #008000\">navigate complex inquiries more effectively, ultimately leading to a better user experience.'</span>,\n",
       "        <span style=\"color: #008000; text-decoration-color: #008000\">'Task decomposition for LLM (Large Language Model) agents refers to the process of breaking down complex </span>\n",
       "<span style=\"color: #008000; text-decoration-color: #008000\">tasks into smaller, more manageable sub-tasks that can be addressed sequentially or simultaneously. This approach </span>\n",
       "<span style=\"color: #008000; text-decoration-color: #008000\">enables LLM agents to tackle intricate problems by structuring them into simpler components, thereby enhancing </span>\n",
       "<span style=\"color: #008000; text-decoration-color: #008000\">clarity and efficiency in execution.\\n\\nIn practice, task decomposition enhances the performance of LLM agents by </span>\n",
       "<span style=\"color: #008000; text-decoration-color: #008000\">allowing them to focus on specific aspects of a task without being overwhelmed by the entire scope of the problem. </span>\n",
       "<span style=\"color: #008000; text-decoration-color: #008000\">For example, if an agent is required to write a report, task decomposition would involve identifying the necessary </span>\n",
       "<span style=\"color: #008000; text-decoration-color: #008000\">steps such as gathering information, creating an outline, drafting sections, and editing the final document. By </span>\n",
       "<span style=\"color: #008000; text-decoration-color: #008000\">following these smaller, structured tasks, the agent can systematically address each part, leading to a more </span>\n",
       "<span style=\"color: #008000; text-decoration-color: #008000\">coherent and comprehensive output.\\n\\nMoreover, task decomposition can facilitate better collaboration among </span>\n",
       "<span style=\"color: #008000; text-decoration-color: #008000\">multiple LLM agents, each specializing in different sub-tasks. This collaborative approach not only improves </span>\n",
       "<span style=\"color: #008000; text-decoration-color: #008000\">efficiency but also leverages the strengths of various models, ultimately leading to more sophisticated outcomes. </span>\n",
       "<span style=\"color: #008000; text-decoration-color: #008000\">Overall, task decomposition is a critical strategy for maximizing the capabilities of LLM agents in solving complex</span>\n",
       "<span style=\"color: #008000; text-decoration-color: #008000\">challenges effectively.'</span>,\n",
       "        <span style=\"color: #008000; text-decoration-color: #008000\">'Task decomposition for LLM (Large Language Model) agents refers to the process of breaking down complex </span>\n",
       "<span style=\"color: #008000; text-decoration-color: #008000\">tasks into smaller, more manageable sub-tasks that can be tackled sequentially or in parallel. This approach is </span>\n",
       "<span style=\"color: #008000; text-decoration-color: #008000\">particularly beneficial for LLMs, which are designed to process and generate human-like text but may encounter </span>\n",
       "<span style=\"color: #008000; text-decoration-color: #008000\">difficulties when faced with multifaceted queries or overarching objectives. By decomposing a task, an LLM agent </span>\n",
       "<span style=\"color: #008000; text-decoration-color: #008000\">can analyze each sub-task independently, leveraging its capabilities to generate more focused, coherent, and </span>\n",
       "<span style=\"color: #008000; text-decoration-color: #008000\">contextually relevant responses.\\n\\nFor example, if the overarching task is to write a research paper, task </span>\n",
       "<span style=\"color: #008000; text-decoration-color: #008000\">decomposition would involve separating that goal into distinct components such as conducting a literature review, </span>\n",
       "<span style=\"color: #008000; text-decoration-color: #008000\">formulating a thesis statement, outlining sections (introduction, methodology, results, discussion), and finally </span>\n",
       "<span style=\"color: #008000; text-decoration-color: #008000\">drafting each section. This step-by-step approach not only enhances the clarity of the responses generated by the </span>\n",
       "<span style=\"color: #008000; text-decoration-color: #008000\">LLM but also allows for iterative refinement, as feedback can be applied to individual components of the </span>\n",
       "<span style=\"color: #008000; text-decoration-color: #008000\">task.\\n\\nFurthermore, task decomposition can facilitate collaboration between multiple agents or systems, enabling </span>\n",
       "<span style=\"color: #008000; text-decoration-color: #008000\">them to specialize in different aspects of the task at hand. Overall, effective task decomposition is crucial for </span>\n",
       "<span style=\"color: #008000; text-decoration-color: #008000\">maximizing the efficiency and output quality of LLM agents, turning complex objectives into achievable and </span>\n",
       "<span style=\"color: #008000; text-decoration-color: #008000\">systematic workflows.'</span>\n",
       "    <span style=\"font-weight: bold\">]</span>,\n",
       "    <span style=\"color: #008000; text-decoration-color: #008000\">'hyde_embeddings'</span>: <span style=\"font-weight: bold\">[</span>\n",
       "        <span style=\"color: #008080; text-decoration-color: #008080; font-weight: bold\">0.0032838789435724416</span>,\n",
       "        <span style=\"color: #008080; text-decoration-color: #008080; font-weight: bold\">0.01873836588735382</span>,\n",
       "        <span style=\"color: #008080; text-decoration-color: #008080; font-weight: bold\">0.05309538667400678</span>,\n",
       "        <span style=\"color: #008080; text-decoration-color: #008080; font-weight: bold\">0.00811601554354032</span>,\n",
       "        <span style=\"color: #008080; text-decoration-color: #008080; font-weight: bold\">-0.0010589732288887415</span>,\n",
       "        <span style=\"color: #008080; text-decoration-color: #008080; font-weight: bold\">-0.0010727288123841088</span>,\n",
       "        <span style=\"color: #008080; text-decoration-color: #008080; font-weight: bold\">0.026502825630207855</span>,\n",
       "        <span style=\"color: #008080; text-decoration-color: #008080; font-weight: bold\">0.024004203577836353</span>,\n",
       "        <span style=\"color: #008080; text-decoration-color: #008080; font-weight: bold\">-0.0019521416591790814</span>,\n",
       "        <span style=\"color: #008080; text-decoration-color: #008080; font-weight: bold\">0.056575056786338486</span>,\n",
       "        <span style=\"color: #008080; text-decoration-color: #008080; font-weight: bold\">0.023571028995017212</span>,\n",
       "        <span style=\"color: #008080; text-decoration-color: #008080; font-weight: bold\">-0.031626167396704354</span>,\n",
       "        <span style=\"color: #008080; text-decoration-color: #008080; font-weight: bold\">-0.023906926003595192</span>,\n",
       "        <span style=\"color: #008080; text-decoration-color: #008080; font-weight: bold\">-0.03691635808597008</span>,\n",
       "        <span style=\"color: #008080; text-decoration-color: #008080; font-weight: bold\">-0.006138603513439496</span>,\n",
       "        <span style=\"color: #008080; text-decoration-color: #008080; font-weight: bold\">-0.03126603737473488</span>,\n",
       "        <span style=\"color: #008080; text-decoration-color: #008080; font-weight: bold\">0.016663407635254163</span>,\n",
       "        <span style=\"color: #008080; text-decoration-color: #008080; font-weight: bold\">-0.021646898239850998</span>,\n",
       "        <span style=\"color: #008080; text-decoration-color: #008080; font-weight: bold\">-0.0035324182633000114</span>,\n",
       "        <span style=\"color: #008080; text-decoration-color: #008080; font-weight: bold\">0.05211928611000379</span>,\n",
       "        <span style=\"color: #808000; text-decoration-color: #808000\">...</span> +<span style=\"color: #008080; text-decoration-color: #008080; font-weight: bold\">1516</span>\n",
       "    <span style=\"font-weight: bold\">]</span>,\n",
       "    <span style=\"color: #008000; text-decoration-color: #008000\">'context'</span>: <span style=\"font-weight: bold\">[</span><span style=\"color: #800080; text-decoration-color: #800080; font-weight: bold\">Document</span><span style=\"font-weight: bold\">(</span><span style=\"color: #808000; text-decoration-color: #808000\">...</span><span style=\"font-weight: bold\">)</span>, <span style=\"color: #800080; text-decoration-color: #800080; font-weight: bold\">Document</span><span style=\"font-weight: bold\">(</span><span style=\"color: #808000; text-decoration-color: #808000\">...</span><span style=\"font-weight: bold\">)</span>, <span style=\"color: #800080; text-decoration-color: #800080; font-weight: bold\">Document</span><span style=\"font-weight: bold\">(</span><span style=\"color: #808000; text-decoration-color: #808000\">...</span><span style=\"font-weight: bold\">)</span>, <span style=\"color: #800080; text-decoration-color: #800080; font-weight: bold\">Document</span><span style=\"font-weight: bold\">(</span><span style=\"color: #808000; text-decoration-color: #808000\">...</span><span style=\"font-weight: bold\">)]</span>,\n",
       "    <span style=\"color: #008000; text-decoration-color: #008000\">'answer'</span>: <span style=\"color: #008000; text-decoration-color: #008000\">'Task decomposition for LLM (large language model) agents is the process by which an agent breaks </span>\n",
       "<span style=\"color: #008000; text-decoration-color: #008000\">down large, complex tasks into smaller, more manageable subgoals. This method allows the agent to handle </span>\n",
       "<span style=\"color: #008000; text-decoration-color: #008000\">complicated tasks efficiently by transforming them into a series of simpler steps. By employing techniques such as </span>\n",
       "<span style=\"color: #008000; text-decoration-color: #008000\">Chain of Thought (CoT), the model is encouraged to \"think step by step,\" enabling it to utilize its computational </span>\n",
       "<span style=\"color: #008000; text-decoration-color: #008000\">power effectively and providing insights into its reasoning process. This approach enhances the overall model </span>\n",
       "<span style=\"color: #008000; text-decoration-color: #008000\">performance by facilitating clearer planning and execution of tasks.'</span>\n",
       "<span style=\"font-weight: bold\">}</span>\n",
       "</pre>\n"
      ],
      "text/plain": [
       "\u001b[1m{\u001b[0m\n",
       "    \u001b[32m'question'\u001b[0m: \u001b[32m'What is task decomposition for LLM agents?'\u001b[0m,\n",
       "    \u001b[32m'generated_documents'\u001b[0m: \u001b[1m[\u001b[0m\n",
       "        \u001b[32m'Task decomposition for large language model \u001b[0m\u001b[32m(\u001b[0m\u001b[32mLLM\u001b[0m\u001b[32m)\u001b[0m\u001b[32m agents is the process of breaking down complex tasks \u001b[0m\n",
       "\u001b[32minto smaller, more manageable subtasks that can be processed more efficiently. This approach enables LLMs to tackle\u001b[0m\n",
       "\u001b[32mintricate problems by simplifying them into a series of steps that can be addressed sequentially or in parallel. \u001b[0m\n",
       "\u001b[32mEach subtask focuses on a specific aspect of the overall task, making it easier for the LLM to generate accurate \u001b[0m\n",
       "\u001b[32mand relevant responses.\\n\\nIn practice, task decomposition involves identifying the different components of a given\u001b[0m\n",
       "\u001b[32mtask, such as information gathering, analysis, and synthesis. By segmenting these components, LLM agents can \u001b[0m\n",
       "\u001b[32moperate with greater precision, allowing them to leverage their strengths in natural language understanding and \u001b[0m\n",
       "\u001b[32mgeneration. Furthermore, task decomposition can facilitate better resource management, as LLMs can prioritize and \u001b[0m\n",
       "\u001b[32moptimize their processing efforts based on the requirements of each subtask.\\n\\nThis methodology not only enhances \u001b[0m\n",
       "\u001b[32mthe efficiency and effectiveness of LLM agents but also allows them to be applied to a wider range of applications.\u001b[0m\n",
       "\u001b[32mBy breaking down tasks, LLMs become more adept at handling diverse challenges in fields such as customer support, \u001b[0m\n",
       "\u001b[32mcontent creation, and data analysis, ultimately leading to improved user experiences and outcomes.'\u001b[0m,\n",
       "        \u001b[32m'Task decomposition for LLM \u001b[0m\u001b[32m(\u001b[0m\u001b[32mLarge Language Model\u001b[0m\u001b[32m)\u001b[0m\u001b[32m agents refers to the process of breaking down a complex \u001b[0m\n",
       "\u001b[32mtask into smaller, manageable sub-tasks that can be addressed sequentially or independently. This approach \u001b[0m\n",
       "\u001b[32mleverages the strengths of LLMs in natural language understanding and generation by allowing them to handle \u001b[0m\n",
       "\u001b[32mspecific components of a larger problem more effectively. Each sub-task can be formulated as a distinct query or \u001b[0m\n",
       "\u001b[32minstruction, enabling the LLM to focus on providing targeted responses or solutions rather than attempting to \u001b[0m\n",
       "\u001b[32mtackle the entire task in one go. \\n\\nFor instance, in a scenario where an LLM is tasked with organizing a travel \u001b[0m\n",
       "\u001b[32mitinerary, task decomposition might involve separating the process into distinct segments such as researching \u001b[0m\n",
       "\u001b[32mdestinations, booking accommodations, and planning activities. By addressing each of these components individually,\u001b[0m\n",
       "\u001b[32mthe LLM can optimize its performance, ensure thoroughness, and enhance the overall quality of the output. Moreover,\u001b[0m\n",
       "\u001b[32mtask decomposition facilitates better collaboration between multiple LLM agents or other AI systems, as they can \u001b[0m\n",
       "\u001b[32mwork on different parts of the task concurrently, leading to more efficient problem-solving and project completion.\u001b[0m\n",
       "\u001b[32mOverall, task decomposition is a valuable strategy for maximizing the potential of LLMs, allowing them to exhibit \u001b[0m\n",
       "\u001b[32mgreater proficiency in addressing complex, multifaceted challenges.'\u001b[0m,\n",
       "        \u001b[32m'Task decomposition for LLM \u001b[0m\u001b[32m(\u001b[0m\u001b[32mLarge Language Model\u001b[0m\u001b[32m)\u001b[0m\u001b[32m agents refers to the process of breaking down complex \u001b[0m\n",
       "\u001b[32mtasks or problems into smaller, more manageable sub-tasks that can be individually addressed. This approach \u001b[0m\n",
       "\u001b[32mfacilitates more effective problem-solving and enhances the model\\'s ability to provide coherent and contextually \u001b[0m\n",
       "\u001b[32mrelevant responses.\\n\\nIn practical terms, task decomposition involves analyzing a given task to identify its key \u001b[0m\n",
       "\u001b[32mcomponents and relationships. For instance, if the task is to \"plan a vacation,\" it can be decomposed into \u001b[0m\n",
       "\u001b[32msub-tasks such as \"choose a destination,\" \"budget for the trip,\" \"create an itinerary,\" and \"book accommodations.\" \u001b[0m\n",
       "\u001b[32mBy tackling these sub-tasks sequentially or in parallel, the LLM can generate more accurate and detailed outputs, \u001b[0m\n",
       "\u001b[32mimproving the overall quality of the response.\\n\\nFurthermore, task decomposition enables LLM agents to work \u001b[0m\n",
       "\u001b[32mthrough intricate scenarios more systematically. It can leverage its linguistic and contextual understanding to \u001b[0m\n",
       "\u001b[32maddress each sub-task based on the information available. This approach not only enhances the LLM\\'s efficiency in \u001b[0m\n",
       "\u001b[32mgenerating responses but also allows it to manage users’ expectations by providing clear and structured \u001b[0m\n",
       "\u001b[32minformation.\\n\\nOverall, task decomposition is a vital technique in the development of LLM agents, allowing them to\u001b[0m\n",
       "\u001b[32mnavigate complex inquiries more effectively, ultimately leading to a better user experience.'\u001b[0m,\n",
       "        \u001b[32m'Task decomposition for LLM \u001b[0m\u001b[32m(\u001b[0m\u001b[32mLarge Language Model\u001b[0m\u001b[32m)\u001b[0m\u001b[32m agents refers to the process of breaking down complex \u001b[0m\n",
       "\u001b[32mtasks into smaller, more manageable sub-tasks that can be addressed sequentially or simultaneously. This approach \u001b[0m\n",
       "\u001b[32menables LLM agents to tackle intricate problems by structuring them into simpler components, thereby enhancing \u001b[0m\n",
       "\u001b[32mclarity and efficiency in execution.\\n\\nIn practice, task decomposition enhances the performance of LLM agents by \u001b[0m\n",
       "\u001b[32mallowing them to focus on specific aspects of a task without being overwhelmed by the entire scope of the problem. \u001b[0m\n",
       "\u001b[32mFor example, if an agent is required to write a report, task decomposition would involve identifying the necessary \u001b[0m\n",
       "\u001b[32msteps such as gathering information, creating an outline, drafting sections, and editing the final document. By \u001b[0m\n",
       "\u001b[32mfollowing these smaller, structured tasks, the agent can systematically address each part, leading to a more \u001b[0m\n",
       "\u001b[32mcoherent and comprehensive output.\\n\\nMoreover, task decomposition can facilitate better collaboration among \u001b[0m\n",
       "\u001b[32mmultiple LLM agents, each specializing in different sub-tasks. This collaborative approach not only improves \u001b[0m\n",
       "\u001b[32mefficiency but also leverages the strengths of various models, ultimately leading to more sophisticated outcomes. \u001b[0m\n",
       "\u001b[32mOverall, task decomposition is a critical strategy for maximizing the capabilities of LLM agents in solving complex\u001b[0m\n",
       "\u001b[32mchallenges effectively.'\u001b[0m,\n",
       "        \u001b[32m'Task decomposition for LLM \u001b[0m\u001b[32m(\u001b[0m\u001b[32mLarge Language Model\u001b[0m\u001b[32m)\u001b[0m\u001b[32m agents refers to the process of breaking down complex \u001b[0m\n",
       "\u001b[32mtasks into smaller, more manageable sub-tasks that can be tackled sequentially or in parallel. This approach is \u001b[0m\n",
       "\u001b[32mparticularly beneficial for LLMs, which are designed to process and generate human-like text but may encounter \u001b[0m\n",
       "\u001b[32mdifficulties when faced with multifaceted queries or overarching objectives. By decomposing a task, an LLM agent \u001b[0m\n",
       "\u001b[32mcan analyze each sub-task independently, leveraging its capabilities to generate more focused, coherent, and \u001b[0m\n",
       "\u001b[32mcontextually relevant responses.\\n\\nFor example, if the overarching task is to write a research paper, task \u001b[0m\n",
       "\u001b[32mdecomposition would involve separating that goal into distinct components such as conducting a literature review, \u001b[0m\n",
       "\u001b[32mformulating a thesis statement, outlining sections \u001b[0m\u001b[32m(\u001b[0m\u001b[32mintroduction, methodology, results, discussion\u001b[0m\u001b[32m)\u001b[0m\u001b[32m, and finally \u001b[0m\n",
       "\u001b[32mdrafting each section. This step-by-step approach not only enhances the clarity of the responses generated by the \u001b[0m\n",
       "\u001b[32mLLM but also allows for iterative refinement, as feedback can be applied to individual components of the \u001b[0m\n",
       "\u001b[32mtask.\\n\\nFurthermore, task decomposition can facilitate collaboration between multiple agents or systems, enabling \u001b[0m\n",
       "\u001b[32mthem to specialize in different aspects of the task at hand. Overall, effective task decomposition is crucial for \u001b[0m\n",
       "\u001b[32mmaximizing the efficiency and output quality of LLM agents, turning complex objectives into achievable and \u001b[0m\n",
       "\u001b[32msystematic workflows.'\u001b[0m\n",
       "    \u001b[1m]\u001b[0m,\n",
       "    \u001b[32m'hyde_embeddings'\u001b[0m: \u001b[1m[\u001b[0m\n",
       "        \u001b[1;36m0.0032838789435724416\u001b[0m,\n",
       "        \u001b[1;36m0.01873836588735382\u001b[0m,\n",
       "        \u001b[1;36m0.05309538667400678\u001b[0m,\n",
       "        \u001b[1;36m0.00811601554354032\u001b[0m,\n",
       "        \u001b[1;36m-0.0010589732288887415\u001b[0m,\n",
       "        \u001b[1;36m-0.0010727288123841088\u001b[0m,\n",
       "        \u001b[1;36m0.026502825630207855\u001b[0m,\n",
       "        \u001b[1;36m0.024004203577836353\u001b[0m,\n",
       "        \u001b[1;36m-0.0019521416591790814\u001b[0m,\n",
       "        \u001b[1;36m0.056575056786338486\u001b[0m,\n",
       "        \u001b[1;36m0.023571028995017212\u001b[0m,\n",
       "        \u001b[1;36m-0.031626167396704354\u001b[0m,\n",
       "        \u001b[1;36m-0.023906926003595192\u001b[0m,\n",
       "        \u001b[1;36m-0.03691635808597008\u001b[0m,\n",
       "        \u001b[1;36m-0.006138603513439496\u001b[0m,\n",
       "        \u001b[1;36m-0.03126603737473488\u001b[0m,\n",
       "        \u001b[1;36m0.016663407635254163\u001b[0m,\n",
       "        \u001b[1;36m-0.021646898239850998\u001b[0m,\n",
       "        \u001b[1;36m-0.0035324182633000114\u001b[0m,\n",
       "        \u001b[1;36m0.05211928611000379\u001b[0m,\n",
       "        \u001b[33m...\u001b[0m +\u001b[1;36m1516\u001b[0m\n",
       "    \u001b[1m]\u001b[0m,\n",
       "    \u001b[32m'context'\u001b[0m: \u001b[1m[\u001b[0m\u001b[1;35mDocument\u001b[0m\u001b[1m(\u001b[0m\u001b[33m...\u001b[0m\u001b[1m)\u001b[0m, \u001b[1;35mDocument\u001b[0m\u001b[1m(\u001b[0m\u001b[33m...\u001b[0m\u001b[1m)\u001b[0m, \u001b[1;35mDocument\u001b[0m\u001b[1m(\u001b[0m\u001b[33m...\u001b[0m\u001b[1m)\u001b[0m, \u001b[1;35mDocument\u001b[0m\u001b[1m(\u001b[0m\u001b[33m...\u001b[0m\u001b[1m)\u001b[0m\u001b[1m]\u001b[0m,\n",
       "    \u001b[32m'answer'\u001b[0m: \u001b[32m'Task decomposition for LLM \u001b[0m\u001b[32m(\u001b[0m\u001b[32mlarge language model\u001b[0m\u001b[32m)\u001b[0m\u001b[32m agents is the process by which an agent breaks \u001b[0m\n",
       "\u001b[32mdown large, complex tasks into smaller, more manageable subgoals. This method allows the agent to handle \u001b[0m\n",
       "\u001b[32mcomplicated tasks efficiently by transforming them into a series of simpler steps. By employing techniques such as \u001b[0m\n",
       "\u001b[32mChain of Thought \u001b[0m\u001b[32m(\u001b[0m\u001b[32mCoT\u001b[0m\u001b[32m)\u001b[0m\u001b[32m, the model is encouraged to \"think step by step,\" enabling it to utilize its computational \u001b[0m\n",
       "\u001b[32mpower effectively and providing insights into its reasoning process. This approach enhances the overall model \u001b[0m\n",
       "\u001b[32mperformance by facilitating clearer planning and execution of tasks.'\u001b[0m\n",
       "\u001b[1m}\u001b[0m\n"
      ]
     },
     "metadata": {},
     "output_type": "display_data"
    },
    {
     "data": {
      "text/html": [
       "<pre style=\"white-space:pre;overflow-x:auto;line-height:normal;font-family:Menlo,'DejaVu Sans Mono',consolas,'Courier New',monospace\">Task decomposition for LLM (large language model) agents is the process by which an agent breaks down large,       \n",
       "complex tasks into smaller, more manageable subgoals. This method allows the agent to handle complicated tasks     \n",
       "efficiently by transforming them into a series of simpler steps. By employing techniques such as Chain of Thought  \n",
       "(CoT), the model is encouraged to \"think step by step,\" enabling it to utilize its computational power effectively \n",
       "and providing insights into its reasoning process. This approach enhances the overall model performance by         \n",
       "facilitating clearer planning and execution of tasks.                                                              \n",
       "</pre>\n"
      ],
      "text/plain": [
       "Task decomposition for LLM (large language model) agents is the process by which an agent breaks down large,       \n",
       "complex tasks into smaller, more manageable subgoals. This method allows the agent to handle complicated tasks     \n",
       "efficiently by transforming them into a series of simpler steps. By employing techniques such as Chain of Thought  \n",
       "(CoT), the model is encouraged to \"think step by step,\" enabling it to utilize its computational power effectively \n",
       "and providing insights into its reasoning process. This approach enhances the overall model performance by         \n",
       "facilitating clearer planning and execution of tasks.                                                              \n"
      ]
     },
     "metadata": {},
     "output_type": "display_data"
    }
   ],
   "source": [
    "print(query)\n",
    "\n",
    "config = {\n",
    "    \"configurable\": {\n",
    "        \"generated_documents_count\": 5,   \n",
    "    }\n",
    "}\n",
    "response = graph.invoke({\"question\": query}, config=config)\n",
    "\n",
    "display(Pretty(response, max_depth=2, max_length=20))\n",
    "display(Markdown(response[\"answer\"]))"
   ]
  }
 ],
 "metadata": {
  "kernelspec": {
   "display_name": "Python 3 (ipykernel)",
   "language": "python",
   "name": "python3"
  },
  "language_info": {
   "codemirror_mode": {
    "name": "ipython",
    "version": 3
   },
   "file_extension": ".py",
   "mimetype": "text/x-python",
   "name": "python",
   "nbconvert_exporter": "python",
   "pygments_lexer": "ipython3",
   "version": "3.11.11"
  }
 },
 "nbformat": 4,
 "nbformat_minor": 5
}
