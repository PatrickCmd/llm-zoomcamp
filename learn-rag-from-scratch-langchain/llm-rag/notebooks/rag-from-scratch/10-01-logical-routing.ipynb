{
 "cells": [
  {
   "cell_type": "code",
   "execution_count": 1,
   "id": "4ed8074a-34cd-4d19-98a0-a60a7b3ef799",
   "metadata": {},
   "outputs": [],
   "source": [
    "import os\n",
    "import re\n",
    "\n",
    "from dotenv import find_dotenv, load_dotenv\n",
    "from IPython.display import display\n",
    "from rich import print as rprint\n",
    "from rich.markdown import Markdown\n",
    "from rich.pretty import Pretty\n",
    "from rich.text import Text"
   ]
  },
  {
   "cell_type": "code",
   "execution_count": 2,
   "id": "2871441a-216c-4f8e-96d6-1f9f69354b5d",
   "metadata": {},
   "outputs": [
    {
     "data": {
      "text/plain": [
       "True"
      ]
     },
     "execution_count": 2,
     "metadata": {},
     "output_type": "execute_result"
    }
   ],
   "source": [
    "load_dotenv(find_dotenv('.env'))"
   ]
  },
  {
   "cell_type": "code",
   "execution_count": 3,
   "id": "01cd50e6-9b32-4a6f-955b-2b364f79e2f3",
   "metadata": {},
   "outputs": [],
   "source": [
    "os.environ[\"LANGCHAIN_PROJECT\"] = \"RAG From Scratch: Part 10-1 (Routing - Logical Routing)\""
   ]
  },
  {
   "cell_type": "markdown",
   "id": "4aa5c577-61f8-4af3-8edc-6a3b09aed72f",
   "metadata": {},
   "source": [
    "# Routing"
   ]
  },
  {
   "cell_type": "markdown",
   "id": "934780f4-5715-4c7e-87c7-870473682ab1",
   "metadata": {},
   "source": [
    "![](images/routing-01.png)"
   ]
  },
  {
   "cell_type": "markdown",
   "id": "3472a31d-96ab-49f2-819c-f58d62e5194c",
   "metadata": {},
   "source": [
    "# Part 10-1: Logical Routing"
   ]
  },
  {
   "cell_type": "markdown",
   "id": "1be7e09d-be72-493e-9ffb-e17bbcb496b5",
   "metadata": {},
   "source": [
    "![](images/10-01-logical-routing.png)"
   ]
  },
  {
   "cell_type": "markdown",
   "id": "48582c5c-e95b-4e2c-bc38-7e65072bfe39",
   "metadata": {},
   "source": [
    "## Configure components"
   ]
  },
  {
   "cell_type": "code",
   "execution_count": 4,
   "id": "c4451b02-2cfb-4a49-a2db-f9197a5ead04",
   "metadata": {},
   "outputs": [],
   "source": [
    "from langchain_openai import ChatOpenAI, OpenAIEmbeddings"
   ]
  },
  {
   "cell_type": "code",
   "execution_count": 5,
   "id": "bea630db-cc76-4ae7-bbba-aa67a8a4fe83",
   "metadata": {},
   "outputs": [
    {
     "data": {
      "text/plain": [
       "AIMessage(content='Hello! How can I assist you today?', additional_kwargs={'refusal': None}, response_metadata={'token_usage': {'completion_tokens': 10, 'prompt_tokens': 8, 'total_tokens': 18, 'completion_tokens_details': {'accepted_prediction_tokens': 0, 'audio_tokens': 0, 'reasoning_tokens': 0, 'rejected_prediction_tokens': 0}, 'prompt_tokens_details': {'audio_tokens': 0, 'cached_tokens': 0}}, 'model_name': 'gpt-4o-mini-2024-07-18', 'system_fingerprint': 'fp_b376dfbbd5', 'id': 'chatcmpl-BKOjlWOATT3EqOPeiKgf74NbXjSBo', 'finish_reason': 'stop', 'logprobs': None}, id='run-206f4bf3-f315-48ef-b320-7332eb5097cc-0', usage_metadata={'input_tokens': 8, 'output_tokens': 10, 'total_tokens': 18, 'input_token_details': {'audio': 0, 'cache_read': 0}, 'output_token_details': {'audio': 0, 'reasoning': 0}})"
      ]
     },
     "execution_count": 5,
     "metadata": {},
     "output_type": "execute_result"
    }
   ],
   "source": [
    "llm = ChatOpenAI(\n",
    "    model=\"gpt-4o-mini\",\n",
    "    temperature=1\n",
    ")\n",
    "llm.invoke(\"Hello\")"
   ]
  },
  {
   "cell_type": "code",
   "execution_count": 6,
   "id": "287d82e6-180d-4c16-ac0a-2fbf79a46b5f",
   "metadata": {},
   "outputs": [
    {
     "data": {
      "text/plain": [
       "1536"
      ]
     },
     "execution_count": 6,
     "metadata": {},
     "output_type": "execute_result"
    }
   ],
   "source": [
    "embeddings = OpenAIEmbeddings(model=\"text-embedding-3-small\")\n",
    "len(embeddings.embed_query(\"Hello\"))"
   ]
  },
  {
   "cell_type": "markdown",
   "id": "7e35c723-f8e8-4458-83de-a9489e90217f",
   "metadata": {},
   "source": [
    "## RAG"
   ]
  },
  {
   "cell_type": "code",
   "execution_count": 7,
   "id": "3bbcc82c-0248-44fd-ab01-0f8cb095be39",
   "metadata": {},
   "outputs": [],
   "source": [
    "from typing import Literal, TypedDict\n",
    "\n",
    "from langchain_core.messages import HumanMessage, SystemMessage\n",
    "from langgraph.graph import END, START, StateGraph\n",
    "from pydantic import BaseModel, Field"
   ]
  },
  {
   "cell_type": "code",
   "execution_count": 8,
   "id": "0abf8c79-5c61-4b42-9af9-7961b67cb10f",
   "metadata": {},
   "outputs": [
    {
     "name": "stdout",
     "output_type": "stream",
     "text": [
      "You are an expert at routing a user question to the appropriate data source.\n",
      "\n",
      "Based on the programming language the question is referring to, route it to the relevant data source.\n"
     ]
    }
   ],
   "source": [
    "system_prompt = \"\"\"You are an expert at routing a user question to the appropriate data source.\n",
    "\n",
    "Based on the programming language the question is referring to, route it to the relevant data source.\"\"\"\n",
    "print(system_prompt)"
   ]
  },
  {
   "cell_type": "code",
   "execution_count": 9,
   "id": "09834540-1977-4a89-ac9d-1593b6dc83d5",
   "metadata": {},
   "outputs": [],
   "source": [
    "class RouteInfo(BaseModel):\n",
    "    \"\"\"Route a user query to the most relevant data source.\"\"\"\n",
    "\n",
    "    data_source: Literal[\"python_docs\", \"js_docs\", \"golang_docs\"] = Field(\n",
    "        ...,\n",
    "        description=\"Given a user question choose which data source would be most relevant for answering their question\",\n",
    "    )\n",
    "\n",
    "structured_llm = llm.with_structured_output(RouteInfo, method=\"function_calling\")"
   ]
  },
  {
   "cell_type": "code",
   "execution_count": 10,
   "id": "b9f3279b-9b9d-4e54-a5af-12b381ec5a07",
   "metadata": {},
   "outputs": [],
   "source": [
    "python_query = \"\"\"Why doesn't the following code work:\n",
    "\n",
    "from langchain_core.prompts import ChatPromptTemplate\n",
    "\n",
    "prompt = ChatPromptTemplate.from_messages([\"human\", \"speak in {language}\"])\n",
    "prompt.invoke(\"french\")\n",
    "\"\"\"\n",
    "javascript_query = \"\"\"Which arguments has getElementById function?\"\"\"\n",
    "golang_query = \"\"\"What is struct?\"\"\""
   ]
  },
  {
   "cell_type": "code",
   "execution_count": 11,
   "id": "5df8b663-1ce1-4f10-b392-ba3a65e4cf1f",
   "metadata": {},
   "outputs": [],
   "source": [
    "class State(TypedDict):\n",
    "    question: str\n",
    "    data_source: str\n",
    "    context: str\n",
    "    answer: str"
   ]
  },
  {
   "cell_type": "code",
   "execution_count": 12,
   "id": "b3f45d23-314c-4901-bfbb-ab272cd61877",
   "metadata": {},
   "outputs": [],
   "source": [
    "def select_data_source(state: State):\n",
    "    response = structured_llm.invoke([\n",
    "        SystemMessage(content=system_prompt),\n",
    "        HumanMessage(content=state[\"question\"])\n",
    "    ])\n",
    "    return {\"data_source\": response.data_source}\n",
    "\n",
    "\n",
    "def route_query(state: State) -> Literal[\"python_docs\", \"js_docs\", \"golang_docs\"]:\n",
    "    return state['data_source']\n",
    "\n",
    "\n",
    "def retrieve_python_docs(state: State):\n",
    "    return {'context': 'Python documentation'}\n",
    "\n",
    "\n",
    "def retrieve_js_docs(state: State):\n",
    "    return {'context': 'Javascript documentation'}\n",
    "\n",
    "\n",
    "def retrieve_golang_docs(state: State):\n",
    "    return {'context': 'Go documentation'}\n",
    "\n",
    "\n",
    "def generate_answer(state: State):\n",
    "    return {'answer': f'Answer based on {state[\"context\"]}'}"
   ]
  },
  {
   "cell_type": "code",
   "execution_count": 13,
   "id": "f5ce47db-5405-4ab0-95d5-5343544d77ea",
   "metadata": {},
   "outputs": [
    {
     "data": {
      "image/png": "[encoded data removed]",
      "text/plain": [
       "<langgraph.graph.state.CompiledStateGraph object at 0x7f6ef9bdb6d0>"
      ]
     },
     "execution_count": 13,
     "metadata": {},
     "output_type": "execute_result"
    }
   ],
   "source": [
    "graph_builder = StateGraph(State)\n",
    "\n",
    "graph_builder.add_node(\"select_data_source\", select_data_source)\n",
    "graph_builder.add_node(\"python_docs\", retrieve_python_docs)\n",
    "graph_builder.add_node(\"js_docs\", retrieve_js_docs)\n",
    "graph_builder.add_node(\"golang_docs\", retrieve_golang_docs)\n",
    "graph_builder.add_node(\"generate_answer\", generate_answer)\n",
    "\n",
    "graph_builder.add_edge(START, \"select_data_source\")\n",
    "graph_builder.add_conditional_edges(\n",
    "    \"select_data_source\", \n",
    "    route_query, \n",
    "    [\"python_docs\", \"js_docs\", \"golang_docs\"]\n",
    ")\n",
    "graph_builder.add_edge(\"python_docs\", \"generate_answer\")\n",
    "graph_builder.add_edge(\"js_docs\", \"generate_answer\")\n",
    "graph_builder.add_edge(\"golang_docs\", \"generate_answer\")\n",
    "graph_builder.add_edge(\"generate_answer\", END)\n",
    "\n",
    "graph = graph_builder.compile()\n",
    "graph"
   ]
  },
  {
   "cell_type": "code",
   "execution_count": 14,
   "id": "4c3f96d9-34d9-4061-be9b-d8645ef83f05",
   "metadata": {},
   "outputs": [
    {
     "name": "stdout",
     "output_type": "stream",
     "text": [
      "Why doesn't the following code work:\n",
      "\n",
      "from langchain_core.prompts import ChatPromptTemplate\n",
      "\n",
      "prompt = ChatPromptTemplate.from_messages([\"human\", \"speak in {language}\"])\n",
      "prompt.invoke(\"french\")\n",
      "\n"
     ]
    },
    {
     "data": {
      "text/html": [
       "<pre style=\"white-space:pre;overflow-x:auto;line-height:normal;font-family:Menlo,'DejaVu Sans Mono',consolas,'Courier New',monospace\"><span style=\"font-weight: bold\">{</span>\n",
       "    <span style=\"color: #008000; text-decoration-color: #008000\">'question'</span>: <span style=\"color: #008000; text-decoration-color: #008000\">'Why doesn\\'t the following code work:\\n\\nfrom langchain_core.prompts import </span>\n",
       "<span style=\"color: #008000; text-decoration-color: #008000\">ChatPromptTemplate\\n\\nprompt = ChatPromptTemplate.from_messages([\"human\", \"speak in </span>\n",
       "<span style=\"color: #008000; text-decoration-color: #008000\">{language}\"])\\nprompt.invoke(\"french\")\\n'</span>,\n",
       "    <span style=\"color: #008000; text-decoration-color: #008000\">'data_source'</span>: <span style=\"color: #008000; text-decoration-color: #008000\">'python_docs'</span>,\n",
       "    <span style=\"color: #008000; text-decoration-color: #008000\">'context'</span>: <span style=\"color: #008000; text-decoration-color: #008000\">'Python documentation'</span>,\n",
       "    <span style=\"color: #008000; text-decoration-color: #008000\">'answer'</span>: <span style=\"color: #008000; text-decoration-color: #008000\">'Answer based on Python documentation'</span>\n",
       "<span style=\"font-weight: bold\">}</span>\n",
       "</pre>\n"
      ],
      "text/plain": [
       "\u001b[1m{\u001b[0m\n",
       "    \u001b[32m'question'\u001b[0m: \u001b[32m'Why doesn\\'t the following code work:\\n\\nfrom langchain_core.prompts import \u001b[0m\n",
       "\u001b[32mChatPromptTemplate\\n\\nprompt = ChatPromptTemplate.from_messages\u001b[0m\u001b[32m(\u001b[0m\u001b[32m[\u001b[0m\u001b[32m\"human\", \"speak in \u001b[0m\n",
       "\u001b[32m{\u001b[0m\u001b[32mlanguage\u001b[0m\u001b[32m}\u001b[0m\u001b[32m\"\u001b[0m\u001b[32m]\u001b[0m\u001b[32m)\u001b[0m\u001b[32m\\nprompt.invoke\u001b[0m\u001b[32m(\u001b[0m\u001b[32m\"french\"\u001b[0m\u001b[32m)\u001b[0m\u001b[32m\\n'\u001b[0m,\n",
       "    \u001b[32m'data_source'\u001b[0m: \u001b[32m'python_docs'\u001b[0m,\n",
       "    \u001b[32m'context'\u001b[0m: \u001b[32m'Python documentation'\u001b[0m,\n",
       "    \u001b[32m'answer'\u001b[0m: \u001b[32m'Answer based on Python documentation'\u001b[0m\n",
       "\u001b[1m}\u001b[0m\n"
      ]
     },
     "metadata": {},
     "output_type": "display_data"
    }
   ],
   "source": [
    "print(python_query)\n",
    "response = graph.invoke({\"question\": python_query})\n",
    "rprint(response)"
   ]
  },
  {
   "cell_type": "code",
   "execution_count": 15,
   "id": "ac381261-46e6-434e-b1b0-b5b576e8c11a",
   "metadata": {},
   "outputs": [
    {
     "name": "stdout",
     "output_type": "stream",
     "text": [
      "Which arguments has getElementById function?\n"
     ]
    },
    {
     "data": {
      "text/html": [
       "<pre style=\"white-space:pre;overflow-x:auto;line-height:normal;font-family:Menlo,'DejaVu Sans Mono',consolas,'Courier New',monospace\"><span style=\"font-weight: bold\">{</span>\n",
       "    <span style=\"color: #008000; text-decoration-color: #008000\">'question'</span>: <span style=\"color: #008000; text-decoration-color: #008000\">'Which arguments has getElementById function?'</span>,\n",
       "    <span style=\"color: #008000; text-decoration-color: #008000\">'data_source'</span>: <span style=\"color: #008000; text-decoration-color: #008000\">'js_docs'</span>,\n",
       "    <span style=\"color: #008000; text-decoration-color: #008000\">'context'</span>: <span style=\"color: #008000; text-decoration-color: #008000\">'Javascript documentation'</span>,\n",
       "    <span style=\"color: #008000; text-decoration-color: #008000\">'answer'</span>: <span style=\"color: #008000; text-decoration-color: #008000\">'Answer based on Javascript documentation'</span>\n",
       "<span style=\"font-weight: bold\">}</span>\n",
       "</pre>\n"
      ],
      "text/plain": [
       "\u001b[1m{\u001b[0m\n",
       "    \u001b[32m'question'\u001b[0m: \u001b[32m'Which arguments has getElementById function?'\u001b[0m,\n",
       "    \u001b[32m'data_source'\u001b[0m: \u001b[32m'js_docs'\u001b[0m,\n",
       "    \u001b[32m'context'\u001b[0m: \u001b[32m'Javascript documentation'\u001b[0m,\n",
       "    \u001b[32m'answer'\u001b[0m: \u001b[32m'Answer based on Javascript documentation'\u001b[0m\n",
       "\u001b[1m}\u001b[0m\n"
      ]
     },
     "metadata": {},
     "output_type": "display_data"
    }
   ],
   "source": [
    "print(javascript_query)\n",
    "response = graph.invoke({\"question\": javascript_query})\n",
    "rprint(response)"
   ]
  },
  {
   "cell_type": "code",
   "execution_count": 16,
   "id": "7270ae8d-6dda-43cf-880e-a63cddfdefbd",
   "metadata": {},
   "outputs": [
    {
     "name": "stdout",
     "output_type": "stream",
     "text": [
      "What is struct?\n"
     ]
    },
    {
     "data": {
      "text/html": [
       "<pre style=\"white-space:pre;overflow-x:auto;line-height:normal;font-family:Menlo,'DejaVu Sans Mono',consolas,'Courier New',monospace\"><span style=\"font-weight: bold\">{</span>\n",
       "    <span style=\"color: #008000; text-decoration-color: #008000\">'question'</span>: <span style=\"color: #008000; text-decoration-color: #008000\">'What is struct?'</span>,\n",
       "    <span style=\"color: #008000; text-decoration-color: #008000\">'data_source'</span>: <span style=\"color: #008000; text-decoration-color: #008000\">'golang_docs'</span>,\n",
       "    <span style=\"color: #008000; text-decoration-color: #008000\">'context'</span>: <span style=\"color: #008000; text-decoration-color: #008000\">'Go documentation'</span>,\n",
       "    <span style=\"color: #008000; text-decoration-color: #008000\">'answer'</span>: <span style=\"color: #008000; text-decoration-color: #008000\">'Answer based on Go documentation'</span>\n",
       "<span style=\"font-weight: bold\">}</span>\n",
       "</pre>\n"
      ],
      "text/plain": [
       "\u001b[1m{\u001b[0m\n",
       "    \u001b[32m'question'\u001b[0m: \u001b[32m'What is struct?'\u001b[0m,\n",
       "    \u001b[32m'data_source'\u001b[0m: \u001b[32m'golang_docs'\u001b[0m,\n",
       "    \u001b[32m'context'\u001b[0m: \u001b[32m'Go documentation'\u001b[0m,\n",
       "    \u001b[32m'answer'\u001b[0m: \u001b[32m'Answer based on Go documentation'\u001b[0m\n",
       "\u001b[1m}\u001b[0m\n"
      ]
     },
     "metadata": {},
     "output_type": "display_data"
    }
   ],
   "source": [
    "print(golang_query)\n",
    "response = graph.invoke({\"question\": golang_query})\n",
    "rprint(response)"
   ]
  }
 ],
 "metadata": {
  "kernelspec": {
   "display_name": "Python 3 (ipykernel)",
   "language": "python",
   "name": "python3"
  },
  "language_info": {
   "codemirror_mode": {
    "name": "ipython",
    "version": 3
   },
   "file_extension": ".py",
   "mimetype": "text/x-python",
   "name": "python",
   "nbconvert_exporter": "python",
   "pygments_lexer": "ipython3",
   "version": "3.11.11"
  }
 },
 "nbformat": 4,
 "nbformat_minor": 5
}
