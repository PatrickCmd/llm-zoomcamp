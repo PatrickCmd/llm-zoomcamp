{
 "cells": [
  {
   "cell_type": "code",
   "execution_count": 1,
   "id": "4ed8074a-34cd-4d19-98a0-a60a7b3ef799",
   "metadata": {},
   "outputs": [],
   "source": [
    "import os\n",
    "import re\n",
    "\n",
    "from dotenv import find_dotenv, load_dotenv\n",
    "from IPython.display import display\n",
    "from rich import print as rprint\n",
    "from rich.markdown import Markdown\n",
    "from rich.pretty import Pretty\n",
    "from rich.text import Text"
   ]
  },
  {
   "cell_type": "code",
   "execution_count": 2,
   "id": "2871441a-216c-4f8e-96d6-1f9f69354b5d",
   "metadata": {},
   "outputs": [
    {
     "data": {
      "text/plain": [
       "True"
      ]
     },
     "execution_count": 2,
     "metadata": {},
     "output_type": "execute_result"
    }
   ],
   "source": [
    "load_dotenv(find_dotenv('.env'))"
   ]
  },
  {
   "cell_type": "code",
   "execution_count": 3,
   "id": "01cd50e6-9b32-4a6f-955b-2b364f79e2f3",
   "metadata": {},
   "outputs": [],
   "source": [
    "os.environ[\"LANGCHAIN_PROJECT\"] = \"RAG From Scratch: Part 10-2 (Routing - Semantic Routing)\""
   ]
  },
  {
   "cell_type": "markdown",
   "id": "4aa5c577-61f8-4af3-8edc-6a3b09aed72f",
   "metadata": {},
   "source": [
    "# Routing"
   ]
  },
  {
   "cell_type": "markdown",
   "id": "934780f4-5715-4c7e-87c7-870473682ab1",
   "metadata": {},
   "source": [
    "![](images/routing-01.png)"
   ]
  },
  {
   "cell_type": "markdown",
   "id": "3472a31d-96ab-49f2-819c-f58d62e5194c",
   "metadata": {},
   "source": [
    "# Part 10-2: Semantic Routing"
   ]
  },
  {
   "cell_type": "markdown",
   "id": "1be7e09d-be72-493e-9ffb-e17bbcb496b5",
   "metadata": {},
   "source": [
    "![](images/10-02-semantic-routing.png)"
   ]
  },
  {
   "cell_type": "markdown",
   "id": "48582c5c-e95b-4e2c-bc38-7e65072bfe39",
   "metadata": {},
   "source": [
    "## Configure components"
   ]
  },
  {
   "cell_type": "code",
   "execution_count": 4,
   "id": "c4451b02-2cfb-4a49-a2db-f9197a5ead04",
   "metadata": {},
   "outputs": [],
   "source": [
    "from langchain_openai import ChatOpenAI, OpenAIEmbeddings"
   ]
  },
  {
   "cell_type": "code",
   "execution_count": 5,
   "id": "bea630db-cc76-4ae7-bbba-aa67a8a4fe83",
   "metadata": {},
   "outputs": [
    {
     "data": {
      "text/plain": [
       "AIMessage(content='Hello! How can I assist you today?', additional_kwargs={'refusal': None}, response_metadata={'token_usage': {'completion_tokens': 10, 'prompt_tokens': 8, 'total_tokens': 18, 'completion_tokens_details': {'accepted_prediction_tokens': 0, 'audio_tokens': 0, 'reasoning_tokens': 0, 'rejected_prediction_tokens': 0}, 'prompt_tokens_details': {'audio_tokens': 0, 'cached_tokens': 0}}, 'model_name': 'gpt-4o-mini-2024-07-18', 'system_fingerprint': 'fp_b376dfbbd5', 'id': 'chatcmpl-BKOn2OVXPxH5bSwWoOfJjfNAJynJu', 'finish_reason': 'stop', 'logprobs': None}, id='run-c96f0e2b-e66a-49a6-9eea-8cbd69c72ef0-0', usage_metadata={'input_tokens': 8, 'output_tokens': 10, 'total_tokens': 18, 'input_token_details': {'audio': 0, 'cache_read': 0}, 'output_token_details': {'audio': 0, 'reasoning': 0}})"
      ]
     },
     "execution_count": 5,
     "metadata": {},
     "output_type": "execute_result"
    }
   ],
   "source": [
    "llm = ChatOpenAI(\n",
    "    model=\"gpt-4o-mini\",\n",
    "    temperature=1\n",
    ")\n",
    "llm.invoke(\"Hello\")"
   ]
  },
  {
   "cell_type": "code",
   "execution_count": 6,
   "id": "287d82e6-180d-4c16-ac0a-2fbf79a46b5f",
   "metadata": {},
   "outputs": [
    {
     "data": {
      "text/plain": [
       "1536"
      ]
     },
     "execution_count": 6,
     "metadata": {},
     "output_type": "execute_result"
    }
   ],
   "source": [
    "embeddings = OpenAIEmbeddings(model=\"text-embedding-3-small\")\n",
    "len(embeddings.embed_query(\"Hello\"))"
   ]
  },
  {
   "cell_type": "markdown",
   "id": "7e35c723-f8e8-4458-83de-a9489e90217f",
   "metadata": {},
   "source": [
    "## RAG"
   ]
  },
  {
   "cell_type": "code",
   "execution_count": 7,
   "id": "2262566e-26e7-4226-ba38-2b629e64874a",
   "metadata": {},
   "outputs": [],
   "source": [
    "from typing import TypedDict\n",
    "\n",
    "from langchain_community.utils.math import cosine_similarity\n",
    "from langchain_core.messages import HumanMessage\n",
    "from langgraph.graph import END, START, StateGraph"
   ]
  },
  {
   "cell_type": "code",
   "execution_count": 8,
   "id": "30b57d02-595c-4265-9c1e-f3012da333b0",
   "metadata": {},
   "outputs": [],
   "source": [
    "prompt_names = ['PHYSICS', 'MATH', 'OTHER']"
   ]
  },
  {
   "cell_type": "code",
   "execution_count": 9,
   "id": "b93ca724-aeef-410b-8ddc-3e088216ee4a",
   "metadata": {},
   "outputs": [
    {
     "name": "stdout",
     "output_type": "stream",
     "text": [
      "You are a very smart physics professor.\n",
      "You are great at answering questions about physics in a concise and easy to understand manner.\n",
      "When you don't know the answer to a question you admit that you don't know.\n",
      "\n",
      "Here is a question:\n",
      "{question}\n"
     ]
    }
   ],
   "source": [
    "physics_prompt_template = \"\"\"You are a very smart physics professor.\n",
    "You are great at answering questions about physics in a concise and easy to understand manner.\n",
    "When you don't know the answer to a question you admit that you don't know.\n",
    "\n",
    "Here is a question:\n",
    "{question}\"\"\"\n",
    "print(physics_prompt_template)"
   ]
  },
  {
   "cell_type": "code",
   "execution_count": 10,
   "id": "e9187aa7-c294-41e0-a455-62643722801e",
   "metadata": {},
   "outputs": [
    {
     "name": "stdout",
     "output_type": "stream",
     "text": [
      "You are a very good mathematician. You are great at answering math questions.\n",
      "You are so good because you are able to break down hard problems into their component parts,\n",
      "answer the component parts, and then put them together to answer the broader question.\n",
      "\n",
      "Here is a question:\n",
      "{question}\n"
     ]
    }
   ],
   "source": [
    "math_prompt_template = \"\"\"You are a very good mathematician. You are great at answering math questions.\n",
    "You are so good because you are able to break down hard problems into their component parts,\n",
    "answer the component parts, and then put them together to answer the broader question.\n",
    "\n",
    "Here is a question:\n",
    "{question}\"\"\"\n",
    "print(math_prompt_template)"
   ]
  },
  {
   "cell_type": "code",
   "execution_count": 11,
   "id": "5be64bef-c646-4907-a552-3e89f5373e2c",
   "metadata": {},
   "outputs": [
    {
     "name": "stdout",
     "output_type": "stream",
     "text": [
      "You are a helpful assistant. You are great at answering all questions not from the following themes: ['PHYSICS', 'MATH']\n",
      "\n",
      "Here is a question:\n",
      "{question}\n"
     ]
    }
   ],
   "source": [
    "other_prompt_template = f\"\"\"You are a helpful assistant. You are great at answering all questions not from the following themes: {prompt_names[:-1]}\n",
    "\n",
    "Here is a question:\n",
    "{{question}}\"\"\"\n",
    "print(other_prompt_template)"
   ]
  },
  {
   "cell_type": "code",
   "execution_count": 12,
   "id": "d3dd7147-1b3b-4c9f-b180-a5b48969fa48",
   "metadata": {},
   "outputs": [],
   "source": [
    "prompt_templates = [physics_prompt_template, math_prompt_template, other_prompt_template]\n",
    "prompt_embeddings = embeddings.embed_documents(prompt_templates)"
   ]
  },
  {
   "cell_type": "code",
   "execution_count": 13,
   "id": "0449bf1d-6964-47da-8a58-9e552405a8b6",
   "metadata": {},
   "outputs": [],
   "source": [
    "physics_query = \"What's a black hole\"\n",
    "math_query = \"What is the square root of 81\"\n",
    "other_query = \"Hello! How are you?\""
   ]
  },
  {
   "cell_type": "code",
   "execution_count": 14,
   "id": "02218dd4-95d4-40ed-9026-33bbd74b34a3",
   "metadata": {},
   "outputs": [],
   "source": [
    "class State(TypedDict):\n",
    "    question: str\n",
    "    most_similar_prompt_idx: int\n",
    "    most_similar_prompt_name: str\n",
    "    answer: str"
   ]
  },
  {
   "cell_type": "code",
   "execution_count": 15,
   "id": "fbac5619-fdd0-44da-8aa6-9bad90136e86",
   "metadata": {},
   "outputs": [],
   "source": [
    "def select_route_prompt(state: State):\n",
    "    query_embedding = embeddings.embed_query(state['question'])\n",
    "    query_similarity = cosine_similarity([query_embedding], prompt_embeddings)[0]\n",
    "    most_similar_prompt_idx = query_similarity.argmax()\n",
    "    return {\n",
    "        \"most_similar_prompt_idx\": most_similar_prompt_idx,\n",
    "        \"most_similar_prompt_name\": prompt_names[most_similar_prompt_idx],\n",
    "    }\n",
    "\n",
    "\n",
    "def generate_answer(state: State):\n",
    "    route_prompt = prompt_templates[state[\"most_similar_prompt_idx\"]].format(\n",
    "        question=state['question']\n",
    "    )\n",
    "    response = llm.invoke([\n",
    "        HumanMessage(content=route_prompt)\n",
    "    ])\n",
    "    return {\"answer\": response.content}"
   ]
  },
  {
   "cell_type": "code",
   "execution_count": 16,
   "id": "109a2338-746e-47c1-8649-b16993b79990",
   "metadata": {},
   "outputs": [
    {
     "data": {
      "image/png": "[encoded data removed]",
      "text/plain": [
       "<langgraph.graph.state.CompiledStateGraph object at 0x7fb41b042510>"
      ]
     },
     "execution_count": 16,
     "metadata": {},
     "output_type": "execute_result"
    }
   ],
   "source": [
    "graph_builder = StateGraph(State)\n",
    "\n",
    "graph_builder.add_node(\"select_route_prompt\", select_route_prompt)\n",
    "graph_builder.add_node(\"generate_answer\", generate_answer)\n",
    "\n",
    "graph_builder.add_edge(START, \"select_route_prompt\")\n",
    "graph_builder.add_edge(\"select_route_prompt\", \"generate_answer\")\n",
    "graph_builder.add_edge(\"generate_answer\", END)\n",
    "\n",
    "graph = graph_builder.compile()\n",
    "graph"
   ]
  },
  {
   "cell_type": "code",
   "execution_count": 17,
   "id": "81107550-819e-4e01-babd-cce868b981f4",
   "metadata": {},
   "outputs": [
    {
     "name": "stdout",
     "output_type": "stream",
     "text": [
      "What's a black hole\n"
     ]
    },
    {
     "data": {
      "text/html": [
       "<pre style=\"white-space:pre;overflow-x:auto;line-height:normal;font-family:Menlo,'DejaVu Sans Mono',consolas,'Courier New',monospace\"><span style=\"font-weight: bold\">{</span>\n",
       "    <span style=\"color: #008000; text-decoration-color: #008000\">'question'</span>: <span style=\"color: #008000; text-decoration-color: #008000\">\"What's a black hole\"</span>,\n",
       "    <span style=\"color: #008000; text-decoration-color: #008000\">'most_similar_prompt_idx'</span>: <span style=\"color: #008080; text-decoration-color: #008080; font-weight: bold\">0</span>,\n",
       "    <span style=\"color: #008000; text-decoration-color: #008000\">'most_similar_prompt_name'</span>: <span style=\"color: #008000; text-decoration-color: #008000\">'PHYSICS'</span>,\n",
       "    <span style=\"color: #008000; text-decoration-color: #008000\">'answer'</span>: <span style=\"color: #008000; text-decoration-color: #008000\">'A black hole is an astronomical object with an extremely strong gravitational pull, so strong that </span>\n",
       "<span style=\"color: #008000; text-decoration-color: #008000\">nothing, not even light, can escape from it. This results in a region of space called the event horizon, which </span>\n",
       "<span style=\"color: #008000; text-decoration-color: #008000\">marks the point beyond which nothing can return. Black holes are formed when massive stars collapse under their own</span>\n",
       "<span style=\"color: #008000; text-decoration-color: #008000\">gravity at the end of their life cycles. They can vary in size, from small black holes just a few times the mass of</span>\n",
       "<span style=\"color: #008000; text-decoration-color: #008000\">the Sun to supermassive black holes that can be millions or billions of times more massive, typically found at the </span>\n",
       "<span style=\"color: #008000; text-decoration-color: #008000\">centers of galaxies. Black holes are fascinating because they challenge our understanding of physics, particularly </span>\n",
       "<span style=\"color: #008000; text-decoration-color: #008000\">at the intersection of general relativity and quantum mechanics.'</span>\n",
       "<span style=\"font-weight: bold\">}</span>\n",
       "</pre>\n"
      ],
      "text/plain": [
       "\u001b[1m{\u001b[0m\n",
       "    \u001b[32m'question'\u001b[0m: \u001b[32m\"What's a black hole\"\u001b[0m,\n",
       "    \u001b[32m'most_similar_prompt_idx'\u001b[0m: \u001b[1;36m0\u001b[0m,\n",
       "    \u001b[32m'most_similar_prompt_name'\u001b[0m: \u001b[32m'PHYSICS'\u001b[0m,\n",
       "    \u001b[32m'answer'\u001b[0m: \u001b[32m'A black hole is an astronomical object with an extremely strong gravitational pull, so strong that \u001b[0m\n",
       "\u001b[32mnothing, not even light, can escape from it. This results in a region of space called the event horizon, which \u001b[0m\n",
       "\u001b[32mmarks the point beyond which nothing can return. Black holes are formed when massive stars collapse under their own\u001b[0m\n",
       "\u001b[32mgravity at the end of their life cycles. They can vary in size, from small black holes just a few times the mass of\u001b[0m\n",
       "\u001b[32mthe Sun to supermassive black holes that can be millions or billions of times more massive, typically found at the \u001b[0m\n",
       "\u001b[32mcenters of galaxies. Black holes are fascinating because they challenge our understanding of physics, particularly \u001b[0m\n",
       "\u001b[32mat the intersection of general relativity and quantum mechanics.'\u001b[0m\n",
       "\u001b[1m}\u001b[0m\n"
      ]
     },
     "metadata": {},
     "output_type": "display_data"
    },
    {
     "data": {
      "text/html": [
       "<pre style=\"white-space:pre;overflow-x:auto;line-height:normal;font-family:Menlo,'DejaVu Sans Mono',consolas,'Courier New',monospace\">A black hole is an astronomical object with an extremely strong gravitational pull, so strong that nothing, not    \n",
       "even light, can escape from it. This results in a region of space called the event horizon, which marks the point  \n",
       "beyond which nothing can return. Black holes are formed when massive stars collapse under their own gravity at the \n",
       "end of their life cycles. They can vary in size, from small black holes just a few times the mass of the Sun to    \n",
       "supermassive black holes that can be millions or billions of times more massive, typically found at the centers of \n",
       "galaxies. Black holes are fascinating because they challenge our understanding of physics, particularly at the     \n",
       "intersection of general relativity and quantum mechanics.                                                          \n",
       "</pre>\n"
      ],
      "text/plain": [
       "A black hole is an astronomical object with an extremely strong gravitational pull, so strong that nothing, not    \n",
       "even light, can escape from it. This results in a region of space called the event horizon, which marks the point  \n",
       "beyond which nothing can return. Black holes are formed when massive stars collapse under their own gravity at the \n",
       "end of their life cycles. They can vary in size, from small black holes just a few times the mass of the Sun to    \n",
       "supermassive black holes that can be millions or billions of times more massive, typically found at the centers of \n",
       "galaxies. Black holes are fascinating because they challenge our understanding of physics, particularly at the     \n",
       "intersection of general relativity and quantum mechanics.                                                          \n"
      ]
     },
     "metadata": {},
     "output_type": "display_data"
    }
   ],
   "source": [
    "print(physics_query)\n",
    "\n",
    "response = graph.invoke({\"question\": physics_query})\n",
    "rprint(response)\n",
    "display(Markdown(response[\"answer\"]))"
   ]
  },
  {
   "cell_type": "code",
   "execution_count": 18,
   "id": "6d9db76a-162a-4faf-9fb4-f9f27bd526df",
   "metadata": {},
   "outputs": [
    {
     "name": "stdout",
     "output_type": "stream",
     "text": [
      "What is the square root of 81\n"
     ]
    },
    {
     "data": {
      "text/html": [
       "<pre style=\"white-space:pre;overflow-x:auto;line-height:normal;font-family:Menlo,'DejaVu Sans Mono',consolas,'Courier New',monospace\"><span style=\"font-weight: bold\">{</span>\n",
       "    <span style=\"color: #008000; text-decoration-color: #008000\">'question'</span>: <span style=\"color: #008000; text-decoration-color: #008000\">'What is the square root of 81'</span>,\n",
       "    <span style=\"color: #008000; text-decoration-color: #008000\">'most_similar_prompt_idx'</span>: <span style=\"color: #008080; text-decoration-color: #008080; font-weight: bold\">1</span>,\n",
       "    <span style=\"color: #008000; text-decoration-color: #008000\">'most_similar_prompt_name'</span>: <span style=\"color: #008000; text-decoration-color: #008000\">'MATH'</span>,\n",
       "    <span style=\"color: #008000; text-decoration-color: #008000\">'answer'</span>: <span style=\"color: #008000; text-decoration-color: #008000\">'To solve for the square root of 81, we ask ourselves what number, when multiplied by itself, gives </span>\n",
       "<span style=\"color: #008000; text-decoration-color: #008000\">us 81.\\n\\n1. We can break it down by identifying perfect squares near 81:\\n   - \\\\(8^2 = 64\\\\)\\n   - \\\\(9^2 = </span>\n",
       "<span style=\"color: #008000; text-decoration-color: #008000\">81\\\\)\\n   - \\\\(10^2 = 100\\\\)\\n\\n2. From this, we see that \\\\(9 \\\\times 9 = 81\\\\).\\n\\nThus, the square root of 81 is</span>\n",
       "<span style=\"color: #008000; text-decoration-color: #008000\">\\\\(9\\\\).\\n\\nSo, \\\\(\\\\sqrt{81} = 9\\\\).'</span>\n",
       "<span style=\"font-weight: bold\">}</span>\n",
       "</pre>\n"
      ],
      "text/plain": [
       "\u001b[1m{\u001b[0m\n",
       "    \u001b[32m'question'\u001b[0m: \u001b[32m'What is the square root of 81'\u001b[0m,\n",
       "    \u001b[32m'most_similar_prompt_idx'\u001b[0m: \u001b[1;36m1\u001b[0m,\n",
       "    \u001b[32m'most_similar_prompt_name'\u001b[0m: \u001b[32m'MATH'\u001b[0m,\n",
       "    \u001b[32m'answer'\u001b[0m: \u001b[32m'To solve for the square root of 81, we ask ourselves what number, when multiplied by itself, gives \u001b[0m\n",
       "\u001b[32mus 81.\\n\\n1. We can break it down by identifying perfect squares near 81:\\n   - \\\\\u001b[0m\u001b[32m(\u001b[0m\u001b[32m8^2 = 64\\\\\u001b[0m\u001b[32m)\u001b[0m\u001b[32m\\n   - \\\\\u001b[0m\u001b[32m(\u001b[0m\u001b[32m9^2 = \u001b[0m\n",
       "\u001b[32m81\\\\\u001b[0m\u001b[32m)\u001b[0m\u001b[32m\\n   - \\\\\u001b[0m\u001b[32m(\u001b[0m\u001b[32m10^2 = 100\\\\\u001b[0m\u001b[32m)\u001b[0m\u001b[32m\\n\\n2. From this, we see that \\\\\u001b[0m\u001b[32m(\u001b[0m\u001b[32m9 \\\\times 9 = 81\\\\\u001b[0m\u001b[32m)\u001b[0m\u001b[32m.\\n\\nThus, the square root of 81 is\u001b[0m\n",
       "\u001b[32m\\\\\u001b[0m\u001b[32m(\u001b[0m\u001b[32m9\\\\\u001b[0m\u001b[32m)\u001b[0m\u001b[32m.\\n\\nSo, \\\\\u001b[0m\u001b[32m(\u001b[0m\u001b[32m\\\\sqrt\u001b[0m\u001b[32m{\u001b[0m\u001b[32m81\u001b[0m\u001b[32m}\u001b[0m\u001b[32m = 9\\\\\u001b[0m\u001b[32m)\u001b[0m\u001b[32m.'\u001b[0m\n",
       "\u001b[1m}\u001b[0m\n"
      ]
     },
     "metadata": {},
     "output_type": "display_data"
    },
    {
     "data": {
      "text/html": [
       "<pre style=\"white-space:pre;overflow-x:auto;line-height:normal;font-family:Menlo,'DejaVu Sans Mono',consolas,'Courier New',monospace\">To solve for the square root of 81, we ask ourselves what number, when multiplied by itself, gives us 81.          \n",
       "\n",
       "<span style=\"color: #808000; text-decoration-color: #808000; font-weight: bold\"> 1 </span>We can break it down by identifying perfect squares near 81:                                                    \n",
       "<span style=\"color: #808000; text-decoration-color: #808000; font-weight: bold\">    • </span>(8^2 = 64)                                                                                                   \n",
       "<span style=\"color: #808000; text-decoration-color: #808000; font-weight: bold\">    • </span>(9^2 = 81)                                                                                                   \n",
       "<span style=\"color: #808000; text-decoration-color: #808000; font-weight: bold\">    • </span>(10^2 = 100)                                                                                                 \n",
       "<span style=\"color: #808000; text-decoration-color: #808000; font-weight: bold\"> 2 </span>From this, we see that (9 \\times 9 = 81).                                                                       \n",
       "\n",
       "Thus, the square root of 81 is (9).                                                                                \n",
       "\n",
       "So, (\\sqrt{81} = 9).                                                                                               \n",
       "</pre>\n"
      ],
      "text/plain": [
       "To solve for the square root of 81, we ask ourselves what number, when multiplied by itself, gives us 81.          \n",
       "\n",
       "\u001b[1;33m 1 \u001b[0mWe can break it down by identifying perfect squares near 81:                                                    \n",
       "\u001b[1;33m   \u001b[0m\u001b[1;33m • \u001b[0m(8^2 = 64)                                                                                                   \n",
       "\u001b[1;33m   \u001b[0m\u001b[1;33m • \u001b[0m(9^2 = 81)                                                                                                   \n",
       "\u001b[1;33m   \u001b[0m\u001b[1;33m • \u001b[0m(10^2 = 100)                                                                                                 \n",
       "\u001b[1;33m 2 \u001b[0mFrom this, we see that (9 \\times 9 = 81).                                                                       \n",
       "\n",
       "Thus, the square root of 81 is (9).                                                                                \n",
       "\n",
       "So, (\\sqrt{81} = 9).                                                                                               \n"
      ]
     },
     "metadata": {},
     "output_type": "display_data"
    }
   ],
   "source": [
    "print(math_query)\n",
    "\n",
    "response = graph.invoke({\"question\": math_query})\n",
    "rprint(response)\n",
    "display(Markdown(response[\"answer\"]))"
   ]
  },
  {
   "cell_type": "code",
   "execution_count": 19,
   "id": "a7783371-8d22-4d0e-901e-cde8aa39d0f4",
   "metadata": {},
   "outputs": [
    {
     "name": "stdout",
     "output_type": "stream",
     "text": [
      "Hello! How are you?\n"
     ]
    },
    {
     "data": {
      "text/html": [
       "<pre style=\"white-space:pre;overflow-x:auto;line-height:normal;font-family:Menlo,'DejaVu Sans Mono',consolas,'Courier New',monospace\"><span style=\"font-weight: bold\">{</span>\n",
       "    <span style=\"color: #008000; text-decoration-color: #008000\">'question'</span>: <span style=\"color: #008000; text-decoration-color: #008000\">'Hello! How are you?'</span>,\n",
       "    <span style=\"color: #008000; text-decoration-color: #008000\">'most_similar_prompt_idx'</span>: <span style=\"color: #008080; text-decoration-color: #008080; font-weight: bold\">2</span>,\n",
       "    <span style=\"color: #008000; text-decoration-color: #008000\">'most_similar_prompt_name'</span>: <span style=\"color: #008000; text-decoration-color: #008000\">'OTHER'</span>,\n",
       "    <span style=\"color: #008000; text-decoration-color: #008000\">'answer'</span>: <span style=\"color: #008000; text-decoration-color: #008000\">\"Hello! I'm doing well, thank you for asking. How can I assist you today?\"</span>\n",
       "<span style=\"font-weight: bold\">}</span>\n",
       "</pre>\n"
      ],
      "text/plain": [
       "\u001b[1m{\u001b[0m\n",
       "    \u001b[32m'question'\u001b[0m: \u001b[32m'Hello! How are you?'\u001b[0m,\n",
       "    \u001b[32m'most_similar_prompt_idx'\u001b[0m: \u001b[1;36m2\u001b[0m,\n",
       "    \u001b[32m'most_similar_prompt_name'\u001b[0m: \u001b[32m'OTHER'\u001b[0m,\n",
       "    \u001b[32m'answer'\u001b[0m: \u001b[32m\"Hello! I'm doing well, thank you for asking. How can I assist you today?\"\u001b[0m\n",
       "\u001b[1m}\u001b[0m\n"
      ]
     },
     "metadata": {},
     "output_type": "display_data"
    },
    {
     "data": {
      "text/html": [
       "<pre style=\"white-space:pre;overflow-x:auto;line-height:normal;font-family:Menlo,'DejaVu Sans Mono',consolas,'Courier New',monospace\">Hello! I'm doing well, thank you for asking. How can I assist you today?                                           \n",
       "</pre>\n"
      ],
      "text/plain": [
       "Hello! I'm doing well, thank you for asking. How can I assist you today?                                           \n"
      ]
     },
     "metadata": {},
     "output_type": "display_data"
    }
   ],
   "source": [
    "print(other_query)\n",
    "\n",
    "response = graph.invoke({\"question\": other_query})\n",
    "rprint(response)\n",
    "display(Markdown(response[\"answer\"]))"
   ]
  }
 ],
 "metadata": {
  "kernelspec": {
   "display_name": "Python 3 (ipykernel)",
   "language": "python",
   "name": "python3"
  },
  "language_info": {
   "codemirror_mode": {
    "name": "ipython",
    "version": 3
   },
   "file_extension": ".py",
   "mimetype": "text/x-python",
   "name": "python",
   "nbconvert_exporter": "python",
   "pygments_lexer": "ipython3",
   "version": "3.11.11"
  }
 },
 "nbformat": 4,
 "nbformat_minor": 5
}
