{
 "cells": [
  {
   "cell_type": "code",
   "execution_count": 1,
   "id": "68cc5c55-9cce-4e09-8a62-411076ffca66",
   "metadata": {},
   "outputs": [],
   "source": [
    "import os\n",
    "from pathlib import Path\n",
    "import re\n",
    "\n",
    "from dotenv import find_dotenv, load_dotenv\n",
    "from IPython.display import display\n",
    "from rich import print as rprint\n",
    "from rich.markdown import Markdown\n",
    "from rich.pretty import Pretty\n",
    "from rich.text import Text"
   ]
  },
  {
   "cell_type": "code",
   "execution_count": 2,
   "id": "379af9bd-e4e5-42d9-9180-5fcc8f2972e2",
   "metadata": {},
   "outputs": [
    {
     "data": {
      "text/plain": [
       "True"
      ]
     },
     "execution_count": 2,
     "metadata": {},
     "output_type": "execute_result"
    }
   ],
   "source": [
    "load_dotenv(find_dotenv('.env'))"
   ]
  },
  {
   "cell_type": "code",
   "execution_count": 3,
   "id": "5a09b2b7-c4d4-4227-a6f7-d64c585e15ac",
   "metadata": {},
   "outputs": [],
   "source": [
    "os.environ[\"LANGCHAIN_PROJECT\"] = \"RAG From Scratch: Part 11 (Query Construction)\""
   ]
  },
  {
   "cell_type": "code",
   "execution_count": 4,
   "id": "b0a30eb9-7f20-4764-b820-d388b87ef067",
   "metadata": {},
   "outputs": [],
   "source": [
    "DATA_PATH = Path('../../data')\n",
    "VECTORSTORE_PATH = DATA_PATH / 'vectorstore/chroma'"
   ]
  },
  {
   "cell_type": "markdown",
   "id": "2e9f9d75-bec6-48f5-a178-ce476f9ba88d",
   "metadata": {},
   "source": [
    "# Query construction"
   ]
  },
  {
   "cell_type": "markdown",
   "id": "98aede43-d77f-4b71-af62-0b06c69be5c0",
   "metadata": {},
   "source": [
    "![](images/query-construction-01.png)"
   ]
  },
  {
   "cell_type": "markdown",
   "id": "f518e55c-7560-417d-b04e-fd9b2b86fa79",
   "metadata": {},
   "source": [
    "# Part 11: Query Construction"
   ]
  },
  {
   "cell_type": "markdown",
   "id": "de2ae790-df20-463e-8bc1-a0772d7a5593",
   "metadata": {},
   "source": [
    "## Configure components"
   ]
  },
  {
   "cell_type": "code",
   "execution_count": 5,
   "id": "74f1ef1d-c506-480d-838f-bddc23b1c0cc",
   "metadata": {},
   "outputs": [],
   "source": [
    "from langchain_openai import ChatOpenAI, OpenAIEmbeddings"
   ]
  },
  {
   "cell_type": "code",
   "execution_count": 6,
   "id": "036343df-f7eb-4955-8bfa-0f816fa7178c",
   "metadata": {},
   "outputs": [
    {
     "data": {
      "text/plain": [
       "AIMessage(content='Hello! How can I assist you today?', additional_kwargs={'refusal': None}, response_metadata={'token_usage': {'completion_tokens': 10, 'prompt_tokens': 8, 'total_tokens': 18, 'completion_tokens_details': {'accepted_prediction_tokens': 0, 'audio_tokens': 0, 'reasoning_tokens': 0, 'rejected_prediction_tokens': 0}, 'prompt_tokens_details': {'audio_tokens': 0, 'cached_tokens': 0}}, 'model_name': 'gpt-4o-mini-2024-07-18', 'system_fingerprint': 'fp_b376dfbbd5', 'id': 'chatcmpl-BKOqGHVu0Kk43L2v3ZZTrFqY1muxF', 'finish_reason': 'stop', 'logprobs': None}, id='run-36bcf9f6-cfab-45b0-976b-669a7e7f6cb0-0', usage_metadata={'input_tokens': 8, 'output_tokens': 10, 'total_tokens': 18, 'input_token_details': {'audio': 0, 'cache_read': 0}, 'output_token_details': {'audio': 0, 'reasoning': 0}})"
      ]
     },
     "execution_count": 6,
     "metadata": {},
     "output_type": "execute_result"
    }
   ],
   "source": [
    "llm = ChatOpenAI(\n",
    "    model=\"gpt-4o-mini\",\n",
    "    temperature=1\n",
    ")\n",
    "llm.invoke(\"Hello\")"
   ]
  },
  {
   "cell_type": "code",
   "execution_count": 7,
   "id": "ca7573cb-2289-4e54-8b98-d79bf949e864",
   "metadata": {},
   "outputs": [
    {
     "data": {
      "text/plain": [
       "1536"
      ]
     },
     "execution_count": 7,
     "metadata": {},
     "output_type": "execute_result"
    }
   ],
   "source": [
    "embeddings = OpenAIEmbeddings(model=\"text-embedding-3-small\")\n",
    "len(embeddings.embed_query(\"Hello\"))"
   ]
  },
  {
   "cell_type": "markdown",
   "id": "48bf44cf-97cb-4e20-949e-1ccf8cdbfd69",
   "metadata": {},
   "source": [
    "## Load documents"
   ]
  },
  {
   "cell_type": "code",
   "execution_count": 8,
   "id": "e0fb9da9-c573-42c0-9346-eec96cd5ffcf",
   "metadata": {},
   "outputs": [],
   "source": [
    "import asyncio\n",
    "\n",
    "from langchain_community.document_loaders import YoutubeLoader\n",
    "from pytube import Playlist\n",
    "from pytube.innertube import _default_clients"
   ]
  },
  {
   "cell_type": "code",
   "execution_count": 9,
   "id": "e513cbc6-4abb-480d-91a0-cccbe3979217",
   "metadata": {},
   "outputs": [],
   "source": [
    "# https://github.com/pytube/pytube/issues/1894#issue-2180600881\n",
    "_default_clients[\"ANDROID\"][\"context\"][\"client\"][\"clientVersion\"] = \"19.08.35\""
   ]
  },
  {
   "cell_type": "code",
   "execution_count": 10,
   "id": "55c22dec-bf42-49fd-aa13-5f44bf8bbc90",
   "metadata": {},
   "outputs": [
    {
     "name": "stdout",
     "output_type": "stream",
     "text": [
      "RAG From Scratch\n",
      "['https://www.youtube.com/watch?v=wd7TZ4w1mSw', 'https://www.youtube.com/watch?v=bjb_EMsTDKI', 'https://www.youtube.com/watch?v=LxNVgdIz9sU', 'https://www.youtube.com/watch?v=Vw52xyyFsB8', 'https://www.youtube.com/watch?v=JChPi0CRnDY', 'https://www.youtube.com/watch?v=77qELPbNgxA', 'https://www.youtube.com/watch?v=h0OPWlEOank', 'https://www.youtube.com/watch?v=xn1jEjRyJ2U', 'https://www.youtube.com/watch?v=SaDzIVkYqyY', 'https://www.youtube.com/watch?v=pfpIndq7Fi8', 'https://www.youtube.com/watch?v=kl6NwWYxvbM', 'https://www.youtube.com/watch?v=gTCU9I6QqCE', 'https://www.youtube.com/watch?v=z_6EeA2LDSw', 'https://www.youtube.com/watch?v=cN6S0Ehm7_8']\n"
     ]
    }
   ],
   "source": [
    "playlist = Playlist('https://www.youtube.com/playlist?list=PLfaIDFEXuae2LXbO1_PKyVJiQ23ZztA0x')\n",
    "print(playlist.title)\n",
    "print(playlist.video_urls)"
   ]
  },
  {
   "cell_type": "code",
   "execution_count": 11,
   "id": "ed421db9-5255-4139-9c7c-f917971782fc",
   "metadata": {},
   "outputs": [],
   "source": [
    "async def load_youtube_video_transcript(video_url):\n",
    "    data = await YoutubeLoader.from_youtube_url(\n",
    "        video_url, \n",
    "        add_video_info=True\n",
    "    ).aload()\n",
    "    return data[0]"
   ]
  },
  {
   "cell_type": "code",
   "execution_count": 12,
   "id": "20d6f64a-ee91-4c36-a82c-afc9b0fd14a1",
   "metadata": {},
   "outputs": [
    {
     "data": {
      "text/plain": [
       "14"
      ]
     },
     "execution_count": 12,
     "metadata": {},
     "output_type": "execute_result"
    }
   ],
   "source": [
    "coros = [load_youtube_video_transcript(video_url) for video_url in playlist.video_urls]\n",
    "docs = await asyncio.gather(*coros)\n",
    "len(docs)"
   ]
  },
  {
   "cell_type": "code",
   "execution_count": 13,
   "id": "73ae64d0-f50f-4cc3-832c-1216efba35c5",
   "metadata": {},
   "outputs": [
    {
     "data": {
      "text/plain": [
       "{'source': 'wd7TZ4w1mSw',\n",
       " 'title': 'RAG From Scratch: Part 1 (Overview)',\n",
       " 'description': 'LLMs are a powerful new platform, but they are not always trained on data that is relevant for our tasks. This is where retrieval augmented generation (or RAG) comes in: RAG is a general methodology for connecting LLMs with external data sources such as private or recent data. It allows LLMs to use external data in generation of their output. This video series will build up an understanding of RAG from scratch, starting with the basics of indexing, retrieval, and generation. It will build up to more advanced techniques to address edge cases or challenges in RAG. \\n\\nCode: \\nhttps://github.com/langchain-ai/rag-from-scratch/blob/main/rag_from_scratch_1_to_4.ipynb\\n\\nSlides:\\nhttps://docs.google.com/presentation/d/1C9IaAwHoWcc4RSTqo-pCoN3h0nCgqV2JEYZUJunv_9Q/edit?usp=sharing',\n",
       " 'view_count': 141730,\n",
       " 'thumbnail_url': 'https://i.ytimg.com/vi/wd7TZ4w1mSw/sddefault.jpg',\n",
       " 'publish_date': '2024-02-06 00:00:00',\n",
       " 'length': 313,\n",
       " 'author': 'LangChain'}"
      ]
     },
     "execution_count": 13,
     "metadata": {},
     "output_type": "execute_result"
    }
   ],
   "source": [
    "docs[0].metadata"
   ]
  },
  {
   "cell_type": "code",
   "execution_count": 14,
   "id": "328d994b-45f3-41f4-8fd9-20c28e16ed46",
   "metadata": {},
   "outputs": [
    {
     "name": "stdout",
     "output_type": "stream",
     "text": [
      "hi this is Lance from Lang chain we're starting a new series called rag from scratch that's going to walk through some of the basic principles for Rag and kind of build up to Advanced topics um so one of the main motivations for rag is simply that llms haven't seen all of the data that you may care about so like private data or very recent data would not be included in the pre-training Run for these LMS and you can see here on the graph on the xaxis that the number of tokens that they're pre-trained on which is of course very large um but of course it's still always going to be limited relative to private data that you care about or for example recent data but there's another interesting consideration is that llms have context windows that are actually getting increasingly large so you know coming going from like thousands of tokens to many thousands of tokens which represents you know dozens of Pages up to hundreds of pages we can fit information into them from external sources and a \n"
     ]
    }
   ],
   "source": [
    "print(docs[0].page_content[:1000])"
   ]
  },
  {
   "cell_type": "markdown",
   "id": "06af1621-ed2c-4630-85e4-4ac5ff7322ae",
   "metadata": {},
   "source": [
    "## Split documents"
   ]
  },
  {
   "cell_type": "code",
   "execution_count": 15,
   "id": "5fe70980-dd2b-44db-abc9-4653fa72f8ae",
   "metadata": {},
   "outputs": [],
   "source": [
    "from datetime import datetime\n",
    "import shutil\n",
    "\n",
    "from langchain.text_splitter import RecursiveCharacterTextSplitter"
   ]
  },
  {
   "cell_type": "code",
   "execution_count": 16,
   "id": "b37b66fe-a72b-43df-870f-ac93f5f8b397",
   "metadata": {},
   "outputs": [],
   "source": [
    "def generate_chunk_content(chunk):\n",
    "    return \"\\n\\n\".join([\n",
    "        f\"Title:\\n{chunk.metadata['title']}\",\n",
    "        f\"Description:\\n{chunk.metadata['description']}\",\n",
    "        f\"Transcript:\\n{chunk.page_content}\"\n",
    "    ])"
   ]
  },
  {
   "cell_type": "code",
   "execution_count": 17,
   "id": "89ffe90b-202a-4612-8ab7-36068f7b9962",
   "metadata": {},
   "outputs": [
    {
     "data": {
      "text/plain": [
       "14"
      ]
     },
     "execution_count": 17,
     "metadata": {},
     "output_type": "execute_result"
    }
   ],
   "source": [
    "text_splitter = RecursiveCharacterTextSplitter(chunk_size=8000, chunk_overlap=200)\n",
    "splits = text_splitter.split_documents(docs)\n",
    "len(splits)"
   ]
  },
  {
   "cell_type": "code",
   "execution_count": 18,
   "id": "b9b8ff68-143a-4b59-b98f-b1964548c323",
   "metadata": {},
   "outputs": [
    {
     "data": {
      "text/html": [
       "<pre style=\"white-space:pre;overflow-x:auto;line-height:normal;font-family:Menlo,'DejaVu Sans Mono',consolas,'Courier New',monospace\"><span style=\"color: #800080; text-decoration-color: #800080; font-weight: bold\">Document</span><span style=\"font-weight: bold\">(</span>\n",
       "    <span style=\"color: #808000; text-decoration-color: #808000\">metadata</span>=<span style=\"font-weight: bold\">{</span>\n",
       "        <span style=\"color: #008000; text-decoration-color: #008000\">'source'</span>: <span style=\"color: #008000; text-decoration-color: #008000\">'wd7TZ4w1mSw'</span>,\n",
       "        <span style=\"color: #008000; text-decoration-color: #008000\">'title'</span>: <span style=\"color: #008000; text-decoration-color: #008000\">'RAG From Scratch: Part 1 (Overview)'</span>,\n",
       "        <span style=\"color: #008000; text-decoration-color: #008000\">'description'</span>: <span style=\"color: #008000; text-decoration-color: #008000\">'LLMs are a powerful new platform, but they are not always trained on data that is relevant </span>\n",
       "<span style=\"color: #008000; text-decoration-color: #008000\">for our tasks. This is where retrieval augmented generation (or RAG) comes in: RAG is a general methodology for </span>\n",
       "<span style=\"color: #008000; text-decoration-color: #008000\">connecting LLMs with external data sources such as private or recent data. It allows LLMs to use external data in </span>\n",
       "<span style=\"color: #008000; text-decoration-color: #008000\">generation of their output. This video series will build up an understanding of RAG from scratch, starting with the</span>\n",
       "<span style=\"color: #008000; text-decoration-color: #008000\">basics of indexing, retrieval, and generation. It will build up to more advanced techniques to address edge cases </span>\n",
       "<span style=\"color: #008000; text-decoration-color: #008000\">or challenges in RAG. \\n\\nCode: </span>\n",
       "<span style=\"color: #008000; text-decoration-color: #008000\">\\nhttps://github.com/langchain-ai/rag-from-scratch/blob/main/rag_from_scratch_1_to_4.ipynb\\n\\nSlides:\\nhttps://docs</span>\n",
       "<span style=\"color: #008000; text-decoration-color: #008000\">.google.com/presentation/d/1C9IaAwHoWcc4RSTqo-pCoN3h0nCgqV2JEYZUJunv_9Q/edit?usp=sharing'</span>,\n",
       "        <span style=\"color: #008000; text-decoration-color: #008000\">'view_count'</span>: <span style=\"color: #008080; text-decoration-color: #008080; font-weight: bold\">141730</span>,\n",
       "        <span style=\"color: #008000; text-decoration-color: #008000\">'thumbnail_url'</span>: <span style=\"color: #008000; text-decoration-color: #008000\">'https://i.ytimg.com/vi/wd7TZ4w1mSw/sddefault.jpg'</span>,\n",
       "        <span style=\"color: #008000; text-decoration-color: #008000\">'publish_date'</span>: <span style=\"color: #008000; text-decoration-color: #008000\">'2024-02-06 00:00:00'</span>,\n",
       "        <span style=\"color: #008000; text-decoration-color: #008000\">'length'</span>: <span style=\"color: #008080; text-decoration-color: #008080; font-weight: bold\">313</span>,\n",
       "        <span style=\"color: #008000; text-decoration-color: #008000\">'author'</span>: <span style=\"color: #008000; text-decoration-color: #008000\">'LangChain'</span>\n",
       "    <span style=\"font-weight: bold\">}</span>,\n",
       "    <span style=\"color: #808000; text-decoration-color: #808000\">page_content</span>=<span style=\"color: #008000; text-decoration-color: #008000\">\"hi this is Lance from Lang chain we're starting a new series called rag from scratch that's going</span>\n",
       "<span style=\"color: #008000; text-decoration-color: #008000\">to walk through some of the basic principles for Rag and kind of build up to Advanced topics um so one of the main </span>\n",
       "<span style=\"color: #008000; text-decoration-color: #008000\">motivations for rag is simply that llms haven't seen all of the data that you may care about so like private data </span>\n",
       "<span style=\"color: #008000; text-decoration-color: #008000\">or very recent data would not be included in the pre-training Run for these LMS and you can see here on the graph </span>\n",
       "<span style=\"color: #008000; text-decoration-color: #008000\">on the xaxis that the number of tokens that they're pre-trained on which is of course very large um but of course </span>\n",
       "<span style=\"color: #008000; text-decoration-color: #008000\">it's still always going to be limited relative to private data that you care about or for example recent data but </span>\n",
       "<span style=\"color: #008000; text-decoration-color: #008000\">there's another interesting consideration is that llms have context windows that are actually getting increasingly </span>\n",
       "<span style=\"color: #008000; text-decoration-color: #008000\">large so you know coming going from like thousands of tokens to many thousands of tokens which represents you know </span>\n",
       "<span style=\"color: #008000; text-decoration-color: #008000\">dozens of Pages up to hundreds of pages we can fit information into them from external sources and a way to think </span>\n",
       "<span style=\"color: #008000; text-decoration-color: #008000\">about this is llms are kind of a a kernel of a new kind of operating system and connecting them to external data is</span>\n",
       "<span style=\"color: #008000; text-decoration-color: #008000\">kind of a very Central capability in the development of this kind new emergent operating system so retrieval alment</span>\n",
       "<span style=\"color: #008000; text-decoration-color: #008000\">to generation or rag is a very popular kind of General Paradigm for doing this which typically involves three </span>\n",
       "<span style=\"color: #008000; text-decoration-color: #008000\">stages so the first stage is indexing some external documents such that they can be easily retrieved based on an </span>\n",
       "<span style=\"color: #008000; text-decoration-color: #008000\">input query so for example we ask a question we retrieve documents that are relevant to that question we feed those</span>\n",
       "<span style=\"color: #008000; text-decoration-color: #008000\">documents into an llm in the final generation stage to produce an answer that's grounded in those retrieve </span>\n",
       "<span style=\"color: #008000; text-decoration-color: #008000\">documents now we're starting from scratch but we're going to kind of build up to this broader view of rag you can </span>\n",
       "<span style=\"color: #008000; text-decoration-color: #008000\">see here there's a lot of interesting methods and tricks that kind of fan out from those three basic components of </span>\n",
       "<span style=\"color: #008000; text-decoration-color: #008000\">indexing retrieval and generation and future videos are actually going to walk through those in detail we're going </span>\n",
       "<span style=\"color: #008000; text-decoration-color: #008000\">to try to keep each video pretty short like five minutes but we're going to spend a lot of time on some of those </span>\n",
       "<span style=\"color: #008000; text-decoration-color: #008000\">more advanced topics first over the next three videos I'll just be laying out the very basic kind of ideas behind </span>\n",
       "<span style=\"color: #008000; text-decoration-color: #008000\">indexing retrieval and generation and then we'll kind of build beyond that into those more advanced themes and now </span>\n",
       "<span style=\"color: #008000; text-decoration-color: #008000\">I want to show just a quick code walkth through because we want to make these videos also a little bit interactive </span>\n",
       "<span style=\"color: #008000; text-decoration-color: #008000\">so right here and this repo will be shared it's public I have a a notebook open and I've just just basically </span>\n",
       "<span style=\"color: #008000; text-decoration-color: #008000\">installed a few packages and I've set a few environment variables for my lsmith keys which um I personally do </span>\n",
       "<span style=\"color: #008000; text-decoration-color: #008000\">recommend it's really useful for tracing observability um particularly when you're building rag pipelines so what </span>\n",
       "<span style=\"color: #008000; text-decoration-color: #008000\">I'm going to show here is the code for a rag quick start which is linked here and I'm going to run this but I'm </span>\n",
       "<span style=\"color: #008000; text-decoration-color: #008000\">then going to kind of walk through everything that's going on so actually if we think back to our diagram all we're</span>\n",
       "<span style=\"color: #008000; text-decoration-color: #008000\">doing here is we're loading documents in this case I'm loading a blog post we're then splitting them and we'll talk</span>\n",
       "<span style=\"color: #008000; text-decoration-color: #008000\">about that in future like uh short videos on like why splitting is important but just for now recognize we're </span>\n",
       "<span style=\"color: #008000; text-decoration-color: #008000\">splitting them or setting a chunk size of um you know a thousand characters so we're splitting up our documents </span>\n",
       "<span style=\"color: #008000; text-decoration-color: #008000\">every split is embedded and indexed into this Vector store so we say we picked open eye embeddings we're using </span>\n",
       "<span style=\"color: #008000; text-decoration-color: #008000\">chromas our Vector storage runs locally and now we' find this retriever we then have defined a prompt for rag um </span>\n",
       "<span style=\"color: #008000; text-decoration-color: #008000\">we've defined our llm we've done some minor document processing we set up this chain which will basically take our </span>\n",
       "<span style=\"color: #008000; text-decoration-color: #008000\">input question run our retriever to fetch relevant documents put the retrieve documents and our question into our </span>\n",
       "<span style=\"color: #008000; text-decoration-color: #008000\">prompt pass it to the LM format the output as a string and we can see here's our output now we can open up lsmith </span>\n",
       "<span style=\"color: #008000; text-decoration-color: #008000\">and we can actually see how this Ran So here was our question and here's our output and we can actually look here's</span>\n",
       "<span style=\"color: #008000; text-decoration-color: #008000\">our retriever here is our retrieve documents so that's pretty nice and ultimately here was the prompt that we </span>\n",
       "<span style=\"color: #008000; text-decoration-color: #008000\">actually passed into the LM you're an assistant for QA task use the following pieces of retrieve content to answer </span>\n",
       "<span style=\"color: #008000; text-decoration-color: #008000\">the question here's our question and then here's all the content this we retrieved and that DRS answer so this just</span>\n",
       "<span style=\"color: #008000; text-decoration-color: #008000\">gives a very general overview of how rag works and in future uh short videos we're going to like break down each of</span>\n",
       "<span style=\"color: #008000; text-decoration-color: #008000\">these pieces and I in in a lot more detail uh thanks\"</span>\n",
       "<span style=\"font-weight: bold\">)</span>\n",
       "</pre>\n"
      ],
      "text/plain": [
       "\u001b[1;35mDocument\u001b[0m\u001b[1m(\u001b[0m\n",
       "    \u001b[33mmetadata\u001b[0m=\u001b[1m{\u001b[0m\n",
       "        \u001b[32m'source'\u001b[0m: \u001b[32m'wd7TZ4w1mSw'\u001b[0m,\n",
       "        \u001b[32m'title'\u001b[0m: \u001b[32m'RAG From Scratch: Part 1 \u001b[0m\u001b[32m(\u001b[0m\u001b[32mOverview\u001b[0m\u001b[32m)\u001b[0m\u001b[32m'\u001b[0m,\n",
       "        \u001b[32m'description'\u001b[0m: \u001b[32m'LLMs are a powerful new platform, but they are not always trained on data that is relevant \u001b[0m\n",
       "\u001b[32mfor our tasks. This is where retrieval augmented generation \u001b[0m\u001b[32m(\u001b[0m\u001b[32mor RAG\u001b[0m\u001b[32m)\u001b[0m\u001b[32m comes in: RAG is a general methodology for \u001b[0m\n",
       "\u001b[32mconnecting LLMs with external data sources such as private or recent data. It allows LLMs to use external data in \u001b[0m\n",
       "\u001b[32mgeneration of their output. This video series will build up an understanding of RAG from scratch, starting with the\u001b[0m\n",
       "\u001b[32mbasics of indexing, retrieval, and generation. It will build up to more advanced techniques to address edge cases \u001b[0m\n",
       "\u001b[32mor challenges in RAG. \\n\\nCode: \u001b[0m\n",
       "\u001b[32m\\nhttps://github.com/langchain-ai/rag-from-scratch/blob/main/rag_from_scratch_1_to_4.ipynb\\n\\nSlides:\\nhttps://docs\u001b[0m\n",
       "\u001b[32m.google.com/presentation/d/1C9IaAwHoWcc4RSTqo-pCoN3h0nCgqV2JEYZUJunv_9Q/edit?\u001b[0m\u001b[32musp\u001b[0m\u001b[32m=\u001b[0m\u001b[32msharing\u001b[0m\u001b[32m'\u001b[0m,\n",
       "        \u001b[32m'view_count'\u001b[0m: \u001b[1;36m141730\u001b[0m,\n",
       "        \u001b[32m'thumbnail_url'\u001b[0m: \u001b[32m'https://i.ytimg.com/vi/wd7TZ4w1mSw/sddefault.jpg'\u001b[0m,\n",
       "        \u001b[32m'publish_date'\u001b[0m: \u001b[32m'2024-02-06 00:00:00'\u001b[0m,\n",
       "        \u001b[32m'length'\u001b[0m: \u001b[1;36m313\u001b[0m,\n",
       "        \u001b[32m'author'\u001b[0m: \u001b[32m'LangChain'\u001b[0m\n",
       "    \u001b[1m}\u001b[0m,\n",
       "    \u001b[33mpage_content\u001b[0m=\u001b[32m\"hi\u001b[0m\u001b[32m this is Lance from Lang chain we're starting a new series called rag from scratch that's going\u001b[0m\n",
       "\u001b[32mto walk through some of the basic principles for Rag and kind of build up to Advanced topics um so one of the main \u001b[0m\n",
       "\u001b[32mmotivations for rag is simply that llms haven't seen all of the data that you may care about so like private data \u001b[0m\n",
       "\u001b[32mor very recent data would not be included in the pre-training Run for these LMS and you can see here on the graph \u001b[0m\n",
       "\u001b[32mon the xaxis that the number of tokens that they're pre-trained on which is of course very large um but of course \u001b[0m\n",
       "\u001b[32mit's still always going to be limited relative to private data that you care about or for example recent data but \u001b[0m\n",
       "\u001b[32mthere's another interesting consideration is that llms have context windows that are actually getting increasingly \u001b[0m\n",
       "\u001b[32mlarge so you know coming going from like thousands of tokens to many thousands of tokens which represents you know \u001b[0m\n",
       "\u001b[32mdozens of Pages up to hundreds of pages we can fit information into them from external sources and a way to think \u001b[0m\n",
       "\u001b[32mabout this is llms are kind of a a kernel of a new kind of operating system and connecting them to external data is\u001b[0m\n",
       "\u001b[32mkind of a very Central capability in the development of this kind new emergent operating system so retrieval alment\u001b[0m\n",
       "\u001b[32mto generation or rag is a very popular kind of General Paradigm for doing this which typically involves three \u001b[0m\n",
       "\u001b[32mstages so the first stage is indexing some external documents such that they can be easily retrieved based on an \u001b[0m\n",
       "\u001b[32minput query so for example we ask a question we retrieve documents that are relevant to that question we feed those\u001b[0m\n",
       "\u001b[32mdocuments into an llm in the final generation stage to produce an answer that's grounded in those retrieve \u001b[0m\n",
       "\u001b[32mdocuments now we're starting from scratch but we're going to kind of build up to this broader view of rag you can \u001b[0m\n",
       "\u001b[32msee here there's a lot of interesting methods and tricks that kind of fan out from those three basic components of \u001b[0m\n",
       "\u001b[32mindexing retrieval and generation and future videos are actually going to walk through those in detail we're going \u001b[0m\n",
       "\u001b[32mto try to keep each video pretty short like five minutes but we're going to spend a lot of time on some of those \u001b[0m\n",
       "\u001b[32mmore advanced topics first over the next three videos I'll just be laying out the very basic kind of ideas behind \u001b[0m\n",
       "\u001b[32mindexing retrieval and generation and then we'll kind of build beyond that into those more advanced themes and now \u001b[0m\n",
       "\u001b[32mI want to show just a quick code walkth through because we want to make these videos also a little bit interactive \u001b[0m\n",
       "\u001b[32mso right here and this repo will be shared it's public I have a a notebook open and I've just just basically \u001b[0m\n",
       "\u001b[32minstalled a few packages and I've set a few environment variables for my lsmith keys which um I personally do \u001b[0m\n",
       "\u001b[32mrecommend it's really useful for tracing observability um particularly when you're building rag pipelines so what \u001b[0m\n",
       "\u001b[32mI'm going to show here is the code for a rag quick start which is linked here and I'm going to run this but I'm \u001b[0m\n",
       "\u001b[32mthen going to kind of walk through everything that's going on so actually if we think back to our diagram all we're\u001b[0m\n",
       "\u001b[32mdoing here is we're loading documents in this case I'm loading a blog post we're then splitting them and we'll talk\u001b[0m\n",
       "\u001b[32mabout that in future like uh short videos on like why splitting is important but just for now recognize we're \u001b[0m\n",
       "\u001b[32msplitting them or setting a chunk size of um you know a thousand characters so we're splitting up our documents \u001b[0m\n",
       "\u001b[32mevery split is embedded and indexed into this Vector store so we say we picked open eye embeddings we're using \u001b[0m\n",
       "\u001b[32mchromas our Vector storage runs locally and now we' find this retriever we then have defined a prompt for rag um \u001b[0m\n",
       "\u001b[32mwe've defined our llm we've done some minor document processing we set up this chain which will basically take our \u001b[0m\n",
       "\u001b[32minput question run our retriever to fetch relevant documents put the retrieve documents and our question into our \u001b[0m\n",
       "\u001b[32mprompt pass it to the LM format the output as a string and we can see here's our output now we can open up lsmith \u001b[0m\n",
       "\u001b[32mand we can actually see how this Ran So here was our question and here's our output and we can actually look here's\u001b[0m\n",
       "\u001b[32mour retriever here is our retrieve documents so that's pretty nice and ultimately here was the prompt that we \u001b[0m\n",
       "\u001b[32mactually passed into the LM you're an assistant for QA task use the following pieces of retrieve content to answer \u001b[0m\n",
       "\u001b[32mthe question here's our question and then here's all the content this we retrieved and that DRS answer so this just\u001b[0m\n",
       "\u001b[32mgives a very general overview of how rag works and in future uh short videos we're going to like break down each of\u001b[0m\n",
       "\u001b[32mthese pieces and I in in a lot more detail uh thanks\"\u001b[0m\n",
       "\u001b[1m)\u001b[0m\n"
      ]
     },
     "metadata": {},
     "output_type": "display_data"
    },
    {
     "name": "stdout",
     "output_type": "stream",
     "text": [
      "hi this is Lance from Lang chain we're starting a new series called rag from scratch that's going to walk through some of the basic principles for Rag and kind of build up to Advanced topics um so one of the main motivations for rag is simply that llms haven't seen all of the data that you may care about so like private data or very recent data would not be included in the pre-training Run for these LMS and you can see here on the graph on the xaxis that the number of tokens that they're pre-trained on which is of course very large um but of course it's still always going to be limited relative to private data that you care about or for example recent data but there's another interesting consideration is that llms have context windows that are actually getting increasingly large so you know coming going from like thousands of tokens to many thousands of tokens which represents you know dozens of Pages up to hundreds of pages we can fit information into them from external sources and a way to think about this is llms are kind of a a kernel of a new kind of operating system and connecting them to external data is kind of a very Central capability in the development of this kind new emergent operating system so retrieval alment to generation or rag is a very popular kind of General Paradigm for doing this which typically involves three stages so the first stage is indexing some external documents such that they can be easily retrieved based on an input query so for example we ask a question we retrieve documents that are relevant to that question we feed those documents into an llm in the final generation stage to produce an answer that's grounded in those retrieve documents now we're starting from scratch but we're going to kind of build up to this broader view of rag you can see here there's a lot of interesting methods and tricks that kind of fan out from those three basic components of indexing retrieval and generation and future videos are actually going to walk through those in detail we're going to try to keep each video pretty short like five minutes but we're going to spend a lot of time on some of those more advanced topics first over the next three videos I'll just be laying out the very basic kind of ideas behind indexing retrieval and generation and then we'll kind of build beyond that into those more advanced themes and now I want to show just a quick code walkth through because we want to make these videos also a little bit interactive so right here and this repo will be shared it's public I have a a notebook open and I've just just basically installed a few packages and I've set a few environment variables for my lsmith keys which um I personally do recommend it's really useful for tracing observability um particularly when you're building rag pipelines so what I'm going to show here is the code for a rag quick start which is linked here and I'm going to run this but I'm then going to kind of walk through everything that's going on so actually if we think back to our diagram all we're doing here is we're loading documents in this case I'm loading a blog post we're then splitting them and we'll talk about that in future like uh short videos on like why splitting is important but just for now recognize we're splitting them or setting a chunk size of um you know a thousand characters so we're splitting up our documents every split is embedded and indexed into this Vector store so we say we picked open eye embeddings we're using chromas our Vector storage runs locally and now we' find this retriever we then have defined a prompt for rag um we've defined our llm we've done some minor document processing we set up this chain which will basically take our input question run our retriever to fetch relevant documents put the retrieve documents and our question into our prompt pass it to the LM format the output as a string and we can see here's our output now we can open up lsmith and we can actually see how this Ran So here was our question and here's our output and we can actually look here's our retriever here is our retrieve documents so that's pretty nice and ultimately here was the prompt that we actually passed into the LM you're an assistant for QA task use the following pieces of retrieve content to answer the question here's our question and then here's all the content this we retrieved and that DRS answer so this just gives a very general overview of how rag works and in future uh short videos we're going to like break down each of these pieces and I in in a lot more detail uh thanks\n"
     ]
    }
   ],
   "source": [
    "rprint(splits[0])\n",
    "print(splits[0].page_content)"
   ]
  },
  {
   "cell_type": "code",
   "execution_count": 19,
   "id": "2329f800-422d-4a73-bb77-0a62acf25a91",
   "metadata": {
    "scrolled": true
   },
   "outputs": [
    {
     "name": "stdout",
     "output_type": "stream",
     "text": [
      "Title:\n",
      "RAG From Scratch: Part 1 (Overview)\n",
      "\n",
      "Description:\n",
      "LLMs are a powerful new platform, but they are not always trained on data that is relevant for our tasks. This is where retrieval augmented generation (or RAG) comes in: RAG is a general methodology for connecting LLMs with external data sources such as private or recent data. It allows LLMs to use external data in generation of their output. This video series will build up an understanding of RAG from scratch, starting with the basics of indexing, retrieval, and generation. It will build up to more advanced techniques to address edge cases or challenges in RAG. \n",
      "\n",
      "Code: \n",
      "https://github.com/langchain-ai/rag-from-scratch/blob/main/rag_from_scratch_1_to_4.ipynb\n",
      "\n",
      "Slides:\n",
      "https://docs.google.com/presentation/d/1C9IaAwHoWcc4RSTqo-pCoN3h0nCgqV2JEYZUJunv_9Q/edit?usp=sharing\n",
      "\n",
      "Transcript:\n",
      "hi this is Lance from Lang chain we're starting a new series called rag from scratch that's going to walk through some of the basic principles for Rag and kind of build up to Advanced topics um so one of the main motivations for rag is simply that llms haven't seen all of the data that you may care about so like private data or very recent data would not be included in the pre-training Run for these LMS and you can see here on the graph on the xaxis that the number of tokens that they're pre-trained on which is of course very large um but of course it's still always going to be limited relative to private data that you care about or for example recent data but there's another interesting consideration is that llms have context windows that are actually getting increasingly large so you know coming going from like thousands of tokens to many thousands of tokens which represents you know dozens of Pages up to hundreds of pages we can fit information into them from external sources and a way to think about this is llms are kind of a a kernel of a new kind of operating system and connecting them to external data is kind of a very Central capability in the development of this kind new emergent operating system so retrieval alment to generation or rag is a very popular kind of General Paradigm for doing this which typically involves three stages so the first stage is indexing some external documents such that they can be easily retrieved based on an input query so for example we ask a question we retrieve documents that are relevant to that question we feed those documents into an llm in the final generation stage to produce an answer that's grounded in those retrieve documents now we're starting from scratch but we're going to kind of build up to this broader view of rag you can see here there's a lot of interesting methods and tricks that kind of fan out from those three basic components of indexing retrieval and generation and future videos are actually going to walk through those in detail we're going to try to keep each video pretty short like five minutes but we're going to spend a lot of time on some of those more advanced topics first over the next three videos I'll just be laying out the very basic kind of ideas behind indexing retrieval and generation and then we'll kind of build beyond that into those more advanced themes and now I want to show just a quick code walkth through because we want to make these videos also a little bit interactive so right here and this repo will be shared it's public I have a a notebook open and I've just just basically installed a few packages and I've set a few environment variables for my lsmith keys which um I personally do recommend it's really useful for tracing observability um particularly when you're building rag pipelines so what I'm going to show here is the code for a rag quick start which is linked here and I'm going to run this but I'm then going to kind of walk through everything that's going on so actually if we think back to our diagram all we're doing here is we're loading documents in this case I'm loading a blog post we're then splitting them and we'll talk about that in future like uh short videos on like why splitting is important but just for now recognize we're splitting them or setting a chunk size of um you know a thousand characters so we're splitting up our documents every split is embedded and indexed into this Vector store so we say we picked open eye embeddings we're using chromas our Vector storage runs locally and now we' find this retriever we then have defined a prompt for rag um we've defined our llm we've done some minor document processing we set up this chain which will basically take our input question run our retriever to fetch relevant documents put the retrieve documents and our question into our prompt pass it to the LM format the output as a string and we can see here's our output now we can open up lsmith and we can actually see how this Ran So here was our question and here's our output and we can actually look here's our retriever here is our retrieve documents so that's pretty nice and ultimately here was the prompt that we actually passed into the LM you're an assistant for QA task use the following pieces of retrieve content to answer the question here's our question and then here's all the content this we retrieved and that DRS answer so this just gives a very general overview of how rag works and in future uh short videos we're going to like break down each of these pieces and I in in a lot more detail uh thanks\n"
     ]
    }
   ],
   "source": [
    "print(generate_chunk_content(splits[0]))"
   ]
  },
  {
   "cell_type": "code",
   "execution_count": 20,
   "id": "4f93eaa3-25af-4ca0-b155-3e7a5c589fce",
   "metadata": {},
   "outputs": [
    {
     "name": "stderr",
     "output_type": "stream",
     "text": [
      "/tmp/ipykernel_271480/3296768915.py:7: PydanticDeprecatedSince20: The `copy` method is deprecated; use `model_copy` instead. See the docstring of `BaseModel.copy` for details about how to handle `include` and `exclude`. Deprecated in Pydantic V2.0 to be removed in V3.0. See Pydantic V2 Migration Guide at https://errors.pydantic.dev/2.11/migration/\n",
      "  processed_split = split.copy()\n"
     ]
    },
    {
     "data": {
      "text/plain": [
       "14"
      ]
     },
     "execution_count": 20,
     "metadata": {},
     "output_type": "execute_result"
    }
   ],
   "source": [
    "datetime_format = '%Y-%m-%d %H:%M:%S'\n",
    "date_format = '%Y%m%d'\n",
    "\n",
    "processed_splits = []\n",
    "\n",
    "for split in splits:\n",
    "    processed_split = split.copy()\n",
    "    processed_split.metadata['publish_date'] = int(datetime.strptime(processed_split.metadata['publish_date'], datetime_format).strftime(date_format))\n",
    "    processed_split.page_content = generate_chunk_content(processed_split)\n",
    "    processed_splits.append(processed_split)\n",
    "\n",
    "len(processed_splits)"
   ]
  },
  {
   "cell_type": "code",
   "execution_count": 21,
   "id": "59268a09-502c-43db-a71b-639533fbdd95",
   "metadata": {},
   "outputs": [
    {
     "data": {
      "text/html": [
       "<pre style=\"white-space:pre;overflow-x:auto;line-height:normal;font-family:Menlo,'DejaVu Sans Mono',consolas,'Courier New',monospace\"><span style=\"color: #800080; text-decoration-color: #800080; font-weight: bold\">Document</span><span style=\"font-weight: bold\">(</span>\n",
       "    <span style=\"color: #808000; text-decoration-color: #808000\">metadata</span>=<span style=\"font-weight: bold\">{</span>\n",
       "        <span style=\"color: #008000; text-decoration-color: #008000\">'source'</span>: <span style=\"color: #008000; text-decoration-color: #008000\">'wd7TZ4w1mSw'</span>,\n",
       "        <span style=\"color: #008000; text-decoration-color: #008000\">'title'</span>: <span style=\"color: #008000; text-decoration-color: #008000\">'RAG From Scratch: Part 1 (Overview)'</span>,\n",
       "        <span style=\"color: #008000; text-decoration-color: #008000\">'description'</span>: <span style=\"color: #008000; text-decoration-color: #008000\">'LLMs are a powerful new platform, but they are not always trained on data that is relevant </span>\n",
       "<span style=\"color: #008000; text-decoration-color: #008000\">for our tasks. This is where retrieval augmented generation (or RAG) comes in: RAG is a general methodology for </span>\n",
       "<span style=\"color: #008000; text-decoration-color: #008000\">connecting LLMs with external data sources such as private or recent data. It allows LLMs to use external data in </span>\n",
       "<span style=\"color: #008000; text-decoration-color: #008000\">generation of their output. This video series will build up an understanding of RAG from scratch, starting with the</span>\n",
       "<span style=\"color: #008000; text-decoration-color: #008000\">basics of indexing, retrieval, and generation. It will build up to more advanced techniques to address edge cases </span>\n",
       "<span style=\"color: #008000; text-decoration-color: #008000\">or challenges in RAG. \\n\\nCode: </span>\n",
       "<span style=\"color: #008000; text-decoration-color: #008000\">\\nhttps://github.com/langchain-ai/rag-from-scratch/blob/main/rag_from_scratch_1_to_4.ipynb\\n\\nSlides:\\nhttps://docs</span>\n",
       "<span style=\"color: #008000; text-decoration-color: #008000\">.google.com/presentation/d/1C9IaAwHoWcc4RSTqo-pCoN3h0nCgqV2JEYZUJunv_9Q/edit?usp=sharing'</span>,\n",
       "        <span style=\"color: #008000; text-decoration-color: #008000\">'view_count'</span>: <span style=\"color: #008080; text-decoration-color: #008080; font-weight: bold\">141730</span>,\n",
       "        <span style=\"color: #008000; text-decoration-color: #008000\">'thumbnail_url'</span>: <span style=\"color: #008000; text-decoration-color: #008000\">'https://i.ytimg.com/vi/wd7TZ4w1mSw/sddefault.jpg'</span>,\n",
       "        <span style=\"color: #008000; text-decoration-color: #008000\">'publish_date'</span>: <span style=\"color: #008080; text-decoration-color: #008080; font-weight: bold\">20240206</span>,\n",
       "        <span style=\"color: #008000; text-decoration-color: #008000\">'length'</span>: <span style=\"color: #008080; text-decoration-color: #008080; font-weight: bold\">313</span>,\n",
       "        <span style=\"color: #008000; text-decoration-color: #008000\">'author'</span>: <span style=\"color: #008000; text-decoration-color: #008000\">'LangChain'</span>\n",
       "    <span style=\"font-weight: bold\">}</span>,\n",
       "    <span style=\"color: #808000; text-decoration-color: #808000\">page_content</span>=<span style=\"color: #008000; text-decoration-color: #008000\">\"Title:\\nRAG From Scratch: Part 1 (Overview)\\n\\nDescription:\\nLLMs are a powerful new platform, </span>\n",
       "<span style=\"color: #008000; text-decoration-color: #008000\">but they are not always trained on data that is relevant for our tasks. This is where retrieval augmented </span>\n",
       "<span style=\"color: #008000; text-decoration-color: #008000\">generation (or RAG) comes in: RAG is a general methodology for connecting LLMs with external data sources such as </span>\n",
       "<span style=\"color: #008000; text-decoration-color: #008000\">private or recent data. It allows LLMs to use external data in generation of their output. This video series will </span>\n",
       "<span style=\"color: #008000; text-decoration-color: #008000\">build up an understanding of RAG from scratch, starting with the basics of indexing, retrieval, and generation. It </span>\n",
       "<span style=\"color: #008000; text-decoration-color: #008000\">will build up to more advanced techniques to address edge cases or challenges in RAG. \\n\\nCode: </span>\n",
       "<span style=\"color: #008000; text-decoration-color: #008000\">\\nhttps://github.com/langchain-ai/rag-from-scratch/blob/main/rag_from_scratch_1_to_4.ipynb\\n\\nSlides:\\nhttps://docs</span>\n",
       "<span style=\"color: #008000; text-decoration-color: #008000\">.google.com/presentation/d/1C9IaAwHoWcc4RSTqo-pCoN3h0nCgqV2JEYZUJunv_9Q/edit?usp=sharing\\n\\nTranscript:\\nhi this is</span>\n",
       "<span style=\"color: #008000; text-decoration-color: #008000\">Lance from Lang chain we're starting a new series called rag from scratch that's going to walk through some of the </span>\n",
       "<span style=\"color: #008000; text-decoration-color: #008000\">basic principles for Rag and kind of build up to Advanced topics um so one of the main motivations for rag is </span>\n",
       "<span style=\"color: #008000; text-decoration-color: #008000\">simply that llms haven't seen all of the data that you may care about so like private data or very recent data </span>\n",
       "<span style=\"color: #008000; text-decoration-color: #008000\">would not be included in the pre-training Run for these LMS and you can see here on the graph on the xaxis that the</span>\n",
       "<span style=\"color: #008000; text-decoration-color: #008000\">number of tokens that they're pre-trained on which is of course very large um but of course it's still always going</span>\n",
       "<span style=\"color: #008000; text-decoration-color: #008000\">to be limited relative to private data that you care about or for example recent data but there's another </span>\n",
       "<span style=\"color: #008000; text-decoration-color: #008000\">interesting consideration is that llms have context windows that are actually getting increasingly large so you </span>\n",
       "<span style=\"color: #008000; text-decoration-color: #008000\">know coming going from like thousands of tokens to many thousands of tokens which represents you know dozens of </span>\n",
       "<span style=\"color: #008000; text-decoration-color: #008000\">Pages up to hundreds of pages we can fit information into them from external sources and a way to think about this </span>\n",
       "<span style=\"color: #008000; text-decoration-color: #008000\">is llms are kind of a a kernel of a new kind of operating system and connecting them to external data is kind of a </span>\n",
       "<span style=\"color: #008000; text-decoration-color: #008000\">very Central capability in the development of this kind new emergent operating system so retrieval alment to </span>\n",
       "<span style=\"color: #008000; text-decoration-color: #008000\">generation or rag is a very popular kind of General Paradigm for doing this which typically involves three stages </span>\n",
       "<span style=\"color: #008000; text-decoration-color: #008000\">so the first stage is indexing some external documents such that they can be easily retrieved based on an input </span>\n",
       "<span style=\"color: #008000; text-decoration-color: #008000\">query so for example we ask a question we retrieve documents that are relevant to that question we feed those </span>\n",
       "<span style=\"color: #008000; text-decoration-color: #008000\">documents into an llm in the final generation stage to produce an answer that's grounded in those retrieve </span>\n",
       "<span style=\"color: #008000; text-decoration-color: #008000\">documents now we're starting from scratch but we're going to kind of build up to this broader view of rag you can </span>\n",
       "<span style=\"color: #008000; text-decoration-color: #008000\">see here there's a lot of interesting methods and tricks that kind of fan out from those three basic components of </span>\n",
       "<span style=\"color: #008000; text-decoration-color: #008000\">indexing retrieval and generation and future videos are actually going to walk through those in detail we're going </span>\n",
       "<span style=\"color: #008000; text-decoration-color: #008000\">to try to keep each video pretty short like five minutes but we're going to spend a lot of time on some of those </span>\n",
       "<span style=\"color: #008000; text-decoration-color: #008000\">more advanced topics first over the next three videos I'll just be laying out the very basic kind of ideas behind </span>\n",
       "<span style=\"color: #008000; text-decoration-color: #008000\">indexing retrieval and generation and then we'll kind of build beyond that into those more advanced themes and now </span>\n",
       "<span style=\"color: #008000; text-decoration-color: #008000\">I want to show just a quick code walkth through because we want to make these videos also a little bit interactive </span>\n",
       "<span style=\"color: #008000; text-decoration-color: #008000\">so right here and this repo will be shared it's public I have a a notebook open and I've just just basically </span>\n",
       "<span style=\"color: #008000; text-decoration-color: #008000\">installed a few packages and I've set a few environment variables for my lsmith keys which um I personally do </span>\n",
       "<span style=\"color: #008000; text-decoration-color: #008000\">recommend it's really useful for tracing observability um particularly when you're building rag pipelines so what </span>\n",
       "<span style=\"color: #008000; text-decoration-color: #008000\">I'm going to show here is the code for a rag quick start which is linked here and I'm going to run this but I'm </span>\n",
       "<span style=\"color: #008000; text-decoration-color: #008000\">then going to kind of walk through everything that's going on so actually if we think back to our diagram all we're</span>\n",
       "<span style=\"color: #008000; text-decoration-color: #008000\">doing here is we're loading documents in this case I'm loading a blog post we're then splitting them and we'll talk</span>\n",
       "<span style=\"color: #008000; text-decoration-color: #008000\">about that in future like uh short videos on like why splitting is important but just for now recognize we're </span>\n",
       "<span style=\"color: #008000; text-decoration-color: #008000\">splitting them or setting a chunk size of um you know a thousand characters so we're splitting up our documents </span>\n",
       "<span style=\"color: #008000; text-decoration-color: #008000\">every split is embedded and indexed into this Vector store so we say we picked open eye embeddings we're using </span>\n",
       "<span style=\"color: #008000; text-decoration-color: #008000\">chromas our Vector storage runs locally and now we' find this retriever we then have defined a prompt for rag um </span>\n",
       "<span style=\"color: #008000; text-decoration-color: #008000\">we've defined our llm we've done some minor document processing we set up this chain which will basically take our </span>\n",
       "<span style=\"color: #008000; text-decoration-color: #008000\">input question run our retriever to fetch relevant documents put the retrieve documents and our question into our </span>\n",
       "<span style=\"color: #008000; text-decoration-color: #008000\">prompt pass it to the LM format the output as a string and we can see here's our output now we can open up lsmith </span>\n",
       "<span style=\"color: #008000; text-decoration-color: #008000\">and we can actually see how this Ran So here was our question and here's our output and we can actually look here's</span>\n",
       "<span style=\"color: #008000; text-decoration-color: #008000\">our retriever here is our retrieve documents so that's pretty nice and ultimately here was the prompt that we </span>\n",
       "<span style=\"color: #008000; text-decoration-color: #008000\">actually passed into the LM you're an assistant for QA task use the following pieces of retrieve content to answer </span>\n",
       "<span style=\"color: #008000; text-decoration-color: #008000\">the question here's our question and then here's all the content this we retrieved and that DRS answer so this just</span>\n",
       "<span style=\"color: #008000; text-decoration-color: #008000\">gives a very general overview of how rag works and in future uh short videos we're going to like break down each of</span>\n",
       "<span style=\"color: #008000; text-decoration-color: #008000\">these pieces and I in in a lot more detail uh thanks\"</span>\n",
       "<span style=\"font-weight: bold\">)</span>\n",
       "</pre>\n"
      ],
      "text/plain": [
       "\u001b[1;35mDocument\u001b[0m\u001b[1m(\u001b[0m\n",
       "    \u001b[33mmetadata\u001b[0m=\u001b[1m{\u001b[0m\n",
       "        \u001b[32m'source'\u001b[0m: \u001b[32m'wd7TZ4w1mSw'\u001b[0m,\n",
       "        \u001b[32m'title'\u001b[0m: \u001b[32m'RAG From Scratch: Part 1 \u001b[0m\u001b[32m(\u001b[0m\u001b[32mOverview\u001b[0m\u001b[32m)\u001b[0m\u001b[32m'\u001b[0m,\n",
       "        \u001b[32m'description'\u001b[0m: \u001b[32m'LLMs are a powerful new platform, but they are not always trained on data that is relevant \u001b[0m\n",
       "\u001b[32mfor our tasks. This is where retrieval augmented generation \u001b[0m\u001b[32m(\u001b[0m\u001b[32mor RAG\u001b[0m\u001b[32m)\u001b[0m\u001b[32m comes in: RAG is a general methodology for \u001b[0m\n",
       "\u001b[32mconnecting LLMs with external data sources such as private or recent data. It allows LLMs to use external data in \u001b[0m\n",
       "\u001b[32mgeneration of their output. This video series will build up an understanding of RAG from scratch, starting with the\u001b[0m\n",
       "\u001b[32mbasics of indexing, retrieval, and generation. It will build up to more advanced techniques to address edge cases \u001b[0m\n",
       "\u001b[32mor challenges in RAG. \\n\\nCode: \u001b[0m\n",
       "\u001b[32m\\nhttps://github.com/langchain-ai/rag-from-scratch/blob/main/rag_from_scratch_1_to_4.ipynb\\n\\nSlides:\\nhttps://docs\u001b[0m\n",
       "\u001b[32m.google.com/presentation/d/1C9IaAwHoWcc4RSTqo-pCoN3h0nCgqV2JEYZUJunv_9Q/edit?\u001b[0m\u001b[32musp\u001b[0m\u001b[32m=\u001b[0m\u001b[32msharing\u001b[0m\u001b[32m'\u001b[0m,\n",
       "        \u001b[32m'view_count'\u001b[0m: \u001b[1;36m141730\u001b[0m,\n",
       "        \u001b[32m'thumbnail_url'\u001b[0m: \u001b[32m'https://i.ytimg.com/vi/wd7TZ4w1mSw/sddefault.jpg'\u001b[0m,\n",
       "        \u001b[32m'publish_date'\u001b[0m: \u001b[1;36m20240206\u001b[0m,\n",
       "        \u001b[32m'length'\u001b[0m: \u001b[1;36m313\u001b[0m,\n",
       "        \u001b[32m'author'\u001b[0m: \u001b[32m'LangChain'\u001b[0m\n",
       "    \u001b[1m}\u001b[0m,\n",
       "    \u001b[33mpage_content\u001b[0m=\u001b[32m\"Title\u001b[0m\u001b[32m:\\nRAG From Scratch: Part 1 \u001b[0m\u001b[32m(\u001b[0m\u001b[32mOverview\u001b[0m\u001b[32m)\u001b[0m\u001b[32m\\n\\nDescription:\\nLLMs are a powerful new platform, \u001b[0m\n",
       "\u001b[32mbut they are not always trained on data that is relevant for our tasks. This is where retrieval augmented \u001b[0m\n",
       "\u001b[32mgeneration \u001b[0m\u001b[32m(\u001b[0m\u001b[32mor RAG\u001b[0m\u001b[32m)\u001b[0m\u001b[32m comes in: RAG is a general methodology for connecting LLMs with external data sources such as \u001b[0m\n",
       "\u001b[32mprivate or recent data. It allows LLMs to use external data in generation of their output. This video series will \u001b[0m\n",
       "\u001b[32mbuild up an understanding of RAG from scratch, starting with the basics of indexing, retrieval, and generation. It \u001b[0m\n",
       "\u001b[32mwill build up to more advanced techniques to address edge cases or challenges in RAG. \\n\\nCode: \u001b[0m\n",
       "\u001b[32m\\nhttps://github.com/langchain-ai/rag-from-scratch/blob/main/rag_from_scratch_1_to_4.ipynb\\n\\nSlides:\\nhttps://docs\u001b[0m\n",
       "\u001b[32m.google.com/presentation/d/1C9IaAwHoWcc4RSTqo-pCoN3h0nCgqV2JEYZUJunv_9Q/edit?\u001b[0m\u001b[32musp\u001b[0m\u001b[32m=\u001b[0m\u001b[32msharing\u001b[0m\u001b[32m\\n\\nTranscript:\\nhi this is\u001b[0m\n",
       "\u001b[32mLance from Lang chain we're starting a new series called rag from scratch that's going to walk through some of the \u001b[0m\n",
       "\u001b[32mbasic principles for Rag and kind of build up to Advanced topics um so one of the main motivations for rag is \u001b[0m\n",
       "\u001b[32msimply that llms haven't seen all of the data that you may care about so like private data or very recent data \u001b[0m\n",
       "\u001b[32mwould not be included in the pre-training Run for these LMS and you can see here on the graph on the xaxis that the\u001b[0m\n",
       "\u001b[32mnumber of tokens that they're pre-trained on which is of course very large um but of course it's still always going\u001b[0m\n",
       "\u001b[32mto be limited relative to private data that you care about or for example recent data but there's another \u001b[0m\n",
       "\u001b[32minteresting consideration is that llms have context windows that are actually getting increasingly large so you \u001b[0m\n",
       "\u001b[32mknow coming going from like thousands of tokens to many thousands of tokens which represents you know dozens of \u001b[0m\n",
       "\u001b[32mPages up to hundreds of pages we can fit information into them from external sources and a way to think about this \u001b[0m\n",
       "\u001b[32mis llms are kind of a a kernel of a new kind of operating system and connecting them to external data is kind of a \u001b[0m\n",
       "\u001b[32mvery Central capability in the development of this kind new emergent operating system so retrieval alment to \u001b[0m\n",
       "\u001b[32mgeneration or rag is a very popular kind of General Paradigm for doing this which typically involves three stages \u001b[0m\n",
       "\u001b[32mso the first stage is indexing some external documents such that they can be easily retrieved based on an input \u001b[0m\n",
       "\u001b[32mquery so for example we ask a question we retrieve documents that are relevant to that question we feed those \u001b[0m\n",
       "\u001b[32mdocuments into an llm in the final generation stage to produce an answer that's grounded in those retrieve \u001b[0m\n",
       "\u001b[32mdocuments now we're starting from scratch but we're going to kind of build up to this broader view of rag you can \u001b[0m\n",
       "\u001b[32msee here there's a lot of interesting methods and tricks that kind of fan out from those three basic components of \u001b[0m\n",
       "\u001b[32mindexing retrieval and generation and future videos are actually going to walk through those in detail we're going \u001b[0m\n",
       "\u001b[32mto try to keep each video pretty short like five minutes but we're going to spend a lot of time on some of those \u001b[0m\n",
       "\u001b[32mmore advanced topics first over the next three videos I'll just be laying out the very basic kind of ideas behind \u001b[0m\n",
       "\u001b[32mindexing retrieval and generation and then we'll kind of build beyond that into those more advanced themes and now \u001b[0m\n",
       "\u001b[32mI want to show just a quick code walkth through because we want to make these videos also a little bit interactive \u001b[0m\n",
       "\u001b[32mso right here and this repo will be shared it's public I have a a notebook open and I've just just basically \u001b[0m\n",
       "\u001b[32minstalled a few packages and I've set a few environment variables for my lsmith keys which um I personally do \u001b[0m\n",
       "\u001b[32mrecommend it's really useful for tracing observability um particularly when you're building rag pipelines so what \u001b[0m\n",
       "\u001b[32mI'm going to show here is the code for a rag quick start which is linked here and I'm going to run this but I'm \u001b[0m\n",
       "\u001b[32mthen going to kind of walk through everything that's going on so actually if we think back to our diagram all we're\u001b[0m\n",
       "\u001b[32mdoing here is we're loading documents in this case I'm loading a blog post we're then splitting them and we'll talk\u001b[0m\n",
       "\u001b[32mabout that in future like uh short videos on like why splitting is important but just for now recognize we're \u001b[0m\n",
       "\u001b[32msplitting them or setting a chunk size of um you know a thousand characters so we're splitting up our documents \u001b[0m\n",
       "\u001b[32mevery split is embedded and indexed into this Vector store so we say we picked open eye embeddings we're using \u001b[0m\n",
       "\u001b[32mchromas our Vector storage runs locally and now we' find this retriever we then have defined a prompt for rag um \u001b[0m\n",
       "\u001b[32mwe've defined our llm we've done some minor document processing we set up this chain which will basically take our \u001b[0m\n",
       "\u001b[32minput question run our retriever to fetch relevant documents put the retrieve documents and our question into our \u001b[0m\n",
       "\u001b[32mprompt pass it to the LM format the output as a string and we can see here's our output now we can open up lsmith \u001b[0m\n",
       "\u001b[32mand we can actually see how this Ran So here was our question and here's our output and we can actually look here's\u001b[0m\n",
       "\u001b[32mour retriever here is our retrieve documents so that's pretty nice and ultimately here was the prompt that we \u001b[0m\n",
       "\u001b[32mactually passed into the LM you're an assistant for QA task use the following pieces of retrieve content to answer \u001b[0m\n",
       "\u001b[32mthe question here's our question and then here's all the content this we retrieved and that DRS answer so this just\u001b[0m\n",
       "\u001b[32mgives a very general overview of how rag works and in future uh short videos we're going to like break down each of\u001b[0m\n",
       "\u001b[32mthese pieces and I in in a lot more detail uh thanks\"\u001b[0m\n",
       "\u001b[1m)\u001b[0m\n"
      ]
     },
     "metadata": {},
     "output_type": "display_data"
    },
    {
     "name": "stdout",
     "output_type": "stream",
     "text": [
      "Title:\n",
      "RAG From Scratch: Part 1 (Overview)\n",
      "\n",
      "Description:\n",
      "LLMs are a powerful new platform, but they are not always trained on data that is relevant for our tasks. This is where retrieval augmented generation (or RAG) comes in: RAG is a general methodology for connecting LLMs with external data sources such as private or recent data. It allows LLMs to use external data in generation of their output. This video series will build up an understanding of RAG from scratch, starting with the basics of indexing, retrieval, and generation. It will build up to more advanced techniques to address edge cases or challenges in RAG. \n",
      "\n",
      "Code: \n",
      "https://github.com/langchain-ai/rag-from-scratch/blob/main/rag_from_scratch_1_to_4.ipynb\n",
      "\n",
      "Slides:\n",
      "https://docs.google.com/presentation/d/1C9IaAwHoWcc4RSTqo-pCoN3h0nCgqV2JEYZUJunv_9Q/edit?usp=sharing\n",
      "\n",
      "Transcript:\n",
      "hi this is Lance from Lang chain we're starting a new series called rag from scratch that's going to walk through some of the basic principles for Rag and kind of build up to Advanced topics um so one of the main motivations for rag is simply that llms haven't seen all of the data that you may care about so like private data or very recent data would not be included in the pre-training Run for these LMS and you can see here on the graph on the xaxis that the number of tokens that they're pre-trained on which is of course very large um but of course it's still always going to be limited relative to private data that you care about or for example recent data but there's another interesting consideration is that llms have context windows that are actually getting increasingly large so you know coming going from like thousands of tokens to many thousands of tokens which represents you know dozens of Pages up to hundreds of pages we can fit information into them from external sources and a way to think about this is llms are kind of a a kernel of a new kind of operating system and connecting them to external data is kind of a very Central capability in the development of this kind new emergent operating system so retrieval alment to generation or rag is a very popular kind of General Paradigm for doing this which typically involves three stages so the first stage is indexing some external documents such that they can be easily retrieved based on an input query so for example we ask a question we retrieve documents that are relevant to that question we feed those documents into an llm in the final generation stage to produce an answer that's grounded in those retrieve documents now we're starting from scratch but we're going to kind of build up to this broader view of rag you can see here there's a lot of interesting methods and tricks that kind of fan out from those three basic components of indexing retrieval and generation and future videos are actually going to walk through those in detail we're going to try to keep each video pretty short like five minutes but we're going to spend a lot of time on some of those more advanced topics first over the next three videos I'll just be laying out the very basic kind of ideas behind indexing retrieval and generation and then we'll kind of build beyond that into those more advanced themes and now I want to show just a quick code walkth through because we want to make these videos also a little bit interactive so right here and this repo will be shared it's public I have a a notebook open and I've just just basically installed a few packages and I've set a few environment variables for my lsmith keys which um I personally do recommend it's really useful for tracing observability um particularly when you're building rag pipelines so what I'm going to show here is the code for a rag quick start which is linked here and I'm going to run this but I'm then going to kind of walk through everything that's going on so actually if we think back to our diagram all we're doing here is we're loading documents in this case I'm loading a blog post we're then splitting them and we'll talk about that in future like uh short videos on like why splitting is important but just for now recognize we're splitting them or setting a chunk size of um you know a thousand characters so we're splitting up our documents every split is embedded and indexed into this Vector store so we say we picked open eye embeddings we're using chromas our Vector storage runs locally and now we' find this retriever we then have defined a prompt for rag um we've defined our llm we've done some minor document processing we set up this chain which will basically take our input question run our retriever to fetch relevant documents put the retrieve documents and our question into our prompt pass it to the LM format the output as a string and we can see here's our output now we can open up lsmith and we can actually see how this Ran So here was our question and here's our output and we can actually look here's our retriever here is our retrieve documents so that's pretty nice and ultimately here was the prompt that we actually passed into the LM you're an assistant for QA task use the following pieces of retrieve content to answer the question here's our question and then here's all the content this we retrieved and that DRS answer so this just gives a very general overview of how rag works and in future uh short videos we're going to like break down each of these pieces and I in in a lot more detail uh thanks\n"
     ]
    }
   ],
   "source": [
    "rprint(processed_splits[0])\n",
    "print(processed_splits[0].page_content)"
   ]
  },
  {
   "cell_type": "markdown",
   "id": "ab60317f-04f3-41be-b58b-fee5626d3796",
   "metadata": {},
   "source": [
    "## Store documents"
   ]
  },
  {
   "cell_type": "code",
   "execution_count": 22,
   "id": "1cdf7198-5bc4-4f3c-bf48-e8bf4abb2dce",
   "metadata": {},
   "outputs": [],
   "source": [
    "import chromadb\n",
    "from chromadb.config import Settings\n",
    "from langchain_chroma import Chroma"
   ]
  },
  {
   "cell_type": "raw",
   "id": "b7f72db1-f653-470f-b1c9-8772e2c2ad9e",
   "metadata": {},
   "source": [
    "# https://docs.trychroma.com/updates/troubleshooting#sqlite\n",
    "# Your system has an unsupported version of sqlite3. Chroma requires sqlite3 >= 3.35.0\n",
    "\n",
    "!pip install pysqlite3-binary\n",
    "\n",
    "__import__('pysqlite3')\n",
    "sys.modules['sqlite3'] = sys.modules.pop('pysqlite3')"
   ]
  },
  {
   "cell_type": "code",
   "execution_count": 23,
   "id": "b2bd0b78-a59c-4a51-804a-d0a03ac5d74b",
   "metadata": {},
   "outputs": [],
   "source": [
    "def get_collection_size(vectorstore):\n",
    "    try:\n",
    "        collection_size = len(vectorstore.get()[\"ids\"])\n",
    "    except Exception as _:\n",
    "        collection_size = 0\n",
    "\n",
    "    return collection_size"
   ]
  },
  {
   "cell_type": "code",
   "execution_count": 24,
   "id": "ae0d940a-fe63-4da8-8580-f9d38ae2316a",
   "metadata": {},
   "outputs": [],
   "source": [
    "collection_name=\"youtube-rag-from-scratch\""
   ]
  },
  {
   "cell_type": "code",
   "execution_count": 25,
   "id": "c4591b1f-d5cc-41b6-bf2c-bb72ba98fb58",
   "metadata": {},
   "outputs": [
    {
     "data": {
      "text/plain": [
       "(14, 14)"
      ]
     },
     "execution_count": 25,
     "metadata": {},
     "output_type": "execute_result"
    }
   ],
   "source": [
    "vectorstore_settings = Settings(anonymized_telemetry=False)\n",
    "client = chromadb.PersistentClient(\n",
    "    path=str(VECTORSTORE_PATH), settings=vectorstore_settings\n",
    ")\n",
    "\n",
    "Chroma(collection_name=collection_name, client=client).delete_collection()\n",
    "\n",
    "vectorstore = Chroma(\n",
    "    collection_name=collection_name, embedding_function=embeddings, client=client\n",
    ")\n",
    "\n",
    "doc_ids = vectorstore.add_documents(documents=processed_splits)\n",
    "len(doc_ids), get_collection_size(vectorstore)"
   ]
  },
  {
   "cell_type": "markdown",
   "id": "ab339433-e55e-40ca-8292-f6eb22c86472",
   "metadata": {},
   "source": [
    "## Configure self-query retriever"
   ]
  },
  {
   "cell_type": "markdown",
   "id": "ddc8dc74-423a-4abf-b386-dd939982771e",
   "metadata": {},
   "source": [
    "![](images/11-self-query.jpg)"
   ]
  },
  {
   "cell_type": "code",
   "execution_count": 26,
   "id": "5a4bee40-a2f9-4c8d-8562-db370aaebcf7",
   "metadata": {},
   "outputs": [],
   "source": [
    "from langchain.chains.query_constructor.base import (\n",
    "    StructuredQueryOutputParser,\n",
    "    get_query_constructor_prompt\n",
    ")\n",
    "from langchain.chains.query_constructor.schema import AttributeInfo\n",
    "from langchain.retrievers.self_query.base import SelfQueryRetriever\n",
    "from langchain_community.query_constructors.chroma import ChromaTranslator"
   ]
  },
  {
   "cell_type": "code",
   "execution_count": 27,
   "id": "1eb13ff2-6ee6-47d1-bc61-1f398811247a",
   "metadata": {},
   "outputs": [],
   "source": [
    "def clean_json_string(message):\n",
    "    pattern = r\".*?```json\\s*(.*?)\\s*```\"\n",
    "    cleaned_string = re.sub(pattern, r\"\\1\", message.content, flags=re.DOTALL | re.IGNORECASE)\n",
    "    return cleaned_string.strip()"
   ]
  },
  {
   "cell_type": "code",
   "execution_count": 28,
   "id": "459ac225-1620-449c-8ff3-e1e55b4965be",
   "metadata": {},
   "outputs": [
    {
     "name": "stdout",
     "output_type": "stream",
     "text": [
      "[<Comparator.EQ: 'eq'>, <Comparator.NE: 'ne'>, <Comparator.GT: 'gt'>, <Comparator.GTE: 'gte'>, <Comparator.LT: 'lt'>, <Comparator.LTE: 'lte'>]\n",
      "[<Operator.AND: 'and'>, <Operator.OR: 'or'>]\n"
     ]
    }
   ],
   "source": [
    "translator = ChromaTranslator()\n",
    "\n",
    "print(translator.allowed_comparators)\n",
    "print(translator.allowed_operators)"
   ]
  },
  {
   "cell_type": "code",
   "execution_count": 29,
   "id": "dd61ac02-d4a5-4393-911d-83292c7210da",
   "metadata": {},
   "outputs": [],
   "source": [
    "document_content_description = \"Tutorial videos about RAG\"\n",
    "\n",
    "metadata_field_info = [\n",
    "    AttributeInfo(\n",
    "        name=\"view_count\",\n",
    "        description=\"Video views count\",\n",
    "        type=\"integer\",\n",
    "    ),\n",
    "    AttributeInfo(\n",
    "        name=\"publish_date\",\n",
    "        description=\"Video publish date in format YYYYMMDD\",\n",
    "        type=\"int\",\n",
    "    ),\n",
    "    AttributeInfo(\n",
    "        name=\"length\",\n",
    "        description=\"Video length (seconds)\",\n",
    "        type=\"float\",\n",
    "    ),\n",
    "]\n",
    "\n",
    "examples = [\n",
    "    (\n",
    "        \"Find videos under 5 minutes\",\n",
    "        {\n",
    "            \"query\": \"Videos with length less than 300 seconds\",\n",
    "            \"filter\": 'lt(\"length\", 300.0)',\n",
    "        }\n",
    "    ),\n",
    "    (\n",
    "        \"Find videos published in 2024\",\n",
    "        {\n",
    "            \"query\": \"Videos with date greater or equal than 2024-01-01 and less than 2025-01-01\",\n",
    "            \"filter\": 'and(gte(\"publish_date\", 20240101), lt(\"publish_date\", 20250101))'\n",
    "        }\n",
    "    ),\n",
    "    (\n",
    "        \"Find videos about indexing\",\n",
    "        {\n",
    "            \"query\": \"Videos about indexing\",\n",
    "            \"filter\": \"NO_FILTER\"\n",
    "        }\n",
    "    ),\n",
    "    (\n",
    "        \"Find 3 videos about indexing\",\n",
    "        {\n",
    "            \"query\": \"3 videos about indexing\",\n",
    "            \"filter\": \"NO_FILTER\",\n",
    "            \"limit\": 3\n",
    "        }\n",
    "    ),\n",
    "]"
   ]
  },
  {
   "cell_type": "code",
   "execution_count": 30,
   "id": "3fa4aeb8-95ce-4b06-bb27-804719ab91be",
   "metadata": {},
   "outputs": [
    {
     "name": "stdout",
     "output_type": "stream",
     "text": [
      "Your goal is to structure the user's query to match the request schema provided below.\n",
      "\n",
      "<< Structured Request Schema >>\n",
      "When responding use a markdown code snippet with a JSON object formatted in the following schema:\n",
      "\n",
      "```json\n",
      "{\n",
      "    \"query\": string \\ text string to compare to document contents\n",
      "    \"filter\": string \\ logical condition statement for filtering documents\n",
      "    \"limit\": int \\ the number of documents to retrieve\n",
      "}\n",
      "```\n",
      "\n",
      "The query string should contain only text that is expected to match the contents of documents. Any conditions in the filter should not be mentioned in the query as well.\n",
      "\n",
      "A logical condition statement is composed of one or more comparison and logical operation statements.\n",
      "\n",
      "A comparison statement takes the form: `comp(attr, val)`:\n",
      "- `comp` (eq | ne | gt | gte | lt | lte): comparator\n",
      "- `attr` (string):  name of attribute to apply the comparison to\n",
      "- `val` (string): is the comparison value\n",
      "\n",
      "A logical operation statement takes the form `op(statement1, statement2, ...)`:\n",
      "- `op` (and | or): logical operator\n",
      "- `statement1`, `statement2`, ... (comparison statements or logical operation statements): one or more statements to apply the operation to\n",
      "\n",
      "Make sure that you only use the comparators and logical operators listed above and no others.\n",
      "Make sure that filters only refer to attributes that exist in the data source.\n",
      "Make sure that filters only use the attributed names with its function names if there are functions applied on them.\n",
      "Make sure that filters only use format `YYYY-MM-DD` when handling date data typed values.\n",
      "Make sure that filters take into account the descriptions of attributes and only make comparisons that are feasible given the type of data being stored.\n",
      "Make sure that filters are only used as needed. If there are no filters that should be applied return \"NO_FILTER\" for the filter value.\n",
      "Make sure the `limit` is always an int value. It is an optional parameter so leave it blank if it does not make sense.\n",
      "\n",
      "\n",
      "<< Data Source >>\n",
      "```json\n",
      "{\n",
      "    \"content\": \"Tutorial videos about RAG\",\n",
      "    \"attributes\": {\n",
      "    \"view_count\": {\n",
      "        \"description\": \"Video views count\",\n",
      "        \"type\": \"integer\"\n",
      "    },\n",
      "    \"publish_date\": {\n",
      "        \"description\": \"Video publish date in format YYYYMMDD\",\n",
      "        \"type\": \"int\"\n",
      "    },\n",
      "    \"length\": {\n",
      "        \"description\": \"Video length (seconds)\",\n",
      "        \"type\": \"float\"\n",
      "    }\n",
      "}\n",
      "}\n",
      "```\n",
      "\n",
      "\n",
      "<< Example 1. >>\n",
      "User Query:\n",
      "Find videos under 5 minutes\n",
      "\n",
      "Structured Request:\n",
      "```json\n",
      "{\n",
      "    \"query\": \"Videos with length less than 300 seconds\",\n",
      "    \"filter\": \"lt(\\\"length\\\", 300.0)\"\n",
      "}\n",
      "```\n",
      "\n",
      "\n",
      "<< Example 2. >>\n",
      "User Query:\n",
      "Find videos published in 2024\n",
      "\n",
      "Structured Request:\n",
      "```json\n",
      "{\n",
      "    \"query\": \"Videos with date greater or equal than 2024-01-01 and less than 2025-01-01\",\n",
      "    \"filter\": \"and(gte(\\\"publish_date\\\", 20240101), lt(\\\"publish_date\\\", 20250101))\"\n",
      "}\n",
      "```\n",
      "\n",
      "\n",
      "<< Example 3. >>\n",
      "User Query:\n",
      "Find videos about indexing\n",
      "\n",
      "Structured Request:\n",
      "```json\n",
      "{\n",
      "    \"query\": \"Videos about indexing\",\n",
      "    \"filter\": \"NO_FILTER\"\n",
      "}\n",
      "```\n",
      "\n",
      "\n",
      "<< Example 4. >>\n",
      "User Query:\n",
      "Find 3 videos about indexing\n",
      "\n",
      "Structured Request:\n",
      "```json\n",
      "{\n",
      "    \"query\": \"3 videos about indexing\",\n",
      "    \"filter\": \"NO_FILTER\",\n",
      "    \"limit\": 3\n",
      "}\n",
      "```\n",
      "\n",
      "\n",
      "<< Example 5. >>\n",
      "User Query:\n",
      "\u001b[33;1m\u001b[1;3m{query}\u001b[0m\n",
      "\n",
      "Structured Request:\n",
      "\n"
     ]
    }
   ],
   "source": [
    "query_constructor_prompt = get_query_constructor_prompt(\n",
    "    document_content_description,\n",
    "    metadata_field_info,\n",
    "    examples=examples,\n",
    "    allowed_comparators=translator.allowed_comparators,\n",
    "    allowed_operators=translator.allowed_operators,\n",
    "    enable_limit=True\n",
    ")\n",
    "\n",
    "query_constructor_prompt.pretty_print()"
   ]
  },
  {
   "cell_type": "code",
   "execution_count": 31,
   "id": "72ce5f0f-b24e-441c-9c8e-b1a84e691f6f",
   "metadata": {},
   "outputs": [
    {
     "data": {
      "text/html": [
       "<pre style=\"white-space:pre;overflow-x:auto;line-height:normal;font-family:Menlo,'DejaVu Sans Mono',consolas,'Courier New',monospace\"><span style=\"color: #800080; text-decoration-color: #800080; font-weight: bold\">StructuredQueryOutputParser</span><span style=\"font-weight: bold\">(</span>\n",
       "    <span style=\"color: #808000; text-decoration-color: #808000\">ast_parse</span>=<span style=\"font-weight: bold\">&lt;</span><span style=\"color: #ff00ff; text-decoration-color: #ff00ff; font-weight: bold\">bound</span><span style=\"color: #000000; text-decoration-color: #000000\"> method Lark.parse of </span><span style=\"color: #800080; text-decoration-color: #800080; font-weight: bold\">Lark</span><span style=\"color: #000000; text-decoration-color: #000000; font-weight: bold\">(</span><span style=\"color: #800080; text-decoration-color: #800080; font-weight: bold\">open</span><span style=\"color: #000000; text-decoration-color: #000000; font-weight: bold\">(</span><span style=\"color: #008000; text-decoration-color: #008000\">'&lt;string&gt;'</span><span style=\"color: #000000; text-decoration-color: #000000; font-weight: bold\">)</span><span style=\"color: #000000; text-decoration-color: #000000\">, </span><span style=\"color: #808000; text-decoration-color: #808000\">parser</span><span style=\"color: #000000; text-decoration-color: #000000\">=</span><span style=\"color: #008000; text-decoration-color: #008000\">'lalr'</span><span style=\"color: #000000; text-decoration-color: #000000\">, </span><span style=\"color: #808000; text-decoration-color: #808000\">lexer</span><span style=\"color: #000000; text-decoration-color: #000000\">=</span><span style=\"color: #008000; text-decoration-color: #008000\">'contextual'</span><span style=\"color: #000000; text-decoration-color: #000000\">, </span><span style=\"color: #808000; text-decoration-color: #808000\">...</span><span style=\"color: #000000; text-decoration-color: #000000; font-weight: bold\">)</span><span style=\"font-weight: bold\">&gt;</span>\n",
       "<span style=\"font-weight: bold\">)</span>\n",
       "</pre>\n"
      ],
      "text/plain": [
       "\u001b[1;35mStructuredQueryOutputParser\u001b[0m\u001b[1m(\u001b[0m\n",
       "    \u001b[33mast_parse\u001b[0m=\u001b[1m<\u001b[0m\u001b[1;95mbound\u001b[0m\u001b[39m method Lark.parse of \u001b[0m\u001b[1;35mLark\u001b[0m\u001b[1;39m(\u001b[0m\u001b[1;35mopen\u001b[0m\u001b[1;39m(\u001b[0m\u001b[32m'<string>'\u001b[0m\u001b[1;39m)\u001b[0m\u001b[39m, \u001b[0m\u001b[33mparser\u001b[0m\u001b[39m=\u001b[0m\u001b[32m'lalr'\u001b[0m\u001b[39m, \u001b[0m\u001b[33mlexer\u001b[0m\u001b[39m=\u001b[0m\u001b[32m'contextual'\u001b[0m\u001b[39m, \u001b[0m\u001b[33m...\u001b[0m\u001b[1;39m)\u001b[0m\u001b[1m>\u001b[0m\n",
       "\u001b[1m)\u001b[0m\n"
      ]
     },
     "metadata": {},
     "output_type": "display_data"
    }
   ],
   "source": [
    "output_parser = StructuredQueryOutputParser.from_components(\n",
    "    allowed_comparators=translator.allowed_comparators,\n",
    "    allowed_operators=translator.allowed_operators\n",
    ")\n",
    "rprint(output_parser)"
   ]
  },
  {
   "cell_type": "markdown",
   "id": "8400e3f3-ab28-4798-8234-e2651d3a3fb6",
   "metadata": {},
   "source": [
    "## RAG"
   ]
  },
  {
   "cell_type": "code",
   "execution_count": 32,
   "id": "60512141-3808-4c66-9deb-7e9dae86bbb6",
   "metadata": {},
   "outputs": [],
   "source": [
    "from typing import TypedDict\n",
    "\n",
    "from langchain_core.documents import Document\n",
    "from langchain_core.messages import HumanMessage\n",
    "from langchain_core.runnables import chain\n",
    "from langgraph.graph import END, START, StateGraph"
   ]
  },
  {
   "cell_type": "code",
   "execution_count": 33,
   "id": "ba829055-16da-4fb9-b972-190b5e16172d",
   "metadata": {},
   "outputs": [],
   "source": [
    "questions = [\n",
    "    \"Which videos are 7 to 10 minutes long\",\n",
    "    \"Videos published in March 2024\",\n",
    "    \"Find tutorials with views not less than 100k\",\n",
    "    \"Which videos should I watch on the topic of routing\",\n",
    "    \"Which 1 video should I watch on the topic of routing\"\n",
    "]"
   ]
  },
  {
   "cell_type": "code",
   "execution_count": 34,
   "id": "55e2caa1-f8ac-4872-a3b7-64bc8a8bfa0b",
   "metadata": {},
   "outputs": [],
   "source": [
    "@chain\n",
    "def query_constructor(query):\n",
    "    query_constructor_prompt_messages = query_constructor_prompt.format(query=query)\n",
    "    response = llm.invoke([\n",
    "        HumanMessage(content=query_constructor_prompt_messages)\n",
    "    ])\n",
    "    clean_response = clean_json_string(response)\n",
    "    parsed_response = output_parser.invoke(clean_response)\n",
    "    return parsed_response"
   ]
  },
  {
   "cell_type": "code",
   "execution_count": 35,
   "id": "ddc8c775-8632-48fd-bbed-f8206f4e8bb6",
   "metadata": {},
   "outputs": [
    {
     "name": "stdout",
     "output_type": "stream",
     "text": [
      "Which videos are 7 to 10 minutes long\n"
     ]
    },
    {
     "data": {
      "text/html": [
       "<pre style=\"white-space:pre;overflow-x:auto;line-height:normal;font-family:Menlo,'DejaVu Sans Mono',consolas,'Courier New',monospace\"><span style=\"color: #800080; text-decoration-color: #800080; font-weight: bold\">StructuredQuery</span><span style=\"font-weight: bold\">(</span>\n",
       "    <span style=\"color: #808000; text-decoration-color: #808000\">query</span>=<span style=\"color: #008000; text-decoration-color: #008000\">'Videos with length between 420 seconds and 600 seconds'</span>,\n",
       "    <span style=\"color: #808000; text-decoration-color: #808000\">filter</span>=<span style=\"color: #800080; text-decoration-color: #800080; font-weight: bold\">Operation</span><span style=\"font-weight: bold\">(</span>\n",
       "        <span style=\"color: #808000; text-decoration-color: #808000\">operator</span>=<span style=\"font-weight: bold\">&lt;</span><span style=\"color: #ff00ff; text-decoration-color: #ff00ff; font-weight: bold\">Operator.AND:</span><span style=\"color: #000000; text-decoration-color: #000000\"> </span><span style=\"color: #008000; text-decoration-color: #008000\">'and'</span><span style=\"color: #000000; text-decoration-color: #000000\">&gt;,</span>\n",
       "<span style=\"color: #000000; text-decoration-color: #000000\">        </span><span style=\"color: #808000; text-decoration-color: #808000\">arguments</span><span style=\"color: #000000; text-decoration-color: #000000\">=</span><span style=\"color: #000000; text-decoration-color: #000000; font-weight: bold\">[</span>\n",
       "<span style=\"color: #000000; text-decoration-color: #000000\">            </span><span style=\"color: #800080; text-decoration-color: #800080; font-weight: bold\">Comparison</span><span style=\"color: #000000; text-decoration-color: #000000; font-weight: bold\">(</span><span style=\"color: #808000; text-decoration-color: #808000\">comparator</span><span style=\"color: #000000; text-decoration-color: #000000\">=&lt;Comparator.GTE: </span><span style=\"color: #008000; text-decoration-color: #008000\">'gte'</span><span style=\"color: #000000; text-decoration-color: #000000\">&gt;, </span><span style=\"color: #808000; text-decoration-color: #808000\">attribute</span><span style=\"color: #000000; text-decoration-color: #000000\">=</span><span style=\"color: #008000; text-decoration-color: #008000\">'length'</span><span style=\"color: #000000; text-decoration-color: #000000\">, </span><span style=\"color: #808000; text-decoration-color: #808000\">value</span><span style=\"color: #000000; text-decoration-color: #000000\">=</span><span style=\"color: #008080; text-decoration-color: #008080; font-weight: bold\">420.0</span><span style=\"color: #000000; text-decoration-color: #000000; font-weight: bold\">)</span><span style=\"color: #000000; text-decoration-color: #000000\">,</span>\n",
       "<span style=\"color: #000000; text-decoration-color: #000000\">            </span><span style=\"color: #800080; text-decoration-color: #800080; font-weight: bold\">Comparison</span><span style=\"color: #000000; text-decoration-color: #000000; font-weight: bold\">(</span><span style=\"color: #808000; text-decoration-color: #808000\">comparator</span><span style=\"color: #000000; text-decoration-color: #000000\">=&lt;Comparator.LTE: </span><span style=\"color: #008000; text-decoration-color: #008000\">'lte'</span><span style=\"font-weight: bold\">&gt;</span>, <span style=\"color: #808000; text-decoration-color: #808000\">attribute</span>=<span style=\"color: #008000; text-decoration-color: #008000\">'length'</span>, <span style=\"color: #808000; text-decoration-color: #808000\">value</span>=<span style=\"color: #008080; text-decoration-color: #008080; font-weight: bold\">600.0</span><span style=\"font-weight: bold\">)</span>\n",
       "        <span style=\"font-weight: bold\">]</span>\n",
       "    <span style=\"font-weight: bold\">)</span>,\n",
       "    <span style=\"color: #808000; text-decoration-color: #808000\">limit</span>=<span style=\"color: #800080; text-decoration-color: #800080; font-style: italic\">None</span>\n",
       "<span style=\"font-weight: bold\">)</span>\n",
       "</pre>\n"
      ],
      "text/plain": [
       "\u001b[1;35mStructuredQuery\u001b[0m\u001b[1m(\u001b[0m\n",
       "    \u001b[33mquery\u001b[0m=\u001b[32m'Videos with length between 420 seconds and 600 seconds'\u001b[0m,\n",
       "    \u001b[33mfilter\u001b[0m=\u001b[1;35mOperation\u001b[0m\u001b[1m(\u001b[0m\n",
       "        \u001b[33moperator\u001b[0m=\u001b[1m<\u001b[0m\u001b[1;95mOperator.AND:\u001b[0m\u001b[39m \u001b[0m\u001b[32m'and'\u001b[0m\u001b[39m>,\u001b[0m\n",
       "\u001b[39m        \u001b[0m\u001b[33marguments\u001b[0m\u001b[39m=\u001b[0m\u001b[1;39m[\u001b[0m\n",
       "\u001b[39m            \u001b[0m\u001b[1;35mComparison\u001b[0m\u001b[1;39m(\u001b[0m\u001b[33mcomparator\u001b[0m\u001b[39m=<Comparator.GTE: \u001b[0m\u001b[32m'gte'\u001b[0m\u001b[39m>, \u001b[0m\u001b[33mattribute\u001b[0m\u001b[39m=\u001b[0m\u001b[32m'length'\u001b[0m\u001b[39m, \u001b[0m\u001b[33mvalue\u001b[0m\u001b[39m=\u001b[0m\u001b[1;36m420\u001b[0m\u001b[1;36m.0\u001b[0m\u001b[1;39m)\u001b[0m\u001b[39m,\u001b[0m\n",
       "\u001b[39m            \u001b[0m\u001b[1;35mComparison\u001b[0m\u001b[1;39m(\u001b[0m\u001b[33mcomparator\u001b[0m\u001b[39m=<Comparator.LTE: \u001b[0m\u001b[32m'lte'\u001b[0m\u001b[1m>\u001b[0m, \u001b[33mattribute\u001b[0m=\u001b[32m'length'\u001b[0m, \u001b[33mvalue\u001b[0m=\u001b[1;36m600\u001b[0m\u001b[1;36m.0\u001b[0m\u001b[1m)\u001b[0m\n",
       "        \u001b[1m]\u001b[0m\n",
       "    \u001b[1m)\u001b[0m,\n",
       "    \u001b[33mlimit\u001b[0m=\u001b[3;35mNone\u001b[0m\n",
       "\u001b[1m)\u001b[0m\n"
      ]
     },
     "metadata": {},
     "output_type": "display_data"
    },
    {
     "name": "stdout",
     "output_type": "stream",
     "text": [
      "Videos published in March 2024\n"
     ]
    },
    {
     "data": {
      "text/html": [
       "<pre style=\"white-space:pre;overflow-x:auto;line-height:normal;font-family:Menlo,'DejaVu Sans Mono',consolas,'Courier New',monospace\"><span style=\"color: #800080; text-decoration-color: #800080; font-weight: bold\">StructuredQuery</span><span style=\"font-weight: bold\">(</span>\n",
       "    <span style=\"color: #808000; text-decoration-color: #808000\">query</span>=<span style=\"color: #008000; text-decoration-color: #008000\">'Videos with publish date in March 2024'</span>,\n",
       "    <span style=\"color: #808000; text-decoration-color: #808000\">filter</span>=<span style=\"color: #800080; text-decoration-color: #800080; font-weight: bold\">Operation</span><span style=\"font-weight: bold\">(</span>\n",
       "        <span style=\"color: #808000; text-decoration-color: #808000\">operator</span>=<span style=\"font-weight: bold\">&lt;</span><span style=\"color: #ff00ff; text-decoration-color: #ff00ff; font-weight: bold\">Operator.AND:</span><span style=\"color: #000000; text-decoration-color: #000000\"> </span><span style=\"color: #008000; text-decoration-color: #008000\">'and'</span><span style=\"color: #000000; text-decoration-color: #000000\">&gt;,</span>\n",
       "<span style=\"color: #000000; text-decoration-color: #000000\">        </span><span style=\"color: #808000; text-decoration-color: #808000\">arguments</span><span style=\"color: #000000; text-decoration-color: #000000\">=</span><span style=\"color: #000000; text-decoration-color: #000000; font-weight: bold\">[</span>\n",
       "<span style=\"color: #000000; text-decoration-color: #000000\">            </span><span style=\"color: #800080; text-decoration-color: #800080; font-weight: bold\">Comparison</span><span style=\"color: #000000; text-decoration-color: #000000; font-weight: bold\">(</span><span style=\"color: #808000; text-decoration-color: #808000\">comparator</span><span style=\"color: #000000; text-decoration-color: #000000\">=&lt;Comparator.GTE: </span><span style=\"color: #008000; text-decoration-color: #008000\">'gte'</span><span style=\"color: #000000; text-decoration-color: #000000\">&gt;, </span><span style=\"color: #808000; text-decoration-color: #808000\">attribute</span><span style=\"color: #000000; text-decoration-color: #000000\">=</span><span style=\"color: #008000; text-decoration-color: #008000\">'publish_date'</span><span style=\"color: #000000; text-decoration-color: #000000\">, </span><span style=\"color: #808000; text-decoration-color: #808000\">value</span><span style=\"color: #000000; text-decoration-color: #000000\">=</span><span style=\"color: #008080; text-decoration-color: #008080; font-weight: bold\">20240301</span><span style=\"color: #000000; text-decoration-color: #000000; font-weight: bold\">)</span><span style=\"color: #000000; text-decoration-color: #000000\">,</span>\n",
       "<span style=\"color: #000000; text-decoration-color: #000000\">            </span><span style=\"color: #800080; text-decoration-color: #800080; font-weight: bold\">Comparison</span><span style=\"color: #000000; text-decoration-color: #000000; font-weight: bold\">(</span><span style=\"color: #808000; text-decoration-color: #808000\">comparator</span><span style=\"color: #000000; text-decoration-color: #000000\">=&lt;Comparator.LT: </span><span style=\"color: #008000; text-decoration-color: #008000\">'lt'</span><span style=\"font-weight: bold\">&gt;</span>, <span style=\"color: #808000; text-decoration-color: #808000\">attribute</span>=<span style=\"color: #008000; text-decoration-color: #008000\">'publish_date'</span>, <span style=\"color: #808000; text-decoration-color: #808000\">value</span>=<span style=\"color: #008080; text-decoration-color: #008080; font-weight: bold\">20240401</span><span style=\"font-weight: bold\">)</span>\n",
       "        <span style=\"font-weight: bold\">]</span>\n",
       "    <span style=\"font-weight: bold\">)</span>,\n",
       "    <span style=\"color: #808000; text-decoration-color: #808000\">limit</span>=<span style=\"color: #800080; text-decoration-color: #800080; font-style: italic\">None</span>\n",
       "<span style=\"font-weight: bold\">)</span>\n",
       "</pre>\n"
      ],
      "text/plain": [
       "\u001b[1;35mStructuredQuery\u001b[0m\u001b[1m(\u001b[0m\n",
       "    \u001b[33mquery\u001b[0m=\u001b[32m'Videos with publish date in March 2024'\u001b[0m,\n",
       "    \u001b[33mfilter\u001b[0m=\u001b[1;35mOperation\u001b[0m\u001b[1m(\u001b[0m\n",
       "        \u001b[33moperator\u001b[0m=\u001b[1m<\u001b[0m\u001b[1;95mOperator.AND:\u001b[0m\u001b[39m \u001b[0m\u001b[32m'and'\u001b[0m\u001b[39m>,\u001b[0m\n",
       "\u001b[39m        \u001b[0m\u001b[33marguments\u001b[0m\u001b[39m=\u001b[0m\u001b[1;39m[\u001b[0m\n",
       "\u001b[39m            \u001b[0m\u001b[1;35mComparison\u001b[0m\u001b[1;39m(\u001b[0m\u001b[33mcomparator\u001b[0m\u001b[39m=<Comparator.GTE: \u001b[0m\u001b[32m'gte'\u001b[0m\u001b[39m>, \u001b[0m\u001b[33mattribute\u001b[0m\u001b[39m=\u001b[0m\u001b[32m'publish_date'\u001b[0m\u001b[39m, \u001b[0m\u001b[33mvalue\u001b[0m\u001b[39m=\u001b[0m\u001b[1;36m20240301\u001b[0m\u001b[1;39m)\u001b[0m\u001b[39m,\u001b[0m\n",
       "\u001b[39m            \u001b[0m\u001b[1;35mComparison\u001b[0m\u001b[1;39m(\u001b[0m\u001b[33mcomparator\u001b[0m\u001b[39m=<Comparator.LT: \u001b[0m\u001b[32m'lt'\u001b[0m\u001b[1m>\u001b[0m, \u001b[33mattribute\u001b[0m=\u001b[32m'publish_date'\u001b[0m, \u001b[33mvalue\u001b[0m=\u001b[1;36m20240401\u001b[0m\u001b[1m)\u001b[0m\n",
       "        \u001b[1m]\u001b[0m\n",
       "    \u001b[1m)\u001b[0m,\n",
       "    \u001b[33mlimit\u001b[0m=\u001b[3;35mNone\u001b[0m\n",
       "\u001b[1m)\u001b[0m\n"
      ]
     },
     "metadata": {},
     "output_type": "display_data"
    },
    {
     "name": "stdout",
     "output_type": "stream",
     "text": [
      "Find tutorials with views not less than 100k\n"
     ]
    },
    {
     "data": {
      "text/html": [
       "<pre style=\"white-space:pre;overflow-x:auto;line-height:normal;font-family:Menlo,'DejaVu Sans Mono',consolas,'Courier New',monospace\"><span style=\"color: #800080; text-decoration-color: #800080; font-weight: bold\">StructuredQuery</span><span style=\"font-weight: bold\">(</span>\n",
       "    <span style=\"color: #808000; text-decoration-color: #808000\">query</span>=<span style=\"color: #008000; text-decoration-color: #008000\">'Tutorials with view count not less than 100000'</span>,\n",
       "    <span style=\"color: #808000; text-decoration-color: #808000\">filter</span>=<span style=\"color: #800080; text-decoration-color: #800080; font-weight: bold\">Comparison</span><span style=\"font-weight: bold\">(</span><span style=\"color: #808000; text-decoration-color: #808000\">comparator</span>=<span style=\"font-weight: bold\">&lt;</span><span style=\"color: #ff00ff; text-decoration-color: #ff00ff; font-weight: bold\">Comparator.GTE:</span><span style=\"color: #000000; text-decoration-color: #000000\"> </span><span style=\"color: #008000; text-decoration-color: #008000\">'gte'</span><span style=\"font-weight: bold\">&gt;</span>, <span style=\"color: #808000; text-decoration-color: #808000\">attribute</span>=<span style=\"color: #008000; text-decoration-color: #008000\">'view_count'</span>, <span style=\"color: #808000; text-decoration-color: #808000\">value</span>=<span style=\"color: #008080; text-decoration-color: #008080; font-weight: bold\">100000</span><span style=\"font-weight: bold\">)</span>,\n",
       "    <span style=\"color: #808000; text-decoration-color: #808000\">limit</span>=<span style=\"color: #800080; text-decoration-color: #800080; font-style: italic\">None</span>\n",
       "<span style=\"font-weight: bold\">)</span>\n",
       "</pre>\n"
      ],
      "text/plain": [
       "\u001b[1;35mStructuredQuery\u001b[0m\u001b[1m(\u001b[0m\n",
       "    \u001b[33mquery\u001b[0m=\u001b[32m'Tutorials with view count not less than 100000'\u001b[0m,\n",
       "    \u001b[33mfilter\u001b[0m=\u001b[1;35mComparison\u001b[0m\u001b[1m(\u001b[0m\u001b[33mcomparator\u001b[0m=\u001b[1m<\u001b[0m\u001b[1;95mComparator.GTE:\u001b[0m\u001b[39m \u001b[0m\u001b[32m'gte'\u001b[0m\u001b[1m>\u001b[0m, \u001b[33mattribute\u001b[0m=\u001b[32m'view_count'\u001b[0m, \u001b[33mvalue\u001b[0m=\u001b[1;36m100000\u001b[0m\u001b[1m)\u001b[0m,\n",
       "    \u001b[33mlimit\u001b[0m=\u001b[3;35mNone\u001b[0m\n",
       "\u001b[1m)\u001b[0m\n"
      ]
     },
     "metadata": {},
     "output_type": "display_data"
    },
    {
     "name": "stdout",
     "output_type": "stream",
     "text": [
      "Which videos should I watch on the topic of routing\n"
     ]
    },
    {
     "data": {
      "text/html": [
       "<pre style=\"white-space:pre;overflow-x:auto;line-height:normal;font-family:Menlo,'DejaVu Sans Mono',consolas,'Courier New',monospace\"><span style=\"color: #800080; text-decoration-color: #800080; font-weight: bold\">StructuredQuery</span><span style=\"font-weight: bold\">(</span><span style=\"color: #808000; text-decoration-color: #808000\">query</span>=<span style=\"color: #008000; text-decoration-color: #008000\">'Videos on the topic of routing'</span>, <span style=\"color: #808000; text-decoration-color: #808000\">filter</span>=<span style=\"color: #800080; text-decoration-color: #800080; font-style: italic\">None</span>, <span style=\"color: #808000; text-decoration-color: #808000\">limit</span>=<span style=\"color: #800080; text-decoration-color: #800080; font-style: italic\">None</span><span style=\"font-weight: bold\">)</span>\n",
       "</pre>\n"
      ],
      "text/plain": [
       "\u001b[1;35mStructuredQuery\u001b[0m\u001b[1m(\u001b[0m\u001b[33mquery\u001b[0m=\u001b[32m'Videos on the topic of routing'\u001b[0m, \u001b[33mfilter\u001b[0m=\u001b[3;35mNone\u001b[0m, \u001b[33mlimit\u001b[0m=\u001b[3;35mNone\u001b[0m\u001b[1m)\u001b[0m\n"
      ]
     },
     "metadata": {},
     "output_type": "display_data"
    },
    {
     "name": "stdout",
     "output_type": "stream",
     "text": [
      "Which 1 video should I watch on the topic of routing\n"
     ]
    },
    {
     "data": {
      "text/html": [
       "<pre style=\"white-space:pre;overflow-x:auto;line-height:normal;font-family:Menlo,'DejaVu Sans Mono',consolas,'Courier New',monospace\"><span style=\"color: #800080; text-decoration-color: #800080; font-weight: bold\">StructuredQuery</span><span style=\"font-weight: bold\">(</span><span style=\"color: #808000; text-decoration-color: #808000\">query</span>=<span style=\"color: #008000; text-decoration-color: #008000\">'Videos on the topic of routing'</span>, <span style=\"color: #808000; text-decoration-color: #808000\">filter</span>=<span style=\"color: #800080; text-decoration-color: #800080; font-style: italic\">None</span>, <span style=\"color: #808000; text-decoration-color: #808000\">limit</span>=<span style=\"color: #008080; text-decoration-color: #008080; font-weight: bold\">1</span><span style=\"font-weight: bold\">)</span>\n",
       "</pre>\n"
      ],
      "text/plain": [
       "\u001b[1;35mStructuredQuery\u001b[0m\u001b[1m(\u001b[0m\u001b[33mquery\u001b[0m=\u001b[32m'Videos on the topic of routing'\u001b[0m, \u001b[33mfilter\u001b[0m=\u001b[3;35mNone\u001b[0m, \u001b[33mlimit\u001b[0m=\u001b[1;36m1\u001b[0m\u001b[1m)\u001b[0m\n"
      ]
     },
     "metadata": {},
     "output_type": "display_data"
    }
   ],
   "source": [
    "for question in questions:\n",
    "    print(question)\n",
    "    response = query_constructor.invoke(question)\n",
    "    rprint(response)"
   ]
  },
  {
   "cell_type": "code",
   "execution_count": 36,
   "id": "08075ced-1219-4ee7-a26b-03efb815f498",
   "metadata": {},
   "outputs": [],
   "source": [
    "retriever = SelfQueryRetriever(\n",
    "    query_constructor=query_constructor,\n",
    "    vectorstore=vectorstore,\n",
    "    structured_query_translator=translator,\n",
    "    verbose=True,\n",
    "    search_kwargs={'k': len(processed_splits)}\n",
    ")"
   ]
  },
  {
   "cell_type": "code",
   "execution_count": 37,
   "id": "8175dd73-f1f3-4ba8-bea0-fe2d0ba1c177",
   "metadata": {},
   "outputs": [],
   "source": [
    "class State(TypedDict):\n",
    "    question: str\n",
    "    context: list[Document]"
   ]
  },
  {
   "cell_type": "code",
   "execution_count": 38,
   "id": "91dfacce-3afd-4086-8846-c960d5e498b3",
   "metadata": {},
   "outputs": [],
   "source": [
    "def retrieve(state: State):\n",
    "    retrieved_docs = retriever.invoke(state[\"question\"])\n",
    "    return {\"context\": retrieved_docs}"
   ]
  },
  {
   "cell_type": "code",
   "execution_count": 39,
   "id": "00a1bd59-9c7d-48c0-b7b7-f2cca4f2ac54",
   "metadata": {},
   "outputs": [
    {
     "data": {
      "image/png": "[encoded data removed]",
      "text/plain": [
       "<langgraph.graph.state.CompiledStateGraph object at 0x7f38f4928590>"
      ]
     },
     "execution_count": 39,
     "metadata": {},
     "output_type": "execute_result"
    }
   ],
   "source": [
    "graph_builder = StateGraph(State)\n",
    "\n",
    "graph_builder.add_node(\"retrieve\", retrieve)\n",
    "\n",
    "graph_builder.add_edge(START, \"retrieve\")\n",
    "graph_builder.add_edge(\"retrieve\", END)\n",
    "\n",
    "graph = graph_builder.compile()\n",
    "graph"
   ]
  },
  {
   "cell_type": "code",
   "execution_count": 40,
   "id": "51b97734-82e9-46c0-8e6b-92efdfb9c1d4",
   "metadata": {},
   "outputs": [
    {
     "name": "stdout",
     "output_type": "stream",
     "text": [
      "Which videos are 7 to 10 minutes long\n"
     ]
    },
    {
     "data": {
      "text/html": [
       "<pre style=\"white-space:pre;overflow-x:auto;line-height:normal;font-family:Menlo,'DejaVu Sans Mono',consolas,'Courier New',monospace\"><span style=\"font-weight: bold\">{</span>\n",
       "    <span style=\"color: #008000; text-decoration-color: #008000\">'question'</span>: <span style=\"color: #008000; text-decoration-color: #008000\">'Which videos are 7 to 10 minutes long'</span>,\n",
       "    <span style=\"color: #008000; text-decoration-color: #008000\">'context'</span>: <span style=\"font-weight: bold\">[</span>\n",
       "        <span style=\"color: #800080; text-decoration-color: #800080; font-weight: bold\">Document</span><span style=\"font-weight: bold\">(</span>\n",
       "            <span style=\"color: #808000; text-decoration-color: #808000\">id</span>=<span style=\"color: #008000; text-decoration-color: #008000\">'9504d965-313e-4d44-9990-ed78146534f8'</span>,\n",
       "            <span style=\"color: #808000; text-decoration-color: #808000\">metadata</span>=<span style=\"font-weight: bold\">{</span>\n",
       "                <span style=\"color: #008000; text-decoration-color: #008000\">'author'</span>: <span style=\"color: #008000; text-decoration-color: #008000\">'LangChain'</span>,\n",
       "                <span style=\"color: #008000; text-decoration-color: #008000\">'description'</span>: <span style=\"color: #008000; text-decoration-color: #008000\">'Our RAG From Scratch video series walks through impt RAG concepts in short / </span>\n",
       "<span style=\"color: #008000; text-decoration-color: #008000\">focused videos w/ code.'</span>+<span style=\"color: #008080; text-decoration-color: #008080; font-weight: bold\">1588</span>,\n",
       "                <span style=\"color: #008000; text-decoration-color: #008000\">'length'</span>: <span style=\"color: #008080; text-decoration-color: #008080; font-weight: bold\">432</span>,\n",
       "                <span style=\"color: #008000; text-decoration-color: #008000\">'publish_date'</span>: <span style=\"color: #008080; text-decoration-color: #008080; font-weight: bold\">20240330</span>,\n",
       "                <span style=\"color: #008000; text-decoration-color: #008000\">'source'</span>: <span style=\"color: #008000; text-decoration-color: #008000\">'cN6S0Ehm7_8'</span>,\n",
       "                <span style=\"color: #008000; text-decoration-color: #008000\">'thumbnail_url'</span>: <span style=\"color: #008000; text-decoration-color: #008000\">'https://i.ytimg.com/vi/cN6S0Ehm7_8/sddefault.jpg'</span>,\n",
       "                <span style=\"color: #008000; text-decoration-color: #008000\">'title'</span>: <span style=\"color: #008000; text-decoration-color: #008000\">'RAG From Scratch: Part 14 (ColBERT)'</span>,\n",
       "                <span style=\"color: #008000; text-decoration-color: #008000\">'view_count'</span>: <span style=\"color: #008080; text-decoration-color: #008080; font-weight: bold\">15852</span>\n",
       "            <span style=\"font-weight: bold\">}</span>,\n",
       "            <span style=\"color: #808000; text-decoration-color: #808000\">page_content</span>=<span style=\"color: #008000; text-decoration-color: #008000\">'Title:\\nRAG From Scratch: Part 14 (ColBERT)\\n\\nDescription:\\nOur RAG From Scratch video </span>\n",
       "<span style=\"color: #008000; text-decoration-color: #008000\">series walks thr'</span>+<span style=\"color: #008080; text-decoration-color: #008080; font-weight: bold\">8822</span>\n",
       "        <span style=\"font-weight: bold\">)</span>,\n",
       "        <span style=\"color: #800080; text-decoration-color: #800080; font-weight: bold\">Document</span><span style=\"font-weight: bold\">(</span>\n",
       "            <span style=\"color: #808000; text-decoration-color: #808000\">id</span>=<span style=\"color: #008000; text-decoration-color: #008000\">'5d1546a8-58d7-4729-b3ed-64c8c72de4c7'</span>,\n",
       "            <span style=\"color: #808000; text-decoration-color: #808000\">metadata</span>=<span style=\"font-weight: bold\">{</span>\n",
       "                <span style=\"color: #008000; text-decoration-color: #008000\">'author'</span>: <span style=\"color: #008000; text-decoration-color: #008000\">'LangChain'</span>,\n",
       "                <span style=\"color: #008000; text-decoration-color: #008000\">'description'</span>: <span style=\"color: #008000; text-decoration-color: #008000\">'Our RAG From Scratch video series walks through impt RAG concepts in short / </span>\n",
       "<span style=\"color: #008000; text-decoration-color: #008000\">focused videos w/ code.'</span>+<span style=\"color: #008080; text-decoration-color: #008080; font-weight: bold\">1026</span>,\n",
       "                <span style=\"color: #008000; text-decoration-color: #008000\">'length'</span>: <span style=\"color: #008080; text-decoration-color: #008080; font-weight: bold\">460</span>,\n",
       "                <span style=\"color: #008000; text-decoration-color: #008000\">'publish_date'</span>: <span style=\"color: #008080; text-decoration-color: #008080; font-weight: bold\">20240329</span>,\n",
       "                <span style=\"color: #008000; text-decoration-color: #008000\">'source'</span>: <span style=\"color: #008000; text-decoration-color: #008000\">'z_6EeA2LDSw'</span>,\n",
       "                <span style=\"color: #008000; text-decoration-color: #008000\">'thumbnail_url'</span>: <span style=\"color: #008000; text-decoration-color: #008000\">'https://i.ytimg.com/vi/z_6EeA2LDSw/sddefault.jpg'</span>,\n",
       "                <span style=\"color: #008000; text-decoration-color: #008000\">'title'</span>: <span style=\"color: #008000; text-decoration-color: #008000\">'RAG From Scratch: Part 13 (RAPTOR)'</span>,\n",
       "                <span style=\"color: #008000; text-decoration-color: #008000\">'view_count'</span>: <span style=\"color: #008080; text-decoration-color: #008080; font-weight: bold\">15310</span>\n",
       "            <span style=\"font-weight: bold\">}</span>,\n",
       "            <span style=\"color: #808000; text-decoration-color: #808000\">page_content</span>=<span style=\"color: #008000; text-decoration-color: #008000\">'Title:\\nRAG From Scratch: Part 13 (RAPTOR)\\n\\nDescription:\\nOur RAG From Scratch video </span>\n",
       "<span style=\"color: #008000; text-decoration-color: #008000\">series walks thro'</span>+<span style=\"color: #008080; text-decoration-color: #008080; font-weight: bold\">8444</span>\n",
       "        <span style=\"font-weight: bold\">)</span>,\n",
       "        <span style=\"color: #800080; text-decoration-color: #800080; font-weight: bold\">Document</span><span style=\"font-weight: bold\">(</span>\n",
       "            <span style=\"color: #808000; text-decoration-color: #808000\">id</span>=<span style=\"color: #008000; text-decoration-color: #008000\">'070071c3-8f7f-4413-8a1e-699fe4a21510'</span>,\n",
       "            <span style=\"color: #808000; text-decoration-color: #808000\">metadata</span>=<span style=\"font-weight: bold\">{</span>\n",
       "                <span style=\"color: #008000; text-decoration-color: #008000\">'author'</span>: <span style=\"color: #008000; text-decoration-color: #008000\">'LangChain'</span>,\n",
       "                <span style=\"color: #008000; text-decoration-color: #008000\">'description'</span>: <span style=\"color: #008000; text-decoration-color: #008000\">'This is the 10th video in our RAG From Scratch series, focused on different types </span>\n",
       "<span style=\"color: #008000; text-decoration-color: #008000\">of query routing ('</span>+<span style=\"color: #008080; text-decoration-color: #008080; font-weight: bold\">235</span>,\n",
       "                <span style=\"color: #008000; text-decoration-color: #008000\">'length'</span>: <span style=\"color: #008080; text-decoration-color: #008080; font-weight: bold\">422</span>,\n",
       "                <span style=\"color: #008000; text-decoration-color: #008000\">'publish_date'</span>: <span style=\"color: #008080; text-decoration-color: #008080; font-weight: bold\">20240318</span>,\n",
       "                <span style=\"color: #008000; text-decoration-color: #008000\">'source'</span>: <span style=\"color: #008000; text-decoration-color: #008000\">'pfpIndq7Fi8'</span>,\n",
       "                <span style=\"color: #008000; text-decoration-color: #008000\">'thumbnail_url'</span>: <span style=\"color: #008000; text-decoration-color: #008000\">'https://i.ytimg.com/vi/pfpIndq7Fi8/sddefault.jpg'</span>,\n",
       "                <span style=\"color: #008000; text-decoration-color: #008000\">'title'</span>: <span style=\"color: #008000; text-decoration-color: #008000\">'RAG from scratch: Part 10 (Routing)'</span>,\n",
       "                <span style=\"color: #008000; text-decoration-color: #008000\">'view_count'</span>: <span style=\"color: #008080; text-decoration-color: #008080; font-weight: bold\">30805</span>\n",
       "            <span style=\"font-weight: bold\">}</span>,\n",
       "            <span style=\"color: #808000; text-decoration-color: #808000\">page_content</span>=<span style=\"color: #008000; text-decoration-color: #008000\">'Title:\\nRAG from scratch: Part 10 (Routing)\\n\\nDescription:\\nThis is the 10th video in </span>\n",
       "<span style=\"color: #008000; text-decoration-color: #008000\">our RAG From Scra'</span>+<span style=\"color: #008080; text-decoration-color: #008080; font-weight: bold\">7088</span>\n",
       "        <span style=\"font-weight: bold\">)</span>\n",
       "    <span style=\"font-weight: bold\">]</span>\n",
       "<span style=\"font-weight: bold\">}</span>\n",
       "</pre>\n"
      ],
      "text/plain": [
       "\u001b[1m{\u001b[0m\n",
       "    \u001b[32m'question'\u001b[0m: \u001b[32m'Which videos are 7 to 10 minutes long'\u001b[0m,\n",
       "    \u001b[32m'context'\u001b[0m: \u001b[1m[\u001b[0m\n",
       "        \u001b[1;35mDocument\u001b[0m\u001b[1m(\u001b[0m\n",
       "            \u001b[33mid\u001b[0m=\u001b[32m'9504d965-313e-4d44-9990-ed78146534f8'\u001b[0m,\n",
       "            \u001b[33mmetadata\u001b[0m=\u001b[1m{\u001b[0m\n",
       "                \u001b[32m'author'\u001b[0m: \u001b[32m'LangChain'\u001b[0m,\n",
       "                \u001b[32m'description'\u001b[0m: \u001b[32m'Our RAG From Scratch video series walks through impt RAG concepts in short / \u001b[0m\n",
       "\u001b[32mfocused videos w/ code.'\u001b[0m+\u001b[1;36m1588\u001b[0m,\n",
       "                \u001b[32m'length'\u001b[0m: \u001b[1;36m432\u001b[0m,\n",
       "                \u001b[32m'publish_date'\u001b[0m: \u001b[1;36m20240330\u001b[0m,\n",
       "                \u001b[32m'source'\u001b[0m: \u001b[32m'cN6S0Ehm7_8'\u001b[0m,\n",
       "                \u001b[32m'thumbnail_url'\u001b[0m: \u001b[32m'https://i.ytimg.com/vi/cN6S0Ehm7_8/sddefault.jpg'\u001b[0m,\n",
       "                \u001b[32m'title'\u001b[0m: \u001b[32m'RAG From Scratch: Part 14 \u001b[0m\u001b[32m(\u001b[0m\u001b[32mColBERT\u001b[0m\u001b[32m)\u001b[0m\u001b[32m'\u001b[0m,\n",
       "                \u001b[32m'view_count'\u001b[0m: \u001b[1;36m15852\u001b[0m\n",
       "            \u001b[1m}\u001b[0m,\n",
       "            \u001b[33mpage_content\u001b[0m=\u001b[32m'Title:\\nRAG From Scratch: Part 14 \u001b[0m\u001b[32m(\u001b[0m\u001b[32mColBERT\u001b[0m\u001b[32m)\u001b[0m\u001b[32m\\n\\nDescription:\\nOur RAG From Scratch video \u001b[0m\n",
       "\u001b[32mseries walks thr'\u001b[0m+\u001b[1;36m8822\u001b[0m\n",
       "        \u001b[1m)\u001b[0m,\n",
       "        \u001b[1;35mDocument\u001b[0m\u001b[1m(\u001b[0m\n",
       "            \u001b[33mid\u001b[0m=\u001b[32m'5d1546a8-58d7-4729-b3ed-64c8c72de4c7'\u001b[0m,\n",
       "            \u001b[33mmetadata\u001b[0m=\u001b[1m{\u001b[0m\n",
       "                \u001b[32m'author'\u001b[0m: \u001b[32m'LangChain'\u001b[0m,\n",
       "                \u001b[32m'description'\u001b[0m: \u001b[32m'Our RAG From Scratch video series walks through impt RAG concepts in short / \u001b[0m\n",
       "\u001b[32mfocused videos w/ code.'\u001b[0m+\u001b[1;36m1026\u001b[0m,\n",
       "                \u001b[32m'length'\u001b[0m: \u001b[1;36m460\u001b[0m,\n",
       "                \u001b[32m'publish_date'\u001b[0m: \u001b[1;36m20240329\u001b[0m,\n",
       "                \u001b[32m'source'\u001b[0m: \u001b[32m'z_6EeA2LDSw'\u001b[0m,\n",
       "                \u001b[32m'thumbnail_url'\u001b[0m: \u001b[32m'https://i.ytimg.com/vi/z_6EeA2LDSw/sddefault.jpg'\u001b[0m,\n",
       "                \u001b[32m'title'\u001b[0m: \u001b[32m'RAG From Scratch: Part 13 \u001b[0m\u001b[32m(\u001b[0m\u001b[32mRAPTOR\u001b[0m\u001b[32m)\u001b[0m\u001b[32m'\u001b[0m,\n",
       "                \u001b[32m'view_count'\u001b[0m: \u001b[1;36m15310\u001b[0m\n",
       "            \u001b[1m}\u001b[0m,\n",
       "            \u001b[33mpage_content\u001b[0m=\u001b[32m'Title:\\nRAG From Scratch: Part 13 \u001b[0m\u001b[32m(\u001b[0m\u001b[32mRAPTOR\u001b[0m\u001b[32m)\u001b[0m\u001b[32m\\n\\nDescription:\\nOur RAG From Scratch video \u001b[0m\n",
       "\u001b[32mseries walks thro'\u001b[0m+\u001b[1;36m8444\u001b[0m\n",
       "        \u001b[1m)\u001b[0m,\n",
       "        \u001b[1;35mDocument\u001b[0m\u001b[1m(\u001b[0m\n",
       "            \u001b[33mid\u001b[0m=\u001b[32m'070071c3-8f7f-4413-8a1e-699fe4a21510'\u001b[0m,\n",
       "            \u001b[33mmetadata\u001b[0m=\u001b[1m{\u001b[0m\n",
       "                \u001b[32m'author'\u001b[0m: \u001b[32m'LangChain'\u001b[0m,\n",
       "                \u001b[32m'description'\u001b[0m: \u001b[32m'This is the 10th video in our RAG From Scratch series, focused on different types \u001b[0m\n",
       "\u001b[32mof query routing \u001b[0m\u001b[32m(\u001b[0m\u001b[32m'\u001b[0m+\u001b[1;36m235\u001b[0m,\n",
       "                \u001b[32m'length'\u001b[0m: \u001b[1;36m422\u001b[0m,\n",
       "                \u001b[32m'publish_date'\u001b[0m: \u001b[1;36m20240318\u001b[0m,\n",
       "                \u001b[32m'source'\u001b[0m: \u001b[32m'pfpIndq7Fi8'\u001b[0m,\n",
       "                \u001b[32m'thumbnail_url'\u001b[0m: \u001b[32m'https://i.ytimg.com/vi/pfpIndq7Fi8/sddefault.jpg'\u001b[0m,\n",
       "                \u001b[32m'title'\u001b[0m: \u001b[32m'RAG from scratch: Part 10 \u001b[0m\u001b[32m(\u001b[0m\u001b[32mRouting\u001b[0m\u001b[32m)\u001b[0m\u001b[32m'\u001b[0m,\n",
       "                \u001b[32m'view_count'\u001b[0m: \u001b[1;36m30805\u001b[0m\n",
       "            \u001b[1m}\u001b[0m,\n",
       "            \u001b[33mpage_content\u001b[0m=\u001b[32m'Title:\\nRAG from scratch: Part 10 \u001b[0m\u001b[32m(\u001b[0m\u001b[32mRouting\u001b[0m\u001b[32m)\u001b[0m\u001b[32m\\n\\nDescription:\\nThis is the 10th video in \u001b[0m\n",
       "\u001b[32mour RAG From Scra'\u001b[0m+\u001b[1;36m7088\u001b[0m\n",
       "        \u001b[1m)\u001b[0m\n",
       "    \u001b[1m]\u001b[0m\n",
       "\u001b[1m}\u001b[0m\n"
      ]
     },
     "metadata": {},
     "output_type": "display_data"
    },
    {
     "name": "stdout",
     "output_type": "stream",
     "text": [
      "Videos published in March 2024\n"
     ]
    },
    {
     "data": {
      "text/html": [
       "<pre style=\"white-space:pre;overflow-x:auto;line-height:normal;font-family:Menlo,'DejaVu Sans Mono',consolas,'Courier New',monospace\"><span style=\"font-weight: bold\">{</span>\n",
       "    <span style=\"color: #008000; text-decoration-color: #008000\">'question'</span>: <span style=\"color: #008000; text-decoration-color: #008000\">'Videos published in March 2024'</span>,\n",
       "    <span style=\"color: #008000; text-decoration-color: #008000\">'context'</span>: <span style=\"font-weight: bold\">[</span>\n",
       "        <span style=\"color: #800080; text-decoration-color: #800080; font-weight: bold\">Document</span><span style=\"font-weight: bold\">(</span>\n",
       "            <span style=\"color: #808000; text-decoration-color: #808000\">id</span>=<span style=\"color: #008000; text-decoration-color: #008000\">'20f57a6f-8258-4014-ab73-9e3a86b11298'</span>,\n",
       "            <span style=\"color: #808000; text-decoration-color: #808000\">metadata</span>=<span style=\"font-weight: bold\">{</span>\n",
       "                <span style=\"color: #008000; text-decoration-color: #008000\">'author'</span>: <span style=\"color: #008000; text-decoration-color: #008000\">'LangChain'</span>,\n",
       "                <span style=\"color: #008000; text-decoration-color: #008000\">'description'</span>: <span style=\"color: #008000; text-decoration-color: #008000\">'Our RAG From Scratch video series walks through impt RAG concepts in short / </span>\n",
       "<span style=\"color: #008000; text-decoration-color: #008000\">focused videos w/ code.'</span>+<span style=\"color: #008080; text-decoration-color: #008080; font-weight: bold\">1224</span>,\n",
       "                <span style=\"color: #008000; text-decoration-color: #008000\">'length'</span>: <span style=\"color: #008080; text-decoration-color: #008080; font-weight: bold\">359</span>,\n",
       "                <span style=\"color: #008000; text-decoration-color: #008000\">'publish_date'</span>: <span style=\"color: #008080; text-decoration-color: #008080; font-weight: bold\">20240327</span>,\n",
       "                <span style=\"color: #008000; text-decoration-color: #008000\">'source'</span>: <span style=\"color: #008000; text-decoration-color: #008000\">'kl6NwWYxvbM'</span>,\n",
       "                <span style=\"color: #008000; text-decoration-color: #008000\">'thumbnail_url'</span>: <span style=\"color: #008000; text-decoration-color: #008000\">'https://i.ytimg.com/vi/kl6NwWYxvbM/sddefault.jpg'</span>,\n",
       "                <span style=\"color: #008000; text-decoration-color: #008000\">'title'</span>: <span style=\"color: #008000; text-decoration-color: #008000\">'RAG from scratch: Part 11 (Query Structuring)'</span>,\n",
       "                <span style=\"color: #008000; text-decoration-color: #008000\">'view_count'</span>: <span style=\"color: #008080; text-decoration-color: #008080; font-weight: bold\">16351</span>\n",
       "            <span style=\"font-weight: bold\">}</span>,\n",
       "            <span style=\"color: #808000; text-decoration-color: #808000\">page_content</span>=<span style=\"color: #008000; text-decoration-color: #008000\">'Title:\\nRAG from scratch: Part 11 (Query Structuring)\\n\\nDescription:\\nOur RAG From </span>\n",
       "<span style=\"color: #008000; text-decoration-color: #008000\">Scratch video series'</span>+<span style=\"color: #008080; text-decoration-color: #008080; font-weight: bold\">7254</span>\n",
       "        <span style=\"font-weight: bold\">)</span>,\n",
       "        <span style=\"color: #800080; text-decoration-color: #800080; font-weight: bold\">Document</span><span style=\"font-weight: bold\">(</span>\n",
       "            <span style=\"color: #808000; text-decoration-color: #808000\">id</span>=<span style=\"color: #008000; text-decoration-color: #008000\">'5d1546a8-58d7-4729-b3ed-64c8c72de4c7'</span>,\n",
       "            <span style=\"color: #808000; text-decoration-color: #808000\">metadata</span>=<span style=\"font-weight: bold\">{</span>\n",
       "                <span style=\"color: #008000; text-decoration-color: #008000\">'author'</span>: <span style=\"color: #008000; text-decoration-color: #008000\">'LangChain'</span>,\n",
       "                <span style=\"color: #008000; text-decoration-color: #008000\">'description'</span>: <span style=\"color: #008000; text-decoration-color: #008000\">'Our RAG From Scratch video series walks through impt RAG concepts in short / </span>\n",
       "<span style=\"color: #008000; text-decoration-color: #008000\">focused videos w/ code.'</span>+<span style=\"color: #008080; text-decoration-color: #008080; font-weight: bold\">1026</span>,\n",
       "                <span style=\"color: #008000; text-decoration-color: #008000\">'length'</span>: <span style=\"color: #008080; text-decoration-color: #008080; font-weight: bold\">460</span>,\n",
       "                <span style=\"color: #008000; text-decoration-color: #008000\">'publish_date'</span>: <span style=\"color: #008080; text-decoration-color: #008080; font-weight: bold\">20240329</span>,\n",
       "                <span style=\"color: #008000; text-decoration-color: #008000\">'source'</span>: <span style=\"color: #008000; text-decoration-color: #008000\">'z_6EeA2LDSw'</span>,\n",
       "                <span style=\"color: #008000; text-decoration-color: #008000\">'thumbnail_url'</span>: <span style=\"color: #008000; text-decoration-color: #008000\">'https://i.ytimg.com/vi/z_6EeA2LDSw/sddefault.jpg'</span>,\n",
       "                <span style=\"color: #008000; text-decoration-color: #008000\">'title'</span>: <span style=\"color: #008000; text-decoration-color: #008000\">'RAG From Scratch: Part 13 (RAPTOR)'</span>,\n",
       "                <span style=\"color: #008000; text-decoration-color: #008000\">'view_count'</span>: <span style=\"color: #008080; text-decoration-color: #008080; font-weight: bold\">15310</span>\n",
       "            <span style=\"font-weight: bold\">}</span>,\n",
       "            <span style=\"color: #808000; text-decoration-color: #808000\">page_content</span>=<span style=\"color: #008000; text-decoration-color: #008000\">'Title:\\nRAG From Scratch: Part 13 (RAPTOR)\\n\\nDescription:\\nOur RAG From Scratch video </span>\n",
       "<span style=\"color: #008000; text-decoration-color: #008000\">series walks thro'</span>+<span style=\"color: #008080; text-decoration-color: #008080; font-weight: bold\">8444</span>\n",
       "        <span style=\"font-weight: bold\">)</span>,\n",
       "        <span style=\"color: #800080; text-decoration-color: #800080; font-weight: bold\">Document</span><span style=\"font-weight: bold\">(</span>\n",
       "            <span style=\"color: #808000; text-decoration-color: #808000\">id</span>=<span style=\"color: #008000; text-decoration-color: #008000\">'d7c0ac2b-2518-41c2-8b60-cc70be317c07'</span>,\n",
       "            <span style=\"color: #808000; text-decoration-color: #808000\">metadata</span>=<span style=\"font-weight: bold\">{</span>\n",
       "                <span style=\"color: #008000; text-decoration-color: #008000\">'author'</span>: <span style=\"color: #008000; text-decoration-color: #008000\">'LangChain'</span>,\n",
       "                <span style=\"color: #008000; text-decoration-color: #008000\">'description'</span>: <span style=\"color: #008000; text-decoration-color: #008000\">'Our RAG From Scratch video series walks through impt RAG concepts in short / </span>\n",
       "<span style=\"color: #008000; text-decoration-color: #008000\">focused videos w/ code.'</span>+<span style=\"color: #008080; text-decoration-color: #008080; font-weight: bold\">1835</span>,\n",
       "                <span style=\"color: #008000; text-decoration-color: #008000\">'length'</span>: <span style=\"color: #008080; text-decoration-color: #008080; font-weight: bold\">395</span>,\n",
       "                <span style=\"color: #008000; text-decoration-color: #008000\">'publish_date'</span>: <span style=\"color: #008080; text-decoration-color: #008080; font-weight: bold\">20240328</span>,\n",
       "                <span style=\"color: #008000; text-decoration-color: #008000\">'source'</span>: <span style=\"color: #008000; text-decoration-color: #008000\">'gTCU9I6QqCE'</span>,\n",
       "                <span style=\"color: #008000; text-decoration-color: #008000\">'thumbnail_url'</span>: <span style=\"color: #008000; text-decoration-color: #008000\">'https://i.ytimg.com/vi/gTCU9I6QqCE/sddefault.jpg'</span>,\n",
       "                <span style=\"color: #008000; text-decoration-color: #008000\">'title'</span>: <span style=\"color: #008000; text-decoration-color: #008000\">'RAG from scratch: Part 12 (Multi-Representation Indexing)'</span>,\n",
       "                <span style=\"color: #008000; text-decoration-color: #008000\">'view_count'</span>: <span style=\"color: #008080; text-decoration-color: #008080; font-weight: bold\">18094</span>\n",
       "            <span style=\"font-weight: bold\">}</span>,\n",
       "            <span style=\"color: #808000; text-decoration-color: #808000\">page_content</span>=<span style=\"color: #008000; text-decoration-color: #008000\">'Title:\\nRAG from scratch: Part 12 (Multi-Representation Indexing)\\n\\nDescription:\\nOur </span>\n",
       "<span style=\"color: #008000; text-decoration-color: #008000\">RAG From Scratch '</span>+<span style=\"color: #008080; text-decoration-color: #008080; font-weight: bold\">8179</span>\n",
       "        <span style=\"font-weight: bold\">)</span>,\n",
       "        <span style=\"color: #800080; text-decoration-color: #800080; font-weight: bold\">Document</span><span style=\"font-weight: bold\">(</span>\n",
       "            <span style=\"color: #808000; text-decoration-color: #808000\">id</span>=<span style=\"color: #008000; text-decoration-color: #008000\">'9504d965-313e-4d44-9990-ed78146534f8'</span>,\n",
       "            <span style=\"color: #808000; text-decoration-color: #808000\">metadata</span>=<span style=\"font-weight: bold\">{</span>\n",
       "                <span style=\"color: #008000; text-decoration-color: #008000\">'author'</span>: <span style=\"color: #008000; text-decoration-color: #008000\">'LangChain'</span>,\n",
       "                <span style=\"color: #008000; text-decoration-color: #008000\">'description'</span>: <span style=\"color: #008000; text-decoration-color: #008000\">'Our RAG From Scratch video series walks through impt RAG concepts in short / </span>\n",
       "<span style=\"color: #008000; text-decoration-color: #008000\">focused videos w/ code.'</span>+<span style=\"color: #008080; text-decoration-color: #008080; font-weight: bold\">1588</span>,\n",
       "                <span style=\"color: #008000; text-decoration-color: #008000\">'length'</span>: <span style=\"color: #008080; text-decoration-color: #008080; font-weight: bold\">432</span>,\n",
       "                <span style=\"color: #008000; text-decoration-color: #008000\">'publish_date'</span>: <span style=\"color: #008080; text-decoration-color: #008080; font-weight: bold\">20240330</span>,\n",
       "                <span style=\"color: #008000; text-decoration-color: #008000\">'source'</span>: <span style=\"color: #008000; text-decoration-color: #008000\">'cN6S0Ehm7_8'</span>,\n",
       "                <span style=\"color: #008000; text-decoration-color: #008000\">'thumbnail_url'</span>: <span style=\"color: #008000; text-decoration-color: #008000\">'https://i.ytimg.com/vi/cN6S0Ehm7_8/sddefault.jpg'</span>,\n",
       "                <span style=\"color: #008000; text-decoration-color: #008000\">'title'</span>: <span style=\"color: #008000; text-decoration-color: #008000\">'RAG From Scratch: Part 14 (ColBERT)'</span>,\n",
       "                <span style=\"color: #008000; text-decoration-color: #008000\">'view_count'</span>: <span style=\"color: #008080; text-decoration-color: #008080; font-weight: bold\">15852</span>\n",
       "            <span style=\"font-weight: bold\">}</span>,\n",
       "            <span style=\"color: #808000; text-decoration-color: #808000\">page_content</span>=<span style=\"color: #008000; text-decoration-color: #008000\">'Title:\\nRAG From Scratch: Part 14 (ColBERT)\\n\\nDescription:\\nOur RAG From Scratch video </span>\n",
       "<span style=\"color: #008000; text-decoration-color: #008000\">series walks thr'</span>+<span style=\"color: #008080; text-decoration-color: #008080; font-weight: bold\">8822</span>\n",
       "        <span style=\"font-weight: bold\">)</span>,\n",
       "        <span style=\"color: #800080; text-decoration-color: #800080; font-weight: bold\">Document</span><span style=\"font-weight: bold\">(</span>\n",
       "            <span style=\"color: #808000; text-decoration-color: #808000\">id</span>=<span style=\"color: #008000; text-decoration-color: #008000\">'070071c3-8f7f-4413-8a1e-699fe4a21510'</span>,\n",
       "            <span style=\"color: #808000; text-decoration-color: #808000\">metadata</span>=<span style=\"font-weight: bold\">{</span>\n",
       "                <span style=\"color: #008000; text-decoration-color: #008000\">'author'</span>: <span style=\"color: #008000; text-decoration-color: #008000\">'LangChain'</span>,\n",
       "                <span style=\"color: #008000; text-decoration-color: #008000\">'description'</span>: <span style=\"color: #008000; text-decoration-color: #008000\">'This is the 10th video in our RAG From Scratch series, focused on different types </span>\n",
       "<span style=\"color: #008000; text-decoration-color: #008000\">of query routing ('</span>+<span style=\"color: #008080; text-decoration-color: #008080; font-weight: bold\">235</span>,\n",
       "                <span style=\"color: #008000; text-decoration-color: #008000\">'length'</span>: <span style=\"color: #008080; text-decoration-color: #008080; font-weight: bold\">422</span>,\n",
       "                <span style=\"color: #008000; text-decoration-color: #008000\">'publish_date'</span>: <span style=\"color: #008080; text-decoration-color: #008080; font-weight: bold\">20240318</span>,\n",
       "                <span style=\"color: #008000; text-decoration-color: #008000\">'source'</span>: <span style=\"color: #008000; text-decoration-color: #008000\">'pfpIndq7Fi8'</span>,\n",
       "                <span style=\"color: #008000; text-decoration-color: #008000\">'thumbnail_url'</span>: <span style=\"color: #008000; text-decoration-color: #008000\">'https://i.ytimg.com/vi/pfpIndq7Fi8/sddefault.jpg'</span>,\n",
       "                <span style=\"color: #008000; text-decoration-color: #008000\">'title'</span>: <span style=\"color: #008000; text-decoration-color: #008000\">'RAG from scratch: Part 10 (Routing)'</span>,\n",
       "                <span style=\"color: #008000; text-decoration-color: #008000\">'view_count'</span>: <span style=\"color: #008080; text-decoration-color: #008080; font-weight: bold\">30805</span>\n",
       "            <span style=\"font-weight: bold\">}</span>,\n",
       "            <span style=\"color: #808000; text-decoration-color: #808000\">page_content</span>=<span style=\"color: #008000; text-decoration-color: #008000\">'Title:\\nRAG from scratch: Part 10 (Routing)\\n\\nDescription:\\nThis is the 10th video in </span>\n",
       "<span style=\"color: #008000; text-decoration-color: #008000\">our RAG From Scra'</span>+<span style=\"color: #008080; text-decoration-color: #008080; font-weight: bold\">7088</span>\n",
       "        <span style=\"font-weight: bold\">)</span>\n",
       "    <span style=\"font-weight: bold\">]</span>\n",
       "<span style=\"font-weight: bold\">}</span>\n",
       "</pre>\n"
      ],
      "text/plain": [
       "\u001b[1m{\u001b[0m\n",
       "    \u001b[32m'question'\u001b[0m: \u001b[32m'Videos published in March 2024'\u001b[0m,\n",
       "    \u001b[32m'context'\u001b[0m: \u001b[1m[\u001b[0m\n",
       "        \u001b[1;35mDocument\u001b[0m\u001b[1m(\u001b[0m\n",
       "            \u001b[33mid\u001b[0m=\u001b[32m'20f57a6f-8258-4014-ab73-9e3a86b11298'\u001b[0m,\n",
       "            \u001b[33mmetadata\u001b[0m=\u001b[1m{\u001b[0m\n",
       "                \u001b[32m'author'\u001b[0m: \u001b[32m'LangChain'\u001b[0m,\n",
       "                \u001b[32m'description'\u001b[0m: \u001b[32m'Our RAG From Scratch video series walks through impt RAG concepts in short / \u001b[0m\n",
       "\u001b[32mfocused videos w/ code.'\u001b[0m+\u001b[1;36m1224\u001b[0m,\n",
       "                \u001b[32m'length'\u001b[0m: \u001b[1;36m359\u001b[0m,\n",
       "                \u001b[32m'publish_date'\u001b[0m: \u001b[1;36m20240327\u001b[0m,\n",
       "                \u001b[32m'source'\u001b[0m: \u001b[32m'kl6NwWYxvbM'\u001b[0m,\n",
       "                \u001b[32m'thumbnail_url'\u001b[0m: \u001b[32m'https://i.ytimg.com/vi/kl6NwWYxvbM/sddefault.jpg'\u001b[0m,\n",
       "                \u001b[32m'title'\u001b[0m: \u001b[32m'RAG from scratch: Part 11 \u001b[0m\u001b[32m(\u001b[0m\u001b[32mQuery Structuring\u001b[0m\u001b[32m)\u001b[0m\u001b[32m'\u001b[0m,\n",
       "                \u001b[32m'view_count'\u001b[0m: \u001b[1;36m16351\u001b[0m\n",
       "            \u001b[1m}\u001b[0m,\n",
       "            \u001b[33mpage_content\u001b[0m=\u001b[32m'Title:\\nRAG from scratch: Part 11 \u001b[0m\u001b[32m(\u001b[0m\u001b[32mQuery Structuring\u001b[0m\u001b[32m)\u001b[0m\u001b[32m\\n\\nDescription:\\nOur RAG From \u001b[0m\n",
       "\u001b[32mScratch video series'\u001b[0m+\u001b[1;36m7254\u001b[0m\n",
       "        \u001b[1m)\u001b[0m,\n",
       "        \u001b[1;35mDocument\u001b[0m\u001b[1m(\u001b[0m\n",
       "            \u001b[33mid\u001b[0m=\u001b[32m'5d1546a8-58d7-4729-b3ed-64c8c72de4c7'\u001b[0m,\n",
       "            \u001b[33mmetadata\u001b[0m=\u001b[1m{\u001b[0m\n",
       "                \u001b[32m'author'\u001b[0m: \u001b[32m'LangChain'\u001b[0m,\n",
       "                \u001b[32m'description'\u001b[0m: \u001b[32m'Our RAG From Scratch video series walks through impt RAG concepts in short / \u001b[0m\n",
       "\u001b[32mfocused videos w/ code.'\u001b[0m+\u001b[1;36m1026\u001b[0m,\n",
       "                \u001b[32m'length'\u001b[0m: \u001b[1;36m460\u001b[0m,\n",
       "                \u001b[32m'publish_date'\u001b[0m: \u001b[1;36m20240329\u001b[0m,\n",
       "                \u001b[32m'source'\u001b[0m: \u001b[32m'z_6EeA2LDSw'\u001b[0m,\n",
       "                \u001b[32m'thumbnail_url'\u001b[0m: \u001b[32m'https://i.ytimg.com/vi/z_6EeA2LDSw/sddefault.jpg'\u001b[0m,\n",
       "                \u001b[32m'title'\u001b[0m: \u001b[32m'RAG From Scratch: Part 13 \u001b[0m\u001b[32m(\u001b[0m\u001b[32mRAPTOR\u001b[0m\u001b[32m)\u001b[0m\u001b[32m'\u001b[0m,\n",
       "                \u001b[32m'view_count'\u001b[0m: \u001b[1;36m15310\u001b[0m\n",
       "            \u001b[1m}\u001b[0m,\n",
       "            \u001b[33mpage_content\u001b[0m=\u001b[32m'Title:\\nRAG From Scratch: Part 13 \u001b[0m\u001b[32m(\u001b[0m\u001b[32mRAPTOR\u001b[0m\u001b[32m)\u001b[0m\u001b[32m\\n\\nDescription:\\nOur RAG From Scratch video \u001b[0m\n",
       "\u001b[32mseries walks thro'\u001b[0m+\u001b[1;36m8444\u001b[0m\n",
       "        \u001b[1m)\u001b[0m,\n",
       "        \u001b[1;35mDocument\u001b[0m\u001b[1m(\u001b[0m\n",
       "            \u001b[33mid\u001b[0m=\u001b[32m'd7c0ac2b-2518-41c2-8b60-cc70be317c07'\u001b[0m,\n",
       "            \u001b[33mmetadata\u001b[0m=\u001b[1m{\u001b[0m\n",
       "                \u001b[32m'author'\u001b[0m: \u001b[32m'LangChain'\u001b[0m,\n",
       "                \u001b[32m'description'\u001b[0m: \u001b[32m'Our RAG From Scratch video series walks through impt RAG concepts in short / \u001b[0m\n",
       "\u001b[32mfocused videos w/ code.'\u001b[0m+\u001b[1;36m1835\u001b[0m,\n",
       "                \u001b[32m'length'\u001b[0m: \u001b[1;36m395\u001b[0m,\n",
       "                \u001b[32m'publish_date'\u001b[0m: \u001b[1;36m20240328\u001b[0m,\n",
       "                \u001b[32m'source'\u001b[0m: \u001b[32m'gTCU9I6QqCE'\u001b[0m,\n",
       "                \u001b[32m'thumbnail_url'\u001b[0m: \u001b[32m'https://i.ytimg.com/vi/gTCU9I6QqCE/sddefault.jpg'\u001b[0m,\n",
       "                \u001b[32m'title'\u001b[0m: \u001b[32m'RAG from scratch: Part 12 \u001b[0m\u001b[32m(\u001b[0m\u001b[32mMulti-Representation Indexing\u001b[0m\u001b[32m)\u001b[0m\u001b[32m'\u001b[0m,\n",
       "                \u001b[32m'view_count'\u001b[0m: \u001b[1;36m18094\u001b[0m\n",
       "            \u001b[1m}\u001b[0m,\n",
       "            \u001b[33mpage_content\u001b[0m=\u001b[32m'Title:\\nRAG from scratch: Part 12 \u001b[0m\u001b[32m(\u001b[0m\u001b[32mMulti-Representation Indexing\u001b[0m\u001b[32m)\u001b[0m\u001b[32m\\n\\nDescription:\\nOur \u001b[0m\n",
       "\u001b[32mRAG From Scratch '\u001b[0m+\u001b[1;36m8179\u001b[0m\n",
       "        \u001b[1m)\u001b[0m,\n",
       "        \u001b[1;35mDocument\u001b[0m\u001b[1m(\u001b[0m\n",
       "            \u001b[33mid\u001b[0m=\u001b[32m'9504d965-313e-4d44-9990-ed78146534f8'\u001b[0m,\n",
       "            \u001b[33mmetadata\u001b[0m=\u001b[1m{\u001b[0m\n",
       "                \u001b[32m'author'\u001b[0m: \u001b[32m'LangChain'\u001b[0m,\n",
       "                \u001b[32m'description'\u001b[0m: \u001b[32m'Our RAG From Scratch video series walks through impt RAG concepts in short / \u001b[0m\n",
       "\u001b[32mfocused videos w/ code.'\u001b[0m+\u001b[1;36m1588\u001b[0m,\n",
       "                \u001b[32m'length'\u001b[0m: \u001b[1;36m432\u001b[0m,\n",
       "                \u001b[32m'publish_date'\u001b[0m: \u001b[1;36m20240330\u001b[0m,\n",
       "                \u001b[32m'source'\u001b[0m: \u001b[32m'cN6S0Ehm7_8'\u001b[0m,\n",
       "                \u001b[32m'thumbnail_url'\u001b[0m: \u001b[32m'https://i.ytimg.com/vi/cN6S0Ehm7_8/sddefault.jpg'\u001b[0m,\n",
       "                \u001b[32m'title'\u001b[0m: \u001b[32m'RAG From Scratch: Part 14 \u001b[0m\u001b[32m(\u001b[0m\u001b[32mColBERT\u001b[0m\u001b[32m)\u001b[0m\u001b[32m'\u001b[0m,\n",
       "                \u001b[32m'view_count'\u001b[0m: \u001b[1;36m15852\u001b[0m\n",
       "            \u001b[1m}\u001b[0m,\n",
       "            \u001b[33mpage_content\u001b[0m=\u001b[32m'Title:\\nRAG From Scratch: Part 14 \u001b[0m\u001b[32m(\u001b[0m\u001b[32mColBERT\u001b[0m\u001b[32m)\u001b[0m\u001b[32m\\n\\nDescription:\\nOur RAG From Scratch video \u001b[0m\n",
       "\u001b[32mseries walks thr'\u001b[0m+\u001b[1;36m8822\u001b[0m\n",
       "        \u001b[1m)\u001b[0m,\n",
       "        \u001b[1;35mDocument\u001b[0m\u001b[1m(\u001b[0m\n",
       "            \u001b[33mid\u001b[0m=\u001b[32m'070071c3-8f7f-4413-8a1e-699fe4a21510'\u001b[0m,\n",
       "            \u001b[33mmetadata\u001b[0m=\u001b[1m{\u001b[0m\n",
       "                \u001b[32m'author'\u001b[0m: \u001b[32m'LangChain'\u001b[0m,\n",
       "                \u001b[32m'description'\u001b[0m: \u001b[32m'This is the 10th video in our RAG From Scratch series, focused on different types \u001b[0m\n",
       "\u001b[32mof query routing \u001b[0m\u001b[32m(\u001b[0m\u001b[32m'\u001b[0m+\u001b[1;36m235\u001b[0m,\n",
       "                \u001b[32m'length'\u001b[0m: \u001b[1;36m422\u001b[0m,\n",
       "                \u001b[32m'publish_date'\u001b[0m: \u001b[1;36m20240318\u001b[0m,\n",
       "                \u001b[32m'source'\u001b[0m: \u001b[32m'pfpIndq7Fi8'\u001b[0m,\n",
       "                \u001b[32m'thumbnail_url'\u001b[0m: \u001b[32m'https://i.ytimg.com/vi/pfpIndq7Fi8/sddefault.jpg'\u001b[0m,\n",
       "                \u001b[32m'title'\u001b[0m: \u001b[32m'RAG from scratch: Part 10 \u001b[0m\u001b[32m(\u001b[0m\u001b[32mRouting\u001b[0m\u001b[32m)\u001b[0m\u001b[32m'\u001b[0m,\n",
       "                \u001b[32m'view_count'\u001b[0m: \u001b[1;36m30805\u001b[0m\n",
       "            \u001b[1m}\u001b[0m,\n",
       "            \u001b[33mpage_content\u001b[0m=\u001b[32m'Title:\\nRAG from scratch: Part 10 \u001b[0m\u001b[32m(\u001b[0m\u001b[32mRouting\u001b[0m\u001b[32m)\u001b[0m\u001b[32m\\n\\nDescription:\\nThis is the 10th video in \u001b[0m\n",
       "\u001b[32mour RAG From Scra'\u001b[0m+\u001b[1;36m7088\u001b[0m\n",
       "        \u001b[1m)\u001b[0m\n",
       "    \u001b[1m]\u001b[0m\n",
       "\u001b[1m}\u001b[0m\n"
      ]
     },
     "metadata": {},
     "output_type": "display_data"
    },
    {
     "name": "stdout",
     "output_type": "stream",
     "text": [
      "Find tutorials with views not less than 100k\n"
     ]
    },
    {
     "data": {
      "text/html": [
       "<pre style=\"white-space:pre;overflow-x:auto;line-height:normal;font-family:Menlo,'DejaVu Sans Mono',consolas,'Courier New',monospace\"><span style=\"font-weight: bold\">{</span>\n",
       "    <span style=\"color: #008000; text-decoration-color: #008000\">'question'</span>: <span style=\"color: #008000; text-decoration-color: #008000\">'Find tutorials with views not less than 100k'</span>,\n",
       "    <span style=\"color: #008000; text-decoration-color: #008000\">'context'</span>: <span style=\"font-weight: bold\">[</span>\n",
       "        <span style=\"color: #800080; text-decoration-color: #800080; font-weight: bold\">Document</span><span style=\"font-weight: bold\">(</span>\n",
       "            <span style=\"color: #808000; text-decoration-color: #808000\">id</span>=<span style=\"color: #008000; text-decoration-color: #008000\">'40bdf725-6920-4747-9e3b-ad5cbf230b6b'</span>,\n",
       "            <span style=\"color: #808000; text-decoration-color: #808000\">metadata</span>=<span style=\"font-weight: bold\">{</span>\n",
       "                <span style=\"color: #008000; text-decoration-color: #008000\">'author'</span>: <span style=\"color: #008000; text-decoration-color: #008000\">'LangChain'</span>,\n",
       "                <span style=\"color: #008000; text-decoration-color: #008000\">'description'</span>: <span style=\"color: #008000; text-decoration-color: #008000\">'LLMs are a powerful new platform, but they are not always trained on data that is </span>\n",
       "<span style=\"color: #008000; text-decoration-color: #008000\">relevant for our t'</span>+<span style=\"color: #008080; text-decoration-color: #008080; font-weight: bold\">676</span>,\n",
       "                <span style=\"color: #008000; text-decoration-color: #008000\">'length'</span>: <span style=\"color: #008080; text-decoration-color: #008080; font-weight: bold\">313</span>,\n",
       "                <span style=\"color: #008000; text-decoration-color: #008000\">'publish_date'</span>: <span style=\"color: #008080; text-decoration-color: #008080; font-weight: bold\">20240206</span>,\n",
       "                <span style=\"color: #008000; text-decoration-color: #008000\">'source'</span>: <span style=\"color: #008000; text-decoration-color: #008000\">'wd7TZ4w1mSw'</span>,\n",
       "                <span style=\"color: #008000; text-decoration-color: #008000\">'thumbnail_url'</span>: <span style=\"color: #008000; text-decoration-color: #008000\">'https://i.ytimg.com/vi/wd7TZ4w1mSw/sddefault.jpg'</span>,\n",
       "                <span style=\"color: #008000; text-decoration-color: #008000\">'title'</span>: <span style=\"color: #008000; text-decoration-color: #008000\">'RAG From Scratch: Part 1 (Overview)'</span>,\n",
       "                <span style=\"color: #008000; text-decoration-color: #008000\">'view_count'</span>: <span style=\"color: #008080; text-decoration-color: #008080; font-weight: bold\">141730</span>\n",
       "            <span style=\"font-weight: bold\">}</span>,\n",
       "            <span style=\"color: #808000; text-decoration-color: #808000\">page_content</span>=<span style=\"color: #008000; text-decoration-color: #008000\">'Title:\\nRAG From Scratch: Part 1 (Overview)\\n\\nDescription:\\nLLMs are a powerful new </span>\n",
       "<span style=\"color: #008000; text-decoration-color: #008000\">platform, but they '</span>+<span style=\"color: #008080; text-decoration-color: #008080; font-weight: bold\">5330</span>\n",
       "        <span style=\"font-weight: bold\">)</span>\n",
       "    <span style=\"font-weight: bold\">]</span>\n",
       "<span style=\"font-weight: bold\">}</span>\n",
       "</pre>\n"
      ],
      "text/plain": [
       "\u001b[1m{\u001b[0m\n",
       "    \u001b[32m'question'\u001b[0m: \u001b[32m'Find tutorials with views not less than 100k'\u001b[0m,\n",
       "    \u001b[32m'context'\u001b[0m: \u001b[1m[\u001b[0m\n",
       "        \u001b[1;35mDocument\u001b[0m\u001b[1m(\u001b[0m\n",
       "            \u001b[33mid\u001b[0m=\u001b[32m'40bdf725-6920-4747-9e3b-ad5cbf230b6b'\u001b[0m,\n",
       "            \u001b[33mmetadata\u001b[0m=\u001b[1m{\u001b[0m\n",
       "                \u001b[32m'author'\u001b[0m: \u001b[32m'LangChain'\u001b[0m,\n",
       "                \u001b[32m'description'\u001b[0m: \u001b[32m'LLMs are a powerful new platform, but they are not always trained on data that is \u001b[0m\n",
       "\u001b[32mrelevant for our t'\u001b[0m+\u001b[1;36m676\u001b[0m,\n",
       "                \u001b[32m'length'\u001b[0m: \u001b[1;36m313\u001b[0m,\n",
       "                \u001b[32m'publish_date'\u001b[0m: \u001b[1;36m20240206\u001b[0m,\n",
       "                \u001b[32m'source'\u001b[0m: \u001b[32m'wd7TZ4w1mSw'\u001b[0m,\n",
       "                \u001b[32m'thumbnail_url'\u001b[0m: \u001b[32m'https://i.ytimg.com/vi/wd7TZ4w1mSw/sddefault.jpg'\u001b[0m,\n",
       "                \u001b[32m'title'\u001b[0m: \u001b[32m'RAG From Scratch: Part 1 \u001b[0m\u001b[32m(\u001b[0m\u001b[32mOverview\u001b[0m\u001b[32m)\u001b[0m\u001b[32m'\u001b[0m,\n",
       "                \u001b[32m'view_count'\u001b[0m: \u001b[1;36m141730\u001b[0m\n",
       "            \u001b[1m}\u001b[0m,\n",
       "            \u001b[33mpage_content\u001b[0m=\u001b[32m'Title:\\nRAG From Scratch: Part 1 \u001b[0m\u001b[32m(\u001b[0m\u001b[32mOverview\u001b[0m\u001b[32m)\u001b[0m\u001b[32m\\n\\nDescription:\\nLLMs are a powerful new \u001b[0m\n",
       "\u001b[32mplatform, but they '\u001b[0m+\u001b[1;36m5330\u001b[0m\n",
       "        \u001b[1m)\u001b[0m\n",
       "    \u001b[1m]\u001b[0m\n",
       "\u001b[1m}\u001b[0m\n"
      ]
     },
     "metadata": {},
     "output_type": "display_data"
    },
    {
     "name": "stdout",
     "output_type": "stream",
     "text": [
      "Which videos should I watch on the topic of routing\n"
     ]
    },
    {
     "data": {
      "text/html": [
       "<pre style=\"white-space:pre;overflow-x:auto;line-height:normal;font-family:Menlo,'DejaVu Sans Mono',consolas,'Courier New',monospace\"><span style=\"font-weight: bold\">{</span>\n",
       "    <span style=\"color: #008000; text-decoration-color: #008000\">'question'</span>: <span style=\"color: #008000; text-decoration-color: #008000\">'Which videos should I watch on the topic of routing'</span>,\n",
       "    <span style=\"color: #008000; text-decoration-color: #008000\">'context'</span>: <span style=\"font-weight: bold\">[</span>\n",
       "        <span style=\"color: #800080; text-decoration-color: #800080; font-weight: bold\">Document</span><span style=\"font-weight: bold\">(</span>\n",
       "            <span style=\"color: #808000; text-decoration-color: #808000\">id</span>=<span style=\"color: #008000; text-decoration-color: #008000\">'070071c3-8f7f-4413-8a1e-699fe4a21510'</span>,\n",
       "            <span style=\"color: #808000; text-decoration-color: #808000\">metadata</span>=<span style=\"font-weight: bold\">{</span>\n",
       "                <span style=\"color: #008000; text-decoration-color: #008000\">'author'</span>: <span style=\"color: #008000; text-decoration-color: #008000\">'LangChain'</span>,\n",
       "                <span style=\"color: #008000; text-decoration-color: #008000\">'description'</span>: <span style=\"color: #008000; text-decoration-color: #008000\">'This is the 10th video in our RAG From Scratch series, focused on different types </span>\n",
       "<span style=\"color: #008000; text-decoration-color: #008000\">of query routing ('</span>+<span style=\"color: #008080; text-decoration-color: #008080; font-weight: bold\">235</span>,\n",
       "                <span style=\"color: #008000; text-decoration-color: #008000\">'length'</span>: <span style=\"color: #008080; text-decoration-color: #008080; font-weight: bold\">422</span>,\n",
       "                <span style=\"color: #008000; text-decoration-color: #008000\">'publish_date'</span>: <span style=\"color: #008080; text-decoration-color: #008080; font-weight: bold\">20240318</span>,\n",
       "                <span style=\"color: #008000; text-decoration-color: #008000\">'source'</span>: <span style=\"color: #008000; text-decoration-color: #008000\">'pfpIndq7Fi8'</span>,\n",
       "                <span style=\"color: #008000; text-decoration-color: #008000\">'thumbnail_url'</span>: <span style=\"color: #008000; text-decoration-color: #008000\">'https://i.ytimg.com/vi/pfpIndq7Fi8/sddefault.jpg'</span>,\n",
       "                <span style=\"color: #008000; text-decoration-color: #008000\">'title'</span>: <span style=\"color: #008000; text-decoration-color: #008000\">'RAG from scratch: Part 10 (Routing)'</span>,\n",
       "                <span style=\"color: #008000; text-decoration-color: #008000\">'view_count'</span>: <span style=\"color: #008080; text-decoration-color: #008080; font-weight: bold\">30805</span>\n",
       "            <span style=\"font-weight: bold\">}</span>,\n",
       "            <span style=\"color: #808000; text-decoration-color: #808000\">page_content</span>=<span style=\"color: #008000; text-decoration-color: #008000\">'Title:\\nRAG from scratch: Part 10 (Routing)\\n\\nDescription:\\nThis is the 10th video in </span>\n",
       "<span style=\"color: #008000; text-decoration-color: #008000\">our RAG From Scra'</span>+<span style=\"color: #008080; text-decoration-color: #008080; font-weight: bold\">7088</span>\n",
       "        <span style=\"font-weight: bold\">)</span>,\n",
       "        <span style=\"color: #800080; text-decoration-color: #800080; font-weight: bold\">Document</span><span style=\"font-weight: bold\">(</span>\n",
       "            <span style=\"color: #808000; text-decoration-color: #808000\">id</span>=<span style=\"color: #008000; text-decoration-color: #008000\">'8f3bafbb-4c31-4340-a7f5-f3f26b363b9d'</span>,\n",
       "            <span style=\"color: #808000; text-decoration-color: #808000\">metadata</span>=<span style=\"font-weight: bold\">{</span>\n",
       "                <span style=\"color: #008000; text-decoration-color: #008000\">'author'</span>: <span style=\"color: #008000; text-decoration-color: #008000\">'LangChain'</span>,\n",
       "                <span style=\"color: #008000; text-decoration-color: #008000\">'description'</span>: <span style=\"color: #008000; text-decoration-color: #008000\">'This is the second video in our series on RAG. The aim of this series is to build </span>\n",
       "<span style=\"color: #008000; text-decoration-color: #008000\">up an understandin'</span>+<span style=\"color: #008080; text-decoration-color: #008080; font-weight: bold\">394</span>,\n",
       "                <span style=\"color: #008000; text-decoration-color: #008000\">'length'</span>: <span style=\"color: #008080; text-decoration-color: #008080; font-weight: bold\">292</span>,\n",
       "                <span style=\"color: #008000; text-decoration-color: #008000\">'publish_date'</span>: <span style=\"color: #008080; text-decoration-color: #008080; font-weight: bold\">20240206</span>,\n",
       "                <span style=\"color: #008000; text-decoration-color: #008000\">'source'</span>: <span style=\"color: #008000; text-decoration-color: #008000\">'bjb_EMsTDKI'</span>,\n",
       "                <span style=\"color: #008000; text-decoration-color: #008000\">'thumbnail_url'</span>: <span style=\"color: #008000; text-decoration-color: #008000\">'https://i.ytimg.com/vi/bjb_EMsTDKI/sddefault.jpg'</span>,\n",
       "                <span style=\"color: #008000; text-decoration-color: #008000\">'title'</span>: <span style=\"color: #008000; text-decoration-color: #008000\">'RAG From Scratch: Part 2 (Indexing)'</span>,\n",
       "                <span style=\"color: #008000; text-decoration-color: #008000\">'view_count'</span>: <span style=\"color: #008080; text-decoration-color: #008080; font-weight: bold\">57261</span>\n",
       "            <span style=\"font-weight: bold\">}</span>,\n",
       "            <span style=\"color: #808000; text-decoration-color: #808000\">page_content</span>=<span style=\"color: #008000; text-decoration-color: #008000\">'Title:\\nRAG From Scratch: Part 2 (Indexing)\\n\\nDescription:\\nThis is the second video in </span>\n",
       "<span style=\"color: #008000; text-decoration-color: #008000\">our series on R'</span>+<span style=\"color: #008080; text-decoration-color: #008080; font-weight: bold\">4749</span>\n",
       "        <span style=\"font-weight: bold\">)</span>,\n",
       "        <span style=\"color: #800080; text-decoration-color: #800080; font-weight: bold\">Document</span><span style=\"font-weight: bold\">(</span>\n",
       "            <span style=\"color: #808000; text-decoration-color: #808000\">id</span>=<span style=\"color: #008000; text-decoration-color: #008000\">'40bdf725-6920-4747-9e3b-ad5cbf230b6b'</span>,\n",
       "            <span style=\"color: #808000; text-decoration-color: #808000\">metadata</span>=<span style=\"font-weight: bold\">{</span>\n",
       "                <span style=\"color: #008000; text-decoration-color: #008000\">'author'</span>: <span style=\"color: #008000; text-decoration-color: #008000\">'LangChain'</span>,\n",
       "                <span style=\"color: #008000; text-decoration-color: #008000\">'description'</span>: <span style=\"color: #008000; text-decoration-color: #008000\">'LLMs are a powerful new platform, but they are not always trained on data that is </span>\n",
       "<span style=\"color: #008000; text-decoration-color: #008000\">relevant for our t'</span>+<span style=\"color: #008080; text-decoration-color: #008080; font-weight: bold\">676</span>,\n",
       "                <span style=\"color: #008000; text-decoration-color: #008000\">'length'</span>: <span style=\"color: #008080; text-decoration-color: #008080; font-weight: bold\">313</span>,\n",
       "                <span style=\"color: #008000; text-decoration-color: #008000\">'publish_date'</span>: <span style=\"color: #008080; text-decoration-color: #008080; font-weight: bold\">20240206</span>,\n",
       "                <span style=\"color: #008000; text-decoration-color: #008000\">'source'</span>: <span style=\"color: #008000; text-decoration-color: #008000\">'wd7TZ4w1mSw'</span>,\n",
       "                <span style=\"color: #008000; text-decoration-color: #008000\">'thumbnail_url'</span>: <span style=\"color: #008000; text-decoration-color: #008000\">'https://i.ytimg.com/vi/wd7TZ4w1mSw/sddefault.jpg'</span>,\n",
       "                <span style=\"color: #008000; text-decoration-color: #008000\">'title'</span>: <span style=\"color: #008000; text-decoration-color: #008000\">'RAG From Scratch: Part 1 (Overview)'</span>,\n",
       "                <span style=\"color: #008000; text-decoration-color: #008000\">'view_count'</span>: <span style=\"color: #008080; text-decoration-color: #008080; font-weight: bold\">141730</span>\n",
       "            <span style=\"font-weight: bold\">}</span>,\n",
       "            <span style=\"color: #808000; text-decoration-color: #808000\">page_content</span>=<span style=\"color: #008000; text-decoration-color: #008000\">'Title:\\nRAG From Scratch: Part 1 (Overview)\\n\\nDescription:\\nLLMs are a powerful new </span>\n",
       "<span style=\"color: #008000; text-decoration-color: #008000\">platform, but they '</span>+<span style=\"color: #008080; text-decoration-color: #008080; font-weight: bold\">5330</span>\n",
       "        <span style=\"font-weight: bold\">)</span>,\n",
       "        <span style=\"color: #800080; text-decoration-color: #800080; font-weight: bold\">Document</span><span style=\"font-weight: bold\">(</span>\n",
       "            <span style=\"color: #808000; text-decoration-color: #808000\">id</span>=<span style=\"color: #008000; text-decoration-color: #008000\">'20f57a6f-8258-4014-ab73-9e3a86b11298'</span>,\n",
       "            <span style=\"color: #808000; text-decoration-color: #808000\">metadata</span>=<span style=\"font-weight: bold\">{</span>\n",
       "                <span style=\"color: #008000; text-decoration-color: #008000\">'author'</span>: <span style=\"color: #008000; text-decoration-color: #008000\">'LangChain'</span>,\n",
       "                <span style=\"color: #008000; text-decoration-color: #008000\">'description'</span>: <span style=\"color: #008000; text-decoration-color: #008000\">'Our RAG From Scratch video series walks through impt RAG concepts in short / </span>\n",
       "<span style=\"color: #008000; text-decoration-color: #008000\">focused videos w/ code.'</span>+<span style=\"color: #008080; text-decoration-color: #008080; font-weight: bold\">1224</span>,\n",
       "                <span style=\"color: #008000; text-decoration-color: #008000\">'length'</span>: <span style=\"color: #008080; text-decoration-color: #008080; font-weight: bold\">359</span>,\n",
       "                <span style=\"color: #008000; text-decoration-color: #008000\">'publish_date'</span>: <span style=\"color: #008080; text-decoration-color: #008080; font-weight: bold\">20240327</span>,\n",
       "                <span style=\"color: #008000; text-decoration-color: #008000\">'source'</span>: <span style=\"color: #008000; text-decoration-color: #008000\">'kl6NwWYxvbM'</span>,\n",
       "                <span style=\"color: #008000; text-decoration-color: #008000\">'thumbnail_url'</span>: <span style=\"color: #008000; text-decoration-color: #008000\">'https://i.ytimg.com/vi/kl6NwWYxvbM/sddefault.jpg'</span>,\n",
       "                <span style=\"color: #008000; text-decoration-color: #008000\">'title'</span>: <span style=\"color: #008000; text-decoration-color: #008000\">'RAG from scratch: Part 11 (Query Structuring)'</span>,\n",
       "                <span style=\"color: #008000; text-decoration-color: #008000\">'view_count'</span>: <span style=\"color: #008080; text-decoration-color: #008080; font-weight: bold\">16351</span>\n",
       "            <span style=\"font-weight: bold\">}</span>,\n",
       "            <span style=\"color: #808000; text-decoration-color: #808000\">page_content</span>=<span style=\"color: #008000; text-decoration-color: #008000\">'Title:\\nRAG from scratch: Part 11 (Query Structuring)\\n\\nDescription:\\nOur RAG From </span>\n",
       "<span style=\"color: #008000; text-decoration-color: #008000\">Scratch video series'</span>+<span style=\"color: #008080; text-decoration-color: #008080; font-weight: bold\">7254</span>\n",
       "        <span style=\"font-weight: bold\">)</span>,\n",
       "        <span style=\"color: #800080; text-decoration-color: #800080; font-weight: bold\">Document</span><span style=\"font-weight: bold\">(</span>\n",
       "            <span style=\"color: #808000; text-decoration-color: #808000\">id</span>=<span style=\"color: #008000; text-decoration-color: #008000\">'d7c0ac2b-2518-41c2-8b60-cc70be317c07'</span>,\n",
       "            <span style=\"color: #808000; text-decoration-color: #808000\">metadata</span>=<span style=\"font-weight: bold\">{</span>\n",
       "                <span style=\"color: #008000; text-decoration-color: #008000\">'author'</span>: <span style=\"color: #008000; text-decoration-color: #008000\">'LangChain'</span>,\n",
       "                <span style=\"color: #008000; text-decoration-color: #008000\">'description'</span>: <span style=\"color: #008000; text-decoration-color: #008000\">'Our RAG From Scratch video series walks through impt RAG concepts in short / </span>\n",
       "<span style=\"color: #008000; text-decoration-color: #008000\">focused videos w/ code.'</span>+<span style=\"color: #008080; text-decoration-color: #008080; font-weight: bold\">1835</span>,\n",
       "                <span style=\"color: #008000; text-decoration-color: #008000\">'length'</span>: <span style=\"color: #008080; text-decoration-color: #008080; font-weight: bold\">395</span>,\n",
       "                <span style=\"color: #008000; text-decoration-color: #008000\">'publish_date'</span>: <span style=\"color: #008080; text-decoration-color: #008080; font-weight: bold\">20240328</span>,\n",
       "                <span style=\"color: #008000; text-decoration-color: #008000\">'source'</span>: <span style=\"color: #008000; text-decoration-color: #008000\">'gTCU9I6QqCE'</span>,\n",
       "                <span style=\"color: #008000; text-decoration-color: #008000\">'thumbnail_url'</span>: <span style=\"color: #008000; text-decoration-color: #008000\">'https://i.ytimg.com/vi/gTCU9I6QqCE/sddefault.jpg'</span>,\n",
       "                <span style=\"color: #008000; text-decoration-color: #008000\">'title'</span>: <span style=\"color: #008000; text-decoration-color: #008000\">'RAG from scratch: Part 12 (Multi-Representation Indexing)'</span>,\n",
       "                <span style=\"color: #008000; text-decoration-color: #008000\">'view_count'</span>: <span style=\"color: #008080; text-decoration-color: #008080; font-weight: bold\">18094</span>\n",
       "            <span style=\"font-weight: bold\">}</span>,\n",
       "            <span style=\"color: #808000; text-decoration-color: #808000\">page_content</span>=<span style=\"color: #008000; text-decoration-color: #008000\">'Title:\\nRAG from scratch: Part 12 (Multi-Representation Indexing)\\n\\nDescription:\\nOur </span>\n",
       "<span style=\"color: #008000; text-decoration-color: #008000\">RAG From Scratch '</span>+<span style=\"color: #008080; text-decoration-color: #008080; font-weight: bold\">8179</span>\n",
       "        <span style=\"font-weight: bold\">)</span>,\n",
       "        <span style=\"color: #800080; text-decoration-color: #800080; font-weight: bold\">Document</span><span style=\"font-weight: bold\">(</span>\n",
       "            <span style=\"color: #808000; text-decoration-color: #808000\">id</span>=<span style=\"color: #008000; text-decoration-color: #008000\">'9fc9f7a4-6444-422c-ace1-7da265c827ac'</span>,\n",
       "            <span style=\"color: #808000; text-decoration-color: #808000\">metadata</span>=<span style=\"font-weight: bold\">{</span>\n",
       "                <span style=\"color: #008000; text-decoration-color: #008000\">'author'</span>: <span style=\"color: #008000; text-decoration-color: #008000\">'LangChain'</span>,\n",
       "                <span style=\"color: #008000; text-decoration-color: #008000\">'description'</span>: <span style=\"color: #008000; text-decoration-color: #008000\">'This is the fourth video in our series on RAG. The aim of this series is to build </span>\n",
       "<span style=\"color: #008000; text-decoration-color: #008000\">up an understandin'</span>+<span style=\"color: #008080; text-decoration-color: #008080; font-weight: bold\">433</span>,\n",
       "                <span style=\"color: #008000; text-decoration-color: #008000\">'length'</span>: <span style=\"color: #008080; text-decoration-color: #008080; font-weight: bold\">385</span>,\n",
       "                <span style=\"color: #008000; text-decoration-color: #008000\">'publish_date'</span>: <span style=\"color: #008080; text-decoration-color: #008080; font-weight: bold\">20240206</span>,\n",
       "                <span style=\"color: #008000; text-decoration-color: #008000\">'source'</span>: <span style=\"color: #008000; text-decoration-color: #008000\">'Vw52xyyFsB8'</span>,\n",
       "                <span style=\"color: #008000; text-decoration-color: #008000\">'thumbnail_url'</span>: <span style=\"color: #008000; text-decoration-color: #008000\">'https://i.ytimg.com/vi/Vw52xyyFsB8/sddefault.jpg'</span>,\n",
       "                <span style=\"color: #008000; text-decoration-color: #008000\">'title'</span>: <span style=\"color: #008000; text-decoration-color: #008000\">'RAG From Scratch: Part 4 (Generation)'</span>,\n",
       "                <span style=\"color: #008000; text-decoration-color: #008000\">'view_count'</span>: <span style=\"color: #008080; text-decoration-color: #008080; font-weight: bold\">31449</span>\n",
       "            <span style=\"font-weight: bold\">}</span>,\n",
       "            <span style=\"color: #808000; text-decoration-color: #808000\">page_content</span>=<span style=\"color: #008000; text-decoration-color: #008000\">'Title:\\nRAG From Scratch: Part 4 (Generation)\\n\\nDescription:\\nThis is the fourth video </span>\n",
       "<span style=\"color: #008000; text-decoration-color: #008000\">in our series on'</span>+<span style=\"color: #008080; text-decoration-color: #008080; font-weight: bold\">6369</span>\n",
       "        <span style=\"font-weight: bold\">)</span>,\n",
       "        <span style=\"color: #800080; text-decoration-color: #800080; font-weight: bold\">Document</span><span style=\"font-weight: bold\">(</span>\n",
       "            <span style=\"color: #808000; text-decoration-color: #808000\">id</span>=<span style=\"color: #008000; text-decoration-color: #008000\">'5d1546a8-58d7-4729-b3ed-64c8c72de4c7'</span>,\n",
       "            <span style=\"color: #808000; text-decoration-color: #808000\">metadata</span>=<span style=\"font-weight: bold\">{</span>\n",
       "                <span style=\"color: #008000; text-decoration-color: #008000\">'author'</span>: <span style=\"color: #008000; text-decoration-color: #008000\">'LangChain'</span>,\n",
       "                <span style=\"color: #008000; text-decoration-color: #008000\">'description'</span>: <span style=\"color: #008000; text-decoration-color: #008000\">'Our RAG From Scratch video series walks through impt RAG concepts in short / </span>\n",
       "<span style=\"color: #008000; text-decoration-color: #008000\">focused videos w/ code.'</span>+<span style=\"color: #008080; text-decoration-color: #008080; font-weight: bold\">1026</span>,\n",
       "                <span style=\"color: #008000; text-decoration-color: #008000\">'length'</span>: <span style=\"color: #008080; text-decoration-color: #008080; font-weight: bold\">460</span>,\n",
       "                <span style=\"color: #008000; text-decoration-color: #008000\">'publish_date'</span>: <span style=\"color: #008080; text-decoration-color: #008080; font-weight: bold\">20240329</span>,\n",
       "                <span style=\"color: #008000; text-decoration-color: #008000\">'source'</span>: <span style=\"color: #008000; text-decoration-color: #008000\">'z_6EeA2LDSw'</span>,\n",
       "                <span style=\"color: #008000; text-decoration-color: #008000\">'thumbnail_url'</span>: <span style=\"color: #008000; text-decoration-color: #008000\">'https://i.ytimg.com/vi/z_6EeA2LDSw/sddefault.jpg'</span>,\n",
       "                <span style=\"color: #008000; text-decoration-color: #008000\">'title'</span>: <span style=\"color: #008000; text-decoration-color: #008000\">'RAG From Scratch: Part 13 (RAPTOR)'</span>,\n",
       "                <span style=\"color: #008000; text-decoration-color: #008000\">'view_count'</span>: <span style=\"color: #008080; text-decoration-color: #008080; font-weight: bold\">15310</span>\n",
       "            <span style=\"font-weight: bold\">}</span>,\n",
       "            <span style=\"color: #808000; text-decoration-color: #808000\">page_content</span>=<span style=\"color: #008000; text-decoration-color: #008000\">'Title:\\nRAG From Scratch: Part 13 (RAPTOR)\\n\\nDescription:\\nOur RAG From Scratch video </span>\n",
       "<span style=\"color: #008000; text-decoration-color: #008000\">series walks thro'</span>+<span style=\"color: #008080; text-decoration-color: #008080; font-weight: bold\">8444</span>\n",
       "        <span style=\"font-weight: bold\">)</span>,\n",
       "        <span style=\"color: #800080; text-decoration-color: #800080; font-weight: bold\">Document</span><span style=\"font-weight: bold\">(</span>\n",
       "            <span style=\"color: #808000; text-decoration-color: #808000\">id</span>=<span style=\"color: #008000; text-decoration-color: #008000\">'2da3f190-420c-407c-822b-3e079dcfd3b8'</span>,\n",
       "            <span style=\"color: #808000; text-decoration-color: #808000\">metadata</span>=<span style=\"font-weight: bold\">{</span>\n",
       "                <span style=\"color: #008000; text-decoration-color: #008000\">'author'</span>: <span style=\"color: #008000; text-decoration-color: #008000\">'LangChain'</span>,\n",
       "                <span style=\"color: #008000; text-decoration-color: #008000\">'description'</span>: <span style=\"color: #008000; text-decoration-color: #008000\">'Query rewriting is a popular strategy to improve retrieval. RAG-fusion is an </span>\n",
       "<span style=\"color: #008000; text-decoration-color: #008000\">approach that re-writes'</span>+<span style=\"color: #008080; text-decoration-color: #008080; font-weight: bold\">449</span>,\n",
       "                <span style=\"color: #008000; text-decoration-color: #008000\">'length'</span>: <span style=\"color: #008080; text-decoration-color: #008080; font-weight: bold\">342</span>,\n",
       "                <span style=\"color: #008000; text-decoration-color: #008000\">'publish_date'</span>: <span style=\"color: #008080; text-decoration-color: #008080; font-weight: bold\">20240214</span>,\n",
       "                <span style=\"color: #008000; text-decoration-color: #008000\">'source'</span>: <span style=\"color: #008000; text-decoration-color: #008000\">'77qELPbNgxA'</span>,\n",
       "                <span style=\"color: #008000; text-decoration-color: #008000\">'thumbnail_url'</span>: <span style=\"color: #008000; text-decoration-color: #008000\">'https://i.ytimg.com/vi/77qELPbNgxA/sddefault.jpg'</span>,\n",
       "                <span style=\"color: #008000; text-decoration-color: #008000\">'title'</span>: <span style=\"color: #008000; text-decoration-color: #008000\">'RAG from scratch: Part 6 (Query Translation -- RAG Fusion)'</span>,\n",
       "                <span style=\"color: #008000; text-decoration-color: #008000\">'view_count'</span>: <span style=\"color: #008080; text-decoration-color: #008080; font-weight: bold\">26025</span>\n",
       "            <span style=\"font-weight: bold\">}</span>,\n",
       "            <span style=\"color: #808000; text-decoration-color: #808000\">page_content</span>=<span style=\"color: #008000; text-decoration-color: #008000\">'Title:\\nRAG from scratch: Part 6 (Query Translation -- RAG Fusion)\\n\\nDescription:\\nQuery</span>\n",
       "<span style=\"color: #008000; text-decoration-color: #008000\">rewriting is a'</span>+<span style=\"color: #008080; text-decoration-color: #008080; font-weight: bold\">5233</span>\n",
       "        <span style=\"font-weight: bold\">)</span>,\n",
       "        <span style=\"color: #800080; text-decoration-color: #800080; font-weight: bold\">Document</span><span style=\"font-weight: bold\">(</span>\n",
       "            <span style=\"color: #808000; text-decoration-color: #808000\">id</span>=<span style=\"color: #008000; text-decoration-color: #008000\">'f99ea1c2-8db1-44dc-9f66-6ac0a83eea44'</span>,\n",
       "            <span style=\"color: #808000; text-decoration-color: #808000\">metadata</span>=<span style=\"font-weight: bold\">{</span>\n",
       "                <span style=\"color: #008000; text-decoration-color: #008000\">'author'</span>: <span style=\"color: #008000; text-decoration-color: #008000\">'LangChain'</span>,\n",
       "                <span style=\"color: #008000; text-decoration-color: #008000\">'description'</span>: <span style=\"color: #008000; text-decoration-color: #008000\">'HyDE (Hypothetical Document Embeddings) is an approach to improve retrieval that </span>\n",
       "<span style=\"color: #008000; text-decoration-color: #008000\">generates hypotheti'</span>+<span style=\"color: #008080; text-decoration-color: #008080; font-weight: bold\">546</span>,\n",
       "                <span style=\"color: #008000; text-decoration-color: #008000\">'length'</span>: <span style=\"color: #008080; text-decoration-color: #008080; font-weight: bold\">286</span>,\n",
       "                <span style=\"color: #008000; text-decoration-color: #008000\">'publish_date'</span>: <span style=\"color: #008080; text-decoration-color: #008080; font-weight: bold\">20240214</span>,\n",
       "                <span style=\"color: #008000; text-decoration-color: #008000\">'source'</span>: <span style=\"color: #008000; text-decoration-color: #008000\">'SaDzIVkYqyY'</span>,\n",
       "                <span style=\"color: #008000; text-decoration-color: #008000\">'thumbnail_url'</span>: <span style=\"color: #008000; text-decoration-color: #008000\">'https://i.ytimg.com/vi/SaDzIVkYqyY/sddefault.jpg'</span>,\n",
       "                <span style=\"color: #008000; text-decoration-color: #008000\">'title'</span>: <span style=\"color: #008000; text-decoration-color: #008000\">'RAG from scratch: Part 9 (Query Translation -- HyDE)'</span>,\n",
       "                <span style=\"color: #008000; text-decoration-color: #008000\">'view_count'</span>: <span style=\"color: #008080; text-decoration-color: #008080; font-weight: bold\">17129</span>\n",
       "            <span style=\"font-weight: bold\">}</span>,\n",
       "            <span style=\"color: #808000; text-decoration-color: #808000\">page_content</span>=<span style=\"color: #008000; text-decoration-color: #008000\">'Title:\\nRAG from scratch: Part 9 (Query Translation -- HyDE)\\n\\nDescription:\\nHyDE </span>\n",
       "<span style=\"color: #008000; text-decoration-color: #008000\">(Hypothetical Documen'</span>+<span style=\"color: #008080; text-decoration-color: #008080; font-weight: bold\">4928</span>\n",
       "        <span style=\"font-weight: bold\">)</span>,\n",
       "        <span style=\"color: #800080; text-decoration-color: #800080; font-weight: bold\">Document</span><span style=\"font-weight: bold\">(</span>\n",
       "            <span style=\"color: #808000; text-decoration-color: #808000\">id</span>=<span style=\"color: #008000; text-decoration-color: #008000\">'c0d336c3-4c4f-41a8-b057-5b42b21553f9'</span>,\n",
       "            <span style=\"color: #808000; text-decoration-color: #808000\">metadata</span>=<span style=\"font-weight: bold\">{</span>\n",
       "                <span style=\"color: #008000; text-decoration-color: #008000\">'author'</span>: <span style=\"color: #008000; text-decoration-color: #008000\">'LangChain'</span>,\n",
       "                <span style=\"color: #008000; text-decoration-color: #008000\">'description'</span>: <span style=\"color: #008000; text-decoration-color: #008000\">'This is the third video in our series on RAG. The aim of this series is to build up</span>\n",
       "<span style=\"color: #008000; text-decoration-color: #008000\">an understanding'</span>+<span style=\"color: #008080; text-decoration-color: #008080; font-weight: bold\">383</span>,\n",
       "                <span style=\"color: #008000; text-decoration-color: #008000\">'length'</span>: <span style=\"color: #008080; text-decoration-color: #008080; font-weight: bold\">314</span>,\n",
       "                <span style=\"color: #008000; text-decoration-color: #008000\">'publish_date'</span>: <span style=\"color: #008080; text-decoration-color: #008080; font-weight: bold\">20240206</span>,\n",
       "                <span style=\"color: #008000; text-decoration-color: #008000\">'source'</span>: <span style=\"color: #008000; text-decoration-color: #008000\">'LxNVgdIz9sU'</span>,\n",
       "                <span style=\"color: #008000; text-decoration-color: #008000\">'thumbnail_url'</span>: <span style=\"color: #008000; text-decoration-color: #008000\">'https://i.ytimg.com/vi/LxNVgdIz9sU/sddefault.jpg'</span>,\n",
       "                <span style=\"color: #008000; text-decoration-color: #008000\">'title'</span>: <span style=\"color: #008000; text-decoration-color: #008000\">'RAG From Scratch: Part 3 (Retrieval)'</span>,\n",
       "                <span style=\"color: #008000; text-decoration-color: #008000\">'view_count'</span>: <span style=\"color: #008080; text-decoration-color: #008080; font-weight: bold\">39086</span>\n",
       "            <span style=\"font-weight: bold\">}</span>,\n",
       "            <span style=\"color: #808000; text-decoration-color: #808000\">page_content</span>=<span style=\"color: #008000; text-decoration-color: #008000\">'Title:\\nRAG From Scratch: Part 3 (Retrieval)\\n\\nDescription:\\nThis is the third video in </span>\n",
       "<span style=\"color: #008000; text-decoration-color: #008000\">our series on R'</span>+<span style=\"color: #008080; text-decoration-color: #008080; font-weight: bold\">5175</span>\n",
       "        <span style=\"font-weight: bold\">)</span>,\n",
       "        <span style=\"color: #800080; text-decoration-color: #800080; font-weight: bold\">Document</span><span style=\"font-weight: bold\">(</span>\n",
       "            <span style=\"color: #808000; text-decoration-color: #808000\">id</span>=<span style=\"color: #008000; text-decoration-color: #008000\">'e0656030-ae92-4a4a-9582-24889ddaa312'</span>,\n",
       "            <span style=\"color: #808000; text-decoration-color: #808000\">metadata</span>=<span style=\"font-weight: bold\">{</span>\n",
       "                <span style=\"color: #008000; text-decoration-color: #008000\">'author'</span>: <span style=\"color: #008000; text-decoration-color: #008000\">'LangChain'</span>,\n",
       "                <span style=\"color: #008000; text-decoration-color: #008000\">'description'</span>: <span style=\"color: #008000; text-decoration-color: #008000\">'Query rewriting is a popular strategy to improve retrieval. Multi-query is an </span>\n",
       "<span style=\"color: #008000; text-decoration-color: #008000\">approach that re-write'</span>+<span style=\"color: #008080; text-decoration-color: #008080; font-weight: bold\">335</span>,\n",
       "                <span style=\"color: #008000; text-decoration-color: #008000\">'length'</span>: <span style=\"color: #008080; text-decoration-color: #008080; font-weight: bold\">369</span>,\n",
       "                <span style=\"color: #008000; text-decoration-color: #008000\">'publish_date'</span>: <span style=\"color: #008080; text-decoration-color: #008080; font-weight: bold\">20240214</span>,\n",
       "                <span style=\"color: #008000; text-decoration-color: #008000\">'source'</span>: <span style=\"color: #008000; text-decoration-color: #008000\">'JChPi0CRnDY'</span>,\n",
       "                <span style=\"color: #008000; text-decoration-color: #008000\">'thumbnail_url'</span>: <span style=\"color: #008000; text-decoration-color: #008000\">'https://i.ytimg.com/vi/JChPi0CRnDY/sddefault.jpg'</span>,\n",
       "                <span style=\"color: #008000; text-decoration-color: #008000\">'title'</span>: <span style=\"color: #008000; text-decoration-color: #008000\">'RAG from scratch: Part 5 (Query Translation -- Multi Query)'</span>,\n",
       "                <span style=\"color: #008000; text-decoration-color: #008000\">'view_count'</span>: <span style=\"color: #008080; text-decoration-color: #008080; font-weight: bold\">37710</span>\n",
       "            <span style=\"font-weight: bold\">}</span>,\n",
       "            <span style=\"color: #808000; text-decoration-color: #808000\">page_content</span>=<span style=\"color: #008000; text-decoration-color: #008000\">'Title:\\nRAG from scratch: Part 5 (Query Translation -- Multi </span>\n",
       "<span style=\"color: #008000; text-decoration-color: #008000\">Query)\\n\\nDescription:\\nQuery rewriting is '</span>+<span style=\"color: #008080; text-decoration-color: #008080; font-weight: bold\">6220</span>\n",
       "        <span style=\"font-weight: bold\">)</span>,\n",
       "        <span style=\"color: #800080; text-decoration-color: #800080; font-weight: bold\">Document</span><span style=\"font-weight: bold\">(</span>\n",
       "            <span style=\"color: #808000; text-decoration-color: #808000\">id</span>=<span style=\"color: #008000; text-decoration-color: #008000\">'9504d965-313e-4d44-9990-ed78146534f8'</span>,\n",
       "            <span style=\"color: #808000; text-decoration-color: #808000\">metadata</span>=<span style=\"font-weight: bold\">{</span>\n",
       "                <span style=\"color: #008000; text-decoration-color: #008000\">'author'</span>: <span style=\"color: #008000; text-decoration-color: #008000\">'LangChain'</span>,\n",
       "                <span style=\"color: #008000; text-decoration-color: #008000\">'description'</span>: <span style=\"color: #008000; text-decoration-color: #008000\">'Our RAG From Scratch video series walks through impt RAG concepts in short / </span>\n",
       "<span style=\"color: #008000; text-decoration-color: #008000\">focused videos w/ code.'</span>+<span style=\"color: #008080; text-decoration-color: #008080; font-weight: bold\">1588</span>,\n",
       "                <span style=\"color: #008000; text-decoration-color: #008000\">'length'</span>: <span style=\"color: #008080; text-decoration-color: #008080; font-weight: bold\">432</span>,\n",
       "                <span style=\"color: #008000; text-decoration-color: #008000\">'publish_date'</span>: <span style=\"color: #008080; text-decoration-color: #008080; font-weight: bold\">20240330</span>,\n",
       "                <span style=\"color: #008000; text-decoration-color: #008000\">'source'</span>: <span style=\"color: #008000; text-decoration-color: #008000\">'cN6S0Ehm7_8'</span>,\n",
       "                <span style=\"color: #008000; text-decoration-color: #008000\">'thumbnail_url'</span>: <span style=\"color: #008000; text-decoration-color: #008000\">'https://i.ytimg.com/vi/cN6S0Ehm7_8/sddefault.jpg'</span>,\n",
       "                <span style=\"color: #008000; text-decoration-color: #008000\">'title'</span>: <span style=\"color: #008000; text-decoration-color: #008000\">'RAG From Scratch: Part 14 (ColBERT)'</span>,\n",
       "                <span style=\"color: #008000; text-decoration-color: #008000\">'view_count'</span>: <span style=\"color: #008080; text-decoration-color: #008080; font-weight: bold\">15852</span>\n",
       "            <span style=\"font-weight: bold\">}</span>,\n",
       "            <span style=\"color: #808000; text-decoration-color: #808000\">page_content</span>=<span style=\"color: #008000; text-decoration-color: #008000\">'Title:\\nRAG From Scratch: Part 14 (ColBERT)\\n\\nDescription:\\nOur RAG From Scratch video </span>\n",
       "<span style=\"color: #008000; text-decoration-color: #008000\">series walks thr'</span>+<span style=\"color: #008080; text-decoration-color: #008080; font-weight: bold\">8822</span>\n",
       "        <span style=\"font-weight: bold\">)</span>,\n",
       "        <span style=\"color: #800080; text-decoration-color: #800080; font-weight: bold\">Document</span><span style=\"font-weight: bold\">(</span>\n",
       "            <span style=\"color: #808000; text-decoration-color: #808000\">id</span>=<span style=\"color: #008000; text-decoration-color: #008000\">'f0208609-6d32-4946-b088-e093842ff1f9'</span>,\n",
       "            <span style=\"color: #808000; text-decoration-color: #808000\">metadata</span>=<span style=\"font-weight: bold\">{</span>\n",
       "                <span style=\"color: #008000; text-decoration-color: #008000\">'author'</span>: <span style=\"color: #008000; text-decoration-color: #008000\">'LangChain'</span>,\n",
       "                <span style=\"color: #008000; text-decoration-color: #008000\">'description'</span>: <span style=\"color: #008000; text-decoration-color: #008000\">'Query decomposition is a strategy to improve question-answering by breaking down a </span>\n",
       "<span style=\"color: #008000; text-decoration-color: #008000\">question into sub'</span>+<span style=\"color: #008080; text-decoration-color: #008080; font-weight: bold\">417</span>,\n",
       "                <span style=\"color: #008000; text-decoration-color: #008000\">'length'</span>: <span style=\"color: #008080; text-decoration-color: #008080; font-weight: bold\">397</span>,\n",
       "                <span style=\"color: #008000; text-decoration-color: #008000\">'publish_date'</span>: <span style=\"color: #008080; text-decoration-color: #008080; font-weight: bold\">20240218</span>,\n",
       "                <span style=\"color: #008000; text-decoration-color: #008000\">'source'</span>: <span style=\"color: #008000; text-decoration-color: #008000\">'h0OPWlEOank'</span>,\n",
       "                <span style=\"color: #008000; text-decoration-color: #008000\">'thumbnail_url'</span>: <span style=\"color: #008000; text-decoration-color: #008000\">'https://i.ytimg.com/vi/h0OPWlEOank/sddefault.jpg'</span>,\n",
       "                <span style=\"color: #008000; text-decoration-color: #008000\">'title'</span>: <span style=\"color: #008000; text-decoration-color: #008000\">'RAG from scratch: Part 7 (Query Translation -- Decomposition)'</span>,\n",
       "                <span style=\"color: #008000; text-decoration-color: #008000\">'view_count'</span>: <span style=\"color: #008080; text-decoration-color: #008080; font-weight: bold\">23864</span>\n",
       "            <span style=\"font-weight: bold\">}</span>,\n",
       "            <span style=\"color: #808000; text-decoration-color: #808000\">page_content</span>=<span style=\"color: #008000; text-decoration-color: #008000\">'Title:\\nRAG from scratch: Part 7 (Query Translation -- </span>\n",
       "<span style=\"color: #008000; text-decoration-color: #008000\">Decomposition)\\n\\nDescription:\\nQuery decompositi'</span>+<span style=\"color: #008080; text-decoration-color: #008080; font-weight: bold\">6567</span>\n",
       "        <span style=\"font-weight: bold\">)</span>,\n",
       "        <span style=\"color: #800080; text-decoration-color: #800080; font-weight: bold\">Document</span><span style=\"font-weight: bold\">(</span>\n",
       "            <span style=\"color: #808000; text-decoration-color: #808000\">id</span>=<span style=\"color: #008000; text-decoration-color: #008000\">'feeee6fb-c680-4538-a780-35590108486e'</span>,\n",
       "            <span style=\"color: #808000; text-decoration-color: #808000\">metadata</span>=<span style=\"font-weight: bold\">{</span>\n",
       "                <span style=\"color: #008000; text-decoration-color: #008000\">'author'</span>: <span style=\"color: #008000; text-decoration-color: #008000\">'LangChain'</span>,\n",
       "                <span style=\"color: #008000; text-decoration-color: #008000\">'description'</span>: <span style=\"color: #008000; text-decoration-color: #008000\">'Step-back prompting is an approach to improve retrieval that builds on </span>\n",
       "<span style=\"color: #008000; text-decoration-color: #008000\">chain-of-thought reasoning. F'</span>+<span style=\"color: #008080; text-decoration-color: #008080; font-weight: bold\">551</span>,\n",
       "                <span style=\"color: #008000; text-decoration-color: #008000\">'length'</span>: <span style=\"color: #008080; text-decoration-color: #008080; font-weight: bold\">418</span>,\n",
       "                <span style=\"color: #008000; text-decoration-color: #008000\">'publish_date'</span>: <span style=\"color: #008080; text-decoration-color: #008080; font-weight: bold\">20240214</span>,\n",
       "                <span style=\"color: #008000; text-decoration-color: #008000\">'source'</span>: <span style=\"color: #008000; text-decoration-color: #008000\">'xn1jEjRyJ2U'</span>,\n",
       "                <span style=\"color: #008000; text-decoration-color: #008000\">'thumbnail_url'</span>: <span style=\"color: #008000; text-decoration-color: #008000\">'https://i.ytimg.com/vi/xn1jEjRyJ2U/sddefault.jpg'</span>,\n",
       "                <span style=\"color: #008000; text-decoration-color: #008000\">'title'</span>: <span style=\"color: #008000; text-decoration-color: #008000\">'RAG from scratch: Part 8 (Query Translation -- Step Back)'</span>,\n",
       "                <span style=\"color: #008000; text-decoration-color: #008000\">'view_count'</span>: <span style=\"color: #008080; text-decoration-color: #008080; font-weight: bold\">17645</span>\n",
       "            <span style=\"font-weight: bold\">}</span>,\n",
       "            <span style=\"color: #808000; text-decoration-color: #808000\">page_content</span>=<span style=\"color: #008000; text-decoration-color: #008000\">'Title:\\nRAG from scratch: Part 8 (Query Translation -- Step </span>\n",
       "<span style=\"color: #008000; text-decoration-color: #008000\">Back)\\n\\nDescription:\\nStep-back prompting i'</span>+<span style=\"color: #008080; text-decoration-color: #008080; font-weight: bold\">6666</span>\n",
       "        <span style=\"font-weight: bold\">)</span>\n",
       "    <span style=\"font-weight: bold\">]</span>\n",
       "<span style=\"font-weight: bold\">}</span>\n",
       "</pre>\n"
      ],
      "text/plain": [
       "\u001b[1m{\u001b[0m\n",
       "    \u001b[32m'question'\u001b[0m: \u001b[32m'Which videos should I watch on the topic of routing'\u001b[0m,\n",
       "    \u001b[32m'context'\u001b[0m: \u001b[1m[\u001b[0m\n",
       "        \u001b[1;35mDocument\u001b[0m\u001b[1m(\u001b[0m\n",
       "            \u001b[33mid\u001b[0m=\u001b[32m'070071c3-8f7f-4413-8a1e-699fe4a21510'\u001b[0m,\n",
       "            \u001b[33mmetadata\u001b[0m=\u001b[1m{\u001b[0m\n",
       "                \u001b[32m'author'\u001b[0m: \u001b[32m'LangChain'\u001b[0m,\n",
       "                \u001b[32m'description'\u001b[0m: \u001b[32m'This is the 10th video in our RAG From Scratch series, focused on different types \u001b[0m\n",
       "\u001b[32mof query routing \u001b[0m\u001b[32m(\u001b[0m\u001b[32m'\u001b[0m+\u001b[1;36m235\u001b[0m,\n",
       "                \u001b[32m'length'\u001b[0m: \u001b[1;36m422\u001b[0m,\n",
       "                \u001b[32m'publish_date'\u001b[0m: \u001b[1;36m20240318\u001b[0m,\n",
       "                \u001b[32m'source'\u001b[0m: \u001b[32m'pfpIndq7Fi8'\u001b[0m,\n",
       "                \u001b[32m'thumbnail_url'\u001b[0m: \u001b[32m'https://i.ytimg.com/vi/pfpIndq7Fi8/sddefault.jpg'\u001b[0m,\n",
       "                \u001b[32m'title'\u001b[0m: \u001b[32m'RAG from scratch: Part 10 \u001b[0m\u001b[32m(\u001b[0m\u001b[32mRouting\u001b[0m\u001b[32m)\u001b[0m\u001b[32m'\u001b[0m,\n",
       "                \u001b[32m'view_count'\u001b[0m: \u001b[1;36m30805\u001b[0m\n",
       "            \u001b[1m}\u001b[0m,\n",
       "            \u001b[33mpage_content\u001b[0m=\u001b[32m'Title:\\nRAG from scratch: Part 10 \u001b[0m\u001b[32m(\u001b[0m\u001b[32mRouting\u001b[0m\u001b[32m)\u001b[0m\u001b[32m\\n\\nDescription:\\nThis is the 10th video in \u001b[0m\n",
       "\u001b[32mour RAG From Scra'\u001b[0m+\u001b[1;36m7088\u001b[0m\n",
       "        \u001b[1m)\u001b[0m,\n",
       "        \u001b[1;35mDocument\u001b[0m\u001b[1m(\u001b[0m\n",
       "            \u001b[33mid\u001b[0m=\u001b[32m'8f3bafbb-4c31-4340-a7f5-f3f26b363b9d'\u001b[0m,\n",
       "            \u001b[33mmetadata\u001b[0m=\u001b[1m{\u001b[0m\n",
       "                \u001b[32m'author'\u001b[0m: \u001b[32m'LangChain'\u001b[0m,\n",
       "                \u001b[32m'description'\u001b[0m: \u001b[32m'This is the second video in our series on RAG. The aim of this series is to build \u001b[0m\n",
       "\u001b[32mup an understandin'\u001b[0m+\u001b[1;36m394\u001b[0m,\n",
       "                \u001b[32m'length'\u001b[0m: \u001b[1;36m292\u001b[0m,\n",
       "                \u001b[32m'publish_date'\u001b[0m: \u001b[1;36m20240206\u001b[0m,\n",
       "                \u001b[32m'source'\u001b[0m: \u001b[32m'bjb_EMsTDKI'\u001b[0m,\n",
       "                \u001b[32m'thumbnail_url'\u001b[0m: \u001b[32m'https://i.ytimg.com/vi/bjb_EMsTDKI/sddefault.jpg'\u001b[0m,\n",
       "                \u001b[32m'title'\u001b[0m: \u001b[32m'RAG From Scratch: Part 2 \u001b[0m\u001b[32m(\u001b[0m\u001b[32mIndexing\u001b[0m\u001b[32m)\u001b[0m\u001b[32m'\u001b[0m,\n",
       "                \u001b[32m'view_count'\u001b[0m: \u001b[1;36m57261\u001b[0m\n",
       "            \u001b[1m}\u001b[0m,\n",
       "            \u001b[33mpage_content\u001b[0m=\u001b[32m'Title:\\nRAG From Scratch: Part 2 \u001b[0m\u001b[32m(\u001b[0m\u001b[32mIndexing\u001b[0m\u001b[32m)\u001b[0m\u001b[32m\\n\\nDescription:\\nThis is the second video in \u001b[0m\n",
       "\u001b[32mour series on R'\u001b[0m+\u001b[1;36m4749\u001b[0m\n",
       "        \u001b[1m)\u001b[0m,\n",
       "        \u001b[1;35mDocument\u001b[0m\u001b[1m(\u001b[0m\n",
       "            \u001b[33mid\u001b[0m=\u001b[32m'40bdf725-6920-4747-9e3b-ad5cbf230b6b'\u001b[0m,\n",
       "            \u001b[33mmetadata\u001b[0m=\u001b[1m{\u001b[0m\n",
       "                \u001b[32m'author'\u001b[0m: \u001b[32m'LangChain'\u001b[0m,\n",
       "                \u001b[32m'description'\u001b[0m: \u001b[32m'LLMs are a powerful new platform, but they are not always trained on data that is \u001b[0m\n",
       "\u001b[32mrelevant for our t'\u001b[0m+\u001b[1;36m676\u001b[0m,\n",
       "                \u001b[32m'length'\u001b[0m: \u001b[1;36m313\u001b[0m,\n",
       "                \u001b[32m'publish_date'\u001b[0m: \u001b[1;36m20240206\u001b[0m,\n",
       "                \u001b[32m'source'\u001b[0m: \u001b[32m'wd7TZ4w1mSw'\u001b[0m,\n",
       "                \u001b[32m'thumbnail_url'\u001b[0m: \u001b[32m'https://i.ytimg.com/vi/wd7TZ4w1mSw/sddefault.jpg'\u001b[0m,\n",
       "                \u001b[32m'title'\u001b[0m: \u001b[32m'RAG From Scratch: Part 1 \u001b[0m\u001b[32m(\u001b[0m\u001b[32mOverview\u001b[0m\u001b[32m)\u001b[0m\u001b[32m'\u001b[0m,\n",
       "                \u001b[32m'view_count'\u001b[0m: \u001b[1;36m141730\u001b[0m\n",
       "            \u001b[1m}\u001b[0m,\n",
       "            \u001b[33mpage_content\u001b[0m=\u001b[32m'Title:\\nRAG From Scratch: Part 1 \u001b[0m\u001b[32m(\u001b[0m\u001b[32mOverview\u001b[0m\u001b[32m)\u001b[0m\u001b[32m\\n\\nDescription:\\nLLMs are a powerful new \u001b[0m\n",
       "\u001b[32mplatform, but they '\u001b[0m+\u001b[1;36m5330\u001b[0m\n",
       "        \u001b[1m)\u001b[0m,\n",
       "        \u001b[1;35mDocument\u001b[0m\u001b[1m(\u001b[0m\n",
       "            \u001b[33mid\u001b[0m=\u001b[32m'20f57a6f-8258-4014-ab73-9e3a86b11298'\u001b[0m,\n",
       "            \u001b[33mmetadata\u001b[0m=\u001b[1m{\u001b[0m\n",
       "                \u001b[32m'author'\u001b[0m: \u001b[32m'LangChain'\u001b[0m,\n",
       "                \u001b[32m'description'\u001b[0m: \u001b[32m'Our RAG From Scratch video series walks through impt RAG concepts in short / \u001b[0m\n",
       "\u001b[32mfocused videos w/ code.'\u001b[0m+\u001b[1;36m1224\u001b[0m,\n",
       "                \u001b[32m'length'\u001b[0m: \u001b[1;36m359\u001b[0m,\n",
       "                \u001b[32m'publish_date'\u001b[0m: \u001b[1;36m20240327\u001b[0m,\n",
       "                \u001b[32m'source'\u001b[0m: \u001b[32m'kl6NwWYxvbM'\u001b[0m,\n",
       "                \u001b[32m'thumbnail_url'\u001b[0m: \u001b[32m'https://i.ytimg.com/vi/kl6NwWYxvbM/sddefault.jpg'\u001b[0m,\n",
       "                \u001b[32m'title'\u001b[0m: \u001b[32m'RAG from scratch: Part 11 \u001b[0m\u001b[32m(\u001b[0m\u001b[32mQuery Structuring\u001b[0m\u001b[32m)\u001b[0m\u001b[32m'\u001b[0m,\n",
       "                \u001b[32m'view_count'\u001b[0m: \u001b[1;36m16351\u001b[0m\n",
       "            \u001b[1m}\u001b[0m,\n",
       "            \u001b[33mpage_content\u001b[0m=\u001b[32m'Title:\\nRAG from scratch: Part 11 \u001b[0m\u001b[32m(\u001b[0m\u001b[32mQuery Structuring\u001b[0m\u001b[32m)\u001b[0m\u001b[32m\\n\\nDescription:\\nOur RAG From \u001b[0m\n",
       "\u001b[32mScratch video series'\u001b[0m+\u001b[1;36m7254\u001b[0m\n",
       "        \u001b[1m)\u001b[0m,\n",
       "        \u001b[1;35mDocument\u001b[0m\u001b[1m(\u001b[0m\n",
       "            \u001b[33mid\u001b[0m=\u001b[32m'd7c0ac2b-2518-41c2-8b60-cc70be317c07'\u001b[0m,\n",
       "            \u001b[33mmetadata\u001b[0m=\u001b[1m{\u001b[0m\n",
       "                \u001b[32m'author'\u001b[0m: \u001b[32m'LangChain'\u001b[0m,\n",
       "                \u001b[32m'description'\u001b[0m: \u001b[32m'Our RAG From Scratch video series walks through impt RAG concepts in short / \u001b[0m\n",
       "\u001b[32mfocused videos w/ code.'\u001b[0m+\u001b[1;36m1835\u001b[0m,\n",
       "                \u001b[32m'length'\u001b[0m: \u001b[1;36m395\u001b[0m,\n",
       "                \u001b[32m'publish_date'\u001b[0m: \u001b[1;36m20240328\u001b[0m,\n",
       "                \u001b[32m'source'\u001b[0m: \u001b[32m'gTCU9I6QqCE'\u001b[0m,\n",
       "                \u001b[32m'thumbnail_url'\u001b[0m: \u001b[32m'https://i.ytimg.com/vi/gTCU9I6QqCE/sddefault.jpg'\u001b[0m,\n",
       "                \u001b[32m'title'\u001b[0m: \u001b[32m'RAG from scratch: Part 12 \u001b[0m\u001b[32m(\u001b[0m\u001b[32mMulti-Representation Indexing\u001b[0m\u001b[32m)\u001b[0m\u001b[32m'\u001b[0m,\n",
       "                \u001b[32m'view_count'\u001b[0m: \u001b[1;36m18094\u001b[0m\n",
       "            \u001b[1m}\u001b[0m,\n",
       "            \u001b[33mpage_content\u001b[0m=\u001b[32m'Title:\\nRAG from scratch: Part 12 \u001b[0m\u001b[32m(\u001b[0m\u001b[32mMulti-Representation Indexing\u001b[0m\u001b[32m)\u001b[0m\u001b[32m\\n\\nDescription:\\nOur \u001b[0m\n",
       "\u001b[32mRAG From Scratch '\u001b[0m+\u001b[1;36m8179\u001b[0m\n",
       "        \u001b[1m)\u001b[0m,\n",
       "        \u001b[1;35mDocument\u001b[0m\u001b[1m(\u001b[0m\n",
       "            \u001b[33mid\u001b[0m=\u001b[32m'9fc9f7a4-6444-422c-ace1-7da265c827ac'\u001b[0m,\n",
       "            \u001b[33mmetadata\u001b[0m=\u001b[1m{\u001b[0m\n",
       "                \u001b[32m'author'\u001b[0m: \u001b[32m'LangChain'\u001b[0m,\n",
       "                \u001b[32m'description'\u001b[0m: \u001b[32m'This is the fourth video in our series on RAG. The aim of this series is to build \u001b[0m\n",
       "\u001b[32mup an understandin'\u001b[0m+\u001b[1;36m433\u001b[0m,\n",
       "                \u001b[32m'length'\u001b[0m: \u001b[1;36m385\u001b[0m,\n",
       "                \u001b[32m'publish_date'\u001b[0m: \u001b[1;36m20240206\u001b[0m,\n",
       "                \u001b[32m'source'\u001b[0m: \u001b[32m'Vw52xyyFsB8'\u001b[0m,\n",
       "                \u001b[32m'thumbnail_url'\u001b[0m: \u001b[32m'https://i.ytimg.com/vi/Vw52xyyFsB8/sddefault.jpg'\u001b[0m,\n",
       "                \u001b[32m'title'\u001b[0m: \u001b[32m'RAG From Scratch: Part 4 \u001b[0m\u001b[32m(\u001b[0m\u001b[32mGeneration\u001b[0m\u001b[32m)\u001b[0m\u001b[32m'\u001b[0m,\n",
       "                \u001b[32m'view_count'\u001b[0m: \u001b[1;36m31449\u001b[0m\n",
       "            \u001b[1m}\u001b[0m,\n",
       "            \u001b[33mpage_content\u001b[0m=\u001b[32m'Title:\\nRAG From Scratch: Part 4 \u001b[0m\u001b[32m(\u001b[0m\u001b[32mGeneration\u001b[0m\u001b[32m)\u001b[0m\u001b[32m\\n\\nDescription:\\nThis is the fourth video \u001b[0m\n",
       "\u001b[32min our series on'\u001b[0m+\u001b[1;36m6369\u001b[0m\n",
       "        \u001b[1m)\u001b[0m,\n",
       "        \u001b[1;35mDocument\u001b[0m\u001b[1m(\u001b[0m\n",
       "            \u001b[33mid\u001b[0m=\u001b[32m'5d1546a8-58d7-4729-b3ed-64c8c72de4c7'\u001b[0m,\n",
       "            \u001b[33mmetadata\u001b[0m=\u001b[1m{\u001b[0m\n",
       "                \u001b[32m'author'\u001b[0m: \u001b[32m'LangChain'\u001b[0m,\n",
       "                \u001b[32m'description'\u001b[0m: \u001b[32m'Our RAG From Scratch video series walks through impt RAG concepts in short / \u001b[0m\n",
       "\u001b[32mfocused videos w/ code.'\u001b[0m+\u001b[1;36m1026\u001b[0m,\n",
       "                \u001b[32m'length'\u001b[0m: \u001b[1;36m460\u001b[0m,\n",
       "                \u001b[32m'publish_date'\u001b[0m: \u001b[1;36m20240329\u001b[0m,\n",
       "                \u001b[32m'source'\u001b[0m: \u001b[32m'z_6EeA2LDSw'\u001b[0m,\n",
       "                \u001b[32m'thumbnail_url'\u001b[0m: \u001b[32m'https://i.ytimg.com/vi/z_6EeA2LDSw/sddefault.jpg'\u001b[0m,\n",
       "                \u001b[32m'title'\u001b[0m: \u001b[32m'RAG From Scratch: Part 13 \u001b[0m\u001b[32m(\u001b[0m\u001b[32mRAPTOR\u001b[0m\u001b[32m)\u001b[0m\u001b[32m'\u001b[0m,\n",
       "                \u001b[32m'view_count'\u001b[0m: \u001b[1;36m15310\u001b[0m\n",
       "            \u001b[1m}\u001b[0m,\n",
       "            \u001b[33mpage_content\u001b[0m=\u001b[32m'Title:\\nRAG From Scratch: Part 13 \u001b[0m\u001b[32m(\u001b[0m\u001b[32mRAPTOR\u001b[0m\u001b[32m)\u001b[0m\u001b[32m\\n\\nDescription:\\nOur RAG From Scratch video \u001b[0m\n",
       "\u001b[32mseries walks thro'\u001b[0m+\u001b[1;36m8444\u001b[0m\n",
       "        \u001b[1m)\u001b[0m,\n",
       "        \u001b[1;35mDocument\u001b[0m\u001b[1m(\u001b[0m\n",
       "            \u001b[33mid\u001b[0m=\u001b[32m'2da3f190-420c-407c-822b-3e079dcfd3b8'\u001b[0m,\n",
       "            \u001b[33mmetadata\u001b[0m=\u001b[1m{\u001b[0m\n",
       "                \u001b[32m'author'\u001b[0m: \u001b[32m'LangChain'\u001b[0m,\n",
       "                \u001b[32m'description'\u001b[0m: \u001b[32m'Query rewriting is a popular strategy to improve retrieval. RAG-fusion is an \u001b[0m\n",
       "\u001b[32mapproach that re-writes'\u001b[0m+\u001b[1;36m449\u001b[0m,\n",
       "                \u001b[32m'length'\u001b[0m: \u001b[1;36m342\u001b[0m,\n",
       "                \u001b[32m'publish_date'\u001b[0m: \u001b[1;36m20240214\u001b[0m,\n",
       "                \u001b[32m'source'\u001b[0m: \u001b[32m'77qELPbNgxA'\u001b[0m,\n",
       "                \u001b[32m'thumbnail_url'\u001b[0m: \u001b[32m'https://i.ytimg.com/vi/77qELPbNgxA/sddefault.jpg'\u001b[0m,\n",
       "                \u001b[32m'title'\u001b[0m: \u001b[32m'RAG from scratch: Part 6 \u001b[0m\u001b[32m(\u001b[0m\u001b[32mQuery Translation -- RAG Fusion\u001b[0m\u001b[32m)\u001b[0m\u001b[32m'\u001b[0m,\n",
       "                \u001b[32m'view_count'\u001b[0m: \u001b[1;36m26025\u001b[0m\n",
       "            \u001b[1m}\u001b[0m,\n",
       "            \u001b[33mpage_content\u001b[0m=\u001b[32m'Title:\\nRAG from scratch: Part 6 \u001b[0m\u001b[32m(\u001b[0m\u001b[32mQuery Translation -- RAG Fusion\u001b[0m\u001b[32m)\u001b[0m\u001b[32m\\n\\nDescription:\\nQuery\u001b[0m\n",
       "\u001b[32mrewriting is a'\u001b[0m+\u001b[1;36m5233\u001b[0m\n",
       "        \u001b[1m)\u001b[0m,\n",
       "        \u001b[1;35mDocument\u001b[0m\u001b[1m(\u001b[0m\n",
       "            \u001b[33mid\u001b[0m=\u001b[32m'f99ea1c2-8db1-44dc-9f66-6ac0a83eea44'\u001b[0m,\n",
       "            \u001b[33mmetadata\u001b[0m=\u001b[1m{\u001b[0m\n",
       "                \u001b[32m'author'\u001b[0m: \u001b[32m'LangChain'\u001b[0m,\n",
       "                \u001b[32m'description'\u001b[0m: \u001b[32m'HyDE \u001b[0m\u001b[32m(\u001b[0m\u001b[32mHypothetical Document Embeddings\u001b[0m\u001b[32m)\u001b[0m\u001b[32m is an approach to improve retrieval that \u001b[0m\n",
       "\u001b[32mgenerates hypotheti'\u001b[0m+\u001b[1;36m546\u001b[0m,\n",
       "                \u001b[32m'length'\u001b[0m: \u001b[1;36m286\u001b[0m,\n",
       "                \u001b[32m'publish_date'\u001b[0m: \u001b[1;36m20240214\u001b[0m,\n",
       "                \u001b[32m'source'\u001b[0m: \u001b[32m'SaDzIVkYqyY'\u001b[0m,\n",
       "                \u001b[32m'thumbnail_url'\u001b[0m: \u001b[32m'https://i.ytimg.com/vi/SaDzIVkYqyY/sddefault.jpg'\u001b[0m,\n",
       "                \u001b[32m'title'\u001b[0m: \u001b[32m'RAG from scratch: Part 9 \u001b[0m\u001b[32m(\u001b[0m\u001b[32mQuery Translation -- HyDE\u001b[0m\u001b[32m)\u001b[0m\u001b[32m'\u001b[0m,\n",
       "                \u001b[32m'view_count'\u001b[0m: \u001b[1;36m17129\u001b[0m\n",
       "            \u001b[1m}\u001b[0m,\n",
       "            \u001b[33mpage_content\u001b[0m=\u001b[32m'Title:\\nRAG from scratch: Part 9 \u001b[0m\u001b[32m(\u001b[0m\u001b[32mQuery Translation -- HyDE\u001b[0m\u001b[32m)\u001b[0m\u001b[32m\\n\\nDescription:\\nHyDE \u001b[0m\n",
       "\u001b[32m(\u001b[0m\u001b[32mHypothetical Documen'\u001b[0m+\u001b[1;36m4928\u001b[0m\n",
       "        \u001b[1m)\u001b[0m,\n",
       "        \u001b[1;35mDocument\u001b[0m\u001b[1m(\u001b[0m\n",
       "            \u001b[33mid\u001b[0m=\u001b[32m'c0d336c3-4c4f-41a8-b057-5b42b21553f9'\u001b[0m,\n",
       "            \u001b[33mmetadata\u001b[0m=\u001b[1m{\u001b[0m\n",
       "                \u001b[32m'author'\u001b[0m: \u001b[32m'LangChain'\u001b[0m,\n",
       "                \u001b[32m'description'\u001b[0m: \u001b[32m'This is the third video in our series on RAG. The aim of this series is to build up\u001b[0m\n",
       "\u001b[32man understanding'\u001b[0m+\u001b[1;36m383\u001b[0m,\n",
       "                \u001b[32m'length'\u001b[0m: \u001b[1;36m314\u001b[0m,\n",
       "                \u001b[32m'publish_date'\u001b[0m: \u001b[1;36m20240206\u001b[0m,\n",
       "                \u001b[32m'source'\u001b[0m: \u001b[32m'LxNVgdIz9sU'\u001b[0m,\n",
       "                \u001b[32m'thumbnail_url'\u001b[0m: \u001b[32m'https://i.ytimg.com/vi/LxNVgdIz9sU/sddefault.jpg'\u001b[0m,\n",
       "                \u001b[32m'title'\u001b[0m: \u001b[32m'RAG From Scratch: Part 3 \u001b[0m\u001b[32m(\u001b[0m\u001b[32mRetrieval\u001b[0m\u001b[32m)\u001b[0m\u001b[32m'\u001b[0m,\n",
       "                \u001b[32m'view_count'\u001b[0m: \u001b[1;36m39086\u001b[0m\n",
       "            \u001b[1m}\u001b[0m,\n",
       "            \u001b[33mpage_content\u001b[0m=\u001b[32m'Title:\\nRAG From Scratch: Part 3 \u001b[0m\u001b[32m(\u001b[0m\u001b[32mRetrieval\u001b[0m\u001b[32m)\u001b[0m\u001b[32m\\n\\nDescription:\\nThis is the third video in \u001b[0m\n",
       "\u001b[32mour series on R'\u001b[0m+\u001b[1;36m5175\u001b[0m\n",
       "        \u001b[1m)\u001b[0m,\n",
       "        \u001b[1;35mDocument\u001b[0m\u001b[1m(\u001b[0m\n",
       "            \u001b[33mid\u001b[0m=\u001b[32m'e0656030-ae92-4a4a-9582-24889ddaa312'\u001b[0m,\n",
       "            \u001b[33mmetadata\u001b[0m=\u001b[1m{\u001b[0m\n",
       "                \u001b[32m'author'\u001b[0m: \u001b[32m'LangChain'\u001b[0m,\n",
       "                \u001b[32m'description'\u001b[0m: \u001b[32m'Query rewriting is a popular strategy to improve retrieval. Multi-query is an \u001b[0m\n",
       "\u001b[32mapproach that re-write'\u001b[0m+\u001b[1;36m335\u001b[0m,\n",
       "                \u001b[32m'length'\u001b[0m: \u001b[1;36m369\u001b[0m,\n",
       "                \u001b[32m'publish_date'\u001b[0m: \u001b[1;36m20240214\u001b[0m,\n",
       "                \u001b[32m'source'\u001b[0m: \u001b[32m'JChPi0CRnDY'\u001b[0m,\n",
       "                \u001b[32m'thumbnail_url'\u001b[0m: \u001b[32m'https://i.ytimg.com/vi/JChPi0CRnDY/sddefault.jpg'\u001b[0m,\n",
       "                \u001b[32m'title'\u001b[0m: \u001b[32m'RAG from scratch: Part 5 \u001b[0m\u001b[32m(\u001b[0m\u001b[32mQuery Translation -- Multi Query\u001b[0m\u001b[32m)\u001b[0m\u001b[32m'\u001b[0m,\n",
       "                \u001b[32m'view_count'\u001b[0m: \u001b[1;36m37710\u001b[0m\n",
       "            \u001b[1m}\u001b[0m,\n",
       "            \u001b[33mpage_content\u001b[0m=\u001b[32m'Title:\\nRAG from scratch: Part 5 \u001b[0m\u001b[32m(\u001b[0m\u001b[32mQuery Translation -- Multi \u001b[0m\n",
       "\u001b[32mQuery\u001b[0m\u001b[32m)\u001b[0m\u001b[32m\\n\\nDescription:\\nQuery rewriting is '\u001b[0m+\u001b[1;36m6220\u001b[0m\n",
       "        \u001b[1m)\u001b[0m,\n",
       "        \u001b[1;35mDocument\u001b[0m\u001b[1m(\u001b[0m\n",
       "            \u001b[33mid\u001b[0m=\u001b[32m'9504d965-313e-4d44-9990-ed78146534f8'\u001b[0m,\n",
       "            \u001b[33mmetadata\u001b[0m=\u001b[1m{\u001b[0m\n",
       "                \u001b[32m'author'\u001b[0m: \u001b[32m'LangChain'\u001b[0m,\n",
       "                \u001b[32m'description'\u001b[0m: \u001b[32m'Our RAG From Scratch video series walks through impt RAG concepts in short / \u001b[0m\n",
       "\u001b[32mfocused videos w/ code.'\u001b[0m+\u001b[1;36m1588\u001b[0m,\n",
       "                \u001b[32m'length'\u001b[0m: \u001b[1;36m432\u001b[0m,\n",
       "                \u001b[32m'publish_date'\u001b[0m: \u001b[1;36m20240330\u001b[0m,\n",
       "                \u001b[32m'source'\u001b[0m: \u001b[32m'cN6S0Ehm7_8'\u001b[0m,\n",
       "                \u001b[32m'thumbnail_url'\u001b[0m: \u001b[32m'https://i.ytimg.com/vi/cN6S0Ehm7_8/sddefault.jpg'\u001b[0m,\n",
       "                \u001b[32m'title'\u001b[0m: \u001b[32m'RAG From Scratch: Part 14 \u001b[0m\u001b[32m(\u001b[0m\u001b[32mColBERT\u001b[0m\u001b[32m)\u001b[0m\u001b[32m'\u001b[0m,\n",
       "                \u001b[32m'view_count'\u001b[0m: \u001b[1;36m15852\u001b[0m\n",
       "            \u001b[1m}\u001b[0m,\n",
       "            \u001b[33mpage_content\u001b[0m=\u001b[32m'Title:\\nRAG From Scratch: Part 14 \u001b[0m\u001b[32m(\u001b[0m\u001b[32mColBERT\u001b[0m\u001b[32m)\u001b[0m\u001b[32m\\n\\nDescription:\\nOur RAG From Scratch video \u001b[0m\n",
       "\u001b[32mseries walks thr'\u001b[0m+\u001b[1;36m8822\u001b[0m\n",
       "        \u001b[1m)\u001b[0m,\n",
       "        \u001b[1;35mDocument\u001b[0m\u001b[1m(\u001b[0m\n",
       "            \u001b[33mid\u001b[0m=\u001b[32m'f0208609-6d32-4946-b088-e093842ff1f9'\u001b[0m,\n",
       "            \u001b[33mmetadata\u001b[0m=\u001b[1m{\u001b[0m\n",
       "                \u001b[32m'author'\u001b[0m: \u001b[32m'LangChain'\u001b[0m,\n",
       "                \u001b[32m'description'\u001b[0m: \u001b[32m'Query decomposition is a strategy to improve question-answering by breaking down a \u001b[0m\n",
       "\u001b[32mquestion into sub'\u001b[0m+\u001b[1;36m417\u001b[0m,\n",
       "                \u001b[32m'length'\u001b[0m: \u001b[1;36m397\u001b[0m,\n",
       "                \u001b[32m'publish_date'\u001b[0m: \u001b[1;36m20240218\u001b[0m,\n",
       "                \u001b[32m'source'\u001b[0m: \u001b[32m'h0OPWlEOank'\u001b[0m,\n",
       "                \u001b[32m'thumbnail_url'\u001b[0m: \u001b[32m'https://i.ytimg.com/vi/h0OPWlEOank/sddefault.jpg'\u001b[0m,\n",
       "                \u001b[32m'title'\u001b[0m: \u001b[32m'RAG from scratch: Part 7 \u001b[0m\u001b[32m(\u001b[0m\u001b[32mQuery Translation -- Decomposition\u001b[0m\u001b[32m)\u001b[0m\u001b[32m'\u001b[0m,\n",
       "                \u001b[32m'view_count'\u001b[0m: \u001b[1;36m23864\u001b[0m\n",
       "            \u001b[1m}\u001b[0m,\n",
       "            \u001b[33mpage_content\u001b[0m=\u001b[32m'Title:\\nRAG from scratch: Part 7 \u001b[0m\u001b[32m(\u001b[0m\u001b[32mQuery Translation -- \u001b[0m\n",
       "\u001b[32mDecomposition\u001b[0m\u001b[32m)\u001b[0m\u001b[32m\\n\\nDescription:\\nQuery decompositi'\u001b[0m+\u001b[1;36m6567\u001b[0m\n",
       "        \u001b[1m)\u001b[0m,\n",
       "        \u001b[1;35mDocument\u001b[0m\u001b[1m(\u001b[0m\n",
       "            \u001b[33mid\u001b[0m=\u001b[32m'feeee6fb-c680-4538-a780-35590108486e'\u001b[0m,\n",
       "            \u001b[33mmetadata\u001b[0m=\u001b[1m{\u001b[0m\n",
       "                \u001b[32m'author'\u001b[0m: \u001b[32m'LangChain'\u001b[0m,\n",
       "                \u001b[32m'description'\u001b[0m: \u001b[32m'Step-back prompting is an approach to improve retrieval that builds on \u001b[0m\n",
       "\u001b[32mchain-of-thought reasoning. F'\u001b[0m+\u001b[1;36m551\u001b[0m,\n",
       "                \u001b[32m'length'\u001b[0m: \u001b[1;36m418\u001b[0m,\n",
       "                \u001b[32m'publish_date'\u001b[0m: \u001b[1;36m20240214\u001b[0m,\n",
       "                \u001b[32m'source'\u001b[0m: \u001b[32m'xn1jEjRyJ2U'\u001b[0m,\n",
       "                \u001b[32m'thumbnail_url'\u001b[0m: \u001b[32m'https://i.ytimg.com/vi/xn1jEjRyJ2U/sddefault.jpg'\u001b[0m,\n",
       "                \u001b[32m'title'\u001b[0m: \u001b[32m'RAG from scratch: Part 8 \u001b[0m\u001b[32m(\u001b[0m\u001b[32mQuery Translation -- Step Back\u001b[0m\u001b[32m)\u001b[0m\u001b[32m'\u001b[0m,\n",
       "                \u001b[32m'view_count'\u001b[0m: \u001b[1;36m17645\u001b[0m\n",
       "            \u001b[1m}\u001b[0m,\n",
       "            \u001b[33mpage_content\u001b[0m=\u001b[32m'Title:\\nRAG from scratch: Part 8 \u001b[0m\u001b[32m(\u001b[0m\u001b[32mQuery Translation -- Step \u001b[0m\n",
       "\u001b[32mBack\u001b[0m\u001b[32m)\u001b[0m\u001b[32m\\n\\nDescription:\\nStep-back prompting i'\u001b[0m+\u001b[1;36m6666\u001b[0m\n",
       "        \u001b[1m)\u001b[0m\n",
       "    \u001b[1m]\u001b[0m\n",
       "\u001b[1m}\u001b[0m\n"
      ]
     },
     "metadata": {},
     "output_type": "display_data"
    },
    {
     "name": "stdout",
     "output_type": "stream",
     "text": [
      "Which 1 video should I watch on the topic of routing\n"
     ]
    },
    {
     "data": {
      "text/html": [
       "<pre style=\"white-space:pre;overflow-x:auto;line-height:normal;font-family:Menlo,'DejaVu Sans Mono',consolas,'Courier New',monospace\"><span style=\"font-weight: bold\">{</span>\n",
       "    <span style=\"color: #008000; text-decoration-color: #008000\">'question'</span>: <span style=\"color: #008000; text-decoration-color: #008000\">'Which 1 video should I watch on the topic of routing'</span>,\n",
       "    <span style=\"color: #008000; text-decoration-color: #008000\">'context'</span>: <span style=\"font-weight: bold\">[</span>\n",
       "        <span style=\"color: #800080; text-decoration-color: #800080; font-weight: bold\">Document</span><span style=\"font-weight: bold\">(</span>\n",
       "            <span style=\"color: #808000; text-decoration-color: #808000\">id</span>=<span style=\"color: #008000; text-decoration-color: #008000\">'070071c3-8f7f-4413-8a1e-699fe4a21510'</span>,\n",
       "            <span style=\"color: #808000; text-decoration-color: #808000\">metadata</span>=<span style=\"font-weight: bold\">{</span>\n",
       "                <span style=\"color: #008000; text-decoration-color: #008000\">'author'</span>: <span style=\"color: #008000; text-decoration-color: #008000\">'LangChain'</span>,\n",
       "                <span style=\"color: #008000; text-decoration-color: #008000\">'description'</span>: <span style=\"color: #008000; text-decoration-color: #008000\">'This is the 10th video in our RAG From Scratch series, focused on different types </span>\n",
       "<span style=\"color: #008000; text-decoration-color: #008000\">of query routing ('</span>+<span style=\"color: #008080; text-decoration-color: #008080; font-weight: bold\">235</span>,\n",
       "                <span style=\"color: #008000; text-decoration-color: #008000\">'length'</span>: <span style=\"color: #008080; text-decoration-color: #008080; font-weight: bold\">422</span>,\n",
       "                <span style=\"color: #008000; text-decoration-color: #008000\">'publish_date'</span>: <span style=\"color: #008080; text-decoration-color: #008080; font-weight: bold\">20240318</span>,\n",
       "                <span style=\"color: #008000; text-decoration-color: #008000\">'source'</span>: <span style=\"color: #008000; text-decoration-color: #008000\">'pfpIndq7Fi8'</span>,\n",
       "                <span style=\"color: #008000; text-decoration-color: #008000\">'thumbnail_url'</span>: <span style=\"color: #008000; text-decoration-color: #008000\">'https://i.ytimg.com/vi/pfpIndq7Fi8/sddefault.jpg'</span>,\n",
       "                <span style=\"color: #008000; text-decoration-color: #008000\">'title'</span>: <span style=\"color: #008000; text-decoration-color: #008000\">'RAG from scratch: Part 10 (Routing)'</span>,\n",
       "                <span style=\"color: #008000; text-decoration-color: #008000\">'view_count'</span>: <span style=\"color: #008080; text-decoration-color: #008080; font-weight: bold\">30805</span>\n",
       "            <span style=\"font-weight: bold\">}</span>,\n",
       "            <span style=\"color: #808000; text-decoration-color: #808000\">page_content</span>=<span style=\"color: #008000; text-decoration-color: #008000\">'Title:\\nRAG from scratch: Part 10 (Routing)\\n\\nDescription:\\nThis is the 10th video in </span>\n",
       "<span style=\"color: #008000; text-decoration-color: #008000\">our RAG From Scra'</span>+<span style=\"color: #008080; text-decoration-color: #008080; font-weight: bold\">7088</span>\n",
       "        <span style=\"font-weight: bold\">)</span>\n",
       "    <span style=\"font-weight: bold\">]</span>\n",
       "<span style=\"font-weight: bold\">}</span>\n",
       "</pre>\n"
      ],
      "text/plain": [
       "\u001b[1m{\u001b[0m\n",
       "    \u001b[32m'question'\u001b[0m: \u001b[32m'Which 1 video should I watch on the topic of routing'\u001b[0m,\n",
       "    \u001b[32m'context'\u001b[0m: \u001b[1m[\u001b[0m\n",
       "        \u001b[1;35mDocument\u001b[0m\u001b[1m(\u001b[0m\n",
       "            \u001b[33mid\u001b[0m=\u001b[32m'070071c3-8f7f-4413-8a1e-699fe4a21510'\u001b[0m,\n",
       "            \u001b[33mmetadata\u001b[0m=\u001b[1m{\u001b[0m\n",
       "                \u001b[32m'author'\u001b[0m: \u001b[32m'LangChain'\u001b[0m,\n",
       "                \u001b[32m'description'\u001b[0m: \u001b[32m'This is the 10th video in our RAG From Scratch series, focused on different types \u001b[0m\n",
       "\u001b[32mof query routing \u001b[0m\u001b[32m(\u001b[0m\u001b[32m'\u001b[0m+\u001b[1;36m235\u001b[0m,\n",
       "                \u001b[32m'length'\u001b[0m: \u001b[1;36m422\u001b[0m,\n",
       "                \u001b[32m'publish_date'\u001b[0m: \u001b[1;36m20240318\u001b[0m,\n",
       "                \u001b[32m'source'\u001b[0m: \u001b[32m'pfpIndq7Fi8'\u001b[0m,\n",
       "                \u001b[32m'thumbnail_url'\u001b[0m: \u001b[32m'https://i.ytimg.com/vi/pfpIndq7Fi8/sddefault.jpg'\u001b[0m,\n",
       "                \u001b[32m'title'\u001b[0m: \u001b[32m'RAG from scratch: Part 10 \u001b[0m\u001b[32m(\u001b[0m\u001b[32mRouting\u001b[0m\u001b[32m)\u001b[0m\u001b[32m'\u001b[0m,\n",
       "                \u001b[32m'view_count'\u001b[0m: \u001b[1;36m30805\u001b[0m\n",
       "            \u001b[1m}\u001b[0m,\n",
       "            \u001b[33mpage_content\u001b[0m=\u001b[32m'Title:\\nRAG from scratch: Part 10 \u001b[0m\u001b[32m(\u001b[0m\u001b[32mRouting\u001b[0m\u001b[32m)\u001b[0m\u001b[32m\\n\\nDescription:\\nThis is the 10th video in \u001b[0m\n",
       "\u001b[32mour RAG From Scra'\u001b[0m+\u001b[1;36m7088\u001b[0m\n",
       "        \u001b[1m)\u001b[0m\n",
       "    \u001b[1m]\u001b[0m\n",
       "\u001b[1m}\u001b[0m\n"
      ]
     },
     "metadata": {},
     "output_type": "display_data"
    }
   ],
   "source": [
    "for question in questions:\n",
    "    print(question)\n",
    "    response = graph.invoke({\"question\": question})\n",
    "    rprint(Pretty(response, max_string=100, no_wrap=False))"
   ]
  }
 ],
 "metadata": {
  "kernelspec": {
   "display_name": "Python 3 (ipykernel)",
   "language": "python",
   "name": "python3"
  },
  "language_info": {
   "codemirror_mode": {
    "name": "ipython",
    "version": 3
   },
   "file_extension": ".py",
   "mimetype": "text/x-python",
   "name": "python",
   "nbconvert_exporter": "python",
   "pygments_lexer": "ipython3",
   "version": "3.11.11"
  }
 },
 "nbformat": 4,
 "nbformat_minor": 5
}
