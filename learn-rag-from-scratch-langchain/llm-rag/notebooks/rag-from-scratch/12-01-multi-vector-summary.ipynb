{
 "cells": [
  {
   "cell_type": "code",
   "execution_count": 1,
   "id": "580c951b-6b28-47a8-9708-2efc03238f25",
   "metadata": {},
   "outputs": [],
   "source": [
    "import os\n",
    "from pathlib import Path\n",
    "import re\n",
    "\n",
    "from dotenv import find_dotenv, load_dotenv\n",
    "from IPython.display import display\n",
    "from rich import print as rprint\n",
    "from rich.markdown import Markdown\n",
    "from rich.pretty import Pretty\n",
    "from rich.text import Text"
   ]
  },
  {
   "cell_type": "code",
   "execution_count": 2,
   "id": "db0e587b-bdfa-4552-8220-64144917eb2b",
   "metadata": {},
   "outputs": [
    {
     "data": {
      "text/plain": [
       "True"
      ]
     },
     "execution_count": 2,
     "metadata": {},
     "output_type": "execute_result"
    }
   ],
   "source": [
    "load_dotenv(find_dotenv('.env'))"
   ]
  },
  {
   "cell_type": "code",
   "execution_count": 3,
   "id": "13bcb6ad-e1b8-4729-8bf3-1d871f991747",
   "metadata": {},
   "outputs": [],
   "source": [
    "os.environ[\"LANGCHAIN_PROJECT\"] = \"RAG From Scratch: Part 12-1 (Indexing - Multi-Vector (Summary))\""
   ]
  },
  {
   "cell_type": "code",
   "execution_count": 4,
   "id": "e806a94a-c35e-4acb-a0b3-c67091dfcce3",
   "metadata": {},
   "outputs": [],
   "source": [
    "DATA_PATH = Path('../../data')"
   ]
  },
  {
   "cell_type": "markdown",
   "id": "63aef84c-efb9-4612-956f-e0346bcfac2b",
   "metadata": {},
   "source": [
    "# Indexing"
   ]
  },
  {
   "cell_type": "markdown",
   "id": "676051da-a5ae-4348-abc7-8364e400396c",
   "metadata": {},
   "source": [
    "![](images/indexing-01.png)"
   ]
  },
  {
   "cell_type": "markdown",
   "id": "9ed51e36-ecac-4598-9fe6-5ba15abcbf39",
   "metadata": {},
   "source": [
    "# Part 12-1: Multi-Vector (Summary)"
   ]
  },
  {
   "cell_type": "markdown",
   "id": "13a04be8-4b40-4532-8183-67141487e2a5",
   "metadata": {},
   "source": [
    "![](images/12-01-multi-vector-summary.png)"
   ]
  },
  {
   "cell_type": "markdown",
   "id": "f6f21622-04a0-45ae-aa28-71ac8cba6fbf",
   "metadata": {},
   "source": [
    "## Configure components"
   ]
  },
  {
   "cell_type": "code",
   "execution_count": 5,
   "id": "451cf41e-0256-491f-b4f2-4ca0e8b82b61",
   "metadata": {},
   "outputs": [],
   "source": [
    "from langchain_openai import ChatOpenAI, OpenAIEmbeddings"
   ]
  },
  {
   "cell_type": "code",
   "execution_count": 6,
   "id": "1e39e7ab-64a8-43c7-a1d9-5d9267eb4bd0",
   "metadata": {},
   "outputs": [
    {
     "data": {
      "text/plain": [
       "AIMessage(content='Hello! How can I assist you today?', additional_kwargs={'refusal': None}, response_metadata={'token_usage': {'completion_tokens': 10, 'prompt_tokens': 8, 'total_tokens': 18, 'completion_tokens_details': {'accepted_prediction_tokens': 0, 'audio_tokens': 0, 'reasoning_tokens': 0, 'rejected_prediction_tokens': 0}, 'prompt_tokens_details': {'audio_tokens': 0, 'cached_tokens': 0}}, 'model_name': 'gpt-4o-mini-2024-07-18', 'system_fingerprint': 'fp_9654a743ed', 'id': 'chatcmpl-BKOvlH8Wxfv1ntq53Ighlt3tut3Gq', 'finish_reason': 'stop', 'logprobs': None}, id='run-9290585e-ba89-41bf-9e53-e06534c1ee37-0', usage_metadata={'input_tokens': 8, 'output_tokens': 10, 'total_tokens': 18, 'input_token_details': {'audio': 0, 'cache_read': 0}, 'output_token_details': {'audio': 0, 'reasoning': 0}})"
      ]
     },
     "execution_count": 6,
     "metadata": {},
     "output_type": "execute_result"
    }
   ],
   "source": [
    "llm = ChatOpenAI(\n",
    "    model=\"gpt-4o-mini\",\n",
    "    temperature=1\n",
    ")\n",
    "llm.invoke(\"Hello\")"
   ]
  },
  {
   "cell_type": "code",
   "execution_count": 7,
   "id": "9d5353b6-5ed8-4b66-bee5-a01fbba988e2",
   "metadata": {},
   "outputs": [
    {
     "data": {
      "text/plain": [
       "1536"
      ]
     },
     "execution_count": 7,
     "metadata": {},
     "output_type": "execute_result"
    }
   ],
   "source": [
    "embeddings = OpenAIEmbeddings(model=\"text-embedding-3-small\")\n",
    "len(embeddings.embed_query(\"Hello\"))"
   ]
  },
  {
   "cell_type": "markdown",
   "id": "ac755af1-1f44-4352-b360-cbb856aeb95b",
   "metadata": {},
   "source": [
    "## Load documents"
   ]
  },
  {
   "cell_type": "code",
   "execution_count": 8,
   "id": "a129af0c-9980-4f69-921b-f292892f0d53",
   "metadata": {},
   "outputs": [
    {
     "name": "stderr",
     "output_type": "stream",
     "text": [
      "USER_AGENT environment variable not set, consider setting it to identify your requests.\n"
     ]
    }
   ],
   "source": [
    "import bs4\n",
    "from langchain_community.document_loaders import WebBaseLoader"
   ]
  },
  {
   "cell_type": "code",
   "execution_count": 9,
   "id": "58745065-99f8-41e9-a045-26cbfa3f32e5",
   "metadata": {},
   "outputs": [
    {
     "data": {
      "text/plain": [
       "2"
      ]
     },
     "execution_count": 9,
     "metadata": {},
     "output_type": "execute_result"
    }
   ],
   "source": [
    "articles = [\n",
    "    \"https://lilianweng.github.io/posts/2023-06-23-agent/\",\n",
    "    \"https://lilianweng.github.io/posts/2024-02-05-human-data-quality/\",\n",
    "]\n",
    "\n",
    "loader = WebBaseLoader(\n",
    "    web_paths=articles,\n",
    "    bs_kwargs=dict(\n",
    "        parse_only=bs4.SoupStrainer(\n",
    "            class_=(\"post-content\", \"post-title\", \"post-header\")\n",
    "        )\n",
    "    ),\n",
    ")\n",
    "docs = loader.load()\n",
    "len(docs)"
   ]
  },
  {
   "cell_type": "code",
   "execution_count": 10,
   "id": "b4280f16-6d09-4c71-934f-e5fb029c37ed",
   "metadata": {},
   "outputs": [
    {
     "name": "stdout",
     "output_type": "stream",
     "text": [
      "\n",
      "\n",
      "      LLM Powered Autonomous Agents\n",
      "    \n",
      "Date: June 23, 2023  |  Estimated Reading Time: 31 min  |  Author: Lilian Weng\n",
      "\n",
      "\n",
      "Building agents with LLM (large language model) as its core controller is a cool concept. Several proof-of-concepts demos, such as AutoGPT, GPT-Engineer and BabyAGI, serve as inspiring examples. The potentiality of LLM extends beyond generating well-written copies, stories, essays and programs; it can be framed as a powerful general problem solver.\n",
      "Agent System Overview#\n",
      "In a LLM-powered autonomous agent system, LLM functions as the agent’s brain, complemented by several key components:\n",
      "\n",
      "Planning\n",
      "\n",
      "Subgoal and decomposition: The agent breaks down large tasks into smaller, manageable subgoals, enabling efficient handling of complex tasks.\n",
      "Reflection and refinement: The agent can do self-criticism and self-reflection over past actions, learn from mistakes and refine them for future steps, thereby improving the quality of final results.\n",
      "\n",
      "\n",
      "Memory\n",
      "\n",
      "Short-term memory: I \n"
     ]
    }
   ],
   "source": [
    "print(docs[0].page_content[:1000])"
   ]
  },
  {
   "cell_type": "code",
   "execution_count": 11,
   "id": "8e5042bf-4d51-47ac-b690-bc03ab6aee61",
   "metadata": {},
   "outputs": [
    {
     "name": "stdout",
     "output_type": "stream",
     "text": [
      "\n",
      "\n",
      "      Thinking about High-Quality Human Data\n",
      "    \n",
      "Date: February 5, 2024  |  Estimated Reading Time: 21 min  |  Author: Lilian Weng\n",
      "\n",
      "\n",
      "[Special thank you to Ian Kivlichan for many useful pointers (E.g. the 100+ year old Nature paper “Vox populi”) and nice feedback. 🙏 ]\n",
      "High-quality data is the fuel for modern data deep learning model training. Most of the task-specific labeled data comes from human annotation, such as classification task or RLHF labeling (which can be constructed as classification format) for LLM alignment training. Lots of ML techniques in the post can help with data quality, but fundamentally human data collection involves attention to details and careful execution. The community knows the value of high quality data, but somehow we have this subtle impression that “Everyone wants to do the model work, not the data work” (Sambasivan et al. 2021).\n",
      "\n",
      "Fig. 1. Two directions to approach high data quality.\n",
      "Human Raters ↔ Data Quality#\n",
      "Collecting human data involve a set of\n"
     ]
    }
   ],
   "source": [
    "print(docs[1].page_content[:1000])"
   ]
  },
  {
   "cell_type": "code",
   "execution_count": 12,
   "id": "58a244bc-97d8-422e-92ef-bd51cb730878",
   "metadata": {},
   "outputs": [
    {
     "data": {
      "text/plain": [
       "[43130, 29018]"
      ]
     },
     "execution_count": 12,
     "metadata": {},
     "output_type": "execute_result"
    }
   ],
   "source": [
    "[len(doc.page_content) for doc in docs]"
   ]
  },
  {
   "cell_type": "markdown",
   "id": "1cd13c1a-9180-454f-bbb4-5a3ee8dbc0e6",
   "metadata": {},
   "source": [
    "## Summarize documents"
   ]
  },
  {
   "cell_type": "code",
   "execution_count": 13,
   "id": "b2f1e0a1-a8e2-4b93-a6f9-d78a6c43d651",
   "metadata": {},
   "outputs": [],
   "source": [
    "from langchain_core.messages import HumanMessage\n",
    "from langchain_core.runnables import chain"
   ]
  },
  {
   "cell_type": "code",
   "execution_count": 14,
   "id": "42475a41-de27-4fb0-aa55-78eae097b28b",
   "metadata": {},
   "outputs": [
    {
     "name": "stdout",
     "output_type": "stream",
     "text": [
      "Summarize the following document:\n",
      "\n",
      "{doc}\n"
     ]
    }
   ],
   "source": [
    "summarization_prompt_template = \"Summarize the following document:\\n\\n{doc}\"\n",
    "print(summarization_prompt_template)"
   ]
  },
  {
   "cell_type": "code",
   "execution_count": 15,
   "id": "9d150a60-51e0-4402-bf9d-79e635ed12ea",
   "metadata": {},
   "outputs": [],
   "source": [
    "@chain\n",
    "def summarize_document(doc):\n",
    "    summarization_prompt = summarization_prompt_template.format(\n",
    "        doc=doc.page_content\n",
    "    )\n",
    "    response = llm.invoke([\n",
    "        HumanMessage(content=summarization_prompt)\n",
    "    ])\n",
    "    return response.content"
   ]
  },
  {
   "cell_type": "code",
   "execution_count": 16,
   "id": "462b12ec-4bb7-4f25-9182-670185459589",
   "metadata": {},
   "outputs": [
    {
     "data": {
      "text/html": [
       "<pre style=\"white-space:pre;overflow-x:auto;line-height:normal;font-family:Menlo,'DejaVu Sans Mono',consolas,'Courier New',monospace\">The document \"LLM Powered Autonomous Agents\" by Lilian Weng delves into the development and functioning of         \n",
       "autonomous agents utilizing large language models (LLMs) as their core control system. These agents can perform    \n",
       "complex tasks through effective planning, memory management, and tool utilization. Key highlights include:         \n",
       "\n",
       "<span style=\"color: #808000; text-decoration-color: #808000; font-weight: bold\"> 1 </span><span style=\"font-weight: bold\">Agent System Components</span>:                                                                                        \n",
       "<span style=\"color: #808000; text-decoration-color: #808000; font-weight: bold\">    • </span><span style=\"font-weight: bold\">Planning</span>: Involves breaking down tasks into subgoals through techniques like Chain of Thought (CoT) and Tree \n",
       "<span style=\"color: #808000; text-decoration-color: #808000; font-weight: bold\">      </span>of Thoughts. Agents can refine their strategies through self-reflection.                                     \n",
       "<span style=\"color: #808000; text-decoration-color: #808000; font-weight: bold\">    • </span><span style=\"font-weight: bold\">Memory</span>: Agents utilize both short-term and long-term memory, with mechanisms for in-context learning and     \n",
       "<span style=\"color: #808000; text-decoration-color: #808000; font-weight: bold\">      </span>external vector storage for retrieving data.                                                                 \n",
       "<span style=\"color: #808000; text-decoration-color: #808000; font-weight: bold\">    • </span><span style=\"font-weight: bold\">Tool Use</span>: Agents interact with external APIs to enhance information access and execution capabilities.       \n",
       "<span style=\"color: #808000; text-decoration-color: #808000; font-weight: bold\"> 2 </span><span style=\"font-weight: bold\">Task Decomposition &amp; Self-Reflection</span>:                                                                           \n",
       "<span style=\"color: #808000; text-decoration-color: #808000; font-weight: bold\">    • </span>Various strategies improve task handling and allow agents to learn from past mistakes. Techniques like ReAct,\n",
       "<span style=\"color: #808000; text-decoration-color: #808000; font-weight: bold\">      </span>Reflexion, and Chain of Hindsight focus on enhancing reasoning and improving outcomes based on feedback.     \n",
       "<span style=\"color: #808000; text-decoration-color: #808000; font-weight: bold\"> 3 </span><span style=\"font-weight: bold\">Memory Types</span>:                                                                                                   \n",
       "<span style=\"color: #808000; text-decoration-color: #808000; font-weight: bold\">    • </span>The document categorizes memory as sensory, short-term, and long-term, drawing parallels to human memory     \n",
       "<span style=\"color: #808000; text-decoration-color: #808000; font-weight: bold\">      </span>systems, explaining how LLMs process and utilize information.                                                \n",
       "<span style=\"color: #808000; text-decoration-color: #808000; font-weight: bold\"> 4 </span><span style=\"font-weight: bold\">Tool Utilization</span>:                                                                                               \n",
       "<span style=\"color: #808000; text-decoration-color: #808000; font-weight: bold\">    • </span>Examples of frameworks like MRKL, TALM, and Toolformer illustrate the integration of external tools for      \n",
       "<span style=\"color: #808000; text-decoration-color: #808000; font-weight: bold\">      </span>executing tasks. A conversation around HuggingGPT shows how LLMs can be effectively managed to execute       \n",
       "<span style=\"color: #808000; text-decoration-color: #808000; font-weight: bold\">      </span>complex tasks.                                                                                               \n",
       "<span style=\"color: #808000; text-decoration-color: #808000; font-weight: bold\"> 5 </span><span style=\"font-weight: bold\">Case Studies</span>:                                                                                                   \n",
       "<span style=\"color: #808000; text-decoration-color: #808000; font-weight: bold\">    • </span>The document showcases practical applications like ChemCrow, a science-based agent that uses expert tools,   \n",
       "<span style=\"color: #808000; text-decoration-color: #808000; font-weight: bold\">      </span>and Generative Agents, which simulate human behavior in a virtual environment, demonstrating the versatility \n",
       "<span style=\"color: #808000; text-decoration-color: #808000; font-weight: bold\">      </span>of LLM-powered agents.                                                                                       \n",
       "<span style=\"color: #808000; text-decoration-color: #808000; font-weight: bold\"> 6 </span><span style=\"font-weight: bold\">Challenges</span>:                                                                                                     \n",
       "<span style=\"color: #808000; text-decoration-color: #808000; font-weight: bold\">    • </span>Common limitations are acknowledged, including the finite context length, issues in long-term planning, and  \n",
       "<span style=\"color: #808000; text-decoration-color: #808000; font-weight: bold\">      </span>the reliability of natural language interfaces. These aspects hinder the robustness and efficacy of          \n",
       "<span style=\"color: #808000; text-decoration-color: #808000; font-weight: bold\">      </span>LLM-powered agents in real-world applications.                                                               \n",
       "<span style=\"color: #808000; text-decoration-color: #808000; font-weight: bold\"> 7 </span><span style=\"font-weight: bold\">Conclusion</span>:                                                                                                     \n",
       "<span style=\"color: #808000; text-decoration-color: #808000; font-weight: bold\">    • </span>The document emphasizes the promise and potential of LLM-powered autonomous agents, recognizing both their   \n",
       "<span style=\"color: #808000; text-decoration-color: #808000; font-weight: bold\">      </span>capabilities and the obstacles that still require addressing.                                                \n",
       "\n",
       "Overall, the text serves as a comprehensive overview of the principles and practical implementations of LLM-based  \n",
       "autonomous agents, exploring current research and developing frameworks in this emerging field.                    \n",
       "</pre>\n"
      ],
      "text/plain": [
       "The document \"LLM Powered Autonomous Agents\" by Lilian Weng delves into the development and functioning of         \n",
       "autonomous agents utilizing large language models (LLMs) as their core control system. These agents can perform    \n",
       "complex tasks through effective planning, memory management, and tool utilization. Key highlights include:         \n",
       "\n",
       "\u001b[1;33m 1 \u001b[0m\u001b[1mAgent System Components\u001b[0m:                                                                                        \n",
       "\u001b[1;33m   \u001b[0m\u001b[1;33m • \u001b[0m\u001b[1mPlanning\u001b[0m: Involves breaking down tasks into subgoals through techniques like Chain of Thought (CoT) and Tree \n",
       "\u001b[1;33m   \u001b[0m\u001b[1;33m   \u001b[0mof Thoughts. Agents can refine their strategies through self-reflection.                                     \n",
       "\u001b[1;33m   \u001b[0m\u001b[1;33m • \u001b[0m\u001b[1mMemory\u001b[0m: Agents utilize both short-term and long-term memory, with mechanisms for in-context learning and     \n",
       "\u001b[1;33m   \u001b[0m\u001b[1;33m   \u001b[0mexternal vector storage for retrieving data.                                                                 \n",
       "\u001b[1;33m   \u001b[0m\u001b[1;33m • \u001b[0m\u001b[1mTool Use\u001b[0m: Agents interact with external APIs to enhance information access and execution capabilities.       \n",
       "\u001b[1;33m 2 \u001b[0m\u001b[1mTask Decomposition & Self-Reflection\u001b[0m:                                                                           \n",
       "\u001b[1;33m   \u001b[0m\u001b[1;33m • \u001b[0mVarious strategies improve task handling and allow agents to learn from past mistakes. Techniques like ReAct,\n",
       "\u001b[1;33m   \u001b[0m\u001b[1;33m   \u001b[0mReflexion, and Chain of Hindsight focus on enhancing reasoning and improving outcomes based on feedback.     \n",
       "\u001b[1;33m 3 \u001b[0m\u001b[1mMemory Types\u001b[0m:                                                                                                   \n",
       "\u001b[1;33m   \u001b[0m\u001b[1;33m • \u001b[0mThe document categorizes memory as sensory, short-term, and long-term, drawing parallels to human memory     \n",
       "\u001b[1;33m   \u001b[0m\u001b[1;33m   \u001b[0msystems, explaining how LLMs process and utilize information.                                                \n",
       "\u001b[1;33m 4 \u001b[0m\u001b[1mTool Utilization\u001b[0m:                                                                                               \n",
       "\u001b[1;33m   \u001b[0m\u001b[1;33m • \u001b[0mExamples of frameworks like MRKL, TALM, and Toolformer illustrate the integration of external tools for      \n",
       "\u001b[1;33m   \u001b[0m\u001b[1;33m   \u001b[0mexecuting tasks. A conversation around HuggingGPT shows how LLMs can be effectively managed to execute       \n",
       "\u001b[1;33m   \u001b[0m\u001b[1;33m   \u001b[0mcomplex tasks.                                                                                               \n",
       "\u001b[1;33m 5 \u001b[0m\u001b[1mCase Studies\u001b[0m:                                                                                                   \n",
       "\u001b[1;33m   \u001b[0m\u001b[1;33m • \u001b[0mThe document showcases practical applications like ChemCrow, a science-based agent that uses expert tools,   \n",
       "\u001b[1;33m   \u001b[0m\u001b[1;33m   \u001b[0mand Generative Agents, which simulate human behavior in a virtual environment, demonstrating the versatility \n",
       "\u001b[1;33m   \u001b[0m\u001b[1;33m   \u001b[0mof LLM-powered agents.                                                                                       \n",
       "\u001b[1;33m 6 \u001b[0m\u001b[1mChallenges\u001b[0m:                                                                                                     \n",
       "\u001b[1;33m   \u001b[0m\u001b[1;33m • \u001b[0mCommon limitations are acknowledged, including the finite context length, issues in long-term planning, and  \n",
       "\u001b[1;33m   \u001b[0m\u001b[1;33m   \u001b[0mthe reliability of natural language interfaces. These aspects hinder the robustness and efficacy of          \n",
       "\u001b[1;33m   \u001b[0m\u001b[1;33m   \u001b[0mLLM-powered agents in real-world applications.                                                               \n",
       "\u001b[1;33m 7 \u001b[0m\u001b[1mConclusion\u001b[0m:                                                                                                     \n",
       "\u001b[1;33m   \u001b[0m\u001b[1;33m • \u001b[0mThe document emphasizes the promise and potential of LLM-powered autonomous agents, recognizing both their   \n",
       "\u001b[1;33m   \u001b[0m\u001b[1;33m   \u001b[0mcapabilities and the obstacles that still require addressing.                                                \n",
       "\n",
       "Overall, the text serves as a comprehensive overview of the principles and practical implementations of LLM-based  \n",
       "autonomous agents, exploring current research and developing frameworks in this emerging field.                    \n"
      ]
     },
     "metadata": {},
     "output_type": "display_data"
    },
    {
     "data": {
      "text/html": [
       "<pre style=\"white-space:pre;overflow-x:auto;line-height:normal;font-family:Menlo,'DejaVu Sans Mono',consolas,'Courier New',monospace\">====================================================================================================\n",
       "</pre>\n"
      ],
      "text/plain": [
       "====================================================================================================\n"
      ]
     },
     "metadata": {},
     "output_type": "display_data"
    },
    {
     "data": {
      "text/html": [
       "<pre style=\"white-space:pre;overflow-x:auto;line-height:normal;font-family:Menlo,'DejaVu Sans Mono',consolas,'Courier New',monospace\">The document \"Thinking about High-Quality Human Data\" by Lilian Weng discusses the importance of high-quality human\n",
       "data in the training of machine learning models, particularly deep learning models relying on human annotations. It\n",
       "emphasizes that effective data collection involves detailed task design, proper selection and training of          \n",
       "annotators, and careful data collection and integration. The author cites historical examples and research to      \n",
       "illustrate the concept of \"the wisdom of the crowd\" and the potential biases in data annotation from non-experts.  \n",
       "\n",
       "The document provides insights into the complexities of achieving data quality, highlighting methodologies for     \n",
       "assessing and improving annotation reliability, such as majority voting, inter-rater agreement measures, and       \n",
       "probabilistic graph modeling. It contrasts two paradigms in crowdsourcing annotations: the prescriptive approach,  \n",
       "which advocates for a single interpretation of data, and the descriptive approach, which encourages diverse        \n",
       "perspectives.                                                                                                      \n",
       "\n",
       "Additionally, the text details innovative ways to analyze raters' disagreements and the implications for data      \n",
       "quality. It introduces frameworks such as Jury Learning and disagreement deconvolution that improve predictive     \n",
       "models by accounting for annotators’ characteristics and differing opinions.                                       \n",
       "\n",
       "Finally, it examines techniques used in identifying mislabeled data during model training, including influence     \n",
       "functions and prediction changes during training, which help developers filter out erroneous data points.          \n",
       "\n",
       "In summary, Weng underlines that while achieving high-quality human data is crucial, it is also a complex process  \n",
       "that requires careful attention to various factors, methodologies, and the insights drawn from human behavior in   \n",
       "annotation tasks.                                                                                                  \n",
       "</pre>\n"
      ],
      "text/plain": [
       "The document \"Thinking about High-Quality Human Data\" by Lilian Weng discusses the importance of high-quality human\n",
       "data in the training of machine learning models, particularly deep learning models relying on human annotations. It\n",
       "emphasizes that effective data collection involves detailed task design, proper selection and training of          \n",
       "annotators, and careful data collection and integration. The author cites historical examples and research to      \n",
       "illustrate the concept of \"the wisdom of the crowd\" and the potential biases in data annotation from non-experts.  \n",
       "\n",
       "The document provides insights into the complexities of achieving data quality, highlighting methodologies for     \n",
       "assessing and improving annotation reliability, such as majority voting, inter-rater agreement measures, and       \n",
       "probabilistic graph modeling. It contrasts two paradigms in crowdsourcing annotations: the prescriptive approach,  \n",
       "which advocates for a single interpretation of data, and the descriptive approach, which encourages diverse        \n",
       "perspectives.                                                                                                      \n",
       "\n",
       "Additionally, the text details innovative ways to analyze raters' disagreements and the implications for data      \n",
       "quality. It introduces frameworks such as Jury Learning and disagreement deconvolution that improve predictive     \n",
       "models by accounting for annotators’ characteristics and differing opinions.                                       \n",
       "\n",
       "Finally, it examines techniques used in identifying mislabeled data during model training, including influence     \n",
       "functions and prediction changes during training, which help developers filter out erroneous data points.          \n",
       "\n",
       "In summary, Weng underlines that while achieving high-quality human data is crucial, it is also a complex process  \n",
       "that requires careful attention to various factors, methodologies, and the insights drawn from human behavior in   \n",
       "annotation tasks.                                                                                                  \n"
      ]
     },
     "metadata": {},
     "output_type": "display_data"
    },
    {
     "data": {
      "text/html": [
       "<pre style=\"white-space:pre;overflow-x:auto;line-height:normal;font-family:Menlo,'DejaVu Sans Mono',consolas,'Courier New',monospace\">====================================================================================================\n",
       "</pre>\n"
      ],
      "text/plain": [
       "====================================================================================================\n"
      ]
     },
     "metadata": {},
     "output_type": "display_data"
    }
   ],
   "source": [
    "summaries = summarize_document.batch(docs, {\"max_concurrency\": len(docs)})\n",
    "\n",
    "for summary in summaries:\n",
    "    rprint(Markdown(summary))\n",
    "    rprint('='*100)"
   ]
  },
  {
   "cell_type": "markdown",
   "id": "4e21fd3d-c42f-4d56-8793-a77a8b0ee8ac",
   "metadata": {},
   "source": [
    "## Store documents"
   ]
  },
  {
   "cell_type": "code",
   "execution_count": 17,
   "id": "f5d0342f-c075-42da-8133-3f651cb10272",
   "metadata": {},
   "outputs": [],
   "source": [
    "from operator import attrgetter\n",
    "import uuid\n",
    "\n",
    "from langchain_core.documents import Document\n",
    "from langchain_core.stores import InMemoryByteStore\n",
    "from langchain_core.vectorstores import InMemoryVectorStore\n",
    "from langchain.retrievers.multi_vector import MultiVectorRetriever"
   ]
  },
  {
   "cell_type": "code",
   "execution_count": 18,
   "id": "37f25aee-cabd-4a12-8404-98f90164557f",
   "metadata": {},
   "outputs": [
    {
     "name": "stdout",
     "output_type": "stream",
     "text": [
      "2 2\n",
      "2 2\n"
     ]
    }
   ],
   "source": [
    "vectorstore = InMemoryVectorStore(embeddings)\n",
    "store = InMemoryByteStore()\n",
    "id_key = \"doc_id\"\n",
    "\n",
    "retriever = MultiVectorRetriever(\n",
    "    vectorstore=vectorstore,\n",
    "    byte_store=store,\n",
    "    id_key=id_key,\n",
    ")\n",
    "\n",
    "doc_ids = [str(uuid.uuid4()) for _ in docs]\n",
    "\n",
    "summary_docs = [\n",
    "    Document(page_content=summary, metadata={id_key: doc_ids[i]})\n",
    "    for i, summary in enumerate(summaries)\n",
    "]\n",
    "\n",
    "retriever.vectorstore.add_documents(summary_docs)\n",
    "print(len(summary_docs), len(retriever.vectorstore.store))\n",
    "\n",
    "retriever.docstore.mset(list(zip(doc_ids, docs)))\n",
    "print(len(doc_ids), len(list(retriever.docstore.store.yield_keys())))"
   ]
  },
  {
   "cell_type": "code",
   "execution_count": 19,
   "id": "6c8bfc48-bcdf-425c-b5a2-e06061d380fb",
   "metadata": {},
   "outputs": [],
   "source": [
    "agent_query = \"What is task decomposition for LLM agents?\"\n",
    "human_data_query = \"What are main steps for collecting human data?\""
   ]
  },
  {
   "cell_type": "code",
   "execution_count": 20,
   "id": "aa1787a2-18cf-465c-91e8-ee2324a242d2",
   "metadata": {},
   "outputs": [
    {
     "data": {
      "text/html": [
       "<pre style=\"white-space:pre;overflow-x:auto;line-height:normal;font-family:Menlo,'DejaVu Sans Mono',consolas,'Courier New',monospace\"><span style=\"font-weight: bold\">[</span>\n",
       "    <span style=\"color: #800080; text-decoration-color: #800080; font-weight: bold\">Document</span><span style=\"font-weight: bold\">(</span>\n",
       "        <span style=\"color: #808000; text-decoration-color: #808000\">id</span>=<span style=\"color: #008000; text-decoration-color: #008000\">'213194f4-602f-4fc1-9959-17971b2a71ba'</span>,\n",
       "        <span style=\"color: #808000; text-decoration-color: #808000\">metadata</span>=<span style=\"font-weight: bold\">{</span><span style=\"color: #008000; text-decoration-color: #008000\">'doc_id'</span>: <span style=\"color: #008000; text-decoration-color: #008000\">'19b46fba-e616-4fd8-b299-e878d471fcd6'</span><span style=\"font-weight: bold\">}</span>,\n",
       "        <span style=\"color: #808000; text-decoration-color: #808000\">page_content</span>=<span style=\"color: #008000; text-decoration-color: #008000\">'The document \"LLM Powered Autonomous Agents\" by Lilian Weng delves into the development and </span>\n",
       "<span style=\"color: #008000; text-decoration-color: #008000\">function'</span>+<span style=\"color: #008080; text-decoration-color: #008080; font-weight: bold\">2385</span>\n",
       "    <span style=\"font-weight: bold\">)</span>,\n",
       "    <span style=\"color: #800080; text-decoration-color: #800080; font-weight: bold\">Document</span><span style=\"font-weight: bold\">(</span>\n",
       "        <span style=\"color: #808000; text-decoration-color: #808000\">id</span>=<span style=\"color: #008000; text-decoration-color: #008000\">'ad88eae6-8726-441c-9c8f-06c7f8a6b666'</span>,\n",
       "        <span style=\"color: #808000; text-decoration-color: #808000\">metadata</span>=<span style=\"font-weight: bold\">{</span><span style=\"color: #008000; text-decoration-color: #008000\">'doc_id'</span>: <span style=\"color: #008000; text-decoration-color: #008000\">'6b76c1f3-9c48-4e4f-aa1e-b5ffe67f2826'</span><span style=\"font-weight: bold\">}</span>,\n",
       "        <span style=\"color: #808000; text-decoration-color: #808000\">page_content</span>=<span style=\"color: #008000; text-decoration-color: #008000\">'The document \"Thinking about High-Quality Human Data\" by Lilian Weng discusses the importance</span>\n",
       "<span style=\"color: #008000; text-decoration-color: #008000\">of hig'</span>+<span style=\"color: #008080; text-decoration-color: #008080; font-weight: bold\">1681</span>\n",
       "    <span style=\"font-weight: bold\">)</span>\n",
       "<span style=\"font-weight: bold\">]</span>\n",
       "</pre>\n"
      ],
      "text/plain": [
       "\u001b[1m[\u001b[0m\n",
       "    \u001b[1;35mDocument\u001b[0m\u001b[1m(\u001b[0m\n",
       "        \u001b[33mid\u001b[0m=\u001b[32m'213194f4-602f-4fc1-9959-17971b2a71ba'\u001b[0m,\n",
       "        \u001b[33mmetadata\u001b[0m=\u001b[1m{\u001b[0m\u001b[32m'doc_id'\u001b[0m: \u001b[32m'19b46fba-e616-4fd8-b299-e878d471fcd6'\u001b[0m\u001b[1m}\u001b[0m,\n",
       "        \u001b[33mpage_content\u001b[0m=\u001b[32m'The document \"LLM Powered Autonomous Agents\" by Lilian Weng delves into the development and \u001b[0m\n",
       "\u001b[32mfunction'\u001b[0m+\u001b[1;36m2385\u001b[0m\n",
       "    \u001b[1m)\u001b[0m,\n",
       "    \u001b[1;35mDocument\u001b[0m\u001b[1m(\u001b[0m\n",
       "        \u001b[33mid\u001b[0m=\u001b[32m'ad88eae6-8726-441c-9c8f-06c7f8a6b666'\u001b[0m,\n",
       "        \u001b[33mmetadata\u001b[0m=\u001b[1m{\u001b[0m\u001b[32m'doc_id'\u001b[0m: \u001b[32m'6b76c1f3-9c48-4e4f-aa1e-b5ffe67f2826'\u001b[0m\u001b[1m}\u001b[0m,\n",
       "        \u001b[33mpage_content\u001b[0m=\u001b[32m'The document \"Thinking about High-Quality Human Data\" by Lilian Weng discusses the importance\u001b[0m\n",
       "\u001b[32mof hig'\u001b[0m+\u001b[1;36m1681\u001b[0m\n",
       "    \u001b[1m)\u001b[0m\n",
       "\u001b[1m]\u001b[0m\n"
      ]
     },
     "metadata": {},
     "output_type": "display_data"
    },
    {
     "data": {
      "text/html": [
       "<pre style=\"white-space:pre;overflow-x:auto;line-height:normal;font-family:Menlo,'DejaVu Sans Mono',consolas,'Courier New',monospace\"><span style=\"font-weight: bold\">[</span>\n",
       "    <span style=\"color: #800080; text-decoration-color: #800080; font-weight: bold\">Document</span><span style=\"font-weight: bold\">(</span>\n",
       "        <span style=\"color: #808000; text-decoration-color: #808000\">metadata</span>=<span style=\"font-weight: bold\">{</span><span style=\"color: #008000; text-decoration-color: #008000\">'source'</span>: <span style=\"color: #008000; text-decoration-color: #008000\">'https://lilianweng.github.io/posts/2023-06-23-agent/'</span><span style=\"font-weight: bold\">}</span>,\n",
       "        <span style=\"color: #808000; text-decoration-color: #808000\">page_content</span>=<span style=\"color: #008000; text-decoration-color: #008000\">'\\n\\n      LLM Powered Autonomous Agents\\n    \\nDate: June 23, 2023  |  Estimated Reading </span>\n",
       "<span style=\"color: #008000; text-decoration-color: #008000\">Time: 31 min  |'</span>+<span style=\"color: #008080; text-decoration-color: #008080; font-weight: bold\">43030</span>\n",
       "    <span style=\"font-weight: bold\">)</span>,\n",
       "    <span style=\"color: #800080; text-decoration-color: #800080; font-weight: bold\">Document</span><span style=\"font-weight: bold\">(</span>\n",
       "        <span style=\"color: #808000; text-decoration-color: #808000\">metadata</span>=<span style=\"font-weight: bold\">{</span><span style=\"color: #008000; text-decoration-color: #008000\">'source'</span>: <span style=\"color: #008000; text-decoration-color: #008000\">'https://lilianweng.github.io/posts/2024-02-05-human-data-quality/'</span><span style=\"font-weight: bold\">}</span>,\n",
       "        <span style=\"color: #808000; text-decoration-color: #808000\">page_content</span>=<span style=\"color: #008000; text-decoration-color: #008000\">'\\n\\n      Thinking about High-Quality Human Data\\n    \\nDate: February 5, 2024  |  Estimated </span>\n",
       "<span style=\"color: #008000; text-decoration-color: #008000\">Reading Tim'</span>+<span style=\"color: #008080; text-decoration-color: #008080; font-weight: bold\">28918</span>\n",
       "    <span style=\"font-weight: bold\">)</span>\n",
       "<span style=\"font-weight: bold\">]</span>\n",
       "</pre>\n"
      ],
      "text/plain": [
       "\u001b[1m[\u001b[0m\n",
       "    \u001b[1;35mDocument\u001b[0m\u001b[1m(\u001b[0m\n",
       "        \u001b[33mmetadata\u001b[0m=\u001b[1m{\u001b[0m\u001b[32m'source'\u001b[0m: \u001b[32m'https://lilianweng.github.io/posts/2023-06-23-agent/'\u001b[0m\u001b[1m}\u001b[0m,\n",
       "        \u001b[33mpage_content\u001b[0m=\u001b[32m'\\n\\n      LLM Powered Autonomous Agents\\n    \\nDate: June 23, 2023  |  Estimated Reading \u001b[0m\n",
       "\u001b[32mTime: 31 min  |'\u001b[0m+\u001b[1;36m43030\u001b[0m\n",
       "    \u001b[1m)\u001b[0m,\n",
       "    \u001b[1;35mDocument\u001b[0m\u001b[1m(\u001b[0m\n",
       "        \u001b[33mmetadata\u001b[0m=\u001b[1m{\u001b[0m\u001b[32m'source'\u001b[0m: \u001b[32m'https://lilianweng.github.io/posts/2024-02-05-human-data-quality/'\u001b[0m\u001b[1m}\u001b[0m,\n",
       "        \u001b[33mpage_content\u001b[0m=\u001b[32m'\\n\\n      Thinking about High-Quality Human Data\\n    \\nDate: February 5, 2024  |  Estimated \u001b[0m\n",
       "\u001b[32mReading Tim'\u001b[0m+\u001b[1;36m28918\u001b[0m\n",
       "    \u001b[1m)\u001b[0m\n",
       "\u001b[1m]\u001b[0m\n"
      ]
     },
     "metadata": {},
     "output_type": "display_data"
    }
   ],
   "source": [
    "response = retriever.vectorstore.similarity_search(agent_query)\n",
    "rprint(Pretty(response, max_string=100, no_wrap=False))\n",
    "\n",
    "response = retriever.invoke(agent_query)\n",
    "rprint(Pretty(response, max_string=100, no_wrap=False))"
   ]
  },
  {
   "cell_type": "code",
   "execution_count": 21,
   "id": "b38a12f7-9bdf-4877-8534-c3a3183391c6",
   "metadata": {},
   "outputs": [
    {
     "data": {
      "text/html": [
       "<pre style=\"white-space:pre;overflow-x:auto;line-height:normal;font-family:Menlo,'DejaVu Sans Mono',consolas,'Courier New',monospace\"><span style=\"font-weight: bold\">[</span>\n",
       "    <span style=\"color: #800080; text-decoration-color: #800080; font-weight: bold\">Document</span><span style=\"font-weight: bold\">(</span>\n",
       "        <span style=\"color: #808000; text-decoration-color: #808000\">id</span>=<span style=\"color: #008000; text-decoration-color: #008000\">'ad88eae6-8726-441c-9c8f-06c7f8a6b666'</span>,\n",
       "        <span style=\"color: #808000; text-decoration-color: #808000\">metadata</span>=<span style=\"font-weight: bold\">{</span><span style=\"color: #008000; text-decoration-color: #008000\">'doc_id'</span>: <span style=\"color: #008000; text-decoration-color: #008000\">'6b76c1f3-9c48-4e4f-aa1e-b5ffe67f2826'</span><span style=\"font-weight: bold\">}</span>,\n",
       "        <span style=\"color: #808000; text-decoration-color: #808000\">page_content</span>=<span style=\"color: #008000; text-decoration-color: #008000\">'The document \"Thinking about High-Quality Human Data\" by Lilian Weng discusses the importance</span>\n",
       "<span style=\"color: #008000; text-decoration-color: #008000\">of hig'</span>+<span style=\"color: #008080; text-decoration-color: #008080; font-weight: bold\">1681</span>\n",
       "    <span style=\"font-weight: bold\">)</span>,\n",
       "    <span style=\"color: #800080; text-decoration-color: #800080; font-weight: bold\">Document</span><span style=\"font-weight: bold\">(</span>\n",
       "        <span style=\"color: #808000; text-decoration-color: #808000\">id</span>=<span style=\"color: #008000; text-decoration-color: #008000\">'213194f4-602f-4fc1-9959-17971b2a71ba'</span>,\n",
       "        <span style=\"color: #808000; text-decoration-color: #808000\">metadata</span>=<span style=\"font-weight: bold\">{</span><span style=\"color: #008000; text-decoration-color: #008000\">'doc_id'</span>: <span style=\"color: #008000; text-decoration-color: #008000\">'19b46fba-e616-4fd8-b299-e878d471fcd6'</span><span style=\"font-weight: bold\">}</span>,\n",
       "        <span style=\"color: #808000; text-decoration-color: #808000\">page_content</span>=<span style=\"color: #008000; text-decoration-color: #008000\">'The document \"LLM Powered Autonomous Agents\" by Lilian Weng delves into the development and </span>\n",
       "<span style=\"color: #008000; text-decoration-color: #008000\">function'</span>+<span style=\"color: #008080; text-decoration-color: #008080; font-weight: bold\">2385</span>\n",
       "    <span style=\"font-weight: bold\">)</span>\n",
       "<span style=\"font-weight: bold\">]</span>\n",
       "</pre>\n"
      ],
      "text/plain": [
       "\u001b[1m[\u001b[0m\n",
       "    \u001b[1;35mDocument\u001b[0m\u001b[1m(\u001b[0m\n",
       "        \u001b[33mid\u001b[0m=\u001b[32m'ad88eae6-8726-441c-9c8f-06c7f8a6b666'\u001b[0m,\n",
       "        \u001b[33mmetadata\u001b[0m=\u001b[1m{\u001b[0m\u001b[32m'doc_id'\u001b[0m: \u001b[32m'6b76c1f3-9c48-4e4f-aa1e-b5ffe67f2826'\u001b[0m\u001b[1m}\u001b[0m,\n",
       "        \u001b[33mpage_content\u001b[0m=\u001b[32m'The document \"Thinking about High-Quality Human Data\" by Lilian Weng discusses the importance\u001b[0m\n",
       "\u001b[32mof hig'\u001b[0m+\u001b[1;36m1681\u001b[0m\n",
       "    \u001b[1m)\u001b[0m,\n",
       "    \u001b[1;35mDocument\u001b[0m\u001b[1m(\u001b[0m\n",
       "        \u001b[33mid\u001b[0m=\u001b[32m'213194f4-602f-4fc1-9959-17971b2a71ba'\u001b[0m,\n",
       "        \u001b[33mmetadata\u001b[0m=\u001b[1m{\u001b[0m\u001b[32m'doc_id'\u001b[0m: \u001b[32m'19b46fba-e616-4fd8-b299-e878d471fcd6'\u001b[0m\u001b[1m}\u001b[0m,\n",
       "        \u001b[33mpage_content\u001b[0m=\u001b[32m'The document \"LLM Powered Autonomous Agents\" by Lilian Weng delves into the development and \u001b[0m\n",
       "\u001b[32mfunction'\u001b[0m+\u001b[1;36m2385\u001b[0m\n",
       "    \u001b[1m)\u001b[0m\n",
       "\u001b[1m]\u001b[0m\n"
      ]
     },
     "metadata": {},
     "output_type": "display_data"
    },
    {
     "data": {
      "text/html": [
       "<pre style=\"white-space:pre;overflow-x:auto;line-height:normal;font-family:Menlo,'DejaVu Sans Mono',consolas,'Courier New',monospace\"><span style=\"font-weight: bold\">[</span>\n",
       "    <span style=\"color: #800080; text-decoration-color: #800080; font-weight: bold\">Document</span><span style=\"font-weight: bold\">(</span>\n",
       "        <span style=\"color: #808000; text-decoration-color: #808000\">metadata</span>=<span style=\"font-weight: bold\">{</span><span style=\"color: #008000; text-decoration-color: #008000\">'source'</span>: <span style=\"color: #008000; text-decoration-color: #008000\">'https://lilianweng.github.io/posts/2024-02-05-human-data-quality/'</span><span style=\"font-weight: bold\">}</span>,\n",
       "        <span style=\"color: #808000; text-decoration-color: #808000\">page_content</span>=<span style=\"color: #008000; text-decoration-color: #008000\">'\\n\\n      Thinking about High-Quality Human Data\\n    \\nDate: February 5, 2024  |  Estimated </span>\n",
       "<span style=\"color: #008000; text-decoration-color: #008000\">Reading Tim'</span>+<span style=\"color: #008080; text-decoration-color: #008080; font-weight: bold\">28918</span>\n",
       "    <span style=\"font-weight: bold\">)</span>,\n",
       "    <span style=\"color: #800080; text-decoration-color: #800080; font-weight: bold\">Document</span><span style=\"font-weight: bold\">(</span>\n",
       "        <span style=\"color: #808000; text-decoration-color: #808000\">metadata</span>=<span style=\"font-weight: bold\">{</span><span style=\"color: #008000; text-decoration-color: #008000\">'source'</span>: <span style=\"color: #008000; text-decoration-color: #008000\">'https://lilianweng.github.io/posts/2023-06-23-agent/'</span><span style=\"font-weight: bold\">}</span>,\n",
       "        <span style=\"color: #808000; text-decoration-color: #808000\">page_content</span>=<span style=\"color: #008000; text-decoration-color: #008000\">'\\n\\n      LLM Powered Autonomous Agents\\n    \\nDate: June 23, 2023  |  Estimated Reading </span>\n",
       "<span style=\"color: #008000; text-decoration-color: #008000\">Time: 31 min  |'</span>+<span style=\"color: #008080; text-decoration-color: #008080; font-weight: bold\">43030</span>\n",
       "    <span style=\"font-weight: bold\">)</span>\n",
       "<span style=\"font-weight: bold\">]</span>\n",
       "</pre>\n"
      ],
      "text/plain": [
       "\u001b[1m[\u001b[0m\n",
       "    \u001b[1;35mDocument\u001b[0m\u001b[1m(\u001b[0m\n",
       "        \u001b[33mmetadata\u001b[0m=\u001b[1m{\u001b[0m\u001b[32m'source'\u001b[0m: \u001b[32m'https://lilianweng.github.io/posts/2024-02-05-human-data-quality/'\u001b[0m\u001b[1m}\u001b[0m,\n",
       "        \u001b[33mpage_content\u001b[0m=\u001b[32m'\\n\\n      Thinking about High-Quality Human Data\\n    \\nDate: February 5, 2024  |  Estimated \u001b[0m\n",
       "\u001b[32mReading Tim'\u001b[0m+\u001b[1;36m28918\u001b[0m\n",
       "    \u001b[1m)\u001b[0m,\n",
       "    \u001b[1;35mDocument\u001b[0m\u001b[1m(\u001b[0m\n",
       "        \u001b[33mmetadata\u001b[0m=\u001b[1m{\u001b[0m\u001b[32m'source'\u001b[0m: \u001b[32m'https://lilianweng.github.io/posts/2023-06-23-agent/'\u001b[0m\u001b[1m}\u001b[0m,\n",
       "        \u001b[33mpage_content\u001b[0m=\u001b[32m'\\n\\n      LLM Powered Autonomous Agents\\n    \\nDate: June 23, 2023  |  Estimated Reading \u001b[0m\n",
       "\u001b[32mTime: 31 min  |'\u001b[0m+\u001b[1;36m43030\u001b[0m\n",
       "    \u001b[1m)\u001b[0m\n",
       "\u001b[1m]\u001b[0m\n"
      ]
     },
     "metadata": {},
     "output_type": "display_data"
    }
   ],
   "source": [
    "response = retriever.vectorstore.similarity_search(human_data_query)\n",
    "rprint(Pretty(response, max_string=100, no_wrap=False))\n",
    "\n",
    "response = retriever.invoke(human_data_query)\n",
    "rprint(Pretty(response, max_string=100, no_wrap=False))"
   ]
  },
  {
   "cell_type": "markdown",
   "id": "94d2ceae-3823-46c3-9246-465b7655af7d",
   "metadata": {},
   "source": [
    "## RAG"
   ]
  },
  {
   "cell_type": "code",
   "execution_count": 22,
   "id": "b4a5591c-8255-4d49-9a05-54700ac46b6a",
   "metadata": {},
   "outputs": [],
   "source": [
    "from typing import TypedDict\n",
    "\n",
    "from langchain_core.documents import Document\n",
    "from langgraph.graph import END, START, StateGraph\n",
    "from langchain_core.messages import HumanMessage"
   ]
  },
  {
   "cell_type": "code",
   "execution_count": 23,
   "id": "13eca5a4-4772-4d17-a300-550ff64e17e8",
   "metadata": {},
   "outputs": [
    {
     "name": "stdout",
     "output_type": "stream",
     "text": [
      "Answer the following question based on this context:\n",
      "\n",
      "{context}\n",
      "\n",
      "Question: {question}\n"
     ]
    }
   ],
   "source": [
    "rag_prompt_template = \"\"\"Answer the following question based on this context:\n",
    "\n",
    "{context}\n",
    "\n",
    "Question: {question}\"\"\"\n",
    "print(rag_prompt_template)"
   ]
  },
  {
   "cell_type": "code",
   "execution_count": 24,
   "id": "7c01f711-b56e-4398-8b88-20a456d7b7fb",
   "metadata": {},
   "outputs": [],
   "source": [
    "def format_docs(docs):\n",
    "    return \"\\n\\n\".join(doc.page_content for doc in docs)"
   ]
  },
  {
   "cell_type": "code",
   "execution_count": 25,
   "id": "07d68e91-f6b2-442a-b516-08bedaf0dd0e",
   "metadata": {},
   "outputs": [],
   "source": [
    "class State(TypedDict):\n",
    "    question: str\n",
    "    search_results: list[Document]\n",
    "    context: list[Document]\n",
    "    answer: str"
   ]
  },
  {
   "cell_type": "code",
   "execution_count": 26,
   "id": "f9fc6edf-1a64-4a95-b4cd-435619b0ba18",
   "metadata": {},
   "outputs": [
    {
     "data": {
      "image/png": "[encoded data removed]",
      "text/plain": [
       "<langgraph.graph.state.CompiledStateGraph object at 0x7fd881b9b050>"
      ]
     },
     "execution_count": 26,
     "metadata": {},
     "output_type": "execute_result"
    }
   ],
   "source": [
    "def retrieve(state: State):\n",
    "    search_results = retriever.vectorstore.similarity_search(state[\"question\"])\n",
    "    retrieved_docs = retriever.invoke(state[\"question\"])\n",
    "    return {\n",
    "        \"search_results\": search_results,\n",
    "        \"context\": retrieved_docs\n",
    "    }\n",
    "\n",
    "def generate(state: State):\n",
    "    docs_content = format_docs(state[\"context\"])\n",
    "    rag_prompt = rag_prompt_template.format(\n",
    "        question=state[\"question\"],\n",
    "        context=docs_content\n",
    "    )\n",
    "    response = llm.invoke([\n",
    "        HumanMessage(content=rag_prompt)\n",
    "    ])\n",
    "    return {\"answer\": response.content}\n",
    "\n",
    "\n",
    "graph_builder = StateGraph(State)\n",
    "\n",
    "graph_builder.add_node(\"retrieve\", retrieve)\n",
    "graph_builder.add_node(\"generate\", generate)\n",
    "\n",
    "graph_builder.add_edge(START, \"retrieve\")\n",
    "graph_builder.add_edge(\"retrieve\", \"generate\")\n",
    "graph_builder.add_edge(\"generate\", END)\n",
    "\n",
    "graph = graph_builder.compile()\n",
    "graph"
   ]
  },
  {
   "cell_type": "code",
   "execution_count": 27,
   "id": "d07cd5e8-dd99-4539-b1f6-1beeefb656ed",
   "metadata": {},
   "outputs": [
    {
     "name": "stdout",
     "output_type": "stream",
     "text": [
      "What is task decomposition for LLM agents?\n"
     ]
    },
    {
     "data": {
      "text/html": [
       "<pre style=\"white-space:pre;overflow-x:auto;line-height:normal;font-family:Menlo,'DejaVu Sans Mono',consolas,'Courier New',monospace\"><span style=\"font-weight: bold\">{</span>\n",
       "    <span style=\"color: #008000; text-decoration-color: #008000\">'question'</span>: <span style=\"color: #008000; text-decoration-color: #008000\">'What is task decomposition for LLM agents?'</span>,\n",
       "    <span style=\"color: #008000; text-decoration-color: #008000\">'search_results'</span>: <span style=\"font-weight: bold\">[</span>\n",
       "        <span style=\"color: #800080; text-decoration-color: #800080; font-weight: bold\">Document</span><span style=\"font-weight: bold\">(</span>\n",
       "            <span style=\"color: #808000; text-decoration-color: #808000\">id</span>=<span style=\"color: #008000; text-decoration-color: #008000\">'213194f4-602f-4fc1-9959-17971b2a71ba'</span>,\n",
       "            <span style=\"color: #808000; text-decoration-color: #808000\">metadata</span>=<span style=\"font-weight: bold\">{</span><span style=\"color: #008000; text-decoration-color: #008000\">'doc_id'</span>: <span style=\"color: #008000; text-decoration-color: #008000\">'19b46fba-e616-4fd8-b299-e878d471fcd6'</span><span style=\"font-weight: bold\">}</span>,\n",
       "            <span style=\"color: #808000; text-decoration-color: #808000\">page_content</span>=<span style=\"color: #008000; text-decoration-color: #008000\">'The document \"LLM Powered Autonomous Agents\" by Lilian Weng delves into the development </span>\n",
       "<span style=\"color: #008000; text-decoration-color: #008000\">and function'</span>+<span style=\"color: #008080; text-decoration-color: #008080; font-weight: bold\">2385</span>\n",
       "        <span style=\"font-weight: bold\">)</span>,\n",
       "        <span style=\"color: #800080; text-decoration-color: #800080; font-weight: bold\">Document</span><span style=\"font-weight: bold\">(</span>\n",
       "            <span style=\"color: #808000; text-decoration-color: #808000\">id</span>=<span style=\"color: #008000; text-decoration-color: #008000\">'ad88eae6-8726-441c-9c8f-06c7f8a6b666'</span>,\n",
       "            <span style=\"color: #808000; text-decoration-color: #808000\">metadata</span>=<span style=\"font-weight: bold\">{</span><span style=\"color: #008000; text-decoration-color: #008000\">'doc_id'</span>: <span style=\"color: #008000; text-decoration-color: #008000\">'6b76c1f3-9c48-4e4f-aa1e-b5ffe67f2826'</span><span style=\"font-weight: bold\">}</span>,\n",
       "            <span style=\"color: #808000; text-decoration-color: #808000\">page_content</span>=<span style=\"color: #008000; text-decoration-color: #008000\">'The document \"Thinking about High-Quality Human Data\" by Lilian Weng discusses the </span>\n",
       "<span style=\"color: #008000; text-decoration-color: #008000\">importance of hig'</span>+<span style=\"color: #008080; text-decoration-color: #008080; font-weight: bold\">1681</span>\n",
       "        <span style=\"font-weight: bold\">)</span>\n",
       "    <span style=\"font-weight: bold\">]</span>,\n",
       "    <span style=\"color: #008000; text-decoration-color: #008000\">'context'</span>: <span style=\"font-weight: bold\">[</span>\n",
       "        <span style=\"color: #800080; text-decoration-color: #800080; font-weight: bold\">Document</span><span style=\"font-weight: bold\">(</span>\n",
       "            <span style=\"color: #808000; text-decoration-color: #808000\">metadata</span>=<span style=\"font-weight: bold\">{</span><span style=\"color: #008000; text-decoration-color: #008000\">'source'</span>: <span style=\"color: #008000; text-decoration-color: #008000\">'https://lilianweng.github.io/posts/2023-06-23-agent/'</span><span style=\"font-weight: bold\">}</span>,\n",
       "            <span style=\"color: #808000; text-decoration-color: #808000\">page_content</span>=<span style=\"color: #008000; text-decoration-color: #008000\">'\\n\\n      LLM Powered Autonomous Agents\\n    \\nDate: June 23, 2023  |  Estimated Reading </span>\n",
       "<span style=\"color: #008000; text-decoration-color: #008000\">Time: 31 min  |'</span>+<span style=\"color: #008080; text-decoration-color: #008080; font-weight: bold\">43030</span>\n",
       "        <span style=\"font-weight: bold\">)</span>,\n",
       "        <span style=\"color: #800080; text-decoration-color: #800080; font-weight: bold\">Document</span><span style=\"font-weight: bold\">(</span>\n",
       "            <span style=\"color: #808000; text-decoration-color: #808000\">metadata</span>=<span style=\"font-weight: bold\">{</span><span style=\"color: #008000; text-decoration-color: #008000\">'source'</span>: <span style=\"color: #008000; text-decoration-color: #008000\">'https://lilianweng.github.io/posts/2024-02-05-human-data-quality/'</span><span style=\"font-weight: bold\">}</span>,\n",
       "            <span style=\"color: #808000; text-decoration-color: #808000\">page_content</span>=<span style=\"color: #008000; text-decoration-color: #008000\">'\\n\\n      Thinking about High-Quality Human Data\\n    \\nDate: February 5, 2024  |  </span>\n",
       "<span style=\"color: #008000; text-decoration-color: #008000\">Estimated Reading Tim'</span>+<span style=\"color: #008080; text-decoration-color: #008080; font-weight: bold\">28918</span>\n",
       "        <span style=\"font-weight: bold\">)</span>\n",
       "    <span style=\"font-weight: bold\">]</span>,\n",
       "    <span style=\"color: #008000; text-decoration-color: #008000\">'answer'</span>: <span style=\"color: #008000; text-decoration-color: #008000\">'Task decomposition for LLM (large language model) agents refers to the process of breaking down </span>\n",
       "<span style=\"color: #008000; text-decoration-color: #008000\">comp'</span>+<span style=\"color: #008080; text-decoration-color: #008080; font-weight: bold\">1576</span>\n",
       "<span style=\"font-weight: bold\">}</span>\n",
       "</pre>\n"
      ],
      "text/plain": [
       "\u001b[1m{\u001b[0m\n",
       "    \u001b[32m'question'\u001b[0m: \u001b[32m'What is task decomposition for LLM agents?'\u001b[0m,\n",
       "    \u001b[32m'search_results'\u001b[0m: \u001b[1m[\u001b[0m\n",
       "        \u001b[1;35mDocument\u001b[0m\u001b[1m(\u001b[0m\n",
       "            \u001b[33mid\u001b[0m=\u001b[32m'213194f4-602f-4fc1-9959-17971b2a71ba'\u001b[0m,\n",
       "            \u001b[33mmetadata\u001b[0m=\u001b[1m{\u001b[0m\u001b[32m'doc_id'\u001b[0m: \u001b[32m'19b46fba-e616-4fd8-b299-e878d471fcd6'\u001b[0m\u001b[1m}\u001b[0m,\n",
       "            \u001b[33mpage_content\u001b[0m=\u001b[32m'The document \"LLM Powered Autonomous Agents\" by Lilian Weng delves into the development \u001b[0m\n",
       "\u001b[32mand function'\u001b[0m+\u001b[1;36m2385\u001b[0m\n",
       "        \u001b[1m)\u001b[0m,\n",
       "        \u001b[1;35mDocument\u001b[0m\u001b[1m(\u001b[0m\n",
       "            \u001b[33mid\u001b[0m=\u001b[32m'ad88eae6-8726-441c-9c8f-06c7f8a6b666'\u001b[0m,\n",
       "            \u001b[33mmetadata\u001b[0m=\u001b[1m{\u001b[0m\u001b[32m'doc_id'\u001b[0m: \u001b[32m'6b76c1f3-9c48-4e4f-aa1e-b5ffe67f2826'\u001b[0m\u001b[1m}\u001b[0m,\n",
       "            \u001b[33mpage_content\u001b[0m=\u001b[32m'The document \"Thinking about High-Quality Human Data\" by Lilian Weng discusses the \u001b[0m\n",
       "\u001b[32mimportance of hig'\u001b[0m+\u001b[1;36m1681\u001b[0m\n",
       "        \u001b[1m)\u001b[0m\n",
       "    \u001b[1m]\u001b[0m,\n",
       "    \u001b[32m'context'\u001b[0m: \u001b[1m[\u001b[0m\n",
       "        \u001b[1;35mDocument\u001b[0m\u001b[1m(\u001b[0m\n",
       "            \u001b[33mmetadata\u001b[0m=\u001b[1m{\u001b[0m\u001b[32m'source'\u001b[0m: \u001b[32m'https://lilianweng.github.io/posts/2023-06-23-agent/'\u001b[0m\u001b[1m}\u001b[0m,\n",
       "            \u001b[33mpage_content\u001b[0m=\u001b[32m'\\n\\n      LLM Powered Autonomous Agents\\n    \\nDate: June 23, 2023  |  Estimated Reading \u001b[0m\n",
       "\u001b[32mTime: 31 min  |'\u001b[0m+\u001b[1;36m43030\u001b[0m\n",
       "        \u001b[1m)\u001b[0m,\n",
       "        \u001b[1;35mDocument\u001b[0m\u001b[1m(\u001b[0m\n",
       "            \u001b[33mmetadata\u001b[0m=\u001b[1m{\u001b[0m\u001b[32m'source'\u001b[0m: \u001b[32m'https://lilianweng.github.io/posts/2024-02-05-human-data-quality/'\u001b[0m\u001b[1m}\u001b[0m,\n",
       "            \u001b[33mpage_content\u001b[0m=\u001b[32m'\\n\\n      Thinking about High-Quality Human Data\\n    \\nDate: February 5, 2024  |  \u001b[0m\n",
       "\u001b[32mEstimated Reading Tim'\u001b[0m+\u001b[1;36m28918\u001b[0m\n",
       "        \u001b[1m)\u001b[0m\n",
       "    \u001b[1m]\u001b[0m,\n",
       "    \u001b[32m'answer'\u001b[0m: \u001b[32m'Task decomposition for LLM \u001b[0m\u001b[32m(\u001b[0m\u001b[32mlarge language model\u001b[0m\u001b[32m)\u001b[0m\u001b[32m agents refers to the process of breaking down \u001b[0m\n",
       "\u001b[32mcomp'\u001b[0m+\u001b[1;36m1576\u001b[0m\n",
       "\u001b[1m}\u001b[0m\n"
      ]
     },
     "metadata": {},
     "output_type": "display_data"
    },
    {
     "data": {
      "text/html": [
       "<pre style=\"white-space:pre;overflow-x:auto;line-height:normal;font-family:Menlo,'DejaVu Sans Mono',consolas,'Courier New',monospace\">Task decomposition for LLM (large language model) agents refers to the process of breaking down complex tasks into \n",
       "smaller, more manageable subgoals. This approach helps LLM agents handle intricate tasks more efficiently by       \n",
       "tackling them step by step. Here are some key aspects of task decomposition in the context of LLM-powered          \n",
       "autonomous agents:                                                                                                 \n",
       "\n",
       "<span style=\"color: #808000; text-decoration-color: #808000; font-weight: bold\"> 1 </span><span style=\"font-weight: bold\">Chain of Thought (CoT)</span>: This technique encourages models to “think step by step,” allowing them to decompose    \n",
       "<span style=\"color: #808000; text-decoration-color: #808000; font-weight: bold\">   </span>difficult tasks into simpler components. By framing prompts that guide LLMs to articulate their reasoning       \n",
       "<span style=\"color: #808000; text-decoration-color: #808000; font-weight: bold\">   </span>process, CoT enhances the model's performance on complex queries.                                               \n",
       "<span style=\"color: #808000; text-decoration-color: #808000; font-weight: bold\"> 2 </span><span style=\"font-weight: bold\">Tree of Thoughts (ToT)</span>: Building on CoT, ToT introduces multiple reasoning possibilities at each step. It       \n",
       "<span style=\"color: #808000; text-decoration-color: #808000; font-weight: bold\">   </span>structures the problem into various thought steps and generates multiple thoughts per step, forming a tree-like \n",
       "<span style=\"color: #808000; text-decoration-color: #808000; font-weight: bold\">   </span>structure that can be explored through various search methods, such as breadth-first or depth-first search.     \n",
       "<span style=\"color: #808000; text-decoration-color: #808000; font-weight: bold\"> 3 </span><span style=\"font-weight: bold\">Human and Task-Specific Input</span>: Task decomposition can be achieved by utilizing simple prompting with specific   \n",
       "<span style=\"color: #808000; text-decoration-color: #808000; font-weight: bold\">   </span>instructions or directly soliciting human input to guide the model in identifying the necessary subgoals.       \n",
       "<span style=\"color: #808000; text-decoration-color: #808000; font-weight: bold\"> 4 </span><span style=\"font-weight: bold\">LLM+P</span>: This approach employs an external classical planner that utilizes the Planning Domain Definition Language\n",
       "<span style=\"color: #808000; text-decoration-color: #808000; font-weight: bold\">   </span>(PDDL) to outline the planning problem. LLMs translate the problem into PDDL, which is then processed by an     \n",
       "<span style=\"color: #808000; text-decoration-color: #808000; font-weight: bold\">   </span>external planner, and the output is translated back into natural language.                                      \n",
       "\n",
       "By effectively decomposing tasks, LLM agents can systematically address each subgoal, which leads to improved      \n",
       "overall performance and quality in completing complex objectives.                                                  \n",
       "</pre>\n"
      ],
      "text/plain": [
       "Task decomposition for LLM (large language model) agents refers to the process of breaking down complex tasks into \n",
       "smaller, more manageable subgoals. This approach helps LLM agents handle intricate tasks more efficiently by       \n",
       "tackling them step by step. Here are some key aspects of task decomposition in the context of LLM-powered          \n",
       "autonomous agents:                                                                                                 \n",
       "\n",
       "\u001b[1;33m 1 \u001b[0m\u001b[1mChain of Thought (CoT)\u001b[0m: This technique encourages models to “think step by step,” allowing them to decompose    \n",
       "\u001b[1;33m   \u001b[0mdifficult tasks into simpler components. By framing prompts that guide LLMs to articulate their reasoning       \n",
       "\u001b[1;33m   \u001b[0mprocess, CoT enhances the model's performance on complex queries.                                               \n",
       "\u001b[1;33m 2 \u001b[0m\u001b[1mTree of Thoughts (ToT)\u001b[0m: Building on CoT, ToT introduces multiple reasoning possibilities at each step. It       \n",
       "\u001b[1;33m   \u001b[0mstructures the problem into various thought steps and generates multiple thoughts per step, forming a tree-like \n",
       "\u001b[1;33m   \u001b[0mstructure that can be explored through various search methods, such as breadth-first or depth-first search.     \n",
       "\u001b[1;33m 3 \u001b[0m\u001b[1mHuman and Task-Specific Input\u001b[0m: Task decomposition can be achieved by utilizing simple prompting with specific   \n",
       "\u001b[1;33m   \u001b[0minstructions or directly soliciting human input to guide the model in identifying the necessary subgoals.       \n",
       "\u001b[1;33m 4 \u001b[0m\u001b[1mLLM+P\u001b[0m: This approach employs an external classical planner that utilizes the Planning Domain Definition Language\n",
       "\u001b[1;33m   \u001b[0m(PDDL) to outline the planning problem. LLMs translate the problem into PDDL, which is then processed by an     \n",
       "\u001b[1;33m   \u001b[0mexternal planner, and the output is translated back into natural language.                                      \n",
       "\n",
       "By effectively decomposing tasks, LLM agents can systematically address each subgoal, which leads to improved      \n",
       "overall performance and quality in completing complex objectives.                                                  \n"
      ]
     },
     "metadata": {},
     "output_type": "display_data"
    }
   ],
   "source": [
    "print(agent_query)\n",
    "response = graph.invoke({\"question\": agent_query})\n",
    "rprint(Pretty(response, max_string=100, no_wrap=False))\n",
    "rprint(Markdown(response[\"answer\"]))"
   ]
  },
  {
   "cell_type": "code",
   "execution_count": 29,
   "id": "b8c7b0b5-8c2c-4432-8b6e-70939306b57c",
   "metadata": {},
   "outputs": [
    {
     "name": "stdout",
     "output_type": "stream",
     "text": [
      "What are main steps for collecting human data?\n"
     ]
    },
    {
     "data": {
      "text/html": [
       "<pre style=\"white-space:pre;overflow-x:auto;line-height:normal;font-family:Menlo,'DejaVu Sans Mono',consolas,'Courier New',monospace\"><span style=\"font-weight: bold\">{</span>\n",
       "    <span style=\"color: #008000; text-decoration-color: #008000\">'question'</span>: <span style=\"color: #008000; text-decoration-color: #008000\">'What are main steps for collecting human data?'</span>,\n",
       "    <span style=\"color: #008000; text-decoration-color: #008000\">'search_results'</span>: <span style=\"font-weight: bold\">[</span>\n",
       "        <span style=\"color: #800080; text-decoration-color: #800080; font-weight: bold\">Document</span><span style=\"font-weight: bold\">(</span>\n",
       "            <span style=\"color: #808000; text-decoration-color: #808000\">id</span>=<span style=\"color: #008000; text-decoration-color: #008000\">'ad88eae6-8726-441c-9c8f-06c7f8a6b666'</span>,\n",
       "            <span style=\"color: #808000; text-decoration-color: #808000\">metadata</span>=<span style=\"font-weight: bold\">{</span><span style=\"color: #008000; text-decoration-color: #008000\">'doc_id'</span>: <span style=\"color: #008000; text-decoration-color: #008000\">'6b76c1f3-9c48-4e4f-aa1e-b5ffe67f2826'</span><span style=\"font-weight: bold\">}</span>,\n",
       "            <span style=\"color: #808000; text-decoration-color: #808000\">page_content</span>=<span style=\"color: #008000; text-decoration-color: #008000\">'The document \"Thinking about High-Quality Human Data\" by Lilian Weng discusses the </span>\n",
       "<span style=\"color: #008000; text-decoration-color: #008000\">importance of hig'</span>+<span style=\"color: #008080; text-decoration-color: #008080; font-weight: bold\">1681</span>\n",
       "        <span style=\"font-weight: bold\">)</span>,\n",
       "        <span style=\"color: #800080; text-decoration-color: #800080; font-weight: bold\">Document</span><span style=\"font-weight: bold\">(</span>\n",
       "            <span style=\"color: #808000; text-decoration-color: #808000\">id</span>=<span style=\"color: #008000; text-decoration-color: #008000\">'213194f4-602f-4fc1-9959-17971b2a71ba'</span>,\n",
       "            <span style=\"color: #808000; text-decoration-color: #808000\">metadata</span>=<span style=\"font-weight: bold\">{</span><span style=\"color: #008000; text-decoration-color: #008000\">'doc_id'</span>: <span style=\"color: #008000; text-decoration-color: #008000\">'19b46fba-e616-4fd8-b299-e878d471fcd6'</span><span style=\"font-weight: bold\">}</span>,\n",
       "            <span style=\"color: #808000; text-decoration-color: #808000\">page_content</span>=<span style=\"color: #008000; text-decoration-color: #008000\">'The document \"LLM Powered Autonomous Agents\" by Lilian Weng delves into the development </span>\n",
       "<span style=\"color: #008000; text-decoration-color: #008000\">and function'</span>+<span style=\"color: #008080; text-decoration-color: #008080; font-weight: bold\">2385</span>\n",
       "        <span style=\"font-weight: bold\">)</span>\n",
       "    <span style=\"font-weight: bold\">]</span>,\n",
       "    <span style=\"color: #008000; text-decoration-color: #008000\">'context'</span>: <span style=\"font-weight: bold\">[</span>\n",
       "        <span style=\"color: #800080; text-decoration-color: #800080; font-weight: bold\">Document</span><span style=\"font-weight: bold\">(</span>\n",
       "            <span style=\"color: #808000; text-decoration-color: #808000\">metadata</span>=<span style=\"font-weight: bold\">{</span><span style=\"color: #008000; text-decoration-color: #008000\">'source'</span>: <span style=\"color: #008000; text-decoration-color: #008000\">'https://lilianweng.github.io/posts/2024-02-05-human-data-quality/'</span><span style=\"font-weight: bold\">}</span>,\n",
       "            <span style=\"color: #808000; text-decoration-color: #808000\">page_content</span>=<span style=\"color: #008000; text-decoration-color: #008000\">'\\n\\n      Thinking about High-Quality Human Data\\n    \\nDate: February 5, 2024  |  </span>\n",
       "<span style=\"color: #008000; text-decoration-color: #008000\">Estimated Reading Tim'</span>+<span style=\"color: #008080; text-decoration-color: #008080; font-weight: bold\">28918</span>\n",
       "        <span style=\"font-weight: bold\">)</span>,\n",
       "        <span style=\"color: #800080; text-decoration-color: #800080; font-weight: bold\">Document</span><span style=\"font-weight: bold\">(</span>\n",
       "            <span style=\"color: #808000; text-decoration-color: #808000\">metadata</span>=<span style=\"font-weight: bold\">{</span><span style=\"color: #008000; text-decoration-color: #008000\">'source'</span>: <span style=\"color: #008000; text-decoration-color: #008000\">'https://lilianweng.github.io/posts/2023-06-23-agent/'</span><span style=\"font-weight: bold\">}</span>,\n",
       "            <span style=\"color: #808000; text-decoration-color: #808000\">page_content</span>=<span style=\"color: #008000; text-decoration-color: #008000\">'\\n\\n      LLM Powered Autonomous Agents\\n    \\nDate: June 23, 2023  |  Estimated Reading </span>\n",
       "<span style=\"color: #008000; text-decoration-color: #008000\">Time: 31 min  |'</span>+<span style=\"color: #008080; text-decoration-color: #008080; font-weight: bold\">43030</span>\n",
       "        <span style=\"font-weight: bold\">)</span>\n",
       "    <span style=\"font-weight: bold\">]</span>,\n",
       "    <span style=\"color: #008000; text-decoration-color: #008000\">'answer'</span>: <span style=\"color: #008000; text-decoration-color: #008000\">'The main steps for collecting human data, as outlined in the provided context, are:\\n\\n1. **Task </span>\n",
       "<span style=\"color: #008000; text-decoration-color: #008000\">Desig'</span>+<span style=\"color: #008080; text-decoration-color: #008080; font-weight: bold\">758</span>\n",
       "<span style=\"font-weight: bold\">}</span>\n",
       "</pre>\n"
      ],
      "text/plain": [
       "\u001b[1m{\u001b[0m\n",
       "    \u001b[32m'question'\u001b[0m: \u001b[32m'What are main steps for collecting human data?'\u001b[0m,\n",
       "    \u001b[32m'search_results'\u001b[0m: \u001b[1m[\u001b[0m\n",
       "        \u001b[1;35mDocument\u001b[0m\u001b[1m(\u001b[0m\n",
       "            \u001b[33mid\u001b[0m=\u001b[32m'ad88eae6-8726-441c-9c8f-06c7f8a6b666'\u001b[0m,\n",
       "            \u001b[33mmetadata\u001b[0m=\u001b[1m{\u001b[0m\u001b[32m'doc_id'\u001b[0m: \u001b[32m'6b76c1f3-9c48-4e4f-aa1e-b5ffe67f2826'\u001b[0m\u001b[1m}\u001b[0m,\n",
       "            \u001b[33mpage_content\u001b[0m=\u001b[32m'The document \"Thinking about High-Quality Human Data\" by Lilian Weng discusses the \u001b[0m\n",
       "\u001b[32mimportance of hig'\u001b[0m+\u001b[1;36m1681\u001b[0m\n",
       "        \u001b[1m)\u001b[0m,\n",
       "        \u001b[1;35mDocument\u001b[0m\u001b[1m(\u001b[0m\n",
       "            \u001b[33mid\u001b[0m=\u001b[32m'213194f4-602f-4fc1-9959-17971b2a71ba'\u001b[0m,\n",
       "            \u001b[33mmetadata\u001b[0m=\u001b[1m{\u001b[0m\u001b[32m'doc_id'\u001b[0m: \u001b[32m'19b46fba-e616-4fd8-b299-e878d471fcd6'\u001b[0m\u001b[1m}\u001b[0m,\n",
       "            \u001b[33mpage_content\u001b[0m=\u001b[32m'The document \"LLM Powered Autonomous Agents\" by Lilian Weng delves into the development \u001b[0m\n",
       "\u001b[32mand function'\u001b[0m+\u001b[1;36m2385\u001b[0m\n",
       "        \u001b[1m)\u001b[0m\n",
       "    \u001b[1m]\u001b[0m,\n",
       "    \u001b[32m'context'\u001b[0m: \u001b[1m[\u001b[0m\n",
       "        \u001b[1;35mDocument\u001b[0m\u001b[1m(\u001b[0m\n",
       "            \u001b[33mmetadata\u001b[0m=\u001b[1m{\u001b[0m\u001b[32m'source'\u001b[0m: \u001b[32m'https://lilianweng.github.io/posts/2024-02-05-human-data-quality/'\u001b[0m\u001b[1m}\u001b[0m,\n",
       "            \u001b[33mpage_content\u001b[0m=\u001b[32m'\\n\\n      Thinking about High-Quality Human Data\\n    \\nDate: February 5, 2024  |  \u001b[0m\n",
       "\u001b[32mEstimated Reading Tim'\u001b[0m+\u001b[1;36m28918\u001b[0m\n",
       "        \u001b[1m)\u001b[0m,\n",
       "        \u001b[1;35mDocument\u001b[0m\u001b[1m(\u001b[0m\n",
       "            \u001b[33mmetadata\u001b[0m=\u001b[1m{\u001b[0m\u001b[32m'source'\u001b[0m: \u001b[32m'https://lilianweng.github.io/posts/2023-06-23-agent/'\u001b[0m\u001b[1m}\u001b[0m,\n",
       "            \u001b[33mpage_content\u001b[0m=\u001b[32m'\\n\\n      LLM Powered Autonomous Agents\\n    \\nDate: June 23, 2023  |  Estimated Reading \u001b[0m\n",
       "\u001b[32mTime: 31 min  |'\u001b[0m+\u001b[1;36m43030\u001b[0m\n",
       "        \u001b[1m)\u001b[0m\n",
       "    \u001b[1m]\u001b[0m,\n",
       "    \u001b[32m'answer'\u001b[0m: \u001b[32m'The main steps for collecting human data, as outlined in the provided context, are:\\n\\n1. **Task \u001b[0m\n",
       "\u001b[32mDesig'\u001b[0m+\u001b[1;36m758\u001b[0m\n",
       "\u001b[1m}\u001b[0m\n"
      ]
     },
     "metadata": {},
     "output_type": "display_data"
    },
    {
     "data": {
      "text/html": [
       "<pre style=\"white-space:pre;overflow-x:auto;line-height:normal;font-family:Menlo,'DejaVu Sans Mono',consolas,'Courier New',monospace\">The main steps for collecting human data, as outlined in the provided context, are:                                \n",
       "\n",
       "<span style=\"color: #808000; text-decoration-color: #808000; font-weight: bold\"> 1 </span><span style=\"font-weight: bold\">Task Design</span>: Design the task workflow to improve clarity and reduce complexity. This involves creating detailed \n",
       "<span style=\"color: #808000; text-decoration-color: #808000; font-weight: bold\">   </span>guidelines that are useful without being overly complicated.                                                    \n",
       "<span style=\"color: #808000; text-decoration-color: #808000; font-weight: bold\"> 2 </span><span style=\"font-weight: bold\">Select and Train a Pool of Raters</span>: Choose annotators who have the appropriate skill sets and ensure consistency.\n",
       "<span style=\"color: #808000; text-decoration-color: #808000; font-weight: bold\">   </span>This also includes conducting training sessions and providing regular feedback and calibration sessions after   \n",
       "<span style=\"color: #808000; text-decoration-color: #808000; font-weight: bold\">   </span>onboarding.                                                                                                     \n",
       "<span style=\"color: #808000; text-decoration-color: #808000; font-weight: bold\"> 3 </span><span style=\"font-weight: bold\">Collect and Aggregate Data</span>: This stage involves the actual collection of data from the raters and applying      \n",
       "<span style=\"color: #808000; text-decoration-color: #808000; font-weight: bold\">   </span>machine learning techniques to clean, filter, and aggregate the data, aiming to identify the true labels.       \n",
       "\n",
       "These steps are critical for ensuring the quality of human-annotated data, which is essential for training deep    \n",
       "learning models.                                                                                                   \n",
       "</pre>\n"
      ],
      "text/plain": [
       "The main steps for collecting human data, as outlined in the provided context, are:                                \n",
       "\n",
       "\u001b[1;33m 1 \u001b[0m\u001b[1mTask Design\u001b[0m: Design the task workflow to improve clarity and reduce complexity. This involves creating detailed \n",
       "\u001b[1;33m   \u001b[0mguidelines that are useful without being overly complicated.                                                    \n",
       "\u001b[1;33m 2 \u001b[0m\u001b[1mSelect and Train a Pool of Raters\u001b[0m: Choose annotators who have the appropriate skill sets and ensure consistency.\n",
       "\u001b[1;33m   \u001b[0mThis also includes conducting training sessions and providing regular feedback and calibration sessions after   \n",
       "\u001b[1;33m   \u001b[0monboarding.                                                                                                     \n",
       "\u001b[1;33m 3 \u001b[0m\u001b[1mCollect and Aggregate Data\u001b[0m: This stage involves the actual collection of data from the raters and applying      \n",
       "\u001b[1;33m   \u001b[0mmachine learning techniques to clean, filter, and aggregate the data, aiming to identify the true labels.       \n",
       "\n",
       "These steps are critical for ensuring the quality of human-annotated data, which is essential for training deep    \n",
       "learning models.                                                                                                   \n"
      ]
     },
     "metadata": {},
     "output_type": "display_data"
    }
   ],
   "source": [
    "print(human_data_query)\n",
    "response = graph.invoke({\"question\": human_data_query})\n",
    "rprint(Pretty(response, max_string=100, no_wrap=False))\n",
    "rprint(Markdown(response[\"answer\"]))"
   ]
  }
 ],
 "metadata": {
  "kernelspec": {
   "display_name": "Python 3 (ipykernel)",
   "language": "python",
   "name": "python3"
  },
  "language_info": {
   "codemirror_mode": {
    "name": "ipython",
    "version": 3
   },
   "file_extension": ".py",
   "mimetype": "text/x-python",
   "name": "python",
   "nbconvert_exporter": "python",
   "pygments_lexer": "ipython3",
   "version": "3.11.11"
  }
 },
 "nbformat": 4,
 "nbformat_minor": 5
}
